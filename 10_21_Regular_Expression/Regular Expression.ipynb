{
 "cells": [
  {
   "cell_type": "code",
   "execution_count": 1,
   "id": "terminal-sunday",
   "metadata": {},
   "outputs": [],
   "source": [
    "import re"
   ]
  },
  {
   "cell_type": "code",
   "execution_count": 2,
   "id": "parliamentary-livestock",
   "metadata": {},
   "outputs": [
    {
     "name": "stdout",
     "output_type": "stream",
     "text": [
      "['5678 9874 2564']\n"
     ]
    }
   ],
   "source": [
    "aadhar=\"\"\"0125 2563 2456     # invalid\n",
    "          1256 5879 5555     # invalid\n",
    "          5678 9874 2564     # valid\n",
    "          125632 124 56      # invalid\n",
    "          \"\"\"\n",
    "aadhar_num=re.findall('[2-9][0-9]{3}\\\\s[0-9]{4}\\\\s[0-9]{4}',aadhar)  # \\\\s for white space\n",
    "print(aadhar_num)"
   ]
  },
  {
   "cell_type": "code",
   "execution_count": 8,
   "id": "great-tourism",
   "metadata": {},
   "outputs": [
    {
     "name": "stdout",
     "output_type": "stream",
     "text": [
      "['A2096457', 'A2096457']\n"
     ]
    }
   ],
   "source": [
    "text=\"\"\"A2096457”\n",
    "        12096457\n",
    "        A209645704\"\"\"\n",
    "\n",
    "passport_num=re.findall('[A-Z][1-9][0-9][0-9]{4}[1-9]{1}',text)\n",
    "print(passport_num)"
   ]
  },
  {
   "cell_type": "code",
   "execution_count": 9,
   "id": "overall-hygiene",
   "metadata": {},
   "outputs": [
    {
     "name": "stdout",
     "output_type": "stream",
     "text": [
      "['MH41 20110013160', 'MH03-23110473160']\n"
     ]
    }
   ],
   "source": [
    "#DL\n",
    "\n",
    "no = 'MH41 20110013160 MH03-23110473160 MH11 123231212'\n",
    "\n",
    "DL = re.findall('[A-Z]{2}[0-9]{2}[ ][0-9]{11}|[A-Z]{2}[0-9]{2}[-][0-9]{11}',no)\n",
    "print(DL)\n",
    "# Driving lic."
   ]
  },
  {
   "cell_type": "code",
   "execution_count": 11,
   "id": "welcome-friday",
   "metadata": {},
   "outputs": [
    {
     "name": "stdout",
     "output_type": "stream",
     "text": [
      "['1245 3477 8903']\n"
     ]
    }
   ],
   "source": [
    "#AADHAR\n",
    "\n",
    "a = '1245 3477 8903'\n",
    "\n",
    "aadhar = re.findall('[0-9]{4}[ ][0-9]{4}[ ][0-9]{4}',a)\n",
    "print(aadhar)"
   ]
  },
  {
   "cell_type": "markdown",
   "id": "driven-violence",
   "metadata": {},
   "source": [
    "# Special Sequences"
   ]
  },
  {
   "cell_type": "code",
   "execution_count": 12,
   "id": "senior-architecture",
   "metadata": {},
   "outputs": [
    {
     "name": "stdout",
     "output_type": "stream",
     "text": [
      "['1245 3477 8903']\n"
     ]
    }
   ],
   "source": [
    "a = '1245 3477 8903'\n",
    "\n",
    "aadhar = re.findall('[0-9]{4}[ ][0-9]{4}[ ][0-9]{4}',a)\n",
    "print(aadhar)"
   ]
  },
  {
   "cell_type": "markdown",
   "id": "conservative-drill",
   "metadata": {},
   "source": [
    "# 1. \\d"
   ]
  },
  {
   "cell_type": "raw",
   "id": "christian-ability",
   "metadata": {},
   "source": [
    "\\d >> [0-9]"
   ]
  },
  {
   "cell_type": "code",
   "execution_count": 14,
   "id": "still-antigua",
   "metadata": {},
   "outputs": [
    {
     "name": "stdout",
     "output_type": "stream",
     "text": [
      "['1245 3477 8903']\n"
     ]
    }
   ],
   "source": [
    "a = '1245 3477 8903'\n",
    "\n",
    "aadhar = re.findall('\\d{4}[ ]\\d{4}[ ]\\d{4}',a)\n",
    "print(aadhar)"
   ]
  },
  {
   "cell_type": "code",
   "execution_count": 16,
   "id": "mighty-configuration",
   "metadata": {},
   "outputs": [
    {
     "name": "stdout",
     "output_type": "stream",
     "text": [
      "['MH41 20110013160', 'MH03 23110473160']\n"
     ]
    }
   ],
   "source": [
    "\n",
    "no = 'MH41 20110013160 MH03 23110473160 MH11 123231212'\n",
    "\n",
    "DL = re.findall('[A-Z]{2}\\d{2}[ ]\\d{11}',no)\n",
    "print(DL)\n"
   ]
  },
  {
   "cell_type": "markdown",
   "id": "further-float",
   "metadata": {},
   "source": [
    "# 2. \\D"
   ]
  },
  {
   "cell_type": "raw",
   "id": "organizational-prototype",
   "metadata": {},
   "source": [
    "\\D >> except [0-9] >> [^0-9]"
   ]
  },
  {
   "cell_type": "code",
   "execution_count": 19,
   "id": "fifteen-journey",
   "metadata": {},
   "outputs": [
    {
     "name": "stdout",
     "output_type": "stream",
     "text": [
      "['123', '456', '908', '778'] 4\n"
     ]
    }
   ],
   "source": [
    "text  = '''Data science is an interdisciplinary field that uses scientific methods,\n",
    "123456 90876 7789\n",
    "processes, algorithms and systems to #$ % * extract knowledge and insights from noisy, \n",
    "structured and unstructured data'''\n",
    "\n",
    "result = re.findall('\\d{3}',text)\n",
    "print(result,len(result))\n"
   ]
  },
  {
   "cell_type": "code",
   "execution_count": 21,
   "id": "spread-maryland",
   "metadata": {},
   "outputs": [
    {
     "name": "stdout",
     "output_type": "stream",
     "text": [
      "['Dat', 'a s', 'cie', 'nce', ' is', ' an', ' in', 'ter', 'dis', 'cip', 'lin', 'ary', ' fi', 'eld', ' th', 'at ', 'use', 's s', 'cie', 'nti', 'fic', ' me', 'tho', 'ds,', '\\npr', 'oce', 'sse', 's, ', 'alg', 'ori', 'thm', 's a', 'nd ', 'sys', 'tem', 's t', 'o #', '$ %', ' * ', 'ext', 'rac', 't k', 'now', 'led', 'ge ', 'and', ' in', 'sig', 'hts', ' fr', 'om ', 'noi', 'sy,', ' \\ns', 'tru', 'ctu', 'red', ' an', 'd u', 'nst', 'ruc', 'tur', 'ed ', 'dat'] 64\n"
     ]
    }
   ],
   "source": [
    "text  = '''Data science is an interdisciplinary field that uses scientific methods,\n",
    "123456 90876 7789\n",
    "processes, algorithms and systems to #$ % * extract knowledge and insights from noisy, \n",
    "structured and unstructured data'''\n",
    "\n",
    "result = re.findall('\\D{3}',text)\n",
    "print(result,len(result))\n"
   ]
  },
  {
   "cell_type": "code",
   "execution_count": 26,
   "id": "returning-lying",
   "metadata": {},
   "outputs": [
    {
     "name": "stdout",
     "output_type": "stream",
     "text": [
      "['D', 'a', 't', 'a', ' ', 's', 'c', 'i', 'e', 'n', 'c', 'e', ' ', '$', 'i', 's', ' ', ' ', ' '] 19\n"
     ]
    }
   ],
   "source": [
    "text  = '''Data science $is 123456 90876 7789'''\n",
    "\n",
    "result = re.findall('\\D',text)\n",
    "print(result,len(result))\n"
   ]
  },
  {
   "cell_type": "markdown",
   "id": "union-flight",
   "metadata": {},
   "source": [
    "# 3. \\s"
   ]
  },
  {
   "cell_type": "raw",
   "id": "smooth-background",
   "metadata": {},
   "source": [
    "\\s >> [ ]"
   ]
  },
  {
   "cell_type": "code",
   "execution_count": 28,
   "id": "colonial-lindsay",
   "metadata": {},
   "outputs": [
    {
     "name": "stdout",
     "output_type": "stream",
     "text": [
      "[' ', ' ', ' ', ' ', ' '] 5\n"
     ]
    }
   ],
   "source": [
    "text  = '''Data science $is 123456 90876 7789'''\n",
    "\n",
    "result = re.findall('\\s',text)\n",
    "print(result,len(result))\n"
   ]
  },
  {
   "cell_type": "code",
   "execution_count": 30,
   "id": "scheduled-representation",
   "metadata": {},
   "outputs": [
    {
     "name": "stdout",
     "output_type": "stream",
     "text": [
      "[' ', ' ', ' ', ' ', ' ', ' '] 6\n"
     ]
    }
   ],
   "source": [
    "text  = '''Data science $is 123456 90876  7789'''\n",
    "\n",
    "result = re.findall('\\s',text)\n",
    "print(result,len(result))"
   ]
  },
  {
   "cell_type": "code",
   "execution_count": 31,
   "id": "aerial-demand",
   "metadata": {},
   "outputs": [
    {
     "name": "stdout",
     "output_type": "stream",
     "text": [
      "['  '] 1\n"
     ]
    }
   ],
   "source": [
    "text  = '''Data science $is 123456 90876  7789'''\n",
    "\n",
    "result = re.findall('\\s{2}',text)\n",
    "print(result,len(result))"
   ]
  },
  {
   "cell_type": "code",
   "execution_count": 33,
   "id": "descending-ethernet",
   "metadata": {},
   "outputs": [
    {
     "name": "stdout",
     "output_type": "stream",
     "text": [
      "['  '] 1\n"
     ]
    }
   ],
   "source": [
    "text  = '''Data science $is 123456 90876  7789'''\n",
    "\n",
    "result = re.findall('[ ]{2}',text)\n",
    "print(result,len(result))"
   ]
  },
  {
   "cell_type": "code",
   "execution_count": 35,
   "id": "stone-standard",
   "metadata": {},
   "outputs": [
    {
     "name": "stdout",
     "output_type": "stream",
     "text": [
      "['1245 3477 8903']\n"
     ]
    }
   ],
   "source": [
    "a = '1245 3477 8903'\n",
    "\n",
    "aadhar = re.findall('[0-9]{4}\\s[0-9]{4}\\s[0-9]{4}',a)\n",
    "print(aadhar)"
   ]
  },
  {
   "cell_type": "markdown",
   "id": "gross-medicaid",
   "metadata": {},
   "source": [
    "# 4. \\S"
   ]
  },
  {
   "cell_type": "raw",
   "id": "graduate-humor",
   "metadata": {},
   "source": [
    "\\S >> except space"
   ]
  },
  {
   "cell_type": "code",
   "execution_count": 41,
   "id": "operating-shield",
   "metadata": {},
   "outputs": [
    {
     "name": "stdout",
     "output_type": "stream",
     "text": [
      "['D', 'a', 't', 'a', '7', '7', '8', '9'] 8\n"
     ]
    }
   ],
   "source": [
    "text  = '''Data 7789'''\n",
    "\n",
    "result = re.findall('\\S',text)\n",
    "print(result,len(result))"
   ]
  },
  {
   "cell_type": "code",
   "execution_count": 44,
   "id": "aging-glucose",
   "metadata": {},
   "outputs": [
    {
     "name": "stdout",
     "output_type": "stream",
     "text": [
      "['Data', '7789'] 2\n"
     ]
    }
   ],
   "source": [
    "text  = '''   Data 7789   '''\n",
    "\n",
    "result = re.findall('\\S{4}',text)\n",
    "print(result,len(result))"
   ]
  },
  {
   "cell_type": "markdown",
   "id": "biblical-cooper",
   "metadata": {},
   "source": [
    "# 5. \\w"
   ]
  },
  {
   "cell_type": "raw",
   "id": "national-sponsorship",
   "metadata": {},
   "source": [
    "\\w >> [a-zA-Z0-9]"
   ]
  },
  {
   "cell_type": "code",
   "execution_count": 46,
   "id": "better-credit",
   "metadata": {},
   "outputs": [
    {
     "name": "stdout",
     "output_type": "stream",
     "text": [
      "['D', 'a', 't', 'a', 's', 'c', 'i', 'e', 'n', 'c', 'e', 'i', 's', 'a', 'n', 'i', 'n', 't', 'e', 'r', 'd', 'i', 's', 'c', 'i', 'p', 'l', 'i', 'n', 'a', 'r', 'y', 'f', 'i', 'e', 'l', 'd', 't', 'h', 'a', 't', 'u', 's', 'e', 's', 's', 'c', 'i', 'e', 'n', 't', 'i', 'f', 'i', 'c', 'm', 'e', 't', 'h', 'o', 'd', 's', '1', '2', '3', '4', '5', '6', '9', '0', '8', '7', '6', '7', '7', '8', '9'] 77\n"
     ]
    }
   ],
   "source": [
    "text  = '''Data science is an interdisciplinary #$% *^ field that uses scientific methods,\n",
    "123456 90876 7789'''\n",
    "\n",
    "result = re.findall('\\w',text)\n",
    "print(result,len(result))\n"
   ]
  },
  {
   "cell_type": "code",
   "execution_count": 50,
   "id": "supported-output",
   "metadata": {},
   "outputs": [
    {
     "name": "stdout",
     "output_type": "stream",
     "text": [
      "['D', 'a', 't', 'a', 's', 'c', 'i', 'e', 'n', 'c', 'e', '1', '2', '3', '4', '5', '6'] 17\n"
     ]
    }
   ],
   "source": [
    "text  = '''Data science #$% *^ 123456'''\n",
    "\n",
    "result = re.findall('\\w',text)\n",
    "print(result,len(result))\n"
   ]
  },
  {
   "cell_type": "code",
   "execution_count": 52,
   "id": "opened-frederick",
   "metadata": {},
   "outputs": [
    {
     "name": "stdout",
     "output_type": "stream",
     "text": [
      "['1245 3477 8903']\n"
     ]
    }
   ],
   "source": [
    "a = '1245 3477 8903'\n",
    "\n",
    "aadhar = re.findall('\\w{4}[ ]\\w{4}[ ]\\w{4}',a)\n",
    "print(aadhar)"
   ]
  },
  {
   "cell_type": "code",
   "execution_count": 56,
   "id": "perfect-swaziland",
   "metadata": {},
   "outputs": [
    {
     "data": {
      "text/plain": [
       "['SBIN0001245', 'HDFC0000393']"
      ]
     },
     "execution_count": 56,
     "metadata": {},
     "output_type": "execute_result"
    }
   ],
   "source": [
    "text = \"\"\"IFSC is : SBIN0001245\n",
    "       HDFC IFSC : HDFC0000393\"\"\"\n",
    "\n",
    "ifsc = re.findall('\\w{11}',text)\n",
    "ifsc"
   ]
  },
  {
   "cell_type": "code",
   "execution_count": 58,
   "id": "greenhouse-inspector",
   "metadata": {},
   "outputs": [
    {
     "data": {
      "text/plain": [
       "['SBIN0001245', 'HDFC0000393']"
      ]
     },
     "execution_count": 58,
     "metadata": {},
     "output_type": "execute_result"
    }
   ],
   "source": [
    "text = \"\"\"IFSC is : SBIN0001245\n",
    "       HDFC IFSC : HDFC0000393\"\"\"\n",
    "\n",
    "ifsc = re.findall('[A-Z]{4}\\d{7}',text)\n",
    "ifsc"
   ]
  },
  {
   "cell_type": "code",
   "execution_count": 60,
   "id": "olympic-studio",
   "metadata": {},
   "outputs": [
    {
     "name": "stdout",
     "output_type": "stream",
     "text": [
      "['SBIN0001245', 'HDFC0000393']\n",
      "['ASDFG8970Q']\n"
     ]
    }
   ],
   "source": [
    "text = \"\"\"IFSC is : SBIN0001245\n",
    "       HDFC IFSC : HDFC0000393\n",
    "       PAN CARD Number : ASDFG8970Q \"\"\"\n",
    "\n",
    "ifsc = re.findall('[A-Z]{4}\\d{7}',text)\n",
    "print(ifsc)\n",
    "\n",
    "pan = re.findall('[A-Z]{5}\\d{4}[A-Z]',text)\n",
    "print(pan)"
   ]
  },
  {
   "cell_type": "markdown",
   "id": "fluid-enhancement",
   "metadata": {},
   "source": [
    "# 6. \\W"
   ]
  },
  {
   "cell_type": "code",
   "execution_count": null,
   "id": "functioning-marketplace",
   "metadata": {},
   "outputs": [],
   "source": [
    "\\W >> Except [a-zA-Z0-9]\n",
    "\\W >> [^a-zA-Z0-9]"
   ]
  },
  {
   "cell_type": "code",
   "execution_count": 65,
   "id": "eligible-emission",
   "metadata": {},
   "outputs": [
    {
     "name": "stdout",
     "output_type": "stream",
     "text": [
      "[' ', ' ', ':', '#', '$', '%', '^', ' ']\n"
     ]
    }
   ],
   "source": [
    "text = \"\"\"IFSC is :#$%^ SBIN0001245\"\"\"\n",
    "\n",
    "ifsc = re.findall('\\W',text)\n",
    "print(ifsc)"
   ]
  },
  {
   "cell_type": "markdown",
   "id": "operating-genesis",
   "metadata": {},
   "source": [
    "# 7. \\b"
   ]
  },
  {
   "cell_type": "raw",
   "id": "underlying-bulgaria",
   "metadata": {},
   "source": [
    "Check for characters at begining of word or end of word"
   ]
  },
  {
   "cell_type": "code",
   "execution_count": 72,
   "id": "endless-terrain",
   "metadata": {},
   "outputs": [
    {
     "name": "stdout",
     "output_type": "stream",
     "text": [
      "['SBIN0001245', 'HDFC0000393', 'HDFC0000393', 'SBIN3000124']\n"
     ]
    }
   ],
   "source": [
    "text = \"\"\"IFSC is : SBIN0001245    # Valid\n",
    "       HDFC IFSC : HDFC0000393     # Valid\n",
    "               WERTHDFC0000393     # Invalid\n",
    "               HDFC0000393345678   # Invalid \n",
    "               SBIN30001245        # InValid\"\"\"\n",
    "\n",
    "ifsc = re.findall(r'\\b[A-Z]{4}\\d{7}',text)\n",
    "print(ifsc)\n"
   ]
  },
  {
   "cell_type": "code",
   "execution_count": 75,
   "id": "loose-indie",
   "metadata": {},
   "outputs": [
    {
     "name": "stdout",
     "output_type": "stream",
     "text": [
      "['SBIN0001245', 'HDFC0000393']\n"
     ]
    }
   ],
   "source": [
    "text = \"\"\"IFSC is : SBIN0001245    # Valid\n",
    "       HDFC IFSC : HDFC0000393     # Valid\n",
    "               WERTHDFC0000393     # Invalid\n",
    "               HDFC0000393345678   # Invalid \n",
    "               SBIN30001245        # InValid\"\"\"\n",
    "\n",
    "ifsc = re.findall(r'\\b[A-Z]{4}\\d{7}\\b',text)\n",
    "print(ifsc)\n"
   ]
  },
  {
   "cell_type": "code",
   "execution_count": 78,
   "id": "backed-salvation",
   "metadata": {},
   "outputs": [
    {
     "name": "stdout",
     "output_type": "stream",
     "text": [
      "['9089087656', '9404283030', '9234098760', '9845678008', '9403548878', '9878907656'] 6\n"
     ]
    }
   ],
   "source": [
    "text = \"\"\"Mobile is : 9089087656   # Valid\n",
    "                    9404283030     # Valid\n",
    "                    923409876012   # Invalid\n",
    "                    A9845678008    # Invalid\n",
    "                    9403548878     # Valid\n",
    "                    987890765612   # Invalid\n",
    "                    \"\"\"\n",
    "\n",
    "mobile_number = re.findall('[0-9]{10}',text)\n",
    "print(mobile_number,len(mobile_number))\n"
   ]
  },
  {
   "cell_type": "code",
   "execution_count": 80,
   "id": "nutritional-longitude",
   "metadata": {},
   "outputs": [
    {
     "name": "stdout",
     "output_type": "stream",
     "text": [
      "['9089087656', '9404283030', '9234098760', '9845678008', '9403548878', '9878907656'] 6\n"
     ]
    }
   ],
   "source": [
    "text = \"\"\"Mobile is : 9089087656   # Valid\n",
    "                    9404283030     # Valid\n",
    "                    923409876012   # Invalid\n",
    "                    A9845678008    # Invalid\n",
    "                    9403548878     # Valid\n",
    "                    987890765612   # Invalid\n",
    "                    \"\"\"\n",
    "\n",
    "mobile_number = re.findall('\\d{10}',text)\n",
    "print(mobile_number,len(mobile_number))"
   ]
  },
  {
   "cell_type": "code",
   "execution_count": 84,
   "id": "voluntary-ownership",
   "metadata": {},
   "outputs": [
    {
     "name": "stdout",
     "output_type": "stream",
     "text": [
      "['9089087656', '9404283030', '9403548878'] 3\n"
     ]
    }
   ],
   "source": [
    "text = \"\"\"Mobile is : 9089087656   # Valid\n",
    "                    9404283030     # Valid\n",
    "                    923409876012   # Invalid\n",
    "                    A9845678008    # Invalid\n",
    "                    9403548878     # Valid\n",
    "                    987890765612   # Invalid\n",
    "                    \"\"\"\n",
    "\n",
    "mobile_number = re.findall(r'\\b\\d{10}\\b',text)\n",
    "print(mobile_number,len(mobile_number))"
   ]
  },
  {
   "cell_type": "code",
   "execution_count": 96,
   "id": "single-harrison",
   "metadata": {},
   "outputs": [
    {
     "name": "stdout",
     "output_type": "stream",
     "text": [
      "['A9845678008'] 1\n"
     ]
    }
   ],
   "source": [
    "text = \"\"\"Mobile is : 9089087650   # Valid\n",
    "                    9404283030     # Valid\n",
    "                    923409876012   # Invalid\n",
    "                    A9845678008    # Invalid\n",
    "                    9403548878     # Valid\n",
    "                    987890765612   # Invalid\n",
    "                    \"\"\"\n",
    "\n",
    "mobile_number = re.findall(r'\\b[A-Z]\\d{10}\\b',text)  # 11\n",
    "print(mobile_number,len(mobile_number))"
   ]
  },
  {
   "cell_type": "code",
   "execution_count": 98,
   "id": "express-structure",
   "metadata": {},
   "outputs": [
    {
     "name": "stdout",
     "output_type": "stream",
     "text": [
      "['pytho', 'class'] 2\n"
     ]
    }
   ],
   "source": [
    "text= 'python class pune'\n",
    "\n",
    "result = re.findall('\\w{5}',text)\n",
    "print(result,len(result))"
   ]
  },
  {
   "cell_type": "code",
   "execution_count": 100,
   "id": "consecutive-cleanup",
   "metadata": {},
   "outputs": [
    {
     "name": "stdout",
     "output_type": "stream",
     "text": [
      "['class'] 1\n"
     ]
    }
   ],
   "source": [
    "text= 'python class pune'\n",
    "\n",
    "result = re.findall(r'\\b\\w{5}\\b',text)\n",
    "print(result,len(result))"
   ]
  },
  {
   "cell_type": "code",
   "execution_count": 102,
   "id": "civic-spice",
   "metadata": {},
   "outputs": [
    {
     "name": "stdout",
     "output_type": "stream",
     "text": [
      "['class'] 1\n"
     ]
    }
   ],
   "source": [
    "text= 'velocity corporate training center, python and Data science class pune'\n",
    "\n",
    "result = re.findall(r'\\b\\w{5}\\b',text)\n",
    "print(result,len(result))"
   ]
  },
  {
   "cell_type": "code",
   "execution_count": 104,
   "id": "flying-passenger",
   "metadata": {},
   "outputs": [
    {
     "name": "stdout",
     "output_type": "stream",
     "text": [
      "['center', 'python'] 2\n"
     ]
    }
   ],
   "source": [
    "text= 'velocity corporate training center, python and Data science class pune'\n",
    "\n",
    "result = re.findall(r'\\b\\w{6}\\b',text)\n",
    "print(result,len(result))"
   ]
  },
  {
   "cell_type": "code",
   "execution_count": 109,
   "id": "attended-possibility",
   "metadata": {},
   "outputs": [
    {
     "name": "stdout",
     "output_type": "stream",
     "text": [
      "['Velocity', 'Corporate', 'Python', 'Data', 'Lass', 'Nee'] 6\n"
     ]
    }
   ],
   "source": [
    "text= 'Velocity Corporate training center, Python and Data science cLass puNee'\n",
    "\n",
    "result = re.findall(r'[A-Z][a-z]{2,10}',text)\n",
    "print(result,len(result))"
   ]
  },
  {
   "cell_type": "code",
   "execution_count": 111,
   "id": "considered-flush",
   "metadata": {},
   "outputs": [
    {
     "name": "stdout",
     "output_type": "stream",
     "text": [
      "['Velocity', 'Corporate', 'Python', 'Data'] 4\n"
     ]
    }
   ],
   "source": [
    "text= 'Velocity Corporate training center, Python and Data science cLass puNee'\n",
    "\n",
    "result = re.findall(r'\\b[A-Z][a-z]{2,10}',text)\n",
    "print(result,len(result))"
   ]
  },
  {
   "cell_type": "code",
   "execution_count": 114,
   "id": "conceptual-still",
   "metadata": {},
   "outputs": [
    {
     "name": "stdout",
     "output_type": "stream",
     "text": [
      "['Python'] 1\n"
     ]
    }
   ],
   "source": [
    "text= 'Velocity Corporate training center, Python and Data science cLass puNee'\n",
    "\n",
    "result = re.findall('Python',text)\n",
    "print(result,len(result))"
   ]
  },
  {
   "cell_type": "code",
   "execution_count": 117,
   "id": "suburban-mexico",
   "metadata": {},
   "outputs": [
    {
     "name": "stdout",
     "output_type": "stream",
     "text": [
      "['Python', 'Python'] 2\n"
     ]
    }
   ],
   "source": [
    "text= '''Velocity Corporate training center, Python and Data science cLass pune,\n",
    "       Pythonclasspune'''\n",
    "\n",
    "result = re.findall(r'\\bPython',text)\n",
    "print(result,len(result))"
   ]
  },
  {
   "cell_type": "code",
   "execution_count": 119,
   "id": "purple-consortium",
   "metadata": {},
   "outputs": [
    {
     "name": "stdout",
     "output_type": "stream",
     "text": [
      "['Python'] 1\n"
     ]
    }
   ],
   "source": [
    "text= '''Velocity Corporate training center, Python and Data science cLass pune,\n",
    "       Pythonclasspune'''\n",
    "\n",
    "result = re.findall(r'\\bPython\\b',text)\n",
    "print(result,len(result))"
   ]
  },
  {
   "cell_type": "markdown",
   "id": "native-lucas",
   "metadata": {},
   "source": [
    "# Regex Functions"
   ]
  },
  {
   "cell_type": "code",
   "execution_count": 120,
   "id": "lesser-liver",
   "metadata": {},
   "outputs": [],
   "source": [
    "# 1. re.findall\n"
   ]
  },
  {
   "cell_type": "markdown",
   "id": "fitting-warner",
   "metadata": {},
   "source": [
    "# 2. search"
   ]
  },
  {
   "cell_type": "raw",
   "id": "coastal-december",
   "metadata": {},
   "source": [
    "It searches for a match and return an object of first occurrence only\n",
    "re.search(pattern,text)"
   ]
  },
  {
   "cell_type": "code",
   "execution_count": 133,
   "id": "orange-emission",
   "metadata": {},
   "outputs": [
    {
     "data": {
      "text/plain": [
       "(8, 18)"
      ]
     },
     "execution_count": 133,
     "metadata": {},
     "output_type": "execute_result"
    }
   ],
   "source": [
    "text = \"\"\"Mobile  9089087656   # Valid\n",
    "                    9404283030     # Valid\n",
    "                    \"\"\"\n",
    "\n",
    "mobile_number = re.search(r'\\b\\d{10}\\b',text)\n",
    "mobile_number.span()"
   ]
  },
  {
   "cell_type": "code",
   "execution_count": 126,
   "id": "vertical-auckland",
   "metadata": {},
   "outputs": [
    {
     "data": {
      "text/plain": [
       "12"
      ]
     },
     "execution_count": 126,
     "metadata": {},
     "output_type": "execute_result"
    }
   ],
   "source": [
    "text = \"\"\"Mobile is : 9089087656   # Valid\n",
    "                    9404283030     # Valid\n",
    "                    \"\"\"\n",
    "\n",
    "mobile_number = re.search(r'\\b\\d{10}\\b',text)\n",
    "mobile_number.start()"
   ]
  },
  {
   "cell_type": "code",
   "execution_count": 128,
   "id": "hearing-crazy",
   "metadata": {},
   "outputs": [
    {
     "data": {
      "text/plain": [
       "22"
      ]
     },
     "execution_count": 128,
     "metadata": {},
     "output_type": "execute_result"
    }
   ],
   "source": [
    "mobile_number.end()"
   ]
  },
  {
   "cell_type": "code",
   "execution_count": 130,
   "id": "alternative-isaac",
   "metadata": {},
   "outputs": [
    {
     "data": {
      "text/plain": [
       "'9089087656'"
      ]
     },
     "execution_count": 130,
     "metadata": {},
     "output_type": "execute_result"
    }
   ],
   "source": [
    "mobile_number.group()"
   ]
  },
  {
   "cell_type": "markdown",
   "id": "raising-dressing",
   "metadata": {},
   "source": [
    "# 3. match"
   ]
  },
  {
   "cell_type": "raw",
   "id": "living-option",
   "metadata": {},
   "source": [
    "Check for first index item of string"
   ]
  },
  {
   "cell_type": "code",
   "execution_count": 138,
   "id": "standing-gospel",
   "metadata": {},
   "outputs": [
    {
     "data": {
      "text/plain": [
       "'9089087656'"
      ]
     },
     "execution_count": 138,
     "metadata": {},
     "output_type": "execute_result"
    }
   ],
   "source": [
    "text = \"\"\"9089087656   # Valid\n",
    "                    9404283030     # Valid\n",
    "                    \"\"\"\n",
    "\n",
    "mobile_number = re.match(r'\\b\\d{10}\\b',text)\n",
    "mobile_number.group()"
   ]
  },
  {
   "cell_type": "code",
   "execution_count": 142,
   "id": "minus-estonia",
   "metadata": {},
   "outputs": [],
   "source": [
    "text = \"\"\" 9089087656   # Valid\n",
    "                    9404283030     # Valid\n",
    "                    \"\"\"\n",
    "\n",
    "mobile_number = re.match(r'\\b\\d{10}\\b',text)\n",
    "if mobile_number:\n",
    "    mobile_number.group()"
   ]
  },
  {
   "cell_type": "code",
   "execution_count": 144,
   "id": "brown-namibia",
   "metadata": {},
   "outputs": [
    {
     "name": "stdout",
     "output_type": "stream",
     "text": [
      "No match found\n"
     ]
    }
   ],
   "source": [
    "text = \"\"\" 9089087656   # Valid\n",
    "                    9404283030     # Valid\n",
    "                    \"\"\"\n",
    "\n",
    "mobile_number = re.match(r'\\b\\d{10}\\b',text)\n",
    "if mobile_number:\n",
    "    mobile_number.group()\n",
    "    \n",
    "else:\n",
    "    print('No match found')"
   ]
  },
  {
   "cell_type": "raw",
   "id": "collectible-arrangement",
   "metadata": {},
   "source": [
    "text = \"\"\"9089087656   # Valid\n",
    "                    9404283030     # Valid\n",
    "                    \"\"\"\n",
    "\n",
    "mobile_number = re.match(r'\\b\\d{10}\\b',text)\n",
    "if mobile_number:\n",
    "    print(mobile_number.group())\n",
    "    \n",
    "else:\n",
    "    print('No match found')"
   ]
  },
  {
   "cell_type": "markdown",
   "id": "comparative-malpractice",
   "metadata": {},
   "source": [
    "# 4. sub"
   ]
  },
  {
   "cell_type": "raw",
   "id": "manufactured-constitutional",
   "metadata": {},
   "source": [
    "It is used to replace occurrences of particular substring with another substring"
   ]
  },
  {
   "cell_type": "code",
   "execution_count": 148,
   "id": "understanding-worship",
   "metadata": {},
   "outputs": [
    {
     "data": {
      "text/plain": [
       "'JAVA and data science'"
      ]
     },
     "execution_count": 148,
     "metadata": {},
     "output_type": "execute_result"
    }
   ],
   "source": [
    "string = 'python and data science'\n",
    "string = string.replace('python',\"JAVA\")\n",
    "string"
   ]
  },
  {
   "cell_type": "code",
   "execution_count": 150,
   "id": "another-consent",
   "metadata": {},
   "outputs": [
    {
     "data": {
      "text/plain": [
       "'Cython and data science'"
      ]
     },
     "execution_count": 150,
     "metadata": {},
     "output_type": "execute_result"
    }
   ],
   "source": [
    "string = 'python and data science '\n",
    "string = string.replace('p','C')\n",
    "string"
   ]
  },
  {
   "cell_type": "code",
   "execution_count": 154,
   "id": "through-cartoon",
   "metadata": {},
   "outputs": [
    {
     "data": {
      "text/plain": [
       "'python and data science   '"
      ]
     },
     "execution_count": 154,
     "metadata": {},
     "output_type": "execute_result"
    }
   ],
   "source": [
    "string = 'python and data science 3456 $%^& '\n",
    "string = string.replace('3456','').replace('$%^&','')\n",
    "string"
   ]
  },
  {
   "cell_type": "code",
   "execution_count": 156,
   "id": "formed-template",
   "metadata": {},
   "outputs": [
    {
     "name": "stdout",
     "output_type": "stream",
     "text": [
      "Mobile is : ++++++++++   # Valid\n",
      "                    ++++++++++     # Valid\n",
      "                    ++++++++++++   # Invalid\n",
      "                    A++++++++++    # Invalid\n",
      "                    ++++++++++     # Valid\n",
      "                    ++++++++++++   # Invalid\n",
      "                    \n"
     ]
    }
   ],
   "source": [
    "text = \"\"\"Mobile is : 9089087656   # Valid\n",
    "                    9404283030     # Valid\n",
    "                    923409876012   # Invalid\n",
    "                    A9845678008    # Invalid\n",
    "                    9403548878     # Valid\n",
    "                    987890765612   # Invalid\n",
    "                    \"\"\"\n",
    "text = re.sub('\\d','+',text)\n",
    "print(text)"
   ]
  },
  {
   "cell_type": "code",
   "execution_count": 158,
   "id": "silver-internet",
   "metadata": {},
   "outputs": [
    {
     "name": "stdout",
     "output_type": "stream",
     "text": [
      "Mobile is :    # Valid\n",
      "                         # Valid\n",
      "                       # Invalid\n",
      "                    A    # Invalid\n",
      "                         # Valid\n",
      "                       # Invalid\n",
      "                    \n"
     ]
    }
   ],
   "source": [
    "text = \"\"\"Mobile is : 9089087656   # Valid\n",
    "                    9404283030     # Valid\n",
    "                    923409876012   # Invalid\n",
    "                    A9845678008    # Invalid\n",
    "                    9403548878     # Valid\n",
    "                    987890765612   # Invalid\n",
    "                    \"\"\"\n",
    "text = re.sub('\\d','',text)\n",
    "print(text)"
   ]
  },
  {
   "cell_type": "code",
   "execution_count": 160,
   "id": "optional-mixture",
   "metadata": {},
   "outputs": [
    {
     "name": "stdout",
     "output_type": "stream",
     "text": [
      "Mobileis:9089087656#Valid9404283030#Valid923409876012#InvalidA9845678008#Invalid9403548878#Valid987890765612#Invalid\n"
     ]
    }
   ],
   "source": [
    "text = \"\"\"Mobile is : 9089087656   # Valid\n",
    "                    9404283030     # Valid\n",
    "                    923409876012   # Invalid\n",
    "                    A9845678008    # Invalid\n",
    "                    9403548878     # Valid\n",
    "                    987890765612   # Invalid\n",
    "                    \"\"\"\n",
    "text = re.sub('\\s','',text)\n",
    "print(text)"
   ]
  },
  {
   "cell_type": "code",
   "execution_count": 163,
   "id": "scenic-hudson",
   "metadata": {},
   "outputs": [
    {
     "name": "stdout",
     "output_type": "stream",
     "text": [
      "Mobile is   9089087656     Valid                     9404283030       Valid                     923409876012     Invalid                     A9845678008      Invalid                     9403548878       Valid                     987890765612     Invalid                     \n"
     ]
    }
   ],
   "source": [
    "text = \"\"\"Mobile is : 9089087656   # Valid\n",
    "                    9404283030     # Valid\n",
    "                    923409876012   # Invalid\n",
    "                    A9845678008    # Invalid\n",
    "                    9403548878     # Valid\n",
    "                    987890765612   # Invalid\n",
    "                    \"\"\"\n",
    "text = re.sub('\\W',' ',text)\n",
    "print(text)"
   ]
  },
  {
   "cell_type": "code",
   "execution_count": 168,
   "id": "strategic-humor",
   "metadata": {},
   "outputs": [
    {
     "name": "stdout",
     "output_type": "stream",
     "text": [
      " Data science is an interdisciplinary field that uses scientific methods, 123456 90876 7789 processes, algorithms and systems to #$ % * extract knowledge and insights from noisy, structured and unstructured data \n"
     ]
    }
   ],
   "source": [
    "text  = '''      Data    science is an interdisciplinary        field that uses scientific methods,\n",
    "123456 90876 7789\n",
    "processes, algorithms    and    systems to #$ % * extract knowledge and insights from noisy, \n",
    "structured and unstructured data         '''\n",
    "\n",
    "text = re.sub('\\s+',' ',text)\n",
    "print(text)"
   ]
  },
  {
   "cell_type": "markdown",
   "id": "inner-document",
   "metadata": {},
   "source": [
    "# Characters with special meaning"
   ]
  },
  {
   "cell_type": "code",
   "execution_count": 169,
   "id": "ahead-intro",
   "metadata": {},
   "outputs": [],
   "source": [
    "# Metacharacters"
   ]
  },
  {
   "cell_type": "markdown",
   "id": "downtown-dylan",
   "metadata": {},
   "source": [
    "# 1. + (plus)"
   ]
  },
  {
   "cell_type": "raw",
   "id": "split-lucas",
   "metadata": {},
   "source": [
    "+ >> One or more occurrences"
   ]
  },
  {
   "cell_type": "code",
   "execution_count": 173,
   "id": "controversial-bruce",
   "metadata": {},
   "outputs": [
    {
     "name": "stdout",
     "output_type": "stream",
     "text": [
      " Data science is an interdisciplinary field that uses scientific methods,\n",
      "123456 90876 7789\n",
      "processes, algorithms and systems to #$ % * extract knowledge and insights from noisy, \n",
      "structured and unstructured data \n"
     ]
    }
   ],
   "source": [
    "text  = '''      Data    science is an interdisciplinary        field that uses scientific methods,\n",
    "123456 90876 7789\n",
    "processes, algorithms    and    systems to #$ % * extract knowledge and insights from noisy, \n",
    "structured and unstructured data         '''\n",
    "\n",
    "text = re.sub('[ ]+',' ',text)\n",
    "print(text)"
   ]
  },
  {
   "cell_type": "code",
   "execution_count": 172,
   "id": "pursuant-nylon",
   "metadata": {},
   "outputs": [
    {
     "name": "stdout",
     "output_type": "stream",
     "text": [
      "['      ', '    ', ' ', ' ', ' ', '        ', ' ', ' ', ' ', ' ', '\\n', ' ', ' ', '\\n', ' ', '    ', '    ', ' ', ' ', ' ', ' ', ' ', ' ', ' ', ' ', ' ', ' ', ' \\n', ' ', ' ', ' ', '         ']\n"
     ]
    }
   ],
   "source": [
    "text  = '''      Data    science is an interdisciplinary        field that uses scientific methods,\n",
    "123456 90876 7789\n",
    "processes, algorithms    and    systems to #$ % * extract knowledge and insights from noisy, \n",
    "structured and unstructured data         '''\n",
    "\n",
    "text = re.findall('\\s+',text)\n",
    "print(text)"
   ]
  },
  {
   "cell_type": "code",
   "execution_count": 177,
   "id": "norwegian-thumb",
   "metadata": {},
   "outputs": [
    {
     "name": "stdout",
     "output_type": "stream",
     "text": [
      "['pyt', 'pyt', 'pyt', 'pyt'] 4\n"
     ]
    }
   ],
   "source": [
    "string = 'python and data science pythonnn pytthon  pyttttthon'\n",
    "\n",
    "text = re.findall('pyt',string)\n",
    "print(text,len(text))"
   ]
  },
  {
   "cell_type": "code",
   "execution_count": 179,
   "id": "ordered-nightlife",
   "metadata": {},
   "outputs": [
    {
     "name": "stdout",
     "output_type": "stream",
     "text": [
      "['pyt', 'pyt', 'pytt', 'pyttttt'] 4\n"
     ]
    }
   ],
   "source": [
    "string = 'python and data science pythonnn pytthon  pyttttthon'\n",
    "\n",
    "text = re.findall('pyt+',string)\n",
    "print(text,len(text))  # pyt, pyt, pytt, pyttttt"
   ]
  },
  {
   "cell_type": "code",
   "execution_count": 182,
   "id": "buried-prototype",
   "metadata": {},
   "outputs": [
    {
     "name": "stdout",
     "output_type": "stream",
     "text": [
      "[' ', ' ', ' ', ' ', '     ', '  '] 6\n"
     ]
    }
   ],
   "source": [
    "string = 'python and data science pythonnn     pytthon  pyttttthon'\n",
    "\n",
    "text = re.findall('[ ]+',string)\n",
    "print(text,len(text))  # pyt, pyt, pytt, pyttttt"
   ]
  },
  {
   "cell_type": "code",
   "execution_count": 185,
   "id": "varying-listing",
   "metadata": {},
   "outputs": [
    {
     "name": "stdout",
     "output_type": "stream",
     "text": [
      "python and data science pythonnn pytthon pyttttthon 51\n"
     ]
    }
   ],
   "source": [
    "string = 'python and data science pythonnn     pytthon  pyttttthon'\n",
    "\n",
    "text = re.sub('[ ]+',' ',string)\n",
    "print(text,len(text))  # pyt, pyt, pytt, pyttttt"
   ]
  },
  {
   "cell_type": "markdown",
   "id": "molecular-shopper",
   "metadata": {},
   "source": [
    "# 2. *"
   ]
  },
  {
   "cell_type": "raw",
   "id": "unauthorized-greensboro",
   "metadata": {},
   "source": [
    "Zero or more occurrences"
   ]
  },
  {
   "cell_type": "code",
   "execution_count": 188,
   "id": "protective-chuck",
   "metadata": {},
   "outputs": [
    {
     "name": "stdout",
     "output_type": "stream",
     "text": [
      "['pyt', 'pyt', 'pyt'] 3\n"
     ]
    }
   ],
   "source": [
    "string = 'python and data science pythonnn pyhon  pyttttthon pyhonn'\n",
    "\n",
    "text = re.findall('pyt',string)\n",
    "print(text,len(text))"
   ]
  },
  {
   "cell_type": "code",
   "execution_count": 190,
   "id": "prostate-basis",
   "metadata": {},
   "outputs": [
    {
     "name": "stdout",
     "output_type": "stream",
     "text": [
      "['pyt', 'pyt', 'pyttttt'] 3\n"
     ]
    }
   ],
   "source": [
    "string = 'python and data science pythonnn pyhon  pyttttthon pyhonn'\n",
    "\n",
    "text = re.findall('pyt+',string)\n",
    "print(text,len(text))"
   ]
  },
  {
   "cell_type": "code",
   "execution_count": 192,
   "id": "sudden-continent",
   "metadata": {},
   "outputs": [
    {
     "name": "stdout",
     "output_type": "stream",
     "text": [
      "['pyt', 'pyt', 'py', 'pyttttt', 'py'] 5\n"
     ]
    }
   ],
   "source": [
    "string = 'python and data science pythonnn pyhon  pyttttthon pyhonn'\n",
    "\n",
    "text = re.findall('pyt*',string)\n",
    "print(text,len(text))"
   ]
  },
  {
   "cell_type": "code",
   "execution_count": 194,
   "id": "compact-seventh",
   "metadata": {},
   "outputs": [
    {
     "name": "stdout",
     "output_type": "stream",
     "text": [
      "['python', 'python', 'pyhon', 'pyttttthon', 'pyhon'] 5\n"
     ]
    }
   ],
   "source": [
    "string = 'python and data science pythonnn pyhon  pyttttthon pyhonn'\n",
    "\n",
    "text = re.findall('pyt*hon',string)\n",
    "print(text,len(text))"
   ]
  },
  {
   "cell_type": "code",
   "execution_count": 197,
   "id": "absolute-tuesday",
   "metadata": {},
   "outputs": [
    {
     "name": "stdout",
     "output_type": "stream",
     "text": [
      "['98789abcde', '12345'] 2\n"
     ]
    }
   ],
   "source": [
    "string = 'python and data science pythonnn pyhon  pyttttthon pyhonn 98789abcde 12345'\n",
    "\n",
    "text = re.findall('[0-9]{5}[a-z]*',string)\n",
    "print(text,len(text))"
   ]
  },
  {
   "cell_type": "code",
   "execution_count": 199,
   "id": "alive-conspiracy",
   "metadata": {},
   "outputs": [
    {
     "name": "stdout",
     "output_type": "stream",
     "text": [
      "['98789abcde'] 1\n"
     ]
    }
   ],
   "source": [
    "string = 'python and data science pythonnn pyhon  pyttttthon pyhonn 98789abcde 12345'\n",
    "\n",
    "text = re.findall('[0-9]{5}[a-z]+',string)\n",
    "print(text,len(text))"
   ]
  },
  {
   "cell_type": "markdown",
   "id": "permanent-harvey",
   "metadata": {},
   "source": [
    "# 3. . (Dot)"
   ]
  },
  {
   "cell_type": "raw",
   "id": "bizarre-story",
   "metadata": {},
   "source": [
    "Any Char (Except New line)"
   ]
  },
  {
   "cell_type": "code",
   "execution_count": 201,
   "id": "strange-costume",
   "metadata": {},
   "outputs": [
    {
     "name": "stdout",
     "output_type": "stream",
     "text": [
      "['pyth']\n"
     ]
    }
   ],
   "source": [
    "string = 'python and data science'\n",
    "result = re.findall('pyt.',string)\n",
    "print(result)"
   ]
  },
  {
   "cell_type": "code",
   "execution_count": 203,
   "id": "ignored-auckland",
   "metadata": {},
   "outputs": [
    {
     "name": "stdout",
     "output_type": "stream",
     "text": [
      "['python']\n"
     ]
    }
   ],
   "source": [
    "string = 'python and data science'\n",
    "result = re.findall('pyt...',string)\n",
    "print(result)"
   ]
  },
  {
   "cell_type": "code",
   "execution_count": 206,
   "id": "pregnant-religion",
   "metadata": {},
   "outputs": [
    {
     "name": "stdout",
     "output_type": "stream",
     "text": [
      "['python', 'python']\n"
     ]
    }
   ],
   "source": [
    "string = \"\"\"python and data science pyt\n",
    "hon            python\"\"\"\n",
    "result = re.findall('pyt...',string)\n",
    "print(result)"
   ]
  },
  {
   "cell_type": "markdown",
   "id": "atomic-philadelphia",
   "metadata": {},
   "source": [
    "# 4. ? "
   ]
  },
  {
   "cell_type": "raw",
   "id": "activated-ribbon",
   "metadata": {},
   "source": [
    "It matches exactly zero or one char\n"
   ]
  },
  {
   "cell_type": "code",
   "execution_count": 211,
   "id": "monetary-flood",
   "metadata": {},
   "outputs": [
    {
     "name": "stdout",
     "output_type": "stream",
     "text": [
      "['pyt', 'pyt', 'py', 'pyt', 'py'] 5\n"
     ]
    }
   ],
   "source": [
    "string = 'python and data science pythonnn pyhon  pyttttthon pyhonn 98789abcde 12345'\n",
    "\n",
    "text = re.findall('pyt?',string)\n",
    "print(text,len(text))"
   ]
  },
  {
   "cell_type": "code",
   "execution_count": 213,
   "id": "fatty-estate",
   "metadata": {},
   "outputs": [
    {
     "name": "stdout",
     "output_type": "stream",
     "text": [
      "['pyt', 'pyt', 'py', 'pyttttt', 'py'] 5\n"
     ]
    }
   ],
   "source": [
    "string = 'python and data science pythonnn pyhon  pyttttthon pyhonn 98789abcde 12345'\n",
    "\n",
    "text = re.findall('pyt*',string)\n",
    "print(text,len(text))"
   ]
  },
  {
   "cell_type": "code",
   "execution_count": 215,
   "id": "acquired-skill",
   "metadata": {},
   "outputs": [
    {
     "name": "stdout",
     "output_type": "stream",
     "text": [
      "['pyt', 'pyt', 'py', 'pyttttt', 'py'] 5\n"
     ]
    }
   ],
   "source": [
    "string = 'python and data science pythonnn pyhon p pyttttthon pyhonn 98789abcde 12345'\n",
    "\n",
    "text = re.findall('pyt*',string)\n",
    "print(text,len(text))"
   ]
  },
  {
   "cell_type": "code",
   "execution_count": 217,
   "id": "color-latvia",
   "metadata": {},
   "outputs": [
    {
     "name": "stdout",
     "output_type": "stream",
     "text": [
      "['pyt', 'pyt', 'pyttttt'] 3\n"
     ]
    }
   ],
   "source": [
    "string = 'python and data science pythonnn pyhon pyttttthon pyhonn 98789abcde 12345'\n",
    "\n",
    "text = re.findall('pyt+',string)\n",
    "print(text,len(text))"
   ]
  },
  {
   "cell_type": "code",
   "execution_count": 218,
   "id": "combined-equilibrium",
   "metadata": {},
   "outputs": [
    {
     "name": "stdout",
     "output_type": "stream",
     "text": [
      "['pyt', 'pyt', 'py', 'pyt', 'py'] 5\n"
     ]
    }
   ],
   "source": [
    "string = 'python and data science pythonnn pyhon pyttttthon pyhonn 98789abcde 12345'\n",
    "\n",
    "text = re.findall('pyt?',string)\n",
    "print(text,len(text))"
   ]
  },
  {
   "cell_type": "raw",
   "id": "average-folder",
   "metadata": {},
   "source": [
    "1. +  >> one or more occurrences\n",
    "2. *  >> zero or more occurrences\n",
    "3. ?  >> zero or one\n",
    "4. .  >> any char(except new line)"
   ]
  },
  {
   "cell_type": "markdown",
   "id": "quick-hawaii",
   "metadata": {},
   "source": [
    "# 5. ^ "
   ]
  },
  {
   "cell_type": "raw",
   "id": "beautiful-meter",
   "metadata": {},
   "source": [
    "^ >> startswith"
   ]
  },
  {
   "cell_type": "code",
   "execution_count": 221,
   "id": "checked-vegetable",
   "metadata": {},
   "outputs": [
    {
     "data": {
      "text/plain": [
       "False"
      ]
     },
     "execution_count": 221,
     "metadata": {},
     "output_type": "execute_result"
    }
   ],
   "source": [
    "string = 'python and data science pythonnn pyhon pyttttthon pyhonn 98789abcde 12345'\n",
    "\n",
    "string.startswith('P')\n",
    "# text = re.findall('pyt?',string)\n",
    "# print(text,len(text))"
   ]
  },
  {
   "cell_type": "code",
   "execution_count": 223,
   "id": "equivalent-lawsuit",
   "metadata": {},
   "outputs": [
    {
     "name": "stdout",
     "output_type": "stream",
     "text": [
      "['p'] 1\n"
     ]
    }
   ],
   "source": [
    "string = 'python and data science pythonnn pyhon pyttttthon pyhonn 98789abcde 12345'\n",
    "\n",
    "text = re.findall('^p',string)\n",
    "print(text,len(text))"
   ]
  },
  {
   "cell_type": "code",
   "execution_count": 226,
   "id": "medieval-valve",
   "metadata": {},
   "outputs": [
    {
     "name": "stdout",
     "output_type": "stream",
     "text": [
      "['pytho'] 1\n"
     ]
    }
   ],
   "source": [
    "string = 'python and data science pythonnn pyhon pyttttthon pyhonn 98789abcde 12345'\n",
    "\n",
    "text = re.findall('^[a-z]{5}',string)\n",
    "print(text,len(text))"
   ]
  },
  {
   "cell_type": "code",
   "execution_count": 228,
   "id": "bearing-insured",
   "metadata": {},
   "outputs": [
    {
     "name": "stdout",
     "output_type": "stream",
     "text": [
      "[] 0\n"
     ]
    }
   ],
   "source": [
    "string = '  python and data science pythonnn pyhon pyttttthon pyhonn 98789abcde 12345'\n",
    "\n",
    "text = re.findall('^[a-z]{5}',string)\n",
    "print(text,len(text))"
   ]
  },
  {
   "cell_type": "code",
   "execution_count": 231,
   "id": "incomplete-snowboard",
   "metadata": {},
   "outputs": [
    {
     "name": "stdout",
     "output_type": "stream",
     "text": [
      "['python'] 1\n"
     ]
    }
   ],
   "source": [
    "string = 'python and data science pythonnn pyhon pyttttthon pyhonn 98789abcde 12345'\n",
    "\n",
    "text = re.findall('^[a-z]{6}',string)\n",
    "print(text,len(text))"
   ]
  },
  {
   "cell_type": "code",
   "execution_count": 233,
   "id": "american-poland",
   "metadata": {},
   "outputs": [
    {
     "name": "stdout",
     "output_type": "stream",
     "text": [
      "['python', 'scienc', 'python', 'pytttt', 'pyhonn'] 5\n"
     ]
    }
   ],
   "source": [
    "string = 'python and data science pythonnn pyhon pyttttthon pyhonn 98789abcde 12345'\n",
    "\n",
    "text = re.findall('[a-z]{6}',string)\n",
    "print(text,len(text))"
   ]
  },
  {
   "cell_type": "code",
   "execution_count": 236,
   "id": "acceptable-infection",
   "metadata": {},
   "outputs": [
    {
     "name": "stdout",
     "output_type": "stream",
     "text": [
      "['Python'] 1\n"
     ]
    }
   ],
   "source": [
    "string = 'Python and data science pythonnn pyhon pyttttthon pyhonn 98789abcde 12345'\n",
    "\n",
    "text = re.findall('^[A-Za-z]{6}',string)\n",
    "print(text,len(text))"
   ]
  },
  {
   "cell_type": "code",
   "execution_count": 238,
   "id": "naked-oxford",
   "metadata": {},
   "outputs": [
    {
     "name": "stdout",
     "output_type": "stream",
     "text": [
      "['PYTHON'] 1\n"
     ]
    }
   ],
   "source": [
    "string = 'PYTHON and data science pythonnn pyhon pyttttthon pyhonn 98789abcde 12345'\n",
    "\n",
    "text = re.findall('^[A-Za-z]{6}',string)\n",
    "print(text,len(text))"
   ]
  },
  {
   "cell_type": "code",
   "execution_count": 240,
   "id": "broad-priority",
   "metadata": {},
   "outputs": [
    {
     "name": "stdout",
     "output_type": "stream",
     "text": [
      "['python'] 1\n"
     ]
    }
   ],
   "source": [
    "string = 'python and data science pythonnn pyhon pyttttthon pyhonn 98789abcde 12345'\n",
    "\n",
    "text = re.findall('^[A-Za-z]{6}',string)\n",
    "print(text,len(text))"
   ]
  },
  {
   "cell_type": "code",
   "execution_count": 245,
   "id": "organized-blast",
   "metadata": {},
   "outputs": [
    {
     "name": "stdout",
     "output_type": "stream",
     "text": [
      "String is starting with digits\n"
     ]
    }
   ],
   "source": [
    "string = '98909 and data science pythonnn pyhon pyttttthon pyhonn 98789abcde 12345'\n",
    "\n",
    "text = re.findall('^\\d',string)\n",
    "if text:\n",
    "    print(\"String is starting with digits\")\n",
    "    \n",
    "else:\n",
    "    print(\"String is not starting with digits\")"
   ]
  },
  {
   "cell_type": "code",
   "execution_count": 247,
   "id": "broken-religious",
   "metadata": {},
   "outputs": [
    {
     "name": "stdout",
     "output_type": "stream",
     "text": [
      "String is not starting with digits\n"
     ]
    }
   ],
   "source": [
    "string = ' 98909 and data science pythonnn pyhon pyttttthon pyhonn 98789abcde 12345'\n",
    "\n",
    "text = re.findall('^\\d',string)\n",
    "if text:\n",
    "    print(\"String is starting with digits\")\n",
    "    \n",
    "else:\n",
    "    print(\"String is not starting with digits\")"
   ]
  },
  {
   "cell_type": "markdown",
   "id": "proud-worst",
   "metadata": {},
   "source": [
    "# 6. $"
   ]
  },
  {
   "cell_type": "raw",
   "id": "responsible-difference",
   "metadata": {},
   "source": [
    "$ >> (Endswith)"
   ]
  },
  {
   "cell_type": "code",
   "execution_count": 249,
   "id": "broadband-ireland",
   "metadata": {},
   "outputs": [
    {
     "name": "stdout",
     "output_type": "stream",
     "text": [
      "String is ending with with s char\n"
     ]
    }
   ],
   "source": [
    "string = ' 98909 and data science pythonnn pyhon pyttttthon pyhonn class'\n",
    "\n",
    "text = re.findall('s$',string)\n",
    "if text:\n",
    "    print(\"String is ending with with s char\")\n",
    "    \n",
    "else:\n",
    "    print(\"String is not ending with s char\")"
   ]
  },
  {
   "cell_type": "code",
   "execution_count": 251,
   "id": "southern-nylon",
   "metadata": {},
   "outputs": [
    {
     "name": "stdout",
     "output_type": "stream",
     "text": [
      "String is not ending with s char\n"
     ]
    }
   ],
   "source": [
    "string = ' 98909 and data science pythonnn pyhon pyttttthon pyhonn classp'\n",
    "\n",
    "text = re.findall('s$',string)\n",
    "if text:\n",
    "    print(\"String is ending with with s char\")\n",
    "    \n",
    "else:\n",
    "    print(\"String is not ending with s char\")"
   ]
  },
  {
   "cell_type": "code",
   "execution_count": 252,
   "id": "amended-infection",
   "metadata": {},
   "outputs": [
    {
     "name": "stdout",
     "output_type": "stream",
     "text": [
      "String is ending with with digits\n"
     ]
    }
   ],
   "source": [
    "string = ' 98909 and data science pythonnn pyhon pyttttthon pyhonn 1234'\n",
    "\n",
    "text = re.findall('\\d$',string)\n",
    "if text:\n",
    "    print(\"String is ending with with digits\")\n",
    "    \n",
    "else:\n",
    "    print(\"String is not ending with digits\")"
   ]
  },
  {
   "cell_type": "code",
   "execution_count": 257,
   "id": "geographic-figure",
   "metadata": {},
   "outputs": [
    {
     "data": {
      "text/plain": [
       "['python and data science pythonnn pyhon pyttttthon pyhonn 1234']"
      ]
     },
     "execution_count": 257,
     "metadata": {},
     "output_type": "execute_result"
    }
   ],
   "source": [
    "string = 'python and data science pythonnn pyhon pyttttthon pyhonn 1234'\n",
    "\n",
    "text = re.findall('^p.*',string)\n",
    "text"
   ]
  },
  {
   "cell_type": "code",
   "execution_count": 259,
   "id": "boxed-north",
   "metadata": {},
   "outputs": [
    {
     "data": {
      "text/plain": [
       "['python and data science pythonnn pyhon pyttttthon pyhonn class']"
      ]
     },
     "execution_count": 259,
     "metadata": {},
     "output_type": "execute_result"
    }
   ],
   "source": [
    "string = 'python and data science pythonnn pyhon pyttttthon pyhonn class'\n",
    "\n",
    "text = re.findall('^p.*s$',string)\n",
    "text"
   ]
  },
  {
   "cell_type": "code",
   "execution_count": null,
   "id": "limited-dispute",
   "metadata": {},
   "outputs": [],
   "source": []
  }
 ],
 "metadata": {
  "kernelspec": {
   "display_name": "Python 3",
   "language": "python",
   "name": "python3"
  },
  "language_info": {
   "codemirror_mode": {
    "name": "ipython",
    "version": 3
   },
   "file_extension": ".py",
   "mimetype": "text/x-python",
   "name": "python",
   "nbconvert_exporter": "python",
   "pygments_lexer": "ipython3",
   "version": "3.8.7"
  }
 },
 "nbformat": 4,
 "nbformat_minor": 5
}
