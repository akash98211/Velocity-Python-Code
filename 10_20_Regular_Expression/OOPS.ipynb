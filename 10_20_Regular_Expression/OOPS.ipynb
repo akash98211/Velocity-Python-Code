{
 "cells": [
  {
   "cell_type": "markdown",
   "metadata": {
    "id": "african-present"
   },
   "source": [
    "# Object Oriented Programming"
   ]
  },
  {
   "cell_type": "code",
   "execution_count": null,
   "metadata": {
    "id": "considerable-connectivity"
   },
   "outputs": [],
   "source": [
    "Class: Blueprint of an object\n",
    "       It defines variables and methods\n",
    "    \n",
    "Object: Real world entities\n",
    "       Instance of class \n",
    "        \n",
    "self: It represent the instance of class\n",
    "    by using self keyword we can access variables and methods of the class\n",
    "    self holds reference to the instance calling the function\n",
    "\n",
    "__init__ :\n",
    "    Automatically called when we create an object of class\n",
    "    It works like a constructor\n",
    "    __init__(self,a,b)>> parametrized constructor\n",
    "    __init__(self) >> Non-paramterized constructor"
   ]
  },
  {
   "cell_type": "code",
   "execution_count": null,
   "metadata": {
    "id": "chronic-negotiation"
   },
   "outputs": [],
   "source": [
    "class ClassName():\n",
    "    variables1 = 100 \n",
    "    \n",
    "    def __init__(self):\n",
    "        pass\n",
    "    \n",
    "    def method1(self):\n",
    "        pass\n",
    "    "
   ]
  },
  {
   "cell_type": "markdown",
   "metadata": {
    "id": "gothic-hearts"
   },
   "source": [
    "# Inheritance:"
   ]
  },
  {
   "cell_type": "code",
   "execution_count": null,
   "metadata": {
    "id": "junior-lafayette"
   },
   "outputs": [],
   "source": [
    "It inherit the properties(methods and variables) of Parent/Base class\n",
    "Create an object of only child class\n",
    "\n",
    "Base CLass / Parent Class /Super Class\n",
    "Derived Class / Child class / Sub Class\n",
    "\n",
    "Types of Inheritance:\n",
    "    1. Normal/Simple inheritance\n",
    "    2. Multilevel(GrandFather >> Father >> Child)\n",
    "    3. Multiple(Multiple Bases Classes and only one Derived Class)\n",
    "    \n",
    "Overriding Method:\n",
    "    Same method in parent and Child class\n",
    "    Child class method overrides parent class method"
   ]
  },
  {
   "cell_type": "markdown",
   "metadata": {
    "id": "informed-newport"
   },
   "source": [
    "# Encapsulation"
   ]
  },
  {
   "cell_type": "code",
   "execution_count": null,
   "metadata": {
    "id": "binding-wilson"
   },
   "outputs": [],
   "source": [
    "Used to restrict the access of variables and methods \n",
    "To prevent accidently modification of data from outside the class\n",
    "\n",
    "Public Variable/Methods:\n",
    "    Can be accessed/modified from outside the class\n",
    "\n",
    "Private Variables/Methods:\n",
    "    Can not be accessed/modified from outside the class\n",
    "    __variablename\n",
    "    __methodname()\n",
    "\n",
    "\n",
    "Name Mangling:\n",
    "    Used to access private variables and methods from outside the class\n",
    "    \n",
    "    Object._ClassName__privatevariable\n",
    "    Object._ClassName__privatemethod\n"
   ]
  },
  {
   "cell_type": "markdown",
   "metadata": {
    "id": "northern-enclosure"
   },
   "source": [
    "# Polymorphism"
   ]
  },
  {
   "cell_type": "code",
   "execution_count": null,
   "metadata": {
    "id": "biological-saturday"
   },
   "outputs": [],
   "source": [
    "Multiple Form\n",
    "Same methods are in different classes"
   ]
  },
  {
   "cell_type": "markdown",
   "metadata": {
    "id": "based-gentleman"
   },
   "source": [
    "# Abstraction"
   ]
  },
  {
   "cell_type": "code",
   "execution_count": null,
   "metadata": {
    "id": "geographic-section"
   },
   "outputs": [],
   "source": [
    "Considered as blueprint for other classes\n",
    "We can not create object of abstract class\n",
    "Abstract class is only used for declaration, does not for implementation\n",
    "\n",
    "import abc\n"
   ]
  }
 ],
 "metadata": {
  "colab": {
   "name": "OOPS.ipynb",
   "provenance": [],
   "toc_visible": true
  },
  "kernelspec": {
   "display_name": "Python 3",
   "language": "python",
   "name": "python3"
  },
  "language_info": {
   "codemirror_mode": {
    "name": "ipython",
    "version": 3
   },
   "file_extension": ".py",
   "mimetype": "text/x-python",
   "name": "python",
   "nbconvert_exporter": "python",
   "pygments_lexer": "ipython3",
   "version": "3.7.3"
  }
 },
 "nbformat": 4,
 "nbformat_minor": 5
}
