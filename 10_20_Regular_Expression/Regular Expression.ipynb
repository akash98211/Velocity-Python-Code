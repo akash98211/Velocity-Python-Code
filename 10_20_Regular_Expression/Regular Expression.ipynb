{
 "cells": [
  {
   "cell_type": "markdown",
   "metadata": {},
   "source": [
    "# Regular Expression"
   ]
  },
  {
   "cell_type": "code",
   "execution_count": null,
   "metadata": {},
   "outputs": [],
   "source": [
    "regex >> Regular Expression\n",
    "import re # Regular Expression\n"
   ]
  },
  {
   "cell_type": "code",
   "execution_count": null,
   "metadata": {},
   "outputs": [],
   "source": [
    "Structured data >> CSV, Excel\n",
    "Unstructured    >> IMages, Text, Videos\n",
    "Semistructured  >> HTML,JSON"
   ]
  },
  {
   "cell_type": "code",
   "execution_count": null,
   "metadata": {},
   "outputs": [],
   "source": [
    "email id\n",
    "Mobile Number\n",
    "PAN Card\n",
    "AAdhar\n",
    "DL\n",
    "Passport \n",
    "Voter ID\n",
    "IFSC\n",
    "Date"
   ]
  },
  {
   "cell_type": "raw",
   "metadata": {},
   "source": [
    "Regular Expression >> It is the sequence of character used to check whether pattern in given text/string "
   ]
  },
  {
   "cell_type": "code",
   "execution_count": null,
   "metadata": {},
   "outputs": [],
   "source": [
    "import re\n",
    "1. findall\n",
    "2. sub\n",
    "3. search\n",
    "4. match\n",
    "5. compile\n"
   ]
  },
  {
   "cell_type": "markdown",
   "metadata": {},
   "source": [
    "# 1. findall()"
   ]
  },
  {
   "cell_type": "raw",
   "metadata": {},
   "source": [
    "Return a list of containing matches in string\n",
    "list1 = re.findall(pattern, string)"
   ]
  },
  {
   "cell_type": "code",
   "execution_count": 4,
   "metadata": {},
   "outputs": [
    {
     "data": {
      "text/plain": [
       "['9404283030', '9087656378']"
      ]
     },
     "execution_count": 4,
     "metadata": {},
     "output_type": "execute_result"
    }
   ],
   "source": [
    "import re\n",
    "text = \"\"\"My mobile number is 9404283030\n",
    "        my email id rdkendre@gmail.com \n",
    "        9087656378\"\"\"\n",
    "\n",
    "# 10 digits\n",
    "mobile_number = re.findall('[0-9]{10}',text)\n",
    "mobile_number"
   ]
  },
  {
   "cell_type": "code",
   "execution_count": 9,
   "metadata": {},
   "outputs": [
    {
     "name": "stdout",
     "output_type": "stream",
     "text": [
      "['94', '04', '28', '30', '30', '90', '87', '65', '63']\n"
     ]
    }
   ],
   "source": [
    "import re\n",
    "text = \"\"\"My mobile number is 9404283030\n",
    "        my email id rdkendre@gmail.com \n",
    "        908765637 \"\"\"\n",
    "\n",
    "# 10 digits\n",
    "mobile_number = re.findall('[0-9]{2}',text)\n",
    "print(mobile_number)"
   ]
  },
  {
   "cell_type": "code",
   "execution_count": 11,
   "metadata": {},
   "outputs": [
    {
     "name": "stdout",
     "output_type": "stream",
     "text": [
      "['940', '428', '303', '908', '765', '637']\n"
     ]
    }
   ],
   "source": [
    "import re\n",
    "text = \"\"\"My mobile number is 9404283030\n",
    "        my email id rdkendre@gmail.com \n",
    "        908765637 \"\"\"\n",
    "\n",
    "# 10 digits\n",
    "mobile_number = re.findall('[0-9]{3}',text)\n",
    "print(mobile_number)"
   ]
  },
  {
   "cell_type": "code",
   "execution_count": 17,
   "metadata": {},
   "outputs": [
    {
     "name": "stdout",
     "output_type": "stream",
     "text": [
      "['MY']\n"
     ]
    }
   ],
   "source": [
    "import re\n",
    "text = \"\"\"My mobile number is 9404283030\n",
    "        MY email id rdkendre@gmail.com \n",
    "        908765637 \"\"\"\n",
    "\n",
    "# 10 digits\n",
    "char = re.findall('[A-Z]{2}',text)\n",
    "print(char)"
   ]
  },
  {
   "cell_type": "code",
   "execution_count": 26,
   "metadata": {},
   "outputs": [
    {
     "name": "stdout",
     "output_type": "stream",
     "text": [
      "['Mobile', 'number', 'rahulk']\n"
     ]
    }
   ],
   "source": [
    "import re\n",
    "text = \"\"\"My Mobile number is 9404283030\n",
    "        MY email id rahulkendre@gmail.com \n",
    "        908765637 \"\"\"\n",
    "\n",
    "# 10 digits\n",
    "char = re.findall('[A-Za-z]{6}',text)\n",
    "print(char)"
   ]
  },
  {
   "cell_type": "code",
   "execution_count": 30,
   "metadata": {},
   "outputs": [
    {
     "name": "stdout",
     "output_type": "stream",
     "text": [
      "['mobile', 'number', 'email', 'rahulkendre', 'gmail']\n"
     ]
    }
   ],
   "source": [
    "import re\n",
    "text = \"\"\"My mobile number is 9404283030\n",
    "        MY email id rahulkendre@gmail.com \n",
    "        908765637 \"\"\"\n",
    "\n",
    "# 10 digits\n",
    "email = re.findall('[a-z]{5,15}',text)\n",
    "print(email)"
   ]
  },
  {
   "cell_type": "code",
   "execution_count": 33,
   "metadata": {},
   "outputs": [
    {
     "name": "stdout",
     "output_type": "stream",
     "text": [
      "['rahulkendre@gmail.com']\n"
     ]
    }
   ],
   "source": [
    "import re\n",
    "text = \"\"\"My mobile number is 9404283030\n",
    "        MY email id rahulkendre@gmail.com \n",
    "        908765637 \"\"\"\n",
    "\n",
    "# 10 digits\n",
    "email = re.findall('[a-z]{5,15}[@][a-z.]{5,15}',text)\n",
    "print(email)"
   ]
  },
  {
   "cell_type": "code",
   "execution_count": 45,
   "metadata": {},
   "outputs": [
    {
     "name": "stdout",
     "output_type": "stream",
     "text": [
      "['rahulkendre@gmail.com']\n"
     ]
    }
   ],
   "source": [
    "import re\n",
    "text = \"\"\"My mobile number is 9404283030\n",
    "        MY email id rahulkendre@gmail.com \n",
    "        908765637 \"\"\"\n",
    "\n",
    "# 10 digits\n",
    "email = re.findall('[a-z]{5,15}[@][a-z]{5,15}[.][a-z]{2,10}',text)\n",
    "print(email)"
   ]
  },
  {
   "cell_type": "code",
   "execution_count": 46,
   "metadata": {},
   "outputs": [
    {
     "name": "stdout",
     "output_type": "stream",
     "text": [
      "['mobile.number', 'email', 'vctcpune.co.in', '.............']\n"
     ]
    }
   ],
   "source": [
    "import re\n",
    "text = \"\"\"My mobile.number is 9404283030\n",
    "        MY email id vctcpune.co.in \n",
    "        908765637 \n",
    "        .............\"\"\"\n",
    "\n",
    "# 10 digits\n",
    "email = re.findall('[.a-z]{5,15}',text)\n",
    "print(email)"
   ]
  },
  {
   "cell_type": "code",
   "execution_count": null,
   "metadata": {},
   "outputs": [],
   "source": []
  },
  {
   "cell_type": "code",
   "execution_count": 48,
   "metadata": {},
   "outputs": [
    {
     "name": "stdout",
     "output_type": "stream",
     "text": [
      "['mobil', 'numbe', 'email', 'rahul', 'kendr', 'gmail']\n"
     ]
    }
   ],
   "source": [
    "import re\n",
    "text = \"\"\"My mobile number is 9404283030\n",
    "        MY email id rahulkendre@gmail.com \n",
    "        908765637 \"\"\"\n",
    "\n",
    "words = re.findall('[a-z]{5}',text)\n",
    "print(words)\n",
    "\n",
    "# mobil, numbe, email, rahul, kendr, gmail"
   ]
  },
  {
   "cell_type": "code",
   "execution_count": 50,
   "metadata": {},
   "outputs": [
    {
     "name": "stdout",
     "output_type": "stream",
     "text": [
      "['mobile', 'number', 'email', 'rahulke', 'gmail']\n"
     ]
    }
   ],
   "source": [
    "import re\n",
    "text = \"\"\"My mobile number is 9404283030\n",
    "        MY email id rahulkendre@gmail.com \n",
    "        908765637 \"\"\"\n",
    "\n",
    "words = re.findall('[a-z]{5,7}',text)  # 7,6,5\n",
    "print(words)\n",
    "\n",
    "# mobile, number, email, rahulke, gmail"
   ]
  },
  {
   "cell_type": "code",
   "execution_count": 53,
   "metadata": {},
   "outputs": [
    {
     "name": "stdout",
     "output_type": "stream",
     "text": [
      "['mobile', 'number', 'email', 'rahulkendre', 'gmail']\n"
     ]
    }
   ],
   "source": [
    "import re\n",
    "text = \"\"\"My mobile number is 9404283030\n",
    "        MY email id rahulkendre@gmail.com \n",
    "        908765637 \"\"\"\n",
    "\n",
    "words = re.findall('[a-z]{5,15}',text)  # 7,6,5\n",
    "print(words)\n",
    "\n",
    "# mobile, number,9404283, email, rahulke, gmail, 9087656"
   ]
  },
  {
   "cell_type": "code",
   "execution_count": 57,
   "metadata": {},
   "outputs": [
    {
     "name": "stdout",
     "output_type": "stream",
     "text": [
      "['mobi', 'numb', 'emai', 'rahu', 'lken', 'gmai', 'l.co', '....']\n"
     ]
    }
   ],
   "source": [
    "import re\n",
    "text = \"\"\"My mobile number is 9404283030\n",
    "        MY email id rahulkendre@gmail.com \n",
    "        908765637 ..... \"\"\"\n",
    "\n",
    "words = re.findall('[a-z.]{4}',text)  # 7,6,5\n",
    "print(words)\n"
   ]
  },
  {
   "cell_type": "code",
   "execution_count": 62,
   "metadata": {},
   "outputs": [
    {
     "name": "stdout",
     "output_type": "stream",
     "text": [
      "['rahulkendre@gmail.com']\n"
     ]
    }
   ],
   "source": [
    "import re\n",
    "text = \"\"\"My mobile number is 9404283030\n",
    "        MY email id rahulkendre@gmail.com \n",
    "        908765637 \"\"\"\n",
    "\n",
    "# 10 digits\n",
    "email = re.findall('[a-z]{5,15}[@][a-z.]{5,15}',text)\n",
    "print(email)"
   ]
  },
  {
   "cell_type": "code",
   "execution_count": 68,
   "metadata": {},
   "outputs": [
    {
     "data": {
      "text/plain": [
       "['hr@capgemini.com',\n",
       " 'viratkohli123@rediffmail.co.in',\n",
       " 'virat.kohli@rediffmail.co.in',\n",
       " 'virat_kohli123@rediffmail.co.in',\n",
       " 'virat_kohli@rediffmail.com',\n",
       " 'virat_kohli@coep.edu.in']"
      ]
     },
     "execution_count": 68,
     "metadata": {},
     "output_type": "execute_result"
    }
   ],
   "source": [
    "String = \"\"\"Name: Virat Kohli\n",
    "            hr@capgemini.com\n",
    "            viratkohli123@rediffmail.co.in\n",
    "            virat.kohli@rediffmail.co.in\n",
    "            virat_kohli123@rediffmail.co.in\n",
    "            virat_kohli@rediffmail.com\n",
    "            virat_kohli@coep.edu.in\"\"\"\n",
    "            \n",
    "email = re.findall('[a-z0-9_.]{2,20}[@][a-z.]{2,20}',String)\n",
    "email"
   ]
  },
  {
   "cell_type": "code",
   "execution_count": 72,
   "metadata": {},
   "outputs": [
    {
     "data": {
      "text/plain": [
       "['ASDFG2345Q', 'ASDFG2345P']"
      ]
     },
     "execution_count": 72,
     "metadata": {},
     "output_type": "execute_result"
    }
   ],
   "source": [
    "String = \"\"\"PAN Card Nummber :\n",
    "            ASDFG2345Q    #Valid\n",
    "            ASDF22345Q    #Invalid\n",
    "            ASDFG23450    #Invalid\n",
    "            ASDFG2345P    #Valid\n",
    "            ASDFG2R45P    #Invalid\n",
    "            \"\"\"\n",
    "            \n",
    "pan_number = re.findall('[A-Z]{5}[0-9]{4}[A-Z]',String)\n",
    "pan_number"
   ]
  },
  {
   "cell_type": "code",
   "execution_count": 75,
   "metadata": {},
   "outputs": [
    {
     "data": {
      "text/plain": [
       "['ASDFG2345Q', 'ASDF22345Q', 'ASDFG23450', 'ASDFG2345P', 'ASDFG2R45P']"
      ]
     },
     "execution_count": 75,
     "metadata": {},
     "output_type": "execute_result"
    }
   ],
   "source": [
    "String = \"\"\"PAN Card Nummber :\n",
    "            ASDFG2345Q    #Valid\n",
    "            ASDF22345Q    #Invalid\n",
    "            ASDFG23450    #Invalid\n",
    "            ASDFG2345P    #Valid\n",
    "            ASDFG2R45P    #Invalid\n",
    "            \"\"\"\n",
    "            \n",
    "pan_number = re.findall('[A-Z0-9]{10}',String)\n",
    "pan_number"
   ]
  },
  {
   "cell_type": "code",
   "execution_count": 80,
   "metadata": {},
   "outputs": [
    {
     "data": {
      "text/plain": [
       "['20-10-2021', '20-08-2021', '35-08-2021']"
      ]
     },
     "execution_count": 80,
     "metadata": {},
     "output_type": "execute_result"
    }
   ],
   "source": [
    "String = \"\"\"PAN Card Nummber :\n",
    "            ASDFG2345Q    #Valid\n",
    "            ASDF22345Q    #Invalid\n",
    "            ASDFG23450    #Invalid\n",
    "            ASDFG2345P    #Valid\n",
    "            ASDFG2R45P    #Invalid\n",
    "            \n",
    "            Date : 20-10-2021\n",
    "            20-08-2021\n",
    "            35-08-2021\n",
    "            \"\"\"\n",
    "            \n",
    "pan_number = re.findall('[A-Z0-9]{10}',String)\n",
    "pan_number\n",
    "date = re.findall('[0-9]{2}[-][0-9]{2}[-][0-9]{4}',String)\n",
    "date"
   ]
  },
  {
   "cell_type": "code",
   "execution_count": 85,
   "metadata": {},
   "outputs": [
    {
     "data": {
      "text/plain": [
       "['20-10-2021', '20-08-2021', '09-11-2021']"
      ]
     },
     "execution_count": 85,
     "metadata": {},
     "output_type": "execute_result"
    }
   ],
   "source": [
    "String = \"\"\"PAN Card Nummber :\n",
    "            ASDFG2345Q    #Valid\n",
    "            ASDF22345Q    #Invalid\n",
    "            ASDFG23450    #Invalid\n",
    "            ASDFG2345P    #Valid\n",
    "            ASDFG2R45P    #Invalid\n",
    "            \n",
    "            Date : 20-10-2021  1900\n",
    "            20-08-2021\n",
    "            35-38-2021\n",
    "            09-11-2021\n",
    "            09-11-1567\n",
    "            \"\"\"\n",
    "            \n",
    "pan_number = re.findall('[A-Z0-9]{10}',String)\n",
    "pan_number\n",
    "date = re.findall('[0-3][0-9][-][01][0-8][-][12][09][0-9]{2}',String)\n",
    "date"
   ]
  },
  {
   "cell_type": "code",
   "execution_count": 90,
   "metadata": {},
   "outputs": [
    {
     "data": {
      "text/plain": [
       "['ASDFG2345Q', 'ASDFG2345P']"
      ]
     },
     "execution_count": 90,
     "metadata": {},
     "output_type": "execute_result"
    }
   ],
   "source": [
    "String = \"\"\"PAN Card Nummber :\n",
    "            QWERASDFG2345Q    #InValid\n",
    "            ASDF22345Q    #Invalid\n",
    "            ASDFG23450    #Invalid\n",
    "            ASDFG2345P    #Valid\n",
    "            ASDFG2R45P    #Invalid\n",
    "            \n",
    "            Date : 20-10-2021  1900\n",
    "            20-08-2021\n",
    "            35-38-2021\n",
    "            09-11-2021\n",
    "            09-11-1567\n",
    "            \"\"\"\n",
    "            \n",
    "pan_number = re.findall('[A-Z]{5}[0-9]{4}[A-Z]',String)\n",
    "pan_number\n"
   ]
  },
  {
   "cell_type": "code",
   "execution_count": null,
   "metadata": {},
   "outputs": [],
   "source": []
  },
  {
   "cell_type": "code",
   "execution_count": null,
   "metadata": {},
   "outputs": [],
   "source": []
  },
  {
   "cell_type": "code",
   "execution_count": null,
   "metadata": {},
   "outputs": [],
   "source": []
  }
 ],
 "metadata": {
  "kernelspec": {
   "display_name": "Python 3",
   "language": "python",
   "name": "python3"
  },
  "language_info": {
   "codemirror_mode": {
    "name": "ipython",
    "version": 3
   },
   "file_extension": ".py",
   "mimetype": "text/x-python",
   "name": "python",
   "nbconvert_exporter": "python",
   "pygments_lexer": "ipython3",
   "version": "3.7.3"
  }
 },
 "nbformat": 4,
 "nbformat_minor": 5
}
