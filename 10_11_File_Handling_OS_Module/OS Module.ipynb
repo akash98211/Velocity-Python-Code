{
 "cells": [
  {
   "cell_type": "markdown",
   "id": "catholic-emergency",
   "metadata": {},
   "source": [
    "# OS Module"
   ]
  },
  {
   "cell_type": "code",
   "execution_count": 2,
   "id": "secret-speed",
   "metadata": {},
   "outputs": [],
   "source": [
    "# Operating System\n",
    "import os"
   ]
  },
  {
   "cell_type": "code",
   "execution_count": 5,
   "id": "circular-funeral",
   "metadata": {},
   "outputs": [
    {
     "name": "stdout",
     "output_type": "stream",
     "text": [
      "153\n"
     ]
    }
   ],
   "source": [
    "print(len(dir(os)))"
   ]
  },
  {
   "cell_type": "raw",
   "id": "seasonal-saying",
   "metadata": {},
   "source": [
    "1. Create Folder/ File\n",
    "2. Delete Folder/File\n",
    "3. Rename\n",
    "4. Copy/Move\n",
    "5. Current Directory"
   ]
  },
  {
   "cell_type": "code",
   "execution_count": 6,
   "id": "fitting-receptor",
   "metadata": {},
   "outputs": [],
   "source": [
    "f = open('sample_text.txt','w')\n",
    "f.write('Testing')\n",
    "f.close()"
   ]
  },
  {
   "cell_type": "markdown",
   "id": "physical-utility",
   "metadata": {},
   "source": [
    "# 1. rename()"
   ]
  },
  {
   "cell_type": "raw",
   "id": "different-shoulder",
   "metadata": {},
   "source": [
    "rename('old_file_nmae','new_file_name')\n"
   ]
  },
  {
   "cell_type": "code",
   "execution_count": 7,
   "id": "chief-whale",
   "metadata": {},
   "outputs": [],
   "source": [
    "os.rename('sample_text.txt','new_sample.txt')"
   ]
  },
  {
   "cell_type": "code",
   "execution_count": null,
   "id": "listed-governor",
   "metadata": {},
   "outputs": [],
   "source": []
  },
  {
   "cell_type": "markdown",
   "id": "noble-renaissance",
   "metadata": {},
   "source": [
    "# 2. Remove files"
   ]
  },
  {
   "cell_type": "raw",
   "id": "posted-auckland",
   "metadata": {},
   "source": [
    "remove('file_name')"
   ]
  },
  {
   "cell_type": "code",
   "execution_count": 9,
   "id": "atmospheric-psychiatry",
   "metadata": {},
   "outputs": [
    {
     "ename": "FileNotFoundError",
     "evalue": "[WinError 2] The system cannot find the file specified: 'new_sample.txt'",
     "output_type": "error",
     "traceback": [
      "\u001b[1;31m---------------------------------------------------------------------------\u001b[0m",
      "\u001b[1;31mFileNotFoundError\u001b[0m                         Traceback (most recent call last)",
      "\u001b[1;32m<ipython-input-9-f82f792a5d75>\u001b[0m in \u001b[0;36m<module>\u001b[1;34m\u001b[0m\n\u001b[1;32m----> 1\u001b[1;33m \u001b[0mos\u001b[0m\u001b[1;33m.\u001b[0m\u001b[0mremove\u001b[0m\u001b[1;33m(\u001b[0m\u001b[1;34m'new_sample.txt'\u001b[0m\u001b[1;33m)\u001b[0m\u001b[1;33m\u001b[0m\u001b[1;33m\u001b[0m\u001b[0m\n\u001b[0m",
      "\u001b[1;31mFileNotFoundError\u001b[0m: [WinError 2] The system cannot find the file specified: 'new_sample.txt'"
     ]
    }
   ],
   "source": [
    "os.remove('new_sample.txt')"
   ]
  },
  {
   "cell_type": "markdown",
   "id": "dietary-quarterly",
   "metadata": {},
   "source": [
    "# 3. check file exist or not"
   ]
  },
  {
   "cell_type": "code",
   "execution_count": 12,
   "id": "adjacent-database",
   "metadata": {},
   "outputs": [
    {
     "name": "stdout",
     "output_type": "stream",
     "text": [
      "File not exist\n"
     ]
    }
   ],
   "source": [
    "if os.path.exists('new_sample.txt'):\n",
    "    print('File exist')\n",
    "    \n",
    "else:\n",
    "    print(\"File not exist\")"
   ]
  },
  {
   "cell_type": "code",
   "execution_count": 14,
   "id": "handed-scene",
   "metadata": {},
   "outputs": [
    {
     "name": "stdout",
     "output_type": "stream",
     "text": [
      "File exist\n"
     ]
    }
   ],
   "source": [
    "if os.path.exists('ml.txt'):\n",
    "    print('File exist')\n",
    "    \n",
    "else:\n",
    "    print(\"File not exist\")"
   ]
  },
  {
   "cell_type": "code",
   "execution_count": 19,
   "id": "atmospheric-chemistry",
   "metadata": {},
   "outputs": [
    {
     "name": "stdout",
     "output_type": "stream",
     "text": [
      "File not exist\n"
     ]
    }
   ],
   "source": [
    "file_name = 'bank.txt'\n",
    "if os.path.exists(file_name):\n",
    "    print('File exist')\n",
    "    os.remove(file_name)\n",
    "    \n",
    "else:\n",
    "    print(\"File not exist\")"
   ]
  },
  {
   "cell_type": "markdown",
   "id": "plain-least",
   "metadata": {},
   "source": [
    "# Create directory"
   ]
  },
  {
   "cell_type": "code",
   "execution_count": 20,
   "id": "reliable-network",
   "metadata": {},
   "outputs": [],
   "source": [
    "folder_path = 'Data Science'\n",
    "\n",
    "os.mkdir(folder_path)"
   ]
  },
  {
   "cell_type": "code",
   "execution_count": 22,
   "id": "political-biotechnology",
   "metadata": {},
   "outputs": [],
   "source": [
    "folder_path = 'Python'\n",
    "\n",
    "os.mkdir(folder_path)"
   ]
  },
  {
   "cell_type": "code",
   "execution_count": 24,
   "id": "driving-river",
   "metadata": {},
   "outputs": [
    {
     "name": "stdout",
     "output_type": "stream",
     "text": [
      "Folder already exist\n"
     ]
    }
   ],
   "source": [
    "folder_path = 'DATA'\n",
    "if not os.path.exists(folder_path):\n",
    "    print(\"Folder not exist\")\n",
    "    os.mkdir(folder_path)\n",
    "    print('Folder Created')\n",
    "    \n",
    "else:\n",
    "    print(\"Folder already exist\")"
   ]
  },
  {
   "cell_type": "markdown",
   "id": "concrete-mission",
   "metadata": {},
   "source": [
    "# Remove Directory"
   ]
  },
  {
   "cell_type": "code",
   "execution_count": 25,
   "id": "attempted-gathering",
   "metadata": {},
   "outputs": [],
   "source": [
    "folder_path = 'DATA'\n",
    "os.rmdir(folder_path)"
   ]
  },
  {
   "cell_type": "code",
   "execution_count": 27,
   "id": "acute-separate",
   "metadata": {},
   "outputs": [
    {
     "name": "stdout",
     "output_type": "stream",
     "text": [
      "Folder exist\n",
      "Folder Deleted\n"
     ]
    }
   ],
   "source": [
    "folder_path = 'Python'\n",
    "\n",
    "if os.path.exists(folder_path):\n",
    "    print(\"Folder exist\")\n",
    "    os.rmdir(folder_path)\n",
    "    print('Folder Deleted')\n",
    "    \n",
    "else:\n",
    "    print(\"Folder Not exist\")"
   ]
  },
  {
   "cell_type": "code",
   "execution_count": 28,
   "id": "listed-schedule",
   "metadata": {},
   "outputs": [
    {
     "name": "stdout",
     "output_type": "stream",
     "text": [
      "Folder Not exist\n"
     ]
    }
   ],
   "source": [
    "folder_path = 'Python'\n",
    "\n",
    "if os.path.exists(folder_path):\n",
    "    print(\"Folder exist\")\n",
    "    os.rmdir(folder_path)\n",
    "    print('Folder Deleted')\n",
    "    \n",
    "else:\n",
    "    print(\"Folder Not exist\")"
   ]
  },
  {
   "cell_type": "markdown",
   "id": "present-laundry",
   "metadata": {},
   "source": [
    "# Current Directory"
   ]
  },
  {
   "cell_type": "code",
   "execution_count": 29,
   "id": "advanced-instrumentation",
   "metadata": {},
   "outputs": [
    {
     "data": {
      "text/plain": [
       "'D:\\\\RahulK\\\\Velocity_Sep_21\\\\10_11_File_Handling'"
      ]
     },
     "execution_count": 29,
     "metadata": {},
     "output_type": "execute_result"
    }
   ],
   "source": [
    "\n",
    "os.getcwd()"
   ]
  }
 ],
 "metadata": {
  "kernelspec": {
   "display_name": "Python 3 (ipykernel)",
   "language": "python",
   "name": "python3"
  },
  "language_info": {
   "codemirror_mode": {
    "name": "ipython",
    "version": 3
   },
   "file_extension": ".py",
   "mimetype": "text/x-python",
   "name": "python",
   "nbconvert_exporter": "python",
   "pygments_lexer": "ipython3",
   "version": "3.9.1"
  }
 },
 "nbformat": 4,
 "nbformat_minor": 5
}
