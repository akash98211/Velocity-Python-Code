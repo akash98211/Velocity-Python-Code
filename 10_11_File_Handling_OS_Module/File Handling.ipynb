{
 "cells": [
  {
   "cell_type": "markdown",
   "id": "comparative-academy",
   "metadata": {},
   "source": [
    "# File Handling"
   ]
  },
  {
   "cell_type": "code",
   "execution_count": null,
   "id": "prompt-pathology",
   "metadata": {},
   "outputs": [],
   "source": [
    "Mode\n",
    "1. Write >> 'w'\n",
    "2. read  >> 'r'\n",
    "3. append >> 'a'\n"
   ]
  },
  {
   "cell_type": "raw",
   "id": "cutting-philosophy",
   "metadata": {},
   "source": [
    "open(file_name, mode)  \n",
    "\n",
    "Default mode >> read\n",
    "open(file_name, 'r')  \n",
    "\n",
    "\n",
    "Open Function will return a file object"
   ]
  },
  {
   "cell_type": "code",
   "execution_count": null,
   "id": "herbal-barrel",
   "metadata": {},
   "outputs": [],
   "source": [
    "file.close() >> terminate all operations on file"
   ]
  },
  {
   "cell_type": "code",
   "execution_count": null,
   "id": "faced-conditions",
   "metadata": {},
   "outputs": [],
   "source": []
  },
  {
   "cell_type": "markdown",
   "id": "jewish-explosion",
   "metadata": {},
   "source": [
    "# 1. Write()"
   ]
  },
  {
   "cell_type": "code",
   "execution_count": null,
   "id": "bearing-makeup",
   "metadata": {},
   "outputs": [],
   "source": [
    "write >> 'w'\n",
    "Create a file if not exist \n",
    "overwrite file if file exist"
   ]
  },
  {
   "cell_type": "code",
   "execution_count": 5,
   "id": "inappropriate-consensus",
   "metadata": {},
   "outputs": [],
   "source": [
    "file_ptr = open('test.txt','w')\n",
    "file_ptr.write('Hello')\n",
    "file_ptr.close()"
   ]
  },
  {
   "cell_type": "code",
   "execution_count": 8,
   "id": "useful-motion",
   "metadata": {},
   "outputs": [],
   "source": [
    "file_ptr = open('myfile.txt','w')\n",
    "file_ptr.write('We are learning Python')\n",
    "file_ptr.close()"
   ]
  },
  {
   "cell_type": "code",
   "execution_count": 11,
   "id": "polar-lawsuit",
   "metadata": {},
   "outputs": [],
   "source": [
    "file_ptr = open('myfile1.txt','w')\n",
    "file_ptr.write(\"Machine Learning\")\n",
    "file_ptr.close()"
   ]
  },
  {
   "cell_type": "code",
   "execution_count": null,
   "id": "fantastic-original",
   "metadata": {},
   "outputs": [],
   "source": [
    "f = open('myfile1.txt','w')\n",
    "f.write(\"Machine Learning\")\n",
    "f.close()"
   ]
  },
  {
   "cell_type": "code",
   "execution_count": 21,
   "id": "suspended-production",
   "metadata": {},
   "outputs": [
    {
     "data": {
      "text/plain": [
       "177"
      ]
     },
     "execution_count": 21,
     "metadata": {},
     "output_type": "execute_result"
    }
   ],
   "source": [
    "text = \"\"\"Machine learning is the study of computer algorithms \n",
    "that can improve automatically \n",
    "through experience and by the use of data. \n",
    "It is seen as a part of artificial intelligence\"\"\"\n",
    "\n",
    "f = open('ml.txt','w')\n",
    "f.write(text)\n",
    "# f.close()"
   ]
  },
  {
   "cell_type": "code",
   "execution_count": 22,
   "id": "reasonable-designer",
   "metadata": {},
   "outputs": [],
   "source": [
    "data_science = \"\"\"\\n\\nData science is an interdisciplinary field that uses scientific methods, \n",
    "processes, algorithms and systems to extract knowledge and insights from noisy, \n",
    "structured and unstructured data,[1][2] and apply knowledge and actionable insights from data \n",
    "across a broad range of application domains. Data science is related to data mining, machine \n",
    "learning and big data.\"\"\"\n",
    "\n",
    "f.write(data_science)\n",
    "f.close()"
   ]
  },
  {
   "cell_type": "code",
   "execution_count": 24,
   "id": "split-laptop",
   "metadata": {},
   "outputs": [],
   "source": [
    "f = open('data.txt','w')\n",
    "f.write(\"Python\")\n",
    "f.write(\"\\nData Science\")\n",
    "f.close()\n"
   ]
  },
  {
   "cell_type": "code",
   "execution_count": null,
   "id": "blank-notion",
   "metadata": {},
   "outputs": [],
   "source": [
    "OCR >> image to text conversion\n",
    "1. Pytesseract\n",
    "2. Google Vision\n",
    "3. AWS Textract\n",
    "\n",
    "10 images >> text\n"
   ]
  },
  {
   "cell_type": "code",
   "execution_count": 27,
   "id": "scheduled-steps",
   "metadata": {},
   "outputs": [],
   "source": [
    "bank_data = \"\"\"PARNAVI ELECTRONICS\n",
    "Joint Holder :- -\n",
    "SHOP NO 01 BABA MARKET HAROLA\n",
    "SECTOR 05\n",
    "NOIDA Customer No :875243714\n",
    "UTTAR PRADESH Scheme :CURRENT ACCOUNT-NORMAL\n",
    "201301 Currency :INR\n",
    "\"\"\"\n",
    "\n",
    "f = open('bank_data.txt','w')\n",
    "f.write(bank_data)\n",
    "f.close()"
   ]
  },
  {
   "cell_type": "code",
   "execution_count": 36,
   "id": "american-algebra",
   "metadata": {},
   "outputs": [],
   "source": [
    "old_bank_data = \"\"\"PARNAVI ELECTRONICS\n",
    "Joint Holder :- -\n",
    "SHOP NO 01 BABA MARKET HAROLA\n",
    "SECTOR 05\n",
    "\"\"\"\n",
    "f = open('bank.txt','w')\n",
    "f.write(old_bank_data)\n",
    "f.close()\n",
    "\n",
    "\n"
   ]
  },
  {
   "cell_type": "markdown",
   "id": "turned-association",
   "metadata": {},
   "source": [
    "# 2. append()"
   ]
  },
  {
   "cell_type": "raw",
   "id": "concrete-radiation",
   "metadata": {},
   "source": [
    "append >> 'a'\n",
    "Create a file, if not exist\n",
    "Add text if alreay exist"
   ]
  },
  {
   "cell_type": "code",
   "execution_count": 37,
   "id": "patent-chemical",
   "metadata": {},
   "outputs": [],
   "source": [
    "new_bank_data = \"\"\"NOIDA Customer No :875243714\n",
    "UTTAR PRADESH Scheme :CURRENT ACCOUNT-NORMAL\n",
    "201301 Currency :INR\n",
    "\"\"\"\n",
    "\n",
    "f = open('bank.txt','a')\n",
    "f.write(new_bank_data)\n",
    "f.close()"
   ]
  },
  {
   "cell_type": "code",
   "execution_count": 42,
   "id": "wanted-intellectual",
   "metadata": {},
   "outputs": [],
   "source": [
    "f = open('test_file.txt','w')\n",
    "f.write('Machine Learning')\n",
    "f.close()"
   ]
  },
  {
   "cell_type": "code",
   "execution_count": 43,
   "id": "third-raising",
   "metadata": {},
   "outputs": [],
   "source": [
    "f = open('test_file.txt','a')\n",
    "f.write('\\nDeep Learning')\n",
    "f.close()"
   ]
  },
  {
   "cell_type": "code",
   "execution_count": 44,
   "id": "steady-second",
   "metadata": {},
   "outputs": [],
   "source": [
    "f = open('test_file.txt','a')\n",
    "f.write('\\nDeep Learning')\n",
    "f.close()"
   ]
  },
  {
   "cell_type": "markdown",
   "id": "seeing-windsor",
   "metadata": {},
   "source": [
    "# 3. read()"
   ]
  },
  {
   "cell_type": "raw",
   "id": "scenic-division",
   "metadata": {},
   "source": [
    "read >> 'r'\n",
    "default open function mode is read\n",
    "\n",
    "Used to read content of file"
   ]
  },
  {
   "cell_type": "code",
   "execution_count": 51,
   "id": "delayed-lloyd",
   "metadata": {},
   "outputs": [
    {
     "name": "stdout",
     "output_type": "stream",
     "text": [
      "Python\n",
      "Data Science\n"
     ]
    }
   ],
   "source": [
    "f = open('data.txt','r')\n",
    "text = f.read()\n",
    "print(text)\n",
    "f.close()"
   ]
  },
  {
   "cell_type": "code",
   "execution_count": 52,
   "id": "posted-victoria",
   "metadata": {},
   "outputs": [
    {
     "name": "stdout",
     "output_type": "stream",
     "text": [
      "Machine learning is the study of computer algorithms \n",
      "that can improve automatically \n",
      "through experience and by the use of data. \n",
      "It is seen as a part of artificial intelligence\n",
      "\n",
      "Data science is an interdisciplinary field that uses scientific methods, \n",
      "processes, algorithms and systems to extract knowledge and insights from noisy, \n",
      "structured and unstructured data,[1][2] and apply knowledge and actionable insights from data \n",
      "across a broad range of application domains. Data science is related to data mining, machine \n",
      "learning and big data.\n"
     ]
    }
   ],
   "source": [
    "file = open('ml.txt','r')\n",
    "text = file.read()\n",
    "print(text)\n",
    "file.close()"
   ]
  },
  {
   "cell_type": "code",
   "execution_count": 54,
   "id": "genetic-boston",
   "metadata": {},
   "outputs": [
    {
     "name": "stdout",
     "output_type": "stream",
     "text": [
      "PARNAVI ELECTRONICS\n",
      "Joint Holder :- -\n",
      "SHOP NO 01 BABA MARKET HAROLA\n",
      "SECTOR 05\n",
      "NOIDA Customer No :875243714\n",
      "UTTAR PRADESH Scheme :CURRENT ACCOUNT-NORMAL\n",
      "201301 Currency :INR\n",
      "\n"
     ]
    }
   ],
   "source": [
    "file = open('bank_data.txt','r')\n",
    "text = file.read()\n",
    "print(text)\n",
    "file.close()"
   ]
  },
  {
   "cell_type": "code",
   "execution_count": 55,
   "id": "every-speech",
   "metadata": {},
   "outputs": [
    {
     "name": "stdout",
     "output_type": "stream",
     "text": [
      "the american action film has been slowly drowning to death in a sea of asian wire-fu copycats . \n",
      "it's not a pretty death , and it's leaving the likes of schwartznager , stallone , and van damme wearing cement galoshes at the bottom of a kung fu sea . \n",
      "sometimes , the mix results in a mind-blowing spectacle unlike any other . \n",
      "quality action with amazing and exciting stunt work , as in 1999's the matrix , can be a real gem . \n",
      "but too often hollywood gets it wrong , even when they pay off chinese directors . \n",
      "flying ninjas and floating karate masters have been replaced by soaring bronx detectives and slow motion kicking scientists . \n",
      "mostly it's laughable . \n",
      "in hollywood's rush to emulate the success of the matrix , trademark asian stunt choreography has become more of a joke than an art form . \n",
      "but iron monkey , the latest asian import , shows us how to get it right . \n",
      "iron monkey ( actually a reissue of a 1993 film ) is the story of a 19th chinese vigilante ( rongguang yu ) , fighting with his own unique style of shaolin kung fu for the rights of the oppressed and the bellies of the hungry . \n",
      "but it is also a piece of the narrative of legendary chinese film hero wong fei-hong , most recently seen in one of the most overlooked , and possibly best films of 2000 , drunken master 2 ( released in the u . s . as the legend of drunken master ) . \n",
      "unlike drunken master 2 , which stars jackie chan as an adult fei-hong , iron monkey finds a much younger fei-hong ( sze-man tsang ) and his father wong kei-ying ( yen chi dan ) thrust into the middle of iron monkey's fight against oppression . \n",
      "iron monkey succeeds as no kung fu film since drunken master 2 . at times , fighting styles , especially that of monkey himself , do devolve into the ridiculous twinkle-toed floating of films like crouching tiger , hidden dragon , director yuen wo ping eventually remembers to bring his action scenes back to earth . \n",
      "iron monkey is at its heart a hardcore , kung fu action film rather than any kind of drama a la crouching tiger . \n",
      "however , there are brief moments of profoundness shared between characters , such as those that pass between our outlaw hero and his good-hearted but misguided enemy , chief fox . \n",
      "in those moments , and in others , iron monkey manages to transcend its mindless kung fu nature to touch the hearts and minds of its audience . \n",
      "while in no way the equal of a masterpiece like drunken master 2 , iron monkey dances quite nicely to the invading kung fu tune . \n",
      "aka siunin wong fei-hung tsi titmalau . \n",
      "\n"
     ]
    }
   ],
   "source": [
    "file = open('cv009_29592.txt','r')\n",
    "review = file.read()\n",
    "print(review)\n",
    "file.close()"
   ]
  },
  {
   "cell_type": "code",
   "execution_count": 56,
   "id": "cleared-earth",
   "metadata": {},
   "outputs": [
    {
     "name": "stdout",
     "output_type": "stream",
     "text": [
      "the american action film has been slowly drowning to death in a sea of asian wire-fu copycats . \n",
      "it'\n"
     ]
    }
   ],
   "source": [
    "file = open('cv009_29592.txt','r')\n",
    "review = file.read(100) # first 100 char \n",
    "print(review)\n",
    "file.close()"
   ]
  },
  {
   "cell_type": "code",
   "execution_count": 57,
   "id": "magnetic-remove",
   "metadata": {},
   "outputs": [
    {
     "name": "stdout",
     "output_type": "stream",
     "text": [
      "the a\n"
     ]
    }
   ],
   "source": [
    "file = open('cv009_29592.txt','r')\n",
    "review = file.read(5) # first 100 char \n",
    "print(review)\n",
    "file.close()"
   ]
  },
  {
   "cell_type": "code",
   "execution_count": 59,
   "id": "angry-handbook",
   "metadata": {},
   "outputs": [
    {
     "name": "stdout",
     "output_type": "stream",
     "text": [
      "PARNAVI ELECTRONICS\n",
      "Joint Holder :- -\n",
      "SHOP NO 01 BABA MARKET HAROLA\n",
      "SECTOR 05\n",
      "NOIDA Customer No :875243714\n",
      "UTTAR PRADESH Scheme :CURRENT ACCOUNT-NORMAL\n",
      "201301 Currency :INR\n",
      "\n"
     ]
    }
   ],
   "source": [
    "file = open('bank_data.txt','r')\n",
    "text = file.read()\n",
    "print(text)\n",
    "file.close()"
   ]
  },
  {
   "cell_type": "markdown",
   "id": "utility-laptop",
   "metadata": {},
   "source": [
    "### 3.1 readline()"
   ]
  },
  {
   "cell_type": "code",
   "execution_count": 62,
   "id": "organized-maximum",
   "metadata": {},
   "outputs": [
    {
     "name": "stdout",
     "output_type": "stream",
     "text": [
      "PARNAVI ELECTRONICS\n",
      "\n",
      "Joint Holder :- -\n",
      "\n",
      "SHOP NO 01 BABA MARKET HAROLA\n",
      "\n"
     ]
    }
   ],
   "source": [
    "file = open('bank_data.txt','r')\n",
    "text = file.readline()\n",
    "print(text)\n",
    "text1 = file.readline()\n",
    "print(text1)\n",
    "text2 = file.readline()\n",
    "print(text2)\n",
    "file.close()"
   ]
  },
  {
   "cell_type": "markdown",
   "id": "olive-nigeria",
   "metadata": {},
   "source": [
    "### 3.2 readlines()"
   ]
  },
  {
   "cell_type": "raw",
   "id": "pressing-energy",
   "metadata": {},
   "source": [
    "Return list of all lines"
   ]
  },
  {
   "cell_type": "code",
   "execution_count": 64,
   "id": "owned-component",
   "metadata": {},
   "outputs": [
    {
     "name": "stdout",
     "output_type": "stream",
     "text": [
      "['PARNAVI ELECTRONICS\\n', 'Joint Holder :- -\\n', 'SHOP NO 01 BABA MARKET HAROLA\\n', 'SECTOR 05\\n', 'NOIDA Customer No :875243714\\n', 'UTTAR PRADESH Scheme :CURRENT ACCOUNT-NORMAL\\n', '201301 Currency :INR\\n']\n"
     ]
    }
   ],
   "source": [
    "file = open('bank_data.txt','r')\n",
    "text = file.readlines()\n",
    "print(text)"
   ]
  },
  {
   "cell_type": "code",
   "execution_count": null,
   "id": "parental-bearing",
   "metadata": {},
   "outputs": [],
   "source": []
  },
  {
   "cell_type": "code",
   "execution_count": null,
   "id": "chief-advance",
   "metadata": {},
   "outputs": [],
   "source": []
  },
  {
   "cell_type": "code",
   "execution_count": null,
   "id": "alien-wesley",
   "metadata": {},
   "outputs": [],
   "source": []
  },
  {
   "cell_type": "code",
   "execution_count": null,
   "id": "broke-springfield",
   "metadata": {},
   "outputs": [],
   "source": []
  },
  {
   "cell_type": "code",
   "execution_count": 66,
   "id": "recognized-volleyball",
   "metadata": {},
   "outputs": [
    {
     "name": "stdout",
     "output_type": "stream",
     "text": [
      "PARNAVI ELECTRONICS\n",
      "Joint Holder :- -\n",
      "SHOP NO 01 BABA MARKET HAROLA\n",
      "SECTOR 05\n",
      "NOIDA Customer No :875243714\n",
      "UTTAR PRADESH Scheme :CURRENT ACCOUNT-NORMAL\n",
      "201301 Currency :INR\n",
      "\n"
     ]
    }
   ],
   "source": [
    "file = open('bank_data.txt','r')\n",
    "text = file.read()\n",
    "print(text)\n",
    "file.close()\n",
    "\n",
    "\n",
    "file = open('bank_data.txt','w')\n",
    "\n",
    "text = text.lower()\n",
    "file.write(text)\n",
    "file.close()"
   ]
  },
  {
   "cell_type": "markdown",
   "id": "differential-closing",
   "metadata": {},
   "source": [
    "# with statement"
   ]
  },
  {
   "cell_type": "code",
   "execution_count": null,
   "id": "great-agriculture",
   "metadata": {},
   "outputs": [],
   "source": [
    "no need to use close() function\n",
    "\n",
    "File will be closed automatically "
   ]
  },
  {
   "cell_type": "code",
   "execution_count": 67,
   "id": "excited-officer",
   "metadata": {},
   "outputs": [],
   "source": [
    "file = open('xyz.txt','w')\n",
    "file.write('Testing with statement')\n",
    "file.close()"
   ]
  },
  {
   "cell_type": "code",
   "execution_count": 68,
   "id": "engaging-scale",
   "metadata": {},
   "outputs": [],
   "source": [
    "with open('xyz.txt','w') as file:\n",
    "    file.write('With statement')"
   ]
  },
  {
   "cell_type": "code",
   "execution_count": 69,
   "id": "sonic-socket",
   "metadata": {},
   "outputs": [],
   "source": [
    "with open('xyz.txt','a') as file:\n",
    "    file.write('\\nPython')"
   ]
  },
  {
   "cell_type": "code",
   "execution_count": 70,
   "id": "compact-stone",
   "metadata": {},
   "outputs": [
    {
     "name": "stdout",
     "output_type": "stream",
     "text": [
      "Machine learning is the study of computer algorithms \n",
      "that can improve automatically \n",
      "through experience and by the use of data. \n",
      "It is seen as a part of artificial intelligence\n",
      "\n",
      "Data science is an interdisciplinary field that uses scientific methods, \n",
      "processes, algorithms and systems to extract knowledge and insights from noisy, \n",
      "structured and unstructured data,[1][2] and apply knowledge and actionable insights from data \n",
      "across a broad range of application domains. Data science is related to data mining, machine \n",
      "learning and big data.\n"
     ]
    }
   ],
   "source": [
    "with open('ml.txt','r') as f:\n",
    "    text = f.read()\n",
    "    print(text)"
   ]
  },
  {
   "cell_type": "code",
   "execution_count": 71,
   "id": "noticed-subcommittee",
   "metadata": {},
   "outputs": [
    {
     "name": "stdout",
     "output_type": "stream",
     "text": [
      "Machine learning is the study of computer algorithms \n",
      "\n"
     ]
    }
   ],
   "source": [
    "with open('ml.txt','r') as f:\n",
    "    text = f.readline() # First line\n",
    "    print(text)"
   ]
  },
  {
   "cell_type": "code",
   "execution_count": 72,
   "id": "located-purse",
   "metadata": {},
   "outputs": [
    {
     "name": "stdout",
     "output_type": "stream",
     "text": [
      "['Machine learning is the study of computer algorithms \\n', 'that can improve automatically \\n', 'through experience and by the use of data. \\n', 'It is seen as a part of artificial intelligence\\n', '\\n', 'Data science is an interdisciplinary field that uses scientific methods, \\n', 'processes, algorithms and systems to extract knowledge and insights from noisy, \\n', 'structured and unstructured data,[1][2] and apply knowledge and actionable insights from data \\n', 'across a broad range of application domains. Data science is related to data mining, machine \\n', 'learning and big data.']\n"
     ]
    }
   ],
   "source": [
    "with open('ml.txt','r') as f:\n",
    "    text_list = f.readlines()\n",
    "    print(text_list)"
   ]
  },
  {
   "cell_type": "code",
   "execution_count": 73,
   "id": "latter-turner",
   "metadata": {},
   "outputs": [],
   "source": [
    "text = '''PARNAVI ELECTRONICS\n",
    "Joint Holder :- -\n",
    "\n",
    "    SHOP NO 01 BABA MARKET HAROLA\n",
    "SECTOR 05\n",
    "\n",
    "   NOIDA Customer No :875243714\n",
    "\n",
    "          UTTAR PRADESH Scheme :CURRENT ACCOUNT-NORMAL\n",
    "201301 Currency :INR\n",
    "'''\n",
    "\n",
    "with open('customer_data.txt','w') as f:\n",
    "    f.write(text)"
   ]
  },
  {
   "cell_type": "markdown",
   "id": "coral-uncle",
   "metadata": {},
   "source": [
    "# Remove unwanted data from text file "
   ]
  },
  {
   "cell_type": "code",
   "execution_count": 77,
   "id": "warming-return",
   "metadata": {},
   "outputs": [
    {
     "name": "stdout",
     "output_type": "stream",
     "text": [
      "['PARNAVI ELECTRONICS\\n', 'Joint Holder :- -\\n', '\\n', '    SHOP NO 01 BABA MARKET HAROLA\\n', 'SECTOR 05\\n', '\\n', '   NOIDA Customer No :875243714\\n', '\\n', '          UTTAR PRADESH Scheme :CURRENT ACCOUNT-NORMAL\\n', '201301 Currency :INR\\n']\n"
     ]
    }
   ],
   "source": [
    "with open('customer_data.txt') as f:\n",
    "    text_list = f.readlines()\n",
    "    print(text_list)"
   ]
  },
  {
   "cell_type": "code",
   "execution_count": 89,
   "id": "center-morris",
   "metadata": {},
   "outputs": [
    {
     "name": "stdout",
     "output_type": "stream",
     "text": [
      "PARNAVI ELECTRONICS\n",
      "Joint Holder :- -\n",
      "SHOP NO 01 BABA MARKET HAROLA\n",
      "SECTOR 05\n",
      "NOIDA Customer No :875243714\n",
      "UTTAR PRADESH Scheme :CURRENT ACCOUNT-NORMAL\n",
      "201301 Currency :INR\n"
     ]
    }
   ],
   "source": [
    "new_text_list = []\n",
    "for line in text_list:\n",
    "    if line.isspace():\n",
    "        continue\n",
    "    line = line.strip()\n",
    "    new_text_list.append(line)\n",
    "new_text_list\n",
    "text = '\\n'.join(new_text_list)\n",
    "print(text)\n",
    "\n",
    "with open('customer_data.txt','w') as f:\n",
    "    f.write(text)"
   ]
  },
  {
   "cell_type": "code",
   "execution_count": 93,
   "id": "instructional-going",
   "metadata": {},
   "outputs": [],
   "source": [
    "new_text_list = []\n",
    "for line in text_list:\n",
    "    if line.isspace():\n",
    "        continue\n",
    "    line = line.strip() + '\\n'\n",
    "    with open('myfile2.txt','a') as f:\n",
    "        f.write(line)"
   ]
  },
  {
   "cell_type": "code",
   "execution_count": null,
   "id": "defensive-surveillance",
   "metadata": {},
   "outputs": [],
   "source": []
  },
  {
   "cell_type": "markdown",
   "id": "laughing-seven",
   "metadata": {},
   "source": [
    "# JSON Files"
   ]
  },
  {
   "cell_type": "code",
   "execution_count": 94,
   "id": "unnecessary-marks",
   "metadata": {},
   "outputs": [],
   "source": [
    "dict1 = {\"Name\": \"Sandip\", \"age\": 30}"
   ]
  },
  {
   "cell_type": "code",
   "execution_count": 95,
   "id": "twelve-dancing",
   "metadata": {},
   "outputs": [],
   "source": [
    "import json\n",
    "with open('person_details.json', 'w') as file:\n",
    "    json.dump(dict1, file)"
   ]
  },
  {
   "cell_type": "code",
   "execution_count": 96,
   "id": "moving-hardware",
   "metadata": {},
   "outputs": [],
   "source": [
    "with open('person_details.json', 'a') as file:\n",
    "    json.dump(dict1, file)"
   ]
  },
  {
   "cell_type": "code",
   "execution_count": 99,
   "id": "induced-translation",
   "metadata": {},
   "outputs": [
    {
     "name": "stdout",
     "output_type": "stream",
     "text": [
      "{'Name': 'Sandip', 'age': 30}\n"
     ]
    }
   ],
   "source": [
    "with open('person_details.json') as file:\n",
    "    data = json.load(file)\n",
    "    print(data)"
   ]
  },
  {
   "cell_type": "code",
   "execution_count": 105,
   "id": "invalid-affiliation",
   "metadata": {},
   "outputs": [
    {
     "ename": "FileExistsError",
     "evalue": "[Errno 17] File exists: 'sample1.txt'",
     "output_type": "error",
     "traceback": [
      "\u001b[1;31m---------------------------------------------------------------------------\u001b[0m",
      "\u001b[1;31mFileExistsError\u001b[0m                           Traceback (most recent call last)",
      "\u001b[1;32m<ipython-input-105-2409a634f58a>\u001b[0m in \u001b[0;36m<module>\u001b[1;34m\u001b[0m\n\u001b[1;32m----> 1\u001b[1;33m \u001b[0mf\u001b[0m \u001b[1;33m=\u001b[0m \u001b[0mopen\u001b[0m\u001b[1;33m(\u001b[0m\u001b[1;34m'sample1.txt'\u001b[0m\u001b[1;33m,\u001b[0m\u001b[1;34m'x'\u001b[0m\u001b[1;33m)\u001b[0m\u001b[1;33m\u001b[0m\u001b[1;33m\u001b[0m\u001b[0m\n\u001b[0m\u001b[0;32m      2\u001b[0m \u001b[0mf\u001b[0m\u001b[1;33m.\u001b[0m\u001b[0mwrite\u001b[0m\u001b[1;33m(\u001b[0m\u001b[1;34m'Hello'\u001b[0m\u001b[1;33m)\u001b[0m\u001b[1;33m\u001b[0m\u001b[1;33m\u001b[0m\u001b[0m\n\u001b[0;32m      3\u001b[0m \u001b[0mf\u001b[0m\u001b[1;33m.\u001b[0m\u001b[0mclose\u001b[0m\u001b[1;33m(\u001b[0m\u001b[1;33m)\u001b[0m\u001b[1;33m\u001b[0m\u001b[1;33m\u001b[0m\u001b[0m\n",
      "\u001b[1;31mFileExistsError\u001b[0m: [Errno 17] File exists: 'sample1.txt'"
     ]
    }
   ],
   "source": [
    "f = open('sample1.txt','x')\n",
    "f.write('Hello')\n",
    "f.close()"
   ]
  },
  {
   "cell_type": "code",
   "execution_count": 106,
   "id": "alleged-phrase",
   "metadata": {},
   "outputs": [],
   "source": [
    "f = open('sample1.txt','w')\n",
    "f.write('Hello')\n",
    "f.close()"
   ]
  },
  {
   "cell_type": "code",
   "execution_count": 107,
   "id": "laden-optics",
   "metadata": {},
   "outputs": [],
   "source": [
    "data = {\"column_names\" : ['Pregnancies','Glucose','BloodPressure']}\n",
    "with open('variable_names.json', 'w') as file:\n",
    "    json.dump(data, file)"
   ]
  },
  {
   "cell_type": "code",
   "execution_count": null,
   "id": "consistent-silicon",
   "metadata": {},
   "outputs": [],
   "source": []
  }
 ],
 "metadata": {
  "kernelspec": {
   "display_name": "Python 3 (ipykernel)",
   "language": "python",
   "name": "python3"
  },
  "language_info": {
   "codemirror_mode": {
    "name": "ipython",
    "version": 3
   },
   "file_extension": ".py",
   "mimetype": "text/x-python",
   "name": "python",
   "nbconvert_exporter": "python",
   "pygments_lexer": "ipython3",
   "version": "3.9.1"
  }
 },
 "nbformat": 4,
 "nbformat_minor": 5
}
