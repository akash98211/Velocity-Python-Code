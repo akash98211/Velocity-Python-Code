{
 "cells": [
  {
   "cell_type": "markdown",
   "id": "superb-startup",
   "metadata": {},
   "source": [
    "# Encapsulation"
   ]
  },
  {
   "cell_type": "code",
   "execution_count": null,
   "id": "driving-rental",
   "metadata": {},
   "outputs": [],
   "source": [
    "Used to restrict the access of methods and variables\n",
    "Protecting data from modification\n",
    "data:\n",
    "    variables\n",
    "    Methods"
   ]
  },
  {
   "cell_type": "code",
   "execution_count": 8,
   "id": "preceding-adult",
   "metadata": {},
   "outputs": [
    {
     "name": "stdout",
     "output_type": "stream",
     "text": [
      "Pune\n",
      "location is  Mumbai\n"
     ]
    }
   ],
   "source": [
    "class ClassName():\n",
    "    city = \"Pune\"\n",
    "    def location(self):\n",
    "        print(\"location is \",self.city)\n",
    "        \n",
    "Obj = ClassName()\n",
    "print(Obj.city) # Variable\n",
    "Obj.city = 'Mumbai' # Modifying data from outside the class\n",
    "Obj.location()  # Method"
   ]
  },
  {
   "cell_type": "code",
   "execution_count": 12,
   "id": "assumed-equipment",
   "metadata": {},
   "outputs": [
    {
     "name": "stdout",
     "output_type": "stream",
     "text": [
      "Employee Name is :  Sachin\n",
      "Company Name is : TCS\n"
     ]
    }
   ],
   "source": [
    "class EmployeeDetails():\n",
    "    company_name = \"TCS\"\n",
    "    \n",
    "    def __init__(self,name):\n",
    "        self.name = name\n",
    "        \n",
    "    def emp_details(self):\n",
    "        print('Employee Name is : ',self.name)\n",
    "        print(\"Company Name is :\",self.company_name)\n",
    "        \n",
    "EmpObj = EmployeeDetails('Sachin')\n",
    "EmpObj.emp_details()"
   ]
  },
  {
   "cell_type": "code",
   "execution_count": 15,
   "id": "painful-ballet",
   "metadata": {},
   "outputs": [
    {
     "name": "stdout",
     "output_type": "stream",
     "text": [
      "Employee Name is :  Sachin\n",
      "Company Name is : TCS\n"
     ]
    }
   ],
   "source": [
    "class EmployeeDetails():\n",
    "    __company_name = \"TCS\"  # Priavte class Variable\n",
    "    \n",
    "    def __init__(self,name):\n",
    "        self.name = name\n",
    "        \n",
    "    def emp_details(self):\n",
    "        print('Employee Name is : ',self.name)\n",
    "        print(\"Company Name is :\",self.__company_name)\n",
    "        \n",
    "EmpObj = EmployeeDetails('Sachin')\n",
    "EmpObj.emp_details()"
   ]
  },
  {
   "cell_type": "code",
   "execution_count": 18,
   "id": "ordered-congo",
   "metadata": {},
   "outputs": [
    {
     "name": "stdout",
     "output_type": "stream",
     "text": [
      "Employee Name is :  Sachin\n",
      "Company Name is : Accenture\n"
     ]
    }
   ],
   "source": [
    "class EmployeeDetails():\n",
    "    company_name = \"TCS\"  # Priavte class Variable\n",
    "    \n",
    "    def __init__(self,name):\n",
    "        self.name = name\n",
    "        \n",
    "    def emp_details(self):\n",
    "        print('Employee Name is : ',self.name)\n",
    "        print(\"Company Name is :\",self.company_name)\n",
    "        \n",
    "EmpObj = EmployeeDetails('Sachin')\n",
    "EmpObj.company_name = 'Accenture'\n",
    "EmpObj.emp_details()"
   ]
  },
  {
   "cell_type": "code",
   "execution_count": 20,
   "id": "subsequent-serial",
   "metadata": {},
   "outputs": [
    {
     "name": "stdout",
     "output_type": "stream",
     "text": [
      "Employee Name is :  Sachin\n",
      "Company Name is : TCS\n"
     ]
    }
   ],
   "source": [
    "class EmployeeDetails():\n",
    "    __company_name = \"TCS\"  # Priavte class Variable\n",
    "    \n",
    "    def __init__(self,name):\n",
    "        self.name = name\n",
    "        \n",
    "    def emp_details(self):\n",
    "        print('Employee Name is : ',self.name)\n",
    "        print(\"Company Name is :\",self.__company_name)\n",
    "        \n",
    "EmpObj = EmployeeDetails('Sachin')\n",
    "EmpObj.__company_name = 'Accenture' # we can not modify private variables/methods\n",
    "EmpObj.emp_details()"
   ]
  },
  {
   "cell_type": "code",
   "execution_count": 23,
   "id": "sensitive-synthesis",
   "metadata": {},
   "outputs": [
    {
     "name": "stdout",
     "output_type": "stream",
     "text": [
      "Employee Name is :  Suresh\n",
      "Company Name is : TCS\n"
     ]
    }
   ],
   "source": [
    "class EmployeeDetails():\n",
    "    __company_name = \"TCS\"  # Priavte class Variable\n",
    "    \n",
    "    def __init__(self,name): \n",
    "        self.name = name  # Instance Variable\n",
    "        \n",
    "    def emp_details(self):\n",
    "        print('Employee Name is : ',self.name)\n",
    "        print(\"Company Name is :\",self.__company_name)\n",
    "        \n",
    "EmpObj = EmployeeDetails('Sachin')\n",
    "EmpObj.name = 'Suresh'\n",
    "EmpObj.__company_name = 'Accenture' # we can not modify private variables/methods\n",
    "EmpObj.emp_details()"
   ]
  },
  {
   "cell_type": "code",
   "execution_count": 27,
   "id": "similar-morgan",
   "metadata": {},
   "outputs": [
    {
     "name": "stdout",
     "output_type": "stream",
     "text": [
      "Employee Name is :  Sachin\n",
      "Company Name is : TCS\n"
     ]
    }
   ],
   "source": [
    "class EmployeeDetails():\n",
    "    __company_name = \"TCS\"  # Priavte class Variable\n",
    "    \n",
    "    def __init__(self,name): \n",
    "        self.__name = name  # Private Instance Variable\n",
    "        \n",
    "    def emp_details(self):\n",
    "        print('Employee Name is : ',self.__name)\n",
    "        print(\"Company Name is :\",self.__company_name)\n",
    "        \n",
    "EmpObj = EmployeeDetails('Sachin')\n",
    "EmpObj.__name = 'Suresh'\n",
    "EmpObj.__company_name = 'Accenture' # we can not modify private variables/methods\n",
    "EmpObj.emp_details()"
   ]
  },
  {
   "cell_type": "code",
   "execution_count": 39,
   "id": "charitable-roots",
   "metadata": {},
   "outputs": [
    {
     "name": "stdout",
     "output_type": "stream",
     "text": [
      "Employee Name is :  Sachin\n",
      "Company Name is : TCS\n",
      "Employee ID Number is  T2001\n"
     ]
    }
   ],
   "source": [
    "class EmployeeDetails():\n",
    "    __company_name = \"TCS\"  # Priavte class Variable\n",
    "    \n",
    "    def __init__(self,name,emp_id): \n",
    "        self.__name = name  # Private Instance Variable\n",
    "        self.emp_id = emp_id  # Public Instance Variable\n",
    "        \n",
    "    def __employee_id(self): # Private Method\n",
    "        print(\"Employee ID Number is \",self.emp_id)\n",
    "        \n",
    "    def emp_details(self):  # Public Method\n",
    "        print('Employee Name is : ',self.__name)\n",
    "        print(\"Company Name is :\",self.__company_name)\n",
    "        self.__employee_id()\n",
    "        \n",
    "EmpObj = EmployeeDetails('Sachin',\"T2001\")\n",
    "EmpObj.emp_details()\n",
    "# EmpObj.__employee_id()  # We can not access private methods from outside the class"
   ]
  },
  {
   "cell_type": "markdown",
   "id": "raising-mountain",
   "metadata": {},
   "source": [
    "# Name Mangling "
   ]
  },
  {
   "cell_type": "raw",
   "id": "irish-customer",
   "metadata": {},
   "source": [
    "To access/Modify private methods and variables from outside the class\n",
    "\n",
    "Obj._ClassName__Identifier"
   ]
  },
  {
   "cell_type": "code",
   "execution_count": 43,
   "id": "dying-chrome",
   "metadata": {},
   "outputs": [
    {
     "name": "stdout",
     "output_type": "stream",
     "text": [
      "Employee Name is :  Sachin\n",
      "Company Name is : Capgemini\n",
      "Employee ID Number is  T2001\n"
     ]
    }
   ],
   "source": [
    "class EmployeeDetails():\n",
    "    __company_name = \"TCS\"  # Priavte class Variable\n",
    "    \n",
    "    def __init__(self,name,emp_id): \n",
    "        self.__name = name  # Private Instance Variable\n",
    "        self.emp_id = emp_id  # Public Instance Variable\n",
    "        \n",
    "    def __employee_id(self): # Private Method\n",
    "        print(\"Employee ID Number is \",self.emp_id)\n",
    "        \n",
    "    def emp_details(self):  # Public Method\n",
    "        print('Employee Name is : ',self.__name)\n",
    "        print(\"Company Name is :\",self.__company_name)\n",
    "        self.__employee_id()\n",
    "        \n",
    "EmpObj = EmployeeDetails('Sachin',\"T2001\")\n",
    "\n",
    "# Modifying data by using Name Mangling method\n",
    "EmpObj._EmployeeDetails__company_name  = \"Capgemini\"  \n",
    "\n",
    "EmpObj.emp_details()\n"
   ]
  },
  {
   "cell_type": "code",
   "execution_count": 47,
   "id": "communist-possession",
   "metadata": {},
   "outputs": [
    {
     "name": "stdout",
     "output_type": "stream",
     "text": [
      "Employee ID Number is  T2001\n",
      "Employee Name is :  Sachin\n",
      "Company Name is : Capgemini\n",
      "Employee ID Number is  T2001\n"
     ]
    }
   ],
   "source": [
    "class EmployeeDetails():\n",
    "    __company_name = \"TCS\"  # Priavte class Variable\n",
    "    \n",
    "    def __init__(self,name,emp_id): \n",
    "        self.__name = name  # Private Instance Variable\n",
    "        self.emp_id = emp_id  # Public Instance Variable\n",
    "        \n",
    "    def __employee_id(self): # Private Method\n",
    "        print(\"Employee ID Number is \",self.emp_id)\n",
    "        \n",
    "    def emp_details(self):  # Public Method\n",
    "        print('Employee Name is : ',self.__name)\n",
    "        print(\"Company Name is :\",self.__company_name)\n",
    "        self.__employee_id()\n",
    "        \n",
    "EmpObj = EmployeeDetails('Sachin',\"T2001\")\n",
    "\n",
    "# Modifying data by using Name Mangling method\n",
    "EmpObj._EmployeeDetails__company_name  = \"Capgemini\"  \n",
    "\n",
    "\n",
    "EmpObj._EmployeeDetails__employee_id()\n",
    "EmpObj.emp_details()\n"
   ]
  },
  {
   "cell_type": "code",
   "execution_count": 59,
   "id": "dominant-machine",
   "metadata": {},
   "outputs": [
    {
     "name": "stdout",
     "output_type": "stream",
     "text": [
      "Employee ID Number is  T2001\n",
      "Employee Salary is : 80000\n",
      "Employee Name is :  Sachin\n",
      "Company Name is : Capgemini\n",
      "Employee ID Number is  T2001\n",
      "Designation is : Data Scientist\n"
     ]
    }
   ],
   "source": [
    "class EmployeeDetails():\n",
    "    __company_name = \"TCS\"  # Priavte class Variable\n",
    "    \n",
    "    def __init__(self,name,emp_id,salary): \n",
    "        self.__name = name  # Private Instance Variable\n",
    "        self.emp_id = emp_id  # Public Instance Variable\n",
    "        self.salary = salary\n",
    "        \n",
    "    def __employee_id(self): # Private Method\n",
    "        print(\"Employee ID Number is \",self.emp_id)\n",
    "        self.designation = 'Data Scientist'\n",
    "        \n",
    "    def __emp_salary(self):\n",
    "        print(\"Employee Salary is :\",self.salary)\n",
    "        \n",
    "    def emp_details(self):  # Public Method\n",
    "        print('Employee Name is : ',self.__name)\n",
    "        print(\"Company Name is :\",self.__company_name)\n",
    "        self.__employee_id()\n",
    "        print('Designation is :',self.designation)\n",
    "        \n",
    "EmpObj = EmployeeDetails('Sachin',\"T2001\",80000)\n",
    "\n",
    "# Modifying variable by using Name Mangling method\n",
    "EmpObj._EmployeeDetails__company_name  = \"Capgemini\"  \n",
    "\n",
    "# Accessing method by using Name Mangling method\n",
    "EmpObj._EmployeeDetails__employee_id()\n",
    "EmpObj.designation = 'Python Developer'\n",
    "EmpObj._EmployeeDetails__emp_salary()\n",
    "EmpObj.emp_details()\n",
    "# dir(EmpObj)"
   ]
  },
  {
   "cell_type": "code",
   "execution_count": null,
   "id": "random-stock",
   "metadata": {},
   "outputs": [],
   "source": [
    "class EmployeeDetails():\n",
    "    __company_name = \"TCS\"  # Priavte class Variable\n",
    "    \n",
    "    def __init__(self,name,emp_id,salary): \n",
    "        self.__name = name  # Private Instance Variable\n",
    "        self.emp_id = emp_id  # Public Instance Variable\n",
    "        self.salary = salary\n",
    "        \n",
    "    def employee_id(self): # Private Method\n",
    "        print(\"Employee ID Number is \",self.emp_id)\n",
    "        self.__designation = 'Data Scientist'\n",
    "        \n",
    "    def __emp_salary(self):\n",
    "        print(\"Employee Salary is :\",self.salary)\n",
    "        \n",
    "    def emp_details(self):  # Public Method\n",
    "        print('Employee Name is : ',self.__name)\n",
    "        print(\"Company Name is :\",self.__company_name)\n",
    "        print('Designation is :',self.__designation)\n",
    "        \n",
    "EmpObj = EmployeeDetails('Sachin',\"T2001\",80000)\n",
    "\n",
    "# Modifying variable by using Name Mangling method\n",
    "EmpObj._EmployeeDetails__company_name  = \"Capgemini\"  \n",
    "\n",
    "# Accessing method by using Name Mangling method\n",
    "EmpObj._EmployeeDetails__employee_id()\n",
    "EmpObj.designation = 'Python Developer'\n",
    "EmpObj._EmployeeDetails__emp_salary()\n",
    "EmpObj.emp_details()\n",
    "# dir(EmpObj)"
   ]
  },
  {
   "cell_type": "code",
   "execution_count": null,
   "id": "universal-adjustment",
   "metadata": {},
   "outputs": [],
   "source": []
  },
  {
   "cell_type": "code",
   "execution_count": null,
   "id": "chinese-junior",
   "metadata": {},
   "outputs": [],
   "source": []
  },
  {
   "cell_type": "code",
   "execution_count": null,
   "id": "scenic-metallic",
   "metadata": {},
   "outputs": [],
   "source": []
  },
  {
   "cell_type": "code",
   "execution_count": null,
   "id": "excessive-upgrade",
   "metadata": {},
   "outputs": [],
   "source": []
  }
 ],
 "metadata": {
  "kernelspec": {
   "display_name": "Python 3",
   "language": "python",
   "name": "python3"
  },
  "language_info": {
   "codemirror_mode": {
    "name": "ipython",
    "version": 3
   },
   "file_extension": ".py",
   "mimetype": "text/x-python",
   "name": "python",
   "nbconvert_exporter": "python",
   "pygments_lexer": "ipython3",
   "version": "3.8.8"
  }
 },
 "nbformat": 4,
 "nbformat_minor": 5
}
