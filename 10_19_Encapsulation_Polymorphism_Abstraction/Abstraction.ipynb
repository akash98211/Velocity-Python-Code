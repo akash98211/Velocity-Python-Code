{
 "cells": [
  {
   "cell_type": "markdown",
   "id": "searching-incidence",
   "metadata": {},
   "source": [
    "# Abstraction"
   ]
  },
  {
   "cell_type": "code",
   "execution_count": null,
   "id": "capable-miller",
   "metadata": {},
   "outputs": [],
   "source": [
    "Blueprint of other classes / Blueprint of project\n",
    "By default python does support abstract class (We need to import abc module)\n",
    "We can not create an pbject of abstract class\n",
    "\n",
    "Abstract class is only used for declaration purpose, does not used for implementation"
   ]
  },
  {
   "cell_type": "code",
   "execution_count": null,
   "id": "isolated-permission",
   "metadata": {},
   "outputs": [],
   "source": [
    "3 classes\n",
    "\n",
    "1 Abstract class\n",
    "2 normal class"
   ]
  },
  {
   "cell_type": "code",
   "execution_count": null,
   "id": "capital-indiana",
   "metadata": {},
   "outputs": [],
   "source": [
    "API>>\n",
    "\n",
    "Registration\n",
    "Login\n",
    "process_document\n",
    "save_detail"
   ]
  },
  {
   "cell_type": "code",
   "execution_count": null,
   "id": "reflected-brighton",
   "metadata": {},
   "outputs": [],
   "source": [
    "class BaseClass():\n",
    "    pass\n",
    "\n",
    "class DerivedClass(BaseClass):\n",
    "    pass"
   ]
  },
  {
   "cell_type": "code",
   "execution_count": 8,
   "id": "bound-undergraduate",
   "metadata": {},
   "outputs": [
    {
     "name": "stdout",
     "output_type": "stream",
     "text": [
      "Registration API\n",
      "Login API\n",
      "Process Document API\n",
      "Save Documents Details API\n"
     ]
    }
   ],
   "source": [
    "from abc import ABC, abstractmethod\n",
    "\n",
    "class ProjectBlueprint(ABC): # Abstract Class\n",
    "    \n",
    "    @abstractmethod   # Decorators\n",
    "    def registration(self): # Abstract Method\n",
    "        print(\"****************************\")\n",
    "        pass\n",
    "    \n",
    "    @abstractmethod\n",
    "    def login(self):  # Abstract Method\n",
    "        pass\n",
    "    \n",
    "    @abstractmethod\n",
    "    def process_document(self):# Abstract Method\n",
    "        pass\n",
    "    \n",
    "    def save_details(self): # Normal Method\n",
    "        pass\n",
    "\n",
    "class ProjectAPI(ProjectBlueprint): # Derived Class\n",
    "    \n",
    "    def registration(self):\n",
    "        print(\"Registration API\")\n",
    "    \n",
    "    def login(self):\n",
    "        print(\"Login API\")\n",
    "    \n",
    "    def process_document(self):\n",
    "        print(\"Process Document API\")\n",
    "    \n",
    "    def save_details(self):\n",
    "        print(\"Save Documents Details API\")\n",
    "        \n",
    "projObj = ProjectAPI()\n",
    "projObj.registration()\n",
    "projObj.login()\n",
    "projObj.process_document()\n",
    "projObj.save_details()\n",
    "\n"
   ]
  },
  {
   "cell_type": "code",
   "execution_count": 10,
   "id": "changing-workplace",
   "metadata": {},
   "outputs": [
    {
     "name": "stdout",
     "output_type": "stream",
     "text": [
      "Registration API\n",
      "Login API\n",
      "Process Document API\n",
      "Save Documents Details API\n"
     ]
    }
   ],
   "source": [
    "from abc import ABC, abstractmethod\n",
    "\n",
    "class ProjectBlueprint(ABC): # Abstract Class\n",
    "    \n",
    "    @abstractmethod   # Decorators\n",
    "    def registration(self): pass\n",
    "    \n",
    "    @abstractmethod\n",
    "    def login(self): pass\n",
    "    \n",
    "    @abstractmethod\n",
    "    def process_document(self):  pass\n",
    "    \n",
    "    def save_details(self): pass\n",
    "\n",
    "class ProjectAPI(ProjectBlueprint): # Derived Class\n",
    "    \n",
    "    def registration(self):\n",
    "        print(\"Registration API\")\n",
    "    \n",
    "    def login(self):\n",
    "        print(\"Login API\")\n",
    "    \n",
    "    def process_document(self):\n",
    "        print(\"Process Document API\")\n",
    "    \n",
    "    def save_details(self):\n",
    "        print(\"Save Documents Details API\")\n",
    "        \n",
    "projObj = ProjectAPI()\n",
    "projObj.registration()\n",
    "projObj.login()\n",
    "projObj.process_document()\n",
    "projObj.save_details()\n",
    "\n"
   ]
  },
  {
   "cell_type": "code",
   "execution_count": 14,
   "id": "immediate-retrieval",
   "metadata": {},
   "outputs": [
    {
     "name": "stdout",
     "output_type": "stream",
     "text": [
      "Registration API\n",
      "Login API\n",
      "Process Document API\n",
      "Save Documents Details API\n"
     ]
    }
   ],
   "source": [
    "from abc import ABC, abstractmethod\n",
    "\n",
    "class ProjectBlueprint(ABC): # Abstract Class\n",
    "    \n",
    "    @abstractmethod   # Decorators\n",
    "    def registration(self): pass\n",
    "    \n",
    "    @abstractmethod\n",
    "    def login(self): pass\n",
    "    \n",
    "    @abstractmethod\n",
    "    def process_document(self):  pass\n",
    "    \n",
    "    def save_details(self): pass\n",
    "\n",
    "class ProjectAPI(ProjectBlueprint): # Derived Class\n",
    "    \n",
    "    def registration(self):\n",
    "        print(\"Registration API\")\n",
    "    \n",
    "    def login(self):\n",
    "        print(\"Login API\")\n",
    "    \n",
    "    def process_document(self):\n",
    "        print(\"Process Document API\")\n",
    "    \n",
    "    def save_details(self):\n",
    "        print(\"Save Documents Details API\")\n",
    "        \n",
    "projObj = ProjectAPI()\n",
    "projObj.registration()\n",
    "projObj.login()\n",
    "projObj.process_document()\n",
    "projObj.save_details()\n",
    "\n"
   ]
  },
  {
   "cell_type": "code",
   "execution_count": 15,
   "id": "municipal-orleans",
   "metadata": {},
   "outputs": [
    {
     "name": "stdout",
     "output_type": "stream",
     "text": [
      "Registration API\n",
      "Login API\n",
      "Process Document API\n"
     ]
    }
   ],
   "source": [
    "from abc import ABC, abstractmethod\n",
    "\n",
    "class ProjectBlueprint(ABC): # Abstract Class\n",
    "    \n",
    "    @abstractmethod   # Decorators\n",
    "    def registration(self): pass\n",
    "    \n",
    "    @abstractmethod\n",
    "    def login(self): pass\n",
    "    \n",
    "    @abstractmethod\n",
    "    def process_document(self):  pass\n",
    "    \n",
    "    def save_details(self): pass\n",
    "\n",
    "class ProjectAPI(ProjectBlueprint): # Derived Class\n",
    "    \n",
    "    def registration(self):\n",
    "        print(\"Registration API\")\n",
    "    \n",
    "    def login(self):\n",
    "        print(\"Login API\")\n",
    "    \n",
    "    def process_document(self):\n",
    "        print(\"Process Document API\")\n",
    "    \n",
    "#     def save_details(self):\n",
    "#         print(\"Save Documents Details API\")\n",
    "        \n",
    "projObj = ProjectAPI()\n",
    "projObj.registration()\n",
    "projObj.login()\n",
    "projObj.process_document()\n",
    "# projObj.save_details()\n",
    "\n"
   ]
  },
  {
   "cell_type": "code",
   "execution_count": 23,
   "id": "stable-kuwait",
   "metadata": {},
   "outputs": [
    {
     "name": "stdout",
     "output_type": "stream",
     "text": [
      "Volume is : 125\n",
      "Area is  150\n"
     ]
    }
   ],
   "source": [
    "class Shape(ABC):\n",
    "    @abstractmethod\n",
    "    def volume(self):pass\n",
    "    \n",
    "    @abstractmethod\n",
    "    def area(self): pass\n",
    "    \n",
    "    \n",
    "class Cube(Shape):\n",
    "    def __init__(self,side):\n",
    "        self.side = side\n",
    "    \n",
    "    def volume(self):\n",
    "        vol = self.side ** 3\n",
    "        print(\"Volume is :\",vol)\n",
    "        \n",
    "    def area(self):\n",
    "        ar = 6 * (self.side **2)\n",
    "        print(\"Area is \",ar)\n",
    "        \n",
    "        \n",
    "c1 = Cube(5)\n",
    "c1.volume()\n",
    "c1.area()\n"
   ]
  },
  {
   "cell_type": "code",
   "execution_count": 22,
   "id": "infrared-database",
   "metadata": {},
   "outputs": [
    {
     "name": "stdout",
     "output_type": "stream",
     "text": [
      "Volume is : 125\n",
      "Area is  150\n"
     ]
    }
   ],
   "source": [
    "class Shape(ABC):\n",
    "    @abstractmethod\n",
    "    def volume(self):pass\n",
    "    \n",
    "    @abstractmethod\n",
    "    def area(self): pass\n",
    "    \n",
    "    \n",
    "class Cube(Shape):\n",
    "    def __init__(self,side):\n",
    "        self.side = side\n",
    "    \n",
    "    def volume(self):\n",
    "        vol = self.side ** 3\n",
    "        print(\"Volume is :\",vol)\n",
    "        \n",
    "    def area(self):\n",
    "        ar = 6 * (self.side **2)\n",
    "        print(\"Area is \",ar)\n",
    "        \n",
    "        \n",
    "c1 = Cube(5)\n",
    "c1.volume()\n",
    "c1.area()\n"
   ]
  },
  {
   "cell_type": "code",
   "execution_count": 26,
   "id": "alert-homeless",
   "metadata": {},
   "outputs": [
    {
     "data": {
      "text/plain": [
       "['Chennai', 'Delhi', 'Mumbai', 'Pune']"
      ]
     },
     "execution_count": 26,
     "metadata": {},
     "output_type": "execute_result"
    }
   ],
   "source": [
    "l1 = ['Pune','Mumbai','Delhi','Chennai']\n",
    "l1.sort()\n",
    "l1"
   ]
  },
  {
   "cell_type": "code",
   "execution_count": 28,
   "id": "textile-tension",
   "metadata": {},
   "outputs": [
    {
     "data": {
      "text/plain": [
       "['Pune', 'Mumbai', 'Delhi', 'Chennai']"
      ]
     },
     "execution_count": 28,
     "metadata": {},
     "output_type": "execute_result"
    }
   ],
   "source": [
    "l1 = ['Pune','Mumbai','Delhi','Chennai']\n",
    "l1.sort(reverse=True)\n",
    "l1"
   ]
  },
  {
   "cell_type": "code",
   "execution_count": 30,
   "id": "black-singles",
   "metadata": {},
   "outputs": [
    {
     "data": {
      "text/plain": [
       "['Chennai', 'Delhi', 'Mumbai', 'Pune']"
      ]
     },
     "execution_count": 30,
     "metadata": {},
     "output_type": "execute_result"
    }
   ],
   "source": [
    "l1 = ['Pune','Mumbai','Delhi','Chennai']\n",
    "l1.sort(reverse=False)\n",
    "l1"
   ]
  },
  {
   "cell_type": "code",
   "execution_count": 33,
   "id": "earned-seminar",
   "metadata": {},
   "outputs": [
    {
     "data": {
      "text/plain": [
       "['Pune', 'Ooty', 'Delhi', 'Mumbai', 'Chennai']"
      ]
     },
     "execution_count": 33,
     "metadata": {},
     "output_type": "execute_result"
    }
   ],
   "source": [
    "l1 = ['Pune','Mumbai','Delhi','Chennai','Ooty']\n",
    "l1.sort(key = len, reverse=False)\n",
    "l1"
   ]
  },
  {
   "cell_type": "code",
   "execution_count": 34,
   "id": "southern-century",
   "metadata": {},
   "outputs": [
    {
     "data": {
      "text/plain": [
       "['Delhi', 'Chennai', 'Ooty', 'Pune', 'Mumbai']"
      ]
     },
     "execution_count": 34,
     "metadata": {},
     "output_type": "execute_result"
    }
   ],
   "source": [
    "l1 = ['Pune','Mumbai','Delhi','Chennai','Ooty']\n",
    "def my_fun(x):\n",
    "    return x[1]\n",
    "\n",
    "l1.sort(key = my_fun, reverse=False)\n",
    "l1"
   ]
  }
 ],
 "metadata": {
  "kernelspec": {
   "display_name": "Python 3",
   "language": "python",
   "name": "python3"
  },
  "language_info": {
   "codemirror_mode": {
    "name": "ipython",
    "version": 3
   },
   "file_extension": ".py",
   "mimetype": "text/x-python",
   "name": "python",
   "nbconvert_exporter": "python",
   "pygments_lexer": "ipython3",
   "version": "3.8.7"
  }
 },
 "nbformat": 4,
 "nbformat_minor": 5
}
