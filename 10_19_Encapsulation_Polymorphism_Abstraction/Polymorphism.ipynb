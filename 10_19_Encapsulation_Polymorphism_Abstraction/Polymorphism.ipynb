{
 "cells": [
  {
   "cell_type": "markdown",
   "id": "diagnostic-lender",
   "metadata": {},
   "source": [
    "# Polymorphism"
   ]
  },
  {
   "cell_type": "code",
   "execution_count": null,
   "id": "serial-insertion",
   "metadata": {},
   "outputs": [],
   "source": [
    "Poly >> many\n",
    "Morphism >> Forms\n",
    "Polymorphism >> Multiple Forms\n",
    "\n",
    "Methods with identical names\n",
    "Same functions name are used in many classes"
   ]
  },
  {
   "cell_type": "code",
   "execution_count": 2,
   "id": "front-pride",
   "metadata": {},
   "outputs": [
    {
     "data": {
      "text/plain": [
       "6"
      ]
     },
     "execution_count": 2,
     "metadata": {},
     "output_type": "execute_result"
    }
   ],
   "source": [
    "# len() >> Used to find length of any iterable\n",
    "# string\n",
    "# list\n",
    "# tuple\n",
    "# dict\n",
    "\n",
    "len('Python')"
   ]
  },
  {
   "cell_type": "code",
   "execution_count": 4,
   "id": "periodic-fraud",
   "metadata": {},
   "outputs": [
    {
     "data": {
      "text/plain": [
       "3"
      ]
     },
     "execution_count": 4,
     "metadata": {},
     "output_type": "execute_result"
    }
   ],
   "source": [
    "len([3,4,5])"
   ]
  },
  {
   "cell_type": "code",
   "execution_count": 6,
   "id": "knowing-tobago",
   "metadata": {},
   "outputs": [
    {
     "data": {
      "text/plain": [
       "3"
      ]
     },
     "execution_count": 6,
     "metadata": {},
     "output_type": "execute_result"
    }
   ],
   "source": [
    "len({3,4,5})"
   ]
  },
  {
   "cell_type": "code",
   "execution_count": 8,
   "id": "executed-sunset",
   "metadata": {},
   "outputs": [
    {
     "data": {
      "text/plain": [
       "2"
      ]
     },
     "execution_count": 8,
     "metadata": {},
     "output_type": "execute_result"
    }
   ],
   "source": [
    "len({'X':30,'y':40})"
   ]
  },
  {
   "cell_type": "code",
   "execution_count": null,
   "id": "hired-viking",
   "metadata": {},
   "outputs": [],
   "source": [
    "sorted()\n",
    "min()\n",
    "max()"
   ]
  },
  {
   "cell_type": "code",
   "execution_count": 9,
   "id": "embedded-oliver",
   "metadata": {},
   "outputs": [
    {
     "data": {
      "text/plain": [
       "2"
      ]
     },
     "execution_count": 9,
     "metadata": {},
     "output_type": "execute_result"
    }
   ],
   "source": [
    "min([3,4,5,61,2])"
   ]
  },
  {
   "cell_type": "code",
   "execution_count": 12,
   "id": "intellectual-pledge",
   "metadata": {},
   "outputs": [
    {
     "data": {
      "text/plain": [
       "1"
      ]
     },
     "execution_count": 12,
     "metadata": {},
     "output_type": "execute_result"
    }
   ],
   "source": [
    "min((3,4,5,6,1,2))"
   ]
  },
  {
   "cell_type": "code",
   "execution_count": 20,
   "id": "selected-proof",
   "metadata": {},
   "outputs": [
    {
     "name": "stdout",
     "output_type": "stream",
     "text": [
      "Area of Circle\n",
      "Area of Square\n",
      "Area of Rectangle\n"
     ]
    }
   ],
   "source": [
    "class Circle():\n",
    "    def area(self):\n",
    "        print(\"Area of Circle\")\n",
    "        pass\n",
    "    \n",
    "class Square():\n",
    "    def area(self):\n",
    "        print(\"Area of Square\")\n",
    "        pass\n",
    "    \n",
    "class Rectangle():\n",
    "    def area(self):\n",
    "        print(\"Area of Rectangle\")\n",
    "        pass\n",
    "    \n",
    "\n",
    "c1 = Circle()\n",
    "s1 = Square()\n",
    "r1 = Rectangle()\n",
    "\n",
    "for Obj in [c1,s1,r1]:\n",
    "    Obj.area()"
   ]
  },
  {
   "cell_type": "code",
   "execution_count": 23,
   "id": "desirable-district",
   "metadata": {},
   "outputs": [
    {
     "name": "stdout",
     "output_type": "stream",
     "text": [
      "Area of Circle\n",
      "Area of Square\n",
      "Area of Rectangle\n"
     ]
    }
   ],
   "source": [
    "class Circle():\n",
    "    def area(self):\n",
    "        print(\"Area of Circle\")\n",
    "        pass\n",
    "    \n",
    "class Square():\n",
    "    def area(self):\n",
    "        print(\"Area of Square\")\n",
    "        pass\n",
    "    \n",
    "class Rectangle():\n",
    "    def area(self):\n",
    "        print(\"Area of Rectangle\")\n",
    "        pass\n",
    "    \n",
    "def execute_functions():\n",
    "    c1 = Circle()\n",
    "    s1 = Square()\n",
    "    r1 = Rectangle()\n",
    "\n",
    "    for Obj in [c1,s1,r1]:\n",
    "        Obj.area()\n",
    "        \n",
    "if __name__ == \"__main__\":\n",
    "    execute_functions() "
   ]
  },
  {
   "cell_type": "code",
   "execution_count": 31,
   "id": "located-celtic",
   "metadata": {},
   "outputs": [
    {
     "name": "stdout",
     "output_type": "stream",
     "text": [
      "Area of Circle is 78.54\n",
      "Area of Square is 36\n",
      "Area of Rectangle is 200\n"
     ]
    }
   ],
   "source": [
    "import math\n",
    "class Circle():\n",
    "    def __init__(self,radius):\n",
    "        self.radius = radius\n",
    "        \n",
    "    def area(self):\n",
    "        ar = math.pi * self.radius * self.radius\n",
    "        print(\"Area of Circle is\",round(ar,2))\n",
    "    \n",
    "class Square():\n",
    "    def __init__(self,side):\n",
    "        self.side = side\n",
    "        \n",
    "    def area(self):\n",
    "        ar = self.side ** 2\n",
    "        print(\"Area of Square is\",ar)\n",
    "    \n",
    "class Rectangle():\n",
    "    def __init__(self,l,b):\n",
    "        self.l = l\n",
    "        self.b = b\n",
    "        \n",
    "    def area(self):\n",
    "        ar = self.l * self.b\n",
    "        print(\"Area of Rectangle is\",ar)\n",
    "        pass\n",
    "    \n",
    "def execute_functions():\n",
    "    c1 = Circle(5)\n",
    "    s1 = Square(6)\n",
    "    r1 = Rectangle(10,20)\n",
    "\n",
    "    for Obj in [c1,s1,r1]:\n",
    "        Obj.area()\n",
    "        \n",
    "if __name__ == \"__main__\":\n",
    "    execute_functions() "
   ]
  }
 ],
 "metadata": {
  "kernelspec": {
   "display_name": "Python 3",
   "language": "python",
   "name": "python3"
  },
  "language_info": {
   "codemirror_mode": {
    "name": "ipython",
    "version": 3
   },
   "file_extension": ".py",
   "mimetype": "text/x-python",
   "name": "python",
   "nbconvert_exporter": "python",
   "pygments_lexer": "ipython3",
   "version": "3.8.7"
  }
 },
 "nbformat": 4,
 "nbformat_minor": 5
}
