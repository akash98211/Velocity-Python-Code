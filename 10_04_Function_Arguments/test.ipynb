{
 "cells": [
  {
   "cell_type": "code",
   "execution_count": 2,
   "id": "coastal-lithuania",
   "metadata": {},
   "outputs": [
    {
     "name": "stdout",
     "output_type": "stream",
     "text": [
      "List is : [2, 3, 4, 5]\n"
     ]
    }
   ],
   "source": [
    "def my_fun(list1):\n",
    "    print('List is :',list1)\n",
    "    \n",
    "l1 = [2,3,4,5]\n",
    "result = my_fun(l1)"
   ]
  },
  {
   "cell_type": "code",
   "execution_count": 5,
   "id": "confirmed-master",
   "metadata": {},
   "outputs": [
    {
     "name": "stdout",
     "output_type": "stream",
     "text": [
      "List is : [2, 3, 4, 5]\n",
      "l1 >>  [2, 3, 4, 5]\n"
     ]
    },
    {
     "ename": "NameError",
     "evalue": "name 'list1' is not defined",
     "output_type": "error",
     "traceback": [
      "\u001b[1;31m---------------------------------------------------------------------------\u001b[0m",
      "\u001b[1;31mNameError\u001b[0m                                 Traceback (most recent call last)",
      "\u001b[1;32m<ipython-input-5-db77765cd59d>\u001b[0m in \u001b[0;36m<module>\u001b[1;34m\u001b[0m\n\u001b[0;32m      7\u001b[0m \u001b[1;33m\u001b[0m\u001b[0m\n\u001b[0;32m      8\u001b[0m \u001b[0mprint\u001b[0m\u001b[1;33m(\u001b[0m\u001b[1;34m'l1 >> '\u001b[0m\u001b[1;33m,\u001b[0m\u001b[0ml1\u001b[0m\u001b[1;33m)\u001b[0m\u001b[1;33m\u001b[0m\u001b[1;33m\u001b[0m\u001b[0m\n\u001b[1;32m----> 9\u001b[1;33m \u001b[0mprint\u001b[0m\u001b[1;33m(\u001b[0m\u001b[1;34m'list1 >> '\u001b[0m\u001b[1;33m,\u001b[0m\u001b[0mlist1\u001b[0m\u001b[1;33m)\u001b[0m\u001b[1;33m\u001b[0m\u001b[1;33m\u001b[0m\u001b[0m\n\u001b[0m",
      "\u001b[1;31mNameError\u001b[0m: name 'list1' is not defined"
     ]
    }
   ],
   "source": [
    "def my_fun(list1):\n",
    "    print('List is :',list1)\n",
    "    return list1\n",
    "    \n",
    "l1 = [2,3,4,5]\n",
    "result = my_fun(l1)\n",
    "\n",
    "print('l1 >> ',l1)\n",
    "print('list1 >> ',list1)"
   ]
  },
  {
   "cell_type": "code",
   "execution_count": 9,
   "id": "proprietary-reduction",
   "metadata": {},
   "outputs": [
    {
     "name": "stdout",
     "output_type": "stream",
     "text": [
      "List is : [2, 3, 4, 5]\n",
      "l1 >>  [2, 3, 4, 5, 100, 200]\n",
      "list1 >>  [2, 3, 4, 5, 100, 200]\n"
     ]
    }
   ],
   "source": [
    "def my_fun(list1):\n",
    "    print('List is :',list1)\n",
    "    list1.append(100) # [2, 3, 4, 5,100]\n",
    "    list1.append(200) # [2, 3, 4, 5,100,200]\n",
    "    return list1\n",
    "    \n",
    "l1 = [2,3,4,5]\n",
    "result = my_fun(l1)\n",
    "\n",
    "print('l1 >> ',l1)\n",
    "print('list1 >> ',result)"
   ]
  },
  {
   "cell_type": "code",
   "execution_count": 12,
   "id": "supreme-wrapping",
   "metadata": {},
   "outputs": [
    {
     "name": "stdout",
     "output_type": "stream",
     "text": [
      "List is : [2, 3, 4, 5]\n",
      "l1 >>  [2, 3, 4, 5]\n",
      "list1 >>  [2, 3, 4, 5, 100, 200]\n"
     ]
    }
   ],
   "source": [
    "def my_fun(list1):  # list1 = l1.copy()\n",
    "    print('List is :',list1)\n",
    "    list1.append(100) # [2, 3, 4, 5,100]\n",
    "    list1.append(200) # [2, 3, 4, 5,100,200]\n",
    "    return list1\n",
    "    \n",
    "l1 = [2,3,4,5]\n",
    "result = my_fun(l1.copy())\n",
    "\n",
    "print('l1 >> ',l1)\n",
    "print('list1 >> ',result)"
   ]
  },
  {
   "cell_type": "code",
   "execution_count": 14,
   "id": "latter-version",
   "metadata": {},
   "outputs": [
    {
     "name": "stdout",
     "output_type": "stream",
     "text": [
      "[1, 2, 3, 4, 100, 200]\n",
      "[1, 2, 3, 4, 100, 200]\n"
     ]
    }
   ],
   "source": [
    "l1 = [1,2,3,4]\n",
    "l2 = l1\n",
    "l2.append(100)\n",
    "l2.append(200)\n",
    "print(l1)\n",
    "print(l2)"
   ]
  },
  {
   "cell_type": "code",
   "execution_count": 15,
   "id": "found-transformation",
   "metadata": {},
   "outputs": [
    {
     "name": "stdout",
     "output_type": "stream",
     "text": [
      "[1, 2, 3, 4]\n",
      "[1, 2, 3, 4, 100, 200]\n"
     ]
    }
   ],
   "source": [
    "l1 = [1,2,3,4]\n",
    "l2 = l1.copy()\n",
    "l2.append(100)\n",
    "l2.append(200)\n",
    "print(l1)\n",
    "print(l2)"
   ]
  }
 ],
 "metadata": {
  "kernelspec": {
   "display_name": "Python 3",
   "language": "python",
   "name": "python3"
  },
  "language_info": {
   "codemirror_mode": {
    "name": "ipython",
    "version": 3
   },
   "file_extension": ".py",
   "mimetype": "text/x-python",
   "name": "python",
   "nbconvert_exporter": "python",
   "pygments_lexer": "ipython3",
   "version": "3.8.7"
  }
 },
 "nbformat": 4,
 "nbformat_minor": 5
}
