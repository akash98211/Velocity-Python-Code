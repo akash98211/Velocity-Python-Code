{
 "cells": [
  {
   "cell_type": "markdown",
   "id": "impossible-feeding",
   "metadata": {},
   "source": [
    "# Functions"
   ]
  },
  {
   "cell_type": "code",
   "execution_count": null,
   "id": "rocky-worker",
   "metadata": {},
   "outputs": [],
   "source": [
    "def my_fun(par1,par2):\n",
    "    pass\n",
    "    return 'Success'\n",
    "\n",
    "my_fun(arg1,arg2)"
   ]
  },
  {
   "cell_type": "markdown",
   "id": "innovative-premium",
   "metadata": {},
   "source": [
    "# Types of Arguments"
   ]
  },
  {
   "cell_type": "raw",
   "id": "bibliographic-creature",
   "metadata": {},
   "source": [
    "1. Positional Arugments\n",
    "2. Default Argument\n",
    "3. Arbitrary Agument\n",
    "4. Keyword Agument"
   ]
  },
  {
   "cell_type": "markdown",
   "id": "spare-sharing",
   "metadata": {},
   "source": [
    "## 1. Positional Arugments"
   ]
  },
  {
   "cell_type": "raw",
   "id": "miniature-glass",
   "metadata": {},
   "source": [
    "Number of paramters == Number of Arguments"
   ]
  },
  {
   "cell_type": "code",
   "execution_count": 3,
   "id": "amino-command",
   "metadata": {},
   "outputs": [
    {
     "name": "stdout",
     "output_type": "stream",
     "text": [
      "Num1 == 10, Num2 == 20\n"
     ]
    }
   ],
   "source": [
    "def add(num1,num2):  # Defining Function\n",
    "    print(f'Num1 == {num1}, Num2 == {num2}')\n",
    "    \n",
    "add(10,20) # calling function"
   ]
  },
  {
   "cell_type": "code",
   "execution_count": 9,
   "id": "chief-copying",
   "metadata": {},
   "outputs": [
    {
     "name": "stdout",
     "output_type": "stream",
     "text": [
      "Num1 == 10, Num2 == 20\n",
      "Addition is  30\n"
     ]
    }
   ],
   "source": [
    "def add(num1,num2):  # Defining Function\n",
    "    print(f'Num1 == {num1}, Num2 == {num2}')\n",
    "    addition = num1 + num2\n",
    "    print('Addition is ',addition)\n",
    "    \n",
    "add(10,20) # calling function"
   ]
  },
  {
   "cell_type": "code",
   "execution_count": 7,
   "id": "communist-retro",
   "metadata": {},
   "outputs": [
    {
     "name": "stdout",
     "output_type": "stream",
     "text": [
      "Num1 == 100, Num2 == 20\n",
      "Addition is  120\n"
     ]
    }
   ],
   "source": [
    "def add(num1,num2):  # Defining Function\n",
    "    print(f'Num1 == {num1}, Num2 == {num2}')\n",
    "    addition = num1 + num2\n",
    "    print('Addition is ',addition)\n",
    "    \n",
    "add(100,20) # calling function"
   ]
  },
  {
   "cell_type": "code",
   "execution_count": 12,
   "id": "answering-scene",
   "metadata": {},
   "outputs": [
    {
     "name": "stdout",
     "output_type": "stream",
     "text": [
      "Num1 == 100, Num2 == 200\n",
      "Addition is  300\n"
     ]
    }
   ],
   "source": [
    "def add(num1,num2):  # Defining Function\n",
    "    print(f'Num1 == {num1}, Num2 == {num2}')\n",
    "    addition = num1 + num2\n",
    "    print('Addition is ',addition)\n",
    "    \n",
    "add(100,200) # calling function"
   ]
  },
  {
   "cell_type": "markdown",
   "id": "northern-assistant",
   "metadata": {},
   "source": [
    "## 2. Default Parameters/Arguments"
   ]
  },
  {
   "cell_type": "code",
   "execution_count": 15,
   "id": "incorporated-drove",
   "metadata": {},
   "outputs": [
    {
     "name": "stdout",
     "output_type": "stream",
     "text": [
      "n1 == 10, n2 == 15\n",
      "Multiplication of Numbers is:  150\n"
     ]
    }
   ],
   "source": [
    "def multiplication(n1,n2):\n",
    "    print(f\"n1 == {n1}, n2 == {n2}\")\n",
    "    mul = n1 * n2\n",
    "    print(\"Multiplication of Numbers is: \",mul)\n",
    "\n",
    "multiplication(10,15)"
   ]
  },
  {
   "cell_type": "code",
   "execution_count": 17,
   "id": "toxic-namibia",
   "metadata": {},
   "outputs": [
    {
     "name": "stdout",
     "output_type": "stream",
     "text": [
      "n1 == 5, n2 == 10, n3 = 2\n",
      "Multiplication of Numbers is:  50\n"
     ]
    }
   ],
   "source": [
    "def multiplication(n1,n2,n3):\n",
    "    print(f\"n1 == {n1}, n2 == {n2}, n3 = {n3}\")\n",
    "    mul = n1 * n2\n",
    "    print(\"Multiplication of Numbers is: \",mul)\n",
    "\n",
    "multiplication(5,10,2)"
   ]
  },
  {
   "cell_type": "code",
   "execution_count": 23,
   "id": "controlled-shape",
   "metadata": {},
   "outputs": [
    {
     "name": "stdout",
     "output_type": "stream",
     "text": [
      "n1 == 5, n2 == 10, n3 = 2\n",
      "Multiplication of Numbers is:  100\n"
     ]
    }
   ],
   "source": [
    "def multiplication(n1,n2,n3 = 2): # n1,n2 >> Positional, n3 >> Default\n",
    "    print(f\"n1 == {n1}, n2 == {n2}, n3 = {n3}\")\n",
    "    mul = n1 * n2 * n3\n",
    "    print(\"Multiplication of Numbers is: \",mul)\n",
    "\n",
    "multiplication(5,10)"
   ]
  },
  {
   "cell_type": "code",
   "execution_count": 25,
   "id": "representative-tenant",
   "metadata": {},
   "outputs": [
    {
     "name": "stdout",
     "output_type": "stream",
     "text": [
      "n1 == 5, n2 == 10, n3 = 3\n",
      "Multiplication of Numbers is:  150\n"
     ]
    }
   ],
   "source": [
    "def multiplication(n1,n2,n3 = 2): # n1,n2 >> Positional, n3 >> Default\n",
    "    print(f\"n1 == {n1}, n2 == {n2}, n3 = {n3}\")\n",
    "    mul = n1 * n2 * n3\n",
    "    print(\"Multiplication of Numbers is: \",mul)\n",
    "\n",
    "multiplication(5,10,3)"
   ]
  },
  {
   "cell_type": "code",
   "execution_count": 27,
   "id": "fatty-childhood",
   "metadata": {},
   "outputs": [
    {
     "name": "stdout",
     "output_type": "stream",
     "text": [
      "n1 == 10, n2 == 20, n3 = 5\n",
      "Multiplication of Numbers is:  1000\n"
     ]
    }
   ],
   "source": [
    "def multiplication(n1,n2,n3 = 2): # n1,n2 >> Positional, n3 >> Default\n",
    "    print(f\"n1 == {n1}, n2 == {n2}, n3 = {n3}\")\n",
    "    mul = n1 * n2 * n3\n",
    "    print(\"Multiplication of Numbers is: \",mul)\n",
    "\n",
    "multiplication(10,20,5)"
   ]
  },
  {
   "cell_type": "code",
   "execution_count": 29,
   "id": "alternate-shell",
   "metadata": {},
   "outputs": [
    {
     "name": "stdout",
     "output_type": "stream",
     "text": [
      "n1 == 10, n2 == 5, n3 = 2\n",
      "Multiplication of Numbers is:  100\n"
     ]
    }
   ],
   "source": [
    "def multiplication(n1,n2,n3 = 2): # n1,n2 >> Positional, n3 >> Default\n",
    "    print(f\"n1 == {n1}, n2 == {n2}, n3 = {n3}\")\n",
    "    mul = n1 * n2 * n3\n",
    "    print(\"Multiplication of Numbers is: \",mul)\n",
    "\n",
    "multiplication(10,5)"
   ]
  },
  {
   "cell_type": "code",
   "execution_count": 31,
   "id": "acoustic-pastor",
   "metadata": {},
   "outputs": [
    {
     "name": "stdout",
     "output_type": "stream",
     "text": [
      "n1 == 10, n2 == 2, n3 = 3\n",
      "Multiplication of Numbers is:  60\n"
     ]
    }
   ],
   "source": [
    "def multiplication(n1,n2,n3 = 2): # n1,n2 >> Positional, n3 >> Default\n",
    "    print(f\"n1 == {n1}, n2 == {n2}, n3 = {n3}\")\n",
    "    mul = n1 * n2 * n3\n",
    "    print(\"Multiplication of Numbers is: \",mul)\n",
    "\n",
    "a = 10\n",
    "b = 2\n",
    "c = 3\n",
    "multiplication(a,b,c)"
   ]
  },
  {
   "cell_type": "code",
   "execution_count": 33,
   "id": "worth-burner",
   "metadata": {},
   "outputs": [
    {
     "name": "stdout",
     "output_type": "stream",
     "text": [
      "n1 == 10, n2 == 10, n3 = 2\n",
      "Multiplication of Numbers is:  200\n"
     ]
    }
   ],
   "source": [
    "def multiplication(n1,n2 = 10,n3 = 2): # n1,n2 >> Positional, n3 >> Default\n",
    "    print(f\"n1 == {n1}, n2 == {n2}, n3 = {n3}\")\n",
    "    mul = n1 * n2 * n3\n",
    "    print(\"Multiplication of Numbers is: \",mul)\n",
    "\n",
    "a = 10\n",
    "b = 2\n",
    "c = 3\n",
    "multiplication(a)"
   ]
  },
  {
   "cell_type": "code",
   "execution_count": 37,
   "id": "sustained-sunday",
   "metadata": {},
   "outputs": [
    {
     "name": "stdout",
     "output_type": "stream",
     "text": [
      "n1 == 10, n2 == 10, n3 = 100\n",
      "Multiplication of Numbers is:  10000\n"
     ]
    }
   ],
   "source": [
    "def multiplication(n1,n3 = 100,n2 = 10): \n",
    "    print(f\"n1 == {n1}, n2 == {n2}, n3 = {n3}\")\n",
    "    mul = n1 * n2 * n3\n",
    "    print(\"Multiplication of Numbers is: \",mul)\n",
    "\n",
    "a = 10\n",
    "b = 2\n",
    "c = 3\n",
    "multiplication(a)"
   ]
  },
  {
   "cell_type": "code",
   "execution_count": 38,
   "id": "indian-breath",
   "metadata": {},
   "outputs": [
    {
     "name": "stdout",
     "output_type": "stream",
     "text": [
      "n1 == 20, n2 == 100, n3 = 10\n",
      "Multiplication of Numbers is:  20000\n"
     ]
    }
   ],
   "source": [
    "def multiplication(n1 = 20,n2 = 100,n3 = 10): \n",
    "    print(f\"n1 == {n1}, n2 == {n2}, n3 = {n3}\")\n",
    "    mul = n1 * n2 * n3\n",
    "    print(\"Multiplication of Numbers is: \",mul)\n",
    "\n",
    "multiplication()"
   ]
  },
  {
   "cell_type": "raw",
   "id": "relative-default",
   "metadata": {},
   "source": [
    "def build_model(TRAIN_DIR,VAL_DIR, backbone = 'resnet50'):\n",
    "    pass\n",
    "\n",
    "build_model('TRAIN_DIR','VAL_DIR', 'resnet34'):"
   ]
  },
  {
   "cell_type": "raw",
   "id": "negative-macintosh",
   "metadata": {},
   "source": [
    "from sklearn.model_selection import train_test_split\n",
    "\n",
    "train_test_split(\n",
    "    *arrays,  # Arbitrary  Argument\n",
    "    test_size=None,\n",
    "    train_size=None,\n",
    "    random_state=None,\n",
    "    shuffle=True,\n",
    "    stratify=None,\n",
    ")\n",
    "\n",
    "train_test_split(X,y)"
   ]
  },
  {
   "cell_type": "markdown",
   "id": "quality-trauma",
   "metadata": {},
   "source": [
    "# 3. Arbitrary Arguments"
   ]
  },
  {
   "cell_type": "raw",
   "id": "wrapped-updating",
   "metadata": {},
   "source": [
    "Variable length Arguments\n",
    "*args >> *arguments\n",
    "Datatype of args will be tuple\n",
    "When we dont know number of arguments to be passed"
   ]
  },
  {
   "cell_type": "code",
   "execution_count": 44,
   "id": "executive-casting",
   "metadata": {},
   "outputs": [
    {
     "name": "stdout",
     "output_type": "stream",
     "text": [
      "n1,n2,n3,n4,n5,n6 10 2 30 4 5 6\n",
      "Multiplication is: 72000\n"
     ]
    }
   ],
   "source": [
    "def multiplication(n1,n2,n3,n4,n5,n6): # 10 to 50\n",
    "    print('n1,n2,n3,n4,n5,n6',n1,n2,n3,n4,n5,n6)\n",
    "    mul = n1*n2*n3*n4*n5*n6\n",
    "    print(\"Multiplication is:\",mul)\n",
    "    \n",
    "multiplication(10,2,30,4,5,6)"
   ]
  },
  {
   "cell_type": "code",
   "execution_count": 49,
   "id": "coral-cooperative",
   "metadata": {},
   "outputs": [
    {
     "name": "stdout",
     "output_type": "stream",
     "text": [
      "Args >>  (10, 2, 3, 4, 5, 6)\n",
      "10\n",
      "2\n",
      "3\n",
      "4\n",
      "5\n",
      "6\n"
     ]
    },
    {
     "data": {
      "text/plain": [
       "7200"
      ]
     },
     "execution_count": 49,
     "metadata": {},
     "output_type": "execute_result"
    }
   ],
   "source": [
    "def multiplication(*args): # 10 to 50\n",
    "    print('Args >> ',args)  # Tuple\n",
    "    mul = 1\n",
    "    for i in args:\n",
    "        print(i)\n",
    "        mul *= i\n",
    "    return mul\n",
    "    \n",
    "multiplication(10,2,3,4,5,6)"
   ]
  },
  {
   "cell_type": "code",
   "execution_count": 51,
   "id": "african-denver",
   "metadata": {},
   "outputs": [
    {
     "name": "stdout",
     "output_type": "stream",
     "text": [
      "Args >>  (10, 2, 3, 4, 5, 6)\n",
      "10\n",
      "2\n",
      "3\n",
      "4\n",
      "5\n",
      "6\n"
     ]
    },
    {
     "data": {
      "text/plain": [
       "7200"
      ]
     },
     "execution_count": 51,
     "metadata": {},
     "output_type": "execute_result"
    }
   ],
   "source": [
    "def multiplication(*val): # 10 to 50\n",
    "    print('Args >> ',val)  # Tuple\n",
    "    mul = 1\n",
    "    for i in val:\n",
    "        print(i)\n",
    "        mul *= i\n",
    "    return mul\n",
    "    \n",
    "multiplication(10,2,3,4,5,6)"
   ]
  },
  {
   "cell_type": "code",
   "execution_count": 53,
   "id": "freelance-endorsement",
   "metadata": {},
   "outputs": [
    {
     "name": "stdout",
     "output_type": "stream",
     "text": [
      "Args >>  (10, 2, 3, 4, 5, 6)\n",
      "10\n",
      "2\n",
      "3\n",
      "4\n",
      "5\n",
      "6\n"
     ]
    },
    {
     "data": {
      "text/plain": [
       "7200"
      ]
     },
     "execution_count": 53,
     "metadata": {},
     "output_type": "execute_result"
    }
   ],
   "source": [
    "def multiplication(*n): # 10 to 50\n",
    "    print('Args >> ',n)  # Tuple\n",
    "    mul = 1\n",
    "    for i in n:\n",
    "        print(i)\n",
    "        mul *= i\n",
    "    return mul\n",
    "    \n",
    "multiplication(10,2,3,4,5,6)"
   ]
  },
  {
   "cell_type": "code",
   "execution_count": 56,
   "id": "accessory-milwaukee",
   "metadata": {},
   "outputs": [
    {
     "name": "stdout",
     "output_type": "stream",
     "text": [
      "Args >>  (10, 2, 3, 4, 5, 6)\n",
      "10\n",
      "2\n",
      "3\n",
      "4\n",
      "5\n",
      "6\n"
     ]
    },
    {
     "data": {
      "text/plain": [
       "7200"
      ]
     },
     "execution_count": 56,
     "metadata": {},
     "output_type": "execute_result"
    }
   ],
   "source": [
    "def multiplication(*n): \n",
    "    print('Args >> ',n)  # Tuple\n",
    "    mul = 1\n",
    "    for i in n:\n",
    "        print(i)\n",
    "        mul *= i\n",
    "    return mul\n",
    "    \n",
    "multiplication(10,2,3,4,5,6)"
   ]
  },
  {
   "cell_type": "code",
   "execution_count": 58,
   "id": "coordinate-atlanta",
   "metadata": {},
   "outputs": [
    {
     "name": "stdout",
     "output_type": "stream",
     "text": [
      "Args >>  ([10, 2, 3], [4, 5, 6])\n"
     ]
    },
    {
     "data": {
      "text/plain": [
       "1"
      ]
     },
     "execution_count": 58,
     "metadata": {},
     "output_type": "execute_result"
    }
   ],
   "source": [
    "def multiplication(*n): \n",
    "    print('Args >> ',n)  # Tuple\n",
    "    mul = 1\n",
    "#     for i in n:\n",
    "#         print(i)\n",
    "#         mul *= i\n",
    "    return mul\n",
    "    \n",
    "multiplication([10,2,3],[4,5,6])"
   ]
  },
  {
   "cell_type": "code",
   "execution_count": 59,
   "id": "posted-conjunction",
   "metadata": {},
   "outputs": [],
   "source": [
    "# train_test_split(arr1, arr2)  \n",
    "# *arrays >> lists"
   ]
  },
  {
   "cell_type": "code",
   "execution_count": 62,
   "id": "disciplinary-medicine",
   "metadata": {},
   "outputs": [
    {
     "name": "stdout",
     "output_type": "stream",
     "text": [
      "n1 == 10, n2 == 20, args == (30, 15, 25, 35), val1 == 100, val2 == Python\n"
     ]
    }
   ],
   "source": [
    "def addition(n1,n2,*args, val1 = 100, val2 = 'Python'):\n",
    "    \n",
    "    print(f\"n1 == {n1}, n2 == {n2}, args == {args}, val1 == {val1}, val2 == {val2}\")\n",
    "    pass\n",
    "\n",
    "addition(10,20,30,15,25,35)\n",
    "\n",
    "    \n"
   ]
  },
  {
   "cell_type": "code",
   "execution_count": 65,
   "id": "intermediate-reading",
   "metadata": {},
   "outputs": [
    {
     "name": "stdout",
     "output_type": "stream",
     "text": [
      "n1 == 10, n2 == 20, args == (25, 35), val1 == 30, val2 == 15\n"
     ]
    }
   ],
   "source": [
    "def addition(n1,n2, val1 = 100, val2 = 'Python',*args):\n",
    "    \n",
    "    print(f\"n1 == {n1}, n2 == {n2}, args == {args}, val1 == {val1}, val2 == {val2}\")\n",
    "    pass\n",
    "\n",
    "addition(10,20,30,15,25,35)\n",
    "    "
   ]
  },
  {
   "cell_type": "code",
   "execution_count": 67,
   "id": "durable-sense",
   "metadata": {},
   "outputs": [
    {
     "name": "stdout",
     "output_type": "stream",
     "text": [
      "n1 == 10, n2 == 20, args == (25, 35, 40, 50), val1 == 30, val2 == 15\n"
     ]
    }
   ],
   "source": [
    "def addition(n1,n2, val1 = 100, val2 = 'Python',*args):\n",
    "    \n",
    "    print(f\"n1 == {n1}, n2 == {n2}, args == {args}, val1 == {val1}, val2 == {val2}\")\n",
    "    pass\n",
    "\n",
    "addition(10,20,30,15,25,35,40,50)\n",
    "    "
   ]
  },
  {
   "cell_type": "markdown",
   "id": "pointed-sudan",
   "metadata": {},
   "source": [
    "# 4. Arbitrary Keyword Arguments"
   ]
  },
  {
   "cell_type": "raw",
   "id": "palestinian-difficulty",
   "metadata": {},
   "source": [
    "**kwargs >> KeyWord Arguments\n",
    "Datatype of kwargs will be dict\n",
    "When we dont number of keyword arguments"
   ]
  },
  {
   "cell_type": "code",
   "execution_count": 69,
   "id": "martial-showcase",
   "metadata": {},
   "outputs": [
    {
     "name": "stdout",
     "output_type": "stream",
     "text": [
      "Phy == 90, che == 95, math == 93\n"
     ]
    }
   ],
   "source": [
    "def marks(phy = 90, che = 95, math = 93):\n",
    "    print(f'Phy == {phy}, che == {che}, math == {math}')\n",
    "    \n",
    "marks()"
   ]
  },
  {
   "cell_type": "code",
   "execution_count": 71,
   "id": "foster-agent",
   "metadata": {},
   "outputs": [
    {
     "name": "stdout",
     "output_type": "stream",
     "text": [
      "Phy == 94, che == 96, math == 93\n"
     ]
    }
   ],
   "source": [
    "def marks(phy = 90, che = 95, math = 93):\n",
    "    print(f'Phy == {phy}, che == {che}, math == {math}')\n",
    "    \n",
    "marks(phy = 94, che = 96, math = 93)"
   ]
  },
  {
   "cell_type": "code",
   "execution_count": 77,
   "id": "amazing-airfare",
   "metadata": {},
   "outputs": [
    {
     "name": "stdout",
     "output_type": "stream",
     "text": [
      "KWArgs >>  {'phy': 94, 'che': 96, 'math': 93}\n",
      "Percentage == 94.33 %\n"
     ]
    }
   ],
   "source": [
    "def marks(**kwargs):  # Keyword arguments\n",
    "    print(\"KWArgs >> \",kwargs) # dict\n",
    "    percentage = sum(kwargs.values()) / len(kwargs)\n",
    "    \n",
    "    print(f'Percentage == {round(percentage,2)} %')\n",
    "marks(phy = 94, che = 96, math = 93)"
   ]
  },
  {
   "cell_type": "code",
   "execution_count": 94,
   "id": "discrete-slope",
   "metadata": {},
   "outputs": [
    {
     "name": "stdout",
     "output_type": "stream",
     "text": [
      "v1 = 10, v2 = 20 ,v3 = 30\n",
      "Args == ()\n",
      "Phy ==94, che == 90\n",
      "kwargs == {}\n"
     ]
    }
   ],
   "source": [
    "def test_parameters(v1,v2,v3, *args, phy = 100, che = 90, **kwargs):\n",
    "    print(f'v1 = {v1}, v2 = {v2} ,v3 = {v3}')\n",
    "    print(f'Args == {args}')\n",
    "    print(f'Phy =={phy}, che == {che}')\n",
    "    print(f'kwargs == {kwargs}')\n",
    "    \n",
    "test_parameters(10,20,30,phy = 94, che = 90)"
   ]
  },
  {
   "cell_type": "code",
   "execution_count": 85,
   "id": "severe-primary",
   "metadata": {},
   "outputs": [
    {
     "name": "stdout",
     "output_type": "stream",
     "text": [
      "v1 = 10, v2 = 20 ,v3 = 30\n",
      "Args == ()\n",
      "Phy == 93, che == 95\n",
      "kwargs == {}\n"
     ]
    }
   ],
   "source": [
    "def test_parameters(v1,v2,v3, *args, phy = 100, che = 90, **kwargs):\n",
    "    print(f'v1 = {v1}, v2 = {v2} ,v3 = {v3}')\n",
    "    print(f'Args == {args}')\n",
    "    print(f'Phy == {phy}, che == {che}')\n",
    "    print(f'kwargs == {kwargs}')\n",
    "    \n",
    "test_parameters(10,20,30,phy = 93, che = 95)"
   ]
  },
  {
   "cell_type": "code",
   "execution_count": 87,
   "id": "cellular-webcam",
   "metadata": {},
   "outputs": [
    {
     "name": "stdout",
     "output_type": "stream",
     "text": [
      "v1 = 10, v2 = 20 ,v3 = 30\n",
      "Args == (40, 50, 60)\n",
      "Phy == 93, che == 95\n",
      "kwargs == {}\n"
     ]
    }
   ],
   "source": [
    "def test_parameters(v1,v2,v3, *args, phy = 100, che = 90, **kwargs):\n",
    "    print(f'v1 = {v1}, v2 = {v2} ,v3 = {v3}')\n",
    "    print(f'Args == {args}')\n",
    "    print(f'Phy == {phy}, che == {che}')\n",
    "    print(f'kwargs == {kwargs}')\n",
    "    \n",
    "test_parameters(10,20,30,40,50,60,phy = 93, che = 95)"
   ]
  },
  {
   "cell_type": "code",
   "execution_count": 89,
   "id": "cordless-basket",
   "metadata": {},
   "outputs": [
    {
     "name": "stdout",
     "output_type": "stream",
     "text": [
      "v1 = 10, v2 = 20 ,v3 = 30\n",
      "Args == (40, 50, 60)\n",
      "Phy == 93, che == 95\n",
      "kwargs == {'math': 92, 'bio': 97, 'eng': 91}\n"
     ]
    }
   ],
   "source": [
    "def test_parameters(v1,v2,v3, *args, phy = 100, che = 90, **kwargs):\n",
    "    print(f'v1 = {v1}, v2 = {v2} ,v3 = {v3}')\n",
    "    print(f'Args == {args}')\n",
    "    print(f'Phy == {phy}, che == {che}')\n",
    "    print(f'kwargs == {kwargs}')\n",
    "    \n",
    "test_parameters(10,20,30,40,50,60,phy = 93, che = 95, math = 92, bio = 97, eng = 91)"
   ]
  },
  {
   "cell_type": "code",
   "execution_count": 92,
   "id": "tutorial-commitment",
   "metadata": {},
   "outputs": [
    {
     "name": "stdout",
     "output_type": "stream",
     "text": [
      "v1 = 10, v2 = 20 ,v3 = 30\n",
      "Args == (40, 50, 60)\n",
      "Phy == 93, che == 95\n",
      "kwargs == {'math': 92, 'bio': 97, 'eng': 91}\n"
     ]
    }
   ],
   "source": [
    "def test_parameters(v1,v2,v3, *args, phy = 100, che = 90, **kwargs):\n",
    "    print(f'v1 = {v1}, v2 = {v2} ,v3 = {v3}')\n",
    "    print(f'Args == {args}')\n",
    "    print(f'Phy == {phy}, che == {che}')\n",
    "    print(f'kwargs == {kwargs}')\n",
    "    \n",
    "test_parameters(10,20,30,40,50,60,phy = 93, che = 95, math = 92, bio = 97, eng = 91)"
   ]
  },
  {
   "cell_type": "code",
   "execution_count": null,
   "id": "aggregate-timer",
   "metadata": {},
   "outputs": [],
   "source": [
    "def test_parameters(v1,v2,v3, *args, phy = 100, che = 90, **kwargs):\n",
    "    print(f'v1 = {v1}, v2 = {v2} ,v3 = {v3}')\n",
    "    print(f'Args == {args}')\n",
    "    print(f'Phy == {phy}, che == {che}')\n",
    "    print(f'kwargs == {kwargs}')\n",
    "    \n",
    "test_parameters(10,20,30,40,50,60,phy = 93, che = 95, math = 92, bio = 97, eng = 91)"
   ]
  },
  {
   "cell_type": "code",
   "execution_count": 104,
   "id": "inner-clock",
   "metadata": {},
   "outputs": [
    {
     "name": "stdout",
     "output_type": "stream",
     "text": [
      "v1 = 10, v2 = 20 ,v3 = 30\n",
      "Phy == 40, che == 50\n",
      "kwargs == {'math': 100}\n"
     ]
    }
   ],
   "source": [
    "def test_parameters(v1,v2,v3, phy = 100, che = 90, **kwargs):\n",
    "    print(f'v1 = {v1}, v2 = {v2} ,v3 = {v3}')\n",
    "#     print(f'Args == {args}')\n",
    "    print(f'Phy == {phy}, che == {che}')\n",
    "    print(f'kwargs == {kwargs}')\n",
    "    \n",
    "test_parameters(10,20,30,40,50,math = 100)"
   ]
  },
  {
   "cell_type": "raw",
   "id": "hired-westminster",
   "metadata": {},
   "source": [
    "*args >>  Arbitrary Arugments\n",
    "**kwargs >> Arbitrary KeyWord Arguments"
   ]
  },
  {
   "cell_type": "code",
   "execution_count": null,
   "id": "alone-excerpt",
   "metadata": {},
   "outputs": [],
   "source": []
  }
 ],
 "metadata": {
  "kernelspec": {
   "display_name": "Python 3 (ipykernel)",
   "language": "python",
   "name": "python3"
  },
  "language_info": {
   "codemirror_mode": {
    "name": "ipython",
    "version": 3
   },
   "file_extension": ".py",
   "mimetype": "text/x-python",
   "name": "python",
   "nbconvert_exporter": "python",
   "pygments_lexer": "ipython3",
   "version": "3.9.1"
  }
 },
 "nbformat": 4,
 "nbformat_minor": 5
}
