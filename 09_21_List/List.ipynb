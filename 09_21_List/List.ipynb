{
 "cells": [
  {
   "cell_type": "markdown",
   "id": "banner-stations",
   "metadata": {},
   "source": [
    "# List"
   ]
  },
  {
   "cell_type": "code",
   "execution_count": 8,
   "id": "tested-moment",
   "metadata": {},
   "outputs": [],
   "source": [
    "list1 = [2,3,4,6,7]"
   ]
  },
  {
   "cell_type": "markdown",
   "id": "spread-helicopter",
   "metadata": {},
   "source": [
    "# List Functions"
   ]
  },
  {
   "cell_type": "code",
   "execution_count": null,
   "id": "collect-protein",
   "metadata": {},
   "outputs": [],
   "source": [
    "1. append()\n",
    "2. extend()"
   ]
  },
  {
   "cell_type": "markdown",
   "id": "motivated-amsterdam",
   "metadata": {},
   "source": [
    "# 2. extend"
   ]
  },
  {
   "cell_type": "code",
   "execution_count": 9,
   "id": "accompanied-tenant",
   "metadata": {},
   "outputs": [
    {
     "name": "stdout",
     "output_type": "stream",
     "text": [
      "[3, 4, 5, 6, 5, 6, 7, 8]\n",
      "[5, 6, 7, 8]\n"
     ]
    }
   ],
   "source": [
    "l1 = [3,4,5,6]\n",
    "l2 = [5,6,7,8]\n",
    "l1.extend(l2)\n",
    "print(l1)\n",
    "print(l2)"
   ]
  },
  {
   "cell_type": "code",
   "execution_count": 11,
   "id": "obvious-exception",
   "metadata": {},
   "outputs": [
    {
     "name": "stdout",
     "output_type": "stream",
     "text": [
      "[3, 4, 5, 6]\n",
      "[5, 6, 7, 8, 3, 4, 5, 6]\n"
     ]
    }
   ],
   "source": [
    "l1 = [3,4,5,6]\n",
    "l2 = [5,6,7,8]\n",
    "\n",
    "l2.extend(l1)\n",
    "print(l1)\n",
    "print(l2)"
   ]
  },
  {
   "cell_type": "code",
   "execution_count": 13,
   "id": "reverse-borough",
   "metadata": {},
   "outputs": [
    {
     "data": {
      "text/plain": [
       "'python class'"
      ]
     },
     "execution_count": 13,
     "metadata": {},
     "output_type": "execute_result"
    }
   ],
   "source": [
    "str1 = 'python' + ' class'\n",
    "str1"
   ]
  },
  {
   "cell_type": "code",
   "execution_count": 17,
   "id": "published-orleans",
   "metadata": {},
   "outputs": [
    {
     "name": "stdout",
     "output_type": "stream",
     "text": [
      "[3, 4, 5, 6]\n",
      "[5, 6, 7, 8]\n",
      "[3, 4, 5, 6, 5, 6, 7, 8]\n"
     ]
    }
   ],
   "source": [
    "l1 = [3,4,5,6]\n",
    "l2 = [5,6,7,8]\n",
    "\n",
    "l3 = l1 + l2\n",
    "print(l1)\n",
    "print(l2)\n",
    "print(l3)"
   ]
  },
  {
   "cell_type": "code",
   "execution_count": 19,
   "id": "through-kingdom",
   "metadata": {},
   "outputs": [
    {
     "name": "stdout",
     "output_type": "stream",
     "text": [
      "[3, 4, 5, 6, 5, 6, 7, 8]\n",
      "[5, 6, 7, 8]\n"
     ]
    }
   ],
   "source": [
    "l1 = [3,4,5,6]\n",
    "l2 = [5,6,7,8]\n",
    "\n",
    "l1 = l1 + l2\n",
    "print(l1)\n",
    "print(l2)"
   ]
  },
  {
   "cell_type": "code",
   "execution_count": 21,
   "id": "biblical-comparison",
   "metadata": {},
   "outputs": [
    {
     "name": "stdout",
     "output_type": "stream",
     "text": [
      "[3, 4, 5, 6]\n",
      "[3, 4, 5, 6, 5, 6, 7, 8]\n"
     ]
    }
   ],
   "source": [
    "l1 = [3,4,5,6]\n",
    "l2 = [5,6,7,8]\n",
    "\n",
    "l2 = l1 + l2\n",
    "print(l1)\n",
    "print(l2)"
   ]
  },
  {
   "cell_type": "markdown",
   "id": "different-costume",
   "metadata": {},
   "source": [
    "# 3. insert"
   ]
  },
  {
   "cell_type": "code",
   "execution_count": null,
   "id": "respective-february",
   "metadata": {},
   "outputs": [],
   "source": [
    "insert(index, value)"
   ]
  },
  {
   "cell_type": "code",
   "execution_count": 23,
   "id": "olympic-restoration",
   "metadata": {},
   "outputs": [
    {
     "data": {
      "text/plain": [
       "[3, 4, 5, 6, 100]"
      ]
     },
     "execution_count": 23,
     "metadata": {},
     "output_type": "execute_result"
    }
   ],
   "source": [
    "l1 = [3,4,5,6]\n",
    "l1.append(100)\n",
    "l1"
   ]
  },
  {
   "cell_type": "code",
   "execution_count": 26,
   "id": "photographic-quebec",
   "metadata": {},
   "outputs": [
    {
     "data": {
      "text/plain": [
       "[3, 4, 100, 5, 6, 7, 10, 20]"
      ]
     },
     "execution_count": 26,
     "metadata": {},
     "output_type": "execute_result"
    }
   ],
   "source": [
    "l1 = [3,4,5,6,7,10,20]\n",
    "l1.insert(2,100)\n",
    "l1"
   ]
  },
  {
   "cell_type": "code",
   "execution_count": 27,
   "id": "progressive-craps",
   "metadata": {},
   "outputs": [
    {
     "data": {
      "text/plain": [
       "[3, 4, 100, 5, 6, 7, 10, 20]"
      ]
     },
     "execution_count": 27,
     "metadata": {},
     "output_type": "execute_result"
    }
   ],
   "source": [
    "l1 = [3,4,5,6,7,10,20]\n",
    "l1.insert(2,100)\n",
    "l1"
   ]
  },
  {
   "cell_type": "code",
   "execution_count": 34,
   "id": "blind-cancellation",
   "metadata": {},
   "outputs": [
    {
     "data": {
      "text/plain": [
       "[3, 4, 5, 6, 7, 10, 100, 20]"
      ]
     },
     "execution_count": 34,
     "metadata": {},
     "output_type": "execute_result"
    }
   ],
   "source": [
    "l1 = [3,4,5,6,7,10,20]\n",
    "l1.insert(-1,100)\n",
    "l1"
   ]
  },
  {
   "cell_type": "code",
   "execution_count": 31,
   "id": "unavailable-flashing",
   "metadata": {},
   "outputs": [
    {
     "data": {
      "text/plain": [
       "[3, 4, 5, 6, 7, 100, 10, 20]"
      ]
     },
     "execution_count": 31,
     "metadata": {},
     "output_type": "execute_result"
    }
   ],
   "source": [
    "l1 = [3,4,5,6,7,10,20]\n",
    "l1.insert(-2,100)\n",
    "l1"
   ]
  },
  {
   "cell_type": "code",
   "execution_count": 33,
   "id": "entire-arthur",
   "metadata": {},
   "outputs": [
    {
     "data": {
      "text/plain": [
       "[100, 3, 4, 5, 6, 7, 10, 20]"
      ]
     },
     "execution_count": 33,
     "metadata": {},
     "output_type": "execute_result"
    }
   ],
   "source": [
    "l1 = [3,4,5,6,7,10,20]\n",
    "l1.insert(0,100)\n",
    "l1"
   ]
  },
  {
   "cell_type": "code",
   "execution_count": 37,
   "id": "cathedral-tragedy",
   "metadata": {},
   "outputs": [
    {
     "data": {
      "text/plain": [
       "[3, 4, 5, 6, 100, 7, 10, 20]"
      ]
     },
     "execution_count": 37,
     "metadata": {},
     "output_type": "execute_result"
    }
   ],
   "source": [
    "l1 = [3,4,5,6,7,10,20]\n",
    "l1.insert(-3,100)\n",
    "l1"
   ]
  },
  {
   "cell_type": "markdown",
   "id": "solar-taiwan",
   "metadata": {},
   "source": [
    "# Delete items"
   ]
  },
  {
   "cell_type": "code",
   "execution_count": null,
   "id": "possible-pennsylvania",
   "metadata": {},
   "outputs": [],
   "source": [
    "1. remove\n",
    "2. pop\n",
    "3. clear\n",
    "4. del"
   ]
  },
  {
   "cell_type": "code",
   "execution_count": 38,
   "id": "bacterial-plane",
   "metadata": {},
   "outputs": [],
   "source": [
    "l1 = [3,4,5,6,7,10,20]"
   ]
  },
  {
   "cell_type": "markdown",
   "id": "basic-roads",
   "metadata": {},
   "source": [
    "# 1. remove()"
   ]
  },
  {
   "cell_type": "raw",
   "id": "rocky-thesis",
   "metadata": {},
   "source": [
    "list1.remove('item')"
   ]
  },
  {
   "cell_type": "raw",
   "id": "duplicate-gentleman",
   "metadata": {},
   "source": [
    "It removes only first occurrences of element in list"
   ]
  },
  {
   "cell_type": "code",
   "execution_count": 41,
   "id": "blond-threat",
   "metadata": {},
   "outputs": [
    {
     "data": {
      "text/plain": [
       "6"
      ]
     },
     "execution_count": 41,
     "metadata": {},
     "output_type": "execute_result"
    }
   ],
   "source": [
    "l1 = [3,4,5,6,7,10,10,4,5,20]\n",
    "l1[3]"
   ]
  },
  {
   "cell_type": "code",
   "execution_count": 44,
   "id": "several-species",
   "metadata": {},
   "outputs": [],
   "source": [
    "l1 = [3,4,5,6,7,10,10,4,5,20]\n",
    "l1.remove(3)"
   ]
  },
  {
   "cell_type": "code",
   "execution_count": 47,
   "id": "compressed-phone",
   "metadata": {},
   "outputs": [
    {
     "data": {
      "text/plain": [
       "[3, 4, 5, 7, 10, 10, 4, 5, 20]"
      ]
     },
     "execution_count": 47,
     "metadata": {},
     "output_type": "execute_result"
    }
   ],
   "source": [
    "l1 = [3,4,5,6,7,10,10,4,5,20]\n",
    "l1.remove(6)\n",
    "l1"
   ]
  },
  {
   "cell_type": "code",
   "execution_count": 49,
   "id": "charming-indonesian",
   "metadata": {},
   "outputs": [
    {
     "data": {
      "text/plain": [
       "[3, 5, 6, 7, 10, 10, 4, 5, 20]"
      ]
     },
     "execution_count": 49,
     "metadata": {},
     "output_type": "execute_result"
    }
   ],
   "source": [
    "l1 = [3,4,5,6,7,10,10,4,5,20]\n",
    "l1.remove(4)\n",
    "l1"
   ]
  },
  {
   "cell_type": "code",
   "execution_count": 50,
   "id": "exotic-pressing",
   "metadata": {},
   "outputs": [],
   "source": [
    "city_name = ['Pune','Mumbai','Mumbai','Delhi','Chennai']"
   ]
  },
  {
   "cell_type": "code",
   "execution_count": 53,
   "id": "cloudy-peace",
   "metadata": {},
   "outputs": [
    {
     "name": "stdout",
     "output_type": "stream",
     "text": [
      "['Pune', 'Mumbai', 'Mumbai', 'Chennai'] 4\n"
     ]
    }
   ],
   "source": [
    "city_name = ['Pune','Mumbai','Mumbai','Delhi','Chennai']\n",
    "city_name.remove('Delhi')\n",
    "print(city_name,len(city_name))"
   ]
  },
  {
   "cell_type": "code",
   "execution_count": 55,
   "id": "inner-flower",
   "metadata": {},
   "outputs": [
    {
     "name": "stdout",
     "output_type": "stream",
     "text": [
      "['Pune', 'Mumbai', 'Delhi', 'Chennai'] 4\n"
     ]
    }
   ],
   "source": [
    "city_name = ['Pune','Mumbai','Mumbai','Delhi','Chennai']\n",
    "city_name.remove('Mumbai')\n",
    "print(city_name,len(city_name))"
   ]
  },
  {
   "cell_type": "code",
   "execution_count": 60,
   "id": "unauthorized-surprise",
   "metadata": {},
   "outputs": [
    {
     "data": {
      "text/plain": [
       "['Pune', 'Delhi', 'Chennai']"
      ]
     },
     "execution_count": 60,
     "metadata": {},
     "output_type": "execute_result"
    }
   ],
   "source": [
    "city_name = ['Pune','Mumbai','Mumbai','Delhi','Chennai']\n",
    "l1 = list(set(city_name))  # It does not allow duplicate items\n",
    "l1.remove('Mumbai')\n",
    "l1"
   ]
  },
  {
   "cell_type": "code",
   "execution_count": 64,
   "id": "alpha-billion",
   "metadata": {},
   "outputs": [
    {
     "name": "stdout",
     "output_type": "stream",
     "text": [
      "[3, 4, 5, 6, 7, 10, 10, 4, 5, 20] 10\n"
     ]
    }
   ],
   "source": [
    "l1 = [3,4,5,6,7,10,10,4,5,20]\n",
    "if 11 in l1:    # False\n",
    "    l1.remove(11)\n",
    "    \n",
    "print(l1,len(l1))"
   ]
  },
  {
   "cell_type": "code",
   "execution_count": 67,
   "id": "dimensional-twins",
   "metadata": {},
   "outputs": [
    {
     "name": "stdout",
     "output_type": "stream",
     "text": [
      "[3, 4, 5, 6, 7, 10, 4, 5, 20] 9\n"
     ]
    }
   ],
   "source": [
    "l1 = [3,4,5,6,7,10,10,4,5,20]\n",
    "\n",
    "if 10 in l1:    # True\n",
    "    l1.remove(10)\n",
    "print(l1,len(l1))"
   ]
  },
  {
   "cell_type": "code",
   "execution_count": 68,
   "id": "native-stamp",
   "metadata": {},
   "outputs": [
    {
     "name": "stdout",
     "output_type": "stream",
     "text": [
      "['Pune', 'Mumbai', 'Mumbai', 'Chennai'] 4\n"
     ]
    }
   ],
   "source": [
    "city_name = ['Pune','Mumbai','Mumbai','Delhi','Chennai']\n",
    "\n",
    "if 'Delhi' in city_name:\n",
    "    city_name.remove('Delhi')\n",
    "print(city_name,len(city_name))"
   ]
  },
  {
   "cell_type": "code",
   "execution_count": 72,
   "id": "every-handle",
   "metadata": {},
   "outputs": [
    {
     "data": {
      "text/plain": [
       "{'Chennai', 'Delhi', 'Mumbai', 'Pune'}"
      ]
     },
     "execution_count": 72,
     "metadata": {},
     "output_type": "execute_result"
    }
   ],
   "source": [
    "city_name = ['Pune','Mumbai','Mumbai','Delhi','Chennai']\n",
    "set(city_name)"
   ]
  },
  {
   "cell_type": "code",
   "execution_count": 77,
   "id": "loaded-ethnic",
   "metadata": {},
   "outputs": [
    {
     "data": {
      "text/plain": [
       "['Mumbai', 'Pune', 'Delhi', 'Chennai']"
      ]
     },
     "execution_count": 77,
     "metadata": {},
     "output_type": "execute_result"
    }
   ],
   "source": [
    "city_name = ['Pune','Mumbai','Mumbai','Mumbai','Delhi','Chennai']\n",
    "s1 = set(city_name)\n",
    "l1 = list(s1)\n",
    "l1"
   ]
  },
  {
   "cell_type": "markdown",
   "id": "written-choir",
   "metadata": {},
   "source": [
    "# 2. pop()"
   ]
  },
  {
   "cell_type": "raw",
   "id": "european-abraham",
   "metadata": {},
   "source": [
    "pop(index)\n",
    "default it will remove last indexed item"
   ]
  },
  {
   "cell_type": "code",
   "execution_count": 79,
   "id": "nonprofit-surfing",
   "metadata": {},
   "outputs": [
    {
     "data": {
      "text/plain": [
       "['Pune', 'Mumbai', 'Mumbai', 'Mumbai', 'Delhi']"
      ]
     },
     "execution_count": 79,
     "metadata": {},
     "output_type": "execute_result"
    }
   ],
   "source": [
    "city_name = ['Pune','Mumbai','Mumbai','Mumbai','Delhi','Chennai']\n",
    "city_name.pop()\n",
    "city_name"
   ]
  },
  {
   "cell_type": "code",
   "execution_count": 81,
   "id": "mysterious-declaration",
   "metadata": {},
   "outputs": [
    {
     "data": {
      "text/plain": [
       "[10, 20, 30, 25]"
      ]
     },
     "execution_count": 81,
     "metadata": {},
     "output_type": "execute_result"
    }
   ],
   "source": [
    "list1 = [10,20,30,25,35]\n",
    "list1.pop()\n",
    "list1"
   ]
  },
  {
   "cell_type": "code",
   "execution_count": 84,
   "id": "developing-wesley",
   "metadata": {},
   "outputs": [
    {
     "data": {
      "text/plain": [
       "[10, 30, 25, 35]"
      ]
     },
     "execution_count": 84,
     "metadata": {},
     "output_type": "execute_result"
    }
   ],
   "source": [
    "list1 = [10,20,30,25,35]\n",
    "list1.pop(1)\n",
    "list1"
   ]
  },
  {
   "cell_type": "code",
   "execution_count": 86,
   "id": "different-vitamin",
   "metadata": {},
   "outputs": [
    {
     "data": {
      "text/plain": [
       "[20, 30, 25, 35]"
      ]
     },
     "execution_count": 86,
     "metadata": {},
     "output_type": "execute_result"
    }
   ],
   "source": [
    "list1 = [10,20,30,25,35]\n",
    "list1.pop(0)\n",
    "list1"
   ]
  },
  {
   "cell_type": "markdown",
   "id": "ruled-debut",
   "metadata": {},
   "source": [
    "# 3. clear()"
   ]
  },
  {
   "cell_type": "raw",
   "id": "dutch-pizza",
   "metadata": {},
   "source": [
    "It will removes all items from list"
   ]
  },
  {
   "cell_type": "code",
   "execution_count": 88,
   "id": "representative-liberal",
   "metadata": {},
   "outputs": [
    {
     "data": {
      "text/plain": [
       "[2, 3, 5, 100]"
      ]
     },
     "execution_count": 88,
     "metadata": {},
     "output_type": "execute_result"
    }
   ],
   "source": [
    "list1 = [2,3,5]\n",
    "list1.append(100)\n",
    "list1"
   ]
  },
  {
   "cell_type": "code",
   "execution_count": 90,
   "id": "victorian-monitor",
   "metadata": {},
   "outputs": [
    {
     "data": {
      "text/plain": [
       "list"
      ]
     },
     "execution_count": 90,
     "metadata": {},
     "output_type": "execute_result"
    }
   ],
   "source": [
    "list1 = []\n",
    "type(list1)"
   ]
  },
  {
   "cell_type": "code",
   "execution_count": 91,
   "id": "finnish-damage",
   "metadata": {},
   "outputs": [
    {
     "data": {
      "text/plain": [
       "list"
      ]
     },
     "execution_count": 91,
     "metadata": {},
     "output_type": "execute_result"
    }
   ],
   "source": [
    "list1 = list()\n",
    "type(list1)"
   ]
  },
  {
   "cell_type": "code",
   "execution_count": 93,
   "id": "formal-exploration",
   "metadata": {},
   "outputs": [
    {
     "data": {
      "text/plain": [
       "[10]"
      ]
     },
     "execution_count": 93,
     "metadata": {},
     "output_type": "execute_result"
    }
   ],
   "source": [
    "list1 = []\n",
    "type(list1)\n",
    "list1.append(10)\n",
    "list1"
   ]
  },
  {
   "cell_type": "code",
   "execution_count": 96,
   "id": "irish-jesus",
   "metadata": {},
   "outputs": [
    {
     "data": {
      "text/plain": [
       "[100, 200]"
      ]
     },
     "execution_count": 96,
     "metadata": {},
     "output_type": "execute_result"
    }
   ],
   "source": [
    "list1 = []\n",
    "type(list1)\n",
    "list1.append(100)\n",
    "list1.append(200)\n",
    "list1"
   ]
  },
  {
   "cell_type": "code",
   "execution_count": 98,
   "id": "violent-arrival",
   "metadata": {},
   "outputs": [
    {
     "data": {
      "text/plain": [
       "[]"
      ]
     },
     "execution_count": 98,
     "metadata": {},
     "output_type": "execute_result"
    }
   ],
   "source": [
    "list1 = [10,20,30]\n",
    "list1.clear()\n",
    "list1"
   ]
  },
  {
   "cell_type": "markdown",
   "id": "destroyed-wilderness",
   "metadata": {},
   "source": [
    "# 4. del "
   ]
  },
  {
   "cell_type": "code",
   "execution_count": 100,
   "id": "demonstrated-medication",
   "metadata": {},
   "outputs": [
    {
     "data": {
      "text/plain": [
       "'Che'"
      ]
     },
     "execution_count": 100,
     "metadata": {},
     "output_type": "execute_result"
    }
   ],
   "source": [
    "sub_names = ['Phy','Che','Math','Bio','Eng']\n",
    "sub_names[1]"
   ]
  },
  {
   "cell_type": "code",
   "execution_count": 103,
   "id": "covered-purchase",
   "metadata": {},
   "outputs": [
    {
     "ename": "NameError",
     "evalue": "name 'sub_names' is not defined",
     "output_type": "error",
     "traceback": [
      "\u001b[1;31m---------------------------------------------------------------------------\u001b[0m",
      "\u001b[1;31mNameError\u001b[0m                                 Traceback (most recent call last)",
      "\u001b[1;32m<ipython-input-103-5e85d760dafc>\u001b[0m in \u001b[0;36m<module>\u001b[1;34m\u001b[0m\n\u001b[1;32m----> 1\u001b[1;33m \u001b[1;32mdel\u001b[0m \u001b[0msub_names\u001b[0m\u001b[1;33m\u001b[0m\u001b[1;33m\u001b[0m\u001b[0m\n\u001b[0m\u001b[0;32m      2\u001b[0m \u001b[0mprint\u001b[0m\u001b[1;33m(\u001b[0m\u001b[0msub_names\u001b[0m\u001b[1;33m)\u001b[0m\u001b[1;33m\u001b[0m\u001b[1;33m\u001b[0m\u001b[0m\n",
      "\u001b[1;31mNameError\u001b[0m: name 'sub_names' is not defined"
     ]
    }
   ],
   "source": [
    "del sub_names\n",
    "print(sub_names)"
   ]
  },
  {
   "cell_type": "code",
   "execution_count": 105,
   "id": "interested-battle",
   "metadata": {},
   "outputs": [
    {
     "name": "stdout",
     "output_type": "stream",
     "text": [
      "['Phy', 'Math', 'Bio', 'Eng']\n"
     ]
    }
   ],
   "source": [
    "sub_names = ['Phy','Che','Math','Bio','Eng']\n",
    "del sub_names[1]\n",
    "print(sub_names)"
   ]
  },
  {
   "cell_type": "markdown",
   "id": "handled-adelaide",
   "metadata": {},
   "source": [
    "# Sorting"
   ]
  },
  {
   "cell_type": "markdown",
   "id": "sudden-delight",
   "metadata": {},
   "source": [
    "### 1. ascending order"
   ]
  },
  {
   "cell_type": "code",
   "execution_count": 107,
   "id": "linear-indianapolis",
   "metadata": {},
   "outputs": [
    {
     "data": {
      "text/plain": [
       "[10, 20, 25, 30, 35]"
      ]
     },
     "execution_count": 107,
     "metadata": {},
     "output_type": "execute_result"
    }
   ],
   "source": [
    "list1 = [10,20,30,25,35]  # [10, 20,25, 30,35]\n",
    "list1.sort()\n",
    "list1"
   ]
  },
  {
   "cell_type": "code",
   "execution_count": 108,
   "id": "tracked-retirement",
   "metadata": {},
   "outputs": [
    {
     "data": {
      "text/plain": [
       "[10, 20, 25, 30, 35]"
      ]
     },
     "execution_count": 108,
     "metadata": {},
     "output_type": "execute_result"
    }
   ],
   "source": [
    "list1 = [10,20,30,25,35]  # [10, 20,25, 30,35]\n",
    "list1.sort()\n",
    "list1"
   ]
  },
  {
   "cell_type": "code",
   "execution_count": 111,
   "id": "australian-pastor",
   "metadata": {},
   "outputs": [
    {
     "data": {
      "text/plain": [
       "['Bio', 'Che', 'Eng', 'Math', 'Phy']"
      ]
     },
     "execution_count": 111,
     "metadata": {},
     "output_type": "execute_result"
    }
   ],
   "source": [
    "sub_names = ['Phy','Che','Math','Bio','Eng']\n",
    "sub_names.sort()\n",
    "sub_names"
   ]
  },
  {
   "cell_type": "code",
   "execution_count": 132,
   "id": "daily-newsletter",
   "metadata": {},
   "outputs": [
    {
     "data": {
      "text/plain": [
       "['Bio', 'Che', 'Phy', 'eng', 'math']"
      ]
     },
     "execution_count": 132,
     "metadata": {},
     "output_type": "execute_result"
    }
   ],
   "source": [
    "sub_names = ['Phy','Che','math','Bio','eng']\n",
    "sub_names.sort()\n",
    "sub_names"
   ]
  },
  {
   "cell_type": "markdown",
   "id": "graduate-consensus",
   "metadata": {},
   "source": [
    "### 2.descending order"
   ]
  },
  {
   "cell_type": "code",
   "execution_count": 118,
   "id": "electrical-wichita",
   "metadata": {},
   "outputs": [
    {
     "data": {
      "text/plain": [
       "[10, 20, 25, 30, 35]"
      ]
     },
     "execution_count": 118,
     "metadata": {},
     "output_type": "execute_result"
    }
   ],
   "source": [
    "list1 = [10,20,30,25,35]  # [10, 20,25, 30,35]\n",
    "list1.sort(reverse = False)\n",
    "list1"
   ]
  },
  {
   "cell_type": "code",
   "execution_count": 120,
   "id": "sexual-building",
   "metadata": {},
   "outputs": [
    {
     "data": {
      "text/plain": [
       "[35, 30, 25, 20, 10]"
      ]
     },
     "execution_count": 120,
     "metadata": {},
     "output_type": "execute_result"
    }
   ],
   "source": [
    "list1 = [10,20,30,25,35]  # [10, 20,25, 30,35]\n",
    "list1.sort(reverse = True)\n",
    "list1"
   ]
  },
  {
   "cell_type": "code",
   "execution_count": 122,
   "id": "listed-proposal",
   "metadata": {},
   "outputs": [
    {
     "data": {
      "text/plain": [
       "['eng', 'bio', 'Phy', 'Math', 'Che']"
      ]
     },
     "execution_count": 122,
     "metadata": {},
     "output_type": "execute_result"
    }
   ],
   "source": [
    "sub_names = ['Phy','Che','Math','bio','eng']\n",
    "sub_names.sort(reverse = True)\n",
    "sub_names"
   ]
  },
  {
   "cell_type": "code",
   "execution_count": 128,
   "id": "living-gothic",
   "metadata": {},
   "outputs": [
    {
     "data": {
      "text/plain": [
       "['Phy', 'Math', 'Eng', 'Che', 'Bio']"
      ]
     },
     "execution_count": 128,
     "metadata": {},
     "output_type": "execute_result"
    }
   ],
   "source": [
    "sub_names = ['Phy','Che','Math','Bio','Eng']\n",
    "sub_names.sort(reverse = True)\n",
    "sub_names"
   ]
  },
  {
   "cell_type": "code",
   "execution_count": 130,
   "id": "toxic-chosen",
   "metadata": {},
   "outputs": [],
   "source": [
    "sub_names = ['Phy','Che','Math','Bio','Eng']\n",
    "sub_names.sort(reverse = True)"
   ]
  },
  {
   "cell_type": "code",
   "execution_count": 133,
   "id": "ancient-italian",
   "metadata": {},
   "outputs": [
    {
     "name": "stdout",
     "output_type": "stream",
     "text": [
      "[100, 20, 30, 25, 35]\n",
      "[20, 25, 30, 35, 100]\n"
     ]
    }
   ],
   "source": [
    "list1 = [100,20,30,25,35] \n",
    "list2 = sorted(list1)\n",
    "\n",
    "print(list1)  # [100,20,30,25,35] \n",
    "print(list2)  # [20,25,30,35,100]"
   ]
  },
  {
   "cell_type": "code",
   "execution_count": null,
   "id": "thermal-motivation",
   "metadata": {},
   "outputs": [],
   "source": []
  },
  {
   "cell_type": "markdown",
   "id": "fiscal-capability",
   "metadata": {},
   "source": [
    "# Reverse"
   ]
  },
  {
   "cell_type": "code",
   "execution_count": 135,
   "id": "pretty-bishop",
   "metadata": {},
   "outputs": [
    {
     "data": {
      "text/plain": [
       "[35, 25, 30, 20, 100]"
      ]
     },
     "execution_count": 135,
     "metadata": {},
     "output_type": "execute_result"
    }
   ],
   "source": [
    "list1 = [100,20,30,25,35] \n",
    "list1.reverse()\n",
    "list1"
   ]
  },
  {
   "cell_type": "code",
   "execution_count": 137,
   "id": "interstate-smooth",
   "metadata": {},
   "outputs": [
    {
     "data": {
      "text/plain": [
       "['Eng', 'Bio', 'Math', 'Che', 'Phy']"
      ]
     },
     "execution_count": 137,
     "metadata": {},
     "output_type": "execute_result"
    }
   ],
   "source": [
    "sub_names = ['Phy','Che','Math','Bio','Eng']\n",
    "sub_names.reverse()\n",
    "sub_names"
   ]
  },
  {
   "cell_type": "code",
   "execution_count": 139,
   "id": "usual-representation",
   "metadata": {},
   "outputs": [
    {
     "data": {
      "text/plain": [
       "['Eng', 'Bio', 'Math', 'Che', 'Phy']"
      ]
     },
     "execution_count": 139,
     "metadata": {},
     "output_type": "execute_result"
    }
   ],
   "source": [
    "sub_names = ['Phy','Che','Math','Bio','Eng']\n",
    "sub_names[::-1]"
   ]
  },
  {
   "cell_type": "markdown",
   "id": "southern-intellectual",
   "metadata": {},
   "source": [
    "# reversed"
   ]
  },
  {
   "cell_type": "code",
   "execution_count": 142,
   "id": "liable-lease",
   "metadata": {},
   "outputs": [
    {
     "name": "stdout",
     "output_type": "stream",
     "text": [
      "['Phy', 'Che', 'Math', 'Bio', 'Eng']\n",
      "['Eng', 'Bio', 'Math', 'Che', 'Phy']\n"
     ]
    }
   ],
   "source": [
    "sub_names = ['Phy','Che','Math','Bio','Eng']\n",
    "new_list = reversed(sub_names)\n",
    "\n",
    "print(sub_names)\n",
    "print(list(new_list))"
   ]
  },
  {
   "cell_type": "code",
   "execution_count": 145,
   "id": "stretch-treatment",
   "metadata": {},
   "outputs": [
    {
     "data": {
      "text/plain": [
       "[35, 25, 30, 20, 100]"
      ]
     },
     "execution_count": 145,
     "metadata": {},
     "output_type": "execute_result"
    }
   ],
   "source": [
    "list1 = [100,20,30,25,35] \n",
    "list1.reverse()\n",
    "list1"
   ]
  },
  {
   "cell_type": "markdown",
   "id": "raised-disease",
   "metadata": {},
   "source": [
    "# Function"
   ]
  },
  {
   "cell_type": "code",
   "execution_count": null,
   "id": "legal-eclipse",
   "metadata": {},
   "outputs": [],
   "source": [
    "1. built in function\n",
    "2. User defined Function"
   ]
  },
  {
   "cell_type": "code",
   "execution_count": null,
   "id": "hollywood-original",
   "metadata": {},
   "outputs": [],
   "source": [
    "list()\n",
    "max()\n",
    "min()\n",
    "sum()\n",
    "sorted()\n",
    "print()\n",
    "len()\n",
    "reversed()\n",
    "id()\n",
    "int()\n",
    "float()\n",
    "tuple()"
   ]
  },
  {
   "cell_type": "code",
   "execution_count": 152,
   "id": "negative-supplement",
   "metadata": {},
   "outputs": [
    {
     "name": "stdout",
     "output_type": "stream",
     "text": [
      "Hello\n"
     ]
    }
   ],
   "source": [
    "def my_fun():\n",
    "    print('Hello')\n",
    "\n",
    "my_fun()"
   ]
  },
  {
   "cell_type": "code",
   "execution_count": 147,
   "id": "postal-uniform",
   "metadata": {},
   "outputs": [
    {
     "data": {
      "text/plain": [
       "25"
      ]
     },
     "execution_count": 147,
     "metadata": {},
     "output_type": "execute_result"
    }
   ],
   "source": [
    "l1 = [3,4,5,6,7]\n",
    "sum(l1)"
   ]
  },
  {
   "cell_type": "code",
   "execution_count": 156,
   "id": "brutal-porcelain",
   "metadata": {},
   "outputs": [
    {
     "name": "stdout",
     "output_type": "stream",
     "text": [
      "25\n"
     ]
    }
   ],
   "source": [
    "def sum_number(l1):  # User defined function\n",
    "    sum1 = 0\n",
    "    for i in l1:\n",
    "        sum1 += i\n",
    "    return sum1\n",
    "\n",
    "l1 = [3,4,5,6,7]\n",
    "\n",
    "s1 = sum_number(l1)\n",
    "print(s1)"
   ]
  },
  {
   "cell_type": "code",
   "execution_count": 157,
   "id": "broke-powell",
   "metadata": {},
   "outputs": [
    {
     "name": "stdout",
     "output_type": "stream",
     "text": [
      "None\n"
     ]
    }
   ],
   "source": [
    "def sum_number(l1):  # User defined function\n",
    "    sum1 = 0\n",
    "    for i in l1:\n",
    "        sum1 += i\n",
    "\n",
    "l1 = [3,4,5,6,7]\n",
    "\n",
    "s1 = sum_number(l1)\n",
    "print(s1)"
   ]
  },
  {
   "cell_type": "markdown",
   "id": "coordinate-edward",
   "metadata": {},
   "source": [
    "# index()"
   ]
  },
  {
   "cell_type": "raw",
   "id": "representative-riverside",
   "metadata": {},
   "source": [
    "First occurrence"
   ]
  },
  {
   "cell_type": "code",
   "execution_count": 159,
   "id": "institutional-garlic",
   "metadata": {},
   "outputs": [
    {
     "data": {
      "text/plain": [
       "1"
      ]
     },
     "execution_count": 159,
     "metadata": {},
     "output_type": "execute_result"
    }
   ],
   "source": [
    "sub_names = ['Phy','Che','Math','Bio','Eng']\n",
    "sub_names.index('Che')"
   ]
  },
  {
   "cell_type": "code",
   "execution_count": 161,
   "id": "intellectual-table",
   "metadata": {},
   "outputs": [
    {
     "data": {
      "text/plain": [
       "2"
      ]
     },
     "execution_count": 161,
     "metadata": {},
     "output_type": "execute_result"
    }
   ],
   "source": [
    "sub_names = ['Phy','Che','Math','Bio','Eng']\n",
    "sub_names.index('Math')"
   ]
  },
  {
   "cell_type": "code",
   "execution_count": 163,
   "id": "integrated-islam",
   "metadata": {},
   "outputs": [
    {
     "data": {
      "text/plain": [
       "4"
      ]
     },
     "execution_count": 163,
     "metadata": {},
     "output_type": "execute_result"
    }
   ],
   "source": [
    "sub_names = ['Phy','Che','Math','Bio','Eng']\n",
    "sub_names.index('Eng')"
   ]
  },
  {
   "cell_type": "code",
   "execution_count": 167,
   "id": "thermal-vaccine",
   "metadata": {},
   "outputs": [
    {
     "name": "stdout",
     "output_type": "stream",
     "text": [
      "4\n"
     ]
    }
   ],
   "source": [
    "sub_names = ['Phy','Che','Math','Bio','Eng']\n",
    "if 'Eng' in sub_names:\n",
    "    i = sub_names.index('Eng')\n",
    "    print(i)"
   ]
  },
  {
   "cell_type": "code",
   "execution_count": 170,
   "id": "fifty-complexity",
   "metadata": {},
   "outputs": [],
   "source": [
    "sub_names = ['Phy','Che','Math','Bio','Eng']\n",
    "if 'English' in sub_names:\n",
    "    i = sub_names.index('Eng')\n",
    "    print(i)"
   ]
  },
  {
   "cell_type": "code",
   "execution_count": 171,
   "id": "unlikely-loading",
   "metadata": {},
   "outputs": [
    {
     "name": "stdout",
     "output_type": "stream",
     "text": [
      "0\n"
     ]
    }
   ],
   "source": [
    "sub_names = ['Phy','Che','Math','Bio','Phy','Eng','Phy']\n",
    "if 'Phy' in sub_names:\n",
    "    i = sub_names.index('Phy')\n",
    "    print(i)"
   ]
  },
  {
   "cell_type": "markdown",
   "id": "confidential-compatibility",
   "metadata": {},
   "source": [
    "# count()"
   ]
  },
  {
   "cell_type": "code",
   "execution_count": 172,
   "id": "stupid-literacy",
   "metadata": {},
   "outputs": [
    {
     "data": {
      "text/plain": [
       "3"
      ]
     },
     "execution_count": 172,
     "metadata": {},
     "output_type": "execute_result"
    }
   ],
   "source": [
    "sub_names = ['Phy','Che','Math','Bio','Phy','Eng','Phy']\n",
    "sub_names.count('Phy')"
   ]
  },
  {
   "cell_type": "code",
   "execution_count": 174,
   "id": "talented-chamber",
   "metadata": {},
   "outputs": [
    {
     "data": {
      "text/plain": [
       "1"
      ]
     },
     "execution_count": 174,
     "metadata": {},
     "output_type": "execute_result"
    }
   ],
   "source": [
    "sub_names = ['Phy','Che','Math','Bio','Phy','Eng','Phy']\n",
    "sub_names.count('Che')"
   ]
  },
  {
   "cell_type": "code",
   "execution_count": 176,
   "id": "sufficient-tomato",
   "metadata": {},
   "outputs": [
    {
     "data": {
      "text/plain": [
       "0"
      ]
     },
     "execution_count": 176,
     "metadata": {},
     "output_type": "execute_result"
    }
   ],
   "source": [
    "sub_names = ['Phy','Che','Math','Bio','Phy','Eng','Phy']\n",
    "sub_names.count('Chem')"
   ]
  },
  {
   "cell_type": "code",
   "execution_count": 178,
   "id": "afraid-dispute",
   "metadata": {},
   "outputs": [
    {
     "data": {
      "text/plain": [
       "2"
      ]
     },
     "execution_count": 178,
     "metadata": {},
     "output_type": "execute_result"
    }
   ],
   "source": [
    "sub_names = ['Phy','Che','Math','Bio','Phy','Eng','Phy','Eng']\n",
    "sub_names.count('Eng')"
   ]
  },
  {
   "cell_type": "code",
   "execution_count": 180,
   "id": "nonprofit-reality",
   "metadata": {},
   "outputs": [
    {
     "data": {
      "text/plain": [
       "2"
      ]
     },
     "execution_count": 180,
     "metadata": {},
     "output_type": "execute_result"
    }
   ],
   "source": [
    "l1 = [10,20,10,25,20,35,40]\n",
    "l1.count(10)"
   ]
  },
  {
   "cell_type": "code",
   "execution_count": 184,
   "id": "thirty-texture",
   "metadata": {},
   "outputs": [
    {
     "data": {
      "text/plain": [
       "2"
      ]
     },
     "execution_count": 184,
     "metadata": {},
     "output_type": "execute_result"
    }
   ],
   "source": [
    "l1 = [10,20,10,25,20,35,40,'Phy','Che','Math','Bio','Phy','Eng']\n",
    "l1.count('Phy')"
   ]
  },
  {
   "cell_type": "markdown",
   "id": "expressed-quick",
   "metadata": {},
   "source": [
    "# List Comprehension"
   ]
  },
  {
   "cell_type": "code",
   "execution_count": 199,
   "id": "generic-castle",
   "metadata": {},
   "outputs": [
    {
     "name": "stdout",
     "output_type": "stream",
     "text": [
      "[4]\n",
      "[4, 9]\n",
      "[4, 9, 16]\n",
      "[4, 9, 16, 25]\n",
      "[4, 9, 16, 25, 36]\n",
      "[4, 9, 16, 25, 36, 49]\n"
     ]
    }
   ],
   "source": [
    "num = [2,3,4,5,6,7]\n",
    "# sqr_list = [4,9,16,25,36,49]\n",
    "\n",
    "sqrList = []\n",
    "for n in num: # n = 3\n",
    "    sqr = n ** 2  # sqr = 9\n",
    "    sqrList.append(sqr)   \n",
    "    print(sqrList)"
   ]
  },
  {
   "cell_type": "code",
   "execution_count": 194,
   "id": "celtic-mechanics",
   "metadata": {},
   "outputs": [
    {
     "name": "stdout",
     "output_type": "stream",
     "text": [
      "['PHY']\n",
      "['PHY', 'CHE']\n",
      "['PHY', 'CHE', 'MATH']\n",
      "['PHY', 'CHE', 'MATH', 'BIO']\n",
      "['PHY', 'CHE', 'MATH', 'BIO', 'ENG']\n"
     ]
    }
   ],
   "source": [
    "sub_names = ['Phy','Che','Math','Bio','Eng']\n",
    "# sub_names_upper = ['PHY','CHE','MATH','BIO','ENG']\n",
    "\n",
    "subject_upper = []\n",
    "for sub in sub_names:\n",
    "    subject_upper.append(sub.upper())\n",
    "    print(subject_upper)"
   ]
  },
  {
   "cell_type": "code",
   "execution_count": 198,
   "id": "physical-malpractice",
   "metadata": {},
   "outputs": [
    {
     "name": "stdout",
     "output_type": "stream",
     "text": [
      "['PHY']\n",
      "['PHY', 'CHE']\n",
      "['PHY', 'CHE', 'MATH']\n",
      "['PHY', 'CHE', 'MATH', 'BIO']\n",
      "['PHY', 'CHE', 'MATH', 'BIO', 'ENG']\n"
     ]
    }
   ],
   "source": [
    "sub_names = ['Phy','Che','Math','Bio','Eng']\n",
    "# sub_names_upper = ['PHY','CHE','MATH','BIO','ENG']\n",
    "\n",
    "subject_upper = []\n",
    "for sub in sub_names:\n",
    "    upper = sub.upper()\n",
    "    subject_upper.append(upper)\n",
    "    print(subject_upper)"
   ]
  },
  {
   "cell_type": "code",
   "execution_count": 203,
   "id": "polish-footage",
   "metadata": {},
   "outputs": [
    {
     "name": "stdout",
     "output_type": "stream",
     "text": [
      "[1, 8, 27, 64, 125, 216, 343, 512, 729, 1000]\n"
     ]
    }
   ],
   "source": [
    "# Cube of 1 to 10 numbers\n",
    "cube_list = []\n",
    "for i in range(1,11):\n",
    "    cube_list.append(i ** 3)\n",
    "print(cube_list)"
   ]
  },
  {
   "cell_type": "code",
   "execution_count": 209,
   "id": "statutory-creativity",
   "metadata": {},
   "outputs": [
    {
     "name": "stdout",
     "output_type": "stream",
     "text": [
      "[121, 144, 169, 196, 225, 256, 289, 324, 361, 400, 441, 484, 529, 576, 625, 676, 729, 784, 841, 900]\n"
     ]
    }
   ],
   "source": [
    "# Square of 11 to 30 numbers\n",
    "squares = []\n",
    "for i in range(11,31):\n",
    "    squares.append(i ** 2)\n",
    "print(squares)"
   ]
  },
  {
   "cell_type": "code",
   "execution_count": 211,
   "id": "technical-atlanta",
   "metadata": {},
   "outputs": [
    {
     "name": "stdout",
     "output_type": "stream",
     "text": [
      "[144, 196, 256, 324, 400, 484, 576, 676, 784, 900]\n"
     ]
    }
   ],
   "source": [
    "# Square of 11 to 30 numbers\n",
    "squares = []\n",
    "for i in range(11,31):\n",
    "    if i % 2 == 0:\n",
    "        squares.append(i ** 2)\n",
    "print(squares)"
   ]
  },
  {
   "cell_type": "code",
   "execution_count": 213,
   "id": "weighted-laundry",
   "metadata": {},
   "outputs": [
    {
     "name": "stdout",
     "output_type": "stream",
     "text": [
      "[2, 2, 4, 10, 2, 34, 56]\n"
     ]
    }
   ],
   "source": [
    "list1 = [1,2,3,1,2,3,4,10,2,3,34,45,56,67]\n",
    "\n",
    "even_numbers = [] # List initialization\n",
    "for i in list1:\n",
    "    if i % 2 == 0:\n",
    "        even_numbers.append(i)\n",
    "print(even_numbers)\n"
   ]
  },
  {
   "cell_type": "code",
   "execution_count": 214,
   "id": "killing-parker",
   "metadata": {},
   "outputs": [
    {
     "name": "stdout",
     "output_type": "stream",
     "text": [
      "[2, 2, 4, 10, 2, 34, 56]\n",
      "[1, 3, 1, 3, 3, 45, 67]\n"
     ]
    }
   ],
   "source": [
    "list1 = [1,2,3,1,2,3,4,10,2,3,34,45,56,67]\n",
    "\n",
    "even_numbers = [] # List initialization\n",
    "odd_numbers = []\n",
    "for i in list1:\n",
    "    if i % 2 == 0:\n",
    "        even_numbers.append(i)\n",
    "        \n",
    "    else:\n",
    "        odd_numbers.append(i)\n",
    "print(even_numbers)\n",
    "print(odd_numbers)"
   ]
  },
  {
   "cell_type": "code",
   "execution_count": 208,
   "id": "lonely-denial",
   "metadata": {},
   "outputs": [
    {
     "name": "stdout",
     "output_type": "stream",
     "text": [
      "[4, 9, 16, 25, 36, 49]\n"
     ]
    }
   ],
   "source": [
    "num = [2,3,4,5,6,7]\n",
    "# sqr_list = [4,9,16,25,36,49]\n",
    "\n",
    "sqrList = []\n",
    "for n in num: # n = 3\n",
    "    sqr = n ** 2  # sqr = 9\n",
    "    sqrList.append(sqr)   \n",
    "print(sqrList)"
   ]
  },
  {
   "cell_type": "code",
   "execution_count": null,
   "id": "clean-delight",
   "metadata": {},
   "outputs": [],
   "source": [
    "updated_list = [expression for item in list if condition == True]"
   ]
  },
  {
   "cell_type": "code",
   "execution_count": 216,
   "id": "pretty-factory",
   "metadata": {},
   "outputs": [
    {
     "data": {
      "text/plain": [
       "[4, 9, 16, 25, 36, 49]"
      ]
     },
     "execution_count": 216,
     "metadata": {},
     "output_type": "execute_result"
    }
   ],
   "source": [
    "num = [2,3,4,5,6,7]\n",
    "sqr_list = [i**2 for i in num]\n",
    "sqr_list"
   ]
  },
  {
   "cell_type": "code",
   "execution_count": 218,
   "id": "floppy-crest",
   "metadata": {},
   "outputs": [
    {
     "data": {
      "text/plain": [
       "[4, 16, 36]"
      ]
     },
     "execution_count": 218,
     "metadata": {},
     "output_type": "execute_result"
    }
   ],
   "source": [
    "num = [2,3,4,5,6,7]\n",
    "sqr_list = [i**2 for i in num if i % 2 == 0]\n",
    "sqr_list"
   ]
  },
  {
   "cell_type": "code",
   "execution_count": 220,
   "id": "solar-clerk",
   "metadata": {},
   "outputs": [
    {
     "name": "stdout",
     "output_type": "stream",
     "text": [
      "['PHY', 'CHE', 'MATH', 'BIO', 'ENG']\n"
     ]
    }
   ],
   "source": [
    "sub_names = ['Phy','Che','Math','Bio','Eng']\n",
    "# sub_names_upper = ['PHY','CHE','MATH','BIO','ENG']\n",
    "\n",
    "subject_upper = []\n",
    "for sub in sub_names:\n",
    "    upper = sub.upper()\n",
    "    subject_upper.append(upper)\n",
    "print(subject_upper)"
   ]
  },
  {
   "cell_type": "code",
   "execution_count": 223,
   "id": "proved-fountain",
   "metadata": {},
   "outputs": [
    {
     "data": {
      "text/plain": [
       "['PHY', 'CHE', 'MATH', 'BIO', 'ENG']"
      ]
     },
     "execution_count": 223,
     "metadata": {},
     "output_type": "execute_result"
    }
   ],
   "source": [
    "sub_names = ['Phy','Che','Math','Bio','Eng']\n",
    "sub_upper = [sub.upper() for sub in sub_names ]\n",
    "sub_upper"
   ]
  },
  {
   "cell_type": "code",
   "execution_count": 226,
   "id": "reasonable-airplane",
   "metadata": {},
   "outputs": [
    {
     "data": {
      "text/plain": [
       "['PHY', 'CHE', 'MATH', 'BIO', 'ENG']"
      ]
     },
     "execution_count": 226,
     "metadata": {},
     "output_type": "execute_result"
    }
   ],
   "source": [
    "sub_names = ['Phy','Che','Math','Bio','Eng']\n",
    "sub_upper = [sub.upper() for sub in sub_names ]\n",
    "sub_upper"
   ]
  },
  {
   "cell_type": "code",
   "execution_count": 228,
   "id": "independent-coaching",
   "metadata": {},
   "outputs": [
    {
     "data": {
      "text/plain": [
       "['Pune', 'Mumbai', 'Mumbai', 'Delhi', 'Chennai']"
      ]
     },
     "execution_count": 228,
     "metadata": {},
     "output_type": "execute_result"
    }
   ],
   "source": [
    "city_name = ['pune','Mumbai','mumbai','Delhi','chennai']\n",
    "city_name = [city.title() for city in city_name]\n",
    "city_name"
   ]
  },
  {
   "cell_type": "code",
   "execution_count": 225,
   "id": "blond-bleeding",
   "metadata": {},
   "outputs": [
    {
     "data": {
      "text/plain": [
       "[8, 27, 64, 125, 216, 343]"
      ]
     },
     "execution_count": 225,
     "metadata": {},
     "output_type": "execute_result"
    }
   ],
   "source": [
    "num = [2,3,4,5,6,7]\n",
    "cube_list = [i**3 for i in num]\n",
    "cube_list"
   ]
  },
  {
   "cell_type": "markdown",
   "id": "universal-marriage",
   "metadata": {},
   "source": [
    "# Copy Function"
   ]
  },
  {
   "cell_type": "code",
   "execution_count": 230,
   "id": "israeli-circumstances",
   "metadata": {},
   "outputs": [
    {
     "name": "stdout",
     "output_type": "stream",
     "text": [
      "[2, 3, 4, 5, 6, 7, 1000]\n",
      "[2, 3, 4, 5, 6, 7, 1000]\n"
     ]
    }
   ],
   "source": [
    "list1 = [2,3,4,5,6,7]\n",
    "\n",
    "list2 = list1\n",
    "list2.append(1000)\n",
    "\n",
    "print(list1)\n",
    "print(list2)"
   ]
  },
  {
   "cell_type": "code",
   "execution_count": 232,
   "id": "clean-wound",
   "metadata": {},
   "outputs": [
    {
     "name": "stdout",
     "output_type": "stream",
     "text": [
      "[2, 3, 4, 5, 6, 7]\n",
      "[2, 3, 4, 5, 6, 7, 1000]\n"
     ]
    }
   ],
   "source": [
    "list1 = [2,3,4,5,6,7]\n",
    "\n",
    "list2 = list1.copy()\n",
    "list2.append(1000)\n",
    "\n",
    "print(list1)\n",
    "print(list2)"
   ]
  },
  {
   "cell_type": "code",
   "execution_count": 234,
   "id": "conditional-latest",
   "metadata": {},
   "outputs": [
    {
     "name": "stdout",
     "output_type": "stream",
     "text": [
      "[2, 3, 1000, 5, 6, 7]\n",
      "[2, 3, 1000, 5, 6, 7]\n"
     ]
    }
   ],
   "source": [
    "list1 = [2,3,4,5,6,7]\n",
    "\n",
    "list2 = list1\n",
    "list1[2] = 1000\n",
    "\n",
    "print(list1)\n",
    "print(list2)"
   ]
  },
  {
   "cell_type": "code",
   "execution_count": 236,
   "id": "talented-ladder",
   "metadata": {},
   "outputs": [
    {
     "name": "stdout",
     "output_type": "stream",
     "text": [
      "[2, 3, 1000, 5, 6, 7]\n",
      "[2, 3, 4, 5, 6, 7]\n"
     ]
    }
   ],
   "source": [
    "list1 = [2,3,4,5,6,7]\n",
    "\n",
    "list2 = list1.copy() # Shallow Copy\n",
    "list1[2] = 1000\n",
    "\n",
    "print(list1)\n",
    "print(list2)"
   ]
  },
  {
   "cell_type": "markdown",
   "id": "intimate-extent",
   "metadata": {},
   "source": [
    "# Nested List"
   ]
  },
  {
   "cell_type": "raw",
   "id": "through-garlic",
   "metadata": {},
   "source": [
    "List in list "
   ]
  },
  {
   "cell_type": "code",
   "execution_count": 238,
   "id": "corporate-program",
   "metadata": {},
   "outputs": [
    {
     "data": {
      "text/plain": [
       "6"
      ]
     },
     "execution_count": 238,
     "metadata": {},
     "output_type": "execute_result"
    }
   ],
   "source": [
    "list1 = [[2,3],[3,4],[5,6],[7,8]]\n",
    "list1[2][1]"
   ]
  },
  {
   "cell_type": "code",
   "execution_count": 240,
   "id": "pleased-assembly",
   "metadata": {},
   "outputs": [
    {
     "name": "stdout",
     "output_type": "stream",
     "text": [
      "[2, 3]\n",
      "[3, 4]\n",
      "[5, 6]\n",
      "[7, 8]\n"
     ]
    }
   ],
   "source": [
    "list1 = [[2,3],[3,4],[5,6],[7,8]]\n",
    "for i in list1:\n",
    "    print(i)"
   ]
  },
  {
   "cell_type": "code",
   "execution_count": 242,
   "id": "charming-cardiff",
   "metadata": {},
   "outputs": [
    {
     "name": "stdout",
     "output_type": "stream",
     "text": [
      "[[2, 3], [3, 4], [5, 'python'], [7, 8]]\n"
     ]
    }
   ],
   "source": [
    "list1 = [[2,3],[3,4],[5,6],[7,8]]\n",
    "list1[2][1] = 'python'\n",
    "print(list1)"
   ]
  },
  {
   "cell_type": "code",
   "execution_count": 245,
   "id": "young-avatar",
   "metadata": {},
   "outputs": [
    {
     "name": "stdout",
     "output_type": "stream",
     "text": [
      "[[2, 3], [3, 4], [5, 'python'], [7, 8]]\n",
      "[[2, 3], [3, 4], [5, 'python'], [7, 8]]\n"
     ]
    }
   ],
   "source": [
    "list1 = [[2,3],[3,4],[5,6],[7,8]]\n",
    "\n",
    "list2 = list1.copy() # Shallow copy\n",
    "\n",
    "list1[2][1] = 'python'\n",
    "\n",
    "print(list1)\n",
    "print(list2)"
   ]
  },
  {
   "cell_type": "code",
   "execution_count": 248,
   "id": "consistent-order",
   "metadata": {},
   "outputs": [
    {
     "name": "stdout",
     "output_type": "stream",
     "text": [
      "[[2, 3], [3, 4], 'python', [7, 8]]\n",
      "[[2, 3], [3, 4], [5, 6], [7, 8]]\n"
     ]
    }
   ],
   "source": [
    "list1 = [[2,3],[3,4],[5,6],[7,8]]\n",
    "\n",
    "list2 = list1.copy() # Shallow copy\n",
    "\n",
    "list1[2] = 'python'\n",
    "\n",
    "print(list1)\n",
    "print(list2)"
   ]
  },
  {
   "cell_type": "code",
   "execution_count": 249,
   "id": "about-journalist",
   "metadata": {},
   "outputs": [
    {
     "name": "stdout",
     "output_type": "stream",
     "text": [
      "[[2, 3], [3, 4], [5, 'python'], [7, 8]]\n",
      "[[2, 3], [3, 4], [5, 'python'], [7, 8]]\n"
     ]
    }
   ],
   "source": [
    "list1 = [[2,3],[3,4],[5,6],[7,8]]\n",
    "\n",
    "list2 = list1.copy() # Shallow copy\n",
    "\n",
    "list1[2][1] = 'python'\n",
    "\n",
    "print(list1)\n",
    "print(list2)"
   ]
  },
  {
   "cell_type": "markdown",
   "id": "fresh-cleaner",
   "metadata": {},
   "source": [
    "# deep Copy"
   ]
  },
  {
   "cell_type": "code",
   "execution_count": 253,
   "id": "straight-auckland",
   "metadata": {},
   "outputs": [
    {
     "name": "stdout",
     "output_type": "stream",
     "text": [
      "[[2, 3], [3, 4], [5, 6], [7, 8]]\n",
      "[[2, 3], [3, 4], [5, 6], [7, 8]]\n",
      "[[2, 3], [3, 4], ['python', 6], [7, 8]]\n",
      "[[2, 3], [3, 4], [5, 6], [7, 8]]\n"
     ]
    }
   ],
   "source": [
    "import copy\n",
    "list1 = [[2,3],[3,4],[5,6],[7,8]]\n",
    "list2 = copy.deepcopy(list1)\n",
    "print(list1)\n",
    "print(list2)\n",
    "\n",
    "list1[2][0] = 'python'\n",
    "\n",
    "print(list1)\n",
    "print(list2)"
   ]
  },
  {
   "cell_type": "code",
   "execution_count": null,
   "id": "later-exploration",
   "metadata": {},
   "outputs": [],
   "source": []
  }
 ],
 "metadata": {
  "kernelspec": {
   "display_name": "Python 3 (ipykernel)",
   "language": "python",
   "name": "python3"
  },
  "language_info": {
   "codemirror_mode": {
    "name": "ipython",
    "version": 3
   },
   "file_extension": ".py",
   "mimetype": "text/x-python",
   "name": "python",
   "nbconvert_exporter": "python",
   "pygments_lexer": "ipython3",
   "version": "3.9.1"
  }
 },
 "nbformat": 4,
 "nbformat_minor": 5
}
