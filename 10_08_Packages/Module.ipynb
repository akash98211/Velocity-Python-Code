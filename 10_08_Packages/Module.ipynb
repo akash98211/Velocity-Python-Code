{
 "cells": [
  {
   "cell_type": "raw",
   "id": "adjusted-consistency",
   "metadata": {},
   "source": [
    "import module_name\n",
    "\n",
    "from module_name import function_name,class_name,variable\n",
    "\n",
    "import module_name as mod"
   ]
  },
  {
   "cell_type": "code",
   "execution_count": null,
   "id": "professional-johns",
   "metadata": {},
   "outputs": [],
   "source": []
  },
  {
   "cell_type": "code",
   "execution_count": 1,
   "id": "young-hollow",
   "metadata": {},
   "outputs": [],
   "source": [
    "import os\n",
    "import re \n"
   ]
  },
  {
   "cell_type": "code",
   "execution_count": null,
   "id": "apart-questionnaire",
   "metadata": {},
   "outputs": [],
   "source": [
    "import pandas as pd # \n",
    "import numpy as np\n",
    "import seaborn as sns  # \n",
    "import tensorflow as tf   # 1gb\n",
    "import matplotlib.pyplot as plt\n",
    "import sklearn"
   ]
  },
  {
   "cell_type": "markdown",
   "id": "little-collins",
   "metadata": {},
   "source": [
    "# Packages"
   ]
  },
  {
   "cell_type": "code",
   "execution_count": null,
   "id": "catholic-constitution",
   "metadata": {},
   "outputs": [],
   "source": [
    "It is simple directory having collection of modules and __init__.py file\n",
    "\n",
    "main.py\n",
    "Package1\n",
    "    __init__.py (constructor)\n",
    "    add.py\n",
    "    multiplication.py\n",
    "    division.py\n",
    "    \n",
    "Package2\n",
    "    __init__.py (constructor)\n",
    "    add1.py\n",
    "    multiplication1.py\n",
    "    division1.py"
   ]
  },
  {
   "cell_type": "code",
   "execution_count": null,
   "id": "friendly-backing",
   "metadata": {},
   "outputs": [],
   "source": [
    "main.py\n",
    "Package1\n",
    "    __init__.py (constructor)\n",
    "    add.py\n",
    "    multiplication.py\n",
    "    division.py\n",
    "    \n",
    "    Package2\n",
    "        __init__.py (constructor)\n",
    "        module1.py\n",
    "        module2.py\n",
    "        module10.py\n",
    "        \n",
    "    Package2\n",
    "        __init__.py (constructor)\n",
    "        module1.py\n",
    "        module2.py\n",
    "        module10.py"
   ]
  },
  {
   "cell_type": "markdown",
   "id": "prostate-techno",
   "metadata": {},
   "source": [
    "# Libraries"
   ]
  },
  {
   "cell_type": "code",
   "execution_count": null,
   "id": "diverse-coach",
   "metadata": {},
   "outputs": [],
   "source": []
  },
  {
   "cell_type": "code",
   "execution_count": 2,
   "id": "latest-episode",
   "metadata": {},
   "outputs": [],
   "source": [
    "import pandas as pd\n",
    "import numpy as np"
   ]
  },
  {
   "cell_type": "code",
   "execution_count": null,
   "id": "future-aggregate",
   "metadata": {},
   "outputs": [],
   "source": [
    "pip install library_name\n",
    "pip install pandas\n",
    "pip install scikit-learn\n",
    "\n",
    "pip uninstall library_name\n",
    "\n",
    "\n",
    "conda install library_name\n",
    "conda install -c anaconda pandas\n",
    "\n",
    "conda install nb_conda\n",
    "\n"
   ]
  },
  {
   "cell_type": "code",
   "execution_count": 4,
   "id": "sticky-milwaukee",
   "metadata": {},
   "outputs": [
    {
     "ename": "ModuleNotFoundError",
     "evalue": "No module named 'cv2'",
     "output_type": "error",
     "traceback": [
      "\u001b[1;31m---------------------------------------------------------------------------\u001b[0m",
      "\u001b[1;31mModuleNotFoundError\u001b[0m                       Traceback (most recent call last)",
      "\u001b[1;32m<ipython-input-4-c8ec22b3e787>\u001b[0m in \u001b[0;36m<module>\u001b[1;34m\u001b[0m\n\u001b[1;32m----> 1\u001b[1;33m \u001b[1;32mimport\u001b[0m \u001b[0mcv2\u001b[0m\u001b[1;33m\u001b[0m\u001b[1;33m\u001b[0m\u001b[0m\n\u001b[0m",
      "\u001b[1;31mModuleNotFoundError\u001b[0m: No module named 'cv2'"
     ]
    }
   ],
   "source": [
    "pip install opencv-python"
   ]
  },
  {
   "cell_type": "code",
   "execution_count": 7,
   "id": "unable-stupid",
   "metadata": {},
   "outputs": [],
   "source": [
    "import cv2"
   ]
  },
  {
   "cell_type": "code",
   "execution_count": null,
   "id": "everyday-wrestling",
   "metadata": {},
   "outputs": [],
   "source": [
    "5 project\n",
    "\n",
    "\n",
    "project1 >> tensorflow==1.14,pandas\n",
    "2017\n",
    "\n",
    "project2 >> tensorflow==2.4.1\n",
    "2021\n",
    "\n",
    "project3 >> pandas\n",
    "\n",
    "pip install tensorflow (latest version)\n"
   ]
  },
  {
   "cell_type": "code",
   "execution_count": 8,
   "id": "registered-abortion",
   "metadata": {},
   "outputs": [
    {
     "name": "stdout",
     "output_type": "stream",
     "text": [
      "Requirement already satisfied: numpy in c:\\users\\rahul\\appdata\\local\\programs\\python\\python38\\lib\\site-packages (1.21.2)\n",
      "Note: you may need to restart the kernel to use updated packages.\n"
     ]
    },
    {
     "name": "stderr",
     "output_type": "stream",
     "text": [
      "WARNING: You are using pip version 20.2.3; however, version 21.2.4 is available.\n",
      "You should consider upgrading via the 'c:\\users\\rahul\\appdata\\local\\programs\\python\\python38\\python.exe -m pip install --upgrade pip' command.\n"
     ]
    }
   ],
   "source": []
  }
 ],
 "metadata": {
  "kernelspec": {
   "display_name": "Python 3",
   "language": "python",
   "name": "python3"
  },
  "language_info": {
   "codemirror_mode": {
    "name": "ipython",
    "version": 3
   },
   "file_extension": ".py",
   "mimetype": "text/x-python",
   "name": "python",
   "nbconvert_exporter": "python",
   "pygments_lexer": "ipython3",
   "version": "3.8.7"
  }
 },
 "nbformat": 4,
 "nbformat_minor": 5
}
