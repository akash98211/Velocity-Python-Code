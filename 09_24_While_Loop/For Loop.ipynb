{
 "cells": [
  {
   "cell_type": "markdown",
   "id": "sized-harvey",
   "metadata": {},
   "source": [
    "# Fibonacci Series"
   ]
  },
  {
   "cell_type": "code",
   "execution_count": null,
   "id": "unavailable-ordinary",
   "metadata": {},
   "outputs": [],
   "source": [
    "0 1 1 2 3 5 8 13 21 .... \n",
    "\n",
    "n = 10 \n",
    "0 1 1 2 3 5 8 13 21 34\n",
    "\n",
    "n = 5\n",
    "0 1 1 2 3"
   ]
  },
  {
   "cell_type": "code",
   "execution_count": 19,
   "id": "compound-lebanon",
   "metadata": {},
   "outputs": [
    {
     "name": "stdout",
     "output_type": "stream",
     "text": [
      "0\n",
      "1\n",
      "1\n",
      "2\n",
      "3\n",
      "5\n",
      "8\n",
      "13\n",
      "21\n",
      "34\n"
     ]
    }
   ],
   "source": [
    "n = 10\n",
    "\n",
    "a = 0\n",
    "b = 1\n",
    "\n",
    "for i in range(n):\n",
    "    print(a)\n",
    "    c=a\n",
    "    a=b\n",
    "    b=b+c"
   ]
  },
  {
   "cell_type": "code",
   "execution_count": 8,
   "id": "clinical-cloud",
   "metadata": {},
   "outputs": [
    {
     "name": "stdout",
     "output_type": "stream",
     "text": [
      "0\n",
      "1\n",
      "1\n",
      "2\n",
      "3\n",
      "5\n",
      "8\n",
      "13\n",
      "21\n",
      "34\n"
     ]
    }
   ],
   "source": [
    "n=10\n",
    "n1=0\n",
    "n2=1\n",
    "print(n1)\n",
    "print(n2)\n",
    "for i in range(0,n-2):\n",
    "    sum=n1+n2\n",
    "    n1=n2\n",
    "    n2=sum\n",
    "    print(sum)"
   ]
  },
  {
   "cell_type": "code",
   "execution_count": 16,
   "id": "worth-garbage",
   "metadata": {},
   "outputs": [
    {
     "name": "stdout",
     "output_type": "stream",
     "text": [
      "Fobonaccii series for 10 is\n",
      " 0 1 1 2 3 5 8 13 21 34 "
     ]
    }
   ],
   "source": [
    "n=10\n",
    "first =0\n",
    "second=1\n",
    "\n",
    "print(f'Fobonaccii series for {n} is\\n',first, second, end = ' ')\n",
    "for i in range(0,n-2):\n",
    "    new = first + second\n",
    "    first = second\n",
    "    second = new\n",
    "    print(new, end = ' ')"
   ]
  },
  {
   "cell_type": "code",
   "execution_count": 26,
   "id": "wound-accommodation",
   "metadata": {},
   "outputs": [
    {
     "name": "stdout",
     "output_type": "stream",
     "text": [
      "Fobonacci series for 10 is\n",
      " 0 1 1 2 3 5 8 13 21 34 "
     ]
    }
   ],
   "source": [
    "n = 10\n",
    "first = 0\n",
    "second = 1\n",
    "\n",
    "print(f'Fobonacci series for {n} is\\n',first, second, end = ' ')\n",
    "for i in range(0,n-2):  # i = 3\n",
    "    new = first + second  # new = 1 + 2 = 3\n",
    "    first = second   # first  = 2\n",
    "    second = new     # second = 3\n",
    "    print(new, end = ' ') # 1 2 3"
   ]
  },
  {
   "cell_type": "code",
   "execution_count": 27,
   "id": "continent-guinea",
   "metadata": {},
   "outputs": [
    {
     "name": "stdout",
     "output_type": "stream",
     "text": [
      "Fobonacci series for 5 is\n",
      " 0 1 1 2 3 "
     ]
    }
   ],
   "source": [
    "n = 5\n",
    "first = 0\n",
    "second = 1\n",
    "\n",
    "print(f'Fobonacci series for {n} is\\n', end = ' ')\n",
    "for i in range(0,n):  # i = 4\n",
    "    print(first,end = ' ')   # 0 1 1 2 3\n",
    "    first, second = second, first+second     # first = 1, second = 1"
   ]
  },
  {
   "cell_type": "raw",
   "id": "removable-share",
   "metadata": {},
   "source": [
    "    *\n",
    "   **\n",
    "  ***\n",
    " ****\n",
    "*****"
   ]
  },
  {
   "cell_type": "code",
   "execution_count": 32,
   "id": "theoretical-chester",
   "metadata": {},
   "outputs": [
    {
     "name": "stdout",
     "output_type": "stream",
     "text": [
      "    *\n",
      "   **\n",
      "  ***\n",
      " ****\n",
      "*****\n"
     ]
    }
   ],
   "source": [
    "n = 5\n",
    "for i in range(1,n+1): # i = 1\n",
    "    print(' ' * (n-i) + '*' * i)"
   ]
  },
  {
   "cell_type": "code",
   "execution_count": 35,
   "id": "accredited-shopper",
   "metadata": {},
   "outputs": [
    {
     "name": "stdout",
     "output_type": "stream",
     "text": [
      "    *\n",
      "   **\n",
      "  ***\n",
      " ****\n",
      "*****\n"
     ]
    }
   ],
   "source": [
    "n = 5\n",
    "for i in range(1,n+1): # i = 2\n",
    "    print(' ' * (n-i) + '*' * i)"
   ]
  },
  {
   "cell_type": "code",
   "execution_count": null,
   "id": "ultimate-watch",
   "metadata": {},
   "outputs": [],
   "source": [
    "n = 5\n",
    "for i in range(1,n+1): # i = 2\n",
    "    print(' ' * (n-i) + '*' * i)"
   ]
  },
  {
   "cell_type": "raw",
   "id": "spectacular-nicaragua",
   "metadata": {},
   "source": [
    "    *\n",
    "   ***\n",
    "  *****\n",
    " *******\n",
    "*********\n",
    "\n",
    "1 >> 1\n",
    "2 >> 3\n",
    "3 >> 5\n",
    "4 >> 7\n",
    "(i*2 -1)"
   ]
  },
  {
   "cell_type": "code",
   "execution_count": 38,
   "id": "convinced-dress",
   "metadata": {},
   "outputs": [
    {
     "name": "stdout",
     "output_type": "stream",
     "text": [
      "    *\n",
      "   ***\n",
      "  *****\n",
      " *******\n",
      "*********\n"
     ]
    }
   ],
   "source": [
    "n = 5\n",
    "for i in range(1,n+1): # i = 2\n",
    "    print(' ' * (n-i) + '*' * (i*2-1))"
   ]
  },
  {
   "cell_type": "raw",
   "id": "shared-slope",
   "metadata": {},
   "source": [
    "*\n",
    "**\n",
    "***\n",
    "****\n",
    "***\n",
    "**\n",
    "*"
   ]
  },
  {
   "cell_type": "code",
   "execution_count": 42,
   "id": "floral-athletics",
   "metadata": {},
   "outputs": [
    {
     "name": "stdout",
     "output_type": "stream",
     "text": [
      "* * * * \n",
      "* * * * \n",
      "* * * * \n",
      "* * * * \n"
     ]
    }
   ],
   "source": [
    "n = 4\n",
    "\n",
    "for i in range(1,n+1):\n",
    "    for j in range(1,n+1):\n",
    "        print('*',end = ' ')\n",
    "    print()"
   ]
  },
  {
   "cell_type": "code",
   "execution_count": 44,
   "id": "changing-egyptian",
   "metadata": {},
   "outputs": [
    {
     "name": "stdout",
     "output_type": "stream",
     "text": [
      "* \n",
      "* * \n",
      "* * * \n",
      "* * * * \n"
     ]
    }
   ],
   "source": [
    "n = 4\n",
    "\n",
    "for i in range(1,n+1):\n",
    "    for j in range(i):\n",
    "        print('*',end = ' ')\n",
    "    print()"
   ]
  },
  {
   "cell_type": "code",
   "execution_count": 49,
   "id": "attractive-maryland",
   "metadata": {},
   "outputs": [
    {
     "name": "stdout",
     "output_type": "stream",
     "text": [
      "* \n",
      "* * \n",
      "* * * \n",
      "* * * * \n",
      "* * * \n",
      "* * \n",
      "* \n"
     ]
    }
   ],
   "source": [
    "n = 4\n",
    "\n",
    "for i in range(1,n+1):\n",
    "    for j in range(i):\n",
    "        print('*',end = ' ')\n",
    "    print()\n",
    "    \n",
    "for i in range(n-1,0,-1):\n",
    "    for j in range(i):\n",
    "        print('*',end = ' ')\n",
    "    print()"
   ]
  },
  {
   "cell_type": "code",
   "execution_count": 52,
   "id": "bronze-applicant",
   "metadata": {},
   "outputs": [
    {
     "name": "stdout",
     "output_type": "stream",
     "text": [
      "1 \n",
      "1 1 \n",
      "1 1 1 \n",
      "1 1 1 1 \n",
      "1 1 1 \n",
      "1 1 \n",
      "1 \n"
     ]
    }
   ],
   "source": [
    "n = 4\n",
    "num = 1\n",
    "for i in range(1,n+1):\n",
    "    for j in range(i):\n",
    "        print(num,end = ' ')\n",
    "    print()\n",
    "    \n",
    "for i in range(n-1,0,-1):\n",
    "    for j in range(i):\n",
    "        print(num,end = ' ')\n",
    "    print()"
   ]
  },
  {
   "cell_type": "code",
   "execution_count": 55,
   "id": "turned-zambia",
   "metadata": {},
   "outputs": [
    {
     "name": "stdout",
     "output_type": "stream",
     "text": [
      "1 \n",
      "2 3 \n",
      "4 5 6 \n",
      "7 8 9 10 \n",
      "11 12 13 \n",
      "14 15 \n",
      "16 \n"
     ]
    }
   ],
   "source": [
    "n = 4\n",
    "num = 1\n",
    "for i in range(1,n+1):\n",
    "    for j in range(i):\n",
    "        print(num,end = ' ')\n",
    "        num += 1\n",
    "    print()\n",
    "    \n",
    "for i in range(n-1,0,-1):\n",
    "    for j in range(i):\n",
    "        print(num,end = ' ')\n",
    "        num += 1\n",
    "    print()"
   ]
  },
  {
   "cell_type": "code",
   "execution_count": 58,
   "id": "grateful-uruguay",
   "metadata": {},
   "outputs": [
    {
     "name": "stdout",
     "output_type": "stream",
     "text": [
      "A \n",
      "B C \n",
      "D E F \n",
      "G H I J \n",
      "K L M \n",
      "N O \n",
      "P \n"
     ]
    }
   ],
   "source": [
    "n = 4\n",
    "num = 65\n",
    "for i in range(1,n+1):\n",
    "    for j in range(i):\n",
    "        print(chr(num),end = ' ')\n",
    "        num += 1\n",
    "    print()\n",
    "    \n",
    "for i in range(n-1,0,-1):\n",
    "    for j in range(i):\n",
    "        print(chr(num),end = ' ')\n",
    "        num += 1\n",
    "    print()"
   ]
  },
  {
   "cell_type": "code",
   "execution_count": 60,
   "id": "increased-polymer",
   "metadata": {},
   "outputs": [
    {
     "name": "stdout",
     "output_type": "stream",
     "text": [
      "a \n",
      "b c \n",
      "d e f \n",
      "g h i j \n",
      "k l m \n",
      "n o \n",
      "p \n"
     ]
    }
   ],
   "source": [
    "n = 4\n",
    "num = 97\n",
    "for i in range(1,n+1):\n",
    "    for j in range(i):\n",
    "        print(chr(num),end = ' ')\n",
    "        num += 1\n",
    "    print()\n",
    "    \n",
    "for i in range(n-1,0,-1):\n",
    "    for j in range(i):\n",
    "        print(chr(num),end = ' ')\n",
    "        num += 1\n",
    "    print()"
   ]
  }
 ],
 "metadata": {
  "kernelspec": {
   "display_name": "Python 3",
   "language": "python",
   "name": "python3"
  },
  "language_info": {
   "codemirror_mode": {
    "name": "ipython",
    "version": 3
   },
   "file_extension": ".py",
   "mimetype": "text/x-python",
   "name": "python",
   "nbconvert_exporter": "python",
   "pygments_lexer": "ipython3",
   "version": "3.8.7"
  }
 },
 "nbformat": 4,
 "nbformat_minor": 5
}
