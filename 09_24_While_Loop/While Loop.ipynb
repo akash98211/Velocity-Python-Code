{
 "cells": [
  {
   "cell_type": "markdown",
   "id": "christian-liverpool",
   "metadata": {},
   "source": [
    "# While Loop"
   ]
  },
  {
   "cell_type": "code",
   "execution_count": null,
   "id": "leading-amendment",
   "metadata": {},
   "outputs": [],
   "source": [
    "While loop is used to execute a block of code until a given condition is True\n",
    "\n",
    "\n",
    "While Condition:\n",
    "    code\n",
    "    \n",
    "Condition is:\n",
    "    1. True >> Executes block of code\n",
    "    2. False >> Exit while loop"
   ]
  },
  {
   "cell_type": "code",
   "execution_count": null,
   "id": "amended-carolina",
   "metadata": {},
   "outputs": [],
   "source": [
    "\n",
    "while condition:\n",
    "    statement1\n",
    "    statement2\n",
    "    "
   ]
  },
  {
   "cell_type": "code",
   "execution_count": 6,
   "id": "alleged-relative",
   "metadata": {},
   "outputs": [
    {
     "name": "stdout",
     "output_type": "stream",
     "text": [
      "Hello\n",
      "We are testing while loop\n",
      "Hello\n",
      "We are testing while loop\n",
      "Hello\n",
      "We are testing while loop\n",
      "Hello\n",
      "We are testing while loop\n",
      "Loop Completed\n"
     ]
    }
   ],
   "source": [
    "i = 0\n",
    "while i < 4: # False # i = 4\n",
    "    print(\"Hello\")\n",
    "    print('We are testing while loop')\n",
    "    i += 1\n",
    "    \n",
    "print(\"Loop Completed\")"
   ]
  },
  {
   "cell_type": "code",
   "execution_count": 10,
   "id": "recognized-spirit",
   "metadata": {},
   "outputs": [
    {
     "name": "stdout",
     "output_type": "stream",
     "text": [
      "Sum of first 10 numbers is 55\n"
     ]
    }
   ],
   "source": [
    "n = 10\n",
    "num = 1\n",
    "addition = 0\n",
    "while num <= n:  # 1 <= 10 >> True\n",
    "    addition +=  num  # addition = 1\n",
    "    num += 1\n",
    "print(f\"Sum of first {n} numbers is {addition}\")"
   ]
  },
  {
   "cell_type": "code",
   "execution_count": 12,
   "id": "normal-quarterly",
   "metadata": {},
   "outputs": [
    {
     "name": "stdout",
     "output_type": "stream",
     "text": [
      "Sum of first 10 numbers is 55\n"
     ]
    }
   ],
   "source": [
    "n,num,addition = 10,1,0\n",
    "\n",
    "while num <= n:  # 1 <= 10 >> True\n",
    "    addition +=  num  # addition = 1\n",
    "    num += 1\n",
    "print(f\"Sum of first {n} numbers is {addition}\")"
   ]
  },
  {
   "cell_type": "markdown",
   "id": "infrared-investigation",
   "metadata": {},
   "source": [
    "# Loop Control statements"
   ]
  },
  {
   "cell_type": "markdown",
   "id": "portuguese-configuration",
   "metadata": {},
   "source": [
    "## 1. break"
   ]
  },
  {
   "cell_type": "code",
   "execution_count": 18,
   "id": "exempt-network",
   "metadata": {},
   "outputs": [
    {
     "name": "stdout",
     "output_type": "stream",
     "text": [
      "Addition is greater than 10 5\n",
      "Sum of first 10 numbers is 15\n"
     ]
    }
   ],
   "source": [
    "n,num,addition = 10,1,0\n",
    "\n",
    "while num <= n:  # 1 <= 10 >> True\n",
    "    addition +=  num  # addition = 1\n",
    "    if addition > 10:\n",
    "        print('Addition is greater than 10',num)\n",
    "        break\n",
    "    num += 1\n",
    "    \n",
    "    \n",
    "print(f\"Sum of first {n} numbers is {addition}\")"
   ]
  },
  {
   "cell_type": "code",
   "execution_count": 22,
   "id": "coordinate-sarah",
   "metadata": {},
   "outputs": [
    {
     "name": "stdout",
     "output_type": "stream",
     "text": [
      "i == 1\n",
      "i == 2\n",
      "i == 3\n",
      "i == 4\n",
      "i == 5\n",
      "Value of i is 6\n",
      "i == 6\n",
      "i == 7\n",
      "i == 8\n",
      "i == 9\n",
      "i == 10\n"
     ]
    }
   ],
   "source": [
    "i = 1\n",
    "while i <= 10:\n",
    "    print(f'i == {i}')\n",
    "    i += 1\n",
    "    if i == 6:\n",
    "        print('Value of i is 6')\n"
   ]
  },
  {
   "cell_type": "code",
   "execution_count": 24,
   "id": "killing-poker",
   "metadata": {},
   "outputs": [
    {
     "name": "stdout",
     "output_type": "stream",
     "text": [
      "i == 1\n",
      "i == 2\n",
      "i == 3\n",
      "i == 4\n",
      "i == 5\n",
      "Value of i is 6\n"
     ]
    }
   ],
   "source": [
    "i = 1\n",
    "while i <= 10:\n",
    "    print(f'i == {i}')\n",
    "    i += 1\n",
    "    if i == 6:\n",
    "        print('Value of i is 6')\n",
    "        break # To exit the loop\n"
   ]
  },
  {
   "cell_type": "code",
   "execution_count": 27,
   "id": "second-vienna",
   "metadata": {},
   "outputs": [
    {
     "name": "stdout",
     "output_type": "stream",
     "text": [
      "i == 1\n",
      "python\n",
      "i == 2\n",
      "python\n",
      "i == 3\n",
      "python\n",
      "i == 4\n",
      "python\n",
      "i == 5\n",
      "Value of i is 6\n",
      "i == 6\n",
      "python\n",
      "i == 7\n",
      "python\n",
      "i == 8\n",
      "python\n",
      "i == 9\n",
      "python\n",
      "i == 10\n",
      "python\n"
     ]
    }
   ],
   "source": [
    "i = 1\n",
    "while i <= 10:\n",
    "    print(f'i == {i}') # i = 5\n",
    "    i += 1  # i = 6\n",
    "    if i == 6: # true\n",
    "        print('Value of i is 6')\n",
    "        continue # To stop current iterations\n",
    "        \n",
    "    print(\"python\")\n"
   ]
  },
  {
   "cell_type": "code",
   "execution_count": 29,
   "id": "double-thirty",
   "metadata": {},
   "outputs": [
    {
     "name": "stdout",
     "output_type": "stream",
     "text": [
      "i == 1\n",
      "python\n",
      "i == 2\n",
      "python\n",
      "i == 3\n",
      "python\n",
      "i == 4\n",
      "python\n",
      "i == 5\n",
      "Value of i is 6\n",
      "python\n",
      "i == 6\n",
      "python\n",
      "i == 7\n",
      "python\n",
      "i == 8\n",
      "python\n",
      "i == 9\n",
      "python\n",
      "i == 10\n",
      "python\n"
     ]
    }
   ],
   "source": [
    "i = 1\n",
    "while i <= 10:\n",
    "    print(f'i == {i}') # i = 5\n",
    "    i += 1  # i = 6\n",
    "    if i == 6: # true\n",
    "        print('Value of i is 6')\n",
    "        pass # To avoid an errors\n",
    "        \n",
    "    print(\"python\")\n"
   ]
  },
  {
   "cell_type": "code",
   "execution_count": 33,
   "id": "secure-award",
   "metadata": {},
   "outputs": [
    {
     "name": "stdout",
     "output_type": "stream",
     "text": [
      "i == 1\n",
      "python\n",
      "i == 2\n",
      "python\n",
      "i == 3\n",
      "python\n",
      "i == 4\n",
      "python\n",
      "i == 5\n",
      "Value of i is 6\n",
      "python\n",
      "i == 6\n",
      "python\n",
      "i == 7\n",
      "python\n",
      "i == 8\n",
      "python\n",
      "i == 9\n",
      "python\n",
      "i == 10\n",
      "python\n"
     ]
    }
   ],
   "source": [
    "i = 1\n",
    "while i <= 10:\n",
    "    print(f'i == {i}') # i = 5\n",
    "    i += 1  # i = 6\n",
    "    if i == 6: # true\n",
    "        print('Value of i is 6')\n",
    "        pass # To avoid an errors\n",
    "        \n",
    "    print(\"python\")\n"
   ]
  },
  {
   "cell_type": "markdown",
   "id": "restricted-horror",
   "metadata": {},
   "source": [
    "# While-else"
   ]
  },
  {
   "cell_type": "code",
   "execution_count": 36,
   "id": "atmospheric-johnson",
   "metadata": {},
   "outputs": [
    {
     "name": "stdout",
     "output_type": "stream",
     "text": [
      "1\n",
      "2\n",
      "3\n",
      "4\n",
      "5\n",
      "6\n",
      "7\n",
      "8\n",
      "9\n",
      "Loop is completed\n"
     ]
    }
   ],
   "source": [
    "i = 1\n",
    "while i < 10:\n",
    "    print(i)\n",
    "    i += 1\n",
    "    \n",
    "else:\n",
    "    print(\"Loop is completed\")"
   ]
  },
  {
   "cell_type": "code",
   "execution_count": 38,
   "id": "blessed-recognition",
   "metadata": {},
   "outputs": [
    {
     "name": "stdout",
     "output_type": "stream",
     "text": [
      "1\n",
      "2\n",
      "3\n",
      "4\n"
     ]
    }
   ],
   "source": [
    "i = 1\n",
    "while i < 10:\n",
    "    print(i)\n",
    "    i += 1\n",
    "    if i == 5:\n",
    "        break\n",
    "    \n",
    "else:\n",
    "    print(\"Loop is completed\")"
   ]
  },
  {
   "cell_type": "code",
   "execution_count": 42,
   "id": "naked-borough",
   "metadata": {},
   "outputs": [
    {
     "name": "stdout",
     "output_type": "stream",
     "text": [
      "1\n",
      "3\n",
      "5\n",
      "7\n",
      "9\n",
      "Loop is completed\n"
     ]
    }
   ],
   "source": [
    "i = 1\n",
    "while i < 10: # i = 11 >> False\n",
    "    print(i) \n",
    "    i += 2 \n",
    "    \n",
    "else:\n",
    "    print(\"Loop is completed\")"
   ]
  },
  {
   "cell_type": "code",
   "execution_count": 46,
   "id": "sublime-greece",
   "metadata": {},
   "outputs": [
    {
     "name": "stdout",
     "output_type": "stream",
     "text": [
      "1\n",
      "3\n",
      "++++++++++\n",
      "Finished\n"
     ]
    }
   ],
   "source": [
    "i = 1\n",
    "while i < 10: # i = 11 >> True\n",
    "    print(i) \n",
    "    i += 2  # i = 5\n",
    "    if i == 5: # True\n",
    "        print(\"++++++++++\")\n",
    "        break # It will exit the loop\n",
    "   \n",
    "else:\n",
    "    print(\"Loop is completed\")\n",
    "    \n",
    "print(\"Finished\")"
   ]
  },
  {
   "cell_type": "markdown",
   "id": "oriented-aviation",
   "metadata": {},
   "source": [
    "# Access Values from sequences"
   ]
  },
  {
   "cell_type": "code",
   "execution_count": 49,
   "id": "comparative-chosen",
   "metadata": {},
   "outputs": [
    {
     "name": "stdout",
     "output_type": "stream",
     "text": [
      "Char is : P\n",
      "Char is : y\n",
      "Char is : t\n",
      "Char is : h\n",
      "Char is : o\n",
      "Char is : n\n"
     ]
    }
   ],
   "source": [
    "string = 'Python'\n",
    "i = 0\n",
    "while i < len(string) :\n",
    "    print(\"Char is :\",string[i])\n",
    "    i += 1"
   ]
  },
  {
   "cell_type": "code",
   "execution_count": 51,
   "id": "acting-feeding",
   "metadata": {},
   "outputs": [
    {
     "name": "stdout",
     "output_type": "stream",
     "text": [
      "Char at index 0 is  P\n",
      "Char at index 1 is  y\n",
      "Char at index 2 is  t\n",
      "Char at index 3 is  h\n",
      "Char at index 4 is  o\n",
      "Char at index 5 is  n\n"
     ]
    }
   ],
   "source": [
    "string = 'Python'\n",
    "i = 0\n",
    "while i < len(string) :\n",
    "    print(f\"Char at index {i} is \",string[i])\n",
    "    i += 1"
   ]
  },
  {
   "cell_type": "code",
   "execution_count": 53,
   "id": "returning-silence",
   "metadata": {},
   "outputs": [
    {
     "name": "stdout",
     "output_type": "stream",
     "text": [
      "Char at index 0 is  P\n",
      "Char at index 2 is  t\n",
      "Char at index 4 is  o\n"
     ]
    }
   ],
   "source": [
    "string = 'Python'\n",
    "i = 0\n",
    "while i < len(string) :\n",
    "    print(f\"Char at index {i} is \",string[i])\n",
    "    i += 2"
   ]
  },
  {
   "cell_type": "code",
   "execution_count": 56,
   "id": "passive-shift",
   "metadata": {},
   "outputs": [
    {
     "name": "stdout",
     "output_type": "stream",
     "text": [
      "Value at index 0 is  10\n",
      "Value at index 1 is  20\n",
      "Value at index 2 is  30\n",
      "Value at index 3 is  a\n",
      "Value at index 4 is  b\n",
      "Value at index 5 is  100\n"
     ]
    }
   ],
   "source": [
    "list1 = [10,20,30,'a','b',100]\n",
    "i = 0\n",
    "while i < len(list1) :\n",
    "    print(f\"Value at index {i} is \",list1[i])\n",
    "    i += 1"
   ]
  },
  {
   "cell_type": "code",
   "execution_count": 59,
   "id": "explicit-positive",
   "metadata": {},
   "outputs": [
    {
     "name": "stdout",
     "output_type": "stream",
     "text": [
      "Value at index 0 is  10\n",
      "Value at index 1 is  20\n",
      "Value at index 2 is  3\n",
      "Value at index 3 is  5\n",
      "Value at index 4 is  30\n",
      "Value at index 5 is  100\n",
      "Value at index 6 is  123\n",
      "Even Number list  [10, 20, 30, 100]\n",
      "Odd Number list  [3, 5, 123]\n"
     ]
    }
   ],
   "source": [
    "list1 = [10,20,3,5,30,100,123]\n",
    "i = 0\n",
    "even_list,odd_list = [],[]\n",
    "\n",
    "while i < len(list1) :\n",
    "    print(f\"Value at index {i} is \",list1[i])\n",
    "    if list1[i] % 2 == 0:\n",
    "        even_list.append(list1[i])\n",
    "        \n",
    "    else:\n",
    "        odd_list.append(list1[i])\n",
    "        \n",
    "    i += 1\n",
    "        \n",
    "print(\"Even Number list \",even_list)\n",
    "print(\"Odd Number list \",odd_list)"
   ]
  },
  {
   "cell_type": "markdown",
   "id": "adequate-moses",
   "metadata": {},
   "source": [
    "# Factorial "
   ]
  },
  {
   "cell_type": "code",
   "execution_count": 64,
   "id": "common-fundamentals",
   "metadata": {},
   "outputs": [
    {
     "name": "stdout",
     "output_type": "stream",
     "text": [
      "Factorial of 5 is 120\n"
     ]
    }
   ],
   "source": [
    "n = 5\n",
    "fact = 1\n",
    "i = n  # i = 5\n",
    "while i >= 1: # 0 >= 1 >> False\n",
    "    fact = fact * i # fact = 20 * 3 * 2 * 1\n",
    "    i -= 1  # i = 1-1 = 0\n",
    "    \n",
    "print(f\"Factorial of {n} is {fact}\")"
   ]
  },
  {
   "cell_type": "raw",
   "id": "prospective-buffalo",
   "metadata": {},
   "source": [
    "15 * 1 = 15\n",
    "15 * 2 = 30\n",
    ".\n",
    ".\n",
    "15 * 10 = 150"
   ]
  },
  {
   "cell_type": "code",
   "execution_count": 68,
   "id": "peaceful-czech",
   "metadata": {},
   "outputs": [
    {
     "name": "stdout",
     "output_type": "stream",
     "text": [
      "15 * 1 = 15 \n",
      "15 * 2 = 30 \n",
      "15 * 3 = 45 \n",
      "15 * 4 = 60 \n",
      "15 * 5 = 75 \n",
      "15 * 6 = 90 \n",
      "15 * 7 = 105 \n",
      "15 * 8 = 120 \n",
      "15 * 9 = 135 \n",
      "15 * 10 = 150 \n"
     ]
    }
   ],
   "source": [
    "n = 15\n",
    "i = 1\n",
    "while i <= 10:\n",
    "    print(f\"{n} * {i} = {n*i} \")\n",
    "    i += 1"
   ]
  },
  {
   "cell_type": "code",
   "execution_count": null,
   "id": "immediate-salon",
   "metadata": {},
   "outputs": [],
   "source": []
  }
 ],
 "metadata": {
  "kernelspec": {
   "display_name": "Python 3",
   "language": "python",
   "name": "python3"
  },
  "language_info": {
   "codemirror_mode": {
    "name": "ipython",
    "version": 3
   },
   "file_extension": ".py",
   "mimetype": "text/x-python",
   "name": "python",
   "nbconvert_exporter": "python",
   "pygments_lexer": "ipython3",
   "version": "3.8.7"
  }
 },
 "nbformat": 4,
 "nbformat_minor": 5
}
