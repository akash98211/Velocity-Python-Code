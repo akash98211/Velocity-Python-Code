{
 "cells": [
  {
   "cell_type": "code",
   "execution_count": null,
   "id": "demanding-railway",
   "metadata": {},
   "outputs": [],
   "source": [
    "Python supports object oriented programming Language"
   ]
  },
  {
   "cell_type": "code",
   "execution_count": null,
   "id": "surprised-printing",
   "metadata": {},
   "outputs": [],
   "source": [
    "Object >> Real world entities(Table,Laptop,Notebook, Mobile, House, etc)\n",
    "Everything in python is an object\n",
    "str, list,tuple,\n",
    "'Python', [12,3], (5,6,7)\n",
    "\n",
    "\n",
    "Class >> Blueprint of an object that defines variables and methods(function)\n",
    "\n",
    "Class is a collection of an objects"
   ]
  },
  {
   "cell_type": "code",
   "execution_count": null,
   "id": "republican-furniture",
   "metadata": {},
   "outputs": [],
   "source": [
    "Sketch >> Class\n",
    "\n",
    "House1 >> Object\n",
    "House2 >> Object"
   ]
  },
  {
   "cell_type": "code",
   "execution_count": null,
   "id": "false-relay",
   "metadata": {},
   "outputs": [],
   "source": [
    "Mobile >> \n",
    "Price\n",
    "Color\n",
    "RAM\n",
    "Memory\n",
    "\n",
    "oneplus >> Object\n",
    "iphone >> Object"
   ]
  },
  {
   "cell_type": "code",
   "execution_count": 3,
   "id": "bright-perfume",
   "metadata": {
    "scrolled": true
   },
   "outputs": [
    {
     "name": "stdout",
     "output_type": "stream",
     "text": [
      "Hello we are testing Class\n"
     ]
    }
   ],
   "source": [
    "class ClassName():\n",
    "    print(\"Hello we are testing Class\")\n",
    "\n",
    "    "
   ]
  },
  {
   "cell_type": "code",
   "execution_count": 7,
   "id": "careful-palestinian",
   "metadata": {},
   "outputs": [
    {
     "name": "stdout",
     "output_type": "stream",
     "text": [
      "100\n",
      "Value of x is  100\n"
     ]
    }
   ],
   "source": [
    "x = 100  # global variable\n",
    "print(x)\n",
    "\n",
    "def my_fun():\n",
    "    print(\"Value of x is \",x)\n",
    "    \n",
    "my_fun()"
   ]
  },
  {
   "cell_type": "code",
   "execution_count": 14,
   "id": "distinguished-xerox",
   "metadata": {},
   "outputs": [
    {
     "name": "stdout",
     "output_type": "stream",
     "text": [
      "100\n",
      "Value of x is  100\n",
      "Value of y is  200\n"
     ]
    }
   ],
   "source": [
    "x = 100  # global variable\n",
    "print(x)\n",
    "\n",
    "def my_fun():\n",
    "    y = 200 # Local Variable\n",
    "    print(\"Value of x is \",x)\n",
    "\n",
    "    print(\"Value of y is \",y) \n",
    "    \n",
    "my_fun()"
   ]
  },
  {
   "cell_type": "code",
   "execution_count": 15,
   "id": "assigned-ethnic",
   "metadata": {},
   "outputs": [
    {
     "name": "stdout",
     "output_type": "stream",
     "text": [
      "Hello we are testing Class\n"
     ]
    }
   ],
   "source": [
    "x = 100  # Global Variable\n",
    "class ClassName():\n",
    "    a = 200 # CLass Variable\n",
    "    print(\"Hello we are testing Class\")\n",
    "    \n",
    "    "
   ]
  },
  {
   "cell_type": "code",
   "execution_count": 20,
   "id": "improving-bathroom",
   "metadata": {},
   "outputs": [
    {
     "name": "stdout",
     "output_type": "stream",
     "text": [
      "Price of mobile is 30000\n",
      "Color Function\n"
     ]
    }
   ],
   "source": [
    "class Mobile():  # Class Name\n",
    "    x = 'Python'   # Class Variable\n",
    "    \n",
    "    def price(self):  # Methods / Functions\n",
    "        p = 30000\n",
    "        print(\"Price of mobile is\",p)\n",
    "        \n",
    "    def color(self):  # Method\n",
    "        print('Color Function')\n",
    "        \n",
    "# Creating object of class \n",
    "ObjectName = Mobile()\n",
    "ObjectName.price()\n",
    "\n",
    "ObjectName.color()"
   ]
  },
  {
   "cell_type": "code",
   "execution_count": null,
   "id": "public-annual",
   "metadata": {},
   "outputs": [],
   "source": [
    "project:\n",
    "   \n",
    "class PreprocessingData():\n",
    "    def scaling():\n",
    "        self.x = 200 # instance variable\n",
    "        return x\n",
    "    \n",
    "    def remove_outliers():\n",
    "        print(self.x)\n",
    "        pass\n",
    "\n",
    "class ModeBuilding():\n",
    "    def logistic_regression():\n",
    "        pass\n",
    "    \n",
    "    def KNN():\n",
    "        pass\n",
    "    \n",
    "    def decision_tree():\n",
    "        pass\n",
    "\n",
    "class ModelEvaulation():\n",
    "    def classification_report():\n",
    "        pass\n",
    "    \n",
    "    def confusion_matrix():\n",
    "        pass\n",
    "    \n",
    "    def accuracy_score():\n",
    "        pass\n",
    "\n",
    "\n",
    "1000\n",
    "\n",
    "300\n",
    "300\n",
    "400"
   ]
  },
  {
   "cell_type": "code",
   "execution_count": null,
   "id": "serious-airline",
   "metadata": {},
   "outputs": [],
   "source": [
    "Four Fundamental concept in Object oriented Programming:\n",
    "    1. Inheritance\n",
    "    2. Encapsulation\n",
    "    3. Polymorphism\n",
    "    4. Abstraction"
   ]
  },
  {
   "cell_type": "code",
   "execution_count": 42,
   "id": "optional-focus",
   "metadata": {},
   "outputs": [
    {
     "name": "stdout",
     "output_type": "stream",
     "text": [
      "We are in Init Function\n",
      "10 DATA\n",
      "We are in method 1\n",
      "Value is : 500\n",
      "argument1 10\n",
      "instacne_variable1 This is instance Var1\n",
      "we are in method 2\n",
      "class_variable1 100\n",
      "1000\n",
      "instance_variable3 300\n"
     ]
    }
   ],
   "source": [
    "global_var = 'Python'\n",
    "\n",
    "class ClassName():   # Class Name\n",
    "    \n",
    "    class_variable1 = 100  # Class Variables \n",
    "    class_variable2 = 200  # Class Variables \n",
    "\n",
    "    def __init__(self,arg1,arg2):  # It execute automatically when we create an object\n",
    "        # Constructor\n",
    "        print(\"We are in Init Function\")\n",
    "        print(arg1, arg2)\n",
    "        self.argument1 = arg1      # Instance variable\n",
    "        self.arg2 = arg2\n",
    "        \n",
    "        self.instacne_variable1 = 'This is instance Var1'\n",
    "        self.instance_variable2 = \"this is instance var2\"\n",
    "        self.a = 1000                  # Local Variable\n",
    "        \n",
    "    def my_method1(self,value):\n",
    "        print(\"We are in method 1\")\n",
    "        print(\"Value is :\",value)\n",
    "        self.instance_variable3 = '300'\n",
    "        print('argument1',self.argument1)\n",
    "        print('instacne_variable1',self.instacne_variable1)\n",
    "\n",
    "    def my_method2(self):\n",
    "        print(\"we are in method 2\")\n",
    "        print('class_variable1',self.class_variable1)\n",
    "        print(self.a)\n",
    "        print(\"instance_variable3\",self.instance_variable3)\n",
    "        \n",
    "        \n",
    "Obj = ClassName(10,\"DATA\")\n",
    "Obj.my_method1(500)\n",
    "Obj.my_method2()"
   ]
  },
  {
   "cell_type": "code",
   "execution_count": 43,
   "id": "attractive-christianity",
   "metadata": {},
   "outputs": [],
   "source": [
    "global_var = 'Python'\n",
    "\n",
    "class ClassName():   # Class Name\n",
    "    \n",
    "    class_variable1 = 100  # Class Variables \n",
    "    class_variable2 = 200  # Class Variables \n",
    "\n",
    "\n",
    "    def my_method1(self,value):\n",
    "        print(\"We are in method 1\")\n",
    "        print(\"Value is :\",value)\n",
    "        self.instance_variable3 = '300'\n",
    "        print('argument1',self.argument1)\n",
    "        print('instacne_variable1',self.instacne_variable1)\n",
    "\n",
    "    def my_method2(self):\n",
    "        print(\"we are in method 2\")\n",
    "        print('class_variable1',self.class_variable1)\n",
    "        print(self.a)\n",
    "        print(\"instance_variable3\",self.instance_variable3)\n",
    "        \n",
    "        \n",
    "Obj = ClassName(10,30)\n",
    "# Obj.my_method1(500)\n",
    "# Obj.my_method2()"
   ]
  },
  {
   "cell_type": "code",
   "execution_count": null,
   "id": "patent-headquarters",
   "metadata": {},
   "outputs": [],
   "source": [
    "__init__:\n",
    "    1. It execute automatically when we create an object\n",
    "    \n",
    "self:\n",
    "    Used to access the variables and methods inside the class\n",
    "    \n",
    "    It will differentiate between instance and local\n",
    "    \n",
    "    attribute >> methods / variables"
   ]
  }
 ],
 "metadata": {
  "kernelspec": {
   "display_name": "Python 3 (ipykernel)",
   "language": "python",
   "name": "python3"
  },
  "language_info": {
   "codemirror_mode": {
    "name": "ipython",
    "version": 3
   },
   "file_extension": ".py",
   "mimetype": "text/x-python",
   "name": "python",
   "nbconvert_exporter": "python",
   "pygments_lexer": "ipython3",
   "version": "3.9.1"
  }
 },
 "nbformat": 4,
 "nbformat_minor": 5
}
