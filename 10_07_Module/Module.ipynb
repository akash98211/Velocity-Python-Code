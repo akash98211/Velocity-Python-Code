{
 "cells": [
  {
   "cell_type": "markdown",
   "metadata": {
    "id": "unknown-district"
   },
   "source": [
    "# Module"
   ]
  },
  {
   "cell_type": "raw",
   "metadata": {
    "id": "nasty-partnership"
   },
   "source": [
    "python file with extension .py\n",
    "\n",
    "\n",
    "1000 line code\n",
    "\n",
    "300 300 400\n",
    "\n",
    "file1.py >> 300\n",
    "\n",
    "file2.py >> 300\n",
    "\n",
    "file3.py >> 400 \n",
    "\n",
    "main_file.py >> 30-40 \n",
    "\n",
    "file4.py "
   ]
  },
  {
   "cell_type": "code",
   "execution_count": null,
   "metadata": {
    "id": "incident-sydney"
   },
   "outputs": [],
   "source": [
    "Module contains:\n",
    "    1. variables\n",
    "    2. Functions\n",
    "    3. Classes"
   ]
  },
  {
   "cell_type": "code",
   "execution_count": null,
   "metadata": {
    "id": "naked-commitment",
    "outputId": "c03544de-d6d4-447f-b339-5757560f856e"
   },
   "outputs": [
    {
     "name": "stdout",
     "output_type": "stream",
     "text": [
      "Hello\n",
      "We are testing Modules\n"
     ]
    },
    {
     "data": {
      "text/plain": [
       "30"
      ]
     },
     "execution_count": 3,
     "metadata": {},
     "output_type": "execute_result"
    }
   ],
   "source": [
    "print('Hello')\n",
    "\n",
    "print('We are testing Modules')\n",
    "a = 10\n",
    "b = 20\n",
    "a + b"
   ]
  },
  {
   "cell_type": "markdown",
   "metadata": {
    "id": "valued-zimbabwe"
   },
   "source": [
    "# import "
   ]
  },
  {
   "cell_type": "code",
   "execution_count": null,
   "metadata": {
    "id": "threaded-guest"
   },
   "outputs": [],
   "source": [
    "import python_file_name\n",
    "import module\n",
    "\n",
    "Variables\n",
    "Functions\n",
    "Classes"
   ]
  },
  {
   "cell_type": "markdown",
   "metadata": {
    "id": "optical-notebook"
   },
   "source": [
    "# from "
   ]
  },
  {
   "cell_type": "code",
   "execution_count": null,
   "metadata": {
    "id": "chief-recall"
   },
   "outputs": [],
   "source": [
    "from module_name import variable_name\n",
    "from module_name import function_name\n",
    "from module_name import class_name"
   ]
  },
  {
   "cell_type": "raw",
   "metadata": {
    "id": "discrete-sitting"
   },
   "source": [
    "# __name__"
   ]
  },
  {
   "cell_type": "code",
   "execution_count": null,
   "metadata": {
    "id": "specified-monitor"
   },
   "outputs": [],
   "source": [
    "special variable in python\n",
    "\n",
    "__name__ == __main__ >> if we are executing same python file\n",
    "__name__ == file_name >> if we are calling file from another python file\n"
   ]
  },
  {
   "cell_type": "code",
   "execution_count": null,
   "metadata": {
    "id": "portuguese-uncertainty",
    "outputId": "50ed412d-8516-4d4b-aa15-3ca47d7f69fd"
   },
   "outputs": [
    {
     "data": {
      "text/plain": [
       "'__main__'"
      ]
     },
     "execution_count": 5,
     "metadata": {},
     "output_type": "execute_result"
    }
   ],
   "source": [
    "__name__"
   ]
  },
  {
   "cell_type": "markdown",
   "metadata": {
    "id": "atlantic-dollar"
   },
   "source": [
    "# Rename Module Name"
   ]
  },
  {
   "cell_type": "raw",
   "metadata": {
    "id": "based-delicious"
   },
   "source": [
    "rename module name by using \"as\" keyword"
   ]
  },
  {
   "cell_type": "code",
   "execution_count": null,
   "metadata": {
    "id": "visible-estimate"
   },
   "outputs": [],
   "source": [
    "import calculation as cal\n",
    "\n",
    "import variable_type.amount_variables as amt_var\n",
    "\n",
    "from calculation import multiplication as mul\n"
   ]
  },
  {
   "cell_type": "code",
   "execution_count": null,
   "metadata": {
    "id": "binding-roman"
   },
   "outputs": [],
   "source": []
  },
  {
   "cell_type": "code",
   "execution_count": null,
   "metadata": {
    "id": "prescription-jersey",
    "outputId": "10fda966-af88-4026-96bd-869bf0e36c5a"
   },
   "outputs": [
    {
     "name": "stdout",
     "output_type": "stream",
     "text": [
      "Hello\n",
      "We are testing Calculation Module\n",
      "Value in __name__ variable is >>>  __main__\n",
      "Addition of 10 and 30 is 40\n",
      "Multiplication of 2 and 5 is 10\n",
      "Division of 10 and 2 is 5.0\n"
     ]
    }
   ],
   "source": [
    "print('Hello')\n",
    "print('We are testing Calculation Module')\n",
    "print('Value in __name__ variable is >>> ',__name__)  # __main__\n",
    "\n",
    "def addition(a,b):\n",
    "    c = a + b\n",
    "    print(f'Addition of {a} and {b} is {c}')\n",
    "    return c\n",
    "\n",
    "def multiplication(a,b):\n",
    "    mul = a * b\n",
    "    print(f'Multiplication of {a} and {b} is {mul}')\n",
    "    return mul\n",
    "\n",
    "def division(a,b):\n",
    "    div = a /b\n",
    "    print(f'Division of {a} and {b} is {div}')\n",
    "    return div\n",
    "\n",
    "if __name__ == \"__main__\":   #  '__main__' == \"__main__\" # True\n",
    "    addition(10,30)\n",
    "    multiplication(2,5)\n",
    "    division(10,2)\n"
   ]
  },
  {
   "cell_type": "code",
   "execution_count": null,
   "metadata": {
    "id": "pregnant-cabin"
   },
   "outputs": [],
   "source": [
    "import re\n",
    "import os\n",
    "import sklearn\n",
    "import pandas"
   ]
  },
  {
   "cell_type": "code",
   "execution_count": null,
   "metadata": {
    "id": "comfortable-gossip"
   },
   "outputs": [],
   "source": [
    "from re import findall,sub"
   ]
  },
  {
   "cell_type": "code",
   "execution_count": null,
   "metadata": {
    "id": "apparent-winning"
   },
   "outputs": [],
   "source": [
    "import re\n",
    "re.findall()\n",
    "re.sub()\n",
    "re.match()"
   ]
  }
 ],
 "metadata": {
  "colab": {
   "name": "Module.ipynb",
   "provenance": [
    {
     "file_id": "1sMUYcoZ5Lnq6jK7SJK-RUY9XgTZwQ9e1",
     "timestamp": 1633638412840
    }
   ]
  },
  "kernelspec": {
   "display_name": "Python 3",
   "language": "python",
   "name": "python3"
  },
  "language_info": {
   "codemirror_mode": {
    "name": "ipython",
    "version": 3
   },
   "file_extension": ".py",
   "mimetype": "text/x-python",
   "name": "python",
   "nbconvert_exporter": "python",
   "pygments_lexer": "ipython3",
   "version": "3.7.3"
  }
 },
 "nbformat": 4,
 "nbformat_minor": 5
}
