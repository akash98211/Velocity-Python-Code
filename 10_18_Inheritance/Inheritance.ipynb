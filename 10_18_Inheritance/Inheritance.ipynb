{
 "cells": [
  {
   "cell_type": "markdown",
   "id": "marine-justice",
   "metadata": {},
   "source": [
    "# Inheritance"
   ]
  },
  {
   "cell_type": "code",
   "execution_count": 6,
   "id": "beginning-wilderness",
   "metadata": {},
   "outputs": [
    {
     "name": "stdout",
     "output_type": "stream",
     "text": [
      "Hello Python\n"
     ]
    }
   ],
   "source": [
    "class ClassName:\n",
    "    def methods(self,name):\n",
    "        print(f\"Hello {name}\")\n",
    "        \n",
    "Obj = ClassName()  # Creating an instance/object of class\n",
    "Obj.methods('Python')\n"
   ]
  },
  {
   "cell_type": "code",
   "execution_count": 8,
   "id": "alike-insulation",
   "metadata": {},
   "outputs": [
    {
     "name": "stdout",
     "output_type": "stream",
     "text": [
      "Hello Python\n"
     ]
    }
   ],
   "source": [
    "class ClassName:\n",
    "    def methods(self,name):\n",
    "        print(f\"Hello {name}\")\n",
    "        \n",
    "Obj = ClassName()  # Creating an instance/object of class\n",
    "Obj.methods('Python')  \n"
   ]
  },
  {
   "cell_type": "code",
   "execution_count": 10,
   "id": "funny-particle",
   "metadata": {},
   "outputs": [
    {
     "name": "stdout",
     "output_type": "stream",
     "text": [
      "Student Roll Number is  34\n"
     ]
    }
   ],
   "source": [
    "class Student():\n",
    "    def __init__(self,rollno):\n",
    "        self.roll_number = rollno\n",
    "        \n",
    "    def student_roll_num(self):\n",
    "        print(\"Student Roll Number is \",self.roll_number)\n",
    "          \n",
    "studObj = Student(34)\n",
    "studObj.student_roll_num()\n"
   ]
  },
  {
   "cell_type": "code",
   "execution_count": 16,
   "id": "public-palmer",
   "metadata": {},
   "outputs": [
    {
     "name": "stdout",
     "output_type": "stream",
     "text": [
      "Student Roll Number is  40\n",
      "Student Roll Number is  40\n",
      "college name is  COEP\n"
     ]
    }
   ],
   "source": [
    "        \n",
    "class College:\n",
    "    def __init__(self,clg_name):\n",
    "        self.clg_name = clg_name\n",
    "        \n",
    "    def student_roll_num(self):\n",
    "        self.roll_number = 40\n",
    "        print(\"Student Roll Number is \",self.roll_number)\n",
    "        \n",
    "    def college_name(self):\n",
    "        print('Student Roll Number is ',self.roll_number)\n",
    "        print(\"college name is \",self.clg_name)\n",
    "        \n",
    "clgObj = College('COEP')\n",
    "clgObj.student_roll_num()\n",
    "clgObj.college_name()"
   ]
  },
  {
   "cell_type": "markdown",
   "id": "polish-header",
   "metadata": {},
   "source": [
    "# Inheritance "
   ]
  },
  {
   "cell_type": "code",
   "execution_count": null,
   "id": "failing-latin",
   "metadata": {},
   "outputs": [],
   "source": [
    "It allows a class to inherit the propeerties(variables/methodsf) from other class\n",
    "\n",
    "It helps us to reuse the code\n",
    "\n",
    "Create an object of child class only\n",
    "\n",
    "Base Class / Parent Class / Super Class\n",
    "\n",
    "Derived Class / Child Class / Sub Class"
   ]
  },
  {
   "cell_type": "code",
   "execution_count": 17,
   "id": "proprietary-circus",
   "metadata": {},
   "outputs": [
    {
     "name": "stdout",
     "output_type": "stream",
     "text": [
      "This is Parent Class\n",
      "This is Child Class\n"
     ]
    }
   ],
   "source": [
    "class Parent():  # Base Class\n",
    "    print(\"This is Parent Class\")\n",
    "\n",
    "class Child():  # Base Class\n",
    "    print(\"This is Child Class\")\n"
   ]
  },
  {
   "cell_type": "code",
   "execution_count": 22,
   "id": "broke-violence",
   "metadata": {},
   "outputs": [
    {
     "name": "stdout",
     "output_type": "stream",
     "text": [
      "This is Parent Class\n",
      "This is Child Class\n",
      "This is init function\n"
     ]
    }
   ],
   "source": [
    "class Parent():  # Base Class / Parent class\n",
    "    print(\"This is Parent Class\")\n",
    "    \n",
    "    def __init__(self,name):\n",
    "        print(\"This is init function\")\n",
    "    \n",
    "    def Name(self):\n",
    "        print(\"Hello\")\n",
    "\n",
    "class Child(Parent):  # Child Class / Derived class\n",
    "    print(\"This is Child Class\")\n",
    "\n",
    "p1 = Parent('Python') # Creating an object / calling init function"
   ]
  },
  {
   "cell_type": "code",
   "execution_count": 23,
   "id": "dental-hudson",
   "metadata": {},
   "outputs": [],
   "source": [
    "class Parent():\n",
    "    pass\n",
    "\n",
    "class Child(Parent):\n",
    "    pass\n",
    "\n"
   ]
  },
  {
   "cell_type": "code",
   "execution_count": 39,
   "id": "cheap-acrobat",
   "metadata": {},
   "outputs": [
    {
     "name": "stdout",
     "output_type": "stream",
     "text": [
      "This is init Function of Child Class\n",
      "Student roll number is  1001\n",
      "Student Age is: 25\n",
      "Student roll number is  1001\n",
      "Student Name Function\n",
      "Location is : Pune\n"
     ]
    }
   ],
   "source": [
    "class Name():  # Parent Class\n",
    "    \n",
    "    def __init__(self, name):\n",
    "        self.name = name\n",
    "        print(\"This is init function of Name class\")\n",
    "\n",
    "    def StudentName(self):\n",
    "        self.location = 'Pune' # instance variables\n",
    "        print(\"Student Name Function\")\n",
    "        \n",
    "        \n",
    "class StudentInfo(Name): # Child class\n",
    "    \n",
    "    def __init__(self,name, roll_number, age, marks):\n",
    "        print('This is init Function of Child Class')\n",
    "        self.roll_number = roll_number\n",
    "        self.age = age\n",
    "\n",
    "    def student_roll_number(self):\n",
    "        print('Student roll number is ',self.roll_number)\n",
    "        return 'Success'\n",
    "    \n",
    "    def student_age(self):\n",
    "        print('Student Age is:',self.age)\n",
    "        self.student_roll_number()\n",
    "        self.StudentName()\n",
    "        print(\"Location is :\",self.location)\n",
    "        \n",
    "studObj = StudentInfo('Nitish',1001, 25,'96%')\n",
    "studObj.student_roll_number()\n",
    "studObj.student_age()  # StudentInfo class method\n",
    "# studObj.StudentName()  # Name Class methoid"
   ]
  },
  {
   "cell_type": "code",
   "execution_count": 41,
   "id": "entire-surveillance",
   "metadata": {},
   "outputs": [
    {
     "name": "stdout",
     "output_type": "stream",
     "text": [
      "This is init Function of Child Class\n",
      "Student roll number is  1001\n",
      "Student Name Function\n"
     ]
    }
   ],
   "source": [
    "class Name():  # Parent Class\n",
    "    \n",
    "    def __init__(self, name):\n",
    "        self.name = name\n",
    "        print(\"This is init function of Name class\")\n",
    "\n",
    "    def StudentName(self):\n",
    "        self.location = 'Pune' # instance variables\n",
    "        print(\"Student Name Function\")\n",
    "        \n",
    "        \n",
    "class StudentInfo(Name): # Child class\n",
    "    \n",
    "    def __init__(self,name, roll_number, age, marks):\n",
    "        print('This is init Function of Child Class')\n",
    "        self.roll_number = roll_number\n",
    "        self.age = age\n",
    "\n",
    "    def student_roll_number(self):\n",
    "        print('Student roll number is ',self.roll_number)\n",
    "        return 'Success'\n",
    "    \n",
    "    def student_age(self):\n",
    "        print('Student Age is:',self.age)\n",
    "        self.student_roll_number()  # method from child class\n",
    "        self.StudentName()  # Method from parent class\n",
    "        print(\"Location is :\",self.location)  # variable from parent class\n",
    "        \n",
    "studObj = StudentInfo('Nitish',1001, 25,'96%')\n",
    "studObj.student_roll_number()\n",
    "studObj.StudentName()  # Name Class methoid"
   ]
  },
  {
   "cell_type": "code",
   "execution_count": 48,
   "id": "southwest-laugh",
   "metadata": {},
   "outputs": [
    {
     "name": "stdout",
     "output_type": "stream",
     "text": [
      "This is init Function of Child Class\n",
      "This is init function of Parent Class\n",
      "Name is  Viraj\n"
     ]
    }
   ],
   "source": [
    "class Name():  # Parent Class\n",
    "    def __init__(self, name):\n",
    "        self.name = name\n",
    "        print(\"This is init function of Parent Class\")\n",
    "        \n",
    "    def name_function(self):\n",
    "        print('Name is ',self.name)\n",
    "        \n",
    "class StudentInfo(Name): # Child class\n",
    "    def __init__(self,NAME, roll_number, age, marks):\n",
    "        print('This is init Function of Child Class')\n",
    "        Name.__init__(self,NAME)   # Callig init function of Parent class\n",
    "        self.roll_number = roll_number\n",
    "        self.age = age\n",
    "        self.marks = marks\n",
    "\n",
    "    def student_roll_number(self):\n",
    "        pass\n",
    "    \n",
    "    def student_age(self):\n",
    "        pass\n",
    "    \n",
    "studObj = StudentInfo('Viraj',1002, 23, '97%')\n",
    "studObj.name_function()"
   ]
  },
  {
   "cell_type": "code",
   "execution_count": 51,
   "id": "understood-blowing",
   "metadata": {},
   "outputs": [
    {
     "name": "stdout",
     "output_type": "stream",
     "text": [
      "This is init Function of Child Class\n",
      "This is init function of Parent Class\n",
      "Name is  Viraj\n"
     ]
    }
   ],
   "source": [
    "class Name():  # Parent Class\n",
    "    def __init__(self, name):\n",
    "        self.name = name\n",
    "        print(\"This is init function of Parent Class\")\n",
    "        \n",
    "    def name_function(s):\n",
    "        print('Name is ',s.name)\n",
    "        \n",
    "class StudentInfo(Name): # Child class\n",
    "    def __init__(self,NAME, roll_number, age, marks):\n",
    "        print('This is init Function of Child Class')\n",
    "        super().__init__(NAME)   # Callig init function of Parent class\n",
    "        self.roll_number = roll_number\n",
    "        self.age = age\n",
    "        self.marks = marks\n",
    "\n",
    "    def student_roll_number(self):\n",
    "        pass\n",
    "    \n",
    "    def student_age(self):\n",
    "        pass\n",
    "    \n",
    "studObj = StudentInfo('Viraj',1002, 23, '97%')\n",
    "studObj.name_function()"
   ]
  },
  {
   "cell_type": "code",
   "execution_count": 58,
   "id": "ceramic-commodity",
   "metadata": {},
   "outputs": [
    {
     "name": "stdout",
     "output_type": "stream",
     "text": [
      "This is init Function of Child Class\n",
      "This is init function of Parent Class\n",
      "Student Roll Number is 50\n"
     ]
    }
   ],
   "source": [
    "class Name():  # Parent Class\n",
    "    def __init__(self, name):\n",
    "        self.name = name\n",
    "        print(\"This is init function of Parent Class\")\n",
    "        \n",
    "\n",
    "    def student_roll_number(self):\n",
    "        print(\"Student Roll Number is 45\")\n",
    "\n",
    "        \n",
    "class StudentInfo(Name): # Child class\n",
    "    def __init__(self,NAME, roll_number, age, marks):\n",
    "        print('This is init Function of Child Class')\n",
    "        super().__init__(NAME)   # Callig init function of Parent class\n",
    "        self.roll_number = roll_number\n",
    "        self.age = age\n",
    "        self.marks = marks\n",
    "\n",
    "    def student_roll_number(self):\n",
    "        print(\"Student Roll Number is 50\")\n",
    "    \n",
    "    def student_age(self):\n",
    "        pass\n",
    "    \n",
    "studObj = StudentInfo('Viraj',1002, 23, '97%')\n",
    "studObj.student_roll_number()\n"
   ]
  },
  {
   "cell_type": "code",
   "execution_count": 69,
   "id": "frozen-sphere",
   "metadata": {},
   "outputs": [
    {
     "name": "stdout",
     "output_type": "stream",
     "text": [
      "Child Class\n",
      "Parent Class\n"
     ]
    }
   ],
   "source": [
    "class Parent():\n",
    "    def __init__(self):\n",
    "        print(\"Parent Class\")\n",
    "        \n",
    "class Child(Parent):\n",
    "    def __init__(self):\n",
    "        print(\"Child Class\")\n",
    "        super().__init__()\n",
    "        \n",
    "c1 = Child()"
   ]
  },
  {
   "cell_type": "code",
   "execution_count": 70,
   "id": "resistant-election",
   "metadata": {},
   "outputs": [
    {
     "name": "stdout",
     "output_type": "stream",
     "text": [
      "Child Class\n",
      "Parent Class\n",
      "100\n"
     ]
    }
   ],
   "source": [
    "class Parent():\n",
    "    def __init__(self,a):\n",
    "        print(\"Parent Class\")\n",
    "        print(a)\n",
    "        \n",
    "        \n",
    "class Child(Parent):\n",
    "    def __init__(self):\n",
    "        print(\"Child Class\")\n",
    "        super().__init__(100)\n",
    "        \n",
    "c1 = Child()"
   ]
  },
  {
   "cell_type": "code",
   "execution_count": 63,
   "id": "reduced-volunteer",
   "metadata": {},
   "outputs": [
    {
     "name": "stdout",
     "output_type": "stream",
     "text": [
      "Child Class\n"
     ]
    }
   ],
   "source": [
    "class Parent():\n",
    "    def Test(self):\n",
    "        print(\"Parent Class\")\n",
    "        \n",
    "class Child(Parent):\n",
    "    def Test(self):\n",
    "        print(\"Child Class\")\n",
    "        \n",
    "c1 = Child()\n",
    "c1.Test()"
   ]
  },
  {
   "cell_type": "code",
   "execution_count": 65,
   "id": "confused-annual",
   "metadata": {},
   "outputs": [
    {
     "name": "stdout",
     "output_type": "stream",
     "text": [
      "Child Class\n"
     ]
    }
   ],
   "source": [
    "class Parent():\n",
    "    def Test(self):\n",
    "        print(\"Parent Class\")\n",
    "        \n",
    "class Child(Parent):\n",
    "    def Test(self):\n",
    "        print(\"Child Class\")\n",
    "        \n",
    "c1 = Child()\n",
    "c1.Test()"
   ]
  },
  {
   "cell_type": "markdown",
   "id": "reverse-frank",
   "metadata": {},
   "source": [
    "# MultiLevel Inheritance"
   ]
  },
  {
   "cell_type": "raw",
   "id": "danish-furniture",
   "metadata": {},
   "source": [
    "# Create an object of child class\n",
    "\n",
    "Inherting the properties of Father and GrandFather Class"
   ]
  },
  {
   "cell_type": "code",
   "execution_count": 72,
   "id": "turkish-glucose",
   "metadata": {},
   "outputs": [],
   "source": [
    "class GrandFather():\n",
    "    pass\n",
    "\n",
    "class Father(GrandFather):  # Child Class for Grandfather\n",
    "    pass\n",
    "\n",
    "class Child(Father): # Child class for Father\n",
    "    pass \n",
    "\n"
   ]
  },
  {
   "cell_type": "code",
   "execution_count": 73,
   "id": "hungry-ukraine",
   "metadata": {},
   "outputs": [],
   "source": [
    "class GrandFather():\n",
    "    pass\n",
    "\n",
    "class Father(GrandFather):  # Child Class for Grandfather\n",
    "    pass\n",
    "\n",
    "class Child(Father): # Child class for Father\n",
    "    pass \n",
    "\n",
    "c1 = Child()  # "
   ]
  },
  {
   "cell_type": "code",
   "execution_count": 74,
   "id": "central-halifax",
   "metadata": {},
   "outputs": [],
   "source": [
    "class BaseClass1():\n",
    "    pass\n",
    "\n",
    "class BaseClass2(BaseClass1): \n",
    "    pass\n",
    "\n",
    "class BaseClass3(BaseClass2):\n",
    "    pass \n",
    "\n",
    "class DerivedClass(BaseClass3):\n",
    "    pass \n",
    "\n",
    "d1 = DerivedClass()"
   ]
  },
  {
   "cell_type": "code",
   "execution_count": 84,
   "id": "charitable-sunglasses",
   "metadata": {},
   "outputs": [
    {
     "name": "stdout",
     "output_type": "stream",
     "text": [
      "Hello Python\n",
      "Addition is 30\n",
      "Addition of two numbers is 30\n"
     ]
    }
   ],
   "source": [
    "class BaseClass1():\n",
    "    def display(self):\n",
    "        print(\"Hello Python\")\n",
    "        pass\n",
    "\n",
    "class BaseClass2(BaseClass1):\n",
    "    def addition(self,a,b):\n",
    "        add = a + b\n",
    "        self.add = add\n",
    "        print(\"Addition is\",add)\n",
    "\n",
    "class BaseClass3(BaseClass2):\n",
    "    pass \n",
    "\n",
    "class DerivedClass(BaseClass3):\n",
    "    def calculation(self):\n",
    "        print(\"Addition of two numbers is\",self.add)\n",
    "\n",
    "d1 = DerivedClass()\n",
    "d1.display()\n",
    "d1.addition(10,20)\n",
    "d1.calculation()"
   ]
  },
  {
   "cell_type": "markdown",
   "id": "north-bridal",
   "metadata": {},
   "source": [
    "# Multiple Inheritance"
   ]
  },
  {
   "cell_type": "code",
   "execution_count": 86,
   "id": "capable-scope",
   "metadata": {},
   "outputs": [],
   "source": [
    "class BaseClass1():\n",
    "    pass\n",
    "\n",
    "class BaseClass2():\n",
    "    pass\n",
    "\n",
    "class DerivedClass(BaseClass1,BaseClass2):\n",
    "    pass\n",
    "\n",
    "d1 = DerivedClass()"
   ]
  },
  {
   "cell_type": "code",
   "execution_count": 91,
   "id": "opponent-romance",
   "metadata": {},
   "outputs": [
    {
     "name": "stdout",
     "output_type": "stream",
     "text": [
      "Init Function\n",
      "Addition is  50\n",
      "Multiplication is  200\n",
      "result Function\n"
     ]
    }
   ],
   "source": [
    "class AdditionClass():  # Parent Class\n",
    "    def addition(self,a,b):\n",
    "        self.add = a + b\n",
    "        print(\"Addition is \",a+b)\n",
    "        \n",
    "class MultiplicationClass():  # Parent Class\n",
    "    def multiplication(self,a,b):\n",
    "        print(\"Multiplication is \",a*b)\n",
    "        \n",
    "class Calculation(AdditionClass,MultiplicationClass):\n",
    "    def __init__(self):\n",
    "        print(\"Init Function\")\n",
    "        \n",
    "    def result(s):\n",
    "        print('result Function')\n",
    "        \n",
    "calObj = Calculation()\n",
    "calObj.addition(20,30)\n",
    "calObj.multiplication(10,20)\n",
    "calObj.result()"
   ]
  },
  {
   "cell_type": "code",
   "execution_count": 99,
   "id": "incomplete-stability",
   "metadata": {},
   "outputs": [
    {
     "name": "stdout",
     "output_type": "stream",
     "text": [
      "Init Function\n",
      "result Function\n",
      "Addition is  30\n",
      "Multiplication is  200\n"
     ]
    }
   ],
   "source": [
    "class AdditionClass():  # Parent Class\n",
    "    def addition(self,a,b):\n",
    "        self.add = a + b\n",
    "        print(\"Addition is \",a+b)\n",
    "        \n",
    "class MultiplicationClass():  # Parent Class\n",
    "    def multiplication(self,a,b):\n",
    "        print(\"Multiplication is \",a*b)\n",
    "        \n",
    "class Calculation(AdditionClass,MultiplicationClass):\n",
    "    def __init__(self,a,b):\n",
    "        self.a = a\n",
    "        self.b = b\n",
    "        print(\"Init Function\")\n",
    "        \n",
    "    def result(self):\n",
    "        print('result Function')\n",
    "        self.addition(self.a,self.b)\n",
    "        self.multiplication(self.a,self.b)\n",
    "        \n",
    "calObj = Calculation(10,20)\n",
    "calObj.result()"
   ]
  },
  {
   "cell_type": "code",
   "execution_count": 106,
   "id": "yellow-bible",
   "metadata": {},
   "outputs": [
    {
     "name": "stdout",
     "output_type": "stream",
     "text": [
      "Init Function\n",
      "result Function\n",
      "Addition is  30\n",
      "Multiplication is  200\n"
     ]
    }
   ],
   "source": [
    "class AdditionClass():  # Parent Class\n",
    "    def addition(self,a,b):\n",
    "        self.add = a + b\n",
    "        print(\"Addition is \",a+b)\n",
    "        \n",
    "class MultiplicationClass():  # Parent Class\n",
    "    def multiplication(self,a,b):\n",
    "        print(\"Multiplication is \",a*b)\n",
    "        \n",
    "class Calculation(AdditionClass,MultiplicationClass):\n",
    "    def __init__(self,a,b):\n",
    "        self.a = a\n",
    "        self.b = b\n",
    "        print(\"Init Function\")\n",
    "        \n",
    "    def result(self):\n",
    "        \n",
    "        print('result Function')\n",
    "        self.addition(self.a,self.b)\n",
    "        self.multiplication(self.a,self.b)\n",
    "        \n",
    "calObj = Calculation(10,20)\n",
    "calObj.result()"
   ]
  },
  {
   "cell_type": "code",
   "execution_count": 113,
   "id": "existing-fetish",
   "metadata": {},
   "outputs": [
    {
     "name": "stdout",
     "output_type": "stream",
     "text": [
      "Addition is  7\n",
      "a =  2 7\n"
     ]
    }
   ],
   "source": [
    "class AdditionClass():  # Parent Class\n",
    "    def addition(self,a,b):\n",
    "        self.add = a + b\n",
    "        self.a = a\n",
    "        self.b = b\n",
    "        print(\"Addition is \",a+b)\n",
    "        \n",
    "class MultiplicationClass():  # Parent Class\n",
    "    def multiplication(self,a,b):\n",
    "        print(\"Multiplication is \",a*b)\n",
    "        \n",
    "class Calculation(AdditionClass,MultiplicationClass):\n",
    "        \n",
    "    def result(self):\n",
    "        print('a = ',self.a,self.add)\n",
    "        \n",
    "calObj = Calculation()\n",
    "calObj.addition(2,5)\n",
    "calObj.result()"
   ]
  },
  {
   "cell_type": "code",
   "execution_count": 116,
   "id": "literary-benjamin",
   "metadata": {},
   "outputs": [
    {
     "name": "stdout",
     "output_type": "stream",
     "text": [
      "x == 20 ,y== 50\n",
      "Init Function\n",
      "result Function\n",
      "Addition is  30\n"
     ]
    }
   ],
   "source": [
    "class AdditionClass():  # Parent Class\n",
    "    def __init__(self,x,y):\n",
    "        print(f\"x == {x} ,y== {y}\")\n",
    "        \n",
    "    def addition(self,a,b):\n",
    "        self.add = a + b\n",
    "        print(\"Addition is \",a+b)\n",
    "        \n",
    "class MultiplicationClass():  # Parent Class\n",
    "    def multiplication(self,a,b):\n",
    "        print(\"Multiplication is \",a*b)\n",
    "        \n",
    "class Calculation(AdditionClass,MultiplicationClass):\n",
    "    def __init__(self,a,b):\n",
    "        AdditionClass.__init__(self,20,50)\n",
    "        self.a = a\n",
    "        self.b = b\n",
    "        print(\"Init Function\")\n",
    "        \n",
    "    def add1(self,a,b):\n",
    "        self.add = a + b\n",
    "        print(\"Addition is \",a+b)\n",
    "        \n",
    "    def result(self):\n",
    "        print('result Function')\n",
    "        self.add1(10,20)\n",
    "        \n",
    "calObj = Calculation(10,20)\n",
    "calObj.result()\n"
   ]
  },
  {
   "cell_type": "code",
   "execution_count": null,
   "id": "everyday-attack",
   "metadata": {},
   "outputs": [],
   "source": [
    "\n",
    "class Calculation(AdditionClass,MultiplicationClass):\n",
    "    def __init__(self,a,b):\n",
    "        AdditionClass.__init__(self,20,50)\n",
    "        self.a = a\n",
    "        self.b = b\n",
    "        print(\"Init Function\")\n",
    "        \n",
    "    def multiplication(self,a,b):\n",
    "        print(\"Multiplication is \",a*b)\n",
    "        \n",
    "    def addition(self,a,b):\n",
    "        self.add = a + b\n",
    "        print(\"Addition is \",a+b)\n",
    "        \n",
    "    def add1(self,a,b):\n",
    "        self.add = a + b\n",
    "        print(\"Addition is \",a+b)\n",
    "        \n",
    "    def result(self):\n",
    "        print('result Function')\n",
    "        self.add1(10,20)\n",
    "        \n",
    "calObj = Calculation(10,20)\n",
    "calObj.result()\n"
   ]
  }
 ],
 "metadata": {
  "kernelspec": {
   "display_name": "Python 3",
   "language": "python",
   "name": "python3"
  },
  "language_info": {
   "codemirror_mode": {
    "name": "ipython",
    "version": 3
   },
   "file_extension": ".py",
   "mimetype": "text/x-python",
   "name": "python",
   "nbconvert_exporter": "python",
   "pygments_lexer": "ipython3",
   "version": "3.8.7"
  }
 },
 "nbformat": 4,
 "nbformat_minor": 5
}
