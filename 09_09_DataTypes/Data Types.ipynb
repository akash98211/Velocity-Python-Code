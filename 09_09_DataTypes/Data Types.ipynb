{
 "cells": [
  {
   "cell_type": "markdown",
   "id": "exceptional-exploration",
   "metadata": {},
   "source": [
    "# Data Types"
   ]
  },
  {
   "cell_type": "raw",
   "id": "floral-processor",
   "metadata": {},
   "source": [
    "Variables are used to hold/store value\n",
    "Python is Dynamically Typed language"
   ]
  },
  {
   "cell_type": "code",
   "execution_count": null,
   "id": "blocked-quest",
   "metadata": {},
   "outputs": [],
   "source": [
    "Numeric : int, float, complex\n",
    "    \n",
    "text : str\n",
    "   \n",
    "sequence : list, tuple, range\n",
    "    \n",
    "mapping : dict (Key value pair)\n",
    "\n",
    "setDT : set, frozenset\n",
    "\n",
    "Boolean : bool (True/False)\n",
    "    \n",
    "Binary : bytes"
   ]
  },
  {
   "cell_type": "markdown",
   "id": "compatible-editing",
   "metadata": {},
   "source": [
    "# Int Data Type"
   ]
  },
  {
   "cell_type": "raw",
   "id": "consolidated-citizen",
   "metadata": {},
   "source": [
    "Whole Numbers\n",
    "+ve or -ve\n",
    "without decimal"
   ]
  },
  {
   "cell_type": "code",
   "execution_count": 8,
   "id": "taken-frank",
   "metadata": {},
   "outputs": [
    {
     "data": {
      "text/plain": [
       "int"
      ]
     },
     "execution_count": 8,
     "metadata": {},
     "output_type": "execute_result"
    }
   ],
   "source": [
    "x = 100\n",
    "type(x)"
   ]
  },
  {
   "cell_type": "code",
   "execution_count": 10,
   "id": "trying-designation",
   "metadata": {},
   "outputs": [
    {
     "data": {
      "text/plain": [
       "int"
      ]
     },
     "execution_count": 10,
     "metadata": {},
     "output_type": "execute_result"
    }
   ],
   "source": [
    "number = 2345\n",
    "type(number)"
   ]
  },
  {
   "cell_type": "code",
   "execution_count": 12,
   "id": "precious-pearl",
   "metadata": {},
   "outputs": [
    {
     "data": {
      "text/plain": [
       "int"
      ]
     },
     "execution_count": 12,
     "metadata": {},
     "output_type": "execute_result"
    }
   ],
   "source": [
    "number = -45\n",
    "type(number)"
   ]
  },
  {
   "cell_type": "code",
   "execution_count": null,
   "id": "inside-structure",
   "metadata": {},
   "outputs": [],
   "source": [
    "number = -45\n",
    "type(number)"
   ]
  },
  {
   "cell_type": "markdown",
   "id": "historic-northeast",
   "metadata": {},
   "source": [
    "# Float Data Type"
   ]
  },
  {
   "cell_type": "code",
   "execution_count": null,
   "id": "caring-european",
   "metadata": {},
   "outputs": [],
   "source": [
    "+ve or -ve\n",
    "With decimal point"
   ]
  },
  {
   "cell_type": "code",
   "execution_count": 15,
   "id": "primary-template",
   "metadata": {},
   "outputs": [
    {
     "name": "stdout",
     "output_type": "stream",
     "text": [
      "Data Type of variable is : <class 'float'>\n"
     ]
    }
   ],
   "source": [
    "float_number = 23.45\n",
    "print(\"Data Type of variable is :\",type(float_number))"
   ]
  },
  {
   "cell_type": "code",
   "execution_count": 18,
   "id": "contrary-patrick",
   "metadata": {},
   "outputs": [
    {
     "data": {
      "text/plain": [
       "float"
      ]
     },
     "execution_count": 18,
     "metadata": {},
     "output_type": "execute_result"
    }
   ],
   "source": [
    "float_number = -23.45\n",
    "type(float_number)"
   ]
  },
  {
   "cell_type": "code",
   "execution_count": 20,
   "id": "detected-confirmation",
   "metadata": {},
   "outputs": [
    {
     "data": {
      "text/plain": [
       "float"
      ]
     },
     "execution_count": 20,
     "metadata": {},
     "output_type": "execute_result"
    }
   ],
   "source": [
    "num = 1223.45\n",
    "type(num)"
   ]
  },
  {
   "cell_type": "code",
   "execution_count": 21,
   "id": "ignored-listing",
   "metadata": {},
   "outputs": [
    {
     "data": {
      "text/plain": [
       "float"
      ]
     },
     "execution_count": 21,
     "metadata": {},
     "output_type": "execute_result"
    }
   ],
   "source": [
    "num = 1223.0\n",
    "type(num)"
   ]
  },
  {
   "cell_type": "code",
   "execution_count": 23,
   "id": "billion-virginia",
   "metadata": {},
   "outputs": [
    {
     "data": {
      "text/plain": [
       "float"
      ]
     },
     "execution_count": 23,
     "metadata": {},
     "output_type": "execute_result"
    }
   ],
   "source": [
    "num = 10.123456789\n",
    "type(num)"
   ]
  },
  {
   "cell_type": "code",
   "execution_count": 26,
   "id": "opposite-cattle",
   "metadata": {},
   "outputs": [
    {
     "data": {
      "text/plain": [
       "10.12"
      ]
     },
     "execution_count": 26,
     "metadata": {},
     "output_type": "execute_result"
    }
   ],
   "source": [
    "num = 10.123456789\n",
    "round(num, 2)"
   ]
  },
  {
   "cell_type": "code",
   "execution_count": 30,
   "id": "ideal-blogger",
   "metadata": {},
   "outputs": [
    {
     "data": {
      "text/plain": [
       "10.1255"
      ]
     },
     "execution_count": 30,
     "metadata": {},
     "output_type": "execute_result"
    }
   ],
   "source": [
    "num = 10.125456789\n",
    "round(num, 4)"
   ]
  },
  {
   "cell_type": "markdown",
   "id": "selected-humidity",
   "metadata": {},
   "source": [
    "# Complex Data Type"
   ]
  },
  {
   "cell_type": "raw",
   "id": "embedded-glasgow",
   "metadata": {},
   "source": [
    "Contain Real and Imaginary Part "
   ]
  },
  {
   "cell_type": "code",
   "execution_count": 35,
   "id": "skilled-munich",
   "metadata": {},
   "outputs": [
    {
     "data": {
      "text/plain": [
       "complex"
      ]
     },
     "execution_count": 35,
     "metadata": {},
     "output_type": "execute_result"
    }
   ],
   "source": [
    "x = 3 + 4j\n",
    "type(x)"
   ]
  },
  {
   "cell_type": "code",
   "execution_count": 37,
   "id": "sought-collectible",
   "metadata": {},
   "outputs": [
    {
     "data": {
      "text/plain": [
       "complex"
      ]
     },
     "execution_count": 37,
     "metadata": {},
     "output_type": "execute_result"
    }
   ],
   "source": [
    "x = 3 + 0j\n",
    "type(x)"
   ]
  },
  {
   "cell_type": "code",
   "execution_count": 39,
   "id": "bound-carpet",
   "metadata": {},
   "outputs": [
    {
     "data": {
      "text/plain": [
       "complex"
      ]
     },
     "execution_count": 39,
     "metadata": {},
     "output_type": "execute_result"
    }
   ],
   "source": [
    "x =  4j\n",
    "type(x)"
   ]
  },
  {
   "cell_type": "code",
   "execution_count": 41,
   "id": "bright-bobby",
   "metadata": {},
   "outputs": [
    {
     "data": {
      "text/plain": [
       "complex"
      ]
     },
     "execution_count": 41,
     "metadata": {},
     "output_type": "execute_result"
    }
   ],
   "source": [
    "x =  0 + 4j\n",
    "type(x)"
   ]
  },
  {
   "cell_type": "code",
   "execution_count": 43,
   "id": "natural-wellington",
   "metadata": {},
   "outputs": [
    {
     "data": {
      "text/plain": [
       "3"
      ]
     },
     "execution_count": 43,
     "metadata": {},
     "output_type": "execute_result"
    }
   ],
   "source": [
    "abs(3) # Dist from 0 value"
   ]
  },
  {
   "cell_type": "code",
   "execution_count": 47,
   "id": "curious-occasion",
   "metadata": {},
   "outputs": [
    {
     "data": {
      "text/plain": [
       "3"
      ]
     },
     "execution_count": 47,
     "metadata": {},
     "output_type": "execute_result"
    }
   ],
   "source": [
    "abs(-3)"
   ]
  },
  {
   "cell_type": "code",
   "execution_count": 48,
   "id": "humanitarian-simon",
   "metadata": {},
   "outputs": [
    {
     "data": {
      "text/plain": [
       "34.56"
      ]
     },
     "execution_count": 48,
     "metadata": {},
     "output_type": "execute_result"
    }
   ],
   "source": [
    "abs(-34.56)"
   ]
  },
  {
   "cell_type": "code",
   "execution_count": 46,
   "id": "atomic-california",
   "metadata": {},
   "outputs": [
    {
     "data": {
      "text/plain": [
       "5.0"
      ]
     },
     "execution_count": 46,
     "metadata": {},
     "output_type": "execute_result"
    }
   ],
   "source": [
    "abs(3 + 4j)"
   ]
  },
  {
   "cell_type": "markdown",
   "id": "commercial-orlando",
   "metadata": {},
   "source": [
    "# Python Casting"
   ]
  },
  {
   "cell_type": "code",
   "execution_count": null,
   "id": "greenhouse-struggle",
   "metadata": {},
   "outputs": [],
   "source": [
    "Specify Variable type\n",
    "To change data type of variable"
   ]
  },
  {
   "cell_type": "code",
   "execution_count": 51,
   "id": "liable-container",
   "metadata": {},
   "outputs": [],
   "source": [
    "x = 20\n",
    "x1 = 10.45\n",
    "x2 = 35.1\n"
   ]
  },
  {
   "cell_type": "markdown",
   "id": "presidential-glasgow",
   "metadata": {},
   "source": [
    "## 1. int to float"
   ]
  },
  {
   "cell_type": "code",
   "execution_count": 50,
   "id": "excited-people",
   "metadata": {},
   "outputs": [
    {
     "name": "stdout",
     "output_type": "stream",
     "text": [
      "Updated value of x is : 20.0\n"
     ]
    }
   ],
   "source": [
    "x = 20\n",
    "x = float(x)\n",
    "print(\"Updated value of x is :\",x)"
   ]
  },
  {
   "cell_type": "markdown",
   "id": "eight-plane",
   "metadata": {},
   "source": [
    "## 2. float to int"
   ]
  },
  {
   "cell_type": "code",
   "execution_count": 56,
   "id": "upper-fraud",
   "metadata": {},
   "outputs": [
    {
     "name": "stdout",
     "output_type": "stream",
     "text": [
      "Updated value of x is : 10\n"
     ]
    }
   ],
   "source": [
    "num = 10.54\n",
    "type(num)\n",
    "num = int(10.54)\n",
    "print(\"Updated value of x is :\",num)"
   ]
  },
  {
   "cell_type": "code",
   "execution_count": 61,
   "id": "compact-marsh",
   "metadata": {},
   "outputs": [
    {
     "name": "stdout",
     "output_type": "stream",
     "text": [
      "Value in Num is : 10.99\n",
      "Updated value of num is : 10\n"
     ]
    }
   ],
   "source": [
    "num = 10.99\n",
    "print(\"Value in Num is :\",num)   # 10.99\n",
    "\n",
    "num = int(num)  # Converting float number to int data type\n",
    "print(\"Updated value of num is :\",num)"
   ]
  },
  {
   "cell_type": "code",
   "execution_count": 59,
   "id": "diagnostic-native",
   "metadata": {},
   "outputs": [
    {
     "data": {
      "text/plain": [
       "10"
      ]
     },
     "execution_count": 59,
     "metadata": {},
     "output_type": "execute_result"
    }
   ],
   "source": [
    "int(10.99)"
   ]
  },
  {
   "cell_type": "code",
   "execution_count": 58,
   "id": "environmental-asset",
   "metadata": {},
   "outputs": [
    {
     "name": "stdout",
     "output_type": "stream",
     "text": [
      "Updated value of x is : 34\n"
     ]
    }
   ],
   "source": [
    "print(\"Updated value of x is :\",int(34.56))"
   ]
  },
  {
   "cell_type": "code",
   "execution_count": 66,
   "id": "absent-restoration",
   "metadata": {},
   "outputs": [
    {
     "data": {
      "text/plain": [
       "23.56"
      ]
     },
     "execution_count": 66,
     "metadata": {},
     "output_type": "execute_result"
    }
   ],
   "source": [
    "int(10.5)\n",
    "float(10)\n",
    "float(23.56)"
   ]
  },
  {
   "cell_type": "code",
   "execution_count": 69,
   "id": "dental-hollow",
   "metadata": {},
   "outputs": [
    {
     "name": "stdout",
     "output_type": "stream",
     "text": [
      "Value of a is 20.5 and its data type is <class 'float'>\n",
      "Value of a is 20 and its data type is <class 'int'>\n"
     ]
    }
   ],
   "source": [
    "a = 20.50\n",
    "print(f\"Value of a is {a} and its data type is {type(a)}\")\n",
    "\n",
    "a = int(a)\n",
    "print(f\"Value of a is {a} and its data type is {type(a)}\")"
   ]
  },
  {
   "cell_type": "code",
   "execution_count": 72,
   "id": "impressed-input",
   "metadata": {},
   "outputs": [
    {
     "name": "stdout",
     "output_type": "stream",
     "text": [
      "Value of a is 10.93487 and its data type is <class 'float'>\n",
      "Value of a is 10 and its data type is <class 'int'>\n"
     ]
    }
   ],
   "source": [
    "a = 10.93487\n",
    "print(f\"Value of a is {a} and its data type is {type(a)}\")\n",
    "\n",
    "a = int(a)\n",
    "print(f\"Value of a is {a} and its data type is {type(a)}\")"
   ]
  },
  {
   "cell_type": "markdown",
   "id": "incorporated-remark",
   "metadata": {},
   "source": [
    "## 3. int to complex"
   ]
  },
  {
   "cell_type": "code",
   "execution_count": 74,
   "id": "compressed-street",
   "metadata": {},
   "outputs": [
    {
     "name": "stdout",
     "output_type": "stream",
     "text": [
      "Value of a is 24 and its data type is <class 'int'>\n",
      "Value of a is (24+0j) and its data type is <class 'complex'>\n"
     ]
    }
   ],
   "source": [
    "a = 24\n",
    "print(f\"Value of a is {a} and its data type is {type(a)}\")\n",
    "\n",
    "a = complex(a)\n",
    "print(f\"Value of a is {a} and its data type is {type(a)}\")"
   ]
  },
  {
   "cell_type": "code",
   "execution_count": 76,
   "id": "preliminary-minute",
   "metadata": {},
   "outputs": [
    {
     "name": "stdout",
     "output_type": "stream",
     "text": [
      "Value of a is 100 and its data type is <class 'int'>\n",
      "Value of a is (100+0j) and its data type is <class 'complex'>\n"
     ]
    }
   ],
   "source": [
    "a = 100\n",
    "print(f\"Value of a is {a} and its data type is {type(a)}\")\n",
    "\n",
    "a = complex(a)\n",
    "print(f\"Value of a is {a} and its data type is {type(a)}\")"
   ]
  },
  {
   "cell_type": "markdown",
   "id": "heavy-excuse",
   "metadata": {},
   "source": [
    "## 4. float to complex"
   ]
  },
  {
   "cell_type": "code",
   "execution_count": 78,
   "id": "precious-there",
   "metadata": {},
   "outputs": [
    {
     "name": "stdout",
     "output_type": "stream",
     "text": [
      "Value of a is 24.56 and its data type is <class 'float'>\n",
      "Value of a is (24.56+0j) and its data type is <class 'complex'>\n"
     ]
    }
   ],
   "source": [
    "a = 24.56\n",
    "print(f\"Value of a is {a} and its data type is {type(a)}\")\n",
    "\n",
    "a = complex(a)\n",
    "print(f\"Value of a is {a} and its data type is {type(a)}\")"
   ]
  },
  {
   "cell_type": "markdown",
   "id": "cooperative-premises",
   "metadata": {},
   "source": [
    "## 5. complex to int"
   ]
  },
  {
   "cell_type": "raw",
   "id": "finite-istanbul",
   "metadata": {},
   "source": [
    "Complex number to int or float is not possible"
   ]
  },
  {
   "cell_type": "code",
   "execution_count": 82,
   "id": "korean-fortune",
   "metadata": {},
   "outputs": [
    {
     "name": "stdout",
     "output_type": "stream",
     "text": [
      "Value of a is (24+5j) and its data type is <class 'complex'>\n"
     ]
    },
    {
     "ename": "TypeError",
     "evalue": "can't convert complex to int",
     "output_type": "error",
     "traceback": [
      "\u001b[1;31m---------------------------------------------------------------------------\u001b[0m",
      "\u001b[1;31mTypeError\u001b[0m                                 Traceback (most recent call last)",
      "\u001b[1;32m<ipython-input-82-2ab179379d7f>\u001b[0m in \u001b[0;36m<module>\u001b[1;34m\u001b[0m\n\u001b[0;32m      2\u001b[0m \u001b[0mprint\u001b[0m\u001b[1;33m(\u001b[0m\u001b[1;34mf\"Value of a is {a} and its data type is {type(a)}\"\u001b[0m\u001b[1;33m)\u001b[0m\u001b[1;33m\u001b[0m\u001b[1;33m\u001b[0m\u001b[0m\n\u001b[0;32m      3\u001b[0m \u001b[1;33m\u001b[0m\u001b[0m\n\u001b[1;32m----> 4\u001b[1;33m \u001b[0ma\u001b[0m \u001b[1;33m=\u001b[0m \u001b[0mint\u001b[0m\u001b[1;33m(\u001b[0m\u001b[0ma\u001b[0m\u001b[1;33m)\u001b[0m\u001b[1;33m\u001b[0m\u001b[1;33m\u001b[0m\u001b[0m\n\u001b[0m\u001b[0;32m      5\u001b[0m \u001b[0mprint\u001b[0m\u001b[1;33m(\u001b[0m\u001b[1;34mf\"Value of a is {a} and its data type is {type(a)}\"\u001b[0m\u001b[1;33m)\u001b[0m\u001b[1;33m\u001b[0m\u001b[1;33m\u001b[0m\u001b[0m\n",
      "\u001b[1;31mTypeError\u001b[0m: can't convert complex to int"
     ]
    }
   ],
   "source": [
    "a = 24 + 5j\n",
    "print(f\"Value of a is {a} and its data type is {type(a)}\")\n",
    "\n",
    "a = int(a)\n",
    "print(f\"Value of a is {a} and its data type is {type(a)}\")"
   ]
  },
  {
   "cell_type": "code",
   "execution_count": 84,
   "id": "juvenile-seeker",
   "metadata": {},
   "outputs": [
    {
     "name": "stdout",
     "output_type": "stream",
     "text": [
      "Value of a is (24+5j) and its data type is <class 'complex'>\n"
     ]
    },
    {
     "ename": "TypeError",
     "evalue": "can't convert complex to float",
     "output_type": "error",
     "traceback": [
      "\u001b[1;31m---------------------------------------------------------------------------\u001b[0m",
      "\u001b[1;31mTypeError\u001b[0m                                 Traceback (most recent call last)",
      "\u001b[1;32m<ipython-input-84-5abc8af14369>\u001b[0m in \u001b[0;36m<module>\u001b[1;34m\u001b[0m\n\u001b[0;32m      2\u001b[0m \u001b[0mprint\u001b[0m\u001b[1;33m(\u001b[0m\u001b[1;34mf\"Value of a is {a} and its data type is {type(a)}\"\u001b[0m\u001b[1;33m)\u001b[0m\u001b[1;33m\u001b[0m\u001b[1;33m\u001b[0m\u001b[0m\n\u001b[0;32m      3\u001b[0m \u001b[1;33m\u001b[0m\u001b[0m\n\u001b[1;32m----> 4\u001b[1;33m \u001b[0ma\u001b[0m \u001b[1;33m=\u001b[0m \u001b[0mfloat\u001b[0m\u001b[1;33m(\u001b[0m\u001b[0ma\u001b[0m\u001b[1;33m)\u001b[0m\u001b[1;33m\u001b[0m\u001b[1;33m\u001b[0m\u001b[0m\n\u001b[0m\u001b[0;32m      5\u001b[0m \u001b[0mprint\u001b[0m\u001b[1;33m(\u001b[0m\u001b[1;34mf\"Value of a is {a} and its data type is {type(a)}\"\u001b[0m\u001b[1;33m)\u001b[0m\u001b[1;33m\u001b[0m\u001b[1;33m\u001b[0m\u001b[0m\n",
      "\u001b[1;31mTypeError\u001b[0m: can't convert complex to float"
     ]
    }
   ],
   "source": [
    "a = 24 + 5j\n",
    "print(f\"Value of a is {a} and its data type is {type(a)}\")\n",
    "\n",
    "a = float(a)\n",
    "print(f\"Value of a is {a} and its data type is {type(a)}\")"
   ]
  },
  {
   "cell_type": "code",
   "execution_count": 89,
   "id": "intense-royalty",
   "metadata": {},
   "outputs": [
    {
     "name": "stdout",
     "output_type": "stream",
     "text": [
      "Value of a is (24+0j) and its data type is <class 'complex'>\n"
     ]
    },
    {
     "ename": "TypeError",
     "evalue": "can't convert complex to float",
     "output_type": "error",
     "traceback": [
      "\u001b[1;31m---------------------------------------------------------------------------\u001b[0m",
      "\u001b[1;31mTypeError\u001b[0m                                 Traceback (most recent call last)",
      "\u001b[1;32m<ipython-input-89-ae83a978e185>\u001b[0m in \u001b[0;36m<module>\u001b[1;34m\u001b[0m\n\u001b[0;32m      2\u001b[0m \u001b[0mprint\u001b[0m\u001b[1;33m(\u001b[0m\u001b[1;34m\"Value of a is {} and its data type is {}\"\u001b[0m\u001b[1;33m.\u001b[0m\u001b[0mformat\u001b[0m\u001b[1;33m(\u001b[0m\u001b[0ma\u001b[0m\u001b[1;33m,\u001b[0m\u001b[0mtype\u001b[0m\u001b[1;33m(\u001b[0m\u001b[0ma\u001b[0m\u001b[1;33m)\u001b[0m\u001b[1;33m)\u001b[0m\u001b[1;33m)\u001b[0m\u001b[1;33m\u001b[0m\u001b[1;33m\u001b[0m\u001b[0m\n\u001b[0;32m      3\u001b[0m \u001b[1;33m\u001b[0m\u001b[0m\n\u001b[1;32m----> 4\u001b[1;33m \u001b[0ma\u001b[0m \u001b[1;33m=\u001b[0m \u001b[0mfloat\u001b[0m\u001b[1;33m(\u001b[0m\u001b[0ma\u001b[0m\u001b[1;33m)\u001b[0m\u001b[1;33m\u001b[0m\u001b[1;33m\u001b[0m\u001b[0m\n\u001b[0m\u001b[0;32m      5\u001b[0m \u001b[0mprint\u001b[0m\u001b[1;33m(\u001b[0m\u001b[1;34mf\"Value of a is {a} and its data type is {type(a)}\"\u001b[0m\u001b[1;33m)\u001b[0m\u001b[1;33m\u001b[0m\u001b[1;33m\u001b[0m\u001b[0m\n",
      "\u001b[1;31mTypeError\u001b[0m: can't convert complex to float"
     ]
    }
   ],
   "source": [
    "a = 24 + 0j\n",
    "print(\"Value of a is {} and its data type is {}\".format(a,type(a)))\n",
    "\n",
    "a = float(a)\n",
    "print(f\"Value of a is {a} and its data type is {type(a)}\")"
   ]
  },
  {
   "cell_type": "code",
   "execution_count": 92,
   "id": "answering-riding",
   "metadata": {},
   "outputs": [
    {
     "data": {
      "text/plain": [
       "5.0"
      ]
     },
     "execution_count": 92,
     "metadata": {},
     "output_type": "execute_result"
    }
   ],
   "source": [
    "a = 3 + 4j\n",
    "abs(a)"
   ]
  },
  {
   "cell_type": "code",
   "execution_count": 93,
   "id": "micro-barrel",
   "metadata": {},
   "outputs": [],
   "source": [
    "import urllib\n",
    "import pdf2image\n",
    "import pdftotext\n",
    "import PyPDF"
   ]
  }
 ],
 "metadata": {
  "kernelspec": {
   "display_name": "Python 3",
   "language": "python",
   "name": "python3"
  },
  "language_info": {
   "codemirror_mode": {
    "name": "ipython",
    "version": 3
   },
   "file_extension": ".py",
   "mimetype": "text/x-python",
   "name": "python",
   "nbconvert_exporter": "python",
   "pygments_lexer": "ipython3",
   "version": "3.8.7"
  }
 },
 "nbformat": 4,
 "nbformat_minor": 5
}
