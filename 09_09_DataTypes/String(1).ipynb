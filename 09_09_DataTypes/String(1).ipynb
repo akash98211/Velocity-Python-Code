{
 "cells": [
  {
   "cell_type": "markdown",
   "id": "alone-opportunity",
   "metadata": {},
   "source": [
    "# String"
   ]
  },
  {
   "cell_type": "code",
   "execution_count": null,
   "id": "pressed-richards",
   "metadata": {},
   "outputs": [],
   "source": [
    "Collection of characters surrounded by single quotes, double quotes or triple quotes\n",
    "We can not use single quote inside single quote\n",
    "We can not use double quote inside double quote"
   ]
  },
  {
   "cell_type": "code",
   "execution_count": 1,
   "id": "lasting-tragedy",
   "metadata": {},
   "outputs": [],
   "source": [
    "single_quote_string = 'Python and Data Science'\n",
    "double_quote_string = \"Python and Data Science\""
   ]
  },
  {
   "cell_type": "code",
   "execution_count": 2,
   "id": "convinced-bishop",
   "metadata": {},
   "outputs": [
    {
     "name": "stdout",
     "output_type": "stream",
     "text": [
      "Python and Data Science\n",
      "Python and Data Science\n"
     ]
    }
   ],
   "source": [
    "print(single_quote_string)\n",
    "print(double_quote_string)"
   ]
  },
  {
   "cell_type": "code",
   "execution_count": 3,
   "id": "crucial-czech",
   "metadata": {},
   "outputs": [
    {
     "data": {
      "text/plain": [
       "'Python and Data Science'"
      ]
     },
     "execution_count": 3,
     "metadata": {},
     "output_type": "execute_result"
    }
   ],
   "source": [
    "single_quote_string"
   ]
  },
  {
   "cell_type": "code",
   "execution_count": 5,
   "id": "knowing-marble",
   "metadata": {},
   "outputs": [
    {
     "data": {
      "text/plain": [
       "'Python and Data Science'"
      ]
     },
     "execution_count": 5,
     "metadata": {},
     "output_type": "execute_result"
    }
   ],
   "source": [
    "double_quote_string"
   ]
  },
  {
   "cell_type": "code",
   "execution_count": 9,
   "id": "completed-macro",
   "metadata": {},
   "outputs": [
    {
     "data": {
      "text/plain": [
       "\"python's class\""
      ]
     },
     "execution_count": 9,
     "metadata": {},
     "output_type": "execute_result"
    }
   ],
   "source": [
    "str1 = \"python's class\"\n",
    "str1"
   ]
  },
  {
   "cell_type": "code",
   "execution_count": 14,
   "id": "mathematical-former",
   "metadata": {},
   "outputs": [
    {
     "data": {
      "text/plain": [
       "'python\"s class'"
      ]
     },
     "execution_count": 14,
     "metadata": {},
     "output_type": "execute_result"
    }
   ],
   "source": [
    "str1 = 'python\"s class'\n",
    "str1"
   ]
  },
  {
   "cell_type": "raw",
   "id": "ancient-mechanics",
   "metadata": {},
   "source": [
    "Triple Quotes >> Multiline string"
   ]
  },
  {
   "cell_type": "code",
   "execution_count": 16,
   "id": "confirmed-dylan",
   "metadata": {},
   "outputs": [
    {
     "data": {
      "text/plain": [
       "\"python's class\""
      ]
     },
     "execution_count": 16,
     "metadata": {},
     "output_type": "execute_result"
    }
   ],
   "source": [
    "str3 = \"\"\"python's class\"\"\"\n",
    "str3"
   ]
  },
  {
   "cell_type": "code",
   "execution_count": 17,
   "id": "polyphonic-weapon",
   "metadata": {},
   "outputs": [
    {
     "data": {
      "text/plain": [
       "\"python's class\""
      ]
     },
     "execution_count": 17,
     "metadata": {},
     "output_type": "execute_result"
    }
   ],
   "source": [
    "str3 = \"\"\"python's class\"\"\"\n",
    "str3"
   ]
  },
  {
   "cell_type": "code",
   "execution_count": 20,
   "id": "upper-limit",
   "metadata": {},
   "outputs": [
    {
     "name": "stdout",
     "output_type": "stream",
     "text": [
      "Data science is an interdisciplinary field that uses scientific methods, \n",
      "processes, algorithms and systems to extract knowledge and insights from noisy, structured \n",
      "and unstructured data, and apply knowledge and actionable insights from data across a broad \n",
      "range of application domains\n"
     ]
    }
   ],
   "source": [
    "data_science = \"\"\"Data science is an interdisciplinary field that uses scientific methods, \n",
    "processes, algorithms and systems to extract knowledge and insights from noisy, structured \n",
    "and unstructured data, and apply knowledge and actionable insights from data across a broad \n",
    "range of application domains\"\"\"\n",
    "\n",
    "print(data_science)"
   ]
  },
  {
   "cell_type": "code",
   "execution_count": 22,
   "id": "respective-spread",
   "metadata": {},
   "outputs": [
    {
     "name": "stdout",
     "output_type": "stream",
     "text": [
      "Data science is an interdisciplinary field that uses scientific methods, \n",
      "processes, algorithms and systems to extract knowledge and insights from noisy, structured \n",
      "and unstructured data, and apply knowledge and actionable insights from data across a broad \n",
      "range of application domains\n"
     ]
    }
   ],
   "source": [
    "data_science = '''Data science is an interdisciplinary field that uses scientific methods, \n",
    "processes, algorithms and systems to extract knowledge and insights from noisy, structured \n",
    "and unstructured data, and apply knowledge and actionable insights from data across a broad \n",
    "range of application domains'''\n",
    "\n",
    "print(data_science)"
   ]
  },
  {
   "cell_type": "code",
   "execution_count": 23,
   "id": "intimate-shark",
   "metadata": {},
   "outputs": [],
   "source": [
    "text = \"Data science is an interdisciplinary field that uses scientific methods, processes, algorithms and systems to extract knowledge and insights from noisy, structured and unstructured data, and apply knowledge and actionable insights from data across a broad range of application domains\""
   ]
  },
  {
   "cell_type": "code",
   "execution_count": 26,
   "id": "national-flood",
   "metadata": {},
   "outputs": [
    {
     "name": "stdout",
     "output_type": "stream",
     "text": [
      "Data science is an interdisciplinary field that uses scientific methods, processes, algorithms and systems to extract knowledge and insights from noisy, structured and unstructured data, and apply knowledge and actionable insights from data across a broad range of application domains\n"
     ]
    }
   ],
   "source": [
    "print(text)"
   ]
  },
  {
   "cell_type": "code",
   "execution_count": 30,
   "id": "preceding-india",
   "metadata": {},
   "outputs": [
    {
     "name": "stdout",
     "output_type": "stream",
     "text": [
      "PARNAVI ELECTRONICS\n",
      "Joint Holder :- -\n",
      "SHOP NO 01 BABA MARKET HAROLA\n",
      "SECTOR 05\n",
      "NOIDA Customer No :875243714\n",
      "UTTAR PRADESH Scheme :CURRENT ACCOUNT-NORMAL\n",
      "201301 Currency :INR\n"
     ]
    }
   ],
   "source": [
    "data = \"\"\"PARNAVI ELECTRONICS\n",
    "Joint Holder :- -\n",
    "SHOP NO 01 BABA MARKET HAROLA\n",
    "SECTOR 05\n",
    "NOIDA Customer No :875243714\n",
    "UTTAR PRADESH Scheme :CURRENT ACCOUNT-NORMAL\n",
    "201301 Currency :INR\"\"\"\n",
    "print(data)"
   ]
  },
  {
   "cell_type": "code",
   "execution_count": 33,
   "id": "distant-logan",
   "metadata": {},
   "outputs": [
    {
     "name": "stdout",
     "output_type": "stream",
     "text": [
      "100\n"
     ]
    }
   ],
   "source": [
    "'''Data science is an interdisciplinary field that uses scientific methods, \n",
    "processes, algorithms and systems to extract knowledge and insights from noisy, structured \n",
    "and unstructured data, and apply knowledge and actionable insights from data across a broad \n",
    "range of application domains'''\n",
    "\n",
    "x = 100\n",
    "print(x)"
   ]
  },
  {
   "cell_type": "code",
   "execution_count": 38,
   "id": "familiar-naples",
   "metadata": {},
   "outputs": [
    {
     "name": "stdout",
     "output_type": "stream",
     "text": [
      "Data science is an interdisciplinary field that uses scientific methods, \n",
      "processes, algorithms and systems to extract knowledge and insights from noisy, structured \n",
      "and unstructured data, and apply knowledge and actionable insights from data across a broad \n",
      "range of application domains\n",
      "100\n"
     ]
    }
   ],
   "source": [
    "data = \"\"\"Data science is an interdisciplinary field that uses scientific methods, \n",
    "processes, algorithms and systems to extract knowledge and insights from noisy, structured \n",
    "and unstructured data, and apply knowledge and actionable insights from data across a broad \n",
    "range of application domains\"\"\" \n",
    "\n",
    "\"\"\"Data science is an interdisciplinary field that uses scientific methods, \n",
    "processes, algorithms and systems to extract knowledge and insights from noisy, structured \n",
    "and unstructured data, and apply knowledge and actionable insights from data across a broad \n",
    "range of application domains\"\"\" \n",
    "\n",
    "# Data science is an interdisciplinary\n",
    "# algorithms and systems\n",
    "print(data)\n",
    "\n",
    "x = 100\n",
    "print(x)"
   ]
  },
  {
   "cell_type": "markdown",
   "id": "forbidden-controversy",
   "metadata": {},
   "source": [
    "# Escape Char"
   ]
  },
  {
   "cell_type": "code",
   "execution_count": null,
   "id": "criminal-minimum",
   "metadata": {},
   "outputs": [],
   "source": [
    "backslash(\\) >> Escape char"
   ]
  },
  {
   "cell_type": "code",
   "execution_count": 40,
   "id": "miniature-passenger",
   "metadata": {},
   "outputs": [
    {
     "data": {
      "text/plain": [
       "\"python's class\""
      ]
     },
     "execution_count": 40,
     "metadata": {},
     "output_type": "execute_result"
    }
   ],
   "source": [
    "string = 'python\\'s class'\n",
    "string"
   ]
  },
  {
   "cell_type": "code",
   "execution_count": 43,
   "id": "trained-dubai",
   "metadata": {},
   "outputs": [
    {
     "name": "stdout",
     "output_type": "stream",
     "text": [
      "We are learning \"Python\" and Data Science\n"
     ]
    }
   ],
   "source": [
    "string = \"We are learning \\\"Python\\\" and Data Science\"\n",
    "print(string)"
   ]
  },
  {
   "cell_type": "code",
   "execution_count": 46,
   "id": "inappropriate-miami",
   "metadata": {},
   "outputs": [
    {
     "name": "stdout",
     "output_type": "stream",
     "text": [
      "We are learning \"Python\" and Data Science\n"
     ]
    }
   ],
   "source": [
    "string = 'We are learning \"Python\" and Data Science'\n",
    "print(string)"
   ]
  },
  {
   "cell_type": "markdown",
   "id": "elegant-registrar",
   "metadata": {},
   "source": [
    "## \\n >> New Line"
   ]
  },
  {
   "cell_type": "code",
   "execution_count": 48,
   "id": "becoming-salad",
   "metadata": {},
   "outputs": [
    {
     "name": "stdout",
     "output_type": "stream",
     "text": [
      "python\n",
      "Class\n"
     ]
    }
   ],
   "source": [
    "a = \"python\"\n",
    "b = 'Class'\n",
    "print(a)\n",
    "print(b)"
   ]
  },
  {
   "cell_type": "code",
   "execution_count": 58,
   "id": "worse-edward",
   "metadata": {},
   "outputs": [
    {
     "name": "stdout",
     "output_type": "stream",
     "text": [
      "python\n",
      "Class\n"
     ]
    }
   ],
   "source": [
    "a = \"python\"\n",
    "b = 'Class'\n",
    "print(a, end = '\\n')\n",
    "print(b)"
   ]
  },
  {
   "cell_type": "code",
   "execution_count": 65,
   "id": "married-genetics",
   "metadata": {},
   "outputs": [
    {
     "name": "stdout",
     "output_type": "stream",
     "text": [
      "python Class ++ "
     ]
    }
   ],
   "source": [
    "a = \"python\"\n",
    "b = 'Class'\n",
    "print(a,b, end = ' ++ ')\n",
    "# print(b)"
   ]
  },
  {
   "cell_type": "code",
   "execution_count": 76,
   "id": "naked-listing",
   "metadata": {},
   "outputs": [
    {
     "name": "stdout",
     "output_type": "stream",
     "text": [
      "python\n",
      "Class\n"
     ]
    }
   ],
   "source": [
    "a = \"python\"\n",
    "b = 'Class'\n",
    "print(a,end = '\\n')\n",
    "print(b)"
   ]
  },
  {
   "cell_type": "code",
   "execution_count": 77,
   "id": "auburn-crystal",
   "metadata": {},
   "outputs": [
    {
     "name": "stdout",
     "output_type": "stream",
     "text": [
      "python Class\n"
     ]
    }
   ],
   "source": [
    "a = \"python\"\n",
    "b = 'Class'\n",
    "print(a,b,end = '\\n')\n"
   ]
  },
  {
   "cell_type": "code",
   "execution_count": 57,
   "id": "established-tunisia",
   "metadata": {},
   "outputs": [
    {
     "name": "stdout",
     "output_type": "stream",
     "text": [
      "Data science is an interdisciplinary field that uses scientific \n",
      " methods, processes, algorithms and systems\n"
     ]
    }
   ],
   "source": [
    "string = 'Data science is an interdisciplinary field that uses scientific \\n methods, processes, algorithms and systems'\n",
    "print(string)"
   ]
  },
  {
   "cell_type": "code",
   "execution_count": null,
   "id": "prospective-texas",
   "metadata": {},
   "outputs": [],
   "source": [
    "string = 'Data science is an interdisciplinary field that uses scientific \\n methods, processes, algorithms and systems'\n",
    "print(string)"
   ]
  },
  {
   "cell_type": "code",
   "execution_count": 79,
   "id": "extreme-shower",
   "metadata": {},
   "outputs": [
    {
     "name": "stdout",
     "output_type": "stream",
     "text": [
      "\n",
      "data \n",
      " python\n"
     ]
    }
   ],
   "source": [
    "print('\\ndata \\n python')"
   ]
  },
  {
   "cell_type": "code",
   "execution_count": 81,
   "id": "reduced-machinery",
   "metadata": {},
   "outputs": [
    {
     "name": "stdout",
     "output_type": "stream",
     "text": [
      "\n",
      "data python\n"
     ]
    }
   ],
   "source": [
    "print('\\ndata python')"
   ]
  },
  {
   "cell_type": "code",
   "execution_count": 83,
   "id": "excessive-fleece",
   "metadata": {},
   "outputs": [
    {
     "name": "stdout",
     "output_type": "stream",
     "text": [
      "data python\n"
     ]
    }
   ],
   "source": [
    "print('data python')"
   ]
  },
  {
   "cell_type": "code",
   "execution_count": 86,
   "id": "superb-method",
   "metadata": {},
   "outputs": [
    {
     "name": "stdout",
     "output_type": "stream",
     "text": [
      "\n",
      "10 data python\n"
     ]
    }
   ],
   "source": [
    "a = 10\n",
    "print(f'\\n{a} data python')"
   ]
  },
  {
   "cell_type": "code",
   "execution_count": 88,
   "id": "sacred-buying",
   "metadata": {},
   "outputs": [
    {
     "name": "stdout",
     "output_type": "stream",
     "text": [
      "10 \n",
      "\n",
      " 20\n"
     ]
    }
   ],
   "source": [
    "a = 10\n",
    "b = 20\n",
    "print(a,'\\n\\n',b)"
   ]
  },
  {
   "cell_type": "code",
   "execution_count": 91,
   "id": "helpful-illustration",
   "metadata": {},
   "outputs": [
    {
     "name": "stdout",
     "output_type": "stream",
     "text": [
      "10++\n",
      "20\n"
     ]
    }
   ],
   "source": [
    "a = 10\n",
    "b = 20\n",
    "print(a,end = '++\\n')\n",
    "print(b)"
   ]
  },
  {
   "cell_type": "code",
   "execution_count": 93,
   "id": "orange-accountability",
   "metadata": {},
   "outputs": [
    {
     "name": "stdout",
     "output_type": "stream",
     "text": [
      "Value in variable a is  10\n"
     ]
    }
   ],
   "source": [
    "a = 10\n",
    "print(\"Value in variable a is \",a)"
   ]
  },
  {
   "cell_type": "code",
   "execution_count": 95,
   "id": "marked-liechtenstein",
   "metadata": {},
   "outputs": [
    {
     "name": "stdout",
     "output_type": "stream",
     "text": [
      "D:\\RahulK\\Velocity_Sep_21\u00009_09\n"
     ]
    }
   ],
   "source": [
    "path = \"D:\\RahulK\\Velocity_Sep_21\\09_09\"\n",
    "print(path)"
   ]
  },
  {
   "cell_type": "code",
   "execution_count": 97,
   "id": "ceramic-character",
   "metadata": {},
   "outputs": [
    {
     "name": "stdout",
     "output_type": "stream",
     "text": [
      "D:\\RahulK\\Velocity_Sep_21\n",
      "ewfolder\n"
     ]
    }
   ],
   "source": [
    "path = \"D:\\RahulK\\Velocity_Sep_21\\newfolder\"\n",
    "print(path)"
   ]
  },
  {
   "cell_type": "code",
   "execution_count": 99,
   "id": "cloudy-thing",
   "metadata": {},
   "outputs": [
    {
     "name": "stdout",
     "output_type": "stream",
     "text": [
      "D:\\RahulK\\Velocity_Sep_21\\newfolder\n"
     ]
    }
   ],
   "source": [
    "path = \"D:\\\\RahulK\\\\Velocity_Sep_21\\\\newfolder\"\n",
    "print(path)"
   ]
  },
  {
   "cell_type": "code",
   "execution_count": 101,
   "id": "gross-armstrong",
   "metadata": {},
   "outputs": [
    {
     "name": "stdout",
     "output_type": "stream",
     "text": [
      "D:\\RahulK\\Velocity_Sep_21\\newfolder\n"
     ]
    }
   ],
   "source": [
    "path = r\"D:\\RahulK\\Velocity_Sep_21\\newfolder\"\n",
    "print(path)"
   ]
  },
  {
   "cell_type": "code",
   "execution_count": 103,
   "id": "endangered-nicaragua",
   "metadata": {},
   "outputs": [
    {
     "name": "stdout",
     "output_type": "stream",
     "text": [
      "D:/RahulK/Velocity_Sep_21/newfolder\n"
     ]
    }
   ],
   "source": [
    "path = \"D:/RahulK/Velocity_Sep_21/newfolder\"\n",
    "print(path)"
   ]
  },
  {
   "cell_type": "markdown",
   "id": "flying-stereo",
   "metadata": {},
   "source": [
    "### \\t >> tab"
   ]
  },
  {
   "cell_type": "code",
   "execution_count": 107,
   "id": "incomplete-sigma",
   "metadata": {},
   "outputs": [
    {
     "name": "stdout",
     "output_type": "stream",
     "text": [
      "datapython\n"
     ]
    }
   ],
   "source": [
    "string = 'datapython'\n",
    "print(string)"
   ]
  },
  {
   "cell_type": "code",
   "execution_count": 108,
   "id": "greatest-adoption",
   "metadata": {},
   "outputs": [
    {
     "name": "stdout",
     "output_type": "stream",
     "text": [
      "data\tpython\n"
     ]
    }
   ],
   "source": [
    "string = 'data\\tpython'\n",
    "print(string)"
   ]
  },
  {
   "cell_type": "code",
   "execution_count": 110,
   "id": "intelligent-wound",
   "metadata": {},
   "outputs": [
    {
     "name": "stdout",
     "output_type": "stream",
     "text": [
      "<class 'pandas.core.frame.DataFrame'>\n",
      "RangeIndex: 303 entries, 0 to 302\n",
      "Data columns (total 14 columns):\n",
      " #   Column    Non-Null Count  Dtype  \n",
      "---  ------    --------------  -----  \n",
      " 0   age       303 non-null    int64  \n",
      " 1   sex       303 non-null    int64  \n",
      " 2   cp        303 non-null    int64  \n",
      " 3   trestbps  303 non-null    int64  \n",
      " 4   chol      303 non-null    int64  \n",
      " 5   fbs       303 non-null    int64  \n",
      " 6   restecg   303 non-null    int64  \n",
      " 7   thalach   303 non-null    int64  \n",
      " 8   exang     303 non-null    int64  \n",
      " 9   oldpeak   303 non-null    float64\n",
      " 10  slope     303 non-null    int64  \n",
      " 11  ca        303 non-null    int64  \n",
      " 12  thal      303 non-null    int64  \n",
      " 13  target    303 non-null    int64  \n",
      "dtypes: float64(1), int64(13)\n",
      "memory usage: 33.3 KB\n"
     ]
    }
   ],
   "source": [
    "import pandas as pd\n",
    "df = pd.read_csv('heart.csv')\n",
    "df.info()"
   ]
  }
 ],
 "metadata": {
  "kernelspec": {
   "display_name": "Python 3",
   "language": "python",
   "name": "python3"
  },
  "language_info": {
   "codemirror_mode": {
    "name": "ipython",
    "version": 3
   },
   "file_extension": ".py",
   "mimetype": "text/x-python",
   "name": "python",
   "nbconvert_exporter": "python",
   "pygments_lexer": "ipython3",
   "version": "3.8.7"
  }
 },
 "nbformat": 4,
 "nbformat_minor": 5
}
