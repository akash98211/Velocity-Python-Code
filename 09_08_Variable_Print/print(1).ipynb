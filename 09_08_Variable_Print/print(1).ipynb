{
 "cells": [
  {
   "cell_type": "code",
   "execution_count": 2,
   "id": "occupied-template",
   "metadata": {},
   "outputs": [
    {
     "name": "stdout",
     "output_type": "stream",
     "text": [
      "Pune\n"
     ]
    }
   ],
   "source": [
    "x = 'Pune'\n",
    "print(x)"
   ]
  },
  {
   "cell_type": "code",
   "execution_count": 6,
   "id": "technical-alias",
   "metadata": {},
   "outputs": [
    {
     "name": "stdout",
     "output_type": "stream",
     "text": [
      "Value in variable is \n"
     ]
    }
   ],
   "source": [
    "print(\"Value in variable is \")"
   ]
  },
  {
   "cell_type": "code",
   "execution_count": 9,
   "id": "ahead-serbia",
   "metadata": {},
   "outputs": [
    {
     "name": "stdout",
     "output_type": "stream",
     "text": [
      "Value in x variable is  Pune\n"
     ]
    }
   ],
   "source": [
    "print(\"Value in x variable is \",x)"
   ]
  },
  {
   "cell_type": "code",
   "execution_count": 5,
   "id": "furnished-throw",
   "metadata": {},
   "outputs": [
    {
     "name": "stdout",
     "output_type": "stream",
     "text": [
      "Hello\n"
     ]
    }
   ],
   "source": [
    "print(\"Hello\")"
   ]
  },
  {
   "cell_type": "code",
   "execution_count": 11,
   "id": "likely-adolescent",
   "metadata": {},
   "outputs": [
    {
     "data": {
      "text/plain": [
       "30"
      ]
     },
     "execution_count": 11,
     "metadata": {},
     "output_type": "execute_result"
    }
   ],
   "source": [
    "a = 10\n",
    "b = 20\n",
    "a+b"
   ]
  },
  {
   "cell_type": "code",
   "execution_count": 13,
   "id": "isolated-public",
   "metadata": {},
   "outputs": [
    {
     "name": "stdout",
     "output_type": "stream",
     "text": [
      "Addition of a and b is : 30\n"
     ]
    }
   ],
   "source": [
    "a = 10\n",
    "b = 20\n",
    "print(\"Addition of a and b is :\",a+b)"
   ]
  },
  {
   "cell_type": "code",
   "execution_count": 15,
   "id": "medieval-richards",
   "metadata": {},
   "outputs": [
    {
     "name": "stdout",
     "output_type": "stream",
     "text": [
      "Addition of 10 and 20 is : 30\n"
     ]
    }
   ],
   "source": [
    "a = 10\n",
    "b = 20\n",
    "print(\"Addition of 10 and 20 is :\",a+b)"
   ]
  },
  {
   "cell_type": "code",
   "execution_count": 17,
   "id": "happy-authority",
   "metadata": {},
   "outputs": [
    {
     "name": "stdout",
     "output_type": "stream",
     "text": [
      "Addition of 10 and 20 is : 40\n"
     ]
    }
   ],
   "source": [
    "a = 10\n",
    "b = 30\n",
    "print(\"Addition of 10 and 20 is :\",a+b)"
   ]
  },
  {
   "cell_type": "code",
   "execution_count": 19,
   "id": "small-rebel",
   "metadata": {},
   "outputs": [
    {
     "name": "stdout",
     "output_type": "stream",
     "text": [
      "Addition of 10 and 30 is : 40\n"
     ]
    }
   ],
   "source": [
    "a = 10\n",
    "b = 30\n",
    "print(f\"Addition of {a} and {b} is :\",a+b)"
   ]
  },
  {
   "cell_type": "code",
   "execution_count": 21,
   "id": "lovely-confidence",
   "metadata": {},
   "outputs": [
    {
     "name": "stdout",
     "output_type": "stream",
     "text": [
      "Addition of 20 and 30 is : 50\n"
     ]
    }
   ],
   "source": [
    "a = 20\n",
    "b = 30\n",
    "print(f\"Addition of {a} and {b} is : {a+b}\")"
   ]
  },
  {
   "cell_type": "code",
   "execution_count": 23,
   "id": "first-authorization",
   "metadata": {},
   "outputs": [
    {
     "name": "stdout",
     "output_type": "stream",
     "text": [
      "Addition of 20 and 30 is : 50\n"
     ]
    }
   ],
   "source": [
    "a = 20\n",
    "b = 30\n",
    "print(\"Addition of {} and {} is : {}\".format(a,b,a+b))"
   ]
  },
  {
   "cell_type": "code",
   "execution_count": 27,
   "id": "certain-option",
   "metadata": {},
   "outputs": [
    {
     "name": "stdout",
     "output_type": "stream",
     "text": [
      "The value in x is python\n"
     ]
    }
   ],
   "source": [
    "x = 'python'\n",
    "y = 'class'\n",
    "print(f\"The value in x is {x}\")"
   ]
  },
  {
   "cell_type": "code",
   "execution_count": 29,
   "id": "collected-stationery",
   "metadata": {},
   "outputs": [
    {
     "name": "stdout",
     "output_type": "stream",
     "text": [
      "The value in x is python\n"
     ]
    }
   ],
   "source": [
    "x = 'python'\n",
    "y = 'class'\n",
    "print(\"The value in x is {}\".format(x))"
   ]
  },
  {
   "cell_type": "code",
   "execution_count": 34,
   "id": "joined-hamilton",
   "metadata": {},
   "outputs": [
    {
     "name": "stdout",
     "output_type": "stream",
     "text": [
      "The value in x == python\n"
     ]
    }
   ],
   "source": [
    "x = 'python'\n",
    "y = 'class'\n",
    "print(f\"The value in x == {x}\")"
   ]
  },
  {
   "cell_type": "code",
   "execution_count": 36,
   "id": "antique-envelope",
   "metadata": {},
   "outputs": [
    {
     "name": "stdout",
     "output_type": "stream",
     "text": [
      "The value in y == class\n"
     ]
    }
   ],
   "source": [
    "x = 'python'\n",
    "y = 'class'\n",
    "print(f\"The value in y == {y}\")"
   ]
  },
  {
   "cell_type": "code",
   "execution_count": 41,
   "id": "compressed-pillow",
   "metadata": {},
   "outputs": [
    {
     "name": "stdout",
     "output_type": "stream",
     "text": [
      "The value in x == class and y == python\n"
     ]
    }
   ],
   "source": [
    "x = 'python'\n",
    "y = 'class'\n",
    "print(f\"The value in x == {y} and y == {x}\")"
   ]
  },
  {
   "cell_type": "code",
   "execution_count": 42,
   "id": "opening-salvation",
   "metadata": {},
   "outputs": [
    {
     "name": "stdout",
     "output_type": "stream",
     "text": [
      "The value in x == python and y == class\n"
     ]
    }
   ],
   "source": [
    "x = 'python'\n",
    "y = 'class'\n",
    "print(f\"The value in x == {x} and y == {y}\")"
   ]
  },
  {
   "cell_type": "code",
   "execution_count": 53,
   "id": "parliamentary-insurance",
   "metadata": {},
   "outputs": [
    {
     "name": "stdout",
     "output_type": "stream",
     "text": [
      "x = 10  y == 100.5, z === 34\n"
     ]
    }
   ],
   "source": [
    "x = 10\n",
    "y = 100.5\n",
    "z = 34\n",
    "print(f\"x = {x}  y == {y}, z === {z}\")"
   ]
  },
  {
   "cell_type": "code",
   "execution_count": 46,
   "id": "requested-underground",
   "metadata": {},
   "outputs": [],
   "source": [
    "# % operator"
   ]
  },
  {
   "cell_type": "code",
   "execution_count": 48,
   "id": "utility-choice",
   "metadata": {},
   "outputs": [
    {
     "name": "stdout",
     "output_type": "stream",
     "text": [
      "x = 10 \n"
     ]
    }
   ],
   "source": [
    "x = 10\n",
    "y = 100\n",
    "z = 34\n",
    "print(\"x = %d \" %x)"
   ]
  },
  {
   "cell_type": "code",
   "execution_count": 51,
   "id": "divine-feelings",
   "metadata": {},
   "outputs": [
    {
     "name": "stdout",
     "output_type": "stream",
     "text": [
      "5 = 100.500000 \n"
     ]
    }
   ],
   "source": [
    "x = 10\n",
    "y = 100.5\n",
    "z = 34\n",
    "print(\"5 = %f \" %y)"
   ]
  },
  {
   "cell_type": "code",
   "execution_count": 52,
   "id": "prostate-object",
   "metadata": {},
   "outputs": [
    {
     "name": "stdout",
     "output_type": "stream",
     "text": [
      "y = 100 \n"
     ]
    }
   ],
   "source": [
    "x = 10\n",
    "y = 100.5\n",
    "z = 34\n",
    "print(\"y = %d \" %y)"
   ]
  },
  {
   "cell_type": "code",
   "execution_count": 54,
   "id": "coupled-inflation",
   "metadata": {},
   "outputs": [],
   "source": [
    "# Escape char"
   ]
  },
  {
   "cell_type": "code",
   "execution_count": 59,
   "id": "solid-peace",
   "metadata": {},
   "outputs": [
    {
     "name": "stdout",
     "output_type": "stream",
     "text": [
      "<class 'float'>\n",
      "value in x == 10, \n",
      "value in y == 100.5\n"
     ]
    }
   ],
   "source": [
    "x = 10\n",
    "y = 100.5\n",
    "print(type(y))\n",
    "z = 34\n",
    "print(f\"value in x == {x}, \\nvalue in y == {y}\")"
   ]
  },
  {
   "cell_type": "code",
   "execution_count": 66,
   "id": "final-satin",
   "metadata": {},
   "outputs": [
    {
     "name": "stdout",
     "output_type": "stream",
     "text": [
      "Python\n",
      "class\n"
     ]
    }
   ],
   "source": [
    "print(\"Python\")\n",
    "print(\"class\")"
   ]
  },
  {
   "cell_type": "raw",
   "id": "perfect-transparency",
   "metadata": {},
   "source": [
    "shift + Tab >> Functionality of any function"
   ]
  },
  {
   "cell_type": "code",
   "execution_count": 68,
   "id": "approximate-platinum",
   "metadata": {},
   "outputs": [
    {
     "name": "stdout",
     "output_type": "stream",
     "text": [
      "Python\n",
      "class\n"
     ]
    }
   ],
   "source": [
    "print(\"Python\", end='\\n')\n",
    "print(\"class\")"
   ]
  },
  {
   "cell_type": "code",
   "execution_count": 71,
   "id": "inappropriate-foster",
   "metadata": {},
   "outputs": [
    {
     "name": "stdout",
     "output_type": "stream",
     "text": [
      "Data Science\n"
     ]
    }
   ],
   "source": [
    "print(\"Data\", end=' ')\n",
    "print(\"Science\")"
   ]
  },
  {
   "cell_type": "code",
   "execution_count": 76,
   "id": "integrated-survival",
   "metadata": {},
   "outputs": [
    {
     "name": "stdout",
     "output_type": "stream",
     "text": [
      "Data++Science $$ Machine Learning\n"
     ]
    }
   ],
   "source": [
    "print(\"Data\", end='++')\n",
    "print(\"Science\",end = ' $$ ')\n",
    "print(\"Machine Learning\")"
   ]
  },
  {
   "cell_type": "code",
   "execution_count": null,
   "id": "overhead-appointment",
   "metadata": {},
   "outputs": [],
   "source": [
    "print(\"1234567\", end='++')\n",
    "print(\"Science\",end = ' $$ ')\n",
    "print(\"Machine Learning\")"
   ]
  },
  {
   "cell_type": "code",
   "execution_count": 78,
   "id": "adjusted-tiger",
   "metadata": {},
   "outputs": [
    {
     "data": {
      "text/plain": [
       "str"
      ]
     },
     "execution_count": 78,
     "metadata": {},
     "output_type": "execute_result"
    }
   ],
   "source": [
    "a = \"2345678\"\n",
    "type(a)"
   ]
  },
  {
   "cell_type": "code",
   "execution_count": 79,
   "id": "divine-lodging",
   "metadata": {},
   "outputs": [
    {
     "data": {
      "text/plain": [
       "int"
      ]
     },
     "execution_count": 79,
     "metadata": {},
     "output_type": "execute_result"
    }
   ],
   "source": [
    "a = 34\n",
    "type(a)"
   ]
  },
  {
   "cell_type": "code",
   "execution_count": 80,
   "id": "elementary-stable",
   "metadata": {},
   "outputs": [
    {
     "name": "stdout",
     "output_type": "stream",
     "text": [
      "100\n"
     ]
    }
   ],
   "source": [
    "min = 100\n",
    "print(min)"
   ]
  },
  {
   "cell_type": "code",
   "execution_count": 83,
   "id": "sapphire-mention",
   "metadata": {},
   "outputs": [
    {
     "data": {
      "text/plain": [
       "7"
      ]
     },
     "execution_count": 83,
     "metadata": {},
     "output_type": "execute_result"
    }
   ],
   "source": [
    "l1 = [3,4,5,2,6,7,2,1]\n",
    "max(l1)"
   ]
  },
  {
   "cell_type": "code",
   "execution_count": 85,
   "id": "impressive-wilderness",
   "metadata": {},
   "outputs": [
    {
     "ename": "TypeError",
     "evalue": "'int' object is not callable",
     "output_type": "error",
     "traceback": [
      "\u001b[1;31m---------------------------------------------------------------------------\u001b[0m",
      "\u001b[1;31mTypeError\u001b[0m                                 Traceback (most recent call last)",
      "\u001b[1;32m<ipython-input-85-e84d2926cd4e>\u001b[0m in \u001b[0;36m<module>\u001b[1;34m\u001b[0m\n\u001b[0;32m      1\u001b[0m \u001b[0mmax\u001b[0m \u001b[1;33m=\u001b[0m \u001b[1;36m100\u001b[0m\u001b[1;33m\u001b[0m\u001b[1;33m\u001b[0m\u001b[0m\n\u001b[0;32m      2\u001b[0m \u001b[0ml1\u001b[0m \u001b[1;33m=\u001b[0m \u001b[1;33m[\u001b[0m\u001b[1;36m3\u001b[0m\u001b[1;33m,\u001b[0m\u001b[1;36m4\u001b[0m\u001b[1;33m,\u001b[0m\u001b[1;36m5\u001b[0m\u001b[1;33m,\u001b[0m\u001b[1;36m2\u001b[0m\u001b[1;33m,\u001b[0m\u001b[1;36m6\u001b[0m\u001b[1;33m,\u001b[0m\u001b[1;36m7\u001b[0m\u001b[1;33m,\u001b[0m\u001b[1;36m2\u001b[0m\u001b[1;33m,\u001b[0m\u001b[1;36m1\u001b[0m\u001b[1;33m]\u001b[0m\u001b[1;33m\u001b[0m\u001b[1;33m\u001b[0m\u001b[0m\n\u001b[1;32m----> 3\u001b[1;33m \u001b[0mmax\u001b[0m\u001b[1;33m(\u001b[0m\u001b[0ml1\u001b[0m\u001b[1;33m)\u001b[0m\u001b[1;33m\u001b[0m\u001b[1;33m\u001b[0m\u001b[0m\n\u001b[0m",
      "\u001b[1;31mTypeError\u001b[0m: 'int' object is not callable"
     ]
    }
   ],
   "source": [
    "max = 100\n",
    "l1 = [3,4,5,2,6,7,2,1]\n",
    "max(l1)"
   ]
  },
  {
   "cell_type": "code",
   "execution_count": 87,
   "id": "exempt-insured",
   "metadata": {},
   "outputs": [
    {
     "data": {
      "text/plain": [
       "30"
      ]
     },
     "execution_count": 87,
     "metadata": {},
     "output_type": "execute_result"
    }
   ],
   "source": [
    "sum(l1)\n",
    "Sum = 123\n",
    "sum(l1)"
   ]
  }
 ],
 "metadata": {
  "kernelspec": {
   "display_name": "Python 3",
   "language": "python",
   "name": "python3"
  },
  "language_info": {
   "codemirror_mode": {
    "name": "ipython",
    "version": 3
   },
   "file_extension": ".py",
   "mimetype": "text/x-python",
   "name": "python",
   "nbconvert_exporter": "python",
   "pygments_lexer": "ipython3",
   "version": "3.8.7"
  }
 },
 "nbformat": 4,
 "nbformat_minor": 5
}
