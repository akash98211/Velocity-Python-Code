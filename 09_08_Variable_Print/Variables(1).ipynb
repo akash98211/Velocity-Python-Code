{
 "cells": [
  {
   "cell_type": "markdown",
   "id": "historical-cedar",
   "metadata": {},
   "source": [
    "# Variables"
   ]
  },
  {
   "cell_type": "code",
   "execution_count": null,
   "id": "norwegian-convention",
   "metadata": {},
   "outputs": [],
   "source": [
    "Python has no command to declare variable\n",
    "Used to store value(numerical, dict, sequence)\n",
    "\n",
    "No need to specify data types of variables\n",
    "\n",
    "equal operator is used to assign value to variable"
   ]
  },
  {
   "cell_type": "code",
   "execution_count": 8,
   "id": "antique-israel",
   "metadata": {},
   "outputs": [
    {
     "name": "stdout",
     "output_type": "stream",
     "text": [
      "<class 'complex'>\n"
     ]
    },
    {
     "data": {
      "text/plain": [
       "complex"
      ]
     },
     "execution_count": 8,
     "metadata": {},
     "output_type": "execute_result"
    }
   ],
   "source": [
    "string = \"python\"\n",
    "a = 100\n",
    "b = 10.35\n",
    "l1 = [3,5,7,8]\n",
    "type(b)\n",
    "c = 4 + 5j\n",
    "print(type(c))\n",
    "type(c)"
   ]
  },
  {
   "cell_type": "code",
   "execution_count": 9,
   "id": "several-boards",
   "metadata": {},
   "outputs": [
    {
     "name": "stdout",
     "output_type": "stream",
     "text": [
      "200\n"
     ]
    }
   ],
   "source": [
    "abc = 200\n",
    "print(abc)"
   ]
  },
  {
   "cell_type": "code",
   "execution_count": 12,
   "id": "smooth-shepherd",
   "metadata": {},
   "outputs": [
    {
     "name": "stdout",
     "output_type": "stream",
     "text": [
      "200\n"
     ]
    }
   ],
   "source": [
    "abc = 200\n",
    "print(abc)"
   ]
  },
  {
   "cell_type": "markdown",
   "id": "passing-instrument",
   "metadata": {},
   "source": [
    "# Rules to Define Variable"
   ]
  },
  {
   "cell_type": "raw",
   "id": "toxic-orange",
   "metadata": {},
   "source": [
    "1. Variable name must start with alphabet(A-Z, a-z) or underscore(_)\n",
    "\n",
    "2. Case Sensitive (name, NAME , Name all variables are different )\n",
    "\n",
    "3. All char may be alphanumeric (a-z, A-Z, 0-9) or underscore(_)\n",
    "\n",
    "4. Must not contain any special character(@, #, $, %, ^, &, * ,dot,..)\n",
    "                                          \n",
    "5. Do not use reserved words (any, if, max, elif, class, def , break, continue, try, except, ...)"
   ]
  },
  {
   "cell_type": "code",
   "execution_count": 18,
   "id": "located-trading",
   "metadata": {},
   "outputs": [
    {
     "name": "stdout",
     "output_type": "stream",
     "text": [
      "2000\n"
     ]
    },
    {
     "data": {
      "text/plain": [
       "3000"
      ]
     },
     "execution_count": 18,
     "metadata": {},
     "output_type": "execute_result"
    }
   ],
   "source": [
    "myvar = 1000\n",
    "__myvar = 2000\n",
    "print(__myvar)\n",
    "\n",
    "MyVar = 3000\n",
    "MyVar"
   ]
  },
  {
   "cell_type": "code",
   "execution_count": 19,
   "id": "interim-journey",
   "metadata": {},
   "outputs": [
    {
     "name": "stdout",
     "output_type": "stream",
     "text": [
      "python\n",
      "Class\n"
     ]
    }
   ],
   "source": [
    "MyVar = 'python'\n",
    "myvar = 'Class'\n",
    "print(MyVar)\n",
    "print(myvar)"
   ]
  },
  {
   "cell_type": "code",
   "execution_count": 22,
   "id": "intellectual-purpose",
   "metadata": {},
   "outputs": [
    {
     "name": "stdout",
     "output_type": "stream",
     "text": [
      "python\n",
      "Class\n"
     ]
    }
   ],
   "source": [
    "Myvar = 'python'\n",
    "myvar = 'Class'\n",
    "print(Myvar)\n",
    "print(myvar)"
   ]
  },
  {
   "cell_type": "code",
   "execution_count": 24,
   "id": "dirty-brain",
   "metadata": {},
   "outputs": [
    {
     "name": "stdout",
     "output_type": "stream",
     "text": [
      "Class\n",
      "Class\n"
     ]
    }
   ],
   "source": [
    "myvar = 'python'\n",
    "myvar = 'Class'\n",
    "print(myvar)\n",
    "print(myvar)"
   ]
  },
  {
   "cell_type": "code",
   "execution_count": 25,
   "id": "superior-favor",
   "metadata": {},
   "outputs": [
    {
     "name": "stdout",
     "output_type": "stream",
     "text": [
      "Class\n",
      "Class\n"
     ]
    }
   ],
   "source": [
    "myvar = \"python\"\n",
    "myvar = \"Class\"\n",
    "print(myvar)\n",
    "print(myvar)"
   ]
  },
  {
   "cell_type": "code",
   "execution_count": 26,
   "id": "wicked-appointment",
   "metadata": {},
   "outputs": [
    {
     "name": "stdout",
     "output_type": "stream",
     "text": [
      "python\n",
      "Class\n",
      "Class\n"
     ]
    }
   ],
   "source": [
    "a = \"python\"  # Assigning string to a variable\n",
    "print(a)  # 'python'\n",
    "a = \"Class\"  # 'Class'\n",
    "print(a)\n",
    "print(a)"
   ]
  },
  {
   "cell_type": "code",
   "execution_count": 30,
   "id": "knowing-burst",
   "metadata": {},
   "outputs": [
    {
     "name": "stdout",
     "output_type": "stream",
     "text": [
      "200\n",
      "300\n",
      "300\n"
     ]
    }
   ],
   "source": [
    "x = 200\n",
    "print(x)\n",
    "\n",
    "x = 300\n",
    "print(x)\n",
    "\n",
    "print(x)"
   ]
  },
  {
   "cell_type": "code",
   "execution_count": 36,
   "id": "foster-merchant",
   "metadata": {},
   "outputs": [
    {
     "name": "stdout",
     "output_type": "stream",
     "text": [
      "Data Science\n",
      "Machine Learning\n"
     ]
    }
   ],
   "source": [
    "MyVar ='Data Science'\n",
    "print(MyVar)\n",
    "\n",
    "MyVar123 ='Machine Learning'\n",
    "print(MyVar123)"
   ]
  },
  {
   "cell_type": "code",
   "execution_count": 39,
   "id": "automotive-production",
   "metadata": {},
   "outputs": [
    {
     "name": "stdout",
     "output_type": "stream",
     "text": [
      "Machine Learning\n"
     ]
    }
   ],
   "source": [
    "MyVar_123 ='Machine Learning'\n",
    "print(MyVar_123)"
   ]
  },
  {
   "cell_type": "code",
   "execution_count": 40,
   "id": "ongoing-morocco",
   "metadata": {},
   "outputs": [
    {
     "name": "stdout",
     "output_type": "stream",
     "text": [
      "Machine Learning\n"
     ]
    }
   ],
   "source": [
    "My_Var_123 ='Machine Learning'\n",
    "print(My_Var_123)"
   ]
  },
  {
   "cell_type": "code",
   "execution_count": 43,
   "id": "electoral-efficiency",
   "metadata": {},
   "outputs": [],
   "source": [
    "# My@Var = 'Deep Learning'\n",
    "My_Var = 'Deep Learning'\n"
   ]
  },
  {
   "cell_type": "code",
   "execution_count": 45,
   "id": "played-experiment",
   "metadata": {},
   "outputs": [
    {
     "data": {
      "text/plain": [
       "'Python and Data science'"
      ]
     },
     "execution_count": 45,
     "metadata": {},
     "output_type": "execute_result"
    }
   ],
   "source": [
    "myvar1234 = 'Python and Data science'\n",
    "myvar1234"
   ]
  },
  {
   "cell_type": "code",
   "execution_count": 47,
   "id": "fitted-assistant",
   "metadata": {},
   "outputs": [
    {
     "data": {
      "text/plain": [
       "'Python and Data science'"
      ]
     },
     "execution_count": 47,
     "metadata": {},
     "output_type": "execute_result"
    }
   ],
   "source": [
    "myvar_1234 = 'Python and Data science'\n",
    "myvar_1234"
   ]
  },
  {
   "cell_type": "code",
   "execution_count": 48,
   "id": "virtual-arnold",
   "metadata": {},
   "outputs": [
    {
     "ename": "SyntaxError",
     "evalue": "invalid syntax (<ipython-input-48-b160985dcaff>, line 1)",
     "output_type": "error",
     "traceback": [
      "\u001b[1;36m  File \u001b[1;32m\"<ipython-input-48-b160985dcaff>\"\u001b[1;36m, line \u001b[1;32m1\u001b[0m\n\u001b[1;33m    1234myvar = 'Python and Data science'\u001b[0m\n\u001b[1;37m        ^\u001b[0m\n\u001b[1;31mSyntaxError\u001b[0m\u001b[1;31m:\u001b[0m invalid syntax\n"
     ]
    }
   ],
   "source": [
    "1234myvar = 'Python and Data science'\n",
    "1234myvar"
   ]
  },
  {
   "cell_type": "code",
   "execution_count": 49,
   "id": "underlying-validation",
   "metadata": {},
   "outputs": [
    {
     "ename": "SyntaxError",
     "evalue": "invalid syntax (<ipython-input-49-f9661e0434ca>, line 1)",
     "output_type": "error",
     "traceback": [
      "\u001b[1;36m  File \u001b[1;32m\"<ipython-input-49-f9661e0434ca>\"\u001b[1;36m, line \u001b[1;32m1\u001b[0m\n\u001b[1;33m    myvar.1234 = 'Python and Data science'\u001b[0m\n\u001b[1;37m         ^\u001b[0m\n\u001b[1;31mSyntaxError\u001b[0m\u001b[1;31m:\u001b[0m invalid syntax\n"
     ]
    }
   ],
   "source": [
    "myvar.1234 = 'Python and Data science'\n",
    "myvar.1234"
   ]
  },
  {
   "cell_type": "code",
   "execution_count": 52,
   "id": "israeli-alarm",
   "metadata": {},
   "outputs": [
    {
     "ename": "SyntaxError",
     "evalue": "invalid syntax (<ipython-input-52-efc07f5b9db1>, line 2)",
     "output_type": "error",
     "traceback": [
      "\u001b[1;36m  File \u001b[1;32m\"<ipython-input-52-efc07f5b9db1>\"\u001b[1;36m, line \u001b[1;32m2\u001b[0m\n\u001b[1;33m    elif ='python'\u001b[0m\n\u001b[1;37m    ^\u001b[0m\n\u001b[1;31mSyntaxError\u001b[0m\u001b[1;31m:\u001b[0m invalid syntax\n"
     ]
    }
   ],
   "source": [
    "if = 'Python'\n",
    "elif ='python'\n",
    "import = 'Python'"
   ]
  },
  {
   "cell_type": "code",
   "execution_count": 54,
   "id": "married-genome",
   "metadata": {},
   "outputs": [
    {
     "ename": "SyntaxError",
     "evalue": "invalid syntax (<ipython-input-54-3b2e15c195d0>, line 1)",
     "output_type": "error",
     "traceback": [
      "\u001b[1;36m  File \u001b[1;32m\"<ipython-input-54-3b2e15c195d0>\"\u001b[1;36m, line \u001b[1;32m1\u001b[0m\n\u001b[1;33m    import = 'Python'\u001b[0m\n\u001b[1;37m           ^\u001b[0m\n\u001b[1;31mSyntaxError\u001b[0m\u001b[1;31m:\u001b[0m invalid syntax\n"
     ]
    }
   ],
   "source": [
    "import = 'Python'"
   ]
  },
  {
   "cell_type": "raw",
   "id": "uniform-dragon",
   "metadata": {},
   "source": [
    "myvar\n",
    "myVar\n",
    "MYVAR\n",
    "MyVar\n",
    "My_Var\n",
    "My__Var\n",
    "My^var  # Invalid\n",
    "My&Var  # Invalid\n",
    "myvariable\n",
    "Myvar1234\n",
    "123Myvar  # Invalid\n",
    "a\n",
    "b\n",
    "a_b\n",
    "abc\n",
    "_abc\n",
    "A_B_C\n",
    "myV@r  # Invalid\n",
    "any  # Invalid\n",
    "MYVAR123\n",
    "import  # Invalid\n",
    "elif # Invalid\n",
    "Any # Valid\n",
    "Import # Valid"
   ]
  },
  {
   "cell_type": "markdown",
   "id": "running-killer",
   "metadata": {},
   "source": [
    "# Types of Variable"
   ]
  },
  {
   "cell_type": "code",
   "execution_count": null,
   "id": "chronic-missile",
   "metadata": {},
   "outputs": [],
   "source": [
    "1. global Varible # Declared outside function\n",
    "2. Local Variable # Declared inside function"
   ]
  },
  {
   "cell_type": "code",
   "execution_count": 59,
   "id": "guilty-genius",
   "metadata": {},
   "outputs": [
    {
     "name": "stdout",
     "output_type": "stream",
     "text": [
      "x1 ==  300\n",
      "200\n"
     ]
    },
    {
     "ename": "NameError",
     "evalue": "name 'x1' is not defined",
     "output_type": "error",
     "traceback": [
      "\u001b[1;31m---------------------------------------------------------------------------\u001b[0m",
      "\u001b[1;31mNameError\u001b[0m                                 Traceback (most recent call last)",
      "\u001b[1;32m<ipython-input-59-b9f34f32e42f>\u001b[0m in \u001b[0;36m<module>\u001b[1;34m\u001b[0m\n\u001b[0;32m      8\u001b[0m \u001b[1;33m\u001b[0m\u001b[0m\n\u001b[0;32m      9\u001b[0m \u001b[0mprint\u001b[0m\u001b[1;33m(\u001b[0m\u001b[0ma\u001b[0m\u001b[1;33m)\u001b[0m\u001b[1;33m\u001b[0m\u001b[1;33m\u001b[0m\u001b[0m\n\u001b[1;32m---> 10\u001b[1;33m \u001b[0mprint\u001b[0m\u001b[1;33m(\u001b[0m\u001b[0mx1\u001b[0m\u001b[1;33m)\u001b[0m\u001b[1;33m\u001b[0m\u001b[1;33m\u001b[0m\u001b[0m\n\u001b[0m",
      "\u001b[1;31mNameError\u001b[0m: name 'x1' is not defined"
     ]
    }
   ],
   "source": [
    "a = 200  # global Var\n",
    "\n",
    "def my_fun():  # User defined function\n",
    "    x1 = 300  # Local Variable\n",
    "    print('x1 == ',x1)\n",
    "\n",
    "my_fun() # Calling function  \n",
    "\n",
    "print(a)\n",
    "print(x1)"
   ]
  },
  {
   "cell_type": "markdown",
   "id": "administrative-perception",
   "metadata": {},
   "source": [
    "# Assigning single value to multiple variable"
   ]
  },
  {
   "cell_type": "code",
   "execution_count": 68,
   "id": "aware-thickness",
   "metadata": {},
   "outputs": [
    {
     "name": "stdout",
     "output_type": "stream",
     "text": [
      "x = 10 , y == 10, z === 10\n"
     ]
    }
   ],
   "source": [
    "x = 10\n",
    "y = 10\n",
    "z = 10\n",
    "print(f\"x = {x} , y == {y}, z === {z}\")"
   ]
  },
  {
   "cell_type": "code",
   "execution_count": 64,
   "id": "existing-field",
   "metadata": {},
   "outputs": [
    {
     "name": "stdout",
     "output_type": "stream",
     "text": [
      "10\n",
      "10\n",
      "10\n"
     ]
    }
   ],
   "source": [
    "x = 10\n",
    "y = 10\n",
    "z = 10\n",
    "print(x)\n",
    "print(y)\n",
    "print(z)"
   ]
  },
  {
   "cell_type": "code",
   "execution_count": 66,
   "id": "distributed-eating",
   "metadata": {},
   "outputs": [
    {
     "name": "stdout",
     "output_type": "stream",
     "text": [
      "50\n",
      "50\n",
      "50\n"
     ]
    }
   ],
   "source": [
    "a = b = c = 50\n",
    "print(a)\n",
    "print(b)\n",
    "print(c)"
   ]
  },
  {
   "cell_type": "code",
   "execution_count": 97,
   "id": "flying-photography",
   "metadata": {},
   "outputs": [
    {
     "name": "stdout",
     "output_type": "stream",
     "text": [
      "Data\n",
      "Data\n",
      "Data\n",
      "Data Data Data\n"
     ]
    }
   ],
   "source": [
    "a = b = c = 'Data'\n",
    "print(a)\n",
    "print(b)\n",
    "print(c)\n",
    "print(a,b,c)"
   ]
  },
  {
   "cell_type": "markdown",
   "id": "cellular-millennium",
   "metadata": {},
   "source": [
    "# Multiple Values to multiple variable"
   ]
  },
  {
   "cell_type": "code",
   "execution_count": 70,
   "id": "minute-chrome",
   "metadata": {},
   "outputs": [
    {
     "name": "stdout",
     "output_type": "stream",
     "text": [
      "10 20 Python\n"
     ]
    }
   ],
   "source": [
    "a = 10\n",
    "b = 20\n",
    "c = 'Python'\n",
    "print(a,b,c)"
   ]
  },
  {
   "cell_type": "code",
   "execution_count": 71,
   "id": "horizontal-coral",
   "metadata": {},
   "outputs": [
    {
     "name": "stdout",
     "output_type": "stream",
     "text": [
      "10 20 Python\n"
     ]
    }
   ],
   "source": [
    "a = 10 ; b = 20 ; c = 'Python'\n",
    "print(a,b,c)"
   ]
  },
  {
   "cell_type": "code",
   "execution_count": 89,
   "id": "after-working",
   "metadata": {},
   "outputs": [],
   "source": [
    "l1 = [] ; l2 = []; l3 = []; l4 = []"
   ]
  },
  {
   "cell_type": "code",
   "execution_count": 90,
   "id": "inclusive-lemon",
   "metadata": {},
   "outputs": [
    {
     "data": {
      "text/plain": [
       "list"
      ]
     },
     "execution_count": 90,
     "metadata": {},
     "output_type": "execute_result"
    }
   ],
   "source": [
    "type(l1)"
   ]
  },
  {
   "cell_type": "code",
   "execution_count": 76,
   "id": "tracked-dispute",
   "metadata": {},
   "outputs": [
    {
     "name": "stdout",
     "output_type": "stream",
     "text": [
      "4 5\n"
     ]
    }
   ],
   "source": [
    "a = 4 ;  b = 5\n",
    "print(a,b)"
   ]
  },
  {
   "cell_type": "markdown",
   "id": "monetary-bahamas",
   "metadata": {},
   "source": [
    "# Delete Variable"
   ]
  },
  {
   "cell_type": "code",
   "execution_count": 79,
   "id": "rocky-warrior",
   "metadata": {},
   "outputs": [
    {
     "name": "stdout",
     "output_type": "stream",
     "text": [
      "Pune\n",
      "Pune\n"
     ]
    }
   ],
   "source": [
    "string = 'Pune'\n",
    "print(string)\n",
    "\n",
    "print(string)\n",
    "\n",
    "del string\n"
   ]
  },
  {
   "cell_type": "code",
   "execution_count": 81,
   "id": "developing-lover",
   "metadata": {},
   "outputs": [
    {
     "name": "stdout",
     "output_type": "stream",
     "text": [
      "3 4\n"
     ]
    },
    {
     "ename": "NameError",
     "evalue": "name 'b' is not defined",
     "output_type": "error",
     "traceback": [
      "\u001b[1;31m---------------------------------------------------------------------------\u001b[0m",
      "\u001b[1;31mNameError\u001b[0m                                 Traceback (most recent call last)",
      "\u001b[1;32m<ipython-input-81-b4c4c5efc444>\u001b[0m in \u001b[0;36m<module>\u001b[1;34m\u001b[0m\n\u001b[0;32m      3\u001b[0m \u001b[0mprint\u001b[0m\u001b[1;33m(\u001b[0m\u001b[0ma\u001b[0m\u001b[1;33m,\u001b[0m\u001b[0mb\u001b[0m\u001b[1;33m)\u001b[0m\u001b[1;33m\u001b[0m\u001b[1;33m\u001b[0m\u001b[0m\n\u001b[0;32m      4\u001b[0m \u001b[1;32mdel\u001b[0m \u001b[0ma\u001b[0m\u001b[1;33m,\u001b[0m\u001b[0mb\u001b[0m\u001b[1;33m\u001b[0m\u001b[1;33m\u001b[0m\u001b[0m\n\u001b[1;32m----> 5\u001b[1;33m \u001b[0mprint\u001b[0m\u001b[1;33m(\u001b[0m\u001b[0mb\u001b[0m\u001b[1;33m)\u001b[0m\u001b[1;33m\u001b[0m\u001b[1;33m\u001b[0m\u001b[0m\n\u001b[0m",
      "\u001b[1;31mNameError\u001b[0m: name 'b' is not defined"
     ]
    }
   ],
   "source": [
    "a = 3\n",
    "b = 4\n",
    "print(a,b)\n",
    "del a,b\n",
    "print(b)"
   ]
  },
  {
   "cell_type": "code",
   "execution_count": 88,
   "id": "humanitarian-coordinator",
   "metadata": {},
   "outputs": [
    {
     "name": "stdout",
     "output_type": "stream",
     "text": [
      "6\n",
      "[2, 3, 10.5, 4.5, 'python']\n",
      "5\n"
     ]
    }
   ],
   "source": [
    "list1 = [2,3,4,10.5,4.5,'python']\n",
    "print(len(list1))\n",
    "del list1[2]\n",
    "print(list1)\n",
    "print(len(list1))"
   ]
  },
  {
   "cell_type": "code",
   "execution_count": 92,
   "id": "entertaining-firmware",
   "metadata": {},
   "outputs": [
    {
     "name": "stdout",
     "output_type": "stream",
     "text": [
      "10 20\n"
     ]
    }
   ],
   "source": [
    "a = 10\n",
    "b = 20\n",
    "print(a,b)"
   ]
  },
  {
   "cell_type": "code",
   "execution_count": 94,
   "id": "contrary-elevation",
   "metadata": {},
   "outputs": [
    {
     "name": "stdout",
     "output_type": "stream",
     "text": [
      "10 20\n"
     ]
    }
   ],
   "source": [
    "a,b = 10,20\n",
    "\n",
    "print(a,b)"
   ]
  },
  {
   "cell_type": "code",
   "execution_count": 96,
   "id": "handy-browser",
   "metadata": {},
   "outputs": [
    {
     "name": "stdout",
     "output_type": "stream",
     "text": [
      "10 20 30\n"
     ]
    }
   ],
   "source": [
    "a,b,c = 10,20,30\n",
    "\n",
    "print(a,b,c)"
   ]
  }
 ],
 "metadata": {
  "kernelspec": {
   "display_name": "Python 3",
   "language": "python",
   "name": "python3"
  },
  "language_info": {
   "codemirror_mode": {
    "name": "ipython",
    "version": 3
   },
   "file_extension": ".py",
   "mimetype": "text/x-python",
   "name": "python",
   "nbconvert_exporter": "python",
   "pygments_lexer": "ipython3",
   "version": "3.8.7"
  }
 },
 "nbformat": 4,
 "nbformat_minor": 5
}
