{
 "cells": [
  {
   "cell_type": "markdown",
   "id": "usual-gregory",
   "metadata": {},
   "source": [
    "# If Else Statement"
   ]
  },
  {
   "cell_type": "code",
   "execution_count": null,
   "id": "wrong-feelings",
   "metadata": {},
   "outputs": [],
   "source": [
    "if \n",
    "if >> elif \n",
    "if >> elif >> else\n",
    "if >> else \n",
    "if >> elif >> ... >> elif >> else\n",
    "if >> else >> elif   ## Invalid\n",
    "if  >> else >> else ## Invalid\n",
    "elif >> else  # Invalid"
   ]
  },
  {
   "cell_type": "markdown",
   "id": "cosmetic-tattoo",
   "metadata": {},
   "source": [
    "# pass statement"
   ]
  },
  {
   "cell_type": "raw",
   "id": "ethical-yorkshire",
   "metadata": {},
   "source": [
    "Used to avoid error.\n",
    "If there is no statement in if/elif/else block. Then we can use pass statement"
   ]
  },
  {
   "cell_type": "code",
   "execution_count": 9,
   "id": "expressed-buffer",
   "metadata": {},
   "outputs": [
    {
     "name": "stdout",
     "output_type": "stream",
     "text": [
      "b is greater than a\n"
     ]
    }
   ],
   "source": [
    "a = 10\n",
    "b = 20\n",
    "if b > a: # True\n",
    "    print(\"b is greater than a\")\n",
    "    \n",
    "else:\n",
    "    print(\"b is less than a\")"
   ]
  },
  {
   "cell_type": "code",
   "execution_count": 13,
   "id": "promising-biodiversity",
   "metadata": {},
   "outputs": [],
   "source": [
    "a = 10\n",
    "b = 20\n",
    "if b > a: # True\n",
    "    pass\n",
    "    \n",
    "else:\n",
    "    print(\"b is less than a\")"
   ]
  },
  {
   "cell_type": "code",
   "execution_count": null,
   "id": "constitutional-airport",
   "metadata": {},
   "outputs": [],
   "source": []
  },
  {
   "cell_type": "code",
   "execution_count": 16,
   "id": "deluxe-soldier",
   "metadata": {},
   "outputs": [],
   "source": [
    "a = 100\n",
    "b = 20\n",
    "if b > a: # True\n",
    "    print(\"b is greater than a\")\n",
    "    \n",
    "else:\n",
    "    pass  # used to avoid errors\n",
    "#     print(\"b is less than a\")"
   ]
  },
  {
   "cell_type": "code",
   "execution_count": 18,
   "id": "stopped-prisoner",
   "metadata": {},
   "outputs": [],
   "source": [
    "a = 100\n",
    "b = 20\n",
    "if b > a: # True\n",
    "    print(\"b is greater than a\")\n",
    "else:\n",
    "    pass\n",
    "    "
   ]
  },
  {
   "cell_type": "raw",
   "id": "spanish-gospel",
   "metadata": {},
   "source": [
    "if condition:\n",
    "    statement1\n",
    "    statement2\n",
    "\n",
    "else:\n",
    "    statement1\n",
    "    statement2"
   ]
  },
  {
   "cell_type": "code",
   "execution_count": 46,
   "id": "touched-concern",
   "metadata": {},
   "outputs": [
    {
     "name": "stdout",
     "output_type": "stream",
     "text": [
      "b is greater than a\n"
     ]
    }
   ],
   "source": [
    "a = 100\n",
    "b = 200\n",
    "if b > a: # True\n",
    "    print(\"b is greater than a\")\n",
    "    pass\n",
    "else:\n",
    "    pass\n",
    "#     print('a is greater than b')\n"
   ]
  },
  {
   "cell_type": "code",
   "execution_count": 56,
   "id": "severe-windows",
   "metadata": {},
   "outputs": [
    {
     "name": "stdout",
     "output_type": "stream",
     "text": [
      "Completed\n"
     ]
    }
   ],
   "source": [
    "a = 100\n",
    "b = 20\n",
    "if b > a: # False\n",
    "    print(\"b is greater than a\")\n",
    "    print(\"Hello\")\n",
    "\n",
    "print(\"Completed\")\n"
   ]
  },
  {
   "cell_type": "markdown",
   "id": "brief-madagascar",
   "metadata": {},
   "source": [
    "# Nested if statements"
   ]
  },
  {
   "cell_type": "raw",
   "id": "hidden-sixth",
   "metadata": {},
   "source": [
    "if statement inside if statement, called nested if statement"
   ]
  },
  {
   "cell_type": "code",
   "execution_count": 60,
   "id": "acquired-gothic",
   "metadata": {},
   "outputs": [
    {
     "name": "stdout",
     "output_type": "stream",
     "text": [
      "x is greater than 80\n",
      "x is greater than 90\n"
     ]
    }
   ],
   "source": [
    "x = 100\n",
    "\n",
    "if x > 80:  # True\n",
    "    print('x is greater than 80')\n",
    "    if x > 90: # True\n",
    "        print('x is greater than 90')\n",
    "    else:\n",
    "        print('x is less than 90')\n",
    "        \n",
    "else:\n",
    "    print(\"x is less than 80\")"
   ]
  },
  {
   "cell_type": "code",
   "execution_count": 62,
   "id": "dense-terrain",
   "metadata": {},
   "outputs": [
    {
     "name": "stdout",
     "output_type": "stream",
     "text": [
      "x is greater than 80\n",
      "x is less than 90\n"
     ]
    }
   ],
   "source": [
    "x = 86\n",
    "\n",
    "if x > 80:  # True\n",
    "    print('x is greater than 80')\n",
    "    if x > 90: # False\n",
    "        print('x is greater than 90')\n",
    "    else:\n",
    "        print('x is less than 90')\n",
    "        \n",
    "else:\n",
    "    print(\"x is less than 80\")"
   ]
  },
  {
   "cell_type": "code",
   "execution_count": 64,
   "id": "complicated-collaboration",
   "metadata": {},
   "outputs": [
    {
     "name": "stdout",
     "output_type": "stream",
     "text": [
      "x is greater than 80\n",
      "x is greater than 90\n",
      "x is less than 95\n"
     ]
    }
   ],
   "source": [
    "x = 92\n",
    "\n",
    "if x > 80:  # True\n",
    "    print('x is greater than 80')\n",
    "    if x > 90: # True\n",
    "        print('x is greater than 90')\n",
    "        if x > 95: # False\n",
    "            print(\"x is greater than 95\")\n",
    "        else:\n",
    "            print(\"x is less than 95\")\n",
    "        \n",
    "    else:\n",
    "        print('x is less than 90')\n",
    "        \n",
    "else:\n",
    "    print(\"x is less than 80\")"
   ]
  },
  {
   "cell_type": "code",
   "execution_count": 65,
   "id": "marked-logic",
   "metadata": {},
   "outputs": [
    {
     "name": "stdout",
     "output_type": "stream",
     "text": [
      "x is less than 80\n"
     ]
    }
   ],
   "source": [
    "x = 75\n",
    "\n",
    "if x > 80:  # False\n",
    "    print('x is greater than 80')\n",
    "    if x > 90: # True\n",
    "        print('x is greater than 90')\n",
    "        if x > 95: # False\n",
    "            print(\"x is greater than 95\")\n",
    "        else:\n",
    "            print(\"x is less than 95\")\n",
    "        \n",
    "    else:\n",
    "        print('x is less than 90')\n",
    "        \n",
    "else:\n",
    "    print(\"x is less than 80\")"
   ]
  },
  {
   "cell_type": "code",
   "execution_count": null,
   "id": "comprehensive-association",
   "metadata": {},
   "outputs": [],
   "source": [
    "# Age, Salary, cibil_score , \n",
    "# Loan_Prediction >> Approved / Declined"
   ]
  },
  {
   "cell_type": "code",
   "execution_count": 67,
   "id": "tough-times",
   "metadata": {},
   "outputs": [
    {
     "name": "stdout",
     "output_type": "stream",
     "text": [
      "age is greater\n",
      "salary is greater than 40000\n",
      "Cibil score is greater than 700\n",
      "Loan is Approved\n"
     ]
    }
   ],
   "source": [
    "age = 25\n",
    "salary = 50000\n",
    "cibil_score = 750\n",
    "\n",
    "if age > 20: # True \n",
    "    print(\"age is greater\")\n",
    "    if salary > 40000: # True\n",
    "        print('salary is greater than 40000')\n",
    "        \n",
    "        if cibil_score > 700: # True\n",
    "            print(\"Cibil score is greater than 700\")\n",
    "            print(\"Loan is Approved\")\n",
    "            \n",
    "        else:\n",
    "            print(\"Declined due to CIBIL score\")\n",
    "            \n",
    "    else:\n",
    "        print('Declined due to salary')\n",
    "        \n",
    "else:\n",
    "    print(\"Declined due to Age\")"
   ]
  },
  {
   "cell_type": "code",
   "execution_count": 69,
   "id": "other-petroleum",
   "metadata": {},
   "outputs": [
    {
     "name": "stdout",
     "output_type": "stream",
     "text": [
      "age is greater than 20\n",
      "Declined due to salary\n"
     ]
    }
   ],
   "source": [
    "age = 25\n",
    "salary = 30000\n",
    "cibil_score = 750\n",
    "\n",
    "if age > 20:# True\n",
    "    print(\"age is greater than 20\")\n",
    "    if salary > 40000: # False\n",
    "        print('salary is greater than 40000')\n",
    "        \n",
    "        if cibil_score > 700:\n",
    "            print(\"Cibil score is greater than 700\")\n",
    "            print(\"Loan is Approved\")\n",
    "            \n",
    "        else:\n",
    "            print(\"Declined due to CIBIL score\")\n",
    "            \n",
    "    else:\n",
    "        print('Declined due to salary')\n",
    "        \n",
    "else:\n",
    "    print(\"Declined due to Age\")"
   ]
  },
  {
   "cell_type": "code",
   "execution_count": 73,
   "id": "stopped-cathedral",
   "metadata": {},
   "outputs": [
    {
     "name": "stdout",
     "output_type": "stream",
     "text": [
      "Declined due to Age\n"
     ]
    }
   ],
   "source": [
    "age = 18\n",
    "salary = 30000\n",
    "cibil_score = 750\n",
    "\n",
    "if age > 20:# True\n",
    "    print(\"age is greater than 20\")\n",
    "    if salary > 40000: # False\n",
    "        print('salary is greater than 40000')\n",
    "        \n",
    "        if cibil_score > 700:\n",
    "            print(\"Cibil score is greater than 700\")\n",
    "            print(\"Loan is Approved\")\n",
    "            \n",
    "        else:\n",
    "            print(\"Declined due to CIBIL score\")\n",
    "            \n",
    "    else:\n",
    "        print('Declined due to salary')\n",
    "        \n",
    "else:\n",
    "    print(\"Declined due to Age\")"
   ]
  },
  {
   "cell_type": "markdown",
   "id": "imported-permit",
   "metadata": {},
   "source": [
    "# Short Hand if statement"
   ]
  },
  {
   "cell_type": "raw",
   "id": "noted-charger",
   "metadata": {},
   "source": [
    "if you have only one statement to execute then use short hand if statement\n"
   ]
  },
  {
   "cell_type": "code",
   "execution_count": 74,
   "id": "progressive-julian",
   "metadata": {},
   "outputs": [
    {
     "name": "stdout",
     "output_type": "stream",
     "text": [
      "Salary is greater than 50000\n"
     ]
    }
   ],
   "source": [
    "age = 60\n",
    "salary = 70000\n",
    "\n",
    "if salary > 50000:\n",
    "    print(\"Salary is greater than 50000\")"
   ]
  },
  {
   "cell_type": "code",
   "execution_count": 77,
   "id": "interested-draft",
   "metadata": {},
   "outputs": [
    {
     "name": "stdout",
     "output_type": "stream",
     "text": [
      "Salary is greater than 50000\n"
     ]
    }
   ],
   "source": [
    "salary = 70000\n",
    "if salary > 50000: print(\"Salary is greater than 50000\")"
   ]
  },
  {
   "cell_type": "markdown",
   "id": "developing-carry",
   "metadata": {},
   "source": [
    "# Short hand if-else statement"
   ]
  },
  {
   "cell_type": "code",
   "execution_count": 79,
   "id": "honest-cause",
   "metadata": {},
   "outputs": [
    {
     "name": "stdout",
     "output_type": "stream",
     "text": [
      "Salary is greater than 50000\n"
     ]
    }
   ],
   "source": [
    "salary = 70000\n",
    "\n",
    "if salary > 50000:\n",
    "    print(\"Salary is greater than 50000\")\n",
    "    \n",
    "else:\n",
    "    print(\"Salary is less than 50000\")"
   ]
  },
  {
   "cell_type": "code",
   "execution_count": 81,
   "id": "computational-television",
   "metadata": {},
   "outputs": [
    {
     "name": "stdout",
     "output_type": "stream",
     "text": [
      "Salary is less than 50000\n"
     ]
    }
   ],
   "source": [
    "salary = 40000\n",
    "\n",
    "if salary > 50000:\n",
    "    print(\"Salary is greater than 50000\")\n",
    "    \n",
    "else:\n",
    "    print(\"Salary is less than 50000\")"
   ]
  },
  {
   "cell_type": "code",
   "execution_count": 85,
   "id": "grateful-rachel",
   "metadata": {},
   "outputs": [
    {
     "name": "stdout",
     "output_type": "stream",
     "text": [
      "Salary is less than 50000\n"
     ]
    }
   ],
   "source": [
    "salary = 30000\n",
    "print('Salary is greater than 50000') if salary > 50000 else print(\"Salary is less than 50000\")"
   ]
  },
  {
   "cell_type": "code",
   "execution_count": 87,
   "id": "placed-parallel",
   "metadata": {},
   "outputs": [
    {
     "name": "stdout",
     "output_type": "stream",
     "text": [
      "Age is less than 30\n"
     ]
    }
   ],
   "source": [
    "age = 20\n",
    "print('Age is greater than 30') if age > 30 else print(\"Age is less than 30\")"
   ]
  },
  {
   "cell_type": "code",
   "execution_count": 91,
   "id": "ultimate-entrepreneur",
   "metadata": {},
   "outputs": [
    {
     "name": "stdout",
     "output_type": "stream",
     "text": [
      "Age is greater than 30\n"
     ]
    }
   ],
   "source": [
    "age = 40\n",
    "print('Age is greater than 30') if age > 30 else print(\"Age is less than 30\")"
   ]
  },
  {
   "cell_type": "code",
   "execution_count": 92,
   "id": "piano-cover",
   "metadata": {},
   "outputs": [
    {
     "name": "stdout",
     "output_type": "stream",
     "text": [
      "Age is greater than or equal to 30\n"
     ]
    }
   ],
   "source": [
    "age = 30\n",
    "print('Age is greater than or equal to 30') if age >= 30 else print(\"Age is less than 30\")"
   ]
  },
  {
   "cell_type": "code",
   "execution_count": null,
   "id": "existing-wonder",
   "metadata": {},
   "outputs": [],
   "source": []
  },
  {
   "cell_type": "markdown",
   "id": "mature-auckland",
   "metadata": {},
   "source": [
    "# Arithmetic Operators"
   ]
  },
  {
   "cell_type": "raw",
   "id": "descending-auckland",
   "metadata": {},
   "source": [
    "+  >> Addition\n",
    "-  >> Substraction\n",
    "*  >> Multiplication\n",
    "/  >> Division (Float)\n",
    "%  >> Modulus\n",
    "** >> Exponent\n",
    "// >> Floor Division (int)"
   ]
  },
  {
   "cell_type": "code",
   "execution_count": 94,
   "id": "available-property",
   "metadata": {},
   "outputs": [
    {
     "data": {
      "text/plain": [
       "30"
      ]
     },
     "execution_count": 94,
     "metadata": {},
     "output_type": "execute_result"
    }
   ],
   "source": [
    "10 + 20"
   ]
  },
  {
   "cell_type": "code",
   "execution_count": 96,
   "id": "lasting-boards",
   "metadata": {},
   "outputs": [
    {
     "data": {
      "text/plain": [
       "5"
      ]
     },
     "execution_count": 96,
     "metadata": {},
     "output_type": "execute_result"
    }
   ],
   "source": [
    "10 - 5"
   ]
  },
  {
   "cell_type": "code",
   "execution_count": 98,
   "id": "selective-format",
   "metadata": {},
   "outputs": [
    {
     "data": {
      "text/plain": [
       "50"
      ]
     },
     "execution_count": 98,
     "metadata": {},
     "output_type": "execute_result"
    }
   ],
   "source": [
    "10 * 5"
   ]
  },
  {
   "cell_type": "code",
   "execution_count": 103,
   "id": "taken-shape",
   "metadata": {},
   "outputs": [
    {
     "data": {
      "text/plain": [
       "'pythonClass'"
      ]
     },
     "execution_count": 103,
     "metadata": {},
     "output_type": "execute_result"
    }
   ],
   "source": [
    "\"python\" + \"Class\""
   ]
  },
  {
   "cell_type": "code",
   "execution_count": 104,
   "id": "blessed-bunny",
   "metadata": {},
   "outputs": [
    {
     "data": {
      "text/plain": [
       "'pythonpython'"
      ]
     },
     "execution_count": 104,
     "metadata": {},
     "output_type": "execute_result"
    }
   ],
   "source": [
    "\"python\" * 2"
   ]
  },
  {
   "cell_type": "code",
   "execution_count": 106,
   "id": "periodic-panama",
   "metadata": {},
   "outputs": [
    {
     "data": {
      "text/plain": [
       "5.0"
      ]
     },
     "execution_count": 106,
     "metadata": {},
     "output_type": "execute_result"
    }
   ],
   "source": [
    "10/2"
   ]
  },
  {
   "cell_type": "code",
   "execution_count": 108,
   "id": "asian-burton",
   "metadata": {},
   "outputs": [
    {
     "data": {
      "text/plain": [
       "2.4"
      ]
     },
     "execution_count": 108,
     "metadata": {},
     "output_type": "execute_result"
    }
   ],
   "source": [
    "12/5"
   ]
  },
  {
   "cell_type": "code",
   "execution_count": 110,
   "id": "crucial-matrix",
   "metadata": {},
   "outputs": [
    {
     "data": {
      "text/plain": [
       "4.0"
      ]
     },
     "execution_count": 110,
     "metadata": {},
     "output_type": "execute_result"
    }
   ],
   "source": [
    "12/3"
   ]
  },
  {
   "cell_type": "code",
   "execution_count": 113,
   "id": "committed-territory",
   "metadata": {},
   "outputs": [
    {
     "data": {
      "text/plain": [
       "0"
      ]
     },
     "execution_count": 113,
     "metadata": {},
     "output_type": "execute_result"
    }
   ],
   "source": [
    "12 % 3"
   ]
  },
  {
   "cell_type": "code",
   "execution_count": 115,
   "id": "greater-filling",
   "metadata": {},
   "outputs": [
    {
     "data": {
      "text/plain": [
       "2"
      ]
     },
     "execution_count": 115,
     "metadata": {},
     "output_type": "execute_result"
    }
   ],
   "source": [
    "12 % 5"
   ]
  },
  {
   "cell_type": "code",
   "execution_count": 117,
   "id": "former-hybrid",
   "metadata": {},
   "outputs": [
    {
     "data": {
      "text/plain": [
       "0"
      ]
     },
     "execution_count": 117,
     "metadata": {},
     "output_type": "execute_result"
    }
   ],
   "source": [
    "15 % 5"
   ]
  },
  {
   "cell_type": "code",
   "execution_count": 119,
   "id": "lovely-wilson",
   "metadata": {},
   "outputs": [
    {
     "data": {
      "text/plain": [
       "9"
      ]
     },
     "execution_count": 119,
     "metadata": {},
     "output_type": "execute_result"
    }
   ],
   "source": [
    "3 ** 2 "
   ]
  },
  {
   "cell_type": "code",
   "execution_count": 121,
   "id": "apparent-collector",
   "metadata": {},
   "outputs": [
    {
     "data": {
      "text/plain": [
       "125"
      ]
     },
     "execution_count": 121,
     "metadata": {},
     "output_type": "execute_result"
    }
   ],
   "source": [
    "5 ** 3 "
   ]
  },
  {
   "cell_type": "code",
   "execution_count": 123,
   "id": "standard-vietnamese",
   "metadata": {},
   "outputs": [
    {
     "data": {
      "text/plain": [
       "343"
      ]
     },
     "execution_count": 123,
     "metadata": {},
     "output_type": "execute_result"
    }
   ],
   "source": [
    "7 ** 3"
   ]
  },
  {
   "cell_type": "code",
   "execution_count": 125,
   "id": "assisted-compromise",
   "metadata": {},
   "outputs": [
    {
     "data": {
      "text/plain": [
       "32"
      ]
     },
     "execution_count": 125,
     "metadata": {},
     "output_type": "execute_result"
    }
   ],
   "source": [
    "2 ** 5"
   ]
  },
  {
   "cell_type": "code",
   "execution_count": 129,
   "id": "classical-armor",
   "metadata": {},
   "outputs": [
    {
     "data": {
      "text/plain": [
       "1000"
      ]
     },
     "execution_count": 129,
     "metadata": {},
     "output_type": "execute_result"
    }
   ],
   "source": [
    "10 ** 3"
   ]
  },
  {
   "cell_type": "code",
   "execution_count": 139,
   "id": "humanitarian-divorce",
   "metadata": {},
   "outputs": [
    {
     "data": {
      "text/plain": [
       "2.5"
      ]
     },
     "execution_count": 139,
     "metadata": {},
     "output_type": "execute_result"
    }
   ],
   "source": [
    "10 / 4 # Float"
   ]
  },
  {
   "cell_type": "code",
   "execution_count": 141,
   "id": "american-future",
   "metadata": {},
   "outputs": [
    {
     "data": {
      "text/plain": [
       "2"
      ]
     },
     "execution_count": 141,
     "metadata": {},
     "output_type": "execute_result"
    }
   ],
   "source": [
    "int(10/4)"
   ]
  },
  {
   "cell_type": "code",
   "execution_count": null,
   "id": "overhead-mention",
   "metadata": {},
   "outputs": [],
   "source": []
  },
  {
   "cell_type": "code",
   "execution_count": 134,
   "id": "multiple-economy",
   "metadata": {},
   "outputs": [
    {
     "data": {
      "text/plain": [
       "2"
      ]
     },
     "execution_count": 134,
     "metadata": {},
     "output_type": "execute_result"
    }
   ],
   "source": [
    "10 // 4 # int(2.5)  >> 2"
   ]
  },
  {
   "cell_type": "code",
   "execution_count": 136,
   "id": "fluid-dakota",
   "metadata": {},
   "outputs": [
    {
     "data": {
      "text/plain": [
       "3"
      ]
     },
     "execution_count": 136,
     "metadata": {},
     "output_type": "execute_result"
    }
   ],
   "source": [
    "10 // 3 # int(3.99999999) >> 3"
   ]
  },
  {
   "cell_type": "code",
   "execution_count": 142,
   "id": "occupational-escape",
   "metadata": {},
   "outputs": [
    {
     "data": {
      "text/plain": [
       "3"
      ]
     },
     "execution_count": 142,
     "metadata": {},
     "output_type": "execute_result"
    }
   ],
   "source": [
    "22 // 6 "
   ]
  },
  {
   "cell_type": "code",
   "execution_count": 143,
   "id": "removable-wednesday",
   "metadata": {},
   "outputs": [
    {
     "data": {
      "text/plain": [
       "4"
      ]
     },
     "execution_count": 143,
     "metadata": {},
     "output_type": "execute_result"
    }
   ],
   "source": [
    "22 % 6"
   ]
  },
  {
   "cell_type": "markdown",
   "id": "encouraging-roommate",
   "metadata": {},
   "source": [
    "## To check even or odd numbers"
   ]
  },
  {
   "cell_type": "code",
   "execution_count": 145,
   "id": "popular-lemon",
   "metadata": {},
   "outputs": [
    {
     "name": "stdout",
     "output_type": "stream",
     "text": [
      "22\n",
      "Even Number\n"
     ]
    }
   ],
   "source": [
    "a = int(input())\n",
    "if a % 2 == 0:\n",
    "    print(\"Even Number\")\n",
    "    \n",
    "else:\n",
    "    print(\"Odd Number\")"
   ]
  },
  {
   "cell_type": "markdown",
   "id": "lucky-attraction",
   "metadata": {},
   "source": [
    "# Assignment Operator"
   ]
  },
  {
   "cell_type": "code",
   "execution_count": null,
   "id": "facial-trail",
   "metadata": {},
   "outputs": [],
   "source": [
    "=    \n",
    "+=    >> a += 1  >> a = a + 1\n",
    "-=    >> a -= 1  >> a = a - 1\n",
    "*=    >> a *= 5  >> a = a * 5\n",
    "/=    >> a /= 2  >> a = a / 2\n",
    "//=   >> a //= 3 >> a = a // 3\n",
    "**=   >> a **= 2 >> a = a ** 2\n",
    "&=    >> a &= 2  >> a = a &  2\n",
    "|=    >> a |= 2  >> a = a | 2"
   ]
  },
  {
   "cell_type": "code",
   "execution_count": null,
   "id": "imported-fifty",
   "metadata": {},
   "outputs": [],
   "source": []
  },
  {
   "cell_type": "code",
   "execution_count": 159,
   "id": "backed-headline",
   "metadata": {},
   "outputs": [
    {
     "data": {
      "text/plain": [
       "1000"
      ]
     },
     "execution_count": 159,
     "metadata": {},
     "output_type": "execute_result"
    }
   ],
   "source": [
    "x = 10\n",
    "x = 10 ** 3\n",
    "x"
   ]
  },
  {
   "cell_type": "code",
   "execution_count": 160,
   "id": "phantom-campaign",
   "metadata": {},
   "outputs": [
    {
     "data": {
      "text/plain": [
       "1000"
      ]
     },
     "execution_count": 160,
     "metadata": {},
     "output_type": "execute_result"
    }
   ],
   "source": [
    "x = 10\n",
    "x **= 3\n",
    "x"
   ]
  },
  {
   "cell_type": "code",
   "execution_count": 156,
   "id": "auburn-prime",
   "metadata": {},
   "outputs": [
    {
     "data": {
      "text/plain": [
       "5.0"
      ]
     },
     "execution_count": 156,
     "metadata": {},
     "output_type": "execute_result"
    }
   ],
   "source": [
    "a = 20\n",
    "a = a / 4\n",
    "a"
   ]
  },
  {
   "cell_type": "code",
   "execution_count": 157,
   "id": "driven-viewer",
   "metadata": {},
   "outputs": [
    {
     "data": {
      "text/plain": [
       "5.0"
      ]
     },
     "execution_count": 157,
     "metadata": {},
     "output_type": "execute_result"
    }
   ],
   "source": [
    "a = 20\n",
    "a /= 4\n",
    "a"
   ]
  },
  {
   "cell_type": "code",
   "execution_count": 147,
   "id": "descending-wales",
   "metadata": {},
   "outputs": [
    {
     "data": {
      "text/plain": [
       "11"
      ]
     },
     "execution_count": 147,
     "metadata": {},
     "output_type": "execute_result"
    }
   ],
   "source": [
    "a = 10\n",
    "a = a + 1\n",
    "a"
   ]
  },
  {
   "cell_type": "code",
   "execution_count": 149,
   "id": "invisible-leone",
   "metadata": {},
   "outputs": [
    {
     "data": {
      "text/plain": [
       "11"
      ]
     },
     "execution_count": 149,
     "metadata": {},
     "output_type": "execute_result"
    }
   ],
   "source": [
    "a = 10\n",
    "a += 1  # a = a + 1\n",
    "a"
   ]
  },
  {
   "cell_type": "code",
   "execution_count": 151,
   "id": "golden-engineer",
   "metadata": {},
   "outputs": [],
   "source": [
    "a = 10\n",
    "a += 3  # a = a + 3"
   ]
  },
  {
   "cell_type": "code",
   "execution_count": 153,
   "id": "acute-salon",
   "metadata": {},
   "outputs": [
    {
     "data": {
      "text/plain": [
       "50"
      ]
     },
     "execution_count": 153,
     "metadata": {},
     "output_type": "execute_result"
    }
   ],
   "source": [
    "a = 10\n",
    "a = a * 5\n",
    "a"
   ]
  },
  {
   "cell_type": "code",
   "execution_count": 154,
   "id": "choice-mortality",
   "metadata": {},
   "outputs": [
    {
     "data": {
      "text/plain": [
       "50"
      ]
     },
     "execution_count": 154,
     "metadata": {},
     "output_type": "execute_result"
    }
   ],
   "source": [
    "a = 10\n",
    "a *= 5\n",
    "a"
   ]
  },
  {
   "cell_type": "code",
   "execution_count": 162,
   "id": "federal-publication",
   "metadata": {},
   "outputs": [],
   "source": [
    "a = 10  # 1010\n",
    "b = 12  # 1100"
   ]
  },
  {
   "cell_type": "code",
   "execution_count": 166,
   "id": "defensive-valve",
   "metadata": {},
   "outputs": [
    {
     "data": {
      "text/plain": [
       "8"
      ]
     },
     "execution_count": 166,
     "metadata": {},
     "output_type": "execute_result"
    }
   ],
   "source": [
    "a & b \n",
    "1 0 1 0\n",
    "1 1 0 0\n",
    "\n",
    "1 0 0 0\n",
    "\n",
    "2 ** 3"
   ]
  },
  {
   "cell_type": "code",
   "execution_count": 167,
   "id": "sunset-warren",
   "metadata": {},
   "outputs": [
    {
     "data": {
      "text/plain": [
       "8"
      ]
     },
     "execution_count": 167,
     "metadata": {},
     "output_type": "execute_result"
    }
   ],
   "source": [
    "a & b "
   ]
  },
  {
   "cell_type": "code",
   "execution_count": 168,
   "id": "informative-spare",
   "metadata": {},
   "outputs": [
    {
     "data": {
      "text/plain": [
       "14"
      ]
     },
     "execution_count": 168,
     "metadata": {},
     "output_type": "execute_result"
    }
   ],
   "source": [
    "a | b\n",
    "\n",
    "# 1 0 1 0\n",
    "# 1 1 0 0\n",
    "\n",
    "# 1 1 1 0"
   ]
  },
  {
   "cell_type": "code",
   "execution_count": 170,
   "id": "charming-definition",
   "metadata": {},
   "outputs": [
    {
     "data": {
      "text/plain": [
       "'0b10111'"
      ]
     },
     "execution_count": 170,
     "metadata": {},
     "output_type": "execute_result"
    }
   ],
   "source": [
    "bin(23)"
   ]
  },
  {
   "cell_type": "markdown",
   "id": "supreme-phase",
   "metadata": {},
   "source": [
    "# Polynomial Equation"
   ]
  },
  {
   "cell_type": "code",
   "execution_count": null,
   "id": "intermediate-generic",
   "metadata": {},
   "outputs": [],
   "source": [
    "\n",
    "y = x^3 + 3x^2 - 5x + 7\n",
    "x = 4 >> 99\n",
    "x = 5 >> 199\n",
    "x = 6 >> 301"
   ]
  },
  {
   "cell_type": "code",
   "execution_count": 173,
   "id": "brown-yacht",
   "metadata": {},
   "outputs": [
    {
     "name": "stdout",
     "output_type": "stream",
     "text": [
      "99\n"
     ]
    }
   ],
   "source": [
    "x = 4\n",
    "y=  (x**3) + (3*(x**2)) - (5*x) + 7\n",
    "print(y)"
   ]
  },
  {
   "cell_type": "code",
   "execution_count": 175,
   "id": "radical-venue",
   "metadata": {},
   "outputs": [
    {
     "name": "stdout",
     "output_type": "stream",
     "text": [
      "182\n"
     ]
    }
   ],
   "source": [
    "x = 5\n",
    "y=  (x**3) + (3*(x**2)) - (5*x) + 7\n",
    "print(y)"
   ]
  },
  {
   "cell_type": "code",
   "execution_count": 177,
   "id": "frank-reason",
   "metadata": {},
   "outputs": [
    {
     "name": "stdout",
     "output_type": "stream",
     "text": [
      "301\n"
     ]
    }
   ],
   "source": [
    "x = 6\n",
    "y=  (x**3) + (3*(x**2)) - (5*x) + 7\n",
    "print(y)"
   ]
  },
  {
   "cell_type": "code",
   "execution_count": null,
   "id": "sunset-sheriff",
   "metadata": {},
   "outputs": [],
   "source": [
    "Preference of arithmetic operator\n",
    "\n",
    "1. ()  >> Parenthesis\n",
    "2. **  >> Exponent\n",
    "3. * , / , //\n",
    "4. + , -"
   ]
  },
  {
   "cell_type": "code",
   "execution_count": null,
   "id": "cardiovascular-grave",
   "metadata": {},
   "outputs": [],
   "source": [
    "y = 5x^4 - 3x^3 + 4x^2 - 8x + 6\n",
    "x = 4\n",
    "x = 5\n",
    "x = 6"
   ]
  },
  {
   "cell_type": "code",
   "execution_count": 178,
   "id": "direct-filename",
   "metadata": {},
   "outputs": [
    {
     "name": "stdout",
     "output_type": "stream",
     "text": [
      "Enter value:4\n",
      "999\n"
     ]
    }
   ],
   "source": [
    "x=int(input(\"Enter value:\"))\n",
    "y= (5*(x**4)) - 3*(x**3) - 4*(x**2) - (8*x)+7\n",
    "print(y)"
   ]
  },
  {
   "cell_type": "code",
   "execution_count": 180,
   "id": "technical-pixel",
   "metadata": {},
   "outputs": [
    {
     "name": "stdout",
     "output_type": "stream",
     "text": [
      "Enter value:6\n",
      "5647\n"
     ]
    }
   ],
   "source": [
    "x=int(input(\"Enter value:\"))\n",
    "y= (5*(x**4)) - 3*(x**3) - 4*(x**2) - (8*x)+7\n",
    "print(y)"
   ]
  },
  {
   "cell_type": "markdown",
   "id": "sharp-vehicle",
   "metadata": {},
   "source": [
    "# Membership Operators"
   ]
  },
  {
   "cell_type": "raw",
   "id": "unauthorized-russian",
   "metadata": {},
   "source": [
    "in\n",
    "not in"
   ]
  },
  {
   "cell_type": "code",
   "execution_count": 183,
   "id": "deluxe-victorian",
   "metadata": {},
   "outputs": [
    {
     "data": {
      "text/plain": [
       "True"
      ]
     },
     "execution_count": 183,
     "metadata": {},
     "output_type": "execute_result"
    }
   ],
   "source": [
    "string = 'Data Science'\n",
    "\"Data\" in string"
   ]
  },
  {
   "cell_type": "code",
   "execution_count": 185,
   "id": "organizational-russell",
   "metadata": {},
   "outputs": [
    {
     "data": {
      "text/plain": [
       "False"
      ]
     },
     "execution_count": 185,
     "metadata": {},
     "output_type": "execute_result"
    }
   ],
   "source": [
    "string = 'Data Science'\n",
    "\"Data\" not in string"
   ]
  },
  {
   "cell_type": "code",
   "execution_count": 187,
   "id": "smaller-compromise",
   "metadata": {},
   "outputs": [
    {
     "data": {
      "text/plain": [
       "True"
      ]
     },
     "execution_count": 187,
     "metadata": {},
     "output_type": "execute_result"
    }
   ],
   "source": [
    "l1 = [2,3,4,5,67]\n",
    "3 in l1"
   ]
  },
  {
   "cell_type": "code",
   "execution_count": 189,
   "id": "received-catholic",
   "metadata": {},
   "outputs": [
    {
     "data": {
      "text/plain": [
       "False"
      ]
     },
     "execution_count": 189,
     "metadata": {},
     "output_type": "execute_result"
    }
   ],
   "source": [
    "l1 = [2,3,4,5,67]\n",
    "3 not in l1"
   ]
  },
  {
   "cell_type": "markdown",
   "id": "palestinian-plaintiff",
   "metadata": {},
   "source": [
    "# Logical Operators"
   ]
  },
  {
   "cell_type": "code",
   "execution_count": null,
   "id": "violent-european",
   "metadata": {},
   "outputs": [],
   "source": [
    "and\n",
    "or\n",
    "not\n",
    "\n",
    "not True >> False\n",
    "not False >> True"
   ]
  },
  {
   "cell_type": "code",
   "execution_count": 198,
   "id": "shared-attraction",
   "metadata": {},
   "outputs": [
    {
     "name": "stdout",
     "output_type": "stream",
     "text": [
      "Hello\n"
     ]
    }
   ],
   "source": [
    "if not (5 > 2 and 5 > 10): # True and False >> False \n",
    "    print('Hello')"
   ]
  },
  {
   "cell_type": "code",
   "execution_count": 195,
   "id": "adult-anaheim",
   "metadata": {},
   "outputs": [],
   "source": [
    "if not 5 > 2: # not True  >> False\n",
    "    print('Hello')"
   ]
  },
  {
   "cell_type": "code",
   "execution_count": 196,
   "id": "regulation-prayer",
   "metadata": {},
   "outputs": [
    {
     "name": "stdout",
     "output_type": "stream",
     "text": [
      "Hello\n"
     ]
    }
   ],
   "source": [
    "if not 5 > 10: # not False  >> True\n",
    "    print('Hello')"
   ]
  },
  {
   "cell_type": "code",
   "execution_count": null,
   "id": "lasting-begin",
   "metadata": {},
   "outputs": [],
   "source": []
  }
 ],
 "metadata": {
  "kernelspec": {
   "display_name": "Python 3",
   "language": "python",
   "name": "python3"
  },
  "language_info": {
   "codemirror_mode": {
    "name": "ipython",
    "version": 3
   },
   "file_extension": ".py",
   "mimetype": "text/x-python",
   "name": "python",
   "nbconvert_exporter": "python",
   "pygments_lexer": "ipython3",
   "version": "3.8.7"
  }
 },
 "nbformat": 4,
 "nbformat_minor": 5
}
