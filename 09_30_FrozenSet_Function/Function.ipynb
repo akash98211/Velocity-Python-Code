{
 "cells": [
  {
   "cell_type": "markdown",
   "id": "blond-klein",
   "metadata": {},
   "source": [
    "# Function"
   ]
  },
  {
   "cell_type": "raw",
   "id": "spiritual-haven",
   "metadata": {},
   "source": [
    "Functions are organized block of reusable code\n",
    "\n",
    "Functions will executes only when it is called"
   ]
  },
  {
   "cell_type": "code",
   "execution_count": null,
   "id": "powerful-nashville",
   "metadata": {},
   "outputs": [],
   "source": [
    "def >> definition\n",
    "\n",
    "def my_function_name(parameter1,paramter2):\n",
    "    statement1\n",
    "    statement2\n",
    "    return  # optional\n",
    "\n",
    "my_function_name()\n",
    "my_function_name()\n",
    "my_function_name()"
   ]
  },
  {
   "cell_type": "code",
   "execution_count": null,
   "id": "empty-talent",
   "metadata": {},
   "outputs": [],
   "source": []
  },
  {
   "cell_type": "code",
   "execution_count": null,
   "id": "norwegian-booth",
   "metadata": {},
   "outputs": [],
   "source": []
  },
  {
   "cell_type": "code",
   "execution_count": null,
   "id": "colored-surprise",
   "metadata": {},
   "outputs": [],
   "source": [
    "Build Model:\n",
    "    10 line code\n",
    "    \n",
    "Test Model:\n",
    "    30 line code"
   ]
  },
  {
   "cell_type": "code",
   "execution_count": 3,
   "id": "polar-index",
   "metadata": {},
   "outputs": [
    {
     "name": "stdout",
     "output_type": "stream",
     "text": [
      "Hello\n"
     ]
    }
   ],
   "source": [
    "def my_fun():\n",
    "    print('Hello')\n",
    "    \n",
    "my_fun()"
   ]
  },
  {
   "cell_type": "code",
   "execution_count": null,
   "id": "harmful-arrow",
   "metadata": {},
   "outputs": [],
   "source": [
    "Line 10: avg of 10 num,sum,mul\n",
    "\n",
    "Line 80: Avg of 10 num,sum,mul\n",
    "    \n",
    "Line 150: Avg of 10 num,sum,mul"
   ]
  },
  {
   "cell_type": "code",
   "execution_count": null,
   "id": "canadian-equipment",
   "metadata": {},
   "outputs": [],
   "source": []
  },
  {
   "cell_type": "code",
   "execution_count": null,
   "id": "outside-expansion",
   "metadata": {},
   "outputs": [],
   "source": []
  },
  {
   "cell_type": "code",
   "execution_count": 8,
   "id": "american-harris",
   "metadata": {},
   "outputs": [
    {
     "name": "stdout",
     "output_type": "stream",
     "text": [
      "we are testing Functions\n",
      "Hello Python\n",
      "Python is programming language\n",
      "Python is programming language\n",
      "Python is programming language\n",
      "Python is programming language\n",
      "Python is programming language\n",
      "we are testing Functions\n",
      "Hello Python\n",
      "Python is programming language\n",
      "Python is programming language\n",
      "Python is programming language\n",
      "Python is programming language\n",
      "Python is programming language\n"
     ]
    }
   ],
   "source": [
    "def function_name():\n",
    "    print(\"we are testing Functions\")\n",
    "    print(\"Hello Python\")\n",
    "    for i in range(5):\n",
    "        print(\"Python is programming language\")\n",
    "        \n",
    "function_name()\n",
    "\n",
    "function_name()"
   ]
  },
  {
   "cell_type": "code",
   "execution_count": 11,
   "id": "dental-harmony",
   "metadata": {},
   "outputs": [
    {
     "name": "stdout",
     "output_type": "stream",
     "text": [
      "we are testing Functions\n",
      "Hello Python\n",
      "Python is programming language\n",
      "Python is programming language\n",
      "Python is programming language\n",
      "Python is programming language\n",
      "Python is programming language\n"
     ]
    }
   ],
   "source": [
    "function_name()"
   ]
  },
  {
   "cell_type": "code",
   "execution_count": 13,
   "id": "coastal-finger",
   "metadata": {},
   "outputs": [
    {
     "data": {
      "text/plain": [
       "4"
      ]
     },
     "execution_count": 13,
     "metadata": {},
     "output_type": "execute_result"
    }
   ],
   "source": [
    "list1 = [2,3,4,1,2]\n",
    "max(list1)"
   ]
  },
  {
   "cell_type": "code",
   "execution_count": 15,
   "id": "distinct-session",
   "metadata": {},
   "outputs": [
    {
     "data": {
      "text/plain": [
       "12"
      ]
     },
     "execution_count": 15,
     "metadata": {},
     "output_type": "execute_result"
    }
   ],
   "source": [
    "sum(list1)"
   ]
  },
  {
   "cell_type": "code",
   "execution_count": 18,
   "id": "contemporary-feeling",
   "metadata": {},
   "outputs": [
    {
     "name": "stdout",
     "output_type": "stream",
     "text": [
      "Average of numbers is : 15.0\n",
      "Average of numbers is : 30.0\n",
      "Average of numbers is : 200.0\n"
     ]
    }
   ],
   "source": [
    "# avg of 3 numbers\n",
    "\n",
    "a = 10\n",
    "b = 15\n",
    "c = 20\n",
    "avg = (a+b+c)/3\n",
    "print(\"Average of numbers is :\",avg)\n",
    "\n",
    "a,b,c = 20,30,40\n",
    "avg = (a+b+c)/3\n",
    "print(\"Average of numbers is :\",avg)\n",
    "\n",
    "a,b,c = 100,200,300\n",
    "avg = (a+b+c)/3\n",
    "print(\"Average of numbers is :\",avg)"
   ]
  },
  {
   "cell_type": "code",
   "execution_count": 21,
   "id": "electoral-carrier",
   "metadata": {},
   "outputs": [
    {
     "name": "stdout",
     "output_type": "stream",
     "text": [
      "Addition of Numbers is : 60\n",
      "Average of numbers is : 20.0\n"
     ]
    }
   ],
   "source": [
    "def average(a,b,c):  # a,b,c are the parameters\n",
    "    addition = a + b + c\n",
    "    print('Addition of Numbers is :',addition)\n",
    "    \n",
    "    avg = addition/3\n",
    "    print(\"Average of numbers is :\",avg)\n",
    "   \n",
    "a,b,c = 10,20,30\n",
    "average(a,b,c)   # a,b,c are arguments"
   ]
  },
  {
   "cell_type": "code",
   "execution_count": 23,
   "id": "advisory-interpretation",
   "metadata": {},
   "outputs": [
    {
     "name": "stdout",
     "output_type": "stream",
     "text": [
      "Addition of Numbers is : 600\n",
      "Average of numbers is : 200.0\n"
     ]
    }
   ],
   "source": [
    "average(100,200,300)"
   ]
  },
  {
   "cell_type": "code",
   "execution_count": 26,
   "id": "sharing-budget",
   "metadata": {},
   "outputs": [
    {
     "data": {
      "text/plain": [
       "600"
      ]
     },
     "execution_count": 26,
     "metadata": {},
     "output_type": "execute_result"
    }
   ],
   "source": [
    "sum([100,200,300])"
   ]
  },
  {
   "cell_type": "code",
   "execution_count": 28,
   "id": "suffering-blackjack",
   "metadata": {},
   "outputs": [
    {
     "name": "stdout",
     "output_type": "stream",
     "text": [
      "Addition of Numbers is : 80\n",
      "Average of numbers is : 26.666666666666668\n"
     ]
    }
   ],
   "source": [
    "average(10,20,50)"
   ]
  },
  {
   "cell_type": "code",
   "execution_count": 30,
   "id": "weird-malta",
   "metadata": {},
   "outputs": [
    {
     "ename": "TypeError",
     "evalue": "average() missing 1 required positional argument: 'c'",
     "output_type": "error",
     "traceback": [
      "\u001b[1;31m---------------------------------------------------------------------------\u001b[0m",
      "\u001b[1;31mTypeError\u001b[0m                                 Traceback (most recent call last)",
      "\u001b[1;32m<ipython-input-30-14b3d0b3f542>\u001b[0m in \u001b[0;36m<module>\u001b[1;34m\u001b[0m\n\u001b[1;32m----> 1\u001b[1;33m \u001b[0maverage\u001b[0m\u001b[1;33m(\u001b[0m\u001b[1;36m10\u001b[0m\u001b[1;33m,\u001b[0m\u001b[1;36m20\u001b[0m\u001b[1;33m)\u001b[0m\u001b[1;33m\u001b[0m\u001b[1;33m\u001b[0m\u001b[0m\n\u001b[0m",
      "\u001b[1;31mTypeError\u001b[0m: average() missing 1 required positional argument: 'c'"
     ]
    }
   ],
   "source": [
    "average(10,20)"
   ]
  },
  {
   "cell_type": "code",
   "execution_count": 32,
   "id": "adaptive-metadata",
   "metadata": {},
   "outputs": [
    {
     "data": {
      "text/plain": [
       "[2, 3, 4, 100]"
      ]
     },
     "execution_count": 32,
     "metadata": {},
     "output_type": "execute_result"
    }
   ],
   "source": [
    "l1 = [2,3,4]\n",
    "l1.append(100)\n",
    "l1"
   ]
  },
  {
   "cell_type": "code",
   "execution_count": 34,
   "id": "boring-oakland",
   "metadata": {},
   "outputs": [
    {
     "ename": "TypeError",
     "evalue": "append() takes exactly one argument (2 given)",
     "output_type": "error",
     "traceback": [
      "\u001b[1;31m---------------------------------------------------------------------------\u001b[0m",
      "\u001b[1;31mTypeError\u001b[0m                                 Traceback (most recent call last)",
      "\u001b[1;32m<ipython-input-34-b49460ab69b3>\u001b[0m in \u001b[0;36m<module>\u001b[1;34m\u001b[0m\n\u001b[0;32m      1\u001b[0m \u001b[0ml1\u001b[0m \u001b[1;33m=\u001b[0m \u001b[1;33m[\u001b[0m\u001b[1;36m2\u001b[0m\u001b[1;33m,\u001b[0m\u001b[1;36m3\u001b[0m\u001b[1;33m,\u001b[0m\u001b[1;36m4\u001b[0m\u001b[1;33m]\u001b[0m\u001b[1;33m\u001b[0m\u001b[1;33m\u001b[0m\u001b[0m\n\u001b[1;32m----> 2\u001b[1;33m \u001b[0ml1\u001b[0m\u001b[1;33m.\u001b[0m\u001b[0mappend\u001b[0m\u001b[1;33m(\u001b[0m\u001b[1;36m100\u001b[0m\u001b[1;33m,\u001b[0m\u001b[1;36m200\u001b[0m\u001b[1;33m)\u001b[0m\u001b[1;33m\u001b[0m\u001b[1;33m\u001b[0m\u001b[0m\n\u001b[0m\u001b[0;32m      3\u001b[0m \u001b[0ml1\u001b[0m\u001b[1;33m\u001b[0m\u001b[1;33m\u001b[0m\u001b[0m\n",
      "\u001b[1;31mTypeError\u001b[0m: append() takes exactly one argument (2 given)"
     ]
    }
   ],
   "source": [
    "l1 = [2,3,4]\n",
    "l1.append(100,200)\n",
    "l1"
   ]
  },
  {
   "cell_type": "raw",
   "id": "sensitive-coordinator",
   "metadata": {},
   "source": [
    "number of arguments == number of parameters\n",
    "\n",
    "arguments >> It is variable/value is passed to a function when it is called\n",
    "\n",
    "Parameteres >> Variables names used when defining a function"
   ]
  },
  {
   "cell_type": "code",
   "execution_count": 38,
   "id": "distinguished-mortgage",
   "metadata": {},
   "outputs": [
    {
     "name": "stdout",
     "output_type": "stream",
     "text": [
      "Addition of Numbers is : 35\n",
      "Average of numbers is : 11.666666666666666\n",
      "Addition of Numbers is : 67\n",
      "Average of numbers is : 22.333333333333332\n"
     ]
    }
   ],
   "source": [
    "a = 10\n",
    "b = 12\n",
    "c = 13\n",
    "average(a,b,c)\n",
    "average(20,22,25)"
   ]
  },
  {
   "cell_type": "code",
   "execution_count": 40,
   "id": "adjusted-street",
   "metadata": {},
   "outputs": [
    {
     "name": "stdout",
     "output_type": "stream",
     "text": [
      "Program to find even and odd numbers from list\n"
     ]
    }
   ],
   "source": [
    "# Program to find even and odd numbers from list\n",
    "\n",
    "def get_even_odd_numbers(list1): # list1 = l1\n",
    "    \n",
    "    print(\"Program to find even and odd numbers from list\")\n",
    "    \n",
    "    \n",
    "l1 = [10,20,30]\n",
    "get_even_odd_numbers(l1)"
   ]
  },
  {
   "cell_type": "code",
   "execution_count": 51,
   "id": "responsible-zealand",
   "metadata": {},
   "outputs": [
    {
     "name": "stdout",
     "output_type": "stream",
     "text": [
      "Program to find even and odd numbers from list\n",
      "Even Numbers in list are:  [10, 20, 30, 40]\n",
      "Odd Numbers in list are: [13, 15, 17]\n"
     ]
    }
   ],
   "source": [
    "# Program to find even and odd numbers from list\n",
    "\n",
    "def get_even_odd_numbers(list1): # list1 = l1\n",
    "    \n",
    "    print(\"Program to find even and odd numbers from list\")\n",
    "    even_numbers = [i for i in list1 if i%2 == 0]\n",
    "    odd_numbers = [i for i in list1 if i%2 != 0]\n",
    "    \n",
    "    print(\"Even Numbers in list are: \",even_numbers)\n",
    "    print(\"Odd Numbers in list are:\",odd_numbers)\n",
    "    \n",
    "l1 = [10,20,30,13,15,17,40]\n",
    "get_even_odd_numbers(l1)"
   ]
  },
  {
   "cell_type": "code",
   "execution_count": 44,
   "id": "everyday-cause",
   "metadata": {},
   "outputs": [
    {
     "name": "stdout",
     "output_type": "stream",
     "text": [
      "Program to find even and odd numbers from list\n",
      "Even Numbers in list are:  [20, 40]\n",
      "Odd Numbers in list are: [11, 31, 13, 15, 17]\n"
     ]
    }
   ],
   "source": [
    "l1 = [11,20,31,13,15,17,40]\n",
    "get_even_odd_numbers(l1)"
   ]
  },
  {
   "cell_type": "code",
   "execution_count": 47,
   "id": "floral-gregory",
   "metadata": {},
   "outputs": [
    {
     "name": "stdout",
     "output_type": "stream",
     "text": [
      "Program to find even and odd numbers from list\n",
      "Even Numbers in list are:  [2, 4, 6]\n",
      "Odd Numbers in list are: [3, 5]\n"
     ]
    }
   ],
   "source": [
    "get_even_odd_numbers([2,3,4,5,6])"
   ]
  },
  {
   "cell_type": "code",
   "execution_count": 55,
   "id": "demonstrated-spray",
   "metadata": {},
   "outputs": [
    {
     "name": "stdout",
     "output_type": "stream",
     "text": [
      "(2, 3, 4, 5, 6)\n",
      "Program to find even and odd numbers from list\n",
      "Even Numbers in list are:  [2, 4, 6]\n",
      "Odd Numbers in list are: [3, 5]\n"
     ]
    }
   ],
   "source": [
    "tup1 = 2,3,4,5,6\n",
    "print(tup1)\n",
    "get_even_odd_numbers(tup1)  # 5 arguments"
   ]
  },
  {
   "cell_type": "code",
   "execution_count": 52,
   "id": "rubber-passenger",
   "metadata": {},
   "outputs": [
    {
     "name": "stdout",
     "output_type": "stream",
     "text": [
      "Program to find even and odd numbers from list\n",
      "Even Numbers in list are:  [4, 6]\n",
      "Odd Numbers in list are: [3, 5, 7]\n"
     ]
    }
   ],
   "source": [
    "list1 = [3,4,5,6,7]\n",
    "get_even_odd_numbers(list1)"
   ]
  },
  {
   "cell_type": "code",
   "execution_count": 53,
   "id": "attached-there",
   "metadata": {},
   "outputs": [
    {
     "name": "stdout",
     "output_type": "stream",
     "text": [
      "Program to find even and odd numbers from list\n",
      "Even Numbers in list are:  [10, 20, 30, 40]\n",
      "Odd Numbers in list are: [13, 15, 17]\n"
     ]
    }
   ],
   "source": [
    "# Program to find even and odd numbers from list\n",
    "\n",
    "def get_even_odd_numbers(list1): # list1 = [10,20,30,13,15,17,40]\n",
    "    \n",
    "    print(\"Program to find even and odd numbers from list\")\n",
    "    even_numbers = [i for i in list1 if i%2 == 0]\n",
    "    odd_numbers = [i for i in list1 if i%2 != 0]\n",
    "    \n",
    "    print(\"Even Numbers in list are: \",even_numbers)\n",
    "    print(\"Odd Numbers in list are:\",odd_numbers)\n",
    "    \n",
    "l1 = [10,20,30,13,15,17,40]\n",
    "get_even_odd_numbers(l1)"
   ]
  },
  {
   "cell_type": "code",
   "execution_count": null,
   "id": "automated-stylus",
   "metadata": {},
   "outputs": [],
   "source": [
    "# Program to find even and odd numbers from list\n",
    "\n",
    "def get_even_odd_numbers(list1): # list1 = [10,20,30,13,15,17,40]\n",
    "    \n",
    "    print(\"Program to find even and odd numbers from list\")\n",
    "    even_numbers = [i for i in list1 if i%2 == 0]\n",
    "    odd_numbers = [i for i in list1 if i%2 != 0]\n",
    "    \n",
    "    print(\"Even Numbers in list are: \",even_numbers)\n",
    "    print(\"Odd Numbers in list are:\",odd_numbers)\n",
    "    \n",
    "l1 = [10,20,30,13,15,17,40]\n",
    "get_even_odd_numbers(l1)"
   ]
  },
  {
   "cell_type": "code",
   "execution_count": 57,
   "id": "blank-narrative",
   "metadata": {},
   "outputs": [
    {
     "name": "stdout",
     "output_type": "stream",
     "text": [
      "Addition of Numbers is : 60\n",
      "Average of numbers is : 20.0\n"
     ]
    }
   ],
   "source": [
    "def average(a,b,c):  # a,b,c are the parameters\n",
    "    addition = a + b + c\n",
    "    print('Addition of Numbers is :',addition)\n",
    "    \n",
    "    avg = addition/3\n",
    "    print(\"Average of numbers is :\",avg)\n",
    "   \n",
    "a,b,c = 10,20,30\n",
    "average(a,b,c)   # a,b,c are arguments"
   ]
  },
  {
   "cell_type": "code",
   "execution_count": 64,
   "id": "determined-processing",
   "metadata": {},
   "outputs": [
    {
     "name": "stdout",
     "output_type": "stream",
     "text": [
      "a = 10, b = 20, c = 60\n",
      "Addition of Numbers is : 90\n",
      "Average of numbers is : 30.0\n"
     ]
    }
   ],
   "source": [
    "def average(a,b,c):  # a,b,c are the parameters\n",
    "    print(f'a = {a}, b = {b}, c = {c}')\n",
    "    addition = a + b + c\n",
    "    print('Addition of Numbers is :',addition)\n",
    "    \n",
    "    avg = addition/3\n",
    "    print(\"Average of numbers is :\",avg)\n",
    "   \n",
    "n1,n2,n3 = 10,20,50\n",
    "average(10,20,60)   # a,b,c are arguments"
   ]
  },
  {
   "cell_type": "code",
   "execution_count": 67,
   "id": "editorial-evidence",
   "metadata": {},
   "outputs": [
    {
     "name": "stdout",
     "output_type": "stream",
     "text": [
      "a = 10, b = 20, c = 50\n",
      "Addition of Numbers is : 80\n",
      "Average of numbers is : 26.666666666666668\n"
     ]
    }
   ],
   "source": [
    "def average(a,b,c):  # a,b,c are the parameters\n",
    "    print(f'a = {a}, b = {b}, c = {c}')\n",
    "    addition = a + b + c\n",
    "    print('Addition of Numbers is :',addition)\n",
    "    \n",
    "    avg = addition/3\n",
    "    print(\"Average of numbers is :\",avg)\n",
    "   \n",
    "n1,n2,n3 = 10,20,50\n",
    "average(n1,n2,n3)   # a,b,c are arguments"
   ]
  },
  {
   "cell_type": "code",
   "execution_count": 69,
   "id": "returning-catalyst",
   "metadata": {},
   "outputs": [
    {
     "name": "stdout",
     "output_type": "stream",
     "text": [
      "a = 20, b = 10, c = 50\n",
      "Addition of Numbers is : 80\n",
      "Average of numbers is : 26.666666666666668\n"
     ]
    }
   ],
   "source": [
    "def average(a,b,c):  # a,b,c are the parameters\n",
    "    print(f'a = {a}, b = {b}, c = {c}')  # a = 20, b = 10, c = 50\n",
    "    addition = a + b + c\n",
    "    print('Addition of Numbers is :',addition)\n",
    "    \n",
    "    avg = addition/3\n",
    "    print(\"Average of numbers is :\",avg)\n",
    "   \n",
    "n1,n2,n3 = 10,20,50\n",
    "average(n2,n1,n3)   "
   ]
  },
  {
   "cell_type": "code",
   "execution_count": 72,
   "id": "structural-strike",
   "metadata": {},
   "outputs": [
    {
     "name": "stdout",
     "output_type": "stream",
     "text": [
      "a = 50, b = 20, c = 10\n",
      "Addition of Numbers is : 80\n",
      "Average of numbers is : 26.666666666666668\n"
     ]
    }
   ],
   "source": [
    "def average(a,b,c):  # a,b,c are the parameters\n",
    "    print(f'a = {a}, b = {b}, c = {c}')  # a = 50, b = 20, c = 10\n",
    "    addition = a + b + c\n",
    "    print('Addition of Numbers is :',addition)\n",
    "    \n",
    "    avg = addition/3\n",
    "    print(\"Average of numbers is :\",avg)\n",
    "   \n",
    "n1,n2,n3 = 10,20,50\n",
    "average(n3,n2,n1)"
   ]
  },
  {
   "cell_type": "markdown",
   "id": "southeast-retrieval",
   "metadata": {},
   "source": [
    "### WAP to find first five numbers and last 5 numbers in given range"
   ]
  },
  {
   "cell_type": "code",
   "execution_count": 73,
   "id": "permanent-victim",
   "metadata": {},
   "outputs": [],
   "source": [
    "# 10,30 >>[10,11,12,13,14,26,27,28,29,30]"
   ]
  },
  {
   "cell_type": "code",
   "execution_count": 77,
   "id": "narrative-freedom",
   "metadata": {},
   "outputs": [
    {
     "name": "stdout",
     "output_type": "stream",
     "text": [
      "Start = 11, end = 30\n",
      "Program to find first five numbers and last 5 numbers in given range\n"
     ]
    }
   ],
   "source": [
    "def square(start,end):\n",
    "    print(f\"Start = {start}, end = {end}\")\n",
    "    print('Program to find first five numbers and last 5 numbers in given range')\n",
    "    \n",
    "    \n",
    "square(11,30)"
   ]
  },
  {
   "cell_type": "code",
   "execution_count": 85,
   "id": "suffering-fourth",
   "metadata": {},
   "outputs": [
    {
     "name": "stdout",
     "output_type": "stream",
     "text": [
      "Start = 11, end = 30\n",
      "Program to find first five numbers and last 5 numbers in given range\n",
      "[121, 144, 169, 196, 225, 676, 729, 784, 841, 900]\n"
     ]
    }
   ],
   "source": [
    "def square(start,end):\n",
    "    print(f\"Start = {start}, end = {end}\")\n",
    "    print('Program to find first five numbers and last 5 numbers in given range')\n",
    "    sqr = []\n",
    "    for i in range(start,start+5):\n",
    "        sqr.append(i**2)\n",
    "        \n",
    "    for i in range(end-4, end+1):\n",
    "        sqr.append(i**2)\n",
    "    \n",
    "    print(sqr)\n",
    "\n",
    "square(11,30)"
   ]
  },
  {
   "cell_type": "code",
   "execution_count": 87,
   "id": "disciplinary-backing",
   "metadata": {},
   "outputs": [
    {
     "name": "stdout",
     "output_type": "stream",
     "text": [
      "Start = 1, end = 15\n",
      "Program to find first five numbers and last 5 numbers in given range\n",
      "[1, 4, 9, 16, 25, 121, 144, 169, 196, 225]\n"
     ]
    }
   ],
   "source": [
    "square(1,15)"
   ]
  },
  {
   "cell_type": "code",
   "execution_count": 89,
   "id": "spread-wrong",
   "metadata": {},
   "outputs": [
    {
     "name": "stdout",
     "output_type": "stream",
     "text": [
      "Start = 10, end = 20\n",
      "Program to find first five numbers and last 5 numbers in given range\n",
      "[100, 121, 144, 169, 196, 256, 289, 324, 361, 400]\n"
     ]
    }
   ],
   "source": [
    "square(10,20)"
   ]
  },
  {
   "cell_type": "code",
   "execution_count": 90,
   "id": "aware-anthony",
   "metadata": {},
   "outputs": [
    {
     "name": "stdout",
     "output_type": "stream",
     "text": [
      "10\n",
      "20\n",
      "Start = 10, end = 20\n",
      "Program to find first five numbers and last 5 numbers in given range\n",
      "[100, 121, 144, 169, 196, 256, 289, 324, 361, 400]\n"
     ]
    }
   ],
   "source": [
    "a = int(input())\n",
    "b = int(input())\n",
    "square(a,b)"
   ]
  },
  {
   "cell_type": "code",
   "execution_count": 91,
   "id": "informal-mounting",
   "metadata": {},
   "outputs": [
    {
     "name": "stdout",
     "output_type": "stream",
     "text": [
      "10\n",
      "30\n",
      "Start = 10, end = 30\n",
      "Program to find first five numbers and last 5 numbers in given range\n",
      "[100, 121, 144, 169, 196, 676, 729, 784, 841, 900]\n"
     ]
    }
   ],
   "source": [
    "square(int(input()),int(input()))"
   ]
  },
  {
   "cell_type": "markdown",
   "id": "cheap-blank",
   "metadata": {},
   "source": [
    "# Return Statement"
   ]
  },
  {
   "cell_type": "code",
   "execution_count": null,
   "id": "interested-drama",
   "metadata": {},
   "outputs": [],
   "source": [
    "It is used at end of function\n",
    "\n",
    "If you want to continue to work with the result of your function and want to try out some\n",
    "operations on it.\n",
    "Then you will need to use return statement(str,list,int,df,etc)"
   ]
  },
  {
   "cell_type": "code",
   "execution_count": 102,
   "id": "spread-central",
   "metadata": {},
   "outputs": [
    {
     "name": "stdout",
     "output_type": "stream",
     "text": [
      "Start = 11, end = 30\n",
      "Program to find first five numbers and last 5 numbers in given range\n",
      "Result of Function is: [121, 144, 169, 196, 225, 676, 729, 784, 841, 900]\n"
     ]
    },
    {
     "data": {
      "text/plain": [
       "[121, 144, 169, 196, 225, 676, 729, 784, 841, 900, 1000]"
      ]
     },
     "execution_count": 102,
     "metadata": {},
     "output_type": "execute_result"
    }
   ],
   "source": [
    "def square(start,end):\n",
    "    print(f\"Start = {start}, end = {end}\")\n",
    "    print('Program to find first five numbers and last 5 numbers in given range')\n",
    "    sqr = []\n",
    "    for i in range(start,start+5):\n",
    "        sqr.append(i**2)  # [121]\n",
    "        \n",
    "    for i in range(end-4, end+1):\n",
    "        sqr.append(i**2)\n",
    "    \n",
    "#     print(sqr)\n",
    "    return sqr\n",
    "\n",
    "val = square(11,30)\n",
    "print('Result of Function is:',val)\n",
    "val.append(1000)\n",
    "val"
   ]
  },
  {
   "cell_type": "code",
   "execution_count": 106,
   "id": "intelligent-bench",
   "metadata": {},
   "outputs": [
    {
     "name": "stdout",
     "output_type": "stream",
     "text": [
      "Start = 11, end = 30\n",
      "Program to find first five numbers and last 5 numbers in given range\n",
      "Result of Function is: Success\n"
     ]
    }
   ],
   "source": [
    "def square(start,end):\n",
    "    print(f\"Start = {start}, end = {end}\")\n",
    "    print('Program to find first five numbers and last 5 numbers in given range')\n",
    "    sqr = []\n",
    "    for i in range(start,start+5):\n",
    "        sqr.append(i**2)  # [121]\n",
    "        \n",
    "    for i in range(end-4, end+1):\n",
    "        sqr.append(i**2)\n",
    "    \n",
    "    return 'Success'\n",
    "\n",
    "val = square(11,30)\n",
    "print('Result of Function is:',val)\n"
   ]
  },
  {
   "cell_type": "code",
   "execution_count": 112,
   "id": "written-education",
   "metadata": {},
   "outputs": [
    {
     "name": "stdout",
     "output_type": "stream",
     "text": [
      "Start = 11, end = 30\n",
      "Program to find first five numbers and last 5 numbers in given range\n",
      "Result of Function is: 11\n"
     ]
    }
   ],
   "source": [
    "def square(start,end):\n",
    "    print(f\"Start = {start}, end = {end}\")\n",
    "    print('Program to find first five numbers and last 5 numbers in given range')\n",
    "    sqr = []\n",
    "    for i in range(start,start+5):\n",
    "        sqr.append(i**2)  # [121]\n",
    "        \n",
    "    for i in range(end-4, end+1):\n",
    "        sqr.append(i**2)\n",
    "    \n",
    "    return start\n",
    "\n",
    "val = square(11,30)\n",
    "print('Result of Function is:',val)\n"
   ]
  },
  {
   "cell_type": "code",
   "execution_count": 120,
   "id": "potential-magazine",
   "metadata": {},
   "outputs": [
    {
     "name": "stdout",
     "output_type": "stream",
     "text": [
      "Start = 11, end = 30\n",
      "Program to find first five numbers and last 5 numbers in given range\n",
      "Result of Function is: 11\n"
     ]
    }
   ],
   "source": [
    "def square(start,end):\n",
    "    print(f\"Start = {start}, end = {end}\")\n",
    "    print('Program to find first five numbers and last 5 numbers in given range')\n",
    "    sqr = []\n",
    "    for i in range(start,start+5):\n",
    "        sqr.append(i**2)  # [121]\n",
    "        \n",
    "    for i in range(end-4, end+1):\n",
    "        sqr.append(i**2)\n",
    "    \n",
    "    return start,end,100\n",
    "\n",
    "result1,res2,res3 = square(11,30)  # 11,30,100\n",
    "print('Result of Function is:',result1)\n"
   ]
  },
  {
   "cell_type": "code",
   "execution_count": 121,
   "id": "collectible-surprise",
   "metadata": {},
   "outputs": [
    {
     "name": "stdout",
     "output_type": "stream",
     "text": [
      "Start = 11, end = 30\n",
      "Program to find first five numbers and last 5 numbers in given range\n",
      "Result of Function is: [121, 144, 169, 196, 225, 676, 729, 784, 841, 900]\n"
     ]
    }
   ],
   "source": [
    "def square(start,end):\n",
    "    print(f\"Start = {start}, end = {end}\")\n",
    "    print('Program to find first five numbers and last 5 numbers in given range')\n",
    "    sqr = []\n",
    "    for i in range(start,start+5):\n",
    "        sqr.append(i**2)  # [121]\n",
    "        \n",
    "    for i in range(end-4, end+1):\n",
    "        sqr.append(i**2)\n",
    "    \n",
    "    return sqr\n",
    "\n",
    "result = square(11,30)  # []\n",
    "print('Result of Function is:',result)\n"
   ]
  },
  {
   "cell_type": "code",
   "execution_count": 122,
   "id": "identified-genre",
   "metadata": {},
   "outputs": [],
   "source": [
    "a,b,c = 10,20,30"
   ]
  },
  {
   "cell_type": "code",
   "execution_count": null,
   "id": "obvious-alloy",
   "metadata": {},
   "outputs": [],
   "source": [
    "def factorial(number):\n",
    "    \n",
    "    print(\"Factorial Program\")\n",
    "    # Code\n",
    "    return fact\n",
    "    \n",
    "n = int(input(\"Enter Number\"))\n",
    "factorial(n)"
   ]
  },
  {
   "cell_type": "code",
   "execution_count": null,
   "id": "linear-skill",
   "metadata": {},
   "outputs": [],
   "source": [
    "def fibonacci(number):\n",
    "    \n",
    "    print(\"fibonacci Program\")\n",
    "    # Code\n",
    "    return fibo\n",
    "\n",
    "n = int(input(\"Enter Number\"))\n",
    "fibonacci(n)"
   ]
  },
  {
   "cell_type": "code",
   "execution_count": null,
   "id": "centered-friendship",
   "metadata": {},
   "outputs": [],
   "source": [
    "def prime_number_between_range(start, end):\n",
    "    \n",
    "    print(\"prime numbers between range\")\n",
    "    # Code\n",
    "    return numbers_list\n",
    "\n",
    "prime_number_between_range(1,100)\n",
    "prime_number_between_range(1,200)"
   ]
  }
 ],
 "metadata": {
  "kernelspec": {
   "display_name": "Python 3",
   "language": "python",
   "name": "python3"
  },
  "language_info": {
   "codemirror_mode": {
    "name": "ipython",
    "version": 3
   },
   "file_extension": ".py",
   "mimetype": "text/x-python",
   "name": "python",
   "nbconvert_exporter": "python",
   "pygments_lexer": "ipython3",
   "version": "3.8.7"
  }
 },
 "nbformat": 4,
 "nbformat_minor": 5
}
