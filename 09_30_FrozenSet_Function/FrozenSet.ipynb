{
 "cells": [
  {
   "cell_type": "markdown",
   "id": "civic-termination",
   "metadata": {},
   "source": [
    "# Set"
   ]
  },
  {
   "cell_type": "raw",
   "id": "sought-porter",
   "metadata": {},
   "source": [
    "Unordered\n",
    "Mutable\n",
    "Duplicates are not allowed"
   ]
  },
  {
   "cell_type": "markdown",
   "id": "closed-speed",
   "metadata": {},
   "source": [
    "# FrozenSet"
   ]
  },
  {
   "cell_type": "raw",
   "id": "double-irish",
   "metadata": {},
   "source": [
    "Unordered\n",
    "Immutable\n",
    "Duplicates are not allowed"
   ]
  },
  {
   "cell_type": "code",
   "execution_count": 2,
   "id": "above-importance",
   "metadata": {},
   "outputs": [
    {
     "name": "stdout",
     "output_type": "stream",
     "text": [
      "{2, 3, 4, 5, 6, 7} 6\n"
     ]
    }
   ],
   "source": [
    "s1 = {2,3,3,4,5,6,7,7}\n",
    "print(s1,len(s1))"
   ]
  },
  {
   "cell_type": "code",
   "execution_count": 6,
   "id": "wound-prayer",
   "metadata": {},
   "outputs": [
    {
     "name": "stdout",
     "output_type": "stream",
     "text": [
      "frozenset({2, 3, 4, 5, 6, 7})\n",
      "frozenset({40, 10, 20, 30})\n"
     ]
    }
   ],
   "source": [
    "s1 = {2,3,3,4,5,6,7,7}\n",
    "fs1 = frozenset(s1)\n",
    "print(fs1)\n",
    "\n",
    "fs2 =frozenset({10,20,20,30,10,40})\n",
    "print(fs2)"
   ]
  },
  {
   "cell_type": "code",
   "execution_count": 8,
   "id": "hired-microphone",
   "metadata": {},
   "outputs": [
    {
     "name": "stdout",
     "output_type": "stream",
     "text": [
      "{2, 3, 4, 5, 6, 7, 40, 10, 20, 30}\n",
      "{40, 10, 20, 30}\n"
     ]
    }
   ],
   "source": [
    "s1 = {2,3,3,4,5,6,7,7}\n",
    "s2 = {10,20,20,30,10,40}\n",
    "s1.update(s2)\n",
    "print(s1)\n",
    "print(s2)"
   ]
  },
  {
   "cell_type": "code",
   "execution_count": 12,
   "id": "legitimate-boutique",
   "metadata": {},
   "outputs": [
    {
     "name": "stdout",
     "output_type": "stream",
     "text": [
      "{2, 3, 4, 5, 6, 7}\n",
      "{2, 3, 4, 5, 6, 7, 40, 10, 20, 30}\n"
     ]
    }
   ],
   "source": [
    "s1 = {2,3,3,4,5,6,7,7}\n",
    "s2 = {10,20,20,30,10,40}\n",
    "s2.update(s1)\n",
    "print(s1)\n",
    "print(s2)"
   ]
  },
  {
   "cell_type": "code",
   "execution_count": 14,
   "id": "academic-timothy",
   "metadata": {},
   "outputs": [
    {
     "name": "stdout",
     "output_type": "stream",
     "text": [
      "{2, 3, 4, 5, 6, 7}\n",
      "{40, 10, 20, 30}\n"
     ]
    }
   ],
   "source": [
    "s1 = {2,3,3,4,5,6,7,7}\n",
    "s2 = {10,20,20,30,10,40}\n",
    "s2.union(s1)\n",
    "print(s1)\n",
    "print(s2)"
   ]
  },
  {
   "cell_type": "code",
   "execution_count": 15,
   "id": "cordless-metabolism",
   "metadata": {},
   "outputs": [
    {
     "name": "stdout",
     "output_type": "stream",
     "text": [
      "{2, 3, 4, 5, 6, 7}\n",
      "{40, 10, 20, 30}\n",
      "{2, 3, 4, 5, 6, 7, 40, 10, 20, 30}\n"
     ]
    }
   ],
   "source": [
    "s1 = {2,3,3,4,5,6,7,7}\n",
    "s2 = {10,20,20,30,10,40}\n",
    "s3 = s2.union(s1)\n",
    "print(s1)\n",
    "print(s2)\n",
    "print(s3)"
   ]
  },
  {
   "cell_type": "code",
   "execution_count": 16,
   "id": "identical-gauge",
   "metadata": {},
   "outputs": [
    {
     "name": "stdout",
     "output_type": "stream",
     "text": [
      "frozenset({2, 3, 4, 5, 6, 7})\n",
      "frozenset({40, 10, 20, 30})\n"
     ]
    },
    {
     "ename": "AttributeError",
     "evalue": "'frozenset' object has no attribute 'update'",
     "output_type": "error",
     "traceback": [
      "\u001b[1;31m---------------------------------------------------------------------------\u001b[0m",
      "\u001b[1;31mAttributeError\u001b[0m                            Traceback (most recent call last)",
      "\u001b[1;32m<ipython-input-16-8efb504438b7>\u001b[0m in \u001b[0;36m<module>\u001b[1;34m\u001b[0m\n\u001b[0;32m      5\u001b[0m \u001b[0mfs2\u001b[0m \u001b[1;33m=\u001b[0m\u001b[0mfrozenset\u001b[0m\u001b[1;33m(\u001b[0m\u001b[1;33m{\u001b[0m\u001b[1;36m10\u001b[0m\u001b[1;33m,\u001b[0m\u001b[1;36m20\u001b[0m\u001b[1;33m,\u001b[0m\u001b[1;36m20\u001b[0m\u001b[1;33m,\u001b[0m\u001b[1;36m30\u001b[0m\u001b[1;33m,\u001b[0m\u001b[1;36m10\u001b[0m\u001b[1;33m,\u001b[0m\u001b[1;36m40\u001b[0m\u001b[1;33m}\u001b[0m\u001b[1;33m)\u001b[0m\u001b[1;33m\u001b[0m\u001b[1;33m\u001b[0m\u001b[0m\n\u001b[0;32m      6\u001b[0m \u001b[0mprint\u001b[0m\u001b[1;33m(\u001b[0m\u001b[0mfs2\u001b[0m\u001b[1;33m)\u001b[0m\u001b[1;33m\u001b[0m\u001b[1;33m\u001b[0m\u001b[0m\n\u001b[1;32m----> 7\u001b[1;33m \u001b[0mfs1\u001b[0m\u001b[1;33m.\u001b[0m\u001b[0mupdate\u001b[0m\u001b[1;33m(\u001b[0m\u001b[0mfs2\u001b[0m\u001b[1;33m)\u001b[0m\u001b[1;33m\u001b[0m\u001b[1;33m\u001b[0m\u001b[0m\n\u001b[0m",
      "\u001b[1;31mAttributeError\u001b[0m: 'frozenset' object has no attribute 'update'"
     ]
    }
   ],
   "source": [
    "s1 = {2,3,3,4,5,6,7,7}\n",
    "fs1 = frozenset(s1)\n",
    "print(fs1)\n",
    "\n",
    "fs2 =frozenset({10,20,20,30,10,40})\n",
    "print(fs2)\n",
    "fs1.update(fs2)\n"
   ]
  },
  {
   "cell_type": "code",
   "execution_count": 18,
   "id": "compound-snake",
   "metadata": {},
   "outputs": [
    {
     "name": "stdout",
     "output_type": "stream",
     "text": [
      "frozenset({2, 3, 4, 5, 6, 7})\n",
      "frozenset({40, 10, 20, 30})\n"
     ]
    },
    {
     "data": {
      "text/plain": [
       "frozenset({2, 3, 4, 5, 6, 7, 10, 20, 30, 40})"
      ]
     },
     "execution_count": 18,
     "metadata": {},
     "output_type": "execute_result"
    }
   ],
   "source": [
    "s1 = {2,3,3,4,5,6,7,7}\n",
    "fs1 = frozenset(s1)\n",
    "print(fs1)\n",
    "\n",
    "fs2 =frozenset({10,20,20,30,10,40})\n",
    "print(fs2)\n",
    "fs1.union(fs2)\n"
   ]
  },
  {
   "cell_type": "raw",
   "id": "closed-constraint",
   "metadata": {},
   "source": [
    "FrozenSet Function:\n",
    "1. union\n",
    "2. intersection\n",
    "3. difference\n",
    "4. symmetric_difference"
   ]
  },
  {
   "cell_type": "raw",
   "id": "moral-concert",
   "metadata": {},
   "source": [
    "\n",
    "1. update\n",
    "2. intersection_update\n",
    "3. difference_update\n",
    "4. symmetric_difference_update"
   ]
  },
  {
   "cell_type": "code",
   "execution_count": 26,
   "id": "german-claim",
   "metadata": {},
   "outputs": [
    {
     "name": "stdout",
     "output_type": "stream",
     "text": [
      "frozenset({2, 3, 4, 5, 6, 7})\n",
      "frozenset({20, 7, 40, 10, 30})\n"
     ]
    },
    {
     "data": {
      "text/plain": [
       "frozenset({2, 3, 4, 5, 6, 10, 20, 30, 40})"
      ]
     },
     "execution_count": 26,
     "metadata": {},
     "output_type": "execute_result"
    }
   ],
   "source": [
    "s1 = {2,3,3,4,5,6,7,7}\n",
    "fs1 = frozenset(s1)\n",
    "print(fs1)\n",
    "\n",
    "fs2 =frozenset({10,20,20,30,10,40,7})\n",
    "print(fs2)\n",
    "\n",
    "fs1.intersection(fs2)\n",
    "fs1.difference(fs2)\n",
    "fs1.symmetric_difference(fs2)"
   ]
  },
  {
   "cell_type": "code",
   "execution_count": 27,
   "id": "accomplished-importance",
   "metadata": {},
   "outputs": [
    {
     "name": "stdout",
     "output_type": "stream",
     "text": [
      "The frozenset is : frozenset({'Math', 'phy', 'Che'})\n"
     ]
    }
   ],
   "source": [
    "dict1 = {'phy':100,'Che':98,'Math':90}\n",
    "key = frozenset(dict1)\n",
    "\n",
    "print('The frozenset is :',key)"
   ]
  }
 ],
 "metadata": {
  "kernelspec": {
   "display_name": "Python 3",
   "language": "python",
   "name": "python3"
  },
  "language_info": {
   "codemirror_mode": {
    "name": "ipython",
    "version": 3
   },
   "file_extension": ".py",
   "mimetype": "text/x-python",
   "name": "python",
   "nbconvert_exporter": "python",
   "pygments_lexer": "ipython3",
   "version": "3.8.7"
  }
 },
 "nbformat": 4,
 "nbformat_minor": 5
}
