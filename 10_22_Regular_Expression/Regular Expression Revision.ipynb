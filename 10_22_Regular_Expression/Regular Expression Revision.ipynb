{
 "cells": [
  {
   "cell_type": "markdown",
   "id": "periodic-resistance",
   "metadata": {},
   "source": [
    "# Regex Functions"
   ]
  },
  {
   "cell_type": "code",
   "execution_count": null,
   "id": "compressed-snowboard",
   "metadata": {},
   "outputs": [],
   "source": [
    "import re\n",
    "1. findall\n",
    "2. sub\n",
    "3. search\n",
    "4. match\n",
    "5. compile\n",
    "6. split"
   ]
  },
  {
   "cell_type": "markdown",
   "id": "sized-record",
   "metadata": {},
   "source": [
    "# Special Sequences"
   ]
  },
  {
   "cell_type": "code",
   "execution_count": null,
   "id": "filled-brazil",
   "metadata": {},
   "outputs": [],
   "source": [
    "\\d  >> imp\n",
    "\\D\n",
    "\\w  >> imp\n",
    "\\W\n",
    "\\b  >> imp\n",
    "\\s\n",
    "\\S\n"
   ]
  },
  {
   "cell_type": "markdown",
   "id": "expanded-norfolk",
   "metadata": {},
   "source": [
    "# Metacharacters"
   ]
  },
  {
   "cell_type": "code",
   "execution_count": null,
   "id": "logical-hostel",
   "metadata": {},
   "outputs": [],
   "source": [
    "*\n",
    "+\n",
    ".\n",
    "?\n",
    "\\\n",
    "^\n",
    "$\n",
    "[]\n",
    "()\n",
    "{}\n",
    "|"
   ]
  },
  {
   "cell_type": "code",
   "execution_count": null,
   "id": "greenhouse-mouth",
   "metadata": {},
   "outputs": [],
   "source": []
  }
 ],
 "metadata": {
  "kernelspec": {
   "display_name": "Python 3 (ipykernel)",
   "language": "python",
   "name": "python3"
  },
  "language_info": {
   "codemirror_mode": {
    "name": "ipython",
    "version": 3
   },
   "file_extension": ".py",
   "mimetype": "text/x-python",
   "name": "python",
   "nbconvert_exporter": "python",
   "pygments_lexer": "ipython3",
   "version": "3.9.1"
  }
 },
 "nbformat": 4,
 "nbformat_minor": 5
}
