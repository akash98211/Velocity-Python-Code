{
 "cells": [
  {
   "cell_type": "markdown",
   "id": "descending-optimization",
   "metadata": {},
   "source": [
    "# Access String items/chars"
   ]
  },
  {
   "cell_type": "code",
   "execution_count": null,
   "id": "technological-client",
   "metadata": {},
   "outputs": [],
   "source": [
    "indexing\n",
    "slicing\n",
    "for loop"
   ]
  },
  {
   "cell_type": "code",
   "execution_count": 3,
   "id": "confused-clone",
   "metadata": {},
   "outputs": [
    {
     "data": {
      "text/plain": [
       "'t'"
      ]
     },
     "execution_count": 3,
     "metadata": {},
     "output_type": "execute_result"
    }
   ],
   "source": [
    "string = 'Python'\n",
    "string[2]"
   ]
  },
  {
   "cell_type": "code",
   "execution_count": 5,
   "id": "forward-assets",
   "metadata": {},
   "outputs": [
    {
     "name": "stdout",
     "output_type": "stream",
     "text": [
      "P\n",
      "y\n",
      "t\n",
      "h\n",
      "o\n",
      "n\n"
     ]
    }
   ],
   "source": [
    "string = 'Python'\n",
    "for char in string:\n",
    "    print(char)"
   ]
  },
  {
   "cell_type": "code",
   "execution_count": 8,
   "id": "american-swedish",
   "metadata": {},
   "outputs": [
    {
     "name": "stdout",
     "output_type": "stream",
     "text": [
      "P+y+t+h+o+n+"
     ]
    }
   ],
   "source": [
    "string = 'Python'\n",
    "for variable_name in string:\n",
    "    print(variable_name,end = \"+\")  # 6 time"
   ]
  },
  {
   "cell_type": "code",
   "execution_count": 10,
   "id": "after-chassis",
   "metadata": {},
   "outputs": [
    {
     "name": "stdout",
     "output_type": "stream",
     "text": [
      "Char is : P\n",
      "Char is : y\n",
      "Char is : t\n",
      "Char is : h\n",
      "Char is : o\n",
      "Char is : n\n"
     ]
    }
   ],
   "source": [
    "string = 'Python'\n",
    "for variable_name in string:\n",
    "    print(f\"Char is : {variable_name}\")  "
   ]
  },
  {
   "cell_type": "code",
   "execution_count": 21,
   "id": "satisfied-notebook",
   "metadata": {},
   "outputs": [
    {
     "name": "stdout",
     "output_type": "stream",
     "text": [
      "Character at index 0 is P\n",
      "Character at index 1 is y\n",
      "Character at index 2 is t\n",
      "Character at index 3 is h\n",
      "Character at index 4 is o\n",
      "Character at index 5 is n\n"
     ]
    }
   ],
   "source": [
    "string = 'Python'\n",
    "count = 0\n",
    "for char in string:\n",
    "    print(f\"Character at index {count} is {string[count]}\")  # indexing\n",
    "    count = count + 1 \n",
    "    "
   ]
  },
  {
   "cell_type": "code",
   "execution_count": 32,
   "id": "spare-carrier",
   "metadata": {},
   "outputs": [
    {
     "data": {
      "text/plain": [
       "'t'"
      ]
     },
     "execution_count": 32,
     "metadata": {},
     "output_type": "execute_result"
    }
   ],
   "source": [
    "string = 'Python'\n",
    "count = 2\n",
    "string[count] # string[2]"
   ]
  },
  {
   "cell_type": "code",
   "execution_count": 22,
   "id": "civilian-offer",
   "metadata": {},
   "outputs": [
    {
     "name": "stdout",
     "output_type": "stream",
     "text": [
      "Character at index 0 is P\n",
      "Character at index 1 is y\n",
      "Character at index 2 is t\n",
      "Character at index 3 is h\n",
      "Character at index 4 is o\n",
      "Character at index 5 is n\n"
     ]
    }
   ],
   "source": [
    "string = 'Python'\n",
    "count = 0\n",
    "for char in string:\n",
    "    print(f\"Character at index {count} is {char}\")\n",
    "    count = count + 1 "
   ]
  },
  {
   "cell_type": "code",
   "execution_count": 25,
   "id": "afraid-hughes",
   "metadata": {},
   "outputs": [
    {
     "name": "stdout",
     "output_type": "stream",
     "text": [
      "Character at index 0 is P\n",
      "Character at index 1 is y\n",
      "Character at index 2 is t\n",
      "Character at index 3 is h\n",
      "Character at index 4 is o\n",
      "Character at index 5 is n\n"
     ]
    }
   ],
   "source": [
    "string = 'Python'\n",
    "for index,char in enumerate(string):\n",
    "    print(f\"Character at index {index} is {char}\")"
   ]
  },
  {
   "cell_type": "code",
   "execution_count": 27,
   "id": "confident-norfolk",
   "metadata": {},
   "outputs": [
    {
     "name": "stdout",
     "output_type": "stream",
     "text": [
      "Character at index 0 is D\n",
      "Character at index 1 is a\n",
      "Character at index 2 is t\n",
      "Character at index 3 is a\n",
      "Character at index 4 is  \n",
      "Character at index 5 is S\n",
      "Character at index 6 is c\n",
      "Character at index 7 is i\n",
      "Character at index 8 is e\n",
      "Character at index 9 is n\n",
      "Character at index 10 is c\n",
      "Character at index 11 is e\n"
     ]
    }
   ],
   "source": [
    "string = 'Data Science'\n",
    "for index,char in enumerate(string):\n",
    "    print(f\"Character at index {index} is {char}\")"
   ]
  },
  {
   "cell_type": "code",
   "execution_count": 33,
   "id": "western-student",
   "metadata": {},
   "outputs": [
    {
     "name": "stdout",
     "output_type": "stream",
     "text": [
      "Character at index 0 is D\n",
      "Character at index 1 is a\n",
      "Character at index 2 is t\n",
      "Character at index 3 is a\n",
      "Character at index 4 is  \n",
      "Character at index 5 is S\n",
      "Character at index 6 is c\n",
      "Character at index 7 is i\n",
      "Character at index 8 is e\n",
      "Character at index 9 is n\n",
      "Character at index 10 is c\n",
      "Character at index 11 is e\n"
     ]
    }
   ],
   "source": [
    "string = 'Data Science'\n",
    "for index,value in enumerate(string):\n",
    "    print(f\"Character at index {index} is {value}\")"
   ]
  },
  {
   "cell_type": "code",
   "execution_count": 37,
   "id": "limited-northwest",
   "metadata": {},
   "outputs": [
    {
     "name": "stdout",
     "output_type": "stream",
     "text": [
      "Hello D\n",
      "Hello a\n",
      "Hello t\n",
      "Hello a\n"
     ]
    }
   ],
   "source": [
    "string = 'Data'\n",
    "\n",
    "for i in string:\n",
    "    print(\"Hello\",i)        # 4 Times"
   ]
  },
  {
   "cell_type": "code",
   "execution_count": 40,
   "id": "increasing-element",
   "metadata": {},
   "outputs": [
    {
     "name": "stdout",
     "output_type": "stream",
     "text": [
      "Value is  P\n",
      "Value is  y\n",
      "Value is  t\n",
      "Value is  h\n",
      "Value is  o\n",
      "Value is  n\n"
     ]
    }
   ],
   "source": [
    "string = 'Python'\n",
    "\n",
    "for value in string:  # value = \"P\"\n",
    "    print(\"Value is \",value)       "
   ]
  },
  {
   "cell_type": "code",
   "execution_count": 43,
   "id": "delayed-thickness",
   "metadata": {},
   "outputs": [
    {
     "name": "stdout",
     "output_type": "stream",
     "text": [
      "Testing For Loop\n",
      "Testing For Loop\n",
      "Testing For Loop\n",
      "Testing For Loop\n",
      "Testing For Loop\n",
      "Testing For Loop\n"
     ]
    }
   ],
   "source": [
    "string = 'Python'\n",
    "\n",
    "for value in string:  # value = \"P\"\n",
    "    print(\"Testing For Loop\")       "
   ]
  },
  {
   "cell_type": "code",
   "execution_count": 46,
   "id": "dedicated-hungary",
   "metadata": {},
   "outputs": [
    {
     "name": "stdout",
     "output_type": "stream",
     "text": [
      "Testing For Loop 1\n",
      "Testing For Loop 2\n",
      "Testing For Loop 3\n",
      "Testing For Loop 4\n",
      "Testing For Loop 5\n"
     ]
    }
   ],
   "source": [
    "string = '12345'\n",
    "\n",
    "for value in string:  # value = \"P\"\n",
    "    print(\"Testing For Loop\",value)       "
   ]
  },
  {
   "cell_type": "code",
   "execution_count": 48,
   "id": "inside-snowboard",
   "metadata": {},
   "outputs": [
    {
     "name": "stdout",
     "output_type": "stream",
     "text": [
      "Testing For Loop 1\n",
      "Testing For Loop 2\n",
      "Testing For Loop 3\n",
      "Testing For Loop 4\n",
      "Testing For Loop 5\n"
     ]
    }
   ],
   "source": [
    "abc = '12345'\n",
    "\n",
    "for value in abc:  # value = \"P\"\n",
    "    print(\"Testing For Loop\",value)  "
   ]
  },
  {
   "cell_type": "code",
   "execution_count": 54,
   "id": "frank-squad",
   "metadata": {},
   "outputs": [
    {
     "name": "stdout",
     "output_type": "stream",
     "text": [
      "Python"
     ]
    }
   ],
   "source": [
    "str1 = 'Python'\n",
    "\n",
    "for value in str1:  \n",
    "    print(value,end = '')  "
   ]
  },
  {
   "cell_type": "markdown",
   "id": "expected-invention",
   "metadata": {},
   "source": [
    "# String Formatting"
   ]
  },
  {
   "cell_type": "code",
   "execution_count": null,
   "id": "southwest-schedule",
   "metadata": {},
   "outputs": [],
   "source": [
    "1. Formatting using format() string method  >>> .format()\n",
    "2. Formatting using string literals, f-string >>> LEading f-char\n",
    "3. Formatting with % operator"
   ]
  },
  {
   "cell_type": "markdown",
   "id": "figured-visiting",
   "metadata": {},
   "source": [
    "### 1. format()"
   ]
  },
  {
   "cell_type": "code",
   "execution_count": 57,
   "id": "adopted-mauritius",
   "metadata": {},
   "outputs": [
    {
     "name": "stdout",
     "output_type": "stream",
     "text": [
      "Character at index 0 is D\n",
      "Character at index 1 is a\n",
      "Character at index 2 is t\n",
      "Character at index 3 is a\n"
     ]
    }
   ],
   "source": [
    "string = 'Data'\n",
    "for index,value in enumerate(string):\n",
    "    print(\"Character at index {} is {}\".format(index,value))"
   ]
  },
  {
   "cell_type": "code",
   "execution_count": 59,
   "id": "altered-squad",
   "metadata": {},
   "outputs": [
    {
     "name": "stdout",
     "output_type": "stream",
     "text": [
      "Addition of 10 and 20 is 30\n"
     ]
    }
   ],
   "source": [
    "a = 10 \n",
    "b = 20\n",
    "result = \"Addition of {} and {} is {}\".format(a,b,a+b)\n",
    "print(result)"
   ]
  },
  {
   "cell_type": "code",
   "execution_count": 60,
   "id": "micro-smile",
   "metadata": {},
   "outputs": [
    {
     "name": "stdout",
     "output_type": "stream",
     "text": [
      "Addition of 10 and 20 is 30\n"
     ]
    }
   ],
   "source": [
    "a = 10 \n",
    "b = 20\n",
    "print(\"Addition of {} and {} is {}\".format(a,b,a+b))"
   ]
  },
  {
   "cell_type": "markdown",
   "id": "distinguished-bobby",
   "metadata": {},
   "source": [
    "## 2. f-string"
   ]
  },
  {
   "cell_type": "code",
   "execution_count": 61,
   "id": "fifteen-reunion",
   "metadata": {},
   "outputs": [],
   "source": [
    "string = 'python' # 'python' is string literals\n"
   ]
  },
  {
   "cell_type": "code",
   "execution_count": 76,
   "id": "absolute-hours",
   "metadata": {},
   "outputs": [
    {
     "name": "stdout",
     "output_type": "stream",
     "text": [
      "Addition of 10 and 20 is 30\n"
     ]
    }
   ],
   "source": [
    "a = 10 \n",
    "b = 20\n",
    "\n",
    "addition = f\"Addition of {a} and {b} is {a+b}\"\n",
    "\n",
    "print(addition)"
   ]
  },
  {
   "cell_type": "code",
   "execution_count": 68,
   "id": "coupled-talent",
   "metadata": {},
   "outputs": [
    {
     "name": "stdout",
     "output_type": "stream",
     "text": [
      "Addition of Python and  class is Python class\n"
     ]
    }
   ],
   "source": [
    "a = \"Python\" \n",
    "b = \" class\"\n",
    "\n",
    "print(f\"Addition of {a} and {b} is {a+b}\")"
   ]
  },
  {
   "cell_type": "markdown",
   "id": "virgin-worker",
   "metadata": {},
   "source": [
    "### Percentage operator(%)"
   ]
  },
  {
   "cell_type": "code",
   "execution_count": 78,
   "id": "extensive-sense",
   "metadata": {},
   "outputs": [
    {
     "name": "stdout",
     "output_type": "stream",
     "text": [
      "Addition of 10 and 20 is 30\n"
     ]
    }
   ],
   "source": [
    "a = 10 \n",
    "b = 20\n",
    "res = f\"Addition of %d and %d is %d\"%(a,b,a+b)\n",
    "print(res)"
   ]
  },
  {
   "cell_type": "code",
   "execution_count": 86,
   "id": "noble-uruguay",
   "metadata": {},
   "outputs": [
    {
     "name": "stdout",
     "output_type": "stream",
     "text": [
      "Addition of 10.500000 and 20 is 30.500000\n"
     ]
    }
   ],
   "source": [
    "a = 10.5 \n",
    "b = 20\n",
    "res = \"Addition of %f and %d is %f\" %(a,b,a+b)\n",
    "print(res)"
   ]
  },
  {
   "cell_type": "code",
   "execution_count": 85,
   "id": "appointed-morrison",
   "metadata": {},
   "outputs": [
    {
     "name": "stdout",
     "output_type": "stream",
     "text": [
      "Addition of Python and  class is Python class\n"
     ]
    }
   ],
   "source": [
    "a = \"Python\" \n",
    "b = \" class\"\n",
    "\n",
    "result = \"Addition of %s and %s is %s\"%(a,b,a+b)\n",
    "\n",
    "print(result)"
   ]
  },
  {
   "cell_type": "code",
   "execution_count": 87,
   "id": "martial-democracy",
   "metadata": {},
   "outputs": [
    {
     "name": "stdout",
     "output_type": "stream",
     "text": [
      "Addition of 10 and 20 is 30\n",
      "Addition of 10 and 20 is 30\n",
      "Addition of 10 and 20 is 30\n"
     ]
    }
   ],
   "source": [
    "a = 10 \n",
    "b = 20\n",
    "addition_f_string = f\"Addition of {a} and {b} is {a+b}\"\n",
    "\n",
    "addition_format  = \"Addition of {} and {} is {}\".format(a,b,a+b)\n",
    "\n",
    "addition_percent = \"Addition of %d and %d is %d\"%(a,b,a+b)\n",
    "\n",
    "\n",
    "print(addition_f_string)\n",
    "print(addition_format)\n",
    "print(addition_percent)"
   ]
  },
  {
   "cell_type": "code",
   "execution_count": 92,
   "id": "opened-symbol",
   "metadata": {},
   "outputs": [
    {
     "name": "stdout",
     "output_type": "stream",
     "text": [
      "Addition of 10.12 and 20 is 30.123456779999998\n",
      "Addition of 10.12345678 and 20 is 30.123456779999998\n",
      "Addition of 10 and 20 is 30\n"
     ]
    }
   ],
   "source": [
    "a = 10.12345678\n",
    "b = 20\n",
    "addition_f_string = f\"Addition of {round(a,2)} and {b} is {a+b}\"\n",
    "\n",
    "addition_format  = \"Addition of {} and {} is {}\".format(a,b,a+b)\n",
    "\n",
    "addition_percent = \"Addition of %d and %d is %d\"%(a,b,a+b)\n",
    "\n",
    "\n",
    "print(addition_f_string)\n",
    "print(addition_format)\n",
    "print(addition_percent)"
   ]
  },
  {
   "cell_type": "markdown",
   "id": "portable-praise",
   "metadata": {},
   "source": [
    "# Check String items"
   ]
  },
  {
   "cell_type": "code",
   "execution_count": 94,
   "id": "together-intervention",
   "metadata": {},
   "outputs": [
    {
     "data": {
      "text/plain": [
       "True"
      ]
     },
     "execution_count": 94,
     "metadata": {},
     "output_type": "execute_result"
    }
   ],
   "source": [
    "data = 'We are learning Data Science'\n",
    "\"Science\" in data  "
   ]
  },
  {
   "cell_type": "code",
   "execution_count": 96,
   "id": "exterior-harvest",
   "metadata": {},
   "outputs": [
    {
     "data": {
      "text/plain": [
       "False"
      ]
     },
     "execution_count": 96,
     "metadata": {},
     "output_type": "execute_result"
    }
   ],
   "source": [
    "data = 'We are learning Data Science'\n",
    "\"science\" in data  "
   ]
  },
  {
   "cell_type": "code",
   "execution_count": 98,
   "id": "running-polish",
   "metadata": {},
   "outputs": [
    {
     "data": {
      "text/plain": [
       "True"
      ]
     },
     "execution_count": 98,
     "metadata": {},
     "output_type": "execute_result"
    }
   ],
   "source": [
    "data = 'We are learning Data Science'\n",
    "\"learning\" in data  "
   ]
  },
  {
   "cell_type": "code",
   "execution_count": 100,
   "id": "prospective-algeria",
   "metadata": {},
   "outputs": [
    {
     "data": {
      "text/plain": [
       "False"
      ]
     },
     "execution_count": 100,
     "metadata": {},
     "output_type": "execute_result"
    }
   ],
   "source": [
    "data = 'We are learning Data Science'\n",
    "\"Machine\" in data "
   ]
  },
  {
   "cell_type": "raw",
   "id": "accessible-thanks",
   "metadata": {},
   "source": [
    "if condition/expression:  # True or False\n",
    "    statements"
   ]
  },
  {
   "cell_type": "code",
   "execution_count": 102,
   "id": "endless-alcohol",
   "metadata": {},
   "outputs": [
    {
     "data": {
      "text/plain": [
       "True"
      ]
     },
     "execution_count": 102,
     "metadata": {},
     "output_type": "execute_result"
    }
   ],
   "source": [
    "x = 100\n",
    "y = 100\n",
    "\n",
    "x == y  "
   ]
  },
  {
   "cell_type": "code",
   "execution_count": 104,
   "id": "lonely-affair",
   "metadata": {},
   "outputs": [
    {
     "data": {
      "text/plain": [
       "False"
      ]
     },
     "execution_count": 104,
     "metadata": {},
     "output_type": "execute_result"
    }
   ],
   "source": [
    "x = 100\n",
    "y = 50\n",
    "\n",
    "x == y "
   ]
  },
  {
   "cell_type": "code",
   "execution_count": 106,
   "id": "premier-commitment",
   "metadata": {},
   "outputs": [
    {
     "data": {
      "text/plain": [
       "True"
      ]
     },
     "execution_count": 106,
     "metadata": {},
     "output_type": "execute_result"
    }
   ],
   "source": [
    "x = 100\n",
    "y = 50\n",
    "x > y "
   ]
  },
  {
   "cell_type": "code",
   "execution_count": 108,
   "id": "tender-gambling",
   "metadata": {},
   "outputs": [
    {
     "name": "stdout",
     "output_type": "stream",
     "text": [
      "x is greater than y\n"
     ]
    }
   ],
   "source": [
    "x = 100\n",
    "y = 50\n",
    "if x > y:  # True\n",
    "    print(\"x is greater than y\")"
   ]
  },
  {
   "cell_type": "code",
   "execution_count": 111,
   "id": "square-privacy",
   "metadata": {},
   "outputs": [
    {
     "name": "stdout",
     "output_type": "stream",
     "text": [
      "y is greate than x\n"
     ]
    }
   ],
   "source": [
    "x = 100\n",
    "y = 50\n",
    "if x < y:  # False\n",
    "    print(\"x is greater than y\")\n",
    "    \n",
    "else:\n",
    "    print(\"y is greate than x\")"
   ]
  },
  {
   "cell_type": "code",
   "execution_count": 112,
   "id": "nearby-revision",
   "metadata": {},
   "outputs": [
    {
     "name": "stdout",
     "output_type": "stream",
     "text": [
      "y is greate than x\n"
     ]
    }
   ],
   "source": [
    "x = 100\n",
    "y = 50\n",
    "if x < y:  # False\n",
    "    print(\"x is greater than y\")\n",
    "    \n",
    "else:\n",
    "    print(\"y is greate than x\")"
   ]
  },
  {
   "cell_type": "code",
   "execution_count": 115,
   "id": "welcome-final",
   "metadata": {},
   "outputs": [
    {
     "name": "stdout",
     "output_type": "stream",
     "text": [
      "Yes, Science is present\n"
     ]
    }
   ],
   "source": [
    "data = 'We are learning Data Science'\n",
    "if \"Science\" in data :  \n",
    "    print(\"Yes, Science is present\")\n",
    "    \n",
    "else:\n",
    "    print(\"Science is not present is given string\")"
   ]
  },
  {
   "cell_type": "code",
   "execution_count": 117,
   "id": "opposed-baker",
   "metadata": {},
   "outputs": [
    {
     "name": "stdout",
     "output_type": "stream",
     "text": [
      "Yes, Science is present\n"
     ]
    }
   ],
   "source": [
    "data = 'We are learning Data Science'\n",
    "value = \"Science\"\n",
    "\n",
    "if value in data :  \n",
    "    print(\"Yes, Science is present\")\n",
    "    \n",
    "else:\n",
    "    print(\"Science is not present in given string\")"
   ]
  },
  {
   "cell_type": "code",
   "execution_count": 119,
   "id": "specified-adaptation",
   "metadata": {},
   "outputs": [
    {
     "name": "stdout",
     "output_type": "stream",
     "text": [
      "Yes, Data is present in given string\n"
     ]
    }
   ],
   "source": [
    "string = 'We are learning Data Science'\n",
    "value = \"Data\"\n",
    "\n",
    "if value in string :   # True\n",
    "    print(f\"Yes, {value} is present in given string\")\n",
    "    \n",
    "else:\n",
    "    print(f\"{value} is not present in given string\")"
   ]
  },
  {
   "cell_type": "code",
   "execution_count": 125,
   "id": "outstanding-aerospace",
   "metadata": {},
   "outputs": [
    {
     "name": "stdout",
     "output_type": "stream",
     "text": [
      "machine is not present in given string\n"
     ]
    }
   ],
   "source": [
    "string = 'We are learning Data Science'\n",
    "value = \"machine\"\n",
    "\n",
    "if value in string :   # True\n",
    "    print(f\"Yes, {value} is present in given string\")\n",
    "    \n",
    "else:\n",
    "    print(f\"{value} is not present in given string\")"
   ]
  },
  {
   "cell_type": "code",
   "execution_count": null,
   "id": "massive-layer",
   "metadata": {},
   "outputs": [],
   "source": [
    "string = 'We are learning Data Science'\n",
    "value = \"machine\"\n",
    "\n",
    "if value in string :   # True\n",
    "    print(f\"Yes, {value} is present in given string\")\n",
    "    \n",
    "else:\n",
    "    print(f\"{value} is not present in given string\")"
   ]
  },
  {
   "cell_type": "code",
   "execution_count": 124,
   "id": "accredited-castle",
   "metadata": {},
   "outputs": [
    {
     "data": {
      "text/plain": [
       "bool"
      ]
     },
     "execution_count": 124,
     "metadata": {},
     "output_type": "execute_result"
    }
   ],
   "source": [
    "x = value in string\n",
    "type(x)"
   ]
  },
  {
   "cell_type": "code",
   "execution_count": null,
   "id": "prepared-nursery",
   "metadata": {},
   "outputs": [],
   "source": []
  }
 ],
 "metadata": {
  "kernelspec": {
   "display_name": "Python 3",
   "language": "python",
   "name": "python3"
  },
  "language_info": {
   "codemirror_mode": {
    "name": "ipython",
    "version": 3
   },
   "file_extension": ".py",
   "mimetype": "text/x-python",
   "name": "python",
   "nbconvert_exporter": "python",
   "pygments_lexer": "ipython3",
   "version": "3.8.7"
  }
 },
 "nbformat": 4,
 "nbformat_minor": 5
}
