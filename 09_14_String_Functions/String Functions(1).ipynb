{
 "cells": [
  {
   "cell_type": "markdown",
   "id": "intermediate-favorite",
   "metadata": {},
   "source": [
    "# String Function"
   ]
  },
  {
   "cell_type": "code",
   "execution_count": 1,
   "id": "composed-workplace",
   "metadata": {},
   "outputs": [
    {
     "data": {
      "text/plain": [
       "'Machine learning is the study of computer algorithms that can improve automatically \\nthrough experience and by the use of data. It is seen as a part of artificial intelligence'"
      ]
     },
     "execution_count": 1,
     "metadata": {},
     "output_type": "execute_result"
    }
   ],
   "source": [
    "\"\"\"Machine learning is the study of computer algorithms that can improve automatically \n",
    "through experience and by the use of data. It is seen as a part of artificial intelligence\"\"\""
   ]
  },
  {
   "cell_type": "markdown",
   "id": "exterior-excellence",
   "metadata": {},
   "source": [
    "# 1. Capitalize()"
   ]
  },
  {
   "cell_type": "raw",
   "id": "blank-drama",
   "metadata": {},
   "source": [
    "It capitalize only first character\n",
    "zero index item"
   ]
  },
  {
   "cell_type": "code",
   "execution_count": 3,
   "id": "separate-architect",
   "metadata": {},
   "outputs": [
    {
     "data": {
      "text/plain": [
       "'India'"
      ]
     },
     "execution_count": 3,
     "metadata": {},
     "output_type": "execute_result"
    }
   ],
   "source": [
    "county = \"india\"\n",
    "county.capitalize()"
   ]
  },
  {
   "cell_type": "code",
   "execution_count": 6,
   "id": "found-census",
   "metadata": {},
   "outputs": [
    {
     "data": {
      "text/plain": [
       "'India'"
      ]
     },
     "execution_count": 6,
     "metadata": {},
     "output_type": "execute_result"
    }
   ],
   "source": [
    "county = \"india\"\n",
    "county.capitalize()"
   ]
  },
  {
   "cell_type": "code",
   "execution_count": 8,
   "id": "equivalent-reserve",
   "metadata": {},
   "outputs": [
    {
     "data": {
      "text/plain": [
       "'Machine learning is the study of computer algorithms that can improve automatically \\nthrough experience and by the use of data. it is seen as a part of artificial intelligence'"
      ]
     },
     "execution_count": 8,
     "metadata": {},
     "output_type": "execute_result"
    }
   ],
   "source": [
    "machin_learning= \"\"\"machine learning is the study of computer algorithms that can improve automatically \n",
    "through experience and by the use of data. It is seen as a part of artificial intelligence\"\"\"\n",
    "\n",
    "machin_learning.capitalize()"
   ]
  },
  {
   "cell_type": "markdown",
   "id": "studied-occasions",
   "metadata": {},
   "source": [
    "# 2. upper()"
   ]
  },
  {
   "cell_type": "code",
   "execution_count": 10,
   "id": "seven-series",
   "metadata": {},
   "outputs": [
    {
     "data": {
      "text/plain": [
       "'INDIA'"
      ]
     },
     "execution_count": 10,
     "metadata": {},
     "output_type": "execute_result"
    }
   ],
   "source": [
    "county = \"india\"  # lower case\n",
    "county.upper()"
   ]
  },
  {
   "cell_type": "code",
   "execution_count": 12,
   "id": "enormous-spirituality",
   "metadata": {},
   "outputs": [
    {
     "data": {
      "text/plain": [
       "'MACHINE LEARNING IS THE STUDY OF COMPUTER ALGORITHMS THAT CAN IMPROVE AUTOMATICALLY \\nTHROUGH EXPERIENCE AND BY THE USE OF DATA. IT IS SEEN AS A PART OF ARTIFICIAL INTELLIGENCE'"
      ]
     },
     "execution_count": 12,
     "metadata": {},
     "output_type": "execute_result"
    }
   ],
   "source": [
    "machin_learning= \"\"\"machine learning is the study of computer algorithms that can improve automatically \n",
    "through experience and by the use of data. It is seen as a part of artificial intelligence\"\"\"\n",
    "\n",
    "machin_learning.upper()"
   ]
  },
  {
   "cell_type": "code",
   "execution_count": 14,
   "id": "removable-target",
   "metadata": {},
   "outputs": [
    {
     "data": {
      "text/plain": [
       "'INDIA'"
      ]
     },
     "execution_count": 14,
     "metadata": {},
     "output_type": "execute_result"
    }
   ],
   "source": [
    "county = \"INDIA\"  # upper case\n",
    "county.upper()"
   ]
  },
  {
   "cell_type": "code",
   "execution_count": 16,
   "id": "collaborative-jason",
   "metadata": {},
   "outputs": [
    {
     "data": {
      "text/plain": [
       "'INDIA'"
      ]
     },
     "execution_count": 16,
     "metadata": {},
     "output_type": "execute_result"
    }
   ],
   "source": [
    "country = \"India\"  # upper case\n",
    "country.upper()"
   ]
  },
  {
   "cell_type": "code",
   "execution_count": 19,
   "id": "brazilian-windows",
   "metadata": {},
   "outputs": [
    {
     "name": "stdout",
     "output_type": "stream",
     "text": [
      "India\n",
      "INDIA\n",
      "India\n"
     ]
    }
   ],
   "source": [
    "country = \"India\"\n",
    "print(country)        # India\n",
    "\n",
    "x = country.upper()     \n",
    "print(x)\n",
    "print(country)       # India\n"
   ]
  },
  {
   "cell_type": "code",
   "execution_count": 23,
   "id": "productive-invalid",
   "metadata": {},
   "outputs": [
    {
     "name": "stdout",
     "output_type": "stream",
     "text": [
      "India\n",
      "INDIA\n",
      "INDIA\n"
     ]
    }
   ],
   "source": [
    "country = \"India\"\n",
    "print(country)        # India\n",
    "\n",
    "country = country.upper()     \n",
    "print(country)       # INDIA\n",
    "print(country)       # INDIA\n"
   ]
  },
  {
   "cell_type": "code",
   "execution_count": 27,
   "id": "closed-senator",
   "metadata": {},
   "outputs": [
    {
     "data": {
      "text/plain": [
       "'SBIN0123456'"
      ]
     },
     "execution_count": 27,
     "metadata": {},
     "output_type": "execute_result"
    }
   ],
   "source": [
    "ifsc_code = \"sbin0123456\"\n",
    "ifsc_code = ifsc_code.upper()\n",
    "ifsc_code"
   ]
  },
  {
   "cell_type": "code",
   "execution_count": 32,
   "id": "approximate-trademark",
   "metadata": {},
   "outputs": [
    {
     "name": "stdout",
     "output_type": "stream",
     "text": [
      "Original Name :: Rohit Sharma\n",
      "Updated Name :: ROHIT SHARMA\n"
     ]
    }
   ],
   "source": [
    "pan_card_name = \"Rohit Sharma\"\n",
    "print(f\"Original Name :: {pan_card_name}\")\n",
    "\n",
    "pan_card_name = pan_card_name.upper()\n",
    "print(f\"Updated Name :: {pan_card_name}\")\n"
   ]
  },
  {
   "cell_type": "markdown",
   "id": "distinguished-cylinder",
   "metadata": {},
   "source": [
    "# 3. lower()"
   ]
  },
  {
   "cell_type": "code",
   "execution_count": 34,
   "id": "prepared-search",
   "metadata": {},
   "outputs": [
    {
     "data": {
      "text/plain": [
       "'data science'"
      ]
     },
     "execution_count": 34,
     "metadata": {},
     "output_type": "execute_result"
    }
   ],
   "source": [
    "s = 'Data Science'\n",
    "s.lower()"
   ]
  },
  {
   "cell_type": "code",
   "execution_count": 36,
   "id": "crude-begin",
   "metadata": {},
   "outputs": [
    {
     "data": {
      "text/plain": [
       "'data science'"
      ]
     },
     "execution_count": 36,
     "metadata": {},
     "output_type": "execute_result"
    }
   ],
   "source": [
    "s = 'data science'\n",
    "s.lower()"
   ]
  },
  {
   "cell_type": "code",
   "execution_count": 38,
   "id": "intermediate-adapter",
   "metadata": {},
   "outputs": [
    {
     "data": {
      "text/plain": [
       "'python'"
      ]
     },
     "execution_count": 38,
     "metadata": {},
     "output_type": "execute_result"
    }
   ],
   "source": [
    "s = 'PYTHON'\n",
    "s.lower()"
   ]
  },
  {
   "cell_type": "code",
   "execution_count": 40,
   "id": "anonymous-property",
   "metadata": {},
   "outputs": [
    {
     "data": {
      "text/plain": [
       "'machine learning is the study of computer algorithms that can improve automatically \\nthrough experience and by the use of data. it is seen as a part of artificial intelligence'"
      ]
     },
     "execution_count": 40,
     "metadata": {},
     "output_type": "execute_result"
    }
   ],
   "source": [
    "machin_learning= \"\"\"Machine learning is the study of computer algorithms that can improve automatically \n",
    "through experience and by the use of data. It is seen as a part of artificial intelligence\"\"\"\n",
    "\n",
    "machin_learning.lower()"
   ]
  },
  {
   "cell_type": "code",
   "execution_count": 42,
   "id": "faced-locator",
   "metadata": {},
   "outputs": [
    {
     "name": "stdout",
     "output_type": "stream",
     "text": [
      "Both cards are of Different Persons\n"
     ]
    }
   ],
   "source": [
    "aadhar_card_name = 'Rohit Sharma'\n",
    "pan_card_name = \"ROHIT SHARMA\"\n",
    "\n",
    "if aadhar_card_name == pan_card_name:  # False\n",
    "    print('Both cards are of same person')\n",
    "    \n",
    "else:\n",
    "    print(\"Both cards are of Different Persons\")"
   ]
  },
  {
   "cell_type": "code",
   "execution_count": 46,
   "id": "mexican-second",
   "metadata": {},
   "outputs": [
    {
     "name": "stdout",
     "output_type": "stream",
     "text": [
      "rohit sharma\n",
      "rohit sharma\n",
      "Both cards are of same person\n"
     ]
    }
   ],
   "source": [
    "aadhar_card_name = 'Rohit Sharma'\n",
    "pan_card_name = \"ROHIT SHARMA\"\n",
    "\n",
    "aadhar_card_name = aadhar_card_name.lower()\n",
    "pan_card_name = pan_card_name.lower()\n",
    "print(aadhar_card_name)\n",
    "print(pan_card_name)\n",
    "\n",
    "if aadhar_card_name == pan_card_name:  # False\n",
    "    print('Both cards are of same person')\n",
    "    \n",
    "else:\n",
    "    print(\"Both cards are of Different Persons\")"
   ]
  },
  {
   "cell_type": "code",
   "execution_count": 48,
   "id": "northern-cuisine",
   "metadata": {},
   "outputs": [
    {
     "name": "stdout",
     "output_type": "stream",
     "text": [
      "ROHIT SHARMA\n",
      "ROHIT SHARMA\n",
      "Both cards are of same person\n"
     ]
    }
   ],
   "source": [
    "aadhar_card_name = 'Rohit Sharma'\n",
    "pan_card_name = \"ROHIT SHARMA\"\n",
    "\n",
    "aadhar_card_name = aadhar_card_name.upper()\n",
    "pan_card_name = pan_card_name.upper()\n",
    "print(aadhar_card_name)\n",
    "print(pan_card_name)\n",
    "\n",
    "if aadhar_card_name == pan_card_name:  # False\n",
    "    print('Both cards are of same person')\n",
    "    \n",
    "else:\n",
    "    print(\"Both cards are of Different Persons\")"
   ]
  },
  {
   "cell_type": "code",
   "execution_count": 51,
   "id": "interested-collins",
   "metadata": {},
   "outputs": [
    {
     "name": "stdout",
     "output_type": "stream",
     "text": [
      "Both cards are of same person\n",
      "Rohit Sharma\n",
      "ROHIT SHARMA\n"
     ]
    }
   ],
   "source": [
    "aadhar_card_name = 'Rohit Sharma'\n",
    "pan_card_name = \"ROHIT SHARMA\"\n",
    "\n",
    "if aadhar_card_name.upper() == pan_card_name.upper():  # False\n",
    "    print('Both cards are of same person')\n",
    "    \n",
    "else:\n",
    "    print(\"Both cards are of Different Persons\")\n",
    "    \n",
    "print(aadhar_card_name)\n",
    "print(pan_card_name)"
   ]
  },
  {
   "cell_type": "markdown",
   "id": "announced-consent",
   "metadata": {},
   "source": [
    "# 4. title"
   ]
  },
  {
   "cell_type": "raw",
   "id": "lucky-cycle",
   "metadata": {},
   "source": [
    "Convert string into title case\n",
    "Capitalize first char of every word in string"
   ]
  },
  {
   "cell_type": "code",
   "execution_count": 52,
   "id": "actual-internship",
   "metadata": {},
   "outputs": [],
   "source": [
    "name = 'rohit sharma' # Rohit Sharma\n",
    "country = 'india'  # India\n",
    "country = 'united kingdom'  # United Kingdom\n"
   ]
  },
  {
   "cell_type": "code",
   "execution_count": 64,
   "id": "incorporate-footage",
   "metadata": {},
   "outputs": [
    {
     "data": {
      "text/plain": [
       "'Rohit Sharma'"
      ]
     },
     "execution_count": 64,
     "metadata": {},
     "output_type": "execute_result"
    }
   ],
   "source": [
    "name = 'rohit sharma'\n",
    "name.title()"
   ]
  },
  {
   "cell_type": "code",
   "execution_count": 65,
   "id": "optional-salvation",
   "metadata": {},
   "outputs": [
    {
     "data": {
      "text/plain": [
       "'Rohit Sharma'"
      ]
     },
     "execution_count": 65,
     "metadata": {},
     "output_type": "execute_result"
    }
   ],
   "source": [
    "name = 'ROHIT SHARMA'\n",
    "name.title()"
   ]
  },
  {
   "cell_type": "code",
   "execution_count": 58,
   "id": "liable-shift",
   "metadata": {},
   "outputs": [
    {
     "data": {
      "text/plain": [
       "'India'"
      ]
     },
     "execution_count": 58,
     "metadata": {},
     "output_type": "execute_result"
    }
   ],
   "source": [
    "country = 'india'  # India\n",
    "country.title()"
   ]
  },
  {
   "cell_type": "code",
   "execution_count": 60,
   "id": "legal-posting",
   "metadata": {},
   "outputs": [
    {
     "data": {
      "text/plain": [
       "'United Kingdom'"
      ]
     },
     "execution_count": 60,
     "metadata": {},
     "output_type": "execute_result"
    }
   ],
   "source": [
    "country_name = 'united kingdom'  # United Kingdom\n",
    "country_name.title()"
   ]
  },
  {
   "cell_type": "code",
   "execution_count": 62,
   "id": "elder-basics",
   "metadata": {},
   "outputs": [
    {
     "data": {
      "text/plain": [
       "'Machine Learning Is The Study Of Computer Algorithms That Can Improve Automatically \\nThrough Experience And By The Use Of Data. It Is Seen As A Part Of Artificial Intelligence'"
      ]
     },
     "execution_count": 62,
     "metadata": {},
     "output_type": "execute_result"
    }
   ],
   "source": [
    "machin_learning= \"\"\"Machine learning is the study of computer algorithms that can improve automatically \n",
    "through experience and by the use of data. It is seen as a part of artificial intelligence\"\"\"\n",
    "\n",
    "machin_learning.title()"
   ]
  },
  {
   "cell_type": "code",
   "execution_count": 66,
   "id": "thick-temple",
   "metadata": {},
   "outputs": [
    {
     "data": {
      "text/plain": [
       "'Machine learning is the study of computer algorithms that can improve automatically \\nthrough experience and by the use of data. it is seen as a part of artificial intelligence'"
      ]
     },
     "execution_count": 66,
     "metadata": {},
     "output_type": "execute_result"
    }
   ],
   "source": [
    "machin_learning= \"\"\"Machine learning is the study of computer algorithms that can improve automatically \n",
    "through experience and by the use of data. It is seen as a part of artificial intelligence\"\"\"\n",
    "\n",
    "machin_learning.capitalize()"
   ]
  },
  {
   "cell_type": "markdown",
   "id": "pursuant-illinois",
   "metadata": {},
   "source": [
    "# 5.lstrip()"
   ]
  },
  {
   "cell_type": "raw",
   "id": "sealed-candy",
   "metadata": {},
   "source": [
    "To remove leading white spaces"
   ]
  },
  {
   "cell_type": "code",
   "execution_count": 69,
   "id": "retained-update",
   "metadata": {},
   "outputs": [
    {
     "data": {
      "text/plain": [
       "'      united kingdom'"
      ]
     },
     "execution_count": 69,
     "metadata": {},
     "output_type": "execute_result"
    }
   ],
   "source": [
    "country_name = '      united kingdom'  # United Kingdom\n",
    "country_name.title()\n",
    "country_name.capitalize()"
   ]
  },
  {
   "cell_type": "code",
   "execution_count": 72,
   "id": "closed-editor",
   "metadata": {},
   "outputs": [
    {
     "data": {
      "text/plain": [
       "'UNITED KINGDOM'"
      ]
     },
     "execution_count": 72,
     "metadata": {},
     "output_type": "execute_result"
    }
   ],
   "source": [
    "country_name = '      united kingdom'  # United Kingdom\n",
    "country_name = country_name.lstrip()\n",
    "country_name.upper()"
   ]
  },
  {
   "cell_type": "code",
   "execution_count": 74,
   "id": "greenhouse-emphasis",
   "metadata": {},
   "outputs": [
    {
     "data": {
      "text/plain": [
       "'      UNITED KINGDOM'"
      ]
     },
     "execution_count": 74,
     "metadata": {},
     "output_type": "execute_result"
    }
   ],
   "source": [
    "country_name = '      united kingdom'  # United Kingdom\n",
    "country_name.lstrip()\n",
    "country_name.upper()"
   ]
  },
  {
   "cell_type": "markdown",
   "id": "statistical-royal",
   "metadata": {},
   "source": [
    "# 6. rstrip()"
   ]
  },
  {
   "cell_type": "raw",
   "id": "maritime-contents",
   "metadata": {},
   "source": [
    "It removes trailing whitespaces"
   ]
  },
  {
   "cell_type": "code",
   "execution_count": 78,
   "id": "golden-underwear",
   "metadata": {},
   "outputs": [
    {
     "data": {
      "text/plain": [
       "'united kingdom'"
      ]
     },
     "execution_count": 78,
     "metadata": {},
     "output_type": "execute_result"
    }
   ],
   "source": [
    "country_name = 'united kingdom       ' \n",
    "country_name.rstrip()"
   ]
  },
  {
   "cell_type": "code",
   "execution_count": null,
   "id": "official-murder",
   "metadata": {},
   "outputs": [],
   "source": [
    "country_name = 'united kingdom       ' \n",
    "country_name.rstrip()"
   ]
  },
  {
   "cell_type": "markdown",
   "id": "adolescent-exploration",
   "metadata": {},
   "source": [
    "# 7. strip()"
   ]
  },
  {
   "cell_type": "code",
   "execution_count": 84,
   "id": "found-advertiser",
   "metadata": {},
   "outputs": [
    {
     "data": {
      "text/plain": [
       "'rohit sharma'"
      ]
     },
     "execution_count": 84,
     "metadata": {},
     "output_type": "execute_result"
    }
   ],
   "source": [
    "name = '          rohit sharma            '\n",
    "len(name)\n",
    "name.strip()"
   ]
  },
  {
   "cell_type": "code",
   "execution_count": 92,
   "id": "norwegian-window",
   "metadata": {},
   "outputs": [
    {
     "name": "stdout",
     "output_type": "stream",
     "text": [
      "Both cards are of same person\n"
     ]
    }
   ],
   "source": [
    "aadhar_card_name = '  Rohit Sharma ' \n",
    "pan_card_name = \" ROHIT SHARMA   \"\n",
    "\n",
    "\n",
    "if aadhar_card_name.strip().upper() == pan_card_name.strip().upper():  # False\n",
    "    print('Both cards are of same person')\n",
    "    \n",
    "else:\n",
    "    print(\"Both cards are of Different Persons\")"
   ]
  },
  {
   "cell_type": "code",
   "execution_count": 93,
   "id": "juvenile-hobby",
   "metadata": {},
   "outputs": [
    {
     "data": {
      "text/plain": [
       "'ROHIT SHARMA'"
      ]
     },
     "execution_count": 93,
     "metadata": {},
     "output_type": "execute_result"
    }
   ],
   "source": [
    "aadhar_card_name\n",
    "aadhar_card_name = aadhar_card_name.strip().upper()\n",
    "aadhar_card_name"
   ]
  },
  {
   "cell_type": "raw",
   "id": "welcome-stock",
   "metadata": {},
   "source": [
    "OCR :\n",
    "    pytesseract\n",
    "    google vision OCR\n",
    "    AWS Textract"
   ]
  },
  {
   "cell_type": "markdown",
   "id": "ignored-brake",
   "metadata": {},
   "source": [
    "# 8. swapcase()"
   ]
  },
  {
   "cell_type": "code",
   "execution_count": null,
   "id": "focused-medicine",
   "metadata": {},
   "outputs": [],
   "source": [
    "It invert case of all char\n",
    "lower >> upper\n",
    "upper >> lower"
   ]
  },
  {
   "cell_type": "code",
   "execution_count": 95,
   "id": "continent-feelings",
   "metadata": {},
   "outputs": [
    {
     "data": {
      "text/plain": [
       "'pYTHON'"
      ]
     },
     "execution_count": 95,
     "metadata": {},
     "output_type": "execute_result"
    }
   ],
   "source": [
    "s = 'Python'\n",
    "s.swapcase()"
   ]
  },
  {
   "cell_type": "code",
   "execution_count": 97,
   "id": "invisible-treasure",
   "metadata": {},
   "outputs": [
    {
     "data": {
      "text/plain": [
       "'python'"
      ]
     },
     "execution_count": 97,
     "metadata": {},
     "output_type": "execute_result"
    }
   ],
   "source": [
    "s = 'PYTHON'\n",
    "s.swapcase()"
   ]
  },
  {
   "cell_type": "code",
   "execution_count": 99,
   "id": "indonesian-bangkok",
   "metadata": {},
   "outputs": [
    {
     "data": {
      "text/plain": [
       "'PYTHON'"
      ]
     },
     "execution_count": 99,
     "metadata": {},
     "output_type": "execute_result"
    }
   ],
   "source": [
    "s = 'python'\n",
    "s.swapcase()"
   ]
  },
  {
   "cell_type": "code",
   "execution_count": 101,
   "id": "genuine-think",
   "metadata": {},
   "outputs": [
    {
     "data": {
      "text/plain": [
       "'mACHINE lEARNING'"
      ]
     },
     "execution_count": 101,
     "metadata": {},
     "output_type": "execute_result"
    }
   ],
   "source": [
    "s = \"Machine Learning\"\n",
    "s.swapcase()"
   ]
  },
  {
   "cell_type": "markdown",
   "id": "inclusive-norfolk",
   "metadata": {},
   "source": [
    "# 9. replace()"
   ]
  },
  {
   "cell_type": "raw",
   "id": "explicit-burton",
   "metadata": {},
   "source": [
    "string.replace(old_str, new_str, [count]) # count is optional"
   ]
  },
  {
   "cell_type": "code",
   "execution_count": 105,
   "id": "disciplinary-milwaukee",
   "metadata": {},
   "outputs": [
    {
     "data": {
      "text/plain": [
       "'Data Science Class'"
      ]
     },
     "execution_count": 105,
     "metadata": {},
     "output_type": "execute_result"
    }
   ],
   "source": [
    "str1 = 'Python Class'\n",
    "str1.replace(\"Python\",\"Data Science\")\n"
   ]
  },
  {
   "cell_type": "code",
   "execution_count": 108,
   "id": "convinced-vietnam",
   "metadata": {},
   "outputs": [
    {
     "data": {
      "text/plain": [
       "'Jython Class'"
      ]
     },
     "execution_count": 108,
     "metadata": {},
     "output_type": "execute_result"
    }
   ],
   "source": [
    "str1 = 'Python Class'\n",
    "str1.replace(\"P\",\"J\")"
   ]
  },
  {
   "cell_type": "code",
   "execution_count": 110,
   "id": "imposed-shuttle",
   "metadata": {},
   "outputs": [
    {
     "data": {
      "text/plain": [
       "'Java Class'"
      ]
     },
     "execution_count": 110,
     "metadata": {},
     "output_type": "execute_result"
    }
   ],
   "source": [
    "str1 = 'Python Class'\n",
    "str1.replace(\"Python\",\"Java\")"
   ]
  },
  {
   "cell_type": "code",
   "execution_count": 112,
   "id": "realistic-trauma",
   "metadata": {},
   "outputs": [
    {
     "data": {
      "text/plain": [
       "'Python Class'"
      ]
     },
     "execution_count": 112,
     "metadata": {},
     "output_type": "execute_result"
    }
   ],
   "source": [
    "str1 = 'Python Class'\n",
    "str1.replace(\"python\",\"Java\")"
   ]
  },
  {
   "cell_type": "code",
   "execution_count": 115,
   "id": "multiple-algebra",
   "metadata": {},
   "outputs": [
    {
     "data": {
      "text/plain": [
       "'C Language Class'"
      ]
     },
     "execution_count": 115,
     "metadata": {},
     "output_type": "execute_result"
    }
   ],
   "source": [
    "str1 = 'Python Class'\n",
    "str1.replace(\"Python\",\"C Language\")"
   ]
  },
  {
   "cell_type": "code",
   "execution_count": 117,
   "id": "pregnant-terrorist",
   "metadata": {},
   "outputs": [
    {
     "data": {
      "text/plain": [
       "'+++++ Class'"
      ]
     },
     "execution_count": 117,
     "metadata": {},
     "output_type": "execute_result"
    }
   ],
   "source": [
    "str1 = 'Python Class'\n",
    "str1.replace(\"Python\",\"+++++\")"
   ]
  },
  {
   "cell_type": "code",
   "execution_count": 119,
   "id": "dependent-fleet",
   "metadata": {},
   "outputs": [
    {
     "data": {
      "text/plain": [
       "'Python+++++Class'"
      ]
     },
     "execution_count": 119,
     "metadata": {},
     "output_type": "execute_result"
    }
   ],
   "source": [
    "str1 = 'Python Class'\n",
    "str1.replace(\" \",\"+++++\")"
   ]
  },
  {
   "cell_type": "code",
   "execution_count": 122,
   "id": "developing-custom",
   "metadata": {},
   "outputs": [
    {
     "data": {
      "text/plain": [
       "'++++Python Class++++ '"
      ]
     },
     "execution_count": 122,
     "metadata": {},
     "output_type": "execute_result"
    }
   ],
   "source": [
    "str1 = '    Python Class     '\n",
    "str1.replace(\"  \",\"++\")"
   ]
  },
  {
   "cell_type": "code",
   "execution_count": 125,
   "id": "manufactured-contact",
   "metadata": {},
   "outputs": [
    {
     "data": {
      "text/plain": [
       "'Python Class '"
      ]
     },
     "execution_count": 125,
     "metadata": {},
     "output_type": "execute_result"
    }
   ],
   "source": [
    "str1 = '    Python Class     '\n",
    "str1.replace(\"  \",\"\")"
   ]
  },
  {
   "cell_type": "code",
   "execution_count": 130,
   "id": "major-satisfaction",
   "metadata": {},
   "outputs": [
    {
     "data": {
      "text/plain": [
       "'M@ch*n# l#@rn*ng *s th# st^dy $f c$mp^t#r @lg$r*thms'"
      ]
     },
     "execution_count": 130,
     "metadata": {},
     "output_type": "execute_result"
    }
   ],
   "source": [
    "machin_learning = \"Machine learning is the study of computer algorithms\"\n",
    "\n",
    "machin_learning.replace('a','@').replace('e','#').replace('i','*').replace('o','$').replace('u','^')"
   ]
  },
  {
   "cell_type": "code",
   "execution_count": 132,
   "id": "extraordinary-basket",
   "metadata": {},
   "outputs": [
    {
     "data": {
      "text/plain": [
       "'Mchn lrnng s th stdy f cmptr lgrthms'"
      ]
     },
     "execution_count": 132,
     "metadata": {},
     "output_type": "execute_result"
    }
   ],
   "source": [
    "machin_learning = \"Machine learning is the study of computer algorithms\"\n",
    "\n",
    "machin_learning.replace('a','').replace('e','').replace('i','').replace('o','').replace('u','')"
   ]
  },
  {
   "cell_type": "code",
   "execution_count": 134,
   "id": "southeast-sustainability",
   "metadata": {},
   "outputs": [
    {
     "data": {
      "text/plain": [
       "'JAVA and Data Science class, Pune. JAVA is used for Machine Learning'"
      ]
     },
     "execution_count": 134,
     "metadata": {},
     "output_type": "execute_result"
    }
   ],
   "source": [
    "string = \"Python and Data Science class, Pune. Python is used for Machine Learning\"\n",
    "string.replace(\"Python\",\"JAVA\")"
   ]
  },
  {
   "cell_type": "code",
   "execution_count": 136,
   "id": "comparative-gravity",
   "metadata": {},
   "outputs": [
    {
     "data": {
      "text/plain": [
       "'JAVA and Data Science class, Pune. Python is used for Machine Learning'"
      ]
     },
     "execution_count": 136,
     "metadata": {},
     "output_type": "execute_result"
    }
   ],
   "source": [
    "string = \"Python and Data Science class, Pune. Python is used for Machine Learning\"\n",
    "string.replace(\"Python\",\"JAVA\",1)"
   ]
  },
  {
   "cell_type": "code",
   "execution_count": 138,
   "id": "similar-brake",
   "metadata": {},
   "outputs": [
    {
     "data": {
      "text/plain": [
       "'JAVA and Data Science class, Pune. JAVA is used for Machine Learning'"
      ]
     },
     "execution_count": 138,
     "metadata": {},
     "output_type": "execute_result"
    }
   ],
   "source": [
    "string = \"Python and Data Science class, Pune. Python is used for Machine Learning\"\n",
    "string.replace(\"Python\",\"JAVA\",2)"
   ]
  },
  {
   "cell_type": "code",
   "execution_count": 140,
   "id": "premium-panama",
   "metadata": {},
   "outputs": [
    {
     "data": {
      "text/plain": [
       "'python and Data Science class, Pune. JAVA is used for Machine Learning'"
      ]
     },
     "execution_count": 140,
     "metadata": {},
     "output_type": "execute_result"
    }
   ],
   "source": [
    "string = \"python and Data Science class, Pune. Python is used for Machine Learning\"\n",
    "string.replace(\"Python\",\"JAVA\",1)"
   ]
  }
 ],
 "metadata": {
  "kernelspec": {
   "display_name": "Python 3",
   "language": "python",
   "name": "python3"
  },
  "language_info": {
   "codemirror_mode": {
    "name": "ipython",
    "version": 3
   },
   "file_extension": ".py",
   "mimetype": "text/x-python",
   "name": "python",
   "nbconvert_exporter": "python",
   "pygments_lexer": "ipython3",
   "version": "3.8.7"
  }
 },
 "nbformat": 4,
 "nbformat_minor": 5
}
