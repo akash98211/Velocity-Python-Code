{
 "cells": [
  {
   "cell_type": "markdown",
   "id": "cleared-citation",
   "metadata": {},
   "source": [
    "# String Functions"
   ]
  },
  {
   "cell_type": "raw",
   "id": "working-tract",
   "metadata": {},
   "source": [
    "1. capitalize()\n",
    "2. upper()\n",
    "3. lower()\n",
    "4. title()\n",
    "5. lstrip()\n",
    "6. rstrip()\n",
    "7. strip()\n",
    "8. swapcase()\n",
    "9. replace()"
   ]
  },
  {
   "cell_type": "markdown",
   "id": "tutorial-paraguay",
   "metadata": {},
   "source": [
    "# 10. count"
   ]
  },
  {
   "cell_type": "raw",
   "id": "ignored-taylor",
   "metadata": {},
   "source": [
    "count(substring,[start_index],[end_index])\n",
    "Count of substring\n"
   ]
  },
  {
   "cell_type": "code",
   "execution_count": 2,
   "id": "raising-america",
   "metadata": {},
   "outputs": [
    {
     "data": {
      "text/plain": [
       "2"
      ]
     },
     "execution_count": 2,
     "metadata": {},
     "output_type": "execute_result"
    }
   ],
   "source": [
    "string = 'Hello Python'\n",
    "string.count('l')"
   ]
  },
  {
   "cell_type": "code",
   "execution_count": 4,
   "id": "central-championship",
   "metadata": {},
   "outputs": [
    {
     "data": {
      "text/plain": [
       "1"
      ]
     },
     "execution_count": 4,
     "metadata": {},
     "output_type": "execute_result"
    }
   ],
   "source": [
    "string = 'Hello Python'\n",
    "string.count('Hello')"
   ]
  },
  {
   "cell_type": "code",
   "execution_count": 7,
   "id": "together-hammer",
   "metadata": {},
   "outputs": [
    {
     "data": {
      "text/plain": [
       "1"
      ]
     },
     "execution_count": 7,
     "metadata": {},
     "output_type": "execute_result"
    }
   ],
   "source": [
    "string = 'Hello Python'\n",
    "string.count('Python')"
   ]
  },
  {
   "cell_type": "code",
   "execution_count": 9,
   "id": "theoretical-cherry",
   "metadata": {},
   "outputs": [
    {
     "data": {
      "text/plain": [
       "7"
      ]
     },
     "execution_count": 9,
     "metadata": {},
     "output_type": "execute_result"
    }
   ],
   "source": [
    "string = \"\"\"Machine learning is the study of computer algorithms that can improve \n",
    "automatically through experience and by the use of data. It is seen as a part of \n",
    "artificial intelligence\"\"\"\n",
    "string.count('l')"
   ]
  },
  {
   "cell_type": "code",
   "execution_count": 12,
   "id": "atmospheric-louis",
   "metadata": {},
   "outputs": [
    {
     "data": {
      "text/plain": [
       "1"
      ]
     },
     "execution_count": 12,
     "metadata": {},
     "output_type": "execute_result"
    }
   ],
   "source": [
    "string = \"\"\"Machine learning is the study of computer algorithms that can improve \n",
    "automatically through experience and by the use of data. It is seen as a part of \n",
    "artificial intelligence\"\"\"\n",
    "string.count('learning')"
   ]
  },
  {
   "cell_type": "code",
   "execution_count": 14,
   "id": "unable-recipient",
   "metadata": {},
   "outputs": [
    {
     "data": {
      "text/plain": [
       "2"
      ]
     },
     "execution_count": 14,
     "metadata": {},
     "output_type": "execute_result"
    }
   ],
   "source": [
    "string.count('is')"
   ]
  },
  {
   "cell_type": "code",
   "execution_count": 16,
   "id": "ancient-hurricane",
   "metadata": {},
   "outputs": [
    {
     "data": {
      "text/plain": [
       "2"
      ]
     },
     "execution_count": 16,
     "metadata": {},
     "output_type": "execute_result"
    }
   ],
   "source": [
    "string = 'Hello Python'\n",
    "string.count('l')\n"
   ]
  },
  {
   "cell_type": "code",
   "execution_count": 23,
   "id": "violent-lunch",
   "metadata": {},
   "outputs": [
    {
     "data": {
      "text/plain": [
       "2"
      ]
     },
     "execution_count": 23,
     "metadata": {},
     "output_type": "execute_result"
    }
   ],
   "source": [
    "string = 'Hello Python'\n",
    "string.count('l',2)"
   ]
  },
  {
   "cell_type": "code",
   "execution_count": 34,
   "id": "early-boards",
   "metadata": {},
   "outputs": [
    {
     "data": {
      "text/plain": [
       "2"
      ]
     },
     "execution_count": 34,
     "metadata": {},
     "output_type": "execute_result"
    }
   ],
   "source": [
    "string = 'Hello Python'\n",
    "string.count('l',2,4)"
   ]
  },
  {
   "cell_type": "code",
   "execution_count": 38,
   "id": "contemporary-marble",
   "metadata": {},
   "outputs": [
    {
     "name": "stdout",
     "output_type": "stream",
     "text": [
      "0\n"
     ]
    }
   ],
   "source": [
    "string = 'Hello Python'\n",
    "cnt = string.count('hello')\n",
    "print(cnt)"
   ]
  },
  {
   "cell_type": "code",
   "execution_count": 32,
   "id": "naughty-jonathan",
   "metadata": {},
   "outputs": [
    {
     "data": {
      "text/plain": [
       "'ll'"
      ]
     },
     "execution_count": 32,
     "metadata": {},
     "output_type": "execute_result"
    }
   ],
   "source": [
    "string[2:4]"
   ]
  },
  {
   "cell_type": "markdown",
   "id": "emotional-school",
   "metadata": {},
   "source": [
    "# 11. index()"
   ]
  },
  {
   "cell_type": "code",
   "execution_count": null,
   "id": "subtle-toner",
   "metadata": {},
   "outputs": [],
   "source": [
    "index(substring,[start_index],[end_index])\n"
   ]
  },
  {
   "cell_type": "code",
   "execution_count": null,
   "id": "corresponding-extra",
   "metadata": {},
   "outputs": [],
   "source": [
    "index of  char/substring/word\n",
    "It returns first index of char/substring/word"
   ]
  },
  {
   "cell_type": "code",
   "execution_count": 40,
   "id": "expanded-commission",
   "metadata": {},
   "outputs": [
    {
     "data": {
      "text/plain": [
       "6"
      ]
     },
     "execution_count": 40,
     "metadata": {},
     "output_type": "execute_result"
    }
   ],
   "source": [
    "string = 'Hello Python'\n",
    "string.index('P')"
   ]
  },
  {
   "cell_type": "code",
   "execution_count": 43,
   "id": "fantastic-junction",
   "metadata": {},
   "outputs": [
    {
     "data": {
      "text/plain": [
       "6"
      ]
     },
     "execution_count": 43,
     "metadata": {},
     "output_type": "execute_result"
    }
   ],
   "source": [
    "string = 'Hello Python'\n",
    "string.index('Python')"
   ]
  },
  {
   "cell_type": "code",
   "execution_count": 45,
   "id": "activated-blond",
   "metadata": {},
   "outputs": [
    {
     "data": {
      "text/plain": [
       "0"
      ]
     },
     "execution_count": 45,
     "metadata": {},
     "output_type": "execute_result"
    }
   ],
   "source": [
    "string = 'Hello Python'\n",
    "string.index('Hello')"
   ]
  },
  {
   "cell_type": "code",
   "execution_count": 47,
   "id": "enormous-mobility",
   "metadata": {},
   "outputs": [
    {
     "data": {
      "text/plain": [
       "93"
      ]
     },
     "execution_count": 47,
     "metadata": {},
     "output_type": "execute_result"
    }
   ],
   "source": [
    "string = \"\"\"Machine learning is the study of computer algorithms that can improve \n",
    "automatically through experience and by the use of data. It is seen as a part of \n",
    "artificial intelligence\"\"\"\n",
    "string.index('experience')"
   ]
  },
  {
   "cell_type": "code",
   "execution_count": 49,
   "id": "beautiful-briefing",
   "metadata": {},
   "outputs": [
    {
     "data": {
      "text/plain": [
       "17"
      ]
     },
     "execution_count": 49,
     "metadata": {},
     "output_type": "execute_result"
    }
   ],
   "source": [
    "string = \"\"\"Machine learning is the study of computer algorithms that can improve \n",
    "automatically through experience and by the use of data. It is seen as a part of \n",
    "artificial intelligence\"\"\"\n",
    "string.index('is')"
   ]
  },
  {
   "cell_type": "code",
   "execution_count": 51,
   "id": "elect-mentor",
   "metadata": {},
   "outputs": [
    {
     "data": {
      "text/plain": [
       "4"
      ]
     },
     "execution_count": 51,
     "metadata": {},
     "output_type": "execute_result"
    }
   ],
   "source": [
    "string = \"\"\"Machine learning is the study of computer algorithms that can improve \n",
    "automatically through experience and by the use of data. It is seen as a part of \n",
    "artificial intelligence\"\"\"\n",
    "string.index('i')"
   ]
  },
  {
   "cell_type": "code",
   "execution_count": 59,
   "id": "relative-timothy",
   "metadata": {},
   "outputs": [
    {
     "data": {
      "text/plain": [
       "131"
      ]
     },
     "execution_count": 59,
     "metadata": {},
     "output_type": "execute_result"
    }
   ],
   "source": [
    "string = \"\"\"Machine learning is the study of computer algorithms that can improve \n",
    "automatically through experience and by the use of data. It is seen as a part of \n",
    "artificial intelligence\"\"\"\n",
    "string.index('is',129)"
   ]
  },
  {
   "cell_type": "code",
   "execution_count": 68,
   "id": "amateur-accident",
   "metadata": {},
   "outputs": [
    {
     "data": {
      "text/plain": [
       "33"
      ]
     },
     "execution_count": 68,
     "metadata": {},
     "output_type": "execute_result"
    }
   ],
   "source": [
    "string = \"\"\"Machine learning is the study of computer algorithms that can improve \n",
    "automatically through experience and by the use of data. computer It is seen as a part of \n",
    "artificial intelligence\"\"\"\n",
    "string.count('computer')\n",
    "string.index('computer',10,50)"
   ]
  },
  {
   "cell_type": "code",
   "execution_count": 91,
   "id": "compressed-oakland",
   "metadata": {},
   "outputs": [
    {
     "ename": "ValueError",
     "evalue": "substring not found",
     "output_type": "error",
     "traceback": [
      "\u001b[1;31m---------------------------------------------------------------------------\u001b[0m",
      "\u001b[1;31mValueError\u001b[0m                                Traceback (most recent call last)",
      "\u001b[1;32m<ipython-input-91-a898c088d983>\u001b[0m in \u001b[0;36m<module>\u001b[1;34m\u001b[0m\n\u001b[0;32m      1\u001b[0m \u001b[0mstring\u001b[0m \u001b[1;33m=\u001b[0m \u001b[1;34m'Hello Python'\u001b[0m\u001b[1;33m\u001b[0m\u001b[1;33m\u001b[0m\u001b[0m\n\u001b[1;32m----> 2\u001b[1;33m \u001b[0mstring\u001b[0m\u001b[1;33m.\u001b[0m\u001b[0mindex\u001b[0m\u001b[1;33m(\u001b[0m\u001b[1;34m'python'\u001b[0m\u001b[1;33m)\u001b[0m\u001b[1;33m\u001b[0m\u001b[1;33m\u001b[0m\u001b[0m\n\u001b[0m\u001b[0;32m      3\u001b[0m \u001b[0mprint\u001b[0m\u001b[1;33m(\u001b[0m\u001b[1;34m\"Hello\"\u001b[0m\u001b[1;33m)\u001b[0m\u001b[1;33m\u001b[0m\u001b[1;33m\u001b[0m\u001b[0m\n",
      "\u001b[1;31mValueError\u001b[0m: substring not found"
     ]
    }
   ],
   "source": [
    "string = 'Hello Python'\n",
    "string.index('python')\n",
    "print(\"Hello\")"
   ]
  },
  {
   "cell_type": "markdown",
   "id": "operational-replication",
   "metadata": {},
   "source": [
    "# 12. find()"
   ]
  },
  {
   "cell_type": "raw",
   "id": "variable-ranch",
   "metadata": {},
   "source": [
    "find(substring,[start_index],[end_index])\n",
    "Return -1 if substring not found"
   ]
  },
  {
   "cell_type": "code",
   "execution_count": 73,
   "id": "administrative-median",
   "metadata": {},
   "outputs": [
    {
     "name": "stdout",
     "output_type": "stream",
     "text": [
      "i == 6, j == 6\n"
     ]
    }
   ],
   "source": [
    "string = 'Hello Python'\n",
    "i = string.index('Python')\n",
    "j = string.find('Python')\n",
    "\n",
    "print(f\"i == {i}, j == {j}\")"
   ]
  },
  {
   "cell_type": "code",
   "execution_count": 92,
   "id": "compliant-coordinator",
   "metadata": {},
   "outputs": [
    {
     "name": "stdout",
     "output_type": "stream",
     "text": [
      "j == -1\n"
     ]
    }
   ],
   "source": [
    "string = 'Hello Python'\n",
    "# i = string.index('python')\n",
    "j = string.find('python')\n",
    "print(f\"j == {j}\")"
   ]
  },
  {
   "cell_type": "code",
   "execution_count": null,
   "id": "certain-decimal",
   "metadata": {},
   "outputs": [],
   "source": [
    "string = 'Hello Python'\n",
    "# i = string.index('python')\n",
    "j = string.index('python')\n",
    "\n",
    "print(f\"j == {j}\")"
   ]
  },
  {
   "cell_type": "code",
   "execution_count": 79,
   "id": "apparent-worse",
   "metadata": {},
   "outputs": [
    {
     "name": "stdout",
     "output_type": "stream",
     "text": [
      "Char/word is not in a given string\n"
     ]
    }
   ],
   "source": [
    "string = \"Machine Learning\"\n",
    "index = string.find('Python')\n",
    "\n",
    "if index == -1:\n",
    "    print(\"Char/word is not in a given string\")"
   ]
  },
  {
   "cell_type": "code",
   "execution_count": 82,
   "id": "sunrise-palace",
   "metadata": {},
   "outputs": [
    {
     "name": "stdout",
     "output_type": "stream",
     "text": [
      "Char/word is present in a given string\n"
     ]
    }
   ],
   "source": [
    "string = \"Machine Learning\"\n",
    "index = string.find('Learning')\n",
    "\n",
    "if index == -1:\n",
    "    print(\"Char/word is not present in a given string\")\n",
    "    \n",
    "else:\n",
    "    print(\"Char/word is present in a given string\")"
   ]
  },
  {
   "cell_type": "code",
   "execution_count": 94,
   "id": "foster-framework",
   "metadata": {},
   "outputs": [
    {
     "name": "stdout",
     "output_type": "stream",
     "text": [
      "Index is Learning  8\n"
     ]
    }
   ],
   "source": [
    "string = \"Machine Learning\"\n",
    "\n",
    "substring = \"Learning\" \n",
    "if substring in string: # True\n",
    "    index = string.index(substring)\n",
    "    print(f\"Index is {substring} \",index)"
   ]
  },
  {
   "cell_type": "code",
   "execution_count": null,
   "id": "severe-backing",
   "metadata": {},
   "outputs": [],
   "source": []
  },
  {
   "cell_type": "code",
   "execution_count": 88,
   "id": "vocal-damage",
   "metadata": {},
   "outputs": [
    {
     "name": "stdout",
     "output_type": "stream",
     "text": [
      "Index is Machine  0\n"
     ]
    }
   ],
   "source": [
    "string = \"Machine Learning\"\n",
    "\n",
    "substring = \"Machine\" \n",
    "if substring in string:\n",
    "    index = string.index(substring)\n",
    "    print(f\"Index is {substring} \",index)"
   ]
  },
  {
   "cell_type": "code",
   "execution_count": 90,
   "id": "patent-girlfriend",
   "metadata": {},
   "outputs": [
    {
     "name": "stdout",
     "output_type": "stream",
     "text": [
      "Index is c  2\n"
     ]
    }
   ],
   "source": [
    "string = \"Machine Learning\"\n",
    "\n",
    "substring = \"c\" \n",
    "if substring in string:\n",
    "    index = string.index(substring)\n",
    "    print(f\"Index is {substring} \",index)"
   ]
  },
  {
   "cell_type": "markdown",
   "id": "signal-difference",
   "metadata": {},
   "source": [
    "# 13. split()"
   ]
  },
  {
   "cell_type": "raw",
   "id": "dress-chain",
   "metadata": {},
   "source": [
    "# It return list of words seperated by white spaces\n",
    "# String to List"
   ]
  },
  {
   "cell_type": "code",
   "execution_count": 122,
   "id": "developing-hypothesis",
   "metadata": {},
   "outputs": [
    {
     "name": "stdout",
     "output_type": "stream",
     "text": [
      "<class 'str'>\n",
      "<class 'list'>\n",
      "['Machine', 'learning', 'is', 'the', 'study', 'of', 'computer', 'algorithms']\n",
      "<class 'str'>\n"
     ]
    }
   ],
   "source": [
    "string = \"Machine learning is the study of computer algorithms\"\n",
    "print(type(string))\n",
    "\n",
    "string_list = string.split() # list\n",
    "print(type(string_list))\n",
    "print(string_list)\n",
    "\n",
    "print(type(string))"
   ]
  },
  {
   "cell_type": "code",
   "execution_count": 103,
   "id": "relevant-experience",
   "metadata": {},
   "outputs": [
    {
     "name": "stdout",
     "output_type": "stream",
     "text": [
      "['Machine', 'learning', 'is', 'the', 'study', 'of', 'computer', 'algorithms']\n"
     ]
    }
   ],
   "source": [
    "string = \"Machine learning is the study of computer algorithms\"\n",
    "\n",
    "string_list = string.split()\n",
    "print(string_list)"
   ]
  },
  {
   "cell_type": "code",
   "execution_count": 104,
   "id": "sunset-retail",
   "metadata": {},
   "outputs": [
    {
     "name": "stdout",
     "output_type": "stream",
     "text": [
      "['Machine', 'learning', 'is', 'the', 'study', 'of', 'computer', 'algorithms'] 8\n"
     ]
    }
   ],
   "source": [
    "string = \"Machine learning is the study of computer algorithms\"\n",
    "\n",
    "string_list = string.split()\n",
    "print(string_list,len(string_list))"
   ]
  },
  {
   "cell_type": "code",
   "execution_count": 108,
   "id": "general-creature",
   "metadata": {},
   "outputs": [
    {
     "data": {
      "text/plain": [
       "4"
      ]
     },
     "execution_count": 108,
     "metadata": {},
     "output_type": "execute_result"
    }
   ],
   "source": [
    "list1 = [3,4,5,6,10.5,20,35,'Machine', 'learning', 'is']\n",
    "list1[1]"
   ]
  },
  {
   "cell_type": "code",
   "execution_count": 110,
   "id": "successful-mount",
   "metadata": {},
   "outputs": [
    {
     "data": {
      "text/plain": [
       "'learning'"
      ]
     },
     "execution_count": 110,
     "metadata": {},
     "output_type": "execute_result"
    }
   ],
   "source": [
    "list1 = ['Machine', 'learning', 'is', 'the', 'study', 'of', 'computer', 'algorithms'] \n",
    "list1[1]"
   ]
  },
  {
   "cell_type": "code",
   "execution_count": 112,
   "id": "distributed-voltage",
   "metadata": {},
   "outputs": [
    {
     "name": "stdout",
     "output_type": "stream",
     "text": [
      "['Machine', 'learning', 'is', 'the', 'study', 'of', 'computer', 'algorithms'] 8\n"
     ]
    }
   ],
   "source": [
    "string = \"Machine learning is the study of computer algorithms\"\n",
    "\n",
    "string_list = string.split()\n",
    "print(string_list,len(string_list))"
   ]
  },
  {
   "cell_type": "code",
   "execution_count": 114,
   "id": "beginning-better",
   "metadata": {},
   "outputs": [
    {
     "name": "stdout",
     "output_type": "stream",
     "text": [
      "['Machine learning is ', ' study of computer algorithms'] 2\n"
     ]
    }
   ],
   "source": [
    "string = \"Machine learning is the study of computer algorithms\"\n",
    "\n",
    "string_list = string.split('the')\n",
    "print(string_list,len(string_list))"
   ]
  },
  {
   "cell_type": "code",
   "execution_count": 116,
   "id": "organizational-quantum",
   "metadata": {},
   "outputs": [
    {
     "name": "stdout",
     "output_type": "stream",
     "text": [
      "['Machine ', ' is the study of computer algorithms'] 2\n"
     ]
    }
   ],
   "source": [
    "string = \"Machine learning is the study of computer algorithms\"\n",
    "\n",
    "string_list = string.split('learning')\n",
    "print(string_list,len(string_list))"
   ]
  },
  {
   "cell_type": "code",
   "execution_count": 118,
   "id": "flush-carter",
   "metadata": {},
   "outputs": [
    {
     "name": "stdout",
     "output_type": "stream",
     "text": [
      "['Machine learning ', ' the study of computer algorithms that can improve \\nautomatically through experience and by the use of data. It ', ' seen as a part of \\nartificial intelligence'] 3\n"
     ]
    }
   ],
   "source": [
    "string = \"\"\"Machine learning is the study of computer algorithms that can improve \n",
    "automatically through experience and by the use of data. It is seen as a part of \n",
    "artificial intelligence\"\"\"\n",
    "string_list = string.split('is')\n",
    "print(string_list,len(string_list))"
   ]
  },
  {
   "cell_type": "code",
   "execution_count": 121,
   "id": "silver-injection",
   "metadata": {},
   "outputs": [
    {
     "name": "stdout",
     "output_type": "stream",
     "text": [
      "['Machine learning is the study of computer algorithms that can improve ', 'automatically through experience and by the use of data. It is seen as a part of ', 'artificial intelligence'] 3\n"
     ]
    }
   ],
   "source": [
    "string = \"\"\"Machine learning is the study of computer algorithms that can improve \n",
    "automatically through experience and by the use of data. It is seen as a part of \n",
    "artificial intelligence\"\"\"\n",
    "string_list = string.split('\\n')\n",
    "print(string_list,len(string_list))"
   ]
  },
  {
   "cell_type": "code",
   "execution_count": 124,
   "id": "eight-needle",
   "metadata": {},
   "outputs": [
    {
     "name": "stdout",
     "output_type": "stream",
     "text": [
      "['Machine learning is the study of computer algorithms that can improve ', 'automatically through experience and by the use of data. It is seen as a part of ', 'artificial intelligence'] 3\n"
     ]
    }
   ],
   "source": [
    "string = \"\"\"Machine learning is the study of computer algorithms that can improve \n",
    "automatically through experience and by the use of data. It is seen as a part of \n",
    "artificial intelligence\"\"\"\n",
    "\n",
    "l1 = string.split('\\n')\n",
    "print(l1,len(l1))"
   ]
  },
  {
   "cell_type": "markdown",
   "id": "third-price",
   "metadata": {},
   "source": [
    "# 15. join"
   ]
  },
  {
   "cell_type": "raw",
   "id": "adjacent-north",
   "metadata": {},
   "source": [
    "List to string"
   ]
  },
  {
   "cell_type": "code",
   "execution_count": 126,
   "id": "incomplete-shore",
   "metadata": {},
   "outputs": [
    {
     "name": "stdout",
     "output_type": "stream",
     "text": [
      "Machine learning is the study of computer algorithms\n"
     ]
    }
   ],
   "source": [
    "list1 = ['Machine', 'learning', 'is', 'the', 'study', 'of', 'computer', 'algorithms'] \n",
    "\n",
    "result = \" \".join(list1)\n",
    "print(result)"
   ]
  },
  {
   "cell_type": "code",
   "execution_count": 129,
   "id": "mobile-novelty",
   "metadata": {},
   "outputs": [
    {
     "name": "stdout",
     "output_type": "stream",
     "text": [
      "Machine + learning + is + the + study + of + computer + algorithms\n"
     ]
    }
   ],
   "source": [
    "list1 = ['Machine', 'learning', 'is', 'the', 'study', 'of', 'computer', 'algorithms'] \n",
    "\n",
    "result = \" + \".join(list1)\n",
    "print(result)"
   ]
  },
  {
   "cell_type": "code",
   "execution_count": 131,
   "id": "substantial-editing",
   "metadata": {},
   "outputs": [
    {
     "name": "stdout",
     "output_type": "stream",
     "text": [
      "Machine learning is the study of computer algorithms\n"
     ]
    }
   ],
   "source": [
    "list1 = ['Machine', 'learning', 'is', 'the', 'study', 'of', 'computer', 'algorithms'] \n",
    "\n",
    "result = \" \".join(list1)\n",
    "print(result)"
   ]
  },
  {
   "cell_type": "code",
   "execution_count": 138,
   "id": "young-array",
   "metadata": {},
   "outputs": [
    {
     "name": "stdout",
     "output_type": "stream",
     "text": [
      "Machine learning is the study of computer\n"
     ]
    }
   ],
   "source": [
    "list1 = ['Machine', 'learning', 'is', 'the', 'study', 'of', 'computer'] \n",
    "\n",
    "result = \" \".join(list1)\n",
    "print(result)"
   ]
  },
  {
   "cell_type": "code",
   "execution_count": 139,
   "id": "activated-nashville",
   "metadata": {},
   "outputs": [
    {
     "name": "stdout",
     "output_type": "stream",
     "text": [
      "Machine  learning  is  the  study  of  computer\n"
     ]
    }
   ],
   "source": [
    "list1 = ['Machine', 'learning', 'is', 'the', 'study', 'of', 'computer'] \n",
    "\n",
    "result = \"  \".join(list1)\n",
    "print(result)"
   ]
  },
  {
   "cell_type": "code",
   "execution_count": 154,
   "id": "aggregate-founder",
   "metadata": {},
   "outputs": [
    {
     "name": "stdout",
     "output_type": "stream",
     "text": [
      "Length os list is 30\n",
      "Count of Machine is 2\n",
      "Count of learning is 1\n",
      "Count of is is 2\n",
      "Count of the is 2\n",
      "Count of study is 1\n",
      "Count of of is 3\n",
      "Count of computer is 1\n",
      "Count of algorithms is 1\n",
      "Count of that is 1\n",
      "Count of can is 1\n",
      "Count of improve is 1\n",
      "Count of automatically is 1\n",
      "Count of through is 1\n",
      "Count of experience is 1\n",
      "Count of and is 1\n",
      "Count of by is 1\n",
      "Count of the is 2\n",
      "Count of use is 1\n",
      "Count of of is 3\n",
      "Count of data. is 1\n",
      "Count of It is 1\n",
      "Count of is is 2\n",
      "Count of seen is 1\n",
      "Count of as is 1\n",
      "Count of a is 17\n",
      "Count of part is 1\n",
      "Count of of is 3\n",
      "Count of artificial is 1\n",
      "Count of intelligence is 1\n",
      "Count of Machine is 2\n"
     ]
    }
   ],
   "source": [
    "string = \"\"\"Machine learning is the study of computer algorithms that can improve \n",
    "automatically through experience and by the use of data. It is seen as a part of \n",
    "artificial intelligence Machine\"\"\"\n",
    "list1 = string.split()\n",
    "print(\"Length os list is\",len(list1))\n",
    "\n",
    "for char in list1: # 29 times  char = 'Machine'\n",
    "    cnt = string.count(char) \n",
    "    print(f\"Count of {char} is {cnt}\")"
   ]
  },
  {
   "cell_type": "code",
   "execution_count": 152,
   "id": "middle-harvey",
   "metadata": {},
   "outputs": [
    {
     "name": "stdout",
     "output_type": "stream",
     "text": [
      "Count of Machine is 1\n",
      "Count of learning is 1\n",
      "Count of is is 2\n",
      "Count of the is 2\n",
      "Count of study is 1\n",
      "Count of of is 3\n",
      "Count of computer is 1\n",
      "Count of algorithms is 1\n",
      "Count of that is 1\n",
      "Count of can is 1\n",
      "Count of improve is 1\n",
      "Count of automatically is 1\n",
      "Count of through is 1\n",
      "Count of experience is 1\n",
      "Count of and is 1\n",
      "Count of by is 1\n",
      "Count of the is 2\n",
      "Count of use is 1\n",
      "Count of of is 3\n",
      "Count of data. is 1\n",
      "Count of It is 1\n",
      "Count of is is 2\n",
      "Count of seen is 1\n",
      "Count of as is 1\n",
      "Count of a is 16\n",
      "Count of part is 1\n",
      "Count of of is 3\n",
      "Count of artificial is 1\n",
      "Count of intelligence is 1\n"
     ]
    }
   ],
   "source": [
    "string = \"\"\"Machine learning is the study of computer algorithms that can improve \n",
    "automatically through experience and by the use of data. It is seen as a part of \n",
    "artificial intelligence\"\"\"\n",
    "list1 = string.split()\n",
    "\n",
    "for index,word in enumerate(list1):\n",
    "    cnt = string.count(word) \n",
    "    print(f\"Count of {word} is {cnt}\")\n"
   ]
  },
  {
   "cell_type": "code",
   "execution_count": null,
   "id": "stopped-inspection",
   "metadata": {},
   "outputs": [],
   "source": [
    "string = 'Hello Python'\n",
    "string.count('Hello')"
   ]
  },
  {
   "cell_type": "code",
   "execution_count": 160,
   "id": "sharp-assist",
   "metadata": {},
   "outputs": [
    {
     "data": {
      "text/plain": [
       "'Java and data science, Java is used for machine learning'"
      ]
     },
     "execution_count": 160,
     "metadata": {},
     "output_type": "execute_result"
    }
   ],
   "source": [
    "string = 'Python and Data Science, Python is used for Machine learning'\n",
    "string.lower().replace(\"python\",\"Java\")"
   ]
  },
  {
   "cell_type": "markdown",
   "id": "absolute-sigma",
   "metadata": {},
   "source": [
    "# 16. endswith"
   ]
  },
  {
   "cell_type": "code",
   "execution_count": 161,
   "id": "third-onion",
   "metadata": {},
   "outputs": [],
   "source": [
    "# It returns boolean values(True/False)\n",
    "# Use Case: To check file extension"
   ]
  },
  {
   "cell_type": "code",
   "execution_count": 163,
   "id": "professional-modern",
   "metadata": {},
   "outputs": [
    {
     "data": {
      "text/plain": [
       "True"
      ]
     },
     "execution_count": 163,
     "metadata": {},
     "output_type": "execute_result"
    }
   ],
   "source": [
    "string = 'Python and Data Science, Python is used for Machine learning'\n",
    "string.endswith('learning')"
   ]
  },
  {
   "cell_type": "code",
   "execution_count": 166,
   "id": "liberal-plain",
   "metadata": {},
   "outputs": [
    {
     "data": {
      "text/plain": [
       "False"
      ]
     },
     "execution_count": 166,
     "metadata": {},
     "output_type": "execute_result"
    }
   ],
   "source": [
    "string = 'Python and Data Science, Python is used for Machine learning'\n",
    "string.endswith('Machine')"
   ]
  },
  {
   "cell_type": "code",
   "execution_count": 171,
   "id": "criminal-liquid",
   "metadata": {},
   "outputs": [
    {
     "data": {
      "text/plain": [
       "True"
      ]
     },
     "execution_count": 171,
     "metadata": {},
     "output_type": "execute_result"
    }
   ],
   "source": [
    "image_path = r\"D:\\RahulK\\Velocity_Sep_21\\09_15_String_Functions\\pan2.jpeg\"\n",
    "type(image_path)\n",
    "image_path.endswith('.jpeg')"
   ]
  },
  {
   "cell_type": "code",
   "execution_count": 174,
   "id": "appointed-karen",
   "metadata": {},
   "outputs": [
    {
     "data": {
      "text/plain": [
       "True"
      ]
     },
     "execution_count": 174,
     "metadata": {},
     "output_type": "execute_result"
    }
   ],
   "source": [
    "image_path = r\"D:\\RahulK\\Velocity_Sep_21\\09_15_String_Functions\\pan2.pdf\"\n",
    "type(image_path)\n",
    "image_path.endswith('.pdf')"
   ]
  },
  {
   "cell_type": "code",
   "execution_count": 176,
   "id": "married-headline",
   "metadata": {},
   "outputs": [
    {
     "data": {
      "text/plain": [
       "False"
      ]
     },
     "execution_count": 176,
     "metadata": {},
     "output_type": "execute_result"
    }
   ],
   "source": [
    "image_path = r\"D:\\RahulK\\Velocity_Sep_21\\09_15_String_Functions\\pan2.PDF\"\n",
    "type(image_path)\n",
    "image_path.endswith('.pdf')"
   ]
  },
  {
   "cell_type": "code",
   "execution_count": 179,
   "id": "arabic-pregnancy",
   "metadata": {},
   "outputs": [
    {
     "data": {
      "text/plain": [
       "True"
      ]
     },
     "execution_count": 179,
     "metadata": {},
     "output_type": "execute_result"
    }
   ],
   "source": [
    "image_path = r\"D:\\RahulK\\Velocity_Sep_21\\09_15_String_Functions\\pan2.PDF\"\n",
    "type(image_path)\n",
    "image_path.endswith('F')"
   ]
  },
  {
   "cell_type": "code",
   "execution_count": 185,
   "id": "portuguese-zoning",
   "metadata": {},
   "outputs": [
    {
     "data": {
      "text/plain": [
       "True"
      ]
     },
     "execution_count": 185,
     "metadata": {},
     "output_type": "execute_result"
    }
   ],
   "source": [
    "pdf_path = r\"D:\\RahulK\\Velocity_Sep_21\\09_15_String_Functions\\pan2.PDF\"\n",
    "type(pdf_path)\n",
    "pdf_path.endswith('.PDF')"
   ]
  },
  {
   "cell_type": "code",
   "execution_count": 189,
   "id": "interior-reader",
   "metadata": {},
   "outputs": [
    {
     "name": "stdout",
     "output_type": "stream",
     "text": [
      "D:\\RahulK\\Velocity_Sep_21\\09_15_String_Functions\\pan2.PDF\n"
     ]
    },
    {
     "data": {
      "text/plain": [
       "True"
      ]
     },
     "execution_count": 189,
     "metadata": {},
     "output_type": "execute_result"
    }
   ],
   "source": [
    "var = r\"D:\\RahulK\\Velocity_Sep_21\\09_15_String_Functions\\pan2.PDF\"\n",
    "print(var)\n",
    "var.endswith('.PDF')"
   ]
  },
  {
   "cell_type": "code",
   "execution_count": 190,
   "id": "sonic-kitty",
   "metadata": {},
   "outputs": [
    {
     "name": "stdout",
     "output_type": "stream",
     "text": [
      "09_15_String_Functions\\pan2.PDF\n"
     ]
    },
    {
     "data": {
      "text/plain": [
       "True"
      ]
     },
     "execution_count": 190,
     "metadata": {},
     "output_type": "execute_result"
    }
   ],
   "source": [
    "var = \"09_15_String_Functions\\\\pan2.PDF\"\n",
    "print(var)\n",
    "var.endswith('.PDF')"
   ]
  },
  {
   "cell_type": "code",
   "execution_count": 193,
   "id": "swiss-spread",
   "metadata": {},
   "outputs": [
    {
     "name": "stdout",
     "output_type": "stream",
     "text": [
      "09_15_String_Functions\\new_folder\\pan2.PDF\n"
     ]
    }
   ],
   "source": [
    "var = \"09_15_String_Functions\\\\new_folder\\\\pan2.PDF\"\n",
    "print(var)"
   ]
  },
  {
   "cell_type": "code",
   "execution_count": 195,
   "id": "arbitrary-tucson",
   "metadata": {},
   "outputs": [
    {
     "name": "stdout",
     "output_type": "stream",
     "text": [
      "09_15_String_Functions\\new_folder\\pan2.PDF\n"
     ]
    }
   ],
   "source": [
    "var = r\"09_15_String_Functions\\new_folder\\pan2.PDF\"\n",
    "print(var)"
   ]
  },
  {
   "cell_type": "code",
   "execution_count": 197,
   "id": "hidden-covering",
   "metadata": {},
   "outputs": [
    {
     "name": "stdout",
     "output_type": "stream",
     "text": [
      "09_15_String_Functions\n",
      "ew_folder\\pan2.PDF\n"
     ]
    }
   ],
   "source": [
    "var = \"09_15_String_Functions\\new_folder\\pan2.PDF\"\n",
    "print(var)"
   ]
  },
  {
   "cell_type": "code",
   "execution_count": 201,
   "id": "modular-action",
   "metadata": {},
   "outputs": [
    {
     "name": "stdout",
     "output_type": "stream",
     "text": [
      "Yes this is PDF file\n"
     ]
    }
   ],
   "source": [
    "pdf_file_path = r\"09_15_String_Functions\\new_folder\\pan2.PDF\"\n",
    "\n",
    "if pdf_file_path.endswith('.PDF'):\n",
    "    print(\"Yes this is PDF file\")\n",
    "    \n",
    "else:\n",
    "    print(\"Not a PDF\")"
   ]
  },
  {
   "cell_type": "code",
   "execution_count": 203,
   "id": "surprising-astronomy",
   "metadata": {},
   "outputs": [
    {
     "name": "stdout",
     "output_type": "stream",
     "text": [
      "Not a PDF\n"
     ]
    }
   ],
   "source": [
    "pdf_file_path = r\"09_15_String_Functions\\new_folder\\pan2.jpeg\"\n",
    "\n",
    "if pdf_file_path.endswith('.PDF'):\n",
    "    print(\"Yes this is PDF file\")\n",
    "    \n",
    "else:\n",
    "    print(\"Not a PDF\")"
   ]
  },
  {
   "cell_type": "code",
   "execution_count": 206,
   "id": "suffering-pleasure",
   "metadata": {},
   "outputs": [
    {
     "name": "stdout",
     "output_type": "stream",
     "text": [
      "Yes this is PDF file\n"
     ]
    }
   ],
   "source": [
    "pdf_file_path = r\"09_15_String_Functions\\new_folder\\pan2.PDF\"\n",
    "\n",
    "if pdf_file_path.endswith('.pdf') or pdf_file_path.endswith('.PDF'):# False or True >> True\n",
    "    print(\"Yes this is PDF file\")\n",
    "    \n",
    "else:\n",
    "    print(\"Not a PDF\")"
   ]
  },
  {
   "cell_type": "code",
   "execution_count": 207,
   "id": "assured-jacob",
   "metadata": {},
   "outputs": [
    {
     "name": "stdout",
     "output_type": "stream",
     "text": [
      "Yes this is PDF file\n"
     ]
    }
   ],
   "source": [
    "pdf_file_path = r\"09_15_String_Functions\\new_folder\\pan2.pdf\"\n",
    "\n",
    "if pdf_file_path.endswith('.pdf') or pdf_file_path.endswith('.PDF'):# False or True >> True\n",
    "    print(\"Yes this is PDF file\")\n",
    "    \n",
    "else:\n",
    "    print(\"Not a PDF\")"
   ]
  },
  {
   "cell_type": "code",
   "execution_count": 218,
   "id": "durable-huntington",
   "metadata": {},
   "outputs": [
    {
     "name": "stdout",
     "output_type": "stream",
     "text": [
      "PDF File  >> 1207_385_bank_statement11.pdf\n",
      "PDF File  >> 97_134_bank_statement21.pdf\n",
      "Text File >> cv004_11636.txt\n",
      "Text File >> cv005_29443.txt\n",
      "Text File >> cv006_15448.txt\n",
      "Text File >> cv007_4968.txt\n",
      "Text File >> cv008_29435.txt\n",
      "Text File >> cv009_29592.txt\n",
      "Text File >> cv010_29198.txt\n",
      "Text File >> cv011_12166.txt\n",
      "Text File >> cv012_29576.txt\n"
     ]
    }
   ],
   "source": [
    "import os\n",
    "folder_path = r\"D:\\RahulK\\Velocity_Sep_21\\09_15_String_Functions\\Data\"\n",
    "file_names_list = os.listdir(folder_path)\n",
    "\n",
    "for file_name in file_names_list:\n",
    "    if file_name.endswith('.txt'):\n",
    "        print(\"Text File >>\",file_name)\n",
    "        \n",
    "    elif file_name.endswith('.pdf'):\n",
    "        print(\"PDF File  >>\",file_name)"
   ]
  },
  {
   "cell_type": "markdown",
   "id": "vietnamese-school",
   "metadata": {},
   "source": [
    "# 17. startswith"
   ]
  },
  {
   "cell_type": "raw",
   "id": "necessary-growing",
   "metadata": {},
   "source": [
    "# It return boolean values(T/F)\n",
    "# PRefix\n",
    "# startswith(substring,[start_index])"
   ]
  },
  {
   "cell_type": "code",
   "execution_count": 220,
   "id": "central-junior",
   "metadata": {},
   "outputs": [
    {
     "data": {
      "text/plain": [
       "True"
      ]
     },
     "execution_count": 220,
     "metadata": {},
     "output_type": "execute_result"
    }
   ],
   "source": [
    "string = 'Python and Data Science, Python is used for Machine learning'\n",
    "string.startswith('Python')"
   ]
  },
  {
   "cell_type": "code",
   "execution_count": 222,
   "id": "dress-kingston",
   "metadata": {},
   "outputs": [
    {
     "data": {
      "text/plain": [
       "False"
      ]
     },
     "execution_count": 222,
     "metadata": {},
     "output_type": "execute_result"
    }
   ],
   "source": [
    "string = 'Python and Data Science, Python is used for Machine learning'\n",
    "string.startswith('Data')"
   ]
  },
  {
   "cell_type": "code",
   "execution_count": 224,
   "id": "removable-concept",
   "metadata": {},
   "outputs": [
    {
     "data": {
      "text/plain": [
       "True"
      ]
     },
     "execution_count": 224,
     "metadata": {},
     "output_type": "execute_result"
    }
   ],
   "source": [
    "string = 'Python and Data Science, Python is used for Machine learning'\n",
    "string.startswith('P')"
   ]
  },
  {
   "cell_type": "code",
   "execution_count": 226,
   "id": "written-norwegian",
   "metadata": {},
   "outputs": [
    {
     "data": {
      "text/plain": [
       "True"
      ]
     },
     "execution_count": 226,
     "metadata": {},
     "output_type": "execute_result"
    }
   ],
   "source": [
    "string = 'Python and Data Science, Python is used for Machine learning'\n",
    "string.startswith('Python and Data Science')"
   ]
  },
  {
   "cell_type": "code",
   "execution_count": 229,
   "id": "orange-schema",
   "metadata": {},
   "outputs": [
    {
     "data": {
      "text/plain": [
       "False"
      ]
     },
     "execution_count": 229,
     "metadata": {},
     "output_type": "execute_result"
    }
   ],
   "source": [
    "string = ' Python and Data Science, Python is used for Machine learning'\n",
    "string.startswith('Python and Data Science')"
   ]
  },
  {
   "cell_type": "markdown",
   "id": "prompt-motel",
   "metadata": {},
   "source": [
    "# 18. isalnum()"
   ]
  },
  {
   "cell_type": "raw",
   "id": "economic-optimum",
   "metadata": {},
   "source": [
    "True or False\n",
    "True >> If string is alphanumeric\n",
    "alphanumeric >> alphabates and number \n",
    "alphanumeric >> [A-Z a-z 0-9]\n",
    "It does not allow special char and space"
   ]
  },
  {
   "cell_type": "code",
   "execution_count": 231,
   "id": "straight-vessel",
   "metadata": {},
   "outputs": [
    {
     "data": {
      "text/plain": [
       "True"
      ]
     },
     "execution_count": 231,
     "metadata": {},
     "output_type": "execute_result"
    }
   ],
   "source": [
    "string = 'python' # a-z\n",
    "string.isalnum()"
   ]
  },
  {
   "cell_type": "code",
   "execution_count": 233,
   "id": "willing-definition",
   "metadata": {},
   "outputs": [
    {
     "data": {
      "text/plain": [
       "True"
      ]
     },
     "execution_count": 233,
     "metadata": {},
     "output_type": "execute_result"
    }
   ],
   "source": [
    "string = 'Python'\n",
    "string.isalnum()"
   ]
  },
  {
   "cell_type": "code",
   "execution_count": 235,
   "id": "shared-oxygen",
   "metadata": {},
   "outputs": [
    {
     "data": {
      "text/plain": [
       "True"
      ]
     },
     "execution_count": 235,
     "metadata": {},
     "output_type": "execute_result"
    }
   ],
   "source": [
    "string = 'PYTHON'\n",
    "string.isalnum()"
   ]
  },
  {
   "cell_type": "code",
   "execution_count": 237,
   "id": "humanitarian-hanging",
   "metadata": {},
   "outputs": [
    {
     "data": {
      "text/plain": [
       "True"
      ]
     },
     "execution_count": 237,
     "metadata": {},
     "output_type": "execute_result"
    }
   ],
   "source": [
    "string = 'Python123'\n",
    "string.isalnum()"
   ]
  },
  {
   "cell_type": "code",
   "execution_count": 239,
   "id": "hundred-morgan",
   "metadata": {},
   "outputs": [
    {
     "data": {
      "text/plain": [
       "False"
      ]
     },
     "execution_count": 239,
     "metadata": {},
     "output_type": "execute_result"
    }
   ],
   "source": [
    "string = 'Python 123'\n",
    "string.isalnum()"
   ]
  },
  {
   "cell_type": "code",
   "execution_count": 241,
   "id": "coastal-logic",
   "metadata": {},
   "outputs": [
    {
     "data": {
      "text/plain": [
       "False"
      ]
     },
     "execution_count": 241,
     "metadata": {},
     "output_type": "execute_result"
    }
   ],
   "source": [
    "string = 'Python@123'\n",
    "string.isalnum()"
   ]
  },
  {
   "cell_type": "code",
   "execution_count": 243,
   "id": "macro-paint",
   "metadata": {},
   "outputs": [
    {
     "data": {
      "text/plain": [
       "True"
      ]
     },
     "execution_count": 243,
     "metadata": {},
     "output_type": "execute_result"
    }
   ],
   "source": [
    "string = '123345678'\n",
    "string.isalnum()"
   ]
  },
  {
   "cell_type": "code",
   "execution_count": 245,
   "id": "cordless-inflation",
   "metadata": {},
   "outputs": [
    {
     "data": {
      "text/plain": [
       "False"
      ]
     },
     "execution_count": 245,
     "metadata": {},
     "output_type": "execute_result"
    }
   ],
   "source": [
    "string = '123345678$'\n",
    "string.isalnum()"
   ]
  },
  {
   "cell_type": "code",
   "execution_count": 247,
   "id": "olympic-entertainment",
   "metadata": {},
   "outputs": [
    {
     "data": {
      "text/plain": [
       "True"
      ]
     },
     "execution_count": 247,
     "metadata": {},
     "output_type": "execute_result"
    }
   ],
   "source": [
    "pan_num = \"ASDFG12354Q\"\n",
    "pan_num.isalnum()"
   ]
  },
  {
   "cell_type": "code",
   "execution_count": 254,
   "id": "twenty-crack",
   "metadata": {},
   "outputs": [
    {
     "name": "stdout",
     "output_type": "stream",
     "text": [
      "Yes PAN num is alphanumeric\n"
     ]
    }
   ],
   "source": [
    "pan_num = \" ASDFG12354Q     \"\n",
    "if pan_num.strip().isalnum():\n",
    "    print(\"Yes PAN num is alphanumeric\")\n"
   ]
  },
  {
   "cell_type": "code",
   "execution_count": 256,
   "id": "champion-grove",
   "metadata": {},
   "outputs": [
    {
     "name": "stdout",
     "output_type": "stream",
     "text": [
      "Yes PAN num is not alphanumeric\n"
     ]
    }
   ],
   "source": [
    "pan_num = \" ASDFG12354#     \"\n",
    "if pan_num.strip().isalnum():\n",
    "    print(\"Yes PAN num is alphanumeric\")\n",
    "else:\n",
    "    print(\"Yes PAN num is not alphanumeric\")\n"
   ]
  },
  {
   "cell_type": "code",
   "execution_count": 258,
   "id": "approved-thumbnail",
   "metadata": {},
   "outputs": [
    {
     "name": "stdout",
     "output_type": "stream",
     "text": [
      "Yes ifsc_code is alphanumeric\n"
     ]
    }
   ],
   "source": [
    "ifsc_code = \" HDFC0001234\"\n",
    "if ifsc_code.strip().isalnum():\n",
    "    print(\"Yes ifsc_code is alphanumeric\")\n",
    "else:\n",
    "    print(\"Yes ifsc_code is not alphanumeric\")\n"
   ]
  },
  {
   "cell_type": "markdown",
   "id": "loaded-pathology",
   "metadata": {},
   "source": [
    "# 19. isalpha"
   ]
  },
  {
   "cell_type": "raw",
   "id": "outstanding-cursor",
   "metadata": {},
   "source": [
    "Return True or False\n",
    "True >> If string contains only alphabates\n",
    "alphanumeric >> [A-Z a-z]\n",
    "It does not allow special char and space"
   ]
  },
  {
   "cell_type": "code",
   "execution_count": 260,
   "id": "allied-activation",
   "metadata": {},
   "outputs": [
    {
     "data": {
      "text/plain": [
       "False"
      ]
     },
     "execution_count": 260,
     "metadata": {},
     "output_type": "execute_result"
    }
   ],
   "source": [
    "string = \"Data Science\"\n",
    "string.isalpha()"
   ]
  },
  {
   "cell_type": "code",
   "execution_count": 262,
   "id": "secret-papua",
   "metadata": {},
   "outputs": [
    {
     "data": {
      "text/plain": [
       "True"
      ]
     },
     "execution_count": 262,
     "metadata": {},
     "output_type": "execute_result"
    }
   ],
   "source": [
    "string = \"DataScience\"\n",
    "string.isalpha()"
   ]
  },
  {
   "cell_type": "code",
   "execution_count": 264,
   "id": "photographic-accessory",
   "metadata": {},
   "outputs": [
    {
     "data": {
      "text/plain": [
       "False"
      ]
     },
     "execution_count": 264,
     "metadata": {},
     "output_type": "execute_result"
    }
   ],
   "source": [
    "string = \"Data$cience\"\n",
    "string.isalpha()"
   ]
  },
  {
   "cell_type": "code",
   "execution_count": 267,
   "id": "bronze-fraud",
   "metadata": {},
   "outputs": [
    {
     "data": {
      "text/plain": [
       "False"
      ]
     },
     "execution_count": 267,
     "metadata": {},
     "output_type": "execute_result"
    }
   ],
   "source": [
    "string = \"DataScience1234\"\n",
    "string.isalpha()"
   ]
  },
  {
   "cell_type": "code",
   "execution_count": 275,
   "id": "reduced-burden",
   "metadata": {},
   "outputs": [
    {
     "data": {
      "text/plain": [
       "True"
      ]
     },
     "execution_count": 275,
     "metadata": {},
     "output_type": "execute_result"
    }
   ],
   "source": [
    "name = 'ViratKohli'\n",
    "name.isalpha()"
   ]
  },
  {
   "cell_type": "code",
   "execution_count": 276,
   "id": "cutting-internship",
   "metadata": {},
   "outputs": [
    {
     "data": {
      "text/plain": [
       "False"
      ]
     },
     "execution_count": 276,
     "metadata": {},
     "output_type": "execute_result"
    }
   ],
   "source": [
    "name = 'Virat Kohli'\n",
    "name.isalpha()"
   ]
  },
  {
   "cell_type": "code",
   "execution_count": 279,
   "id": "compact-organizer",
   "metadata": {},
   "outputs": [
    {
     "data": {
      "text/plain": [
       "True"
      ]
     },
     "execution_count": 279,
     "metadata": {},
     "output_type": "execute_result"
    }
   ],
   "source": [
    "name = 'Virat Kohli'\n",
    "name.replace(\" \",\"\").isalpha()"
   ]
  },
  {
   "cell_type": "markdown",
   "id": "beneficial-bowling",
   "metadata": {},
   "source": [
    "# 20. isdecimal()"
   ]
  },
  {
   "cell_type": "raw",
   "id": "initial-sydney",
   "metadata": {},
   "source": [
    "True >> If string contains only digits/number\n",
    "It does not allow special char and space"
   ]
  },
  {
   "cell_type": "code",
   "execution_count": 280,
   "id": "common-terror",
   "metadata": {},
   "outputs": [
    {
     "data": {
      "text/plain": [
       "False"
      ]
     },
     "execution_count": 280,
     "metadata": {},
     "output_type": "execute_result"
    }
   ],
   "source": [
    "numbers = \"Python\"\n",
    "numbers.isdecimal()"
   ]
  },
  {
   "cell_type": "code",
   "execution_count": 281,
   "id": "regular-blink",
   "metadata": {},
   "outputs": [
    {
     "data": {
      "text/plain": [
       "False"
      ]
     },
     "execution_count": 281,
     "metadata": {},
     "output_type": "execute_result"
    }
   ],
   "source": [
    "numbers = \"Python123456\"\n",
    "numbers.isdecimal()"
   ]
  },
  {
   "cell_type": "code",
   "execution_count": 283,
   "id": "according-tackle",
   "metadata": {},
   "outputs": [
    {
     "data": {
      "text/plain": [
       "True"
      ]
     },
     "execution_count": 283,
     "metadata": {},
     "output_type": "execute_result"
    }
   ],
   "source": [
    "numbers = \"123456\"\n",
    "numbers.isdecimal()"
   ]
  },
  {
   "cell_type": "code",
   "execution_count": 285,
   "id": "national-lawyer",
   "metadata": {},
   "outputs": [
    {
     "data": {
      "text/plain": [
       "False"
      ]
     },
     "execution_count": 285,
     "metadata": {},
     "output_type": "execute_result"
    }
   ],
   "source": [
    "numbers = \"123 456\"\n",
    "numbers.isdecimal()"
   ]
  },
  {
   "cell_type": "code",
   "execution_count": 287,
   "id": "opposed-tamil",
   "metadata": {},
   "outputs": [
    {
     "data": {
      "text/plain": [
       "False"
      ]
     },
     "execution_count": 287,
     "metadata": {},
     "output_type": "execute_result"
    }
   ],
   "source": [
    "aadhar_num = \"1234 3456 6789\"\n",
    "aadhar_num.isdecimal()"
   ]
  },
  {
   "cell_type": "code",
   "execution_count": 289,
   "id": "individual-watts",
   "metadata": {},
   "outputs": [
    {
     "data": {
      "text/plain": [
       "True"
      ]
     },
     "execution_count": 289,
     "metadata": {},
     "output_type": "execute_result"
    }
   ],
   "source": [
    "aadhar_num = \"1234 3456 6789\"\n",
    "aadhar_num.replace(\" \",\"\").isdecimal()"
   ]
  },
  {
   "cell_type": "code",
   "execution_count": 292,
   "id": "ranging-korea",
   "metadata": {},
   "outputs": [
    {
     "data": {
      "text/plain": [
       "True"
      ]
     },
     "execution_count": 292,
     "metadata": {},
     "output_type": "execute_result"
    }
   ],
   "source": [
    "num = \"\\u0030\"  # unicode for 0 \n",
    "num.isdecimal()"
   ]
  },
  {
   "cell_type": "code",
   "execution_count": 294,
   "id": "armed-failing",
   "metadata": {},
   "outputs": [
    {
     "data": {
      "text/plain": [
       "True"
      ]
     },
     "execution_count": 294,
     "metadata": {},
     "output_type": "execute_result"
    }
   ],
   "source": [
    "num = \"\\u0039\"  # unicode for 9 \n",
    "num.isdecimal()"
   ]
  },
  {
   "cell_type": "code",
   "execution_count": 296,
   "id": "grave-energy",
   "metadata": {},
   "outputs": [
    {
     "data": {
      "text/plain": [
       "False"
      ]
     },
     "execution_count": 296,
     "metadata": {},
     "output_type": "execute_result"
    }
   ],
   "source": [
    "num = \"\\u0040\"  # unicode for 9 \n",
    "num.isdecimal()"
   ]
  },
  {
   "cell_type": "code",
   "execution_count": 308,
   "id": "stable-surfing",
   "metadata": {},
   "outputs": [
    {
     "data": {
      "text/plain": [
       "True"
      ]
     },
     "execution_count": 308,
     "metadata": {},
     "output_type": "execute_result"
    }
   ],
   "source": [
    "num = \"\\u0039\"  # unicode for 9 \n",
    "int(num)\n",
    "num.isdecimal()"
   ]
  },
  {
   "cell_type": "raw",
   "id": "exact-computer",
   "metadata": {},
   "source": [
    "ASCII>>\n",
    "A >> 65\n",
    "B >> 66\n",
    "Z >> 90\n",
    "\n",
    "a >> 97\n",
    "b >> 98\n",
    "z >> 122"
   ]
  }
 ],
 "metadata": {
  "kernelspec": {
   "display_name": "Python 3",
   "language": "python",
   "name": "python3"
  },
  "language_info": {
   "codemirror_mode": {
    "name": "ipython",
    "version": 3
   },
   "file_extension": ".py",
   "mimetype": "text/x-python",
   "name": "python",
   "nbconvert_exporter": "python",
   "pygments_lexer": "ipython3",
   "version": "3.8.7"
  }
 },
 "nbformat": 4,
 "nbformat_minor": 5
}
