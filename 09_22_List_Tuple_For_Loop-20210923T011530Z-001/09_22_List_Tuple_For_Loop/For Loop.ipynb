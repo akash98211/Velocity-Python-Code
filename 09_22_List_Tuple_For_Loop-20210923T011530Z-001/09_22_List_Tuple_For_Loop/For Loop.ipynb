{
 "cells": [
  {
   "cell_type": "markdown",
   "metadata": {},
   "source": [
    "# Loops in Python"
   ]
  },
  {
   "cell_type": "raw",
   "metadata": {},
   "source": [
    "1. For Loop\n",
    "2. While Loop\n",
    "\n",
    "Same functionality but different syntax\n",
    "It executes set of statements/code"
   ]
  },
  {
   "cell_type": "markdown",
   "metadata": {},
   "source": [
    "# For Loop"
   ]
  },
  {
   "cell_type": "raw",
   "metadata": {},
   "source": [
    "It works like an iterator\n",
    "Sequences >> str, list,tuple,set,dict,range\n",
    "\n",
    "\n",
    "Syntax of For Loop:\n",
    "\n",
    "for variable_name in sequence:\n",
    "    print(variable_name)\n",
    "    statement1\n",
    "    statement2\n",
    "    code1\n",
    "    code2"
   ]
  },
  {
   "cell_type": "code",
   "execution_count": 4,
   "metadata": {},
   "outputs": [
    {
     "name": "stdout",
     "output_type": "stream",
     "text": [
      "We are learning Python Language\n",
      "We are learning Python Language\n",
      "We are learning Python Language\n",
      "We are learning Python Language\n",
      "We are learning Python Language\n"
     ]
    }
   ],
   "source": [
    "string = 'We are learning Python Language'\n",
    "print(string)\n",
    "print(string)\n",
    "print(string)\n",
    "print(string)\n",
    "print(string)"
   ]
  },
  {
   "cell_type": "code",
   "execution_count": 6,
   "metadata": {},
   "outputs": [
    {
     "name": "stdout",
     "output_type": "stream",
     "text": [
      "We are learning Python Language\n",
      "We are learning Python Language\n",
      "We are learning Python Language\n",
      "We are learning Python Language\n",
      "We are learning Python Language\n"
     ]
    }
   ],
   "source": [
    "string = 'We are learning Python Language'\n",
    "for i in range(5):\n",
    "    print(string)"
   ]
  },
  {
   "cell_type": "code",
   "execution_count": 8,
   "metadata": {},
   "outputs": [
    {
     "name": "stdout",
     "output_type": "stream",
     "text": [
      "We are learning Python Language\n",
      "We are learning Python Language\n",
      "We are learning Python Language\n",
      "We are learning Python Language\n",
      "We are learning Python Language\n",
      "We are learning Python Language\n",
      "We are learning Python Language\n",
      "We are learning Python Language\n",
      "We are learning Python Language\n",
      "We are learning Python Language\n"
     ]
    }
   ],
   "source": [
    "string = 'We are learning Python Language'\n",
    "for i in range(10):\n",
    "    print(string)"
   ]
  },
  {
   "cell_type": "code",
   "execution_count": 10,
   "metadata": {},
   "outputs": [
    {
     "name": "stdout",
     "output_type": "stream",
     "text": [
      "We are learning Python Language\n",
      "We are learning Python Language\n",
      "We are learning Python Language\n",
      "We are learning Python Language\n",
      "We are learning Python Language\n"
     ]
    }
   ],
   "source": [
    "string = 'We are learning Python Language'\n",
    "for i in range(5,10):\n",
    "    print(string)"
   ]
  },
  {
   "cell_type": "markdown",
   "metadata": {},
   "source": [
    "## 1. for loop using string"
   ]
  },
  {
   "cell_type": "code",
   "execution_count": 14,
   "metadata": {},
   "outputs": [
    {
     "name": "stdout",
     "output_type": "stream",
     "text": [
      "P\n",
      "y\n",
      "t\n",
      "h\n",
      "o\n",
      "n\n",
      " \n",
      "L\n",
      "a\n",
      "n\n",
      "g\n",
      "u\n",
      "a\n",
      "g\n",
      "e\n"
     ]
    }
   ],
   "source": [
    "str1 = 'Python Language' # length =  15 \n",
    "for char in str1:  # char = 'e'\n",
    "    print(char)"
   ]
  },
  {
   "cell_type": "code",
   "execution_count": 19,
   "metadata": {},
   "outputs": [
    {
     "name": "stdout",
     "output_type": "stream",
     "text": [
      "P\n",
      "Python is programming Language\n",
      "\n",
      "y\n",
      "Python is programming Language\n",
      "\n",
      "t\n",
      "Python is programming Language\n",
      "\n",
      "h\n",
      "Python is programming Language\n",
      "\n",
      "o\n",
      "Python is programming Language\n",
      "\n",
      "n\n",
      "Python is programming Language\n",
      "\n"
     ]
    }
   ],
   "source": [
    "str1 = 'Python' # length =  6\n",
    "for char in str1:  # char = 'e'\n",
    "    print(char)\n",
    "    print('Python is programming Language')\n",
    "    print()"
   ]
  },
  {
   "cell_type": "code",
   "execution_count": 22,
   "metadata": {},
   "outputs": [
    {
     "name": "stdout",
     "output_type": "stream",
     "text": [
      "Char is  P\n",
      "Python is programming Language\n",
      "\n",
      "Char is  y\n",
      "Python is programming Language\n",
      "\n",
      "Char is  t\n",
      "Python is programming Language\n",
      "\n",
      "Char is  h\n",
      "Python is programming Language\n",
      "\n",
      "Char is  o\n",
      "Python is programming Language\n",
      "\n",
      "Char is  n\n",
      "Python is programming Language\n",
      "\n"
     ]
    }
   ],
   "source": [
    "str1 = 'Python' # length =  6\n",
    "for char in str1:  # char = 'e'\n",
    "    print('Char is ',char)\n",
    "    print('Python is programming Language')\n",
    "    print()"
   ]
  },
  {
   "cell_type": "code",
   "execution_count": 24,
   "metadata": {},
   "outputs": [
    {
     "name": "stdout",
     "output_type": "stream",
     "text": [
      "2\n",
      "3\n",
      "4\n",
      "5\n",
      "7\n"
     ]
    }
   ],
   "source": [
    "list1 = [2,3,4,5,7]\n",
    "\n",
    "for i in list1:\n",
    "    print(i)"
   ]
  },
  {
   "cell_type": "code",
   "execution_count": 26,
   "metadata": {},
   "outputs": [
    {
     "name": "stdout",
     "output_type": "stream",
     "text": [
      "2\n",
      "3\n",
      "4\n",
      "5\n",
      "7\n"
     ]
    }
   ],
   "source": [
    "list1 = [2,3,4,5,7]\n",
    "\n",
    "for val in list1:\n",
    "    print(val)"
   ]
  },
  {
   "cell_type": "code",
   "execution_count": 29,
   "metadata": {},
   "outputs": [
    {
     "name": "stdout",
     "output_type": "stream",
     "text": [
      "2\n",
      "3\n",
      "4\n",
      "python\n",
      "5\n",
      "class\n",
      "7\n"
     ]
    }
   ],
   "source": [
    "list1 = [2,3,4,'python',5,'class',7,]\n",
    "\n",
    "for val in list1:\n",
    "    print(val)"
   ]
  },
  {
   "cell_type": "code",
   "execution_count": 31,
   "metadata": {},
   "outputs": [
    {
     "name": "stdout",
     "output_type": "stream",
     "text": [
      "2\n",
      "3\n",
      "4\n",
      "python\n",
      "5\n",
      "class\n",
      "7\n"
     ]
    }
   ],
   "source": [
    "list1 = [2,3,4,'python',5,'class',7,]\n",
    "\n",
    "for value in list1: # value = 2\n",
    "    print(value)"
   ]
  },
  {
   "cell_type": "code",
   "execution_count": 33,
   "metadata": {},
   "outputs": [
    {
     "name": "stdout",
     "output_type": "stream",
     "text": [
      "Value is  2\n",
      "Value is  3\n",
      "Value is  4\n",
      "Value is  5\n",
      "Value is  7\n"
     ]
    }
   ],
   "source": [
    "list1 = [2,3,4,'python',5,'class',7,]\n",
    "\n",
    "for value in list1: # value = 2\n",
    "    if type(value) == int:\n",
    "        print('Value is ',value)"
   ]
  },
  {
   "cell_type": "code",
   "execution_count": 40,
   "metadata": {},
   "outputs": [
    {
     "name": "stdout",
     "output_type": "stream",
     "text": [
      "2 is int\n",
      "3.5 is float \n",
      "4 is int\n",
      "python is string\n",
      "5 is int\n",
      "class is string\n",
      "7 is int\n"
     ]
    }
   ],
   "source": [
    "list1 = [2,3.5,4,'python',5,'class',7,]\n",
    "\n",
    "for value in list1: \n",
    "    if type(value) == int:\n",
    "        print(f'{value} is int')\n",
    "        \n",
    "    elif type(value) == float:\n",
    "        print(f'{value} is float ')\n",
    "    \n",
    "    else:\n",
    "        print(f'{value} is string')"
   ]
  },
  {
   "cell_type": "code",
   "execution_count": 42,
   "metadata": {},
   "outputs": [
    {
     "name": "stdout",
     "output_type": "stream",
     "text": [
      "i == 2\n",
      "i == 3\n",
      "i == 45\n",
      "i == 6\n",
      "i == 7\n"
     ]
    }
   ],
   "source": [
    "tuple1 = (2,3,45,6,7)\n",
    "for i in tuple1:\n",
    "    print(f'i == {i}')"
   ]
  },
  {
   "cell_type": "markdown",
   "metadata": {},
   "source": [
    "# enumerate Function"
   ]
  },
  {
   "cell_type": "raw",
   "metadata": {},
   "source": [
    "for index,value in enumerate(sequence):\n",
    "    print(index,value)\n",
    "    statement1\n",
    "    statement2"
   ]
  },
  {
   "cell_type": "code",
   "execution_count": 44,
   "metadata": {},
   "outputs": [
    {
     "name": "stdout",
     "output_type": "stream",
     "text": [
      "0 P\n",
      "1 y\n",
      "2 t\n",
      "3 h\n",
      "4 o\n",
      "5 n\n"
     ]
    }
   ],
   "source": [
    "for index,value in enumerate('Python'):\n",
    "    print(index,value)"
   ]
  },
  {
   "cell_type": "code",
   "execution_count": 46,
   "metadata": {},
   "outputs": [
    {
     "name": "stdout",
     "output_type": "stream",
     "text": [
      "0 10\n",
      "1 20\n",
      "2 30\n",
      "3 40\n"
     ]
    }
   ],
   "source": [
    "l1 = [10,20,30,40]\n",
    "for index,value in enumerate(l1):\n",
    "    print(index,value)"
   ]
  },
  {
   "cell_type": "code",
   "execution_count": 48,
   "metadata": {},
   "outputs": [
    {
     "name": "stdout",
     "output_type": "stream",
     "text": [
      "0 10\n",
      "1 20\n",
      "2 30\n",
      "3 40\n"
     ]
    }
   ],
   "source": [
    "l1 = [10,20,30,40]\n",
    "for i,v in enumerate(l1):\n",
    "    print(i,v)"
   ]
  },
  {
   "cell_type": "code",
   "execution_count": 49,
   "metadata": {},
   "outputs": [
    {
     "name": "stdout",
     "output_type": "stream",
     "text": [
      "value at index 0 is 10\n",
      "value at index 1 is 20\n",
      "value at index 2 is 30\n",
      "value at index 3 is 40\n"
     ]
    }
   ],
   "source": [
    "l1 = [10,20,30,40]\n",
    "for i,v in enumerate(l1):\n",
    "    print(f'value at index {i} is {v}')"
   ]
  },
  {
   "cell_type": "code",
   "execution_count": 51,
   "metadata": {},
   "outputs": [
    {
     "name": "stdout",
     "output_type": "stream",
     "text": [
      "value at index 0 is 10\n",
      "value at index 1 is 20\n",
      "value at index 2 is 30\n",
      "value at index 3 is 40\n"
     ]
    }
   ],
   "source": [
    "l1 = (10,20,30,40)\n",
    "for i,v in enumerate(l1):\n",
    "    print(f'value at index {i} is {v}')"
   ]
  },
  {
   "cell_type": "markdown",
   "metadata": {},
   "source": [
    "### Range Function in for loop"
   ]
  },
  {
   "cell_type": "code",
   "execution_count": 55,
   "metadata": {},
   "outputs": [
    {
     "name": "stdout",
     "output_type": "stream",
     "text": [
      "0\n",
      "1\n",
      "2\n"
     ]
    }
   ],
   "source": [
    "for i in range(3): \n",
    "    print(i)"
   ]
  },
  {
   "cell_type": "code",
   "execution_count": 57,
   "metadata": {},
   "outputs": [
    {
     "name": "stdout",
     "output_type": "stream",
     "text": [
      "5\n",
      "6\n",
      "7\n",
      "8\n",
      "9\n"
     ]
    }
   ],
   "source": [
    "for i in range(5,10): \n",
    "    print(i)"
   ]
  },
  {
   "cell_type": "code",
   "execution_count": 59,
   "metadata": {},
   "outputs": [
    {
     "name": "stdout",
     "output_type": "stream",
     "text": [
      "0\n",
      "1\n",
      "2\n",
      "3\n",
      "4\n",
      "5\n"
     ]
    }
   ],
   "source": [
    "string = 'python'\n",
    "for i in range(len(string)):  # range(6)\n",
    "    print(i)"
   ]
  },
  {
   "cell_type": "code",
   "execution_count": 60,
   "metadata": {},
   "outputs": [
    {
     "name": "stdout",
     "output_type": "stream",
     "text": [
      "2\n",
      "3\n",
      "4\n",
      "5\n"
     ]
    }
   ],
   "source": [
    "string = 'python'\n",
    "for i in range(2,len(string)):  # range(6)\n",
    "    print(i)"
   ]
  },
  {
   "cell_type": "code",
   "execution_count": null,
   "metadata": {},
   "outputs": [],
   "source": []
  }
 ],
 "metadata": {
  "kernelspec": {
   "display_name": "Python 3",
   "language": "python",
   "name": "python3"
  },
  "language_info": {
   "codemirror_mode": {
    "name": "ipython",
    "version": 3
   },
   "file_extension": ".py",
   "mimetype": "text/x-python",
   "name": "python",
   "nbconvert_exporter": "python",
   "pygments_lexer": "ipython3",
   "version": "3.7.3"
  }
 },
 "nbformat": 4,
 "nbformat_minor": 5
}
