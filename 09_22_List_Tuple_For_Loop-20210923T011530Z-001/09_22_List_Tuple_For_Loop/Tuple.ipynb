{
 "cells": [
  {
   "cell_type": "markdown",
   "id": "successful-shield",
   "metadata": {},
   "source": [
    "# Tuple"
   ]
  },
  {
   "cell_type": "raw",
   "id": "nonprofit-richardson",
   "metadata": {},
   "source": [
    "Tuple are used to store the sequence\n",
    "Tuples are immutable\n",
    "The value of item stored in tuple can not be changed/modified\n",
    "\n",
    "ordered \n",
    "It allow duplicate items\n",
    "Tuple are enclosed by parenthesis >> ()\n",
    "Hetergoneous data types (int,float, str, list, tuple, etc)\n",
    "Comma seperated\n",
    "Tuples are faster than list\n",
    "We can not perform operation like add, update and delete\n",
    "\n",
    "If we are adding one item in the tuple, then we need to add comma "
   ]
  },
  {
   "cell_type": "markdown",
   "id": "aquatic-wilson",
   "metadata": {},
   "source": [
    "## Tuple Functions"
   ]
  },
  {
   "cell_type": "raw",
   "id": "agricultural-scott",
   "metadata": {},
   "source": [
    "1. index\n",
    "2. count"
   ]
  },
  {
   "cell_type": "code",
   "execution_count": 1,
   "id": "aggregate-subsection",
   "metadata": {},
   "outputs": [
    {
     "data": {
      "text/plain": [
       "tuple"
      ]
     },
     "execution_count": 1,
     "metadata": {},
     "output_type": "execute_result"
    }
   ],
   "source": [
    "tuple1 = (2,10,30)\n",
    "type(tuple1)"
   ]
  },
  {
   "cell_type": "code",
   "execution_count": 3,
   "id": "international-clarity",
   "metadata": {},
   "outputs": [
    {
     "data": {
      "text/plain": [
       "tuple"
      ]
     },
     "execution_count": 3,
     "metadata": {},
     "output_type": "execute_result"
    }
   ],
   "source": [
    "tuple1 = ()\n",
    "type(tuple1)"
   ]
  },
  {
   "cell_type": "code",
   "execution_count": 7,
   "id": "supreme-extent",
   "metadata": {},
   "outputs": [
    {
     "data": {
      "text/plain": [
       "tuple"
      ]
     },
     "execution_count": 7,
     "metadata": {},
     "output_type": "execute_result"
    }
   ],
   "source": [
    "tuple1 = (10,)\n",
    "type(tuple1)"
   ]
  },
  {
   "cell_type": "code",
   "execution_count": 8,
   "id": "challenging-brunei",
   "metadata": {},
   "outputs": [
    {
     "data": {
      "text/plain": [
       "list"
      ]
     },
     "execution_count": 8,
     "metadata": {},
     "output_type": "execute_result"
    }
   ],
   "source": [
    "l1 = [10]\n",
    "type(l1)"
   ]
  },
  {
   "cell_type": "code",
   "execution_count": 11,
   "id": "broken-removal",
   "metadata": {},
   "outputs": [
    {
     "data": {
      "text/plain": [
       "int"
      ]
     },
     "execution_count": 11,
     "metadata": {},
     "output_type": "execute_result"
    }
   ],
   "source": [
    "l1 = (10)\n",
    "type(l1)"
   ]
  },
  {
   "cell_type": "code",
   "execution_count": 13,
   "id": "million-annual",
   "metadata": {},
   "outputs": [
    {
     "data": {
      "text/plain": [
       "str"
      ]
     },
     "execution_count": 13,
     "metadata": {},
     "output_type": "execute_result"
    }
   ],
   "source": [
    "t1 = ('mumbai')\n",
    "type(t1)"
   ]
  },
  {
   "cell_type": "code",
   "execution_count": 15,
   "id": "turkish-associate",
   "metadata": {},
   "outputs": [
    {
     "data": {
      "text/plain": [
       "tuple"
      ]
     },
     "execution_count": 15,
     "metadata": {},
     "output_type": "execute_result"
    }
   ],
   "source": [
    "t1 = ('mumbai',)\n",
    "type(t1)"
   ]
  },
  {
   "cell_type": "code",
   "execution_count": 18,
   "id": "aggressive-incentive",
   "metadata": {},
   "outputs": [
    {
     "name": "stdout",
     "output_type": "stream",
     "text": [
      "('mumbai', 'pune', 'chennai') <class 'tuple'> 3\n"
     ]
    }
   ],
   "source": [
    "t1 = 'mumbai','pune', 'chennai'\n",
    "print(t1, type(t1),len(t1))"
   ]
  },
  {
   "cell_type": "code",
   "execution_count": 20,
   "id": "velvet-wrestling",
   "metadata": {},
   "outputs": [
    {
     "data": {
      "text/plain": [
       "'pune'"
      ]
     },
     "execution_count": 20,
     "metadata": {},
     "output_type": "execute_result"
    }
   ],
   "source": [
    "t1,t2,t3 = 'mumbai','pune', 'chennai'\n",
    "t2"
   ]
  },
  {
   "cell_type": "code",
   "execution_count": 28,
   "id": "removed-snapshot",
   "metadata": {},
   "outputs": [
    {
     "data": {
      "text/plain": [
       "('mumbai', 'pune')"
      ]
     },
     "execution_count": 28,
     "metadata": {},
     "output_type": "execute_result"
    }
   ],
   "source": [
    "t1 = ('mumbai','pune')\n",
    "t1"
   ]
  },
  {
   "cell_type": "code",
   "execution_count": 29,
   "id": "pleased-moscow",
   "metadata": {},
   "outputs": [
    {
     "data": {
      "text/plain": [
       "('mumbai', 'pune')"
      ]
     },
     "execution_count": 29,
     "metadata": {},
     "output_type": "execute_result"
    }
   ],
   "source": [
    "t1 = 'mumbai','pune'\n",
    "t1"
   ]
  },
  {
   "cell_type": "markdown",
   "id": "complicated-cancer",
   "metadata": {},
   "source": [
    "# Indexing"
   ]
  },
  {
   "cell_type": "code",
   "execution_count": 30,
   "id": "judicial-alliance",
   "metadata": {},
   "outputs": [
    {
     "data": {
      "text/plain": [
       "2"
      ]
     },
     "execution_count": 30,
     "metadata": {},
     "output_type": "execute_result"
    }
   ],
   "source": [
    "tuple2 = (2,3,4,1,2,3,5,6,10)\n",
    "tuple2[0]"
   ]
  },
  {
   "cell_type": "code",
   "execution_count": 35,
   "id": "anticipated-apartment",
   "metadata": {},
   "outputs": [
    {
     "data": {
      "text/plain": [
       "4"
      ]
     },
     "execution_count": 35,
     "metadata": {},
     "output_type": "execute_result"
    }
   ],
   "source": [
    "tuple2 = (2,3,4,1,2,3,5,6,10)\n",
    "tuple2[1]\n",
    "tuple2[5]\n",
    "tuple2[-1]\n",
    "tuple2[2]"
   ]
  },
  {
   "cell_type": "code",
   "execution_count": 41,
   "id": "chinese-fundamentals",
   "metadata": {},
   "outputs": [
    {
     "data": {
      "text/plain": [
       "(2, 3, 5, 6, 10)"
      ]
     },
     "execution_count": 41,
     "metadata": {},
     "output_type": "execute_result"
    }
   ],
   "source": [
    "tuple2 = (2,3,4,1,2,3,5,6,10)\n",
    "tuple2[1:5]  # 4\n",
    "tuple2[:]\n",
    "tuple2[:5] \n",
    "tuple2[-5:]"
   ]
  },
  {
   "cell_type": "code",
   "execution_count": 43,
   "id": "caroline-sweden",
   "metadata": {},
   "outputs": [
    {
     "data": {
      "text/plain": [
       "(3, 4, 1, 2)"
      ]
     },
     "execution_count": 43,
     "metadata": {},
     "output_type": "execute_result"
    }
   ],
   "source": [
    "tuple2 = (2,3,4,1,2,3,5,6,10)\n",
    "tuple2[1:5:1]  # 4"
   ]
  },
  {
   "cell_type": "code",
   "execution_count": 44,
   "id": "grave-conservative",
   "metadata": {},
   "outputs": [
    {
     "data": {
      "text/plain": [
       "(2, 3, 4, 1, 2, 3, 5, 6, 10)"
      ]
     },
     "execution_count": 44,
     "metadata": {},
     "output_type": "execute_result"
    }
   ],
   "source": [
    "tuple2 = (2,3,4,1,2,3,5,6,10)\n",
    "tuple2[::1]  "
   ]
  },
  {
   "cell_type": "code",
   "execution_count": 47,
   "id": "spatial-assessment",
   "metadata": {},
   "outputs": [
    {
     "name": "stdout",
     "output_type": "stream",
     "text": [
      "(10, 6, 5, 3, 2, 1, 4, 3, 2)\n",
      "(2, 3, 4, 1, 2, 3, 5, 6, 10)\n"
     ]
    }
   ],
   "source": [
    "tuple2 = (2,3,4,1,2,3,5,6,10)\n",
    "print(tuple2[::-1] )\n",
    "print(tuple2)"
   ]
  },
  {
   "cell_type": "code",
   "execution_count": 49,
   "id": "remarkable-outside",
   "metadata": {},
   "outputs": [
    {
     "data": {
      "text/plain": [
       "(10, 5, 2, 4, 2)"
      ]
     },
     "execution_count": 49,
     "metadata": {},
     "output_type": "execute_result"
    }
   ],
   "source": [
    "tuple2 = (2,3,4,1,2,3,5,6,10)\n",
    "tuple2[::-2]  "
   ]
  },
  {
   "cell_type": "code",
   "execution_count": 51,
   "id": "interstate-blind",
   "metadata": {},
   "outputs": [
    {
     "data": {
      "text/plain": [
       "(2, 4, 2, 5, 10)"
      ]
     },
     "execution_count": 51,
     "metadata": {},
     "output_type": "execute_result"
    }
   ],
   "source": [
    "tuple2 = (2,3,4,1,2,3,5,6,10)\n",
    "tuple2[::2]  "
   ]
  },
  {
   "cell_type": "code",
   "execution_count": 54,
   "id": "moral-length",
   "metadata": {},
   "outputs": [
    {
     "ename": "TypeError",
     "evalue": "'tuple' object does not support item assignment",
     "output_type": "error",
     "traceback": [
      "\u001b[1;31m---------------------------------------------------------------------------\u001b[0m",
      "\u001b[1;31mTypeError\u001b[0m                                 Traceback (most recent call last)",
      "\u001b[1;32m<ipython-input-54-a06e04e7d2c8>\u001b[0m in \u001b[0;36m<module>\u001b[1;34m\u001b[0m\n\u001b[0;32m      1\u001b[0m \u001b[0mtuple2\u001b[0m \u001b[1;33m=\u001b[0m \u001b[1;33m(\u001b[0m\u001b[1;36m2\u001b[0m\u001b[1;33m,\u001b[0m\u001b[1;36m3\u001b[0m\u001b[1;33m,\u001b[0m\u001b[1;36m4\u001b[0m\u001b[1;33m,\u001b[0m\u001b[1;36m1\u001b[0m\u001b[1;33m,\u001b[0m\u001b[1;36m2\u001b[0m\u001b[1;33m,\u001b[0m\u001b[1;36m3\u001b[0m\u001b[1;33m,\u001b[0m\u001b[1;36m5\u001b[0m\u001b[1;33m,\u001b[0m\u001b[1;36m6\u001b[0m\u001b[1;33m,\u001b[0m\u001b[1;36m10\u001b[0m\u001b[1;33m)\u001b[0m\u001b[1;33m\u001b[0m\u001b[1;33m\u001b[0m\u001b[0m\n\u001b[1;32m----> 2\u001b[1;33m \u001b[0mtuple2\u001b[0m\u001b[1;33m[\u001b[0m\u001b[1;36m1\u001b[0m\u001b[1;33m]\u001b[0m \u001b[1;33m=\u001b[0m \u001b[1;36m100\u001b[0m\u001b[1;33m\u001b[0m\u001b[1;33m\u001b[0m\u001b[0m\n\u001b[0m",
      "\u001b[1;31mTypeError\u001b[0m: 'tuple' object does not support item assignment"
     ]
    }
   ],
   "source": [
    "tuple2 = (2,3,4,1,2,3,5,6,10)\n",
    "tuple2[1] = 100"
   ]
  },
  {
   "cell_type": "code",
   "execution_count": 58,
   "id": "funny-observer",
   "metadata": {},
   "outputs": [
    {
     "ename": "TypeError",
     "evalue": "'str' object does not support item assignment",
     "output_type": "error",
     "traceback": [
      "\u001b[1;31m---------------------------------------------------------------------------\u001b[0m",
      "\u001b[1;31mTypeError\u001b[0m                                 Traceback (most recent call last)",
      "\u001b[1;32m<ipython-input-58-d918dc2984bd>\u001b[0m in \u001b[0;36m<module>\u001b[1;34m\u001b[0m\n\u001b[0;32m      1\u001b[0m \u001b[0mstring\u001b[0m \u001b[1;33m=\u001b[0m \u001b[1;34m'Python'\u001b[0m\u001b[1;33m\u001b[0m\u001b[1;33m\u001b[0m\u001b[0m\n\u001b[1;32m----> 2\u001b[1;33m \u001b[0mstring\u001b[0m\u001b[1;33m[\u001b[0m\u001b[1;36m1\u001b[0m\u001b[1;33m]\u001b[0m \u001b[1;33m=\u001b[0m \u001b[1;34m'Y'\u001b[0m\u001b[1;33m\u001b[0m\u001b[1;33m\u001b[0m\u001b[0m\n\u001b[0m",
      "\u001b[1;31mTypeError\u001b[0m: 'str' object does not support item assignment"
     ]
    }
   ],
   "source": [
    "string = 'Python'\n",
    "string[1] = 'Y'"
   ]
  },
  {
   "cell_type": "markdown",
   "id": "infinite-worker",
   "metadata": {},
   "source": [
    "# Delete"
   ]
  },
  {
   "cell_type": "code",
   "execution_count": 61,
   "id": "weekly-purchase",
   "metadata": {},
   "outputs": [
    {
     "ename": "TypeError",
     "evalue": "'tuple' object doesn't support item deletion",
     "output_type": "error",
     "traceback": [
      "\u001b[1;31m---------------------------------------------------------------------------\u001b[0m",
      "\u001b[1;31mTypeError\u001b[0m                                 Traceback (most recent call last)",
      "\u001b[1;32m<ipython-input-61-7860797a5408>\u001b[0m in \u001b[0;36m<module>\u001b[1;34m\u001b[0m\n\u001b[0;32m      1\u001b[0m \u001b[0mtuple1\u001b[0m \u001b[1;33m=\u001b[0m \u001b[1;33m(\u001b[0m\u001b[1;36m2\u001b[0m\u001b[1;33m,\u001b[0m\u001b[1;36m3\u001b[0m\u001b[1;33m,\u001b[0m\u001b[1;36m4\u001b[0m\u001b[1;33m,\u001b[0m\u001b[1;36m1\u001b[0m\u001b[1;33m,\u001b[0m\u001b[1;36m2\u001b[0m\u001b[1;33m,\u001b[0m\u001b[1;36m3\u001b[0m\u001b[1;33m,\u001b[0m\u001b[1;36m5\u001b[0m\u001b[1;33m,\u001b[0m\u001b[1;36m6\u001b[0m\u001b[1;33m,\u001b[0m\u001b[1;36m10\u001b[0m\u001b[1;33m)\u001b[0m\u001b[1;33m\u001b[0m\u001b[1;33m\u001b[0m\u001b[0m\n\u001b[1;32m----> 2\u001b[1;33m \u001b[1;32mdel\u001b[0m \u001b[0mtuple1\u001b[0m\u001b[1;33m[\u001b[0m\u001b[1;36m3\u001b[0m\u001b[1;33m]\u001b[0m\u001b[1;33m\u001b[0m\u001b[1;33m\u001b[0m\u001b[0m\n\u001b[0m",
      "\u001b[1;31mTypeError\u001b[0m: 'tuple' object doesn't support item deletion"
     ]
    }
   ],
   "source": [
    "tuple1 = (2,3,4,1,2,3,5,6,10)\n",
    "del tuple1[3]"
   ]
  },
  {
   "cell_type": "code",
   "execution_count": 66,
   "id": "cooked-aviation",
   "metadata": {},
   "outputs": [],
   "source": [
    "tuple1 = (2,3,4,1,2,3,5,6,10)\n",
    "del tuple1\n",
    "# print(tuple1)"
   ]
  },
  {
   "cell_type": "code",
   "execution_count": 73,
   "id": "placed-young",
   "metadata": {},
   "outputs": [
    {
     "name": "stdout",
     "output_type": "stream",
     "text": [
      "[2, 3, 400, 6, 10]\n",
      "(2, 3, 400, 6, 10)\n",
      "(2, 3, 4, 6, 10)\n"
     ]
    }
   ],
   "source": [
    "tuple1 = (2,3,4,6,10)\n",
    "l1 = list(tuple1)\n",
    "l1[2] = 400\n",
    "print(l1)\n",
    "tuple2 = tuple(l1)\n",
    "print(tuple2)\n",
    "print(tuple1)"
   ]
  },
  {
   "cell_type": "code",
   "execution_count": 76,
   "id": "willing-stocks",
   "metadata": {},
   "outputs": [
    {
     "name": "stdout",
     "output_type": "stream",
     "text": [
      "[2, 3, 400, 6, 10]\n",
      "(2, 3, 400, 6, 10)\n"
     ]
    }
   ],
   "source": [
    "tuple1 = (2,3,4,6,10)\n",
    "l1 = list(tuple1)\n",
    "l1[2] = 400\n",
    "print(l1)\n",
    "tuple1 = tuple(l1)\n",
    "print(tuple1)"
   ]
  },
  {
   "cell_type": "code",
   "execution_count": 77,
   "id": "aerial-float",
   "metadata": {},
   "outputs": [
    {
     "name": "stdout",
     "output_type": "stream",
     "text": [
      "[2, 3, 400, 6, 10]\n",
      "(2, 3, 400, 6, 10)\n"
     ]
    }
   ],
   "source": [
    "tuple1 = (2,3,4,6,10)\n",
    "l1 = list(tuple1)\n",
    "l1[2] = 400\n",
    "print(l1)\n",
    "tuple1 = tuple(l1)\n",
    "print(tuple1)"
   ]
  },
  {
   "cell_type": "code",
   "execution_count": 86,
   "id": "collective-soccer",
   "metadata": {},
   "outputs": [
    {
     "name": "stdout",
     "output_type": "stream",
     "text": [
      "[2, 3, 4, 6, 10, 500]\n",
      "(2, 3, 4, 6, 10, 500)\n"
     ]
    }
   ],
   "source": [
    "tuple1 = (2,3,4,6,10)\n",
    "l1 = list(tuple1)\n",
    "l1.append(500)\n",
    "print(l1)\n",
    "tuple1 = tuple(l1)\n",
    "print(tuple1)"
   ]
  },
  {
   "cell_type": "code",
   "execution_count": 83,
   "id": "eleven-sensitivity",
   "metadata": {},
   "outputs": [
    {
     "data": {
      "text/plain": [
       "[10, 20, 30, 40]"
      ]
     },
     "execution_count": 83,
     "metadata": {},
     "output_type": "execute_result"
    }
   ],
   "source": [
    "l1 = [10,20,30]\n",
    "l1.append(40)\n",
    "l1"
   ]
  },
  {
   "cell_type": "code",
   "execution_count": 87,
   "id": "separate-subscriber",
   "metadata": {},
   "outputs": [
    {
     "data": {
      "text/plain": [
       "[10, 20, 30, 40]"
      ]
     },
     "execution_count": 87,
     "metadata": {},
     "output_type": "execute_result"
    }
   ],
   "source": [
    "l1 = [10,20,30]\n",
    "l1.append(40)\n",
    "l1"
   ]
  },
  {
   "cell_type": "code",
   "execution_count": 88,
   "id": "friendly-factory",
   "metadata": {},
   "outputs": [
    {
     "name": "stdout",
     "output_type": "stream",
     "text": [
      "python\n",
      "Python\n"
     ]
    }
   ],
   "source": [
    "s = 'python'\n",
    "s1 = s.replace('p','P')\n",
    "print(s)\n",
    "print(s1)"
   ]
  },
  {
   "cell_type": "markdown",
   "id": "swiss-pattern",
   "metadata": {},
   "source": [
    "# Tuple Operations"
   ]
  },
  {
   "cell_type": "code",
   "execution_count": 91,
   "id": "chinese-vegetarian",
   "metadata": {},
   "outputs": [
    {
     "name": "stdout",
     "output_type": "stream",
     "text": [
      "(2, 3, 4)\n",
      "(5, 6, 7)\n"
     ]
    }
   ],
   "source": [
    "t1 = (2,3,4)\n",
    "t2 = (5,6,7)\n",
    "t1 + t2\n",
    "print(t1)\n",
    "print(t2)"
   ]
  },
  {
   "cell_type": "code",
   "execution_count": 93,
   "id": "seventh-harvard",
   "metadata": {},
   "outputs": [
    {
     "name": "stdout",
     "output_type": "stream",
     "text": [
      "(2, 3, 4, 5, 6, 7)\n",
      "(5, 6, 7)\n"
     ]
    }
   ],
   "source": [
    "t1 = (2,3,4)\n",
    "t2 = (5,6,7)\n",
    "t1 = t1 + t2\n",
    "print(t1)\n",
    "print(t2)"
   ]
  },
  {
   "cell_type": "code",
   "execution_count": 98,
   "id": "devoted-queensland",
   "metadata": {},
   "outputs": [
    {
     "name": "stdout",
     "output_type": "stream",
     "text": [
      "(2, 3, 4)\n",
      "(2, 3, 4, 5, 6, 7)\n"
     ]
    }
   ],
   "source": [
    "t1 = (2,3,4)\n",
    "t2 = (5,6,7)\n",
    "t2 = t1 + t2\n",
    "print(t1)\n",
    "print(t2)"
   ]
  },
  {
   "cell_type": "code",
   "execution_count": 99,
   "id": "moderate-suspension",
   "metadata": {},
   "outputs": [
    {
     "name": "stdout",
     "output_type": "stream",
     "text": [
      "(2, 3, 4)\n",
      "(5, 6, 7)\n",
      "(2, 3, 4, 5, 6, 7)\n"
     ]
    }
   ],
   "source": [
    "t1 = (2,3,4)\n",
    "t2 = (5,6,7)\n",
    "t3 = t1 + t2\n",
    "print(t1)\n",
    "print(t2)\n",
    "print(t3)"
   ]
  },
  {
   "cell_type": "code",
   "execution_count": 104,
   "id": "express-bandwidth",
   "metadata": {},
   "outputs": [
    {
     "name": "stdout",
     "output_type": "stream",
     "text": [
      "(2, 3, 4)\n",
      "(2, 3, 4, 2, 3, 4)\n"
     ]
    }
   ],
   "source": [
    "t1 = (2,3,4)\n",
    "t2 = t1 * 2\n",
    "print(t1)\n",
    "print(t2)"
   ]
  },
  {
   "cell_type": "code",
   "execution_count": 102,
   "id": "agricultural-karma",
   "metadata": {},
   "outputs": [
    {
     "data": {
      "text/plain": [
       "'PythonPython'"
      ]
     },
     "execution_count": 102,
     "metadata": {},
     "output_type": "execute_result"
    }
   ],
   "source": [
    "s = 'Python'\n",
    "s * 2"
   ]
  },
  {
   "cell_type": "code",
   "execution_count": 106,
   "id": "accessory-variable",
   "metadata": {},
   "outputs": [
    {
     "name": "stdout",
     "output_type": "stream",
     "text": [
      "20 is present\n"
     ]
    }
   ],
   "source": [
    "t1 = (10,20,30,'python',10.5, 'data','science',100,200)\n",
    "value = 20\n",
    "if value in t1:\n",
    "    print(f'{value} is present')\n",
    "    \n",
    "else:\n",
    "    print(f'{value} is not present')"
   ]
  },
  {
   "cell_type": "code",
   "execution_count": 108,
   "id": "prompt-healthcare",
   "metadata": {},
   "outputs": [
    {
     "name": "stdout",
     "output_type": "stream",
     "text": [
      "data is present\n"
     ]
    }
   ],
   "source": [
    "t1 = (10,20,30,'python',10.5, 'data','science',100,200)\n",
    "value = 'data'\n",
    "if value in t1:\n",
    "    print(f'{value} is present')\n",
    "    \n",
    "else:\n",
    "    print(f'{value} is not present')"
   ]
  },
  {
   "cell_type": "code",
   "execution_count": 110,
   "id": "plain-blame",
   "metadata": {},
   "outputs": [
    {
     "name": "stdout",
     "output_type": "stream",
     "text": [
      "DATA is not present\n"
     ]
    }
   ],
   "source": [
    "t1 = (10,20,30,'python',10.5, 'data','science',100,200)\n",
    "value = 'DATA'\n",
    "if value in t1:\n",
    "    print(f'{value} is present')\n",
    "    \n",
    "else:\n",
    "    print(f'{value} is not present')"
   ]
  },
  {
   "cell_type": "code",
   "execution_count": 113,
   "id": "conventional-assignment",
   "metadata": {},
   "outputs": [
    {
     "name": "stdout",
     "output_type": "stream",
     "text": [
      "Python is not present\n"
     ]
    }
   ],
   "source": [
    "t1 = (10,20,30,'python',10.5, 'data','science',100,200)\n",
    "value = 'Python'\n",
    "\n",
    "if value in t1:\n",
    "    print(f'{value} is present')\n",
    "    \n",
    "else:\n",
    "    print(f'{value} is not present')"
   ]
  },
  {
   "cell_type": "code",
   "execution_count": 115,
   "id": "convertible-insulation",
   "metadata": {},
   "outputs": [
    {
     "name": "stdout",
     "output_type": "stream",
     "text": [
      "python is present\n"
     ]
    }
   ],
   "source": [
    "t1 = (10,20,30,'python',10.5, 'data','science',100,200)\n",
    "value = 'python'\n",
    "\n",
    "if value in t1:\n",
    "    print(f'{value} is present')\n",
    "    \n",
    "else:\n",
    "    print(f'{value} is not present')"
   ]
  },
  {
   "cell_type": "code",
   "execution_count": 117,
   "id": "coastal-horizon",
   "metadata": {},
   "outputs": [
    {
     "data": {
      "text/plain": [
       "1"
      ]
     },
     "execution_count": 117,
     "metadata": {},
     "output_type": "execute_result"
    }
   ],
   "source": [
    "t1 = (10,20,30,'python',10.5, 'data','science',100,200)\n",
    "t1.count(10)"
   ]
  },
  {
   "cell_type": "code",
   "execution_count": 119,
   "id": "peaceful-christopher",
   "metadata": {},
   "outputs": [
    {
     "data": {
      "text/plain": [
       "0"
      ]
     },
     "execution_count": 119,
     "metadata": {},
     "output_type": "execute_result"
    }
   ],
   "source": [
    "t1 = (10,20,30,'python',10.5, 'data','science',100,200)\n",
    "t1.index(10)"
   ]
  },
  {
   "cell_type": "code",
   "execution_count": 121,
   "id": "returning-sixth",
   "metadata": {},
   "outputs": [
    {
     "data": {
      "text/plain": [
       "3"
      ]
     },
     "execution_count": 121,
     "metadata": {},
     "output_type": "execute_result"
    }
   ],
   "source": [
    "t1 = (10,20,30,'python',10.5, 'data','science',100,200)\n",
    "t1.index('python')"
   ]
  },
  {
   "cell_type": "code",
   "execution_count": 123,
   "id": "nervous-parish",
   "metadata": {},
   "outputs": [
    {
     "data": {
      "text/plain": [
       "3"
      ]
     },
     "execution_count": 123,
     "metadata": {},
     "output_type": "execute_result"
    }
   ],
   "source": [
    "t1 = (10,20,3,4,5,7,100)\n",
    "min(t1)"
   ]
  },
  {
   "cell_type": "code",
   "execution_count": 125,
   "id": "political-coaching",
   "metadata": {},
   "outputs": [
    {
     "data": {
      "text/plain": [
       "100"
      ]
     },
     "execution_count": 125,
     "metadata": {},
     "output_type": "execute_result"
    }
   ],
   "source": [
    "t1 = (10,20,3,4,5,7,100)\n",
    "max(t1)"
   ]
  },
  {
   "cell_type": "code",
   "execution_count": 127,
   "id": "loaded-manor",
   "metadata": {},
   "outputs": [
    {
     "data": {
      "text/plain": [
       "149"
      ]
     },
     "execution_count": 127,
     "metadata": {},
     "output_type": "execute_result"
    }
   ],
   "source": [
    "t1 = (10,20,3,4,5,7,100)\n",
    "sum(t1)"
   ]
  },
  {
   "cell_type": "code",
   "execution_count": 132,
   "id": "exterior-final",
   "metadata": {},
   "outputs": [
    {
     "data": {
      "text/plain": [
       "59.5"
      ]
     },
     "execution_count": 132,
     "metadata": {},
     "output_type": "execute_result"
    }
   ],
   "source": [
    "t1 = (10,20,3,4,5,7,10.50)\n",
    "sum(t1)"
   ]
  },
  {
   "cell_type": "markdown",
   "id": "boolean-explosion",
   "metadata": {},
   "source": [
    "# Where to use tuple"
   ]
  },
  {
   "cell_type": "raw",
   "id": "destroyed-farming",
   "metadata": {},
   "source": [
    "Customer_ID  = ('ID001','ID002',..,'ID100') # 100 ID's\n",
    "Passport_Number = ['J123456']  # 100 passport number\n"
   ]
  },
  {
   "cell_type": "code",
   "execution_count": 134,
   "id": "encouraging-campbell",
   "metadata": {},
   "outputs": [],
   "source": [
    "tuple1 = (2,3,4,5) # 4,9,16,25\n",
    "\n"
   ]
  },
  {
   "cell_type": "code",
   "execution_count": 136,
   "id": "altered-tower",
   "metadata": {},
   "outputs": [
    {
     "name": "stdout",
     "output_type": "stream",
     "text": [
      "10\n",
      "20\n",
      "30\n",
      "40\n"
     ]
    }
   ],
   "source": [
    "t1 = (10,20,30,40)\n",
    "for i in t1:\n",
    "    print(i)"
   ]
  },
  {
   "cell_type": "code",
   "execution_count": 138,
   "id": "colonial-preservation",
   "metadata": {},
   "outputs": [
    {
     "name": "stdout",
     "output_type": "stream",
     "text": [
      "10 100\n",
      "20 400\n",
      "30 900\n",
      "40 1600\n"
     ]
    }
   ],
   "source": [
    "t1 = (10,20,30,40)\n",
    "for i in t1:\n",
    "    sqr = i ** 2\n",
    "    print(i,sqr)"
   ]
  },
  {
   "cell_type": "code",
   "execution_count": 140,
   "id": "compact-hazard",
   "metadata": {},
   "outputs": [
    {
     "data": {
      "text/plain": [
       "[100, 400, 900, 1600]"
      ]
     },
     "execution_count": 140,
     "metadata": {},
     "output_type": "execute_result"
    }
   ],
   "source": [
    "t1 = (10,20,30,40)\n",
    "sqr_list = [i ** 2 for i in t1]\n",
    "sqr_list"
   ]
  },
  {
   "cell_type": "code",
   "execution_count": 142,
   "id": "neural-damages",
   "metadata": {},
   "outputs": [
    {
     "data": {
      "text/plain": [
       "(100, 400, 900, 1600)"
      ]
     },
     "execution_count": 142,
     "metadata": {},
     "output_type": "execute_result"
    }
   ],
   "source": [
    "t1 = (10,20,30,40)\n",
    "sqr_tuple = tuple([i ** 2 for i in t1])\n",
    "sqr_tuple"
   ]
  },
  {
   "cell_type": "code",
   "execution_count": 145,
   "id": "precise-netherlands",
   "metadata": {},
   "outputs": [
    {
     "data": {
      "text/plain": [
       "(100, 400, 900, 1600)"
      ]
     },
     "execution_count": 145,
     "metadata": {},
     "output_type": "execute_result"
    }
   ],
   "source": [
    "t1 = (10,20,30,40)\n",
    "sqr_tuple = [i ** 2 for i in t1]\n",
    "sqr_tuple = tuple(sqr_tuple)\n",
    "sqr_tuple"
   ]
  },
  {
   "cell_type": "code",
   "execution_count": 150,
   "id": "brief-pregnancy",
   "metadata": {},
   "outputs": [
    {
     "data": {
      "text/plain": [
       "(100, 400, 900, 1600)"
      ]
     },
     "execution_count": 150,
     "metadata": {},
     "output_type": "execute_result"
    }
   ],
   "source": [
    "t1 = (10,20,30,40)\n",
    "sqr_tuple = tuple([i ** 2 for i in t1]) # tuple([100,400,900,1600])\n",
    "sqr_tuple"
   ]
  },
  {
   "cell_type": "code",
   "execution_count": 148,
   "id": "painful-kentucky",
   "metadata": {},
   "outputs": [
    {
     "data": {
      "text/plain": [
       "(1, 2, 5, 6)"
      ]
     },
     "execution_count": 148,
     "metadata": {},
     "output_type": "execute_result"
    }
   ],
   "source": [
    "tuple([1,2,5,6])"
   ]
  },
  {
   "cell_type": "code",
   "execution_count": 151,
   "id": "closing-martin",
   "metadata": {},
   "outputs": [
    {
     "data": {
      "text/plain": [
       "(100, 400, 900, 1600)"
      ]
     },
     "execution_count": 151,
     "metadata": {},
     "output_type": "execute_result"
    }
   ],
   "source": [
    "tuple([100,400,900,1600])"
   ]
  },
  {
   "cell_type": "code",
   "execution_count": null,
   "id": "sharp-signature",
   "metadata": {},
   "outputs": [],
   "source": []
  },
  {
   "cell_type": "markdown",
   "id": "smaller-sharp",
   "metadata": {},
   "source": [
    "# Copy"
   ]
  },
  {
   "cell_type": "code",
   "execution_count": 153,
   "id": "multiple-treatment",
   "metadata": {},
   "outputs": [
    {
     "name": "stdout",
     "output_type": "stream",
     "text": [
      "[2, 3, 4, 5, 6, 1000]\n",
      "[2, 3, 4, 5, 6, 1000]\n"
     ]
    }
   ],
   "source": [
    "list1 =[2,3,4,5,6]\n",
    "list2 = list1 # Reference Value\n",
    "list1.append(1000)\n",
    "\n",
    "print(list1)\n",
    "print(list2)"
   ]
  },
  {
   "cell_type": "code",
   "execution_count": 154,
   "id": "corresponding-conclusion",
   "metadata": {},
   "outputs": [
    {
     "name": "stdout",
     "output_type": "stream",
     "text": [
      "[2, 3, 4, 5, 6, 2000]\n",
      "[2, 3, 4, 5, 6, 2000]\n"
     ]
    }
   ],
   "source": [
    "list1 =[2,3,4,5,6]\n",
    "list2 = list1 # Reference Value\n",
    "list2.append(2000)\n",
    "\n",
    "print(list1)\n",
    "print(list2)"
   ]
  },
  {
   "cell_type": "code",
   "execution_count": 156,
   "id": "primary-hartford",
   "metadata": {},
   "outputs": [
    {
     "name": "stdout",
     "output_type": "stream",
     "text": [
      "[2, 3, 4, 5, 6, 1000]\n",
      "[2, 3, 4, 5, 6]\n"
     ]
    }
   ],
   "source": [
    "list1 =[2,3,4,5,6]\n",
    "list2 = list1.copy()\n",
    "list1.append(1000)\n",
    "\n",
    "print(list1)\n",
    "print(list2)"
   ]
  },
  {
   "cell_type": "code",
   "execution_count": 160,
   "id": "unsigned-unknown",
   "metadata": {},
   "outputs": [
    {
     "name": "stdout",
     "output_type": "stream",
     "text": [
      "[[2, 3], [4, 5, 6000]]\n",
      "[[2, 3], [4, 5, 6000]]\n"
     ]
    }
   ],
   "source": [
    "list1 =[[2,3],[4,5,6]]\n",
    "list2 = list1.copy() # Shallow Copy\n",
    "\n",
    "list2[1][2] = 6000\n",
    "        \n",
    "print(list1)\n",
    "print(list2)"
   ]
  },
  {
   "cell_type": "code",
   "execution_count": 162,
   "id": "standard-direction",
   "metadata": {},
   "outputs": [
    {
     "name": "stdout",
     "output_type": "stream",
     "text": [
      "list1 >>  [[2, 3], [4, 5, 6]]\n",
      "list2 >>  [[2, 3], [4, 5, 6000]]\n"
     ]
    }
   ],
   "source": [
    "import copy\n",
    "\n",
    "list1 =[[2,3],[4,5,6]]\n",
    "list2 = copy.deepcopy(list1)\n",
    "\n",
    "list2[1][2] = 6000\n",
    "        \n",
    "print('list1 >> ',list1)\n",
    "print(\"list2 >> \",list2)"
   ]
  },
  {
   "cell_type": "code",
   "execution_count": 165,
   "id": "express-alignment",
   "metadata": {},
   "outputs": [
    {
     "name": "stdout",
     "output_type": "stream",
     "text": [
      "list1 >>  [[2, 3], [4, 5000, 6]]\n",
      "list2 >>  [[2, 3], [4, 5, 6]]\n"
     ]
    }
   ],
   "source": [
    "import copy\n",
    "\n",
    "list1 =[[2,3],[4,5,6]]\n",
    "list2 = copy.deepcopy(list1)\n",
    "\n",
    "list1[1][1] = 5000\n",
    "        \n",
    "print('list1 >> ',list1)\n",
    "print(\"list2 >> \",list2)"
   ]
  },
  {
   "cell_type": "code",
   "execution_count": 172,
   "id": "level-possibility",
   "metadata": {},
   "outputs": [
    {
     "name": "stdout",
     "output_type": "stream",
     "text": [
      "5\n",
      "([2, 3], [4, 5, 6])\n"
     ]
    }
   ],
   "source": [
    "tuple1 =([2,3],[4,5,6])\n",
    "print(tuple1[1][1])\n",
    "print(tuple1)"
   ]
  },
  {
   "cell_type": "code",
   "execution_count": 174,
   "id": "blind-pioneer",
   "metadata": {},
   "outputs": [
    {
     "data": {
      "text/plain": [
       "[4, 5, 6]"
      ]
     },
     "execution_count": 174,
     "metadata": {},
     "output_type": "execute_result"
    }
   ],
   "source": [
    "tuple1 =([2,3],[4,5,6])\n",
    "tuple1[1]"
   ]
  },
  {
   "cell_type": "code",
   "execution_count": 176,
   "id": "technical-allah",
   "metadata": {},
   "outputs": [
    {
     "name": "stdout",
     "output_type": "stream",
     "text": [
      "([2, 3], [4, 1000, 6])\n"
     ]
    }
   ],
   "source": [
    "tuple1 =([2,3],[4,5,6])\n",
    "tuple1[1][1] = 1000\n",
    "print(tuple1)"
   ]
  },
  {
   "cell_type": "code",
   "execution_count": 177,
   "id": "solved-habitat",
   "metadata": {},
   "outputs": [
    {
     "name": "stdout",
     "output_type": "stream",
     "text": [
      "([2, 3], [4, 1000, 6])\n"
     ]
    }
   ],
   "source": [
    "tuple1 =([2,3],[4,5,6])\n",
    "tuple1[1][1] = 1000\n",
    "print(tuple1)"
   ]
  },
  {
   "cell_type": "code",
   "execution_count": null,
   "id": "monthly-teddy",
   "metadata": {},
   "outputs": [],
   "source": [
    "List:\n",
    "    1. []\n",
    "    2. Mutable\n",
    "    3. Duplicates are allowed\n",
    "    4. More Functionality in list\n",
    "    5. Lists are slower\n",
    "    6. Less Memory efficient\n",
    "    7. Variable length\n",
    "    \n",
    "Tuple:\n",
    "    1. ()\n",
    "    2. Immutable\n",
    "    3. Duplicates are allowed\n",
    "    4. Less Functionality in tuple\n",
    "    5. Tuples are Faster than list\n",
    "    6. More memory efficient \n",
    "    7. Fixed Length"
   ]
  },
  {
   "cell_type": "code",
   "execution_count": null,
   "id": "varying-concentration",
   "metadata": {},
   "outputs": [],
   "source": []
  }
 ],
 "metadata": {
  "kernelspec": {
   "display_name": "Python 3 (ipykernel)",
   "language": "python",
   "name": "python3"
  },
  "language_info": {
   "codemirror_mode": {
    "name": "ipython",
    "version": 3
   },
   "file_extension": ".py",
   "mimetype": "text/x-python",
   "name": "python",
   "nbconvert_exporter": "python",
   "pygments_lexer": "ipython3",
   "version": "3.9.1"
  }
 },
 "nbformat": 4,
 "nbformat_minor": 5
}
