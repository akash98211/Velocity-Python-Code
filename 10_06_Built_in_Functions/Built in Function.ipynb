{
 "cells": [
  {
   "cell_type": "markdown",
   "metadata": {
    "id": "acute-charles"
   },
   "source": [
    "# Built in Functions"
   ]
  },
  {
   "cell_type": "code",
   "execution_count": null,
   "metadata": {
    "id": "coordinate-thunder"
   },
   "outputs": [],
   "source": [
    "filter(function_name, iterable)"
   ]
  },
  {
   "cell_type": "code",
   "execution_count": null,
   "metadata": {
    "id": "annual-portuguese"
   },
   "outputs": [],
   "source": [
    "days_list = ['Sunday', 'Monday', 'Tuesday', 'Wednesday','Thursday', 'Friday', 'Saturday']\n"
   ]
  },
  {
   "cell_type": "code",
   "execution_count": null,
   "metadata": {
    "id": "equipped-alignment",
    "outputId": "fbc6eb94-b2dd-4235-c5b6-48c65c2b2e92"
   },
   "outputs": [
    {
     "data": {
      "text/plain": [
       "['Sunday', 'Monday', 'Friday']"
      ]
     },
     "execution_count": 2,
     "metadata": {},
     "output_type": "execute_result"
    }
   ],
   "source": [
    "list1 = ['Sunday', 'Monday', 'Tuesday', 'Wednesday','Thursday', 'Friday', 'Saturday']\n",
    "\n",
    "list(filter(lambda x : len(x) == 6, list1)) \n",
    "\n",
    "['Sunday','Monday','Friday']"
   ]
  },
  {
   "cell_type": "code",
   "execution_count": null,
   "metadata": {
    "id": "offensive-oxford",
    "outputId": "8bded4d9-247b-4851-953b-ea5d32ed8a89"
   },
   "outputs": [
    {
     "data": {
      "text/plain": [
       "[True, True, False, False, False, True, False]"
      ]
     },
     "execution_count": 6,
     "metadata": {},
     "output_type": "execute_result"
    }
   ],
   "source": [
    "list1 = ['Sunday', 'Monday', 'Tuesday', 'Wednesday','Thursday', 'Friday', 'Saturday']\n",
    "list(map(lambda x : len(x) == 6, list1))"
   ]
  },
  {
   "cell_type": "code",
   "execution_count": null,
   "metadata": {
    "id": "appointed-accent",
    "outputId": "f05db04d-2122-4d1c-92c4-919d1a94995c"
   },
   "outputs": [
    {
     "data": {
      "text/plain": [
       "['sunday', 'monday', 'tuesday', 'wednesday', 'thursday', 'friday', 'saturday']"
      ]
     },
     "execution_count": 8,
     "metadata": {},
     "output_type": "execute_result"
    }
   ],
   "source": [
    "list1 = ['Sunday', 'Monday', 'Tuesday', 'Wednesday','Thursday', 'Friday', 'Saturday']\n",
    "list(map(lambda x : x.lower(), list1))"
   ]
  },
  {
   "cell_type": "code",
   "execution_count": null,
   "metadata": {
    "id": "right-mercy",
    "outputId": "d95172b1-60d2-4e2f-9dae-2099963914ce"
   },
   "outputs": [
    {
     "data": {
      "text/plain": [
       "['Sunday', 'Monday', 'Tuesday', 'Wednesday', 'Thursday', 'Friday', 'Saturday']"
      ]
     },
     "execution_count": 9,
     "metadata": {},
     "output_type": "execute_result"
    }
   ],
   "source": [
    "list1 = ['Sunday', 'Monday', 'Tuesday', 'Wednesday','Thursday', 'Friday', 'Saturday']\n",
    "list(map(lambda x : x.lower(), list1))"
   ]
  },
  {
   "cell_type": "code",
   "execution_count": null,
   "metadata": {
    "id": "entitled-withdrawal",
    "outputId": "8e535e88-c5b0-4257-a43c-bcba9a7d0f5a"
   },
   "outputs": [
    {
     "data": {
      "text/plain": [
       "[4, 6, 8, 10, 14]"
      ]
     },
     "execution_count": 11,
     "metadata": {},
     "output_type": "execute_result"
    }
   ],
   "source": [
    "numbers = [2,3,4,5,7]\n",
    "list(map(lambda x : x * 2, numbers))"
   ]
  },
  {
   "cell_type": "code",
   "execution_count": null,
   "metadata": {
    "id": "handy-brook",
    "outputId": "ea468afe-730f-46ac-aa24-3ca426c83a7f"
   },
   "outputs": [
    {
     "data": {
      "text/plain": [
       "[True, False, True, False, False]"
      ]
     },
     "execution_count": 13,
     "metadata": {},
     "output_type": "execute_result"
    }
   ],
   "source": [
    "numbers = [2,3,4,5,7]\n",
    "list(map(lambda x : x % 2 == 0, numbers))"
   ]
  },
  {
   "cell_type": "code",
   "execution_count": null,
   "metadata": {
    "id": "diagnostic-fifth",
    "outputId": "c6a14aef-f0ff-4a00-8628-d7feac3f5498"
   },
   "outputs": [
    {
     "data": {
      "text/plain": [
       "[2, 4]"
      ]
     },
     "execution_count": 15,
     "metadata": {},
     "output_type": "execute_result"
    }
   ],
   "source": [
    "numbers = [2,3,4,5,7]\n",
    "list(filter(lambda x : x % 2 == 0, numbers))"
   ]
  },
  {
   "cell_type": "code",
   "execution_count": null,
   "metadata": {
    "id": "collectible-delaware",
    "outputId": "625fea5e-e9c6-477f-9cac-9f79f30c46a9"
   },
   "outputs": [
    {
     "data": {
      "text/plain": [
       "[4, 9, 16, 25, 49]"
      ]
     },
     "execution_count": 17,
     "metadata": {},
     "output_type": "execute_result"
    }
   ],
   "source": [
    "numbers = [2,3,4,5,7]\n",
    "list(map(lambda x : x ** 2, numbers))"
   ]
  },
  {
   "cell_type": "code",
   "execution_count": null,
   "metadata": {
    "id": "through-designation",
    "outputId": "28f4a843-12ea-49a4-c786-3a3ba653d858"
   },
   "outputs": [
    {
     "data": {
      "text/plain": [
       "[2, 3, 4, 5, 7]"
      ]
     },
     "execution_count": 19,
     "metadata": {},
     "output_type": "execute_result"
    }
   ],
   "source": [
    "numbers = [2,3,4,5,7]\n",
    "list(filter(lambda x : x ** 2, numbers))"
   ]
  },
  {
   "cell_type": "code",
   "execution_count": null,
   "metadata": {
    "id": "normal-velvet",
    "outputId": "48893842-8a16-4c98-d6ee-a242f6956f7b"
   },
   "outputs": [
    {
     "data": {
      "text/plain": [
       "['Sunday', 'Monday', 'Tuesday', 'Thursday', 'Saturday']"
      ]
     },
     "execution_count": 21,
     "metadata": {},
     "output_type": "execute_result"
    }
   ],
   "source": [
    "list1 = ['Sunday', 'Monday', 'Tuesday', 'wednesday','Thursday', 'friday', 'Saturday']\n",
    "list(filter(lambda x : x.istitle(), list1))"
   ]
  },
  {
   "cell_type": "code",
   "execution_count": null,
   "metadata": {
    "id": "alike-college",
    "outputId": "17a3d954-14a0-4cf2-b3ac-ddffc6eb72b9"
   },
   "outputs": [
    {
     "data": {
      "text/plain": [
       "['Sunday', 'Monday', 'Thursday', 'Saturday']"
      ]
     },
     "execution_count": 24,
     "metadata": {},
     "output_type": "execute_result"
    }
   ],
   "source": [
    "list1 = ['Sunday', 'Monday', 'tuesday', 'wednesday','Thursday', 'friday', 'Saturday']\n",
    "list(filter(lambda x : x.istitle(), list1))"
   ]
  },
  {
   "cell_type": "code",
   "execution_count": null,
   "metadata": {
    "id": "blocked-accordance",
    "outputId": "5343ee6c-1e88-4c02-b784-f8f1c9a41015"
   },
   "outputs": [
    {
     "data": {
      "text/plain": [
       "['tuesday', 'wednesday', 'friday']"
      ]
     },
     "execution_count": 26,
     "metadata": {},
     "output_type": "execute_result"
    }
   ],
   "source": [
    "list1 = ['Sunday', 'Monday', 'tuesday', 'wednesday','Thursday', 'friday', 'Saturday']\n",
    "list(filter(lambda x : x.islower(), list1))"
   ]
  },
  {
   "cell_type": "code",
   "execution_count": null,
   "metadata": {
    "id": "concrete-caribbean",
    "outputId": "99a9d012-5f4e-4c76-94a4-cf1ec1c051ba"
   },
   "outputs": [
    {
     "data": {
      "text/plain": [
       "['SUNDAY', 'MONDAY', 'TUESDAY', 'WEDNESDAY', 'THURSDAY', 'FRIDAY', 'SATURDAY']"
      ]
     },
     "execution_count": 28,
     "metadata": {},
     "output_type": "execute_result"
    }
   ],
   "source": [
    "list1 = ['Sunday', 'Monday', 'tuesday', 'wednesday','Thursday', 'friday', 'Saturday']\n",
    "list(map(lambda x : x.upper(), list1))"
   ]
  },
  {
   "cell_type": "code",
   "execution_count": null,
   "metadata": {
    "id": "surrounded-percentage",
    "outputId": "96be5a2e-dda5-42e1-a7de-58239866dbfe"
   },
   "outputs": [
    {
     "data": {
      "text/plain": [
       "[2, 4, 6]"
      ]
     },
     "execution_count": 30,
     "metadata": {},
     "output_type": "execute_result"
    }
   ],
   "source": [
    "number = [2,3,4,5,6]\n",
    "result = lambda n : [i for i in n if i%2 == 0]\n",
    "result(number)"
   ]
  },
  {
   "cell_type": "code",
   "execution_count": null,
   "metadata": {
    "id": "dated-samuel",
    "outputId": "c14cdaee-babf-45ac-c476-9aa4140eb609"
   },
   "outputs": [
    {
     "data": {
      "text/plain": [
       "[2, 4, 6]"
      ]
     },
     "execution_count": 34,
     "metadata": {},
     "output_type": "execute_result"
    }
   ],
   "source": [
    "number = [2,3,4,5,6]\n",
    "result = lambda n : [i for i in n if i%2 == 0]  \n",
    "result(number)"
   ]
  },
  {
   "cell_type": "code",
   "execution_count": null,
   "metadata": {
    "id": "liberal-nancy",
    "outputId": "bfc8e5d5-ca80-412b-ba35-762df725fe08"
   },
   "outputs": [
    {
     "data": {
      "text/plain": [
       "[2, 4, 6]"
      ]
     },
     "execution_count": 37,
     "metadata": {},
     "output_type": "execute_result"
    }
   ],
   "source": [
    "number = [2,3,4,5,6]\n",
    "even = [i for i in number if i%2 == 0] \n",
    "even"
   ]
  },
  {
   "cell_type": "code",
   "execution_count": null,
   "metadata": {
    "id": "sublime-enforcement"
   },
   "outputs": [],
   "source": [
    "lambda arguments : expression\n",
    "\n",
    "lambda x,y : x + y"
   ]
  },
  {
   "cell_type": "code",
   "execution_count": null,
   "metadata": {
    "id": "rising-chicken",
    "outputId": "2638a377-f4c3-4a16-81cf-1509cb3aa1ea"
   },
   "outputs": [
    {
     "data": {
      "text/plain": [
       "[2, 4, 6]"
      ]
     },
     "execution_count": 35,
     "metadata": {},
     "output_type": "execute_result"
    }
   ],
   "source": [
    "(lambda n : [i for i in n if i%2 == 0])(number)"
   ]
  },
  {
   "cell_type": "code",
   "execution_count": null,
   "metadata": {
    "id": "suited-klein",
    "outputId": "47303fde-1abd-4c21-d863-ba1186c0df3f"
   },
   "outputs": [
    {
     "data": {
      "text/plain": [
       "[2, 4, 6]"
      ]
     },
     "execution_count": 33,
     "metadata": {},
     "output_type": "execute_result"
    }
   ],
   "source": [
    "number = [2,3,4,5,6]\n",
    "list(filter(lambda x : x % 2 == 0, number))"
   ]
  },
  {
   "cell_type": "markdown",
   "metadata": {
    "id": "computational-enclosure"
   },
   "source": [
    "# 4. all"
   ]
  },
  {
   "cell_type": "raw",
   "metadata": {
    "id": "restricted-bradford"
   },
   "source": [
    "all(iterable)\n",
    "True >> If all elements are True(except 0 or False) and \n",
    "True >> If iterable is empty\n",
    "False >> if any element is False(0 or False)"
   ]
  },
  {
   "cell_type": "code",
   "execution_count": null,
   "metadata": {
    "id": "waiting-words",
    "outputId": "fc14c50a-a16a-45b7-bb94-f7545910b240"
   },
   "outputs": [
    {
     "data": {
      "text/plain": [
       "True"
      ]
     },
     "execution_count": 39,
     "metadata": {},
     "output_type": "execute_result"
    }
   ],
   "source": [
    "list1 = [2,3,4,5,6]\n",
    "all(list1)"
   ]
  },
  {
   "cell_type": "code",
   "execution_count": null,
   "metadata": {
    "id": "collective-replica",
    "outputId": "0150cb6b-4607-4e0e-fe47-6eec676ca887"
   },
   "outputs": [
    {
     "data": {
      "text/plain": [
       "True"
      ]
     },
     "execution_count": 41,
     "metadata": {},
     "output_type": "execute_result"
    }
   ],
   "source": [
    "list1 = [2,3,4,5,'python']\n",
    "all(list1)"
   ]
  },
  {
   "cell_type": "code",
   "execution_count": null,
   "metadata": {
    "id": "preceding-given",
    "outputId": "3a90da36-3001-4236-8c70-8535ea2a6094"
   },
   "outputs": [
    {
     "data": {
      "text/plain": [
       "False"
      ]
     },
     "execution_count": 43,
     "metadata": {},
     "output_type": "execute_result"
    }
   ],
   "source": [
    "list1 = [2,0,4,5,'python']\n",
    "all(list1)"
   ]
  },
  {
   "cell_type": "code",
   "execution_count": null,
   "metadata": {
    "id": "empirical-prince",
    "outputId": "c86a2896-b492-4f12-90cf-f001bed366c0"
   },
   "outputs": [
    {
     "data": {
      "text/plain": [
       "True"
      ]
     },
     "execution_count": 45,
     "metadata": {},
     "output_type": "execute_result"
    }
   ],
   "source": [
    "list1 = [True, True ]\n",
    "all(list1)"
   ]
  },
  {
   "cell_type": "code",
   "execution_count": null,
   "metadata": {
    "id": "promotional-scheduling",
    "outputId": "98ab4e93-56d6-40b0-9d1a-c0b884c6eec2"
   },
   "outputs": [
    {
     "data": {
      "text/plain": [
       "False"
      ]
     },
     "execution_count": 47,
     "metadata": {},
     "output_type": "execute_result"
    }
   ],
   "source": [
    "list1 = [True, True , False]\n",
    "all(list1)"
   ]
  },
  {
   "cell_type": "code",
   "execution_count": null,
   "metadata": {
    "id": "addressed-apartment",
    "outputId": "435ed53c-0b43-489f-ed0b-8a9258554cbc"
   },
   "outputs": [
    {
     "data": {
      "text/plain": [
       "False"
      ]
     },
     "execution_count": 49,
     "metadata": {},
     "output_type": "execute_result"
    }
   ],
   "source": [
    "list1 = [True, True , 0]\n",
    "all(list1)"
   ]
  },
  {
   "cell_type": "code",
   "execution_count": null,
   "metadata": {
    "id": "linear-parts",
    "outputId": "c2796a79-59d8-4fdb-a81a-c46770dcf4f1"
   },
   "outputs": [
    {
     "data": {
      "text/plain": [
       "False"
      ]
     },
     "execution_count": 53,
     "metadata": {},
     "output_type": "execute_result"
    }
   ],
   "source": [
    "list1 = [True, True , '']\n",
    "all(list1)"
   ]
  },
  {
   "cell_type": "code",
   "execution_count": null,
   "metadata": {
    "id": "stylish-danger",
    "outputId": "a0da54ef-612f-4e12-f946-7533446166d2"
   },
   "outputs": [
    {
     "data": {
      "text/plain": [
       "True"
      ]
     },
     "execution_count": 55,
     "metadata": {},
     "output_type": "execute_result"
    }
   ],
   "source": [
    "d1 = {'a': 10,'b':20} # check keys only\n",
    "all(d1)"
   ]
  },
  {
   "cell_type": "code",
   "execution_count": null,
   "metadata": {
    "id": "finished-windows",
    "outputId": "e2315f2c-5778-4dbe-cebb-3a5f696d07cc"
   },
   "outputs": [
    {
     "data": {
      "text/plain": [
       "True"
      ]
     },
     "execution_count": 57,
     "metadata": {},
     "output_type": "execute_result"
    }
   ],
   "source": [
    "d1 = {'a': 10, 1:20} # check keys only\n",
    "all(d1)"
   ]
  },
  {
   "cell_type": "code",
   "execution_count": null,
   "metadata": {
    "id": "stylish-council",
    "outputId": "3035787b-f8c3-41a5-b40d-af2b8eec7381"
   },
   "outputs": [
    {
     "data": {
      "text/plain": [
       "False"
      ]
     },
     "execution_count": 58,
     "metadata": {},
     "output_type": "execute_result"
    }
   ],
   "source": [
    "d1 = {'a': 10, 0 : 20} # check keys only\n",
    "all(d1)"
   ]
  },
  {
   "cell_type": "code",
   "execution_count": null,
   "metadata": {
    "id": "partial-requirement",
    "outputId": "0b96d51c-b0fe-4612-9f99-c66d5caf3dca"
   },
   "outputs": [
    {
     "data": {
      "text/plain": [
       "True"
      ]
     },
     "execution_count": 60,
     "metadata": {},
     "output_type": "execute_result"
    }
   ],
   "source": [
    "string = \"\"\n",
    "all(string)"
   ]
  },
  {
   "cell_type": "code",
   "execution_count": null,
   "metadata": {
    "id": "piano-update",
    "outputId": "428dd8b4-9993-494c-ac89-ae2571be207a"
   },
   "outputs": [
    {
     "data": {
      "text/plain": [
       "True"
      ]
     },
     "execution_count": 62,
     "metadata": {},
     "output_type": "execute_result"
    }
   ],
   "source": [
    "list1 = []\n",
    "all(list1)"
   ]
  },
  {
   "cell_type": "code",
   "execution_count": null,
   "metadata": {
    "id": "premier-soccer",
    "outputId": "1d6dfb18-d68f-4a7f-df82-1664af262954"
   },
   "outputs": [
    {
     "data": {
      "text/plain": [
       "True"
      ]
     },
     "execution_count": 64,
     "metadata": {},
     "output_type": "execute_result"
    }
   ],
   "source": [
    "d1 = {}\n",
    "all(d1)"
   ]
  },
  {
   "cell_type": "code",
   "execution_count": null,
   "metadata": {
    "id": "broadband-lighter",
    "outputId": "44ecdb77-fa2c-49c2-9032-bf9e9ec0aa2d"
   },
   "outputs": [
    {
     "data": {
      "text/plain": [
       "True"
      ]
     },
     "execution_count": 66,
     "metadata": {},
     "output_type": "execute_result"
    }
   ],
   "source": [
    "string = 'python'\n",
    "all(string)"
   ]
  },
  {
   "cell_type": "code",
   "execution_count": null,
   "metadata": {
    "id": "traditional-friend",
    "outputId": "cc71a04e-8e8a-45c4-c7db-11031550a1b7"
   },
   "outputs": [
    {
     "data": {
      "text/plain": [
       "True"
      ]
     },
     "execution_count": 68,
     "metadata": {},
     "output_type": "execute_result"
    }
   ],
   "source": [
    "string = ''\n",
    "all(string)"
   ]
  },
  {
   "cell_type": "code",
   "execution_count": null,
   "metadata": {
    "id": "banned-apartment",
    "outputId": "5afbc0af-6d07-4ff8-ed11-41cce375171d"
   },
   "outputs": [
    {
     "data": {
      "text/plain": [
       "True"
      ]
     },
     "execution_count": 70,
     "metadata": {},
     "output_type": "execute_result"
    }
   ],
   "source": [
    "string = '123'\n",
    "all(string)"
   ]
  },
  {
   "cell_type": "code",
   "execution_count": null,
   "metadata": {
    "id": "illegal-republic",
    "outputId": "bfc4a332-e9e9-442e-d8fa-30cf98b7916e"
   },
   "outputs": [
    {
     "data": {
      "text/plain": [
       "True"
      ]
     },
     "execution_count": 71,
     "metadata": {},
     "output_type": "execute_result"
    }
   ],
   "source": [
    "string = '00'\n",
    "all(string)"
   ]
  },
  {
   "cell_type": "markdown",
   "metadata": {
    "id": "quality-brass"
   },
   "source": [
    "# 5. any()"
   ]
  },
  {
   "cell_type": "raw",
   "metadata": {
    "id": "future-exclusive"
   },
   "source": [
    "any(iterable)\n",
    "True >> If at least one element is True\n",
    "False >> If all elements are False, or iterable is empty"
   ]
  },
  {
   "cell_type": "code",
   "execution_count": null,
   "metadata": {
    "id": "early-broadcast",
    "outputId": "1b194074-5389-45b5-ea93-afafcea6e044"
   },
   "outputs": [
    {
     "data": {
      "text/plain": [
       "True"
      ]
     },
     "execution_count": 73,
     "metadata": {},
     "output_type": "execute_result"
    }
   ],
   "source": [
    "l1 = [2,3,4,5,7]\n",
    "any(l1)"
   ]
  },
  {
   "cell_type": "code",
   "execution_count": null,
   "metadata": {
    "id": "canadian-professional",
    "outputId": "1a1a1508-27f8-4dfc-a553-95b63033c1f5"
   },
   "outputs": [
    {
     "data": {
      "text/plain": [
       "True"
      ]
     },
     "execution_count": 75,
     "metadata": {},
     "output_type": "execute_result"
    }
   ],
   "source": [
    "l1 = [2,3,4,5,0]\n",
    "any(l1)"
   ]
  },
  {
   "cell_type": "code",
   "execution_count": null,
   "metadata": {
    "id": "announced-clearing",
    "outputId": "f01f9398-f2e3-46e5-9190-212e9ce18ea7"
   },
   "outputs": [
    {
     "data": {
      "text/plain": [
       "False"
      ]
     },
     "execution_count": 77,
     "metadata": {},
     "output_type": "execute_result"
    }
   ],
   "source": [
    "l1 = [0,0,0,0]\n",
    "any(l1)"
   ]
  },
  {
   "cell_type": "code",
   "execution_count": null,
   "metadata": {
    "id": "mathematical-cathedral",
    "outputId": "bd5b7590-5a1f-4655-d159-2710dbb91fcd"
   },
   "outputs": [
    {
     "data": {
      "text/plain": [
       "False"
      ]
     },
     "execution_count": 79,
     "metadata": {},
     "output_type": "execute_result"
    }
   ],
   "source": [
    "l1 = []\n",
    "any(l1)"
   ]
  },
  {
   "cell_type": "code",
   "execution_count": null,
   "metadata": {
    "id": "identical-halloween",
    "outputId": "36292cde-00fb-4884-e80d-3c03e39e1c01"
   },
   "outputs": [
    {
     "data": {
      "text/plain": [
       "True"
      ]
     },
     "execution_count": 80,
     "metadata": {},
     "output_type": "execute_result"
    }
   ],
   "source": [
    "d1 = {'a':100, 'b': 200}\n",
    "any(d1)"
   ]
  },
  {
   "cell_type": "code",
   "execution_count": null,
   "metadata": {
    "id": "detected-quality",
    "outputId": "e1aa71e8-6699-46f1-f885-c6c3b5184c01"
   },
   "outputs": [
    {
     "data": {
      "text/plain": [
       "True"
      ]
     },
     "execution_count": 82,
     "metadata": {},
     "output_type": "execute_result"
    }
   ],
   "source": [
    "d1 = {'a':100, 0: 200}\n",
    "any(d1)"
   ]
  },
  {
   "cell_type": "code",
   "execution_count": null,
   "metadata": {
    "id": "indoor-relation",
    "outputId": "5a0025af-8134-4762-c936-701af10b2139"
   },
   "outputs": [
    {
     "data": {
      "text/plain": [
       "False"
      ]
     },
     "execution_count": 84,
     "metadata": {},
     "output_type": "execute_result"
    }
   ],
   "source": [
    "d1 = {'a':100, 0: 200}\n",
    "all(d1)"
   ]
  },
  {
   "cell_type": "code",
   "execution_count": null,
   "metadata": {
    "id": "tropical-decrease",
    "outputId": "f95222a5-52ab-44a6-d52a-c79db4c27eb4"
   },
   "outputs": [
    {
     "data": {
      "text/plain": [
       "False"
      ]
     },
     "execution_count": 86,
     "metadata": {},
     "output_type": "execute_result"
    }
   ],
   "source": [
    "t1 = (False,False, 0)\n",
    "any(t1)"
   ]
  },
  {
   "cell_type": "code",
   "execution_count": null,
   "metadata": {
    "id": "sapphire-endorsement",
    "outputId": "47ee285a-7b1e-4c08-973b-7ac90a734acd"
   },
   "outputs": [
    {
     "data": {
      "text/plain": [
       "True"
      ]
     },
     "execution_count": 88,
     "metadata": {},
     "output_type": "execute_result"
    }
   ],
   "source": [
    "t1 = (False,1, 0)\n",
    "any(t1)"
   ]
  },
  {
   "cell_type": "code",
   "execution_count": null,
   "metadata": {
    "id": "round-holiday",
    "outputId": "bcbf8755-681a-468e-e220-2be81df91ec5"
   },
   "outputs": [
    {
     "data": {
      "text/plain": [
       "True"
      ]
     },
     "execution_count": 90,
     "metadata": {},
     "output_type": "execute_result"
    }
   ],
   "source": [
    "t1 = {False,1, 0}\n",
    "any(t1)"
   ]
  },
  {
   "cell_type": "markdown",
   "metadata": {
    "id": "individual-brook"
   },
   "source": [
    "# 6. chr()"
   ]
  },
  {
   "cell_type": "raw",
   "metadata": {
    "id": "written-better"
   },
   "source": [
    "ASCII CODE >> Character"
   ]
  },
  {
   "cell_type": "code",
   "execution_count": null,
   "metadata": {
    "id": "demographic-divorce",
    "outputId": "0e37c817-e0b6-42e9-93da-0e76b9f62848"
   },
   "outputs": [
    {
     "data": {
      "text/plain": [
       "'d'"
      ]
     },
     "execution_count": 91,
     "metadata": {},
     "output_type": "execute_result"
    }
   ],
   "source": [
    "chr(100)"
   ]
  },
  {
   "cell_type": "code",
   "execution_count": null,
   "metadata": {
    "id": "neutral-organizer",
    "outputId": "54f0db6a-b4e2-43fd-a997-3cfaa1e7c2af"
   },
   "outputs": [
    {
     "data": {
      "text/plain": [
       "'A'"
      ]
     },
     "execution_count": 92,
     "metadata": {},
     "output_type": "execute_result"
    }
   ],
   "source": [
    "chr(65)"
   ]
  },
  {
   "cell_type": "code",
   "execution_count": null,
   "metadata": {
    "id": "perfect-court",
    "outputId": "0b678569-ce48-4409-f320-99ef3d2db078"
   },
   "outputs": [
    {
     "data": {
      "text/plain": [
       "'\\x17'"
      ]
     },
     "execution_count": 94,
     "metadata": {},
     "output_type": "execute_result"
    }
   ],
   "source": [
    "chr(23)"
   ]
  },
  {
   "cell_type": "code",
   "execution_count": null,
   "metadata": {
    "id": "marine-knitting",
    "outputId": "56224166-f5f5-41bd-825f-f5bb2bf06e36"
   },
   "outputs": [
    {
     "data": {
      "text/plain": [
       "'7'"
      ]
     },
     "execution_count": 96,
     "metadata": {},
     "output_type": "execute_result"
    }
   ],
   "source": [
    "chr(55)"
   ]
  },
  {
   "cell_type": "code",
   "execution_count": null,
   "metadata": {
    "id": "opening-saturday"
   },
   "outputs": [],
   "source": [
    "65 - 90 >> A-Z\n",
    "97 - 122 >> a-z\n",
    "48 - 57 >> 0-9"
   ]
  },
  {
   "cell_type": "code",
   "execution_count": null,
   "metadata": {
    "id": "colored-tolerance",
    "outputId": "b2e07564-d59d-45ed-8e69-0a053ed51999"
   },
   "outputs": [
    {
     "data": {
      "text/plain": [
       "':'"
      ]
     },
     "execution_count": 98,
     "metadata": {},
     "output_type": "execute_result"
    }
   ],
   "source": [
    "chr(58)"
   ]
  },
  {
   "cell_type": "code",
   "execution_count": null,
   "metadata": {
    "id": "enabling-participation",
    "outputId": "d268fe8a-a41b-4a5b-e3f4-f0e2c1376dd2"
   },
   "outputs": [
    {
     "data": {
      "text/plain": [
       "'0'"
      ]
     },
     "execution_count": 101,
     "metadata": {},
     "output_type": "execute_result"
    }
   ],
   "source": [
    "chr(48)"
   ]
  },
  {
   "cell_type": "markdown",
   "metadata": {
    "id": "viral-gospel"
   },
   "source": [
    "# 7. ord()"
   ]
  },
  {
   "cell_type": "code",
   "execution_count": null,
   "metadata": {
    "id": "ready-racing",
    "outputId": "dd7fc7a6-aae0-4929-a18a-90d3eae4d9c3"
   },
   "outputs": [
    {
     "data": {
      "text/plain": [
       "65"
      ]
     },
     "execution_count": 103,
     "metadata": {},
     "output_type": "execute_result"
    }
   ],
   "source": [
    "ord('A')"
   ]
  },
  {
   "cell_type": "code",
   "execution_count": null,
   "metadata": {
    "id": "sophisticated-trace",
    "outputId": "4dbddeb6-afb1-4d30-ee3a-72889084cfca"
   },
   "outputs": [
    {
     "data": {
      "text/plain": [
       "122"
      ]
     },
     "execution_count": 105,
     "metadata": {},
     "output_type": "execute_result"
    }
   ],
   "source": [
    "ord('z')"
   ]
  },
  {
   "cell_type": "code",
   "execution_count": null,
   "metadata": {
    "id": "behavioral-detector",
    "outputId": "3c7472b8-bcea-48cd-b6e2-76741286ec55"
   },
   "outputs": [
    {
     "data": {
      "text/plain": [
       "58"
      ]
     },
     "execution_count": 107,
     "metadata": {},
     "output_type": "execute_result"
    }
   ],
   "source": [
    "ord(':')"
   ]
  },
  {
   "cell_type": "markdown",
   "metadata": {
    "id": "solved-texas"
   },
   "source": [
    "# 8. bin()"
   ]
  },
  {
   "cell_type": "code",
   "execution_count": null,
   "metadata": {
    "id": "patent-weekend",
    "outputId": "b135068a-62fd-46bf-ca34-5418524de07e"
   },
   "outputs": [
    {
     "data": {
      "text/plain": [
       "'0b1010'"
      ]
     },
     "execution_count": 109,
     "metadata": {},
     "output_type": "execute_result"
    }
   ],
   "source": [
    "bin(10)"
   ]
  },
  {
   "cell_type": "code",
   "execution_count": null,
   "metadata": {
    "id": "prospective-confusion",
    "outputId": "b7b3a6a0-23fe-49f8-9170-40a0ab1e9e1b"
   },
   "outputs": [
    {
     "data": {
      "text/plain": [
       "'0b1011'"
      ]
     },
     "execution_count": 111,
     "metadata": {},
     "output_type": "execute_result"
    }
   ],
   "source": [
    "bin(11)"
   ]
  },
  {
   "cell_type": "code",
   "execution_count": null,
   "metadata": {
    "id": "occupied-raise",
    "outputId": "2ae513db-7084-4e49-9c1c-b8072890d8c2"
   },
   "outputs": [
    {
     "data": {
      "text/plain": [
       "'1100'"
      ]
     },
     "execution_count": 114,
     "metadata": {},
     "output_type": "execute_result"
    }
   ],
   "source": [
    "x = bin(12)\n",
    "x = x.replace('0b','')\n",
    "x"
   ]
  },
  {
   "cell_type": "markdown",
   "metadata": {
    "id": "entire-finger"
   },
   "source": [
    "# 9. bool"
   ]
  },
  {
   "cell_type": "code",
   "execution_count": null,
   "metadata": {
    "id": "worth-white",
    "outputId": "7f662729-90c9-44b3-ce18-f5d8c132202c"
   },
   "outputs": [
    {
     "data": {
      "text/plain": [
       "False"
      ]
     },
     "execution_count": 115,
     "metadata": {},
     "output_type": "execute_result"
    }
   ],
   "source": [
    "bool([])"
   ]
  },
  {
   "cell_type": "code",
   "execution_count": null,
   "metadata": {
    "id": "cordless-colombia",
    "outputId": "08838a4b-4c3e-42ac-9651-86b49e6f24e6"
   },
   "outputs": [
    {
     "name": "stdout",
     "output_type": "stream",
     "text": [
      "List is empty\n"
     ]
    }
   ],
   "source": [
    "l1 = []\n",
    "if l1:\n",
    "    print('List is not an empty')\n",
    "else:\n",
    "    print('List is empty')"
   ]
  },
  {
   "cell_type": "code",
   "execution_count": null,
   "metadata": {
    "id": "alpha-rendering",
    "outputId": "cfefce2c-6cd1-44e3-c21d-79fdefcfcf7c"
   },
   "outputs": [
    {
     "name": "stdout",
     "output_type": "stream",
     "text": [
      "List is not an empty\n"
     ]
    }
   ],
   "source": [
    "l1 = [2]\n",
    "if l1:\n",
    "    print('List is not an empty')\n",
    "else:\n",
    "    print('List is empty')"
   ]
  },
  {
   "cell_type": "code",
   "execution_count": null,
   "metadata": {
    "id": "vocal-agenda",
    "outputId": "28d2a5dc-5642-492e-cc62-9bf5d8de5055"
   },
   "outputs": [
    {
     "data": {
      "text/plain": [
       "True"
      ]
     },
     "execution_count": 122,
     "metadata": {},
     "output_type": "execute_result"
    }
   ],
   "source": [
    "bool([2])"
   ]
  },
  {
   "cell_type": "code",
   "execution_count": null,
   "metadata": {
    "id": "internal-contribution",
    "outputId": "d47c5997-44f8-4b34-e6a0-fb6a8c4a68fe"
   },
   "outputs": [
    {
     "data": {
      "text/plain": [
       "True"
      ]
     },
     "execution_count": 124,
     "metadata": {},
     "output_type": "execute_result"
    }
   ],
   "source": [
    "bool(4 == 4)"
   ]
  },
  {
   "cell_type": "code",
   "execution_count": null,
   "metadata": {
    "id": "lucky-indonesian",
    "outputId": "481507bd-1d5e-4bbc-9e09-eeeac82605fc"
   },
   "outputs": [
    {
     "data": {
      "text/plain": [
       "False"
      ]
     },
     "execution_count": 126,
     "metadata": {},
     "output_type": "execute_result"
    }
   ],
   "source": [
    "bool({})"
   ]
  },
  {
   "cell_type": "markdown",
   "metadata": {
    "id": "classical-establishment"
   },
   "source": [
    "# 10. abs()"
   ]
  },
  {
   "cell_type": "code",
   "execution_count": null,
   "metadata": {
    "id": "convertible-cannon"
   },
   "outputs": [],
   "source": [
    "Return Absolute Values(Positive Values)\n",
    "\n",
    "If number is complex >> abs return its magnitude"
   ]
  },
  {
   "cell_type": "code",
   "execution_count": null,
   "metadata": {
    "id": "sophisticated-circus",
    "outputId": "51a0be9e-5b04-45d2-c7f2-be847b6a72c3"
   },
   "outputs": [
    {
     "data": {
      "text/plain": [
       "10"
      ]
     },
     "execution_count": 128,
     "metadata": {},
     "output_type": "execute_result"
    }
   ],
   "source": [
    "abs(10)"
   ]
  },
  {
   "cell_type": "code",
   "execution_count": null,
   "metadata": {
    "id": "included-occasion",
    "outputId": "c22e647b-a451-4adf-dd6b-67bd0b7b36da"
   },
   "outputs": [
    {
     "data": {
      "text/plain": [
       "10"
      ]
     },
     "execution_count": 130,
     "metadata": {},
     "output_type": "execute_result"
    }
   ],
   "source": [
    "abs(-10)"
   ]
  },
  {
   "cell_type": "code",
   "execution_count": null,
   "metadata": {
    "id": "regulation-slovakia",
    "outputId": "6efe93d1-593c-48f7-b5ef-ff6fddc0c7a5"
   },
   "outputs": [
    {
     "data": {
      "text/plain": [
       "5"
      ]
     },
     "execution_count": 132,
     "metadata": {},
     "output_type": "execute_result"
    }
   ],
   "source": [
    "abs(-5)"
   ]
  },
  {
   "cell_type": "code",
   "execution_count": null,
   "metadata": {
    "id": "hazardous-congo",
    "outputId": "c7247fdd-1c84-4b07-bff7-cf34fc452d95"
   },
   "outputs": [
    {
     "data": {
      "text/plain": [
       "5.0"
      ]
     },
     "execution_count": 133,
     "metadata": {},
     "output_type": "execute_result"
    }
   ],
   "source": [
    "abs(3+4j)"
   ]
  },
  {
   "cell_type": "code",
   "execution_count": null,
   "metadata": {
    "id": "super-wellington",
    "outputId": "628011fb-f48d-41fa-ba70-d8a9134d6653"
   },
   "outputs": [
    {
     "data": {
      "text/plain": [
       "10.0"
      ]
     },
     "execution_count": 135,
     "metadata": {},
     "output_type": "execute_result"
    }
   ],
   "source": [
    "abs(6+8j)"
   ]
  },
  {
   "cell_type": "markdown",
   "metadata": {
    "id": "impossible-department"
   },
   "source": [
    "# 11. dir()"
   ]
  },
  {
   "cell_type": "raw",
   "metadata": {
    "id": "electoral-disorder"
   },
   "source": [
    "List of valid attributes(variables,functions,classnames) of an object"
   ]
  },
  {
   "cell_type": "code",
   "execution_count": null,
   "metadata": {
    "id": "coordinated-forty",
    "outputId": "0a85aa97-30d2-42bd-8bfb-50ad610c7ec6"
   },
   "outputs": [
    {
     "name": "stdout",
     "output_type": "stream",
     "text": [
      "['A', 'ASCII', 'DEBUG', 'DOTALL', 'I', 'IGNORECASE', 'L', 'LOCALE', 'M', 'MULTILINE', 'Match', 'Pattern', 'RegexFlag', 'S', 'Scanner', 'T', 'TEMPLATE', 'U', 'UNICODE', 'VERBOSE', 'X', '_MAXCACHE', '__all__', '__builtins__', '__cached__', '__doc__', '__file__', '__loader__', '__name__', '__package__', '__spec__', '__version__', '_cache', '_compile', '_compile_repl', '_expand', '_locale', '_pickle', '_special_chars_map', '_subx', 'compile', 'copyreg', 'enum', 'error', 'escape', 'findall', 'finditer', 'fullmatch', 'functools', 'match', 'purge', 'search', 'split', 'sre_compile', 'sre_parse', 'sub', 'subn', 'template']\n"
     ]
    }
   ],
   "source": [
    "import os\n",
    "import re\n",
    "print(dir(os))\n",
    "print(dir(re))\n"
   ]
  },
  {
   "cell_type": "code",
   "execution_count": null,
   "metadata": {
    "id": "aging-luther"
   },
   "outputs": [],
   "source": [
    "l1 = [3,4,5,6]\n",
    "# print(dir(l1))\n",
    "l1.clear()"
   ]
  },
  {
   "cell_type": "code",
   "execution_count": null,
   "metadata": {
    "id": "purple-gilbert",
    "outputId": "0db24bd8-f103-41b3-b669-373ef352a73a"
   },
   "outputs": [
    {
     "data": {
      "text/plain": [
       "dict_values([100])"
      ]
     },
     "execution_count": 145,
     "metadata": {},
     "output_type": "execute_result"
    }
   ],
   "source": [
    "d1 = {'a':100}\n",
    "d1.values()"
   ]
  },
  {
   "cell_type": "markdown",
   "metadata": {
    "id": "homeless-think"
   },
   "source": [
    "# 12. enumerate()"
   ]
  },
  {
   "cell_type": "code",
   "execution_count": null,
   "metadata": {
    "id": "numerical-platinum"
   },
   "outputs": [],
   "source": [
    "enumerate(iterable,start = 0)"
   ]
  },
  {
   "cell_type": "code",
   "execution_count": null,
   "metadata": {
    "id": "durable-armstrong",
    "outputId": "e16e2cbb-95d7-4010-8953-0781026d0595"
   },
   "outputs": [
    {
     "data": {
      "text/plain": [
       "[(0, 'p'), (1, 'y'), (2, 't'), (3, 'h'), (4, 'o'), (5, 'n')]"
      ]
     },
     "execution_count": 148,
     "metadata": {},
     "output_type": "execute_result"
    }
   ],
   "source": [
    "s = 'python'\n",
    "list(enumerate(s))"
   ]
  },
  {
   "cell_type": "code",
   "execution_count": null,
   "metadata": {
    "id": "quarterly-benchmark",
    "outputId": "23c8abf7-b0f8-45d1-eead-da5c298c5ef7"
   },
   "outputs": [
    {
     "name": "stdout",
     "output_type": "stream",
     "text": [
      "i == 0, val == p\n",
      "i == 1, val == y\n",
      "i == 2, val == t\n",
      "i == 3, val == h\n",
      "i == 4, val == o\n",
      "i == 5, val == n\n"
     ]
    }
   ],
   "source": [
    "for i,val in enumerate(s):\n",
    "    print(f'i == {i}, val == {val}')"
   ]
  },
  {
   "cell_type": "code",
   "execution_count": null,
   "metadata": {
    "id": "imperial-physiology",
    "outputId": "c1420fb2-4dbf-420e-df49-ff844abe240c"
   },
   "outputs": [
    {
     "name": "stdout",
     "output_type": "stream",
     "text": [
      "i == 100, val == p\n",
      "i == 101, val == y\n",
      "i == 102, val == t\n",
      "i == 103, val == h\n",
      "i == 104, val == o\n",
      "i == 105, val == n\n"
     ]
    }
   ],
   "source": [
    "for i,val in enumerate(s,start = 100):\n",
    "    print(f'i == {i}, val == {val}')"
   ]
  },
  {
   "cell_type": "code",
   "execution_count": null,
   "metadata": {
    "id": "collectible-metro",
    "outputId": "3e00ec1b-281c-4114-e7c1-013ff811ebf2"
   },
   "outputs": [
    {
     "name": "stdout",
     "output_type": "stream",
     "text": [
      "i == 0, val == p\n",
      "i == 1, val == y\n",
      "i == 2, val == t\n",
      "i == 3, val == h\n",
      "i == 4, val == o\n",
      "i == 5, val == n\n"
     ]
    }
   ],
   "source": [
    "for i,val in enumerate(s):\n",
    "    print(f'i == {i}, val == {val}')"
   ]
  },
  {
   "cell_type": "markdown",
   "metadata": {
    "id": "super-greensboro"
   },
   "source": [
    "# 13. range()"
   ]
  },
  {
   "cell_type": "code",
   "execution_count": null,
   "metadata": {
    "id": "meaningful-paintball",
    "outputId": "de5276d9-84d5-40c6-f3d5-8cae561f1316"
   },
   "outputs": [
    {
     "name": "stdout",
     "output_type": "stream",
     "text": [
      "2\n",
      "3\n",
      "4\n",
      "5\n",
      "6\n",
      "7\n",
      "8\n",
      "9\n"
     ]
    }
   ],
   "source": [
    "for i in range(2,10):\n",
    "    print(i)"
   ]
  },
  {
   "cell_type": "code",
   "execution_count": null,
   "metadata": {
    "id": "mathematical-henry",
    "outputId": "caacf498-808f-4024-9a36-a1c56cebd202"
   },
   "outputs": [
    {
     "data": {
      "text/plain": [
       "[2, 3, 4, 5, 6, 7, 8, 9]"
      ]
     },
     "execution_count": 164,
     "metadata": {},
     "output_type": "execute_result"
    }
   ],
   "source": [
    "list(range(2,10))"
   ]
  },
  {
   "cell_type": "markdown",
   "metadata": {
    "id": "cellular-clearing"
   },
   "source": [
    "# 14. print()"
   ]
  },
  {
   "cell_type": "code",
   "execution_count": null,
   "metadata": {
    "id": "separate-friday",
    "outputId": "6d08707b-5080-4038-f301-8edda0cbd5fe"
   },
   "outputs": [
    {
     "name": "stdout",
     "output_type": "stream",
     "text": [
      "python\n"
     ]
    }
   ],
   "source": [
    "a = 'python'\n",
    "b = 'class'\n",
    "print(a)"
   ]
  },
  {
   "cell_type": "code",
   "execution_count": null,
   "metadata": {
    "id": "bearing-thousand",
    "outputId": "021ddbf7-642c-4c6f-e904-06f80a8839ea"
   },
   "outputs": [
    {
     "name": "stdout",
     "output_type": "stream",
     "text": [
      "python class\n"
     ]
    }
   ],
   "source": [
    "print(a,b)  # two variable, seperated by ' '"
   ]
  },
  {
   "cell_type": "code",
   "execution_count": null,
   "metadata": {
    "id": "chinese-trace",
    "outputId": "5e904e33-c1a5-4fa1-c624-091761e4ba33"
   },
   "outputs": [
    {
     "name": "stdout",
     "output_type": "stream",
     "text": [
      "python\n",
      "class\n"
     ]
    }
   ],
   "source": [
    "print(a,end = '\\n')\n",
    "print(b)"
   ]
  },
  {
   "cell_type": "code",
   "execution_count": null,
   "metadata": {
    "id": "unable-watch",
    "outputId": "d083aaee-64ef-41b7-e4aa-d6825c5a4cc9"
   },
   "outputs": [
    {
     "name": "stdout",
     "output_type": "stream",
     "text": [
      "python**class\n"
     ]
    }
   ],
   "source": [
    "print(a,end = '**')\n",
    "print(b)"
   ]
  },
  {
   "cell_type": "code",
   "execution_count": null,
   "metadata": {
    "id": "correct-parish",
    "outputId": "8b6ff8d0-f55b-4492-d362-5688f535890e"
   },
   "outputs": [
    {
     "name": "stdout",
     "output_type": "stream",
     "text": [
      "python class\n"
     ]
    }
   ],
   "source": [
    "print(a,b,sep = ' ')"
   ]
  },
  {
   "cell_type": "code",
   "execution_count": null,
   "metadata": {
    "id": "eastern-zambia",
    "outputId": "330b2c12-fd5b-4e0c-c16f-66d4b0ac3757"
   },
   "outputs": [
    {
     "name": "stdout",
     "output_type": "stream",
     "text": [
      "python++class\n"
     ]
    }
   ],
   "source": [
    "print(a,b,sep = '++')"
   ]
  },
  {
   "cell_type": "markdown",
   "metadata": {
    "id": "palestinian-failing"
   },
   "source": [
    "# 15. input()"
   ]
  },
  {
   "cell_type": "raw",
   "metadata": {
    "id": "piano-helen"
   },
   "source": [
    "user inputs"
   ]
  },
  {
   "cell_type": "code",
   "execution_count": null,
   "metadata": {
    "id": "seven-contest",
    "outputId": "6d570192-145d-44fc-e0fe-0e7d65442677"
   },
   "outputs": [
    {
     "name": "stdout",
     "output_type": "stream",
     "text": [
      "Enter a value of n 10\n"
     ]
    }
   ],
   "source": [
    "n = input('Enter a value of n ')"
   ]
  },
  {
   "cell_type": "code",
   "execution_count": null,
   "metadata": {
    "id": "naughty-petite",
    "outputId": "aa4f27bc-1a36-4171-8758-494ecce8e964"
   },
   "outputs": [
    {
     "data": {
      "text/plain": [
       "'10'"
      ]
     },
     "execution_count": 182,
     "metadata": {},
     "output_type": "execute_result"
    }
   ],
   "source": [
    "n"
   ]
  },
  {
   "cell_type": "code",
   "execution_count": null,
   "metadata": {
    "id": "varied-choice",
    "outputId": "73f9a99d-e45d-4b4f-ee4a-5529f9ff6081"
   },
   "outputs": [
    {
     "name": "stdout",
     "output_type": "stream",
     "text": [
      "Enter a value of n 10\n"
     ]
    }
   ],
   "source": [
    "n = int(input('Enter a value of n '))"
   ]
  },
  {
   "cell_type": "code",
   "execution_count": null,
   "metadata": {
    "id": "pharmaceutical-option",
    "outputId": "b3b09ce2-bc4e-47f8-f5d5-74d60586cdf5"
   },
   "outputs": [
    {
     "data": {
      "text/plain": [
       "10"
      ]
     },
     "execution_count": 196,
     "metadata": {},
     "output_type": "execute_result"
    }
   ],
   "source": [
    "n"
   ]
  },
  {
   "cell_type": "markdown",
   "metadata": {
    "id": "missing-scroll"
   },
   "source": [
    "# 16. eval()"
   ]
  },
  {
   "cell_type": "code",
   "execution_count": null,
   "metadata": {
    "id": "lined-native",
    "outputId": "36f9cb96-42ca-4e24-f12e-4c6466f21a25"
   },
   "outputs": [
    {
     "name": "stdout",
     "output_type": "stream",
     "text": [
      "Enter a value of a 100\n",
      "100.0 <class 'float'>\n"
     ]
    }
   ],
   "source": [
    "a = float(input('Enter a value of a '))\n",
    "print(a,type(a))"
   ]
  },
  {
   "cell_type": "code",
   "execution_count": null,
   "metadata": {
    "id": "bizarre-armenia",
    "outputId": "2bb7e809-2b9f-44b5-e0c9-a7153c6e0e4f"
   },
   "outputs": [
    {
     "name": "stdout",
     "output_type": "stream",
     "text": [
      "Enter a value of a 10.5\n",
      "10.5 <class 'float'>\n"
     ]
    }
   ],
   "source": [
    "a = float(input('Enter a value of a '))\n",
    "print(a,type(a))"
   ]
  },
  {
   "cell_type": "code",
   "execution_count": null,
   "metadata": {
    "id": "turkish-bedroom",
    "outputId": "be95f335-b32f-48fc-dc49-5eae152d0d1a"
   },
   "outputs": [
    {
     "name": "stdout",
     "output_type": "stream",
     "text": [
      "Enter a value of a 10.5\n",
      "10.5 <class 'float'>\n"
     ]
    }
   ],
   "source": [
    "a = eval(input('Enter a value of a '))\n",
    "print(a,type(a))"
   ]
  },
  {
   "cell_type": "code",
   "execution_count": null,
   "metadata": {
    "id": "covered-chick",
    "outputId": "89af551c-0353-417f-d9c4-a69cbc8196b3"
   },
   "outputs": [
    {
     "name": "stdout",
     "output_type": "stream",
     "text": [
      "Enter a value of a 35\n",
      "35 <class 'int'>\n"
     ]
    }
   ],
   "source": [
    "a = eval(input('Enter a value of a '))\n",
    "print(a,type(a))"
   ]
  },
  {
   "cell_type": "code",
   "execution_count": null,
   "metadata": {
    "id": "killing-guitar",
    "outputId": "2873bfa5-b2f8-415f-c891-1522a9aa0288"
   },
   "outputs": [
    {
     "name": "stdout",
     "output_type": "stream",
     "text": [
      "1234 <class 'int'>\n"
     ]
    }
   ],
   "source": [
    "a = int('1234')\n",
    "print(a,type(a))"
   ]
  },
  {
   "cell_type": "code",
   "execution_count": null,
   "metadata": {
    "id": "creative-panic",
    "outputId": "f2e7dfda-a703-4b4a-b433-d32857042ded"
   },
   "outputs": [
    {
     "name": "stdout",
     "output_type": "stream",
     "text": [
      "1234 <class 'int'>\n"
     ]
    }
   ],
   "source": [
    "a = eval('1234')\n",
    "print(a,type(a))"
   ]
  },
  {
   "cell_type": "code",
   "execution_count": null,
   "metadata": {
    "id": "directed-publicity",
    "outputId": "f1990073-57fa-4c8c-c14a-bf915e1c1974"
   },
   "outputs": [
    {
     "name": "stdout",
     "output_type": "stream",
     "text": [
      "12.34 <class 'float'>\n"
     ]
    }
   ],
   "source": [
    "a = eval('12.34')\n",
    "print(a,type(a))"
   ]
  },
  {
   "cell_type": "markdown",
   "metadata": {
    "id": "female-tuesday"
   },
   "source": [
    "# 17. iter()"
   ]
  },
  {
   "cell_type": "code",
   "execution_count": null,
   "metadata": {
    "id": "deadly-harris",
    "outputId": "715d6bd1-043c-4fb6-97f6-de92ee0b1b6a"
   },
   "outputs": [
    {
     "name": "stdout",
     "output_type": "stream",
     "text": [
      "10 20 30\n"
     ]
    }
   ],
   "source": [
    "numbers = [10,20,30]\n",
    "iterable_numbers = iter(numbers)\n",
    "a = next(iterable_numbers)\n",
    "b = next(iterable_numbers)\n",
    "c = next(iterable_numbers)\n",
    "print(a,b,c)"
   ]
  },
  {
   "cell_type": "code",
   "execution_count": null,
   "metadata": {
    "id": "funky-therapist",
    "outputId": "974f165b-0ab2-47eb-b2bd-498e1c157826"
   },
   "outputs": [
    {
     "name": "stdout",
     "output_type": "stream",
     "text": [
      "10 20 30\n"
     ]
    }
   ],
   "source": [
    "numbers = [10,20,30]\n",
    "iterable_numbers = iter(numbers)\n",
    "a = next(iterable_numbers)\n",
    "b = next(iterable_numbers)\n",
    "c = next(iterable_numbers)\n",
    "# d = next(iterable_numbers)\n",
    "print(a,b,c)"
   ]
  },
  {
   "cell_type": "markdown",
   "metadata": {
    "id": "judicial-lease"
   },
   "source": [
    "# 18. ascii"
   ]
  },
  {
   "cell_type": "code",
   "execution_count": null,
   "metadata": {
    "id": "unnecessary-saturn",
    "outputId": "7029a541-82bc-4446-ed87-da45797ea1ca"
   },
   "outputs": [
    {
     "data": {
      "text/plain": [
       "\"'python'\""
      ]
     },
     "execution_count": 206,
     "metadata": {},
     "output_type": "execute_result"
    }
   ],
   "source": [
    "s = 'python'\n",
    "ascii(s)"
   ]
  },
  {
   "cell_type": "code",
   "execution_count": null,
   "metadata": {
    "id": "unable-production",
    "outputId": "a83d5716-3e64-4b2b-c67c-1c6810ef6706"
   },
   "outputs": [
    {
     "name": "stdout",
     "output_type": "stream",
     "text": [
      "'L   \\xe4   cheln'\n"
     ]
    }
   ],
   "source": [
    "s = 'L   ä   cheln'\n",
    "print(ascii(s))"
   ]
  },
  {
   "cell_type": "code",
   "execution_count": null,
   "metadata": {
    "id": "collected-syndrome",
    "outputId": "74fe8d42-8503-48e0-b706-f4de5f39cfe9"
   },
   "outputs": [
    {
     "name": "stdout",
     "output_type": "stream",
     "text": [
      "'Hallo'\n"
     ]
    }
   ],
   "source": [
    "string = 'Hallo'\n",
    "print(ascii(string))"
   ]
  },
  {
   "cell_type": "code",
   "execution_count": null,
   "metadata": {
    "id": "fantastic-representative",
    "outputId": "4dba3f80-52e7-4017-fb86-3905fd880974"
   },
   "outputs": [
    {
     "name": "stdout",
     "output_type": "stream",
     "text": [
      "'Gl \\xfc ck'\n"
     ]
    }
   ],
   "source": [
    "s = 'Gl ü ck'\n",
    "print(ascii(s))"
   ]
  },
  {
   "cell_type": "markdown",
   "metadata": {
    "id": "cloudy-shape"
   },
   "source": [
    "# Other built in Functions"
   ]
  },
  {
   "cell_type": "code",
   "execution_count": null,
   "metadata": {
    "id": "consolidated-sheffield"
   },
   "outputs": [],
   "source": [
    "min()\n",
    "max()\n",
    "sum()\n",
    "list()\n",
    "int()\n",
    "str()\n",
    "tuple()\n",
    "set()\n",
    "frozenset()\n",
    "float()\n",
    "complex()\n",
    "id()\n",
    "dict()\n",
    "type()\n",
    "range()\n",
    "sorted()\n",
    "reversed()\n",
    "len()\n",
    "round()\n",
    "help()\n",
    "format()\n",
    "ascii()\n",
    "open()\n",
    "pow()"
   ]
  },
  {
   "cell_type": "code",
   "execution_count": null,
   "metadata": {
    "id": "black-origin"
   },
   "outputs": [],
   "source": [
    "# open('test.txt','w')"
   ]
  },
  {
   "cell_type": "code",
   "execution_count": null,
   "metadata": {
    "id": "resistant-island",
    "outputId": "028539e8-3d6b-4c29-8fc4-4daee20d3753"
   },
   "outputs": [
    {
     "data": {
      "text/plain": [
       "8"
      ]
     },
     "execution_count": 217,
     "metadata": {},
     "output_type": "execute_result"
    }
   ],
   "source": [
    "pow(2,3) # 2 ** 3"
   ]
  },
  {
   "cell_type": "code",
   "execution_count": null,
   "metadata": {
    "id": "meaningful-cliff",
    "outputId": "498dd9b3-04e9-4d2c-8bf9-4d36e9ba422b"
   },
   "outputs": [
    {
     "data": {
      "text/plain": [
       "100"
      ]
     },
     "execution_count": 218,
     "metadata": {},
     "output_type": "execute_result"
    }
   ],
   "source": [
    "pow(10,2) # 10 ** 2"
   ]
  },
  {
   "cell_type": "code",
   "execution_count": null,
   "metadata": {
    "id": "special-planning"
   },
   "outputs": [],
   "source": [
    "in \n",
    "from\n",
    "import\n",
    "del\n",
    "for\n",
    "while\n",
    "if\n",
    "else\n",
    "elif\n",
    "try\n",
    "except\n",
    "break\n",
    "continue\n",
    "pass\n",
    "return"
   ]
  }
 ],
 "metadata": {
  "colab": {
   "name": "Built in Function.ipynb",
   "provenance": []
  },
  "kernelspec": {
   "display_name": "Python 3",
   "language": "python",
   "name": "python3"
  },
  "language_info": {
   "codemirror_mode": {
    "name": "ipython",
    "version": 3
   },
   "file_extension": ".py",
   "mimetype": "text/x-python",
   "name": "python",
   "nbconvert_exporter": "python",
   "pygments_lexer": "ipython3",
   "version": "3.7.3"
  }
 },
 "nbformat": 4,
 "nbformat_minor": 5
}
