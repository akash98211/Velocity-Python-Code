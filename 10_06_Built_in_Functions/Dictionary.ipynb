{
 "cells": [
  {
   "cell_type": "markdown",
   "metadata": {},
   "source": [
    "# Dictionary"
   ]
  },
  {
   "cell_type": "raw",
   "metadata": {},
   "source": [
    "List: Oredred, Mutable, Duplicates are allowed\n",
    "Tuple: Oredred, Immutable, Duplicates are allowed\n",
    "Set: Unoredred, Mutable, Duplicates are not allowed\n"
   ]
  },
  {
   "cell_type": "code",
   "execution_count": null,
   "metadata": {},
   "outputs": [],
   "source": [
    "Dict: Ordered, Mutable, Duplicates are not allowed\n",
    "    \n",
    "Python >= 3.6 >> Ordered\n",
    "Pyhton < 3.6  >> Unordered\n",
    "\n",
    "Dict holds Key and Value pair\n",
    "Comma seperated\n",
    "dict1 = {'Key': 'Value'}\n",
    "\n",
    "Duplicates are not allowed:\n",
    "    Key >> Immutable DataType : (int,float,str,tuple) >> Can not be duplicate\n",
    "    Values >> Any DataType: (list,int,float,str,tuple,set,dict) >> Can be Duplicate\n",
    "        \n"
   ]
  },
  {
   "cell_type": "code",
   "execution_count": 2,
   "metadata": {},
   "outputs": [
    {
     "data": {
      "text/plain": [
       "dict"
      ]
     },
     "execution_count": 2,
     "metadata": {},
     "output_type": "execute_result"
    }
   ],
   "source": [
    "d1 = {}\n",
    "type(d1)"
   ]
  },
  {
   "cell_type": "code",
   "execution_count": 4,
   "metadata": {},
   "outputs": [
    {
     "data": {
      "text/plain": [
       "dict"
      ]
     },
     "execution_count": 4,
     "metadata": {},
     "output_type": "execute_result"
    }
   ],
   "source": [
    "d1 = dict()\n",
    "type(d1)"
   ]
  },
  {
   "cell_type": "code",
   "execution_count": 6,
   "metadata": {},
   "outputs": [
    {
     "data": {
      "text/plain": [
       "1"
      ]
     },
     "execution_count": 6,
     "metadata": {},
     "output_type": "execute_result"
    }
   ],
   "source": [
    "d1 = {'Name' : \"Rohit\"}\n",
    "len(d1)"
   ]
  },
  {
   "cell_type": "code",
   "execution_count": 8,
   "metadata": {},
   "outputs": [
    {
     "data": {
      "text/plain": [
       "2"
      ]
     },
     "execution_count": 8,
     "metadata": {},
     "output_type": "execute_result"
    }
   ],
   "source": [
    "d1 = {'Name' : \"Rohit\",'Age' : 30}\n",
    "len(d1)"
   ]
  },
  {
   "cell_type": "code",
   "execution_count": 9,
   "metadata": {},
   "outputs": [
    {
     "data": {
      "text/plain": [
       "2"
      ]
     },
     "execution_count": 9,
     "metadata": {},
     "output_type": "execute_result"
    }
   ],
   "source": [
    "d1 = {'Name' : \"Rohit\",'Age' : 30}\n",
    "len(d1)"
   ]
  },
  {
   "cell_type": "code",
   "execution_count": 12,
   "metadata": {},
   "outputs": [
    {
     "name": "stdout",
     "output_type": "stream",
     "text": [
      "{'Name': 'Rohit', 'Age': 30, 'Score': 60} 3\n"
     ]
    }
   ],
   "source": [
    "d1 = {'Name' : \"Rohit\",'Age' : 30,'Score': 60}\n",
    "print(d1,len(d1))"
   ]
  },
  {
   "cell_type": "code",
   "execution_count": 14,
   "metadata": {},
   "outputs": [
    {
     "name": "stdout",
     "output_type": "stream",
     "text": [
      "{'Name': 'Rohit', 'Age': 30, 'Score': 60, 100: 200} 4\n"
     ]
    }
   ],
   "source": [
    "d1 = {'Name' : \"Rohit\",'Age' : 30,'Score': 60, 100 : 200}\n",
    "print(d1,len(d1))"
   ]
  },
  {
   "cell_type": "code",
   "execution_count": 16,
   "metadata": {},
   "outputs": [
    {
     "name": "stdout",
     "output_type": "stream",
     "text": [
      "{'Name': 'Rohit', 'Age': 30, 'Score': 60, (2, 3, 4): 200} 4\n"
     ]
    }
   ],
   "source": [
    "d1 = {'Name' : \"Rohit\",'Age' : 30,'Score': 60, (2,3,4): 200}\n",
    "print(d1,len(d1))"
   ]
  },
  {
   "cell_type": "code",
   "execution_count": 18,
   "metadata": {},
   "outputs": [
    {
     "name": "stdout",
     "output_type": "stream",
     "text": [
      "{'Name': 'Rohit', 'Age': 30, 'Score': 60, 20.34: 200} 4\n"
     ]
    }
   ],
   "source": [
    "d1 = {'Name' : \"Rohit\",'Age' : 30,'Score': 60, 20.34: 200}\n",
    "print(d1,len(d1))"
   ]
  },
  {
   "cell_type": "code",
   "execution_count": 21,
   "metadata": {},
   "outputs": [
    {
     "name": "stdout",
     "output_type": "stream",
     "text": [
      "{'Name': 'Rohit', 'Age': 30, 'Score': 60, 100: 200} 4\n"
     ]
    }
   ],
   "source": [
    "d1 = {'Name' : \"Rohit\",'Age' : 30,'Score': 60, 100 : 200}\n",
    "print(d1,len(d1))"
   ]
  },
  {
   "cell_type": "code",
   "execution_count": 26,
   "metadata": {},
   "outputs": [
    {
     "name": "stdout",
     "output_type": "stream",
     "text": [
      "{'Name': ['Rohit', 'Karan'], 'Age': 30, 'Score': 60, 100: 200} 4\n"
     ]
    }
   ],
   "source": [
    "d1 = {'Name' : [\"Rohit\",'Karan'],'Age' : 30,'Score': 60, 100 : 200}\n",
    "print(d1,len(d1))"
   ]
  },
  {
   "cell_type": "code",
   "execution_count": 27,
   "metadata": {},
   "outputs": [
    {
     "name": "stdout",
     "output_type": "stream",
     "text": [
      "{'Name': ('Rohit', 'Karan'), 'Age': 30, 'Score': 60, 100: 200} 4\n"
     ]
    }
   ],
   "source": [
    "d1 = {'Name' : (\"Rohit\",'Karan'),'Age' : 30,'Score': 60, 100 : 200}\n",
    "print(d1,len(d1))"
   ]
  },
  {
   "cell_type": "code",
   "execution_count": 29,
   "metadata": {},
   "outputs": [
    {
     "name": "stdout",
     "output_type": "stream",
     "text": [
      "{'Name': {'Student Name': 'Rohit'}, 'Age': 30, 'Score': 60, 100: 200} 4\n"
     ]
    }
   ],
   "source": [
    "d1 = {'Name' : {'Student Name' : 'Rohit'},'Age' : 30,'Score': 60, 100 : 200}\n",
    "print(d1,len(d1))"
   ]
  },
  {
   "cell_type": "code",
   "execution_count": 30,
   "metadata": {},
   "outputs": [
    {
     "name": "stdout",
     "output_type": "stream",
     "text": [
      "{'Name': {'Student Name': 'Rohit'}, 'Age': 30, 'Score': 60, 100: 200} 4\n"
     ]
    }
   ],
   "source": [
    "d1 = {'Name' : {'Student Name' : 'Rohit'},'Age' : 30,'Score': 60, 100 : 200}\n",
    "print(d1,len(d1))"
   ]
  },
  {
   "cell_type": "markdown",
   "metadata": {},
   "source": [
    "# Access Dictionary Items"
   ]
  },
  {
   "cell_type": "raw",
   "metadata": {},
   "source": [
    "dict[KeyName]"
   ]
  },
  {
   "cell_type": "code",
   "execution_count": 32,
   "metadata": {},
   "outputs": [
    {
     "name": "stdout",
     "output_type": "stream",
     "text": [
      "{'Employee Name': 'Tushar', 'Salary': 50000, 'Age': 30, 'Company': 'Capgemini'} 4\n"
     ]
    }
   ],
   "source": [
    "employee_data = {\"Employee Name\" : 'Tushar',\n",
    "                'Salary' : 50000,\n",
    "                'Age': 30,\n",
    "                'Company': 'Capgemini'}\n",
    "\n",
    "print(employee_data,len(employee_data))"
   ]
  },
  {
   "cell_type": "code",
   "execution_count": 34,
   "metadata": {},
   "outputs": [
    {
     "data": {
      "text/plain": [
       "50000"
      ]
     },
     "execution_count": 34,
     "metadata": {},
     "output_type": "execute_result"
    }
   ],
   "source": [
    "employee_data['Salary']"
   ]
  },
  {
   "cell_type": "code",
   "execution_count": 36,
   "metadata": {},
   "outputs": [
    {
     "data": {
      "text/plain": [
       "'Capgemini'"
      ]
     },
     "execution_count": 36,
     "metadata": {},
     "output_type": "execute_result"
    }
   ],
   "source": [
    "employee_data['Company']"
   ]
  },
  {
   "cell_type": "code",
   "execution_count": 39,
   "metadata": {},
   "outputs": [],
   "source": [
    "# employee_data['Experience']"
   ]
  },
  {
   "cell_type": "markdown",
   "metadata": {},
   "source": [
    "# get()"
   ]
  },
  {
   "cell_type": "code",
   "execution_count": 41,
   "metadata": {},
   "outputs": [
    {
     "data": {
      "text/plain": [
       "50000"
      ]
     },
     "execution_count": 41,
     "metadata": {},
     "output_type": "execute_result"
    }
   ],
   "source": [
    "employee_data.get('Salary')"
   ]
  },
  {
   "cell_type": "code",
   "execution_count": 43,
   "metadata": {},
   "outputs": [
    {
     "data": {
      "text/plain": [
       "'Capgemini'"
      ]
     },
     "execution_count": 43,
     "metadata": {},
     "output_type": "execute_result"
    }
   ],
   "source": [
    "employee_data.get('Company')"
   ]
  },
  {
   "cell_type": "markdown",
   "metadata": {},
   "source": [
    "# For Loop on Dictionary"
   ]
  },
  {
   "cell_type": "code",
   "execution_count": 46,
   "metadata": {},
   "outputs": [],
   "source": [
    "employee_data = {\"Employee Name\" : 'Tushar',\n",
    "                'Salary' : 50000,\n",
    "                'Age': 30,\n",
    "                'Company': 'Capgemini'}"
   ]
  },
  {
   "cell_type": "markdown",
   "metadata": {},
   "source": [
    "## 1. access Keys from dict"
   ]
  },
  {
   "cell_type": "code",
   "execution_count": 47,
   "metadata": {},
   "outputs": [
    {
     "name": "stdout",
     "output_type": "stream",
     "text": [
      "Key is : Employee Name\n",
      "Key is : Salary\n",
      "Key is : Age\n",
      "Key is : Company\n"
     ]
    }
   ],
   "source": [
    "for key in employee_data: # Default we will get keys from dict\n",
    "    print(\"Key is :\",key)"
   ]
  },
  {
   "cell_type": "code",
   "execution_count": 49,
   "metadata": {},
   "outputs": [
    {
     "name": "stdout",
     "output_type": "stream",
     "text": [
      "Key is : Employee Name\n",
      "Key is : Salary\n",
      "Key is : Age\n",
      "Key is : Company\n"
     ]
    }
   ],
   "source": [
    "for key in employee_data.keys():\n",
    "    print(\"Key is :\",key)"
   ]
  },
  {
   "cell_type": "code",
   "execution_count": 51,
   "metadata": {},
   "outputs": [
    {
     "data": {
      "text/plain": [
       "dict_keys(['Employee Name', 'Salary', 'Age', 'Company'])"
      ]
     },
     "execution_count": 51,
     "metadata": {},
     "output_type": "execute_result"
    }
   ],
   "source": [
    "employee_data.keys()"
   ]
  },
  {
   "cell_type": "raw",
   "metadata": {},
   "source": [
    "x = employee_data.values()\n",
    "# type(x)\n",
    "l1 = list(x)\n",
    "print(l1,type(l1))"
   ]
  },
  {
   "cell_type": "code",
   "execution_count": 55,
   "metadata": {},
   "outputs": [
    {
     "name": "stdout",
     "output_type": "stream",
     "text": [
      "Values are: Tushar\n",
      "Values are: 50000\n",
      "Values are: 30\n",
      "Values are: Capgemini\n"
     ]
    }
   ],
   "source": [
    "for values in employee_data.values():\n",
    "    print(\"Values are:\",values)"
   ]
  },
  {
   "cell_type": "code",
   "execution_count": 58,
   "metadata": {},
   "outputs": [
    {
     "name": "stdout",
     "output_type": "stream",
     "text": [
      "Values are: Tushar\n",
      "Values are: 50000\n",
      "Values are: 30\n",
      "Values are: Capgemini\n"
     ]
    }
   ],
   "source": [
    "for values in employee_data.values():\n",
    "    print(\"Values are:\",values)"
   ]
  },
  {
   "cell_type": "code",
   "execution_count": 60,
   "metadata": {},
   "outputs": [
    {
     "data": {
      "text/plain": [
       "dict_items([('Employee Name', 'Tushar'), ('Salary', 50000), ('Age', 30), ('Company', 'Capgemini')])"
      ]
     },
     "execution_count": 60,
     "metadata": {},
     "output_type": "execute_result"
    }
   ],
   "source": [
    "employee_data.items()"
   ]
  },
  {
   "cell_type": "code",
   "execution_count": 62,
   "metadata": {},
   "outputs": [
    {
     "name": "stdout",
     "output_type": "stream",
     "text": [
      "Employee Name Tushar\n",
      "Salary 50000\n",
      "Age 30\n",
      "Company Capgemini\n"
     ]
    }
   ],
   "source": [
    "for key,val in employee_data.items():\n",
    "    print(key,val)"
   ]
  },
  {
   "cell_type": "code",
   "execution_count": 64,
   "metadata": {},
   "outputs": [
    {
     "name": "stdout",
     "output_type": "stream",
     "text": [
      "Value of Employee Name is Tushar\n",
      "Value of Salary is 50000\n",
      "Value of Age is 30\n",
      "Value of Company is Capgemini\n"
     ]
    }
   ],
   "source": [
    "for key,val in employee_data.items():\n",
    "    print(f\"Value of {key} is {val}\")"
   ]
  },
  {
   "cell_type": "code",
   "execution_count": 66,
   "metadata": {},
   "outputs": [
    {
     "name": "stdout",
     "output_type": "stream",
     "text": [
      "Value of Employee Name is Tushar\n",
      "Value of Salary is 50000\n",
      "Value of Age is 30\n",
      "Value of Company is Capgemini\n"
     ]
    }
   ],
   "source": [
    "for key,value in employee_data.items():\n",
    "    print(f\"Value of {key} is {value}\")"
   ]
  },
  {
   "cell_type": "raw",
   "metadata": {},
   "source": [
    "# Dict Function\n",
    "1. keys()\n",
    "2. values()\n",
    "3. items()"
   ]
  },
  {
   "cell_type": "markdown",
   "metadata": {},
   "source": [
    "# Check items in dictionary"
   ]
  },
  {
   "cell_type": "code",
   "execution_count": 74,
   "metadata": {},
   "outputs": [
    {
     "name": "stdout",
     "output_type": "stream",
     "text": [
      "Salary key is present\n"
     ]
    }
   ],
   "source": [
    "employee_data = {\"Employee Name\" : 'Tushar',\n",
    "                'Salary' : 50000,\n",
    "                'Age': 30,\n",
    "                'Company': 'Capgemini'}\n",
    "\n",
    "if 'Salary' in employee_data:\n",
    "    print('Salary key is present')\n",
    "    \n",
    "else:\n",
    "    print('Not Present')"
   ]
  },
  {
   "cell_type": "code",
   "execution_count": 75,
   "metadata": {},
   "outputs": [
    {
     "name": "stdout",
     "output_type": "stream",
     "text": [
      "Not Present\n"
     ]
    }
   ],
   "source": [
    "employee_data = {\"Employee Name\" : 'Tushar',\n",
    "                'Salary' : 50000,\n",
    "                'Age': 30,\n",
    "                'Company': 'Capgemini'}\n",
    "\n",
    "if 'Exp' in employee_data:\n",
    "    print('Salary key is present')\n",
    "    \n",
    "else:\n",
    "    print('Not Present')"
   ]
  },
  {
   "cell_type": "markdown",
   "metadata": {},
   "source": [
    "# Change Items of Dictionary"
   ]
  },
  {
   "cell_type": "code",
   "execution_count": 78,
   "metadata": {},
   "outputs": [
    {
     "name": "stdout",
     "output_type": "stream",
     "text": [
      "{'Employee Name': 'Tushar', 'Salary': 70000, 'Age': 30, 'Company': 'Capgemini'}\n"
     ]
    }
   ],
   "source": [
    "employee_data = {\"Employee Name\" : 'Tushar',\n",
    "                'Salary' : 50000,\n",
    "                'Age': 30,\n",
    "                'Company': 'Capgemini'}\n",
    "\n",
    "employee_data['Salary'] = 70000\n",
    "\n",
    "print(employee_data)"
   ]
  },
  {
   "cell_type": "code",
   "execution_count": 80,
   "metadata": {},
   "outputs": [
    {
     "name": "stdout",
     "output_type": "stream",
     "text": [
      "{'Employee Name': 'Tushar', 'Salary': 50000, 'Age': 30, 'Company': 'TCS'}\n"
     ]
    }
   ],
   "source": [
    "employee_data = {\"Employee Name\" : 'Tushar',\n",
    "                'Salary' : 50000,\n",
    "                'Age': 30,\n",
    "                'Company': 'Capgemini'}\n",
    "\n",
    "employee_data['Company'] = 'TCS'\n",
    "\n",
    "print(employee_data)"
   ]
  },
  {
   "cell_type": "code",
   "execution_count": 82,
   "metadata": {},
   "outputs": [
    {
     "name": "stdout",
     "output_type": "stream",
     "text": [
      "{'Employee Name': 'Tushar', 'Salary': 70000, 'Age': 30, 'Company': 'TCS'}\n"
     ]
    }
   ],
   "source": [
    "employee_data = {\"Employee Name\" : 'Tushar',\n",
    "                'Salary' : 50000,\n",
    "                'Age': 30,\n",
    "                'Company': 'Capgemini'}\n",
    "\n",
    "employee_data['Salary'] = 70000\n",
    "employee_data['Company'] = 'TCS'\n",
    "\n",
    "print(employee_data)"
   ]
  },
  {
   "cell_type": "code",
   "execution_count": 85,
   "metadata": {},
   "outputs": [
    {
     "name": "stdout",
     "output_type": "stream",
     "text": [
      "{'Employee Name': 'Tushar', 'Salary': 70000, 'Age': 30, 'Company': 'Capgemini', 'Experience': '3 Years'}\n"
     ]
    }
   ],
   "source": [
    "employee_data = {\"Employee Name\" : 'Tushar',\n",
    "                'Salary' : 50000,\n",
    "                'Age': 30,\n",
    "                'Company': 'Capgemini'}\n",
    "\n",
    "employee_data['Salary'] = 70000\n",
    "employee_data['Experience'] = '3 Years'\n",
    "\n",
    "print(employee_data)"
   ]
  },
  {
   "cell_type": "code",
   "execution_count": 86,
   "metadata": {},
   "outputs": [
    {
     "name": "stdout",
     "output_type": "stream",
     "text": [
      "{'Employee Name': 'Tushar', 'Salary': 70000, 'Age': 30, 'Company': 'Capgemini', 'Experience': '3 Years'}\n"
     ]
    }
   ],
   "source": [
    "employee_data = {\"Employee Name\" : 'Tushar',\n",
    "                'Salary' : 50000,\n",
    "                'Age': 30,\n",
    "                'Company': 'Capgemini'}\n",
    "\n",
    "employee_data['Salary'] = 70000\n",
    "employee_data['Experience'] = '3 Years'\n",
    "\n",
    "print(employee_data)"
   ]
  },
  {
   "cell_type": "code",
   "execution_count": 94,
   "metadata": {},
   "outputs": [
    {
     "data": {
      "text/plain": [
       "{'Employee Name': 'Tushar', 'Salary': 70000, 'Age': 31, 'Company': 'TCS'}"
      ]
     },
     "execution_count": 94,
     "metadata": {},
     "output_type": "execute_result"
    }
   ],
   "source": [
    "employee_data = {\"Employee Name\" : 'Tushar',\n",
    "                'Salary' : 50000,\n",
    "                'Age': 30,\n",
    "                'Company': 'Capgemini'}\n",
    "\n",
    "employee_data['Salary'] = 70000\n",
    "employee_data['Company'] = 'TCS'\n",
    "employee_data['Age'] = 31\n",
    "employee_data"
   ]
  },
  {
   "cell_type": "markdown",
   "metadata": {},
   "source": [
    "# update()"
   ]
  },
  {
   "cell_type": "raw",
   "metadata": {},
   "source": [
    "Add two dictionaries "
   ]
  },
  {
   "cell_type": "code",
   "execution_count": 96,
   "metadata": {},
   "outputs": [
    {
     "name": "stdout",
     "output_type": "stream",
     "text": [
      "{'Employee Name': 'Tushar', 'Salary': 70000, 'Age': 31, 'Company': 'TCS'}\n"
     ]
    }
   ],
   "source": [
    "employee_data = {\"Employee Name\" : 'Tushar',\n",
    "                'Salary' : 50000,\n",
    "                'Age': 30,\n",
    "                'Company': 'Capgemini'}\n",
    "\n",
    "new_data = {'Salary' : 70000,\n",
    "            'Age': 31,\n",
    "            'Company': 'TCS'}\n",
    "\n",
    "employee_data.update(new_data)\n",
    "print(employee_data)"
   ]
  },
  {
   "cell_type": "code",
   "execution_count": 98,
   "metadata": {},
   "outputs": [
    {
     "name": "stdout",
     "output_type": "stream",
     "text": [
      "{'Employee Name': 'Tushar', 'Salary': 50000, 'Age': 30, 'Company': 'TCS'}\n"
     ]
    }
   ],
   "source": [
    "employee_data = {\"Employee Name\" : 'Tushar',\n",
    "                'Salary' : 50000,\n",
    "                'Age': 30,\n",
    "                'Company': 'Capgemini'}\n",
    "\n",
    "\n",
    "employee_data.update({'Company': 'TCS'})\n",
    "print(employee_data)"
   ]
  },
  {
   "cell_type": "code",
   "execution_count": 100,
   "metadata": {},
   "outputs": [
    {
     "name": "stdout",
     "output_type": "stream",
     "text": [
      "{'Employee Name': 'Tushar', 'Salary': 50000, 'Age': 30, 'Company': 'TCS'}\n"
     ]
    }
   ],
   "source": [
    "employee_data = {\"Employee Name\" : 'Tushar',\n",
    "                'Salary' : 50000,\n",
    "                'Age': 30,\n",
    "                'Company': 'Capgemini'}\n",
    "\n",
    "new = {'Company': 'TCS'}\n",
    "employee_data.update(new)\n",
    "print(employee_data)"
   ]
  },
  {
   "cell_type": "code",
   "execution_count": 102,
   "metadata": {},
   "outputs": [
    {
     "name": "stdout",
     "output_type": "stream",
     "text": [
      "{'Employee Name': 'Tushar', 'Salary': 50000, 'Age': 30, 'Company': 'Capgemini', 'Exp': '4 Years', 'Location': 'Pune'}\n"
     ]
    }
   ],
   "source": [
    "employee_data = {\"Employee Name\" : 'Tushar',\n",
    "                'Salary' : 50000,\n",
    "                'Age': 30,\n",
    "                'Company': 'Capgemini'}\n",
    "\n",
    "new_data = {'Exp' : '4 Years','Location':'Pune'}\n",
    "\n",
    "employee_data.update(new_data)\n",
    "print(employee_data)"
   ]
  },
  {
   "cell_type": "code",
   "execution_count": 107,
   "metadata": {},
   "outputs": [
    {
     "name": "stdout",
     "output_type": "stream",
     "text": [
      "{'Employee Name': 'Tushar', 'Salary': 50000, 'Age': 30, 'Company': 'Capgemini'} 4\n",
      "{'Exp': '4 Years', 'Location': 'Pune', 'Employee Name': 'Tushar', 'Salary': 50000, 'Age': 30, 'Company': 'Capgemini'} 6\n"
     ]
    }
   ],
   "source": [
    "employee_data = {\"Employee Name\" : 'Tushar',\n",
    "                'Salary' : 50000,\n",
    "                'Age': 30,\n",
    "                'Company': 'Capgemini'}\n",
    "\n",
    "new_data = {'Exp' : '4 Years','Location':'Pune'}\n",
    "\n",
    "new_data.update(employee_data)\n",
    "\n",
    "print(employee_data,len(employee_data))\n",
    "print(new_data,len(new_data))"
   ]
  },
  {
   "cell_type": "markdown",
   "metadata": {},
   "source": [
    "# Remove items from dict"
   ]
  },
  {
   "cell_type": "code",
   "execution_count": null,
   "metadata": {},
   "outputs": [],
   "source": [
    "1. pop\n",
    "2. popitem\n",
    "3. clear\n",
    "4. del"
   ]
  },
  {
   "cell_type": "code",
   "execution_count": 115,
   "metadata": {},
   "outputs": [
    {
     "data": {
      "text/plain": [
       "{'Exp': '4 Years',\n",
       " 'Location': 'Pune',\n",
       " 'Employee Name': 'Tushar',\n",
       " 'Salary': 50000,\n",
       " 'Age': 30,\n",
       " 'Company': 'Capgemini'}"
      ]
     },
     "execution_count": 115,
     "metadata": {},
     "output_type": "execute_result"
    }
   ],
   "source": [
    "emp_details = {'Exp': '4 Years', \n",
    "               'Location': 'Pune', \n",
    "               'Employee Name': 'Tushar', \n",
    "               'Salary': 50000, \n",
    "               'Age': 30, \n",
    "               'Company': 'Capgemini'}\n",
    "emp_details"
   ]
  },
  {
   "cell_type": "markdown",
   "metadata": {},
   "source": [
    "# 1. pop()"
   ]
  },
  {
   "cell_type": "code",
   "execution_count": 116,
   "metadata": {},
   "outputs": [
    {
     "name": "stdout",
     "output_type": "stream",
     "text": [
      "{'Exp': '4 Years', 'Employee Name': 'Tushar', 'Salary': 50000, 'Age': 30, 'Company': 'Capgemini'} 5\n"
     ]
    }
   ],
   "source": [
    "emp_details.pop('Location')\n",
    "print(emp_details,len(emp_details))"
   ]
  },
  {
   "cell_type": "code",
   "execution_count": 117,
   "metadata": {},
   "outputs": [
    {
     "name": "stdout",
     "output_type": "stream",
     "text": [
      "{'Exp': '4 Years', 'Employee Name': 'Tushar', 'Salary': 50000, 'Age': 30} 4\n"
     ]
    }
   ],
   "source": [
    "emp_details.pop('Company')\n",
    "print(emp_details,len(emp_details))"
   ]
  },
  {
   "cell_type": "markdown",
   "metadata": {},
   "source": [
    "# 2. popitem()"
   ]
  },
  {
   "cell_type": "code",
   "execution_count": null,
   "metadata": {},
   "outputs": [],
   "source": [
    "Remove last inserted item"
   ]
  },
  {
   "cell_type": "code",
   "execution_count": 132,
   "metadata": {},
   "outputs": [
    {
     "data": {
      "text/plain": [
       "{'Exp': '4 Years',\n",
       " 'Location': 'Pune',\n",
       " 'Employee Name': 'Tushar',\n",
       " 'Salary': 50000,\n",
       " 'Age': 30,\n",
       " 'Company': 'Capgemini'}"
      ]
     },
     "execution_count": 132,
     "metadata": {},
     "output_type": "execute_result"
    }
   ],
   "source": [
    "emp_details = {'Exp': '4 Years', \n",
    "               'Location': 'Pune', \n",
    "               'Employee Name': 'Tushar', \n",
    "               'Salary': 50000, \n",
    "               'Age': 30, \n",
    "               'Company': 'Capgemini'}\n",
    "\n",
    "emp_details"
   ]
  },
  {
   "cell_type": "code",
   "execution_count": 133,
   "metadata": {},
   "outputs": [
    {
     "name": "stdout",
     "output_type": "stream",
     "text": [
      "{'Exp': '4 Years', 'Location': 'Pune', 'Employee Name': 'Tushar', 'Salary': 50000, 'Age': 30} 5\n"
     ]
    }
   ],
   "source": [
    "emp_details.popitem()\n",
    "print(emp_details,len(emp_details))"
   ]
  },
  {
   "cell_type": "code",
   "execution_count": 134,
   "metadata": {},
   "outputs": [
    {
     "name": "stdout",
     "output_type": "stream",
     "text": [
      "{'Exp': '4 Years', 'Location': 'Pune', 'Employee Name': 'Tushar', 'Salary': 50000} 4\n"
     ]
    }
   ],
   "source": [
    "emp_details.popitem()\n",
    "print(emp_details,len(emp_details))"
   ]
  },
  {
   "cell_type": "code",
   "execution_count": 138,
   "metadata": {},
   "outputs": [
    {
     "name": "stdout",
     "output_type": "stream",
     "text": [
      "{} 0\n"
     ]
    }
   ],
   "source": [
    "emp_details.popitem()\n",
    "print(emp_details,len(emp_details))"
   ]
  },
  {
   "cell_type": "markdown",
   "metadata": {},
   "source": [
    "# 3. clear()"
   ]
  },
  {
   "cell_type": "code",
   "execution_count": 139,
   "metadata": {},
   "outputs": [
    {
     "data": {
      "text/plain": [
       "{'Exp': '4 Years',\n",
       " 'Location': 'Pune',\n",
       " 'Employee Name': 'Tushar',\n",
       " 'Salary': 50000,\n",
       " 'Age': 30,\n",
       " 'Company': 'Capgemini'}"
      ]
     },
     "execution_count": 139,
     "metadata": {},
     "output_type": "execute_result"
    }
   ],
   "source": [
    "emp_details = {'Exp': '4 Years', \n",
    "               'Location': 'Pune', \n",
    "               'Employee Name': 'Tushar', \n",
    "               'Salary': 50000, \n",
    "               'Age': 30, \n",
    "               'Company': 'Capgemini'}\n",
    "\n",
    "emp_details"
   ]
  },
  {
   "cell_type": "code",
   "execution_count": 140,
   "metadata": {},
   "outputs": [
    {
     "name": "stdout",
     "output_type": "stream",
     "text": [
      "{} 0\n"
     ]
    }
   ],
   "source": [
    "emp_details.clear()\n",
    "print(emp_details,len(emp_details))"
   ]
  },
  {
   "cell_type": "markdown",
   "metadata": {},
   "source": [
    "# 4. del"
   ]
  },
  {
   "cell_type": "code",
   "execution_count": 141,
   "metadata": {},
   "outputs": [
    {
     "data": {
      "text/plain": [
       "{'Exp': '4 Years',\n",
       " 'Location': 'Pune',\n",
       " 'Employee Name': 'Tushar',\n",
       " 'Salary': 50000,\n",
       " 'Age': 30,\n",
       " 'Company': 'Capgemini'}"
      ]
     },
     "execution_count": 141,
     "metadata": {},
     "output_type": "execute_result"
    }
   ],
   "source": [
    "emp_details = {'Exp': '4 Years', \n",
    "               'Location': 'Pune', \n",
    "               'Employee Name': 'Tushar', \n",
    "               'Salary': 50000, \n",
    "               'Age': 30, \n",
    "               'Company': 'Capgemini'}\n",
    "\n",
    "emp_details"
   ]
  },
  {
   "cell_type": "code",
   "execution_count": 143,
   "metadata": {},
   "outputs": [
    {
     "name": "stdout",
     "output_type": "stream",
     "text": [
      "{'Exp': '4 Years', 'Location': 'Pune', 'Employee Name': 'Tushar', 'Salary': 50000, 'Age': 30}\n"
     ]
    }
   ],
   "source": [
    "del emp_details['Company']\n",
    "print(emp_details)"
   ]
  },
  {
   "cell_type": "code",
   "execution_count": 144,
   "metadata": {},
   "outputs": [
    {
     "name": "stdout",
     "output_type": "stream",
     "text": [
      "{'Exp': '4 Years', 'Location': 'Pune', 'Employee Name': 'Tushar', 'Age': 30}\n"
     ]
    }
   ],
   "source": [
    "del emp_details['Salary']\n",
    "print(emp_details)"
   ]
  },
  {
   "cell_type": "code",
   "execution_count": 147,
   "metadata": {},
   "outputs": [],
   "source": [
    "# del emp_details\n",
    "# print(emp_details)"
   ]
  },
  {
   "cell_type": "markdown",
   "metadata": {},
   "source": [
    "# Nested Dictionaries"
   ]
  },
  {
   "cell_type": "code",
   "execution_count": 149,
   "metadata": {},
   "outputs": [
    {
     "data": {
      "text/plain": [
       "{'Employee Name': 'Tushar',\n",
       " 'Salary': 50000,\n",
       " 'Age': 30,\n",
       " 'Company': 'Capgemini',\n",
       " 'Exp': '4 Years',\n",
       " 'Location': 'Pune'}"
      ]
     },
     "execution_count": 149,
     "metadata": {},
     "output_type": "execute_result"
    }
   ],
   "source": [
    "emp_details = {'Employee Name': 'Tushar', \n",
    "               'Salary': 50000, \n",
    "               'Age': 30, \n",
    "               'Company': 'Capgemini',\n",
    "                'Exp': '4 Years', \n",
    "               'Location': 'Pune'}\n",
    "emp_details"
   ]
  },
  {
   "cell_type": "code",
   "execution_count": 155,
   "metadata": {},
   "outputs": [
    {
     "name": "stdout",
     "output_type": "stream",
     "text": [
      "{'CG0010': {'Employee Name': 'Tushar', 'Salary': 50000, 'Age': 30, 'Company': 'Capgemini', 'Exp': '4 Years', 'Desigantion': 'Python Developer'}, 'CG0011': {'Employee Name': 'Aman', 'Salary': 80000, 'Age': 27, 'Company': 'Capgemini', 'Exp': '3 Years', 'Desigantion': 'Data Scientist'}, 'CG0012': {'Employee Name': 'Sagar', 'Salary': 60000, 'Age': 28, 'Company': 'Capgemini', 'Exp': '3.5 Years', 'Desigantion': 'Software Developer'}}\n",
      "Length of dict is  3\n"
     ]
    }
   ],
   "source": [
    "emp_details = { 'CG0010':{'Employee Name': 'Tushar', \n",
    "                           'Salary': 50000, \n",
    "                           'Age': 30, \n",
    "                           'Company': 'Capgemini',\n",
    "                           'Exp': '4 Years', \n",
    "                           'Desigantion': 'Python Developer'},\n",
    "               \n",
    "               \"CG0011\": {'Employee Name': 'Aman', \n",
    "                           'Salary': 80000, \n",
    "                           'Age': 27, \n",
    "                           'Company': 'Capgemini',\n",
    "                           'Exp': '3 Years', \n",
    "                           'Desigantion': 'Data Scientist'},\n",
    "               \n",
    "              \"CG0012\": {'Employee Name': 'Sagar', \n",
    "                           'Salary': 60000, \n",
    "                           'Age': 28, \n",
    "                           'Company': 'Capgemini',\n",
    "                           'Exp': '3.5 Years', \n",
    "                           'Desigantion': 'Software Developer'}}\n",
    "\n",
    "print(emp_details)\n",
    "print(\"Length of dict is \",len(emp_details))"
   ]
  },
  {
   "cell_type": "code",
   "execution_count": 158,
   "metadata": {},
   "outputs": [
    {
     "data": {
      "text/plain": [
       "dict"
      ]
     },
     "execution_count": 158,
     "metadata": {},
     "output_type": "execute_result"
    }
   ],
   "source": [
    "type(emp_details['CG0012'])"
   ]
  },
  {
   "cell_type": "code",
   "execution_count": 161,
   "metadata": {},
   "outputs": [
    {
     "data": {
      "text/plain": [
       "'3.5 Years'"
      ]
     },
     "execution_count": 161,
     "metadata": {},
     "output_type": "execute_result"
    }
   ],
   "source": [
    "emp_details['CG0012']['Exp']"
   ]
  },
  {
   "cell_type": "code",
   "execution_count": 164,
   "metadata": {},
   "outputs": [
    {
     "data": {
      "text/plain": [
       "'Data Scientist'"
      ]
     },
     "execution_count": 164,
     "metadata": {},
     "output_type": "execute_result"
    }
   ],
   "source": [
    "emp_details['CG0011']['Desigantion']"
   ]
  },
  {
   "cell_type": "code",
   "execution_count": 170,
   "metadata": {},
   "outputs": [
    {
     "name": "stdout",
     "output_type": "stream",
     "text": [
      "{'Name': 'Sagar', 'Loc': 'Pune'}\n"
     ]
    }
   ],
   "source": [
    "data = {}\n",
    "data['Name'] = 'Sagar'\n",
    "data['Loc'] = 'Pune'\n",
    "print(data)"
   ]
  },
  {
   "cell_type": "code",
   "execution_count": 171,
   "metadata": {},
   "outputs": [],
   "source": [
    "sub_names = ['Phy','Che','Math','Eng','Bio']\n",
    "sub_marks = [93, 94, 91, 95, 90]\n",
    "\n",
    "# {'Phy':93,'Che':94,..'Bio':90}"
   ]
  },
  {
   "cell_type": "code",
   "execution_count": 175,
   "metadata": {},
   "outputs": [
    {
     "name": "stdout",
     "output_type": "stream",
     "text": [
      "{'Phy': 90, 'Che': 90, 'Math': 90, 'Eng': 90, 'Bio': 90}\n"
     ]
    }
   ],
   "source": [
    "sub_names = ['Phy','Che','Math','Eng','Bio']\n",
    "sub_marks = [93, 94, 91, 95, 90]\n",
    "d1 = {}\n",
    "for i in sub_names:\n",
    "    for j in sub_marks:\n",
    "        d1[i] = j\n",
    "print(d1)\n"
   ]
  },
  {
   "cell_type": "code",
   "execution_count": 177,
   "metadata": {},
   "outputs": [
    {
     "name": "stdout",
     "output_type": "stream",
     "text": [
      "{'Phy': 93, 'Che': 94, 'Math': 91, 'Eng': 95, 'Bio': 90}\n"
     ]
    }
   ],
   "source": [
    "sub_names = ['Phy','Che','Math','Eng','Bio']\n",
    "sub_marks = [93, 94, 91, 95, 90]\n",
    "dict1 = {}\n",
    "\n",
    "for i in range(len(sub_names)):  # range(5)\n",
    "    dict1[sub_names[i]] = sub_marks[i]\n",
    "\n",
    "print(dict1)\n"
   ]
  },
  {
   "cell_type": "code",
   "execution_count": 187,
   "metadata": {},
   "outputs": [
    {
     "data": {
      "text/plain": [
       "{'Phy': 93, 'Che': 94, 'Math': 91, 'Eng': 95, 'Bio': 90}"
      ]
     },
     "execution_count": 187,
     "metadata": {},
     "output_type": "execute_result"
    }
   ],
   "source": [
    "sub_names = ['Phy','Che','Math','Eng','Bio']\n",
    "sub_marks = [93, 94, 91, 95, 90]\n",
    "dict1 = {}\n",
    "\n",
    "for i,key in enumerate(sub_names):  \n",
    "    dict1[key] = sub_marks[i]\n",
    "dict1"
   ]
  },
  {
   "cell_type": "code",
   "execution_count": 188,
   "metadata": {},
   "outputs": [
    {
     "data": {
      "text/plain": [
       "{'Phy': 93, 'Che': 94, 'Math': 91, 'Eng': 95, 'Bio': 90}"
      ]
     },
     "execution_count": 188,
     "metadata": {},
     "output_type": "execute_result"
    }
   ],
   "source": [
    "sub_names = ['Phy','Che','Math','Eng','Bio']\n",
    "sub_marks = [93, 94, 91, 95, 90]\n",
    "dict1 = {}\n",
    "\n",
    "for i,key in enumerate(sub_names):  \n",
    "    dict1.update({key:sub_marks[i]})\n",
    "    \n",
    "dict1"
   ]
  },
  {
   "cell_type": "code",
   "execution_count": 186,
   "metadata": {},
   "outputs": [
    {
     "data": {
      "text/plain": [
       "{'Phy': 93, 'Che': 94, 'Math': 91, 'Eng': 95, 'Bio': 90}"
      ]
     },
     "execution_count": 186,
     "metadata": {},
     "output_type": "execute_result"
    }
   ],
   "source": [
    "sub_names = ['Phy','Che','Math','Eng','Bio']\n",
    "sub_marks = [93, 94, 91, 95, 90]\n",
    "dict1 = {}\n",
    "count = 0\n",
    "for key in sub_names:  \n",
    "    dict1[key] = sub_marks[count]\n",
    "    count += 1\n",
    "dict1"
   ]
  },
  {
   "cell_type": "markdown",
   "metadata": {},
   "source": [
    "# square of 11 to 20 numbers\n"
   ]
  },
  {
   "cell_type": "raw",
   "metadata": {},
   "source": [
    "# {11:121,12:144,13:169,..,20:400}"
   ]
  },
  {
   "cell_type": "code",
   "execution_count": 192,
   "metadata": {},
   "outputs": [
    {
     "name": "stdout",
     "output_type": "stream",
     "text": [
      "{11: 121, 12: 144, 13: 169, 14: 196, 15: 225, 16: 256, 17: 289, 18: 324, 19: 361, 20: 400}\n"
     ]
    }
   ],
   "source": [
    "squares = {}\n",
    "for i in range(11,21):\n",
    "    squares[i] = i ** 2\n",
    "print(squares)"
   ]
  },
  {
   "cell_type": "code",
   "execution_count": 194,
   "metadata": {},
   "outputs": [
    {
     "name": "stdout",
     "output_type": "stream",
     "text": [
      "{11: 121, 12: 144, 13: 169, 14: 196, 15: 225, 16: 256, 17: 289, 18: 324, 19: 361, 20: 400, 21: 441, 22: 484, 23: 529, 24: 576, 25: 625, 26: 676, 27: 729, 28: 784, 29: 841, 30: 900}\n"
     ]
    }
   ],
   "source": [
    "squares = {}\n",
    "for i in range(11,31):\n",
    "    squares[i] = i ** 2\n",
    "print(squares)"
   ]
  },
  {
   "cell_type": "code",
   "execution_count": 203,
   "metadata": {},
   "outputs": [
    {
     "name": "stdout",
     "output_type": "stream",
     "text": [
      "{'data': 3, 'science': 1, 'is': 3, 'an': 7, 'interdisciplinary': 1, ' a ': 2, 'field': 1, 'that': 1, 'uses': 1, 'scientific': 1, 'methods,': 1, 'processes,': 1, 'algorithms': 1, 'and': 5, 'systems': 1, 'to': 1, 'extract': 1, 'knowledge': 2, 'insights': 2, 'from': 2, 'noisy,': 1, 'structured': 2, 'unstructured': 1, 'data,': 1, 'apply': 1, 'actionable': 1, 'across': 1, 'broad': 1, 'range': 1, 'of': 1, 'application': 1, 'domains': 1}\n"
     ]
    }
   ],
   "source": [
    "string = \"\"\"Data science is an interdisciplinary a field that uses scientific methods, \n",
    "processes, algorithms and systems to extract knowledge and insights from noisy, structured \n",
    "and unstructured data, and apply knowledge and actionable insights from data across a broad \n",
    "range of application domains\"\"\"\n",
    "\n",
    "string = string.lower()\n",
    "result = {}\n",
    "for word in string.split():\n",
    "    if len(word) == 1:\n",
    "        word = f\" {word} \"\n",
    "    result[word] = string.count(word)\n",
    "    \n",
    "print(result)"
   ]
  },
  {
   "cell_type": "markdown",
   "metadata": {},
   "source": [
    "# ASCII Values for alphabates"
   ]
  },
  {
   "cell_type": "raw",
   "metadata": {},
   "source": [
    "lower_case = {'a':97,'b':98,'z':122}\n",
    "upper_case = {'A':65,'B':66,'Z':90}"
   ]
  },
  {
   "cell_type": "code",
   "execution_count": 207,
   "metadata": {},
   "outputs": [
    {
     "name": "stdout",
     "output_type": "stream",
     "text": [
      "{'a': 97, 'b': 98, 'c': 99, 'd': 100, 'e': 101, 'f': 102, 'g': 103, 'h': 104, 'i': 105, 'j': 106, 'k': 107, 'l': 108, 'm': 109, 'n': 110, 'o': 111, 'p': 112, 'q': 113, 'r': 114, 's': 115, 't': 116, 'u': 117, 'v': 118, 'w': 119, 'x': 120, 'y': 121, 'z': 122}\n"
     ]
    }
   ],
   "source": [
    "lower_case = {}\n",
    "for i in range(97,123):\n",
    "    lower_case.update({chr(i):  i})\n",
    "print(lower_case)"
   ]
  },
  {
   "cell_type": "code",
   "execution_count": 211,
   "metadata": {},
   "outputs": [
    {
     "name": "stdout",
     "output_type": "stream",
     "text": [
      "{'A': 65, 'B': 66, 'C': 67, 'D': 68, 'E': 69, 'F': 70, 'G': 71, 'H': 72, 'I': 73, 'J': 74, 'K': 75, 'L': 76, 'M': 77, 'N': 78, 'O': 79, 'P': 80, 'Q': 81, 'R': 82, 'S': 83, 'T': 84, 'U': 85, 'V': 86, 'W': 87, 'X': 88, 'Y': 89, 'Z': 90}\n"
     ]
    }
   ],
   "source": [
    "upper_case = {}\n",
    "for i in range(65,91):\n",
    "    upper_case.update({chr(i):  i})\n",
    "print(upper_case)"
   ]
  },
  {
   "cell_type": "markdown",
   "metadata": {},
   "source": [
    "# Sort Dictionary using Keys"
   ]
  },
  {
   "cell_type": "code",
   "execution_count": 218,
   "metadata": {},
   "outputs": [
    {
     "data": {
      "text/plain": [
       "{'Bio': 90, 'Che': 94, 'Eng': 95, 'Math': 91, 'Phy': 93}"
      ]
     },
     "execution_count": 218,
     "metadata": {},
     "output_type": "execute_result"
    }
   ],
   "source": [
    "sub_marks = {'Phy': 93, 'Che': 94, 'Math': 91, 'Eng': 95, 'Bio': 90}\n",
    "new_dict = {}\n",
    "sorted_keys = sorted(sub_marks.keys())\n",
    "\n",
    "for key in sorted_keys:\n",
    "    new_dict[key] = sub_marks[key]\n",
    "new_dict"
   ]
  },
  {
   "cell_type": "code",
   "execution_count": 220,
   "metadata": {},
   "outputs": [
    {
     "data": {
      "text/plain": [
       "{'Bio': 90, 'Che': 94, 'Eng': 95, 'Math': 91, 'Phy': 93}"
      ]
     },
     "execution_count": 220,
     "metadata": {},
     "output_type": "execute_result"
    }
   ],
   "source": [
    "sub_marks = {'Phy': 93, 'Che': 94, 'Math': 91, 'Eng': 95, 'Bio': 90}\n",
    "new_dict = {}\n",
    "\n",
    "for key in sorted(sub_marks.keys()):\n",
    "    new_dict[key] = sub_marks[key]\n",
    "new_dict"
   ]
  },
  {
   "cell_type": "markdown",
   "metadata": {},
   "source": [
    "# Sort dict by using values"
   ]
  },
  {
   "cell_type": "code",
   "execution_count": null,
   "metadata": {},
   "outputs": [],
   "source": []
  }
 ],
 "metadata": {
  "kernelspec": {
   "display_name": "Python 3",
   "language": "python",
   "name": "python3"
  },
  "language_info": {
   "codemirror_mode": {
    "name": "ipython",
    "version": 3
   },
   "file_extension": ".py",
   "mimetype": "text/x-python",
   "name": "python",
   "nbconvert_exporter": "python",
   "pygments_lexer": "ipython3",
   "version": "3.7.3"
  }
 },
 "nbformat": 4,
 "nbformat_minor": 5
}
