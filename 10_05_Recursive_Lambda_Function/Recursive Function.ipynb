{
 "cells": [
  {
   "cell_type": "markdown",
   "id": "legal-refrigerator",
   "metadata": {},
   "source": [
    "# Recursive Function"
   ]
  },
  {
   "cell_type": "raw",
   "id": "equal-appreciation",
   "metadata": {},
   "source": [
    "When Function call itself called as recursive function"
   ]
  },
  {
   "cell_type": "code",
   "execution_count": 2,
   "id": "orange-confusion",
   "metadata": {},
   "outputs": [
    {
     "name": "stdout",
     "output_type": "stream",
     "text": [
      "Factorial of 5 is 120\n"
     ]
    }
   ],
   "source": [
    "n = 5\n",
    "fact = 1\n",
    "for i in range(1,n+1):\n",
    "    fact *= i\n",
    "print(f'Factorial of {n} is {fact}')"
   ]
  },
  {
   "cell_type": "code",
   "execution_count": 8,
   "id": "selective-integrity",
   "metadata": {},
   "outputs": [
    {
     "name": "stdout",
     "output_type": "stream",
     "text": [
      "Factorial of 6 is 720\n"
     ]
    }
   ],
   "source": [
    "def factorial(n):\n",
    "    fact = 1\n",
    "    for i in range(1,n+1):\n",
    "        fact *= i\n",
    "    return fact\n",
    "    \n",
    "n = 6\n",
    "val = factorial(n)\n",
    "print(f'Factorial of {n} is {val}')"
   ]
  },
  {
   "cell_type": "code",
   "execution_count": 13,
   "id": "documented-intake",
   "metadata": {},
   "outputs": [
    {
     "data": {
      "text/plain": [
       "24"
      ]
     },
     "execution_count": 13,
     "metadata": {},
     "output_type": "execute_result"
    }
   ],
   "source": [
    "def factorial(n):  #  n = 1\n",
    "    if n <= 1:    # True \n",
    "        return 1\n",
    "    \n",
    "    else:\n",
    "        return n * factorial(n-1)  # 5 * 4 * 3 * 2 * 1 = 120\n",
    "    \n",
    "factorial(5)"
   ]
  },
  {
   "cell_type": "raw",
   "id": "above-corporation",
   "metadata": {},
   "source": [
    "n = 5\n",
    "5 * factorial(4)\n",
    "5 * 4 * factorial(3)\n",
    "5 * 4 * 3 * factorial(2)\n",
    "5 * 4 * 3 * 2 * factorial(1)\n",
    "5 * 4 * 3 * 2 * 1"
   ]
  },
  {
   "cell_type": "markdown",
   "id": "developmental-climate",
   "metadata": {},
   "source": [
    "# Fibonacci Series "
   ]
  },
  {
   "cell_type": "code",
   "execution_count": null,
   "id": "three-andrew",
   "metadata": {},
   "outputs": [],
   "source": []
  }
 ],
 "metadata": {
  "kernelspec": {
   "display_name": "Python 3 (ipykernel)",
   "language": "python",
   "name": "python3"
  },
  "language_info": {
   "codemirror_mode": {
    "name": "ipython",
    "version": 3
   },
   "file_extension": ".py",
   "mimetype": "text/x-python",
   "name": "python",
   "nbconvert_exporter": "python",
   "pygments_lexer": "ipython3",
   "version": "3.9.1"
  }
 },
 "nbformat": 4,
 "nbformat_minor": 5
}
