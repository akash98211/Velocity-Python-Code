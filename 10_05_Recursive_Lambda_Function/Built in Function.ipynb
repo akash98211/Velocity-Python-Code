{
 "cells": [
  {
   "cell_type": "markdown",
   "id": "sapphire-limitation",
   "metadata": {},
   "source": [
    "# Built in Function"
   ]
  },
  {
   "cell_type": "code",
   "execution_count": null,
   "id": "advanced-appeal",
   "metadata": {},
   "outputs": [],
   "source": [
    "map\n",
    "zip\n",
    "filter\n",
    "chr\n",
    "list\n",
    "tuple\n",
    "set\n",
    "int"
   ]
  },
  {
   "cell_type": "markdown",
   "id": "global-flower",
   "metadata": {},
   "source": [
    "# 1. zip()"
   ]
  },
  {
   "cell_type": "code",
   "execution_count": 1,
   "id": "skilled-chance",
   "metadata": {},
   "outputs": [],
   "source": [
    "age = [40,34,35]\n",
    "name = ['sachin','virat','rohit']"
   ]
  },
  {
   "cell_type": "code",
   "execution_count": 4,
   "id": "searching-judgment",
   "metadata": {},
   "outputs": [],
   "source": [
    "sub_names = ['phy','che','math']\n",
    "marks = [90,93,92]\n",
    "# result = {'phy':90,'che':93,'math':92}"
   ]
  },
  {
   "cell_type": "code",
   "execution_count": 6,
   "id": "ready-russian",
   "metadata": {},
   "outputs": [
    {
     "data": {
      "text/plain": [
       "{'phy': 90, 'che': 93, 'math': 92}"
      ]
     },
     "execution_count": 6,
     "metadata": {},
     "output_type": "execute_result"
    }
   ],
   "source": [
    "result = dict()\n",
    "for i,val in enumerate(sub_names):\n",
    "    result[val] =  marks[i]\n",
    "result"
   ]
  },
  {
   "cell_type": "code",
   "execution_count": 8,
   "id": "nuclear-benjamin",
   "metadata": {},
   "outputs": [
    {
     "data": {
      "text/plain": [
       "{'sachin': 40, 'virat': 34, 'rohit': 35}"
      ]
     },
     "execution_count": 8,
     "metadata": {},
     "output_type": "execute_result"
    }
   ],
   "source": [
    "age = [40,34,35]\n",
    "name = ['sachin','virat','rohit']\n",
    "\n",
    "name_age = dict()\n",
    "for i,val in enumerate(name):\n",
    "    name_age[val] =  age[i]\n",
    "name_age"
   ]
  },
  {
   "cell_type": "code",
   "execution_count": 10,
   "id": "formal-affair",
   "metadata": {},
   "outputs": [
    {
     "data": {
      "text/plain": [
       "{'phy': 90, 'che': 93, 'math': 92}"
      ]
     },
     "execution_count": 10,
     "metadata": {},
     "output_type": "execute_result"
    }
   ],
   "source": [
    "sub_names = ['phy','che','math']\n",
    "marks = [90,93,92]\n",
    "\n",
    "dict(zip(sub_names,marks))"
   ]
  },
  {
   "cell_type": "code",
   "execution_count": 15,
   "id": "handy-ecology",
   "metadata": {},
   "outputs": [
    {
     "data": {
      "text/plain": [
       "{'sachin': 40, 'virat': 34, 'rohit': 35}"
      ]
     },
     "execution_count": 15,
     "metadata": {},
     "output_type": "execute_result"
    }
   ],
   "source": [
    "age = [40,34,35]\n",
    "name = ['sachin','virat','rohit']\n",
    "\n",
    "dict(zip(name,age))"
   ]
  },
  {
   "cell_type": "code",
   "execution_count": 24,
   "id": "asian-conservative",
   "metadata": {},
   "outputs": [
    {
     "data": {
      "text/plain": [
       "{'sachin': (40, 100), 'virat': (34, 120), 'rohit': (35, 130)}"
      ]
     },
     "execution_count": 24,
     "metadata": {},
     "output_type": "execute_result"
    }
   ],
   "source": [
    "age = [40,34,35]\n",
    "name = ['sachin','virat','rohit']\n",
    "score = [100,120,130]\n",
    "\n",
    "dict(zip(name,zip(age,score)))"
   ]
  },
  {
   "cell_type": "code",
   "execution_count": null,
   "id": "unlimited-personal",
   "metadata": {},
   "outputs": [],
   "source": []
  },
  {
   "cell_type": "markdown",
   "id": "inner-contrast",
   "metadata": {},
   "source": [
    "# 2. filter()"
   ]
  },
  {
   "cell_type": "code",
   "execution_count": null,
   "id": "nuclear-consideration",
   "metadata": {},
   "outputs": [],
   "source": [
    "It only return true value\n",
    "filter(function_name, iterable)  # only one iterable "
   ]
  },
  {
   "cell_type": "raw",
   "id": "cleared-distinction",
   "metadata": {},
   "source": [
    "list(filter(function_name, iterable))\n",
    "tuple(filter(function_name, iterable))"
   ]
  },
  {
   "cell_type": "code",
   "execution_count": 31,
   "id": "taken-celebrity",
   "metadata": {},
   "outputs": [
    {
     "data": {
      "text/plain": [
       "[2, 4, 6]"
      ]
     },
     "execution_count": 31,
     "metadata": {},
     "output_type": "execute_result"
    }
   ],
   "source": [
    "def even_numbers(val):\n",
    "    if val % 2 == 0:\n",
    "        return val\n",
    "    \n",
    "l1 = [2,3,4,5,6,7]\n",
    "\n",
    "list(filter(even_numbers, l1))"
   ]
  },
  {
   "cell_type": "code",
   "execution_count": 36,
   "id": "dedicated-intensity",
   "metadata": {},
   "outputs": [
    {
     "data": {
      "text/plain": [
       "[2, 4, 6]"
      ]
     },
     "execution_count": 36,
     "metadata": {},
     "output_type": "execute_result"
    }
   ],
   "source": [
    "l1 = [2,3,4,5,6,7]\n",
    "\n",
    "list(filter(lambda x : x % 2 == 0, l1))  "
   ]
  },
  {
   "cell_type": "code",
   "execution_count": 38,
   "id": "complicated-grill",
   "metadata": {},
   "outputs": [
    {
     "data": {
      "text/plain": [
       "[3, 5, 7]"
      ]
     },
     "execution_count": 38,
     "metadata": {},
     "output_type": "execute_result"
    }
   ],
   "source": [
    "l1 = [2,3,4,5,6,7]\n",
    "\n",
    "list(filter(lambda x : x % 2 != 0, l1))  "
   ]
  },
  {
   "cell_type": "code",
   "execution_count": 39,
   "id": "tamil-slovakia",
   "metadata": {},
   "outputs": [
    {
     "data": {
      "text/plain": [
       "[3, 5, 7]"
      ]
     },
     "execution_count": 39,
     "metadata": {},
     "output_type": "execute_result"
    }
   ],
   "source": [
    "l1 = (2,3,4,5,6,7)\n",
    "\n",
    "list(filter(lambda x : x % 2 != 0, l1))  "
   ]
  },
  {
   "cell_type": "code",
   "execution_count": 41,
   "id": "cross-lindsay",
   "metadata": {},
   "outputs": [
    {
     "data": {
      "text/plain": [
       "['D', 'S']"
      ]
     },
     "execution_count": 41,
     "metadata": {},
     "output_type": "execute_result"
    }
   ],
   "source": [
    "string = 'Data Science'\n",
    "\n",
    "list(filter(lambda x : x.isupper(), string))  "
   ]
  },
  {
   "cell_type": "code",
   "execution_count": 47,
   "id": "checked-winner",
   "metadata": {},
   "outputs": [
    {
     "data": {
      "text/plain": [
       "'atacience'"
      ]
     },
     "execution_count": 47,
     "metadata": {},
     "output_type": "execute_result"
    }
   ],
   "source": [
    "string = 'Data Science'\n",
    "a = list(filter(lambda x : x.islower(), string))  \n",
    "''.join(a)"
   ]
  },
  {
   "cell_type": "markdown",
   "id": "cubic-strike",
   "metadata": {},
   "source": [
    "# 3. map()"
   ]
  },
  {
   "cell_type": "raw",
   "id": "polar-guess",
   "metadata": {},
   "source": [
    "map(function_name, iterables)\n",
    "iterables >> one or more\n"
   ]
  },
  {
   "cell_type": "code",
   "execution_count": 49,
   "id": "relative-clause",
   "metadata": {},
   "outputs": [
    {
     "data": {
      "text/plain": [
       "[9, 16, 25, 36]"
      ]
     },
     "execution_count": 49,
     "metadata": {},
     "output_type": "execute_result"
    }
   ],
   "source": [
    "list1 = [3,4,5,6]\n",
    "list(map(lambda x : x**2, list1))"
   ]
  },
  {
   "cell_type": "code",
   "execution_count": 52,
   "id": "opening-psychiatry",
   "metadata": {},
   "outputs": [
    {
     "name": "stdout",
     "output_type": "stream",
     "text": [
      "a >> 3\n",
      "a >> 4\n",
      "a >> 5\n",
      "a >> 6\n",
      "a >> 7\n"
     ]
    },
    {
     "data": {
      "text/plain": [
       "[9, 16, 25, 36, 49]"
      ]
     },
     "execution_count": 52,
     "metadata": {},
     "output_type": "execute_result"
    }
   ],
   "source": [
    "list1 = [3,4,5,6,7]\n",
    "\n",
    "def sqr(a):\n",
    "    print('a >>',a)\n",
    "    return a ** 2\n",
    "\n",
    "list(map(sqr, list1))\n",
    "\n"
   ]
  },
  {
   "cell_type": "code",
   "execution_count": 53,
   "id": "billion-academy",
   "metadata": {},
   "outputs": [
    {
     "ename": "TypeError",
     "evalue": "<lambda>() missing 1 required positional argument: 'y'",
     "output_type": "error",
     "traceback": [
      "\u001b[1;31m---------------------------------------------------------------------------\u001b[0m",
      "\u001b[1;31mTypeError\u001b[0m                                 Traceback (most recent call last)",
      "\u001b[1;32m<ipython-input-53-e40994cc980c>\u001b[0m in \u001b[0;36m<module>\u001b[1;34m\u001b[0m\n\u001b[0;32m      1\u001b[0m \u001b[0mlist1\u001b[0m \u001b[1;33m=\u001b[0m \u001b[1;33m[\u001b[0m\u001b[1;36m3\u001b[0m\u001b[1;33m,\u001b[0m\u001b[1;36m4\u001b[0m\u001b[1;33m,\u001b[0m\u001b[1;36m5\u001b[0m\u001b[1;33m,\u001b[0m\u001b[1;36m6\u001b[0m\u001b[1;33m,\u001b[0m\u001b[1;36m7\u001b[0m\u001b[1;33m]\u001b[0m\u001b[1;33m\u001b[0m\u001b[1;33m\u001b[0m\u001b[0m\n\u001b[0;32m      2\u001b[0m \u001b[1;33m\u001b[0m\u001b[0m\n\u001b[1;32m----> 3\u001b[1;33m \u001b[0mlist\u001b[0m\u001b[1;33m(\u001b[0m\u001b[0mmap\u001b[0m\u001b[1;33m(\u001b[0m\u001b[1;32mlambda\u001b[0m \u001b[0mx\u001b[0m\u001b[1;33m,\u001b[0m\u001b[0my\u001b[0m \u001b[1;33m:\u001b[0m \u001b[0mx\u001b[0m \u001b[1;33m*\u001b[0m \u001b[0my\u001b[0m \u001b[1;33m,\u001b[0m\u001b[0mlist1\u001b[0m\u001b[1;33m)\u001b[0m\u001b[1;33m)\u001b[0m \u001b[1;31m# number of arguments are 2\u001b[0m\u001b[1;33m\u001b[0m\u001b[1;33m\u001b[0m\u001b[0m\n\u001b[0m",
      "\u001b[1;31mTypeError\u001b[0m: <lambda>() missing 1 required positional argument: 'y'"
     ]
    }
   ],
   "source": [
    "list1 = [3,4,5,6,7]\n",
    "\n",
    "list(map(lambda x,y : x * y ,list1)) # number of arguments are 2"
   ]
  },
  {
   "cell_type": "code",
   "execution_count": null,
   "id": "prime-bishop",
   "metadata": {},
   "outputs": [],
   "source": [
    "list1 = [3,4,5,6]\n",
    "list(map(lambda x : x**2, list1)) # number of arguments is 1"
   ]
  },
  {
   "cell_type": "code",
   "execution_count": 61,
   "id": "ecological-salem",
   "metadata": {},
   "outputs": [
    {
     "data": {
      "text/plain": [
       "[30, 80, 150, 240, 350]"
      ]
     },
     "execution_count": 61,
     "metadata": {},
     "output_type": "execute_result"
    }
   ],
   "source": [
    "list1 = [3,4,5,6,7]\n",
    "list2 = [10,20,30,40,50]\n",
    "\n",
    "list(map(lambda x,y : x * y ,list1,list2)) # number of arguments are 2"
   ]
  },
  {
   "cell_type": "code",
   "execution_count": 71,
   "id": "parallel-survival",
   "metadata": {},
   "outputs": [
    {
     "data": {
      "text/plain": [
       "[30, 40, 50, 60, 70]"
      ]
     },
     "execution_count": 71,
     "metadata": {},
     "output_type": "execute_result"
    }
   ],
   "source": [
    "list1 = [3,4,5,6,7]\n",
    "list2 = [10,20,30,40,50]\n",
    "\n",
    "list(map(lambda x : x * 10 , list1)) # number of arguments are 2"
   ]
  },
  {
   "cell_type": "code",
   "execution_count": 72,
   "id": "nominated-captain",
   "metadata": {},
   "outputs": [
    {
     "data": {
      "text/plain": [
       "[30, 80, 150, 240, 350]"
      ]
     },
     "execution_count": 72,
     "metadata": {},
     "output_type": "execute_result"
    }
   ],
   "source": [
    "list1 = [3,4,5,6,7]\n",
    "list2 = [10,20,30,40,50]\n",
    "\n",
    "list(map(lambda x,y : x * y , list1,list2)) # number of arguments are 2"
   ]
  },
  {
   "cell_type": "code",
   "execution_count": 66,
   "id": "documented-sustainability",
   "metadata": {},
   "outputs": [
    {
     "data": {
      "text/plain": [
       "['P', 'Y', 'T', 'H', 'O', 'N']"
      ]
     },
     "execution_count": 66,
     "metadata": {},
     "output_type": "execute_result"
    }
   ],
   "source": [
    "list(map(lambda x : x.upper(), 'python'))"
   ]
  },
  {
   "cell_type": "code",
   "execution_count": 68,
   "id": "equivalent-establishment",
   "metadata": {},
   "outputs": [
    {
     "data": {
      "text/plain": [
       "['PYTHON', 'DATA SCIENCE']"
      ]
     },
     "execution_count": 68,
     "metadata": {},
     "output_type": "execute_result"
    }
   ],
   "source": [
    "list(map(lambda x : x.upper(), ['python','Data Science']))"
   ]
  },
  {
   "cell_type": "code",
   "execution_count": 69,
   "id": "purple-controversy",
   "metadata": {},
   "outputs": [
    {
     "data": {
      "text/plain": [
       "['python', 'data science']"
      ]
     },
     "execution_count": 69,
     "metadata": {},
     "output_type": "execute_result"
    }
   ],
   "source": [
    "list(map(lambda x : x.lower(), ['python','Data Science']))"
   ]
  },
  {
   "cell_type": "code",
   "execution_count": 70,
   "id": "occupational-region",
   "metadata": {},
   "outputs": [
    {
     "data": {
      "text/plain": [
       "['pythonpython', 'Data ScienceData Science']"
      ]
     },
     "execution_count": 70,
     "metadata": {},
     "output_type": "execute_result"
    }
   ],
   "source": [
    "list(map(lambda x : x * 2, ['python','Data Science']))"
   ]
  }
 ],
 "metadata": {
  "kernelspec": {
   "display_name": "Python 3 (ipykernel)",
   "language": "python",
   "name": "python3"
  },
  "language_info": {
   "codemirror_mode": {
    "name": "ipython",
    "version": 3
   },
   "file_extension": ".py",
   "mimetype": "text/x-python",
   "name": "python",
   "nbconvert_exporter": "python",
   "pygments_lexer": "ipython3",
   "version": "3.9.1"
  }
 },
 "nbformat": 4,
 "nbformat_minor": 5
}
