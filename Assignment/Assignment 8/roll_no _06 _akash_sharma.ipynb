{
 "cells": [
  {
   "cell_type": "markdown",
   "metadata": {},
   "source": [
    "# 1. What Is Object-Oriented Programming?\n"
   ]
  },
  {
   "cell_type": "code",
   "execution_count": null,
   "metadata": {},
   "outputs": [],
   "source": [
    "1>> OOPS full form is object oriented progtamming.\n",
    "\n",
    "2>>OOP is pragramming paradigm uses class Classes are like BLUE PRINT of an object and OBJECTS are like real world entities.\n",
    "\n",
    "\n",
    "3>> Main Concepts of Object-Oriented Programming (OOPs) :- Class Objects Polymorphism Encapsulation\n",
    "Inheritance\n",
    "\n",
    "4>> Object oriented programming language aims is to used the real world\n",
    "entities such as inheritance,Encapsulation and\n",
    " Polymorphism etc.\n",
    "\n",
    "5>> The main concept of object oriented programming is to bind the data and\n",
    "function all together in the single unit. so that no other parts of the code can access this data"
   ]
  },
  {
   "cell_type": "markdown",
   "metadata": {},
   "source": [
    "# 2. Difference between Procedural programming and OOPs?\n"
   ]
  },
  {
   "cell_type": "code",
   "execution_count": null,
   "metadata": {},
   "outputs": [],
   "source": [
    "1)Procedural programming :-\n",
    "    1.)In procedural programming, program is  divided into small parts called functions.\n",
    "    2.)Procedural programming follows top to down approach. \n",
    "    3.)In procedural programming there is no such access modifiers.\n",
    "\n",
    "    4. Adding new data and function is not easy.\n",
    "    5. It is less secure than object oriented programming language\n",
    "    \n",
    "2)OOPs :-\n",
    "    1.In object oriented programming, program is divided into small parts called objects."
   ]
  },
  {
   "cell_type": "code",
   "execution_count": null,
   "metadata": {},
   "outputs": [],
   "source": [
    "      Procedural Oriented Programming                        Object Oriented Programming\n",
    "    \n",
    "1)In procedural programming, program is          1)In object oriented programming, program is\n",
    " divided into small parts called functions.        divided into small parts called objects.\n",
    "\n",
    "2)Procedural programming follows top             2)Object oriented programming follows bottom\n",
    " down approach.                                    up approach.\n",
    "\n",
    "3)There is no access specifier in                3)Object oriented programming have access\n",
    "procedural programming.                            specifiers like private, public, protected etc.\n",
    "\n",
    "4)Adding new data and function is not easy.      4)Adding new data and function is easy.\n",
    "\n",
    "5)Procedural programming does not have any       5)Object oriented programming provides data \n",
    "proper way for hiding data so it is less secure.   hiding so it is more secure.\n",
    "\n",
    "6)In procedural programming, overloading         6)Overloading is possible in object oriented\n",
    "is not possible.                                    programming.\n",
    "\n",
    "7)In procedural programming, function is         7)In object oriented programming, data is\n",
    "more important than data.                           more important than function.\n",
    "\n",
    "8)Procedural programming is based on             8)bject oriented programming is based on real world.\n",
    "unreal world.\n",
    "\n",
    "9)Examples: procedual langauge are used in       9)Examples: oops used in C++, Java, Python, C# etc.\n",
    "   C, FORTRAN, Pascal, Basic etc."
   ]
  },
  {
   "cell_type": "markdown",
   "metadata": {},
   "source": [
    "# 3. What are the fundamental principles/features of Object-Oriented Programming?\n"
   ]
  },
  {
   "cell_type": "code",
   "execution_count": null,
   "metadata": {},
   "outputs": [],
   "source": [
    "There are the four main funcdamental principle of object oriented programming\n",
    "language:\n",
    "1>> Inheritance\n",
    "2>> Encapsulation\n",
    "3>> Polymorphism\n",
    "4>> Abstraction"
   ]
  },
  {
   "cell_type": "markdown",
   "metadata": {},
   "source": [
    "# 4. What is an object?"
   ]
  },
  {
   "cell_type": "code",
   "execution_count": null,
   "metadata": {},
   "outputs": [],
   "source": [
    "1.object is a real world entities i,e tablet ,car, house, mobile price ar real world entities.\n",
    "2.object is a instance of class.\n",
    "3.everything in python is object . string ,list ,dict are bject.\n",
    "4.An object consists of : \n",
    "\n",
    "    State: It is represented by the attributes of an object. It also reflects the properties of an object.\n",
    "\n",
    "    Behavior: It is represented by the methods of an object. It also reflects the response of an object to other objects.\n",
    "\n",
    "    Identity: It gives a unique name to an object and enables one object to interact with other objects.\n",
    "\n",
    "        -e.g. dog has states asn like name, clor etc. and behavour like barking"
   ]
  },
  {
   "cell_type": "markdown",
   "metadata": {},
   "source": [
    "# 5. What is a class?\n"
   ]
  },
  {
   "cell_type": "code",
   "execution_count": null,
   "metadata": {},
   "outputs": [],
   "source": [
    "1.Class is the blue print of an object\n",
    "2. Class contain variable and methods\n",
    "3.blueprint  which is consisting of method and varible.\n",
    "4.class is collection of multiple object."
   ]
  },
  {
   "cell_type": "markdown",
   "metadata": {},
   "source": [
    "# 6. What is the difference between a class and an object?\n"
   ]
  },
  {
   "cell_type": "code",
   "execution_count": null,
   "metadata": {},
   "outputs": [],
   "source": [
    "                Class                                             Object\n",
    "\n",
    "1)Class is used as a template for                 1)An object is an instance of a class.\n",
    "declaring and creating the objects.\n",
    "\n",
    "2)When a class is created, no memory              2)Objects are allocated memory space\n",
    "is allocated.                                        whenever they are created.\n",
    "\n",
    "3)The class has to be declared only once.         3)An object is created many times as per\n",
    "                                                      requirement.\n",
    "\n",
    "4)A class cannot be manipulated as they are not    4) Objects can be manipulated.\n",
    "available in the memory.\n",
    "\n",
    "5)A class is a logical entity.                      5)An object is a physical entity.\n",
    "\n",
    "6)It is declared with the class keyword             6)It is created with a , objName.className() ,class name in C++ and\n",
    "                                                     with the new keywords in Java.\n",
    "\n",
    "7)Class does not contain any values which Each      7)object has its own values, which are\n",
    "can be associated with the field.                       associated with it.\n",
    "\n",
    "8)A class is used to bind data as well as methods   8) Objects are like a variable of the class.\n",
    " together as a single unit."
   ]
  },
  {
   "cell_type": "markdown",
   "metadata": {},
   "source": [
    "#    Class:\n",
    "        \n",
    "1>> A class is a blueprint from which we can create an object\n",
    "2>> A class is used to bind the variable and method in a single unit\n",
    "3>> Class have a logical existence\n",
    "4>> Class doesn't take any memory space while creating a class\n",
    "5>> Class has to be declared only onces\n",
    " \n",
    "\n",
    "    Objects:\n",
    "        \n",
    "1>> An object is the instance of class by which we can access the variable and\n",
    "method of class\n",
    "2>> Object act's like a variable of the class\n",
    "3>> Object have a physical existence\n",
    "4>> An object take memory when we create an object of the class\n",
    "5>> Object can be declared multiple times depending on the requirement\n"
   ]
  },
  {
   "cell_type": "markdown",
   "metadata": {},
   "source": [
    "# 7. Can you call the base class method without creating an instance?"
   ]
  },
  {
   "cell_type": "code",
   "execution_count": null,
   "metadata": {},
   "outputs": [],
   "source": [
    "Yes, We can do that but in that case we need to inherit the base class in the\n",
    "child class.\n",
    "\n",
    "\n",
    "yes. a base class method can be called wityhot using instance.\n",
    "the way is by using inheritance.\n",
    "in inheritace other class which can be called child class inherits all the variable and met\n",
    "and can be called using instance of child class."
   ]
  },
  {
   "cell_type": "markdown",
   "metadata": {},
   "source": [
    "# 8. What is inheritance?\n"
   ]
  },
  {
   "cell_type": "code",
   "execution_count": null,
   "metadata": {},
   "outputs": [],
   "source": [
    "1>> Inheritance is the one of the fundamental features of object oriented\n",
    "programming language\n",
    "\n",
    "2>> Inheritnace meaning we can inherate one class properties in other class\n",
    "\n",
    "3>>Inheritance is used to access the variable and methods from the base class\n",
    "into the derived class\n",
    "\n",
    "4>> with the help of inheritance we can reduse or reuse the block of code."
   ]
  },
  {
   "cell_type": "markdown",
   "metadata": {},
   "source": [
    "# 9. What are the different types of inheritance?"
   ]
  },
  {
   "cell_type": "code",
   "execution_count": null,
   "metadata": {},
   "outputs": [],
   "source": [
    "1)Normal or Single Inheritance:In Normal Inheritance there is only one Base and\n",
    "  Derived class\n",
    "\n",
    "2)multilevel inheretance :-  features of the base class and the derived class are further \n",
    "     inherited into the new derived class. This is similar to a relationship representing\n",
    "    a child and grandfather. eg, grandfather >> father >> child\n",
    "    \n",
    "3)Multiple inheritance:   There is one Derived class with multiple Base class\n",
    "                          e.g father >>child  and mother >> child\n",
    "        \n",
    "Hierarchical Inheritance: When more than one derived classes are created from a single base \n",
    "                          this type of inheritance is called hierarchical inheritance.\n",
    "                    In this program, we have a parent (base) class and two child (derived) classes."
   ]
  },
  {
   "cell_type": "markdown",
   "metadata": {},
   "source": [
    "# 10. What is the difference between multiple and multilevel inheritances?"
   ]
  },
  {
   "cell_type": "code",
   "execution_count": null,
   "metadata": {},
   "outputs": [],
   "source": [
    "1)  multilevel inheretance :-  features of the base class and the derived class are further \n",
    "     inherited into the new derived class. This is similar to a relationship representing\n",
    "    a child and grandfather. eg, grandfather >> father >> child\n",
    "\n",
    "Syntax is:\n",
    " \n",
    "class GrandFather(): # Base Class\n",
    " def __init__(self):\n",
    " print(\"we are in grandfather class\")\n",
    " \n",
    "class Father(GrandFather): # Derived Class of above class and it is a base\n",
    " def __init__(self):\n",
    " print(\"we are in father class\")\n",
    "\n",
    "class Son(Father): # Derived Class of the above class\n",
    " def __init__(self):\n",
    " print(\"we are in Son class\")\n",
    "\n",
    "\n",
    "2)Multiple Inheritance: In Multiple Inheritance There is one Derived class with\n",
    "multiple Base class\n",
    "\n",
    "Syntax is:\n",
    " \n",
    "class Father(): # Base Class\n",
    " def __init__(self):\n",
    " print(\"we are in Father class\")\n",
    "\n",
    "class Mother(): # Base Class\n",
    " def __init__(self):\n",
    " print(\"we are in Mother class\")\n",
    " \n",
    "class Son(Father,Mother): # Derived Class of all the above class\n",
    " def __init__(self):\n",
    " print(\"we are in Son class\")\n"
   ]
  },
  {
   "cell_type": "markdown",
   "metadata": {},
   "source": [
    "# 11. What are the limitations of inheritance?"
   ]
  },
  {
   "cell_type": "code",
   "execution_count": null,
   "metadata": {},
   "outputs": [],
   "source": [
    "Disadvantages:-\n",
    "\n",
    "    1.Inherited functions work slower than normal function as there is indirection.\n",
    "\n",
    "    2.Improper use of inheritance may lead to wrong solutions.\n",
    "      Often, data members in the base class are left unused which may lead to memory wastage.\n",
    "\n",
    "\n",
    "    3.Inheritance increases the coupling between base class and derived class.\n",
    "\n",
    "\n",
    "    4.A change in base class will affect all the child classes.\n",
    "\n",
    "    \n",
    "Advantages:\n",
    "\n",
    "    1.Inheritance promotes reusability. When a class inherits or derives another class,\n",
    "\n",
    "    2.it can access all the functionality of inherited class.\n",
    "\n",
    "    3.Reusability enhanced reliability. The base class code will be already tested\n",
    "      and debugged.\n",
    "\n",
    "    4.As the existing code is reused, it leads to less development and maintenance costs.\n",
    " \n",
    "    5.Inheritance makes the sub classes follow a standard interface.\n",
    "\n",
    "    6.Inheritance helps to reduce code redundancy and support"
   ]
  },
  {
   "cell_type": "markdown",
   "metadata": {},
   "source": [
    "# 12. What are the superclass and subclass?\n"
   ]
  },
  {
   "cell_type": "code",
   "execution_count": null,
   "metadata": {},
   "outputs": [],
   "source": [
    "Superclass \n",
    "\n",
    "1>>Superclass is also known as parent class and base class \n",
    "2>>super class is the parent or base class for the derived class\n",
    "\n",
    "Subclass \n",
    "\n",
    "1>>Subclass is also known as child class and derived class \n",
    "2>>Subclass is the derived class where we can access all the properties of base class or super class\n"
   ]
  },
  {
   "cell_type": "markdown",
   "metadata": {},
   "source": [
    "# 13. What is the super keyword?"
   ]
  },
  {
   "cell_type": "code",
   "execution_count": null,
   "metadata": {},
   "outputs": [],
   "source": [
    "1.Super keyword is used to call the init method of base class into child class \n",
    "2.syntax is : super.__init__()\n",
    "3.a parent class can be referred to with the use of the super() function.\n",
    "4.Super keyword is used to call the  method of base class into child class\n",
    "\n",
    "*The benefits of using a super function are:-\n",
    " 1.Need not remember or specify the parent class name to access its methods.\n",
    " 2.This function can be used both in single and multiple inheritances.\n",
    " 3.This implements modularity (isolating changes) and code reusability as there is no\n",
    " need to rewrite the entire function.\n",
    " 4.Super function in Python is called dynamically because Python is a dynamic\n",
    " language unlike other languages."
   ]
  },
  {
   "cell_type": "markdown",
   "metadata": {},
   "source": [
    "# 14. What is encapsulation?"
   ]
  },
  {
   "cell_type": "code",
   "execution_count": null,
   "metadata": {},
   "outputs": [],
   "source": [
    "1>> Encapsulation is one of the fundamental concepts in object-oriented\n",
    "programming.\n",
    "\n",
    "2>> It describes the idea of wrapping data and the methods that work on data\n",
    "within one unit.\n",
    "\n",
    "3>> This puts restrictions on accessing variables and methods directly and can\n",
    "prevent the accidental modification of data.\n",
    "\n",
    "4>>Encapulation is use to make methods and variables private to avoid modification and the\n",
    "methods cant be accesed from outside the class'\n",
    "\n",
    "5>>Protecting data from modification of private variable/methods\n",
    "\n",
    "6>>Syntax >> __variablename  for private varible\n",
    "             __methodename   for private method\n",
    "    \n",
    "7>>if varible is privateor method is private then we can't accssed ya modified it from \n",
    "    outside the class"
   ]
  },
  {
   "cell_type": "markdown",
   "metadata": {},
   "source": [
    "# 15. What is the name mangling and how does it work?"
   ]
  },
  {
   "cell_type": "code",
   "execution_count": null,
   "metadata": {},
   "outputs": [],
   "source": [
    "1.Name mangling: It is used to access or modify the private variable or private\n",
    "                 method from outside of the class\n",
    "\n",
    "2.Syntax is:\n",
    " obj._ClassName__Variable/method()\n",
    " Object._ClassName__privatevariable\n",
    " Object._ClassName__privatemethod\n",
    "\n",
    "\n",
    "3.e.g\n",
    "class Employee():\n",
    "    def _init_(self,name):\n",
    "        self.name=name\n",
    "    \n",
    "    def emp_det(self,empname):\n",
    "        __empname=\"sagar\"\n",
    "        print(\"empname\", __empname)\n",
    "        \n",
    "     obj=Employee()\n",
    " \n",
    "obj._Employee.__empname()        >> o/p >> \"sagar\""
   ]
  },
  {
   "cell_type": "markdown",
   "metadata": {},
   "source": [
    "# 16. What is the difference between public and private access modifiers?"
   ]
  },
  {
   "cell_type": "code",
   "execution_count": null,
   "metadata": {},
   "outputs": [],
   "source": [
    "Public Access Modifier:\n",
    "The members of a class that are declared public are easily accessible from any\n",
    "part of the program. All data members and member functions of a class are public by\n",
    "default.\n",
    "\n",
    "Protected Access Modifier:\n",
    "The members of a class that are declared protected are only accessible to a class\n",
    "derived from it. Data members of a class are declared protected by adding a single\n",
    "underscore ‘_’ symbol before the data member of that class.\n",
    "\n",
    "Private Access Modifier:\n",
    "The members of a class that are declared private are accessible within the class\n",
    "only, private access modifier is the most secure access modifier. Data members of a\n",
    "class are declared private by adding a double underscore ‘__’ symbol before the data\n",
    "member of that class."
   ]
  },
  {
   "cell_type": "markdown",
   "metadata": {},
   "source": [
    "# 17. Is Python 100 percent object-oriented?\n"
   ]
  },
  {
   "cell_type": "code",
   "execution_count": null,
   "metadata": {},
   "outputs": [],
   "source": [
    "1.Python supports all the concept of \"object oriented programming\" but it is NOT\n",
    "fully object oriented because\n",
    "\n",
    "2.The code in Python can also be written without creating classes\n",
    "\n",
    "3.Why Python is not pure object oriented language?\n",
    " Python supports most of the terms associated with OOP language except strong encapsulation.\n",
    " It is not completely Object oriented because Guido never believed in hiding things \n"
   ]
  },
  {
   "cell_type": "markdown",
   "metadata": {},
   "source": [
    "# 18. What is data abstraction?"
   ]
  },
  {
   "cell_type": "code",
   "execution_count": null,
   "metadata": {},
   "outputs": [],
   "source": [
    "1>> Abstraction is used to hide the internal functionality of the function from\n",
    "the users.\n",
    "\n",
    "2>>The users only interact with the basic implementation of the function, but\n",
    "inner working is hidden.\n",
    "\n",
    "3>>User is familiar with that \"what function does\" but they don't know \"how it\n",
    "does.\"\n",
    "\n",
    "4>> Abstraction means displaying only essential information\n",
    "and hiding the details.\n",
    "\n",
    "5>>' Abstraction is use to defined specific methods those are going to used in every classe\n",
    "Abstraction cant be used for implemenation only use for declaration"
   ]
  },
  {
   "cell_type": "markdown",
   "metadata": {},
   "source": [
    "# 19. How to achieve data abstraction?"
   ]
  },
  {
   "cell_type": "code",
   "execution_count": null,
   "metadata": {},
   "outputs": [],
   "source": [
    "1>>In Python, abstraction can be achieved by using abstract classes and\n",
    "interfaces.\n",
    "\n",
    "2>>A class that consists of one or more abstract method is called the abstract\n",
    "class.\n",
    "\n",
    "3>>Abstract methods do not contain their implementation.\n",
    "\n",
    "4>>Abstract class can be inherited by the subclass and abstract method gets its\n",
    "definition in the subclass.\n",
    "\n",
    "5>>In Python, we can achieve abstraction using ABC (abstraction class) or abstract method\n",
    "ABC is a class from the abc module in Python. ...\n",
    "\n",
    "6>>When we annotate any method with an abstractmethod keyword, then it is an abstract method"
   ]
  },
  {
   "cell_type": "markdown",
   "metadata": {},
   "source": [
    "# 20. What is an abstract class?\n"
   ]
  },
  {
   "cell_type": "code",
   "execution_count": null,
   "metadata": {},
   "outputs": [],
   "source": [
    "1>> A class containing one or more abstract methods is called an abstract\n",
    "class.\n",
    "\n",
    "2>> Abstract methods do not contain any implementation. Instead, all the\n",
    "implementations can be defined in the methods\n",
    "of sub-classes that inherit the abstract class.\n",
    "\n",
    "3>> An abstract class is created by importing a class named 'ABC' from the\n",
    "'abc' module and inheriting the 'ABC' class.\n",
    "\n",
    "4>>Syntax is:\n",
    "                from abc import ABC\n",
    "                Class ClassName(ABC):\n"
   ]
  },
  {
   "cell_type": "markdown",
   "metadata": {},
   "source": [
    "# 21. Can you create an object of an abstract class?"
   ]
  },
  {
   "cell_type": "code",
   "execution_count": null,
   "metadata": {},
   "outputs": [],
   "source": [
    "No, We can not create an object of an abstract class\n"
   ]
  },
  {
   "cell_type": "code",
   "execution_count": null,
   "metadata": {},
   "outputs": [],
   "source": [
    "1.Abstract classes are incomplete because they have methods that have nobody.\n",
    "\n",
    "2.If python allows creating an object for abstract classes then using that object if\n",
    "anyone calls the abstract method, \n",
    "\n",
    "3.but there is no actual implementation to invoke.\n",
    "\n",
    "4.So we use an abstract class as a template and according to the need, we extend it\n",
    "and build on it before we can use it. \n",
    "\n",
    "5.Due to the fact, an abstract class is not a concrete class"
   ]
  },
  {
   "cell_type": "markdown",
   "metadata": {},
   "source": [
    "# 22. Differentiate between data abstraction and encapsulation"
   ]
  },
  {
   "cell_type": "code",
   "execution_count": null,
   "metadata": {},
   "outputs": [],
   "source": [
    "Abstraction:\n",
    "1. Abstraction works on the design level.\n",
    "2. Abstraction is implemented to hide unnecessary data and withdrawing relevant\n",
    "data.\n",
    "3. It highlights what the work of an object instead of how the object works is.\n",
    "4. Abstraction focuses on outside viewing, for example, shifting the car.\n",
    "5. Abstraction is supported in Python with the help of abc module.\n",
    "\n",
    "\n",
    "Encapsulation:\n",
    "1. Encapsulation works on the application level.\n",
    "\n",
    "2. Encapsulation is the mechanism of hiding the code and the data together from\n",
    "   the outside world or misuse.\n",
    "\n",
    "3. It focuses on the inner details of how the object works. Modifications can\n",
    "   be done later to the settings.\n",
    "\n",
    "4. Encapsulation focuses on internal working or inner viewing, for example, the\n",
    "   production of the car.\n",
    "\n",
    "5. Encapsulation is supported using, e.g. public, private and secure access\n",
    "   modification systems."
   ]
  },
  {
   "cell_type": "markdown",
   "metadata": {},
   "source": [
    "# 23. What is polymorphism?"
   ]
  },
  {
   "cell_type": "code",
   "execution_count": null,
   "metadata": {},
   "outputs": [],
   "source": [
    "1>> The word Polymorphism stands for many forms or It means one name many forms.\n",
    "\n",
    "2>> When the methods have the identical name but the functionality is different\n",
    "then we can say it is a polymorphism.\n"
   ]
  },
  {
   "cell_type": "markdown",
   "metadata": {},
   "source": [
    "# 24. What is the overloading method?\n"
   ]
  },
  {
   "cell_type": "code",
   "execution_count": null,
   "metadata": {},
   "outputs": [],
   "source": [
    "1>> When the method of base class is present in the child class with same\n",
    "method name but with differnet functionality\n",
    " then it is called the method overloading\n",
    "\n",
    "2>> while calling the same method by creating the object of child class will\n",
    "over load the methods of base class with\n",
    " the method present in the child class\n",
    "\n",
    "3>>E.g\n",
    "\n",
    "class Father():\n",
    " def gender(self):\n",
    " print(\"MALE\")\n",
    "\n",
    "class Child(Father):\n",
    " def gender(self):\n",
    " print(\"FEMALE\")\n",
    "\n",
    "Obj = Child()\n",
    "\n",
    "Obj.gender()       # here we do the method over loading the output will be (FEMALE)\n"
   ]
  },
  {
   "cell_type": "markdown",
   "metadata": {},
   "source": [
    "# 25. What are the limitations of OOPs?"
   ]
  },
  {
   "cell_type": "code",
   "execution_count": null,
   "metadata": {},
   "outputs": [],
   "source": [
    "Following are the Limitation of OOPs:\n",
    "1>>he length of the programmes developed using OOP language is much larger than\n",
    "the procedural approach.\n",
    "\n",
    "2>>The programme becomes larger in size, it requires more time to be executed\n",
    "that leads to slower execution of the programme.\n",
    "\n",
    "3>>We can not apply OOP everywhere as it is not a universal language. It is\n",
    "applied only when it is required.\n",
    "\n",
    "4>>Programmers need to have brilliant and programming skill along with proper\n",
    "planning because using OOP is little bit tricky.\n",
    "\n",
    "5>>OOPs take time to get used to it.\n",
    "\n",
    "6>>The thought process involved in object-oriented programming may not be\n",
    "natural for some people.\n",
    "\n",
    "7>>Everything is treated as object in OOP so before applying it we need to have\n",
    "excellent thinking in terms of objects."
   ]
  },
  {
   "cell_type": "code",
   "execution_count": null,
   "metadata": {},
   "outputs": [],
   "source": []
  }
 ],
 "metadata": {
  "kernelspec": {
   "display_name": "Python 3",
   "language": "python",
   "name": "python3"
  },
  "language_info": {
   "codemirror_mode": {
    "name": "ipython",
    "version": 3
   },
   "file_extension": ".py",
   "mimetype": "text/x-python",
   "name": "python",
   "nbconvert_exporter": "python",
   "pygments_lexer": "ipython3",
   "version": "3.7.3"
  }
 },
 "nbformat": 4,
 "nbformat_minor": 2
}
