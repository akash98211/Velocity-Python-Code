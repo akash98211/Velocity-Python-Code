{
 "cells": [
  {
   "cell_type": "markdown",
   "metadata": {},
   "source": [
    "# Assignment NO :- 1\n",
    "\n",
    "Topics: Variables, String, int, float"
   ]
  },
  {
   "cell_type": "markdown",
   "metadata": {},
   "source": [
    "# 1. What are the key features of Python?"
   ]
  },
  {
   "cell_type": "markdown",
   "metadata": {},
   "source": [
    "\n",
    "1. Python is interpreted language(does not require prior compilation)\n",
    "\n",
    "2. Object oriented Language, High level programming\n",
    "\n",
    "3. Simple to debug\n",
    "\n",
    "4. Free and open source\n",
    "\n",
    "5. Vast library support ()\n",
    "\n",
    "6. Dynamically typed language\n",
    "\n",
    "7. Programmer friendly Language (Easy to write, learn and read)"
   ]
  },
  {
   "cell_type": "markdown",
   "metadata": {},
   "source": [
    "# 2. What are the Data Types in Python?"
   ]
  },
  {
   "cell_type": "markdown",
   "metadata": {},
   "source": [
    "The Data type in python are shown below :-\n",
    "    \n",
    "    1)Numeric : int, float, complex\n",
    "    \n",
    "    2)text : str\n",
    "   \n",
    "    3)sequence : list, tuple, range\n",
    "    \n",
    "    4)mapping : dict (Key value pair)\n",
    "\n",
    "    5)setDT : set, frozenset\n",
    "\n",
    "    6)Boolean : bool (True/False)\n",
    "    \n",
    "    7)Binary : bytes"
   ]
  },
  {
   "cell_type": "markdown",
   "metadata": {},
   "source": [
    "# 3. What are local variables and global variables in Python?"
   ]
  },
  {
   "cell_type": "markdown",
   "metadata": {},
   "source": [
    "The location where we find a varible and also access if it required is called Scope of varible\n",
    "the scope of varible are of two type such as Global varible and local varible \n",
    "\n",
    "1)Global Varible :- global varible are defined and declared outside of any function,and not specific to function.they can be used by any part of program\n",
    "\n",
    "\n"
   ]
  },
  {
   "cell_type": "code",
   "execution_count": 4,
   "metadata": {},
   "outputs": [
    {
     "name": "stdout",
     "output_type": "stream",
     "text": [
      "python is basic of Data science\n",
      "Me too.\n",
      "python is basic of Data science\n"
     ]
    }
   ],
   "source": [
    "def f():  \n",
    "    print(string) \n",
    "    \n",
    "    # This program will NOT show error \n",
    "    # if we comment below line.  \n",
    "    str1 = \"Me too.\"\n",
    "    \n",
    "    print(str1)\n",
    "    \n",
    "# Global scope \n",
    "string = \"python is basic of Data science\" \n",
    "f() \n",
    "print(string)"
   ]
  },
  {
   "cell_type": "markdown",
   "metadata": {},
   "source": [
    "2) Local Varible :- local varible are defined and declared inside of function and local varible can access only inside the function and not to outside the function. to tonly function"
   ]
  },
  {
   "cell_type": "code",
   "execution_count": 7,
   "metadata": {},
   "outputs": [
    {
     "ename": "NameError",
     "evalue": "name 'str1' is not defined",
     "output_type": "error",
     "traceback": [
      "\u001b[1;31m---------------------------------------------------------------------------\u001b[0m",
      "\u001b[1;31mNameError\u001b[0m                                 Traceback (most recent call last)",
      "\u001b[1;32m<ipython-input-7-783329d4862b>\u001b[0m in \u001b[0;36m<module>\u001b[1;34m\u001b[0m\n\u001b[0;32m      5\u001b[0m \u001b[1;31m# Global scope\u001b[0m\u001b[1;33m\u001b[0m\u001b[1;33m\u001b[0m\u001b[1;33m\u001b[0m\u001b[0m\n\u001b[0;32m      6\u001b[0m \u001b[0mstring\u001b[0m \u001b[1;33m=\u001b[0m \u001b[1;34m\"python is basic of Data science\"\u001b[0m\u001b[1;33m\u001b[0m\u001b[1;33m\u001b[0m\u001b[0m\n\u001b[1;32m----> 7\u001b[1;33m \u001b[0mfun\u001b[0m\u001b[1;33m(\u001b[0m\u001b[1;33m)\u001b[0m\u001b[1;33m\u001b[0m\u001b[1;33m\u001b[0m\u001b[0m\n\u001b[0m\u001b[0;32m      8\u001b[0m \u001b[1;31m# Accsesing local varible as outside of function which will get error\u001b[0m\u001b[1;33m\u001b[0m\u001b[1;33m\u001b[0m\u001b[1;33m\u001b[0m\u001b[0m\n\u001b[0;32m      9\u001b[0m \u001b[0mprint\u001b[0m\u001b[1;33m(\u001b[0m\u001b[0mstr1\u001b[0m\u001b[1;33m)\u001b[0m\u001b[1;33m\u001b[0m\u001b[1;33m\u001b[0m\u001b[0m\n",
      "\u001b[1;32m<ipython-input-7-783329d4862b>\u001b[0m in \u001b[0;36mfun\u001b[1;34m()\u001b[0m\n\u001b[0;32m      1\u001b[0m \u001b[1;32mdef\u001b[0m \u001b[0mfun\u001b[0m\u001b[1;33m(\u001b[0m\u001b[1;33m)\u001b[0m\u001b[1;33m:\u001b[0m\u001b[1;33m\u001b[0m\u001b[1;33m\u001b[0m\u001b[0m\n\u001b[1;32m----> 2\u001b[1;33m       \u001b[0mprint\u001b[0m\u001b[1;33m(\u001b[0m\u001b[0mstr1\u001b[0m\u001b[1;33m)\u001b[0m\u001b[1;33m\u001b[0m\u001b[1;33m\u001b[0m\u001b[0m\n\u001b[0m\u001b[0;32m      3\u001b[0m \u001b[1;33m\u001b[0m\u001b[0m\n\u001b[0;32m      4\u001b[0m \u001b[1;33m\u001b[0m\u001b[0m\n\u001b[0;32m      5\u001b[0m \u001b[1;31m# Global scope\u001b[0m\u001b[1;33m\u001b[0m\u001b[1;33m\u001b[0m\u001b[1;33m\u001b[0m\u001b[0m\n",
      "\u001b[1;31mNameError\u001b[0m: name 'str1' is not defined"
     ]
    }
   ],
   "source": [
    "def fun():  \n",
    "      print(str1)\n",
    "    \n",
    "    \n",
    "# Global scope \n",
    "string = \"python is basic of Data science\" \n",
    "fun() \n",
    "# Accsesing local varible as outside of function which will get error \n",
    "print(str1)"
   ]
  },
  {
   "cell_type": "markdown",
   "metadata": {},
   "source": [
    "# 4. How do you write comments in python? And Why Comments are important?"
   ]
  },
  {
   "cell_type": "markdown",
   "metadata": {},
   "source": [
    "1.Comments in Python are the lines in the code that are ignored by the compiler during the execution of the program\n",
    "\n",
    "2.Comments enhance the readability of the code and help the programmers to understand the code very carefully. \n",
    "\n",
    "3.There are  types of comments in Python – \n",
    "\n",
    "Single line Comments \n",
    "Multiline Comments\n"
   ]
  },
  {
   "cell_type": "markdown",
   "metadata": {},
   "source": [
    "- ###  Single-Line Comments"
   ]
  },
  {
   "cell_type": "markdown",
   "metadata": {},
   "source": [
    "1.single line comment starts with the hashtag symbol (#) with no white spaces. \n",
    "\n",
    "2.If the comment line then put a hashtag on the next line and continue the comment. \n",
    "\n",
    "3.single-line comments are useful for  short explanations for variables, function declarations, and expressions. \n",
    "\n",
    "4. example \n"
   ]
  },
  {
   "cell_type": "code",
   "execution_count": 9,
   "metadata": {},
   "outputs": [
    {
     "name": "stdout",
     "output_type": "stream",
     "text": [
      "Hello World\n"
     ]
    }
   ],
   "source": [
    "# Print  Hello world!” on screen\n",
    "print(\"Hello World\")"
   ]
  },
  {
   "cell_type": "markdown",
   "metadata": {},
   "source": [
    "- ###  Multi-Line-Line Comments"
   ]
  },
  {
   "cell_type": "markdown",
   "metadata": {},
   "source": [
    "1.we use the strings with triple quotes(“””)at start and end of the comments as multiline comments.\n",
    "\n",
    "2.We can multiple hashtags (#) to write multiline comments in Python.\n",
    "\n",
    "3.Python ignores the string literals that are not assigned to a variable so we can use these string literals as a comment for e.g \n",
    "'This will be ignored by Python'"
   ]
  },
  {
   "cell_type": "markdown",
   "metadata": {},
   "source": [
    "# 5. How to comment on multiple lines in python?\n"
   ]
  },
  {
   "cell_type": "markdown",
   "metadata": {},
   "source": [
    "- ###  Multi-Line-Line Comments\n",
    "\n"
   ]
  },
  {
   "cell_type": "markdown",
   "metadata": {},
   "source": [
    "1.we use the strings with triple quotes(“””)at start and end of the comments as multiline comments.\n",
    "\n",
    "2.We can multiple hashtags (#) to write multiline comments in Python.\n",
    "\n",
    "3.Python ignores the string literals that are not assigned to a variable so we can use these string literals as a comment for e.g \n",
    "'This will be ignored by Python'"
   ]
  },
  {
   "cell_type": "markdown",
   "metadata": {},
   "source": [
    "# 6. What do you mean by Python literals?\n"
   ]
  },
  {
   "cell_type": "markdown",
   "metadata": {},
   "source": [
    " 1.literals are a notation for representing a fixed value in source code. \n",
    " \n",
    " 2.They can also be defined as raw value or data given in variables or constants\n",
    " \n",
    " 3.Python has different types of literals.\n",
    " \n",
    " String literals\n",
    " \n",
    "Numeric literals\n",
    "\n",
    "Boolean literals\n",
    "\n",
    "Literal Collections\n",
    "\n",
    "Special literals"
   ]
  },
  {
   "cell_type": "markdown",
   "metadata": {},
   "source": [
    "- ### String literals"
   ]
  },
  {
   "cell_type": "markdown",
   "metadata": {},
   "source": [
    "1.A string literal can be created by writing a text(a group of Characters ) surrounded by the single(”), double(“”), or triple quotes.\n",
    "\n",
    "2.By using triple quotes we can write multi-line strings or display in the desired way.\n",
    "\n",
    "3.string literals\n",
    " \n",
    " in single quote\n",
    "s = 'Python'\n",
    " \n",
    " in double quotes\n",
    "t = \"SQL\"\n",
    " \n",
    " multi-line String\n",
    " \n",
    "m = '''python\n",
    "\n",
    "           SQL\n",
    "           \n",
    "               Machine Learning'''"
   ]
  },
  {
   "cell_type": "markdown",
   "metadata": {},
   "source": [
    "- ### Character literal"
   ]
  },
  {
   "cell_type": "markdown",
   "metadata": {},
   "source": [
    "1.It is also a type of string literals where a single character surrounded by single or double-quotes.\n",
    "\n",
    "2.character literal in single quote\n",
    "v = 'n'\n",
    " \n",
    "3.character literal in double quotes\n",
    "w = \"a\""
   ]
  },
  {
   "cell_type": "markdown",
   "metadata": {},
   "source": [
    "- ### Numeric literals"
   ]
  },
  {
   "cell_type": "markdown",
   "metadata": {},
   "source": [
    "They are  immutable and there are three types of numeric literal : \n",
    "    1.Integer\n",
    "2.Float\n",
    "3.Complex.\n",
    "\n",
    "\n",
    "1)integer literal\n",
    " \n",
    "#Binary Literals\n",
    "a = 0b10100\n",
    " \n",
    "#Decimal Literal\n",
    "b = 50\n",
    " \n",
    "#Octal Literal\n",
    "c = 0o320\n",
    " \n",
    "#Hexadecimal Literal\n",
    "d = 0x12b\n",
    " \n",
    "print(a, b, c, d)\n",
    "\n",
    "Here, ‘a‘ is binary literal, ‘b’ is a decimal literal, ‘c‘ is an octal literal and ‘d‘ is a hexadecimal literal. But on using print function to display value or to get output they were converted into decimal."
   ]
  },
  {
   "cell_type": "markdown",
   "metadata": {},
   "source": []
  },
  {
   "cell_type": "markdown",
   "metadata": {},
   "source": [
    "# 7. What are different ways to assign value to variables?"
   ]
  },
  {
   "cell_type": "markdown",
   "metadata": {},
   "source": [
    "- # first Method\n",
    "\n",
    "assign value to varible directly\n",
    " let x=10"
   ]
  },
  {
   "cell_type": "markdown",
   "metadata": {},
   "source": [
    "- # second Method\n",
    "\n",
    "- ## Assigning single value to multiple variable\n",
    "\n",
    "assign same value to many varible either in different line or single Line\n",
    "\n",
    "\n"
   ]
  },
  {
   "cell_type": "code",
   "execution_count": 22,
   "metadata": {},
   "outputs": [
    {
     "name": "stdout",
     "output_type": "stream",
     "text": [
      "x = 10 , y == 10, z === 10\n"
     ]
    }
   ],
   "source": [
    "x = 10\n",
    "y = 10\n",
    "z = 10\n",
    "print(f\"x = {x} , y == {y}, z === {z}\")"
   ]
  },
  {
   "cell_type": "markdown",
   "metadata": {},
   "source": [
    "\n",
    "- ## Multiple Values to multiple variable"
   ]
  },
  {
   "cell_type": "code",
   "execution_count": 23,
   "metadata": {},
   "outputs": [
    {
     "name": "stdout",
     "output_type": "stream",
     "text": [
      "10 20 Python\n"
     ]
    }
   ],
   "source": [
    "\n",
    "a = 10\n",
    "b = 20\n",
    "c = 'Python'\n",
    "print(a,b,c)"
   ]
  },
  {
   "cell_type": "markdown",
   "metadata": {},
   "source": [
    "# 8. What are the Escape Characters in python?\n"
   ]
  },
  {
   "cell_type": "markdown",
   "metadata": {},
   "source": [
    "1.To insert characters that are invalid in a string, we use an escape character.\n",
    "\n",
    "2.An escape character is a backslash \\ followed by the character  want to insert.\n",
    "\n",
    "3.An example of an invalid character is a double quote inside a string that is surrounded by double quotes:\n",
    "\n",
    "4.Example You will get an error if you use double quotes inside a string that is surrounded by double quotes:\n",
    "\n",
    "txt = \"We are the so-called \"Vikings\" from the north.\"\n",
    "\n",
    "5.To fix this problem, use the escape character \\\":\n",
    "\n",
    "Example\n",
    "The escape character allows you to use double quotes when you normally would not be allowed:\n",
    "\n",
    "txt = \"We are the so-called \\\"Vikings\\\" from the north.\"\n",
    "\n",
    "\\'\tSingle Quote\t\n",
    "\\\\\tBackslash\t\n",
    "\\n\tNew Line\t\n",
    "\\r\tCarriage Return\t\n",
    "\\t\tTab"
   ]
  },
  {
   "cell_type": "markdown",
   "metadata": {},
   "source": [
    "# 9. Which are the different ways to perform string formatting? Explain with\n",
    "\n"
   ]
  },
  {
   "cell_type": "code",
   "execution_count": 12,
   "metadata": {},
   "outputs": [
    {
     "name": "stdout",
     "output_type": "stream",
     "text": [
      "first way to formatting a string is using curly bracket sring1 is python and string2 is SQL\n",
      "first way to formatting a string is using format method sring1 is python and string2 is SQL\n",
      "Third way to formatting a string is using  in string1 = python and string2 = SQL\n"
     ]
    }
   ],
   "source": [
    "string1=\"python\"\n",
    "string2=\"SQL\"\n",
    "#First method\n",
    "print(f\"first way to formatting a string is using curly bracket sring1 is {string1} and string2 is {string2}\")\n",
    "\n",
    "#Second Method\n",
    "print(\"first way to formatting a string is using format method sring1 is {} and string2 is {}\".format(string1,string2))\n",
    "\n",
    "#third Method\n",
    "print(\"Third way to formatting a string is using  in string1 = %s and string2 = %s\" %(string1, string2))"
   ]
  },
  {
   "cell_type": "markdown",
   "metadata": {},
   "source": [
    "# 10. Write a program to print every character of a string entered by the user in a new line using a loop\n",
    "\n"
   ]
  },
  {
   "cell_type": "code",
   "execution_count": 14,
   "metadata": {},
   "outputs": [
    {
     "name": "stdout",
     "output_type": "stream",
     "text": [
      "python\n",
      "p\n",
      "y\n",
      "t\n",
      "h\n",
      "o\n",
      "n\n"
     ]
    }
   ],
   "source": [
    "string=input(\"\")\n",
    "for i in string:\n",
    "    print(i,end='\\n')\n",
    "    "
   ]
  },
  {
   "cell_type": "markdown",
   "metadata": {},
   "source": [
    "# 11. Write a program to find the length of the string \"machine learning\" with and without using len function.\n",
    "\n"
   ]
  },
  {
   "cell_type": "code",
   "execution_count": 15,
   "metadata": {},
   "outputs": [
    {
     "name": "stdout",
     "output_type": "stream",
     "text": [
      "79\n"
     ]
    }
   ],
   "source": [
    "#with length function\n",
    "string=\"Machine Learning is making the computer learn from studying data and statistics\"\n",
    "length=len(string)\n",
    "print(length)"
   ]
  },
  {
   "cell_type": "code",
   "execution_count": 23,
   "metadata": {},
   "outputs": [
    {
     "name": "stdout",
     "output_type": "stream",
     "text": [
      "Length  of string is 79\n"
     ]
    }
   ],
   "source": [
    "#without length function\n",
    "string=\"Machine Learning is making the computer learn from studying data and statistics\"\n",
    "count=0\n",
    "for i in string:\n",
    "    count=count+1\n",
    "print(f\"Length  of string is {count}\")\n",
    "    "
   ]
  },
  {
   "cell_type": "markdown",
   "metadata": {},
   "source": [
    "# 12. Write a program to check if the word 'orange' is present in the \"This is orange juice\"\n"
   ]
  },
  {
   "cell_type": "code",
   "execution_count": 27,
   "metadata": {},
   "outputs": [
    {
     "name": "stdout",
     "output_type": "stream",
     "text": [
      "orange is present\n"
     ]
    }
   ],
   "source": [
    "string=\"This is orange juice\"\n",
    "if \"orange\" in string:\n",
    "    print(\"orange is present\")\n",
    "else:\n",
    "    print(\"orange is Absent\")"
   ]
  },
  {
   "cell_type": "markdown",
   "metadata": {},
   "source": [
    "# 13. Write a program to find the number of vowels, consonants, digits, and white space characters in a string.\n"
   ]
  },
  {
   "cell_type": "code",
   "execution_count": 30,
   "metadata": {},
   "outputs": [
    {
     "name": "stdout",
     "output_type": "stream",
     "text": [
      "in string number of vowel is 24 \n",
      " number of consonant is 44 \n",
      " number of digit is 0  \n",
      " number of space is 11 \n",
      "\n"
     ]
    }
   ],
   "source": [
    "string=\"Machine Learning is making the computer learn from studying data and statistics\"\n",
    "count_vowel=0\n",
    "count_consonant=0\n",
    "count_digit=0\n",
    "count_space=0\n",
    "\n",
    "for i in string:\n",
    "    if i=='a' or i=='e' or i=='o' or i=='u'or i=='i' or i=='A' or i=='E' or i=='O' or i=='U'or i=='I':\n",
    "        count_vowel +=1\n",
    "    elif i==\" \":\n",
    "        count_space +=1\n",
    "        \n",
    "    \n",
    "    \n",
    "    elif i==0 or i==1 or i==2 or i==3 or i==4 or i==5 or i==6 or i==7 or i==8 or i==9:\n",
    "        count_digit +=1\n",
    "    else:\n",
    "        count_consonant+=1\n",
    "print(f\"in string number of vowel is {count_vowel} \\n number of consonant is {count_consonant} \\n number of digit is {count_digit}  \\n number of space is {count_space} \\n\")"
   ]
  },
  {
   "cell_type": "markdown",
   "metadata": {},
   "source": [
    "# 14. Write a Python program to count Uppercase, Lowercase, special character, and numeric values in a given string"
   ]
  },
  {
   "cell_type": "code",
   "execution_count": 31,
   "metadata": {},
   "outputs": [
    {
     "name": "stdout",
     "output_type": "stream",
     "text": [
      "number of uppercase is 0 \n",
      " number of lowercase is 66 \n",
      " number of numeric is 0 \n",
      " number of special char is 11\n"
     ]
    }
   ],
   "source": [
    "string=\"Machine Learning is making the computer learn from studying data and statistics\"\n",
    "count_up=0\n",
    "count_lower=0\n",
    "count_sp_char=0\n",
    "count_number=0\n",
    "\n",
    "for i in string:\n",
    "    if i.isupper():\n",
    "        count+=1\n",
    "    elif i.islower():\n",
    "        count_lower +=1\n",
    "    elif i.isnumeric():\n",
    "        count_number+=1\n",
    "    else:\n",
    "        count_sp_char +=1\n",
    "print(f\"number of uppercase is {count_up} \\n number of lowercase is {count_lower} \\n number of numeric is {count_number} \\n number of special char is {count_sp_char}\")"
   ]
  },
  {
   "cell_type": "markdown",
   "metadata": {},
   "source": [
    "# 15. Write a program to make a new string with all the consonants deleted from the string \"Hello, have a good day\".\n",
    "\n"
   ]
  },
  {
   "cell_type": "code",
   "execution_count": 36,
   "metadata": {},
   "outputs": [
    {
     "name": "stdout",
     "output_type": "stream",
     "text": [
      "eoaeaooa\n"
     ]
    }
   ],
   "source": [
    "str1=\"Hello, have a good day\"\n",
    "v1 = 'aeoiu'\n",
    "new1 = []\n",
    "for i in str1:\n",
    "    if i in v1:\n",
    "        new1.append(i)\n",
    "print(''.join(new1))\n",
    "\n",
    "        "
   ]
  },
  {
   "cell_type": "markdown",
   "metadata": {},
   "source": [
    "# 16. Write a Python program to remove the nth index character from a non-empty string.\n"
   ]
  },
  {
   "cell_type": "code",
   "execution_count": 41,
   "metadata": {},
   "outputs": [
    {
     "name": "stdout",
     "output_type": "stream",
     "text": [
      "4\n",
      "Machne Learning is making the computer learn from studying data and statistics\n"
     ]
    }
   ],
   "source": [
    "string=\"Machine Learning is making the computer learn from studying data and statistics\"\n",
    "n=int(input())\n",
    "li=list(string)\n",
    "li.remove(li[n])\n",
    "string=\"\".join(li)\n",
    "print(string)"
   ]
  },
  {
   "cell_type": "markdown",
   "metadata": {},
   "source": [
    "# 17. Write a Python program to change a given string to a new string where the first and last characters have been exchanged.\n"
   ]
  },
  {
   "cell_type": "code",
   "execution_count": 42,
   "metadata": {},
   "outputs": [
    {
     "name": "stdout",
     "output_type": "stream",
     "text": [
      "nythop\n"
     ]
    }
   ],
   "source": [
    "string=\"python\"\n",
    "string=string[-1]+string[1:-1]+string[0]\n",
    "print(string)"
   ]
  },
  {
   "cell_type": "markdown",
   "metadata": {},
   "source": [
    "# 18. Write a Python program to count the occurrences of each word in a given sentence.\n"
   ]
  },
  {
   "cell_type": "code",
   "execution_count": 49,
   "metadata": {},
   "outputs": [
    {
     "name": "stdout",
     "output_type": "stream",
     "text": [
      "['Machine', 'Learning', 'is', 'making', 'the', 'computer', 'learn', 'from', 'studying', 'data', 'and', 'statistics']\n",
      "Machine is 1\n",
      "Learning is 1\n",
      "is is 1\n",
      "making is 1\n",
      "the is 1\n",
      "computer is 1\n",
      "learn is 1\n",
      "from is 1\n",
      "studying is 1\n",
      "data is 1\n",
      "and is 1\n",
      "statistics is 1\n"
     ]
    }
   ],
   "source": [
    "string=\"Machine Learning is making the computer learn from studying data and statistics\"\n",
    "\n",
    "# converting string into list\n",
    "li=list(string.split())\n",
    "print(li)\n",
    "\n",
    "# count each word in list\n",
    "for i in li:\n",
    "    print(f\"{i} is {li.count(i)}\")"
   ]
  },
  {
   "cell_type": "markdown",
   "metadata": {},
   "source": [
    "# 19. How do you count the occurrence of a given character in a string?\n"
   ]
  },
  {
   "cell_type": "code",
   "execution_count": 55,
   "metadata": {},
   "outputs": [
    {
     "name": "stdout",
     "output_type": "stream",
     "text": [
      "a\n",
      "2\n"
     ]
    }
   ],
   "source": [
    "string=\"Data science\"\n",
    "char=input()\n",
    "# let check a in string\n",
    "if char in string:\n",
    "    print(string.count(char))"
   ]
  },
  {
   "cell_type": "markdown",
   "metadata": {},
   "source": [
    "# 20. Write a program to find last 10 characters of a string?\n"
   ]
  },
  {
   "cell_type": "code",
   "execution_count": 60,
   "metadata": {},
   "outputs": [
    {
     "name": "stdout",
     "output_type": "stream",
     "text": [
      "zscientist\n"
     ]
    }
   ],
   "source": [
    "string=\"python in data xyzscientist\"\n",
    "print(string[len(string)-10:])"
   ]
  },
  {
   "cell_type": "markdown",
   "metadata": {},
   "source": [
    "# 21. WAP to convert a given string to all uppercase if it contains at least 2 uppercase characters in the first 4 characters."
   ]
  },
  {
   "cell_type": "code",
   "execution_count": 68,
   "metadata": {},
   "outputs": [
    {
     "name": "stdout",
     "output_type": "stream",
     "text": [
      "['M', 'a', 'c', 'h']\n",
      "MACHINE LEARNING IS MAKING THE COMPUTER LEARN FROM STUDYING DATA AND STATISTICS\n"
     ]
    }
   ],
   "source": [
    "string=\"Machine Learning is making the computer learn from studying data and statistics\"\n",
    "\n",
    "# first store first four chachter in list\n",
    "li=list(string[0:4])\n",
    "print(li)\n",
    "\n",
    "# if first four chachcter is upper then string converted into upper case\n",
    "for char in li:\n",
    "    if char.isupper():\n",
    "        print(string.upper())\n",
    "        \n"
   ]
  },
  {
   "cell_type": "markdown",
   "metadata": {},
   "source": [
    "# 22. Write a Python program to remove a newline in Python."
   ]
  },
  {
   "cell_type": "code",
   "execution_count": 72,
   "metadata": {},
   "outputs": [
    {
     "name": "stdout",
     "output_type": "stream",
     "text": [
      "Machine Learning is making the computer learn from studying data and statistics Machine Learning is making the computer learn from studying data and statistics Machine Learning is making the computer learn from studying data and statistics\n"
     ]
    }
   ],
   "source": [
    "string=\"\"\"Machine Learning is making the computer learn from studying data and statistics\n",
    "Machine Learning is making the computer learn from studying data and statistics\n",
    "Machine Learning is making the computer learn from studying data and statistics\"\"\"\n",
    "string=string.replace(\"\\n\",\" \")\n",
    "print(string)"
   ]
  },
  {
   "cell_type": "markdown",
   "metadata": {},
   "source": [
    "# 23. Write a Python program to swap commas and dots in a string\n",
    "○ Sample string: \"32.054,23\"\n",
    "\n",
    "○ Expected Output: \"32,054.23\"\n"
   ]
  },
  {
   "cell_type": "code",
   "execution_count": 75,
   "metadata": {},
   "outputs": [
    {
     "name": "stdout",
     "output_type": "stream",
     "text": [
      "32,054,23\n"
     ]
    }
   ],
   "source": [
    "string=\"32.054,23\"\n",
    "string=string.replace(\".\",\",\")\n",
    "print(string)"
   ]
  },
  {
   "cell_type": "markdown",
   "metadata": {},
   "source": [
    "# 24. Write a Python program to find the first repeated character in a given string"
   ]
  },
  {
   "cell_type": "code",
   "execution_count": 79,
   "metadata": {},
   "outputs": [
    {
     "name": "stdout",
     "output_type": "stream",
     "text": [
      "first repeated chachter in string is a\n"
     ]
    }
   ],
   "source": [
    "string=\"data science\"\n",
    "\n",
    "for char in string:\n",
    "    if string.count(char)==2:\n",
    "        print(f\"first repeated chachter in string is {char}\")\n",
    "        break"
   ]
  },
  {
   "cell_type": "markdown",
   "metadata": {},
   "source": [
    "# 25. Write a Python program to find the second most repeated word in a given string\n"
   ]
  },
  {
   "cell_type": "code",
   "execution_count": null,
   "metadata": {},
   "outputs": [],
   "source": [
    "string=\"data science\"\n",
    "for char in string:\n",
    "    if"
   ]
  },
  {
   "cell_type": "markdown",
   "metadata": {},
   "source": [
    "# 26. Python program to Count Even and Odd numbers in a string"
   ]
  },
  {
   "cell_type": "code",
   "execution_count": 82,
   "metadata": {},
   "outputs": [
    {
     "name": "stdout",
     "output_type": "stream",
     "text": [
      "even string is 8 and odd is 10\n"
     ]
    }
   ],
   "source": [
    "string=\"sample123456789123456789\"\n",
    "even=0\n",
    "odd=0\n",
    "for char in string:\n",
    "    if char.isnumeric():\n",
    "        if int(char)%2==0:\n",
    "            even +=1\n",
    "        else:\n",
    "            odd +=1\n",
    "print(f\"even string is {even} and odd is {odd}\")"
   ]
  },
  {
   "cell_type": "markdown",
   "metadata": {},
   "source": [
    "# 27. How do you check if a string contains only digits?\n"
   ]
  },
  {
   "cell_type": "code",
   "execution_count": 91,
   "metadata": {},
   "outputs": [
    {
     "data": {
      "text/plain": [
       "False"
      ]
     },
     "execution_count": 91,
     "metadata": {},
     "output_type": "execute_result"
    }
   ],
   "source": [
    " string.isnumeric()\n"
   ]
  },
  {
   "cell_type": "markdown",
   "metadata": {},
   "source": [
    "# 28. How do you remove a given character/word from String?\n"
   ]
  },
  {
   "cell_type": "markdown",
   "metadata": {},
   "source": [
    "string.replace(\"char\",\" \")\n",
    "        \n"
   ]
  },
  {
   "cell_type": "markdown",
   "metadata": {},
   "source": [
    "# 29. Write a Python program to remove the characters which have odd index values of a given string\n"
   ]
  },
  {
   "cell_type": "code",
   "execution_count": 89,
   "metadata": {},
   "outputs": [
    {
     "name": "stdout",
     "output_type": "stream",
     "text": [
      "sml135792468\n"
     ]
    }
   ],
   "source": [
    "string=\"sample123456789123456789\"\n",
    "\n",
    "print(string[::2])"
   ]
  },
  {
   "cell_type": "markdown",
   "metadata": {},
   "source": [
    "# 30. Write a Python function to reverses a string if its length is a multiple of 5"
   ]
  },
  {
   "cell_type": "code",
   "execution_count": 96,
   "metadata": {},
   "outputs": [
    {
     "name": "stdout",
     "output_type": "stream",
     "text": [
      "string length is 80\n",
      "sscitsitats dna atad gniyduts morf nrael retupmoc eht gnikam si gninraeL enihcaM\n"
     ]
    }
   ],
   "source": [
    "string=\"Machine Learning is making the computer learn from studying data and statisticss\"\n",
    "length=len(string)\n",
    "print(f\"string length is {length}\")\n",
    "if length%5==0:\n",
    "    print(string[::-1])"
   ]
  },
  {
   "cell_type": "markdown",
   "metadata": {},
   "source": [
    "# 31. Write a Python program to format a number with a percentage(0.05 >> 5%)\n"
   ]
  },
  {
   "cell_type": "code",
   "execution_count": 97,
   "metadata": {},
   "outputs": [
    {
     "name": "stdout",
     "output_type": "stream",
     "text": [
      "5%\n"
     ]
    }
   ],
   "source": [
    "number = 0.05\n",
    "print(f\"{int(number * 100)}%\")\n"
   ]
  },
  {
   "cell_type": "markdown",
   "metadata": {},
   "source": [
    "# 32. Write a Python program to reverse words in a string\n"
   ]
  },
  {
   "cell_type": "code",
   "execution_count": 100,
   "metadata": {},
   "outputs": [
    {
     "name": "stdout",
     "output_type": "stream",
     "text": [
      "['Machine', 'Learning', 'is', 'making', 'the', 'computer', 'learn', 'from', 'studying', 'data', 'and', 'statistics']\n",
      "['statistics', 'and', 'data', 'studying', 'from', 'learn', 'computer', 'the', 'making', 'is', 'Learning', 'Machine']\n"
     ]
    }
   ],
   "source": [
    "string=\"Machine Learning is making the computer learn from studying data and statistics\"\n",
    "\n",
    "li=list(string.split())\n",
    "print(li)\n",
    "\n",
    "# resever the list\n",
    "print(li[::-1])"
   ]
  },
  {
   "cell_type": "markdown",
   "metadata": {},
   "source": [
    "# 33. Write a Python program to swap cases of a given string\n"
   ]
  },
  {
   "cell_type": "code",
   "execution_count": 102,
   "metadata": {},
   "outputs": [
    {
     "name": "stdout",
     "output_type": "stream",
     "text": [
      "pYTHON dATA sCIENCE\n"
     ]
    }
   ],
   "source": [
    "string=\"Python Data Science\"\n",
    "string=string.swapcase()\n",
    "print(string)"
   ]
  },
  {
   "cell_type": "markdown",
   "metadata": {},
   "source": [
    "# 34. Write a Python program to remove spaces from a given string"
   ]
  },
  {
   "cell_type": "code",
   "execution_count": 103,
   "metadata": {},
   "outputs": [
    {
     "name": "stdout",
     "output_type": "stream",
     "text": [
      "PythonDataScience\n"
     ]
    }
   ],
   "source": [
    "string=\"Python Data Science\"\n",
    "string=string.replace(\" \",\"\")\n",
    "print(string)"
   ]
  },
  {
   "cell_type": "markdown",
   "metadata": {},
   "source": [
    "# 35. Write a Python program to remove duplicate characters of a given string\n"
   ]
  },
  {
   "cell_type": "code",
   "execution_count": 110,
   "metadata": {},
   "outputs": [
    {
     "ename": "AttributeError",
     "evalue": "'str' object has no attribute 'append'",
     "output_type": "error",
     "traceback": [
      "\u001b[1;31m---------------------------------------------------------------------------\u001b[0m",
      "\u001b[1;31mAttributeError\u001b[0m                            Traceback (most recent call last)",
      "\u001b[1;32m<ipython-input-110-349c7a95d5b9>\u001b[0m in \u001b[0;36m<module>\u001b[1;34m\u001b[0m\n\u001b[0;32m      4\u001b[0m \u001b[1;32mfor\u001b[0m \u001b[0mchar\u001b[0m \u001b[1;32min\u001b[0m \u001b[0mstring\u001b[0m\u001b[1;33m:\u001b[0m\u001b[1;33m\u001b[0m\u001b[1;33m\u001b[0m\u001b[0m\n\u001b[0;32m      5\u001b[0m     \u001b[1;32mif\u001b[0m \u001b[0mchar\u001b[0m \u001b[1;32mnot\u001b[0m \u001b[1;32min\u001b[0m \u001b[0mli\u001b[0m\u001b[1;33m:\u001b[0m\u001b[1;33m\u001b[0m\u001b[1;33m\u001b[0m\u001b[0m\n\u001b[1;32m----> 6\u001b[1;33m         \u001b[0mstring\u001b[0m\u001b[1;33m.\u001b[0m\u001b[0mappend\u001b[0m\u001b[1;33m(\u001b[0m\u001b[0mchar\u001b[0m\u001b[1;33m)\u001b[0m\u001b[1;33m\u001b[0m\u001b[1;33m\u001b[0m\u001b[0m\n\u001b[0m\u001b[0;32m      7\u001b[0m \u001b[0mprint\u001b[0m\u001b[1;33m(\u001b[0m\u001b[0mstring\u001b[0m\u001b[1;33m)\u001b[0m\u001b[1;33m\u001b[0m\u001b[1;33m\u001b[0m\u001b[0m\n",
      "\u001b[1;31mAttributeError\u001b[0m: 'str' object has no attribute 'append'"
     ]
    }
   ],
   "source": [
    "string=\"Python Data Science\"\n",
    "li=[]\n",
    "\n",
    "for char in string:\n",
    "    if char not in li:\n",
    "        string.append(char)\n",
    "print(string)"
   ]
  },
  {
   "cell_type": "markdown",
   "metadata": {},
   "source": [
    "# 36. Write a Python Program to find the area of a circle\n"
   ]
  },
  {
   "cell_type": "code",
   "execution_count": 112,
   "metadata": {},
   "outputs": [
    {
     "name": "stdout",
     "output_type": "stream",
     "text": [
      "3\n",
      " Area of circle is 28.26\n"
     ]
    }
   ],
   "source": [
    "r=int(input())\n",
    "area=3.14*(r**2)\n",
    "print(f\" Area of circle is {area}\")"
   ]
  },
  {
   "cell_type": "markdown",
   "metadata": {},
   "source": [
    "# 37. Python Program to find Sum of squares of first n natural numbers"
   ]
  },
  {
   "cell_type": "code",
   "execution_count": 115,
   "metadata": {},
   "outputs": [
    {
     "name": "stdout",
     "output_type": "stream",
     "text": [
      "3\n",
      "sum of sqaure of first 3 narural number is 14\n"
     ]
    }
   ],
   "source": [
    "n=int(input())\n",
    "sum=0\n",
    "for i in range(n+1):\n",
    "    sum +=i**2\n",
    "print(f\"sum of sqaure of first {n} narural number is {sum}\")"
   ]
  },
  {
   "cell_type": "markdown",
   "metadata": {},
   "source": [
    "# 38. Python Program to find cube sum of first n natural numbers\n"
   ]
  },
  {
   "cell_type": "code",
   "execution_count": 116,
   "metadata": {},
   "outputs": [
    {
     "name": "stdout",
     "output_type": "stream",
     "text": [
      "3\n",
      "sum of cube of first 3 narural number is 36\n"
     ]
    }
   ],
   "source": [
    "n=int(input())\n",
    "sum=0\n",
    "for i in range(n+1):\n",
    "    sum +=i**3\n",
    "print(f\"sum of cube of first {n} narural number is {sum}\")"
   ]
  },
  {
   "cell_type": "markdown",
   "metadata": {},
   "source": [
    "# 39. Python Program to find simple interest and compound interest"
   ]
  },
  {
   "cell_type": "code",
   "execution_count": 119,
   "metadata": {},
   "outputs": [
    {
     "name": "stdout",
     "output_type": "stream",
     "text": [
      "1000\n",
      "30\n",
      "30\n",
      "simple interest is 9000.0\n",
      "compound interest  is 21000.0\n"
     ]
    }
   ],
   "source": [
    "p=int(input())\n",
    "n=int(input())\n",
    "r=int(input())\n",
    "\n",
    "# SI\n",
    "si=(p*n*r)/100\n",
    "\n",
    "print(f\"simple interest is {si}\")\n",
    "\n",
    "# CI\n",
    "ci=p*((1-(r/100))*n)\n",
    "print(f\"compound interest  is {ci}\")"
   ]
  },
  {
   "cell_type": "markdown",
   "metadata": {},
   "source": [
    "# 40. Python program to check whether a number is Prime or not"
   ]
  },
  {
   "cell_type": "code",
   "execution_count": 131,
   "metadata": {},
   "outputs": [
    {
     "name": "stdout",
     "output_type": "stream",
     "text": [
      "6\n",
      "6 is not a prime number\n"
     ]
    }
   ],
   "source": [
    "n=int(input())\n",
    "for i in range(2,n+1):\n",
    "    if n//i==0:\n",
    "        print(f\"{n} is not a prime number\")\n",
    "        break   \n",
    "    else:\n",
    "        print(f\"{n} is not a prime number\")\n",
    "        break\n",
    "        \n",
    "        "
   ]
  },
  {
   "cell_type": "code",
   "execution_count": null,
   "metadata": {},
   "outputs": [],
   "source": []
  }
 ],
 "metadata": {
  "kernelspec": {
   "display_name": "Python 3",
   "language": "python",
   "name": "python3"
  },
  "language_info": {
   "codemirror_mode": {
    "name": "ipython",
    "version": 3
   },
   "file_extension": ".py",
   "mimetype": "text/x-python",
   "name": "python",
   "nbconvert_exporter": "python",
   "pygments_lexer": "ipython3",
   "version": "3.7.3"
  }
 },
 "nbformat": 4,
 "nbformat_minor": 2
}
