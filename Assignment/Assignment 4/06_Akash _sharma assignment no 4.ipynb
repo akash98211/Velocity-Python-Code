{
 "cells": [
  {
   "cell_type": "markdown",
   "metadata": {},
   "source": [
    "# 1. Python program to sort Python Dictionaries by Keys"
   ]
  },
  {
   "cell_type": "code",
   "execution_count": 1,
   "metadata": {},
   "outputs": [
    {
     "name": "stdout",
     "output_type": "stream",
     "text": [
      "['bio', 'che', 'eng', 'phy']\n"
     ]
    }
   ],
   "source": [
    "sub={'phy':93,'che':89,'eng':61,'bio':90}\n",
    "d1={}\n",
    "\n",
    "sorted_key=sorted(sub)\n",
    "print(sorted_key)"
   ]
  },
  {
   "cell_type": "code",
   "execution_count": 2,
   "metadata": {},
   "outputs": [
    {
     "name": "stdout",
     "output_type": "stream",
     "text": [
      "{'bio': 90, 'che': 89, 'eng': 61, 'phy': 93}\n"
     ]
    }
   ],
   "source": [
    "# using for loop approach\n",
    "for key in sorted_key:\n",
    "    d1[key]=sub[key]\n",
    "    \n",
    "print(d1)\n",
    "    "
   ]
  },
  {
   "cell_type": "code",
   "execution_count": 10,
   "metadata": {},
   "outputs": [
    {
     "name": "stdout",
     "output_type": "stream",
     "text": [
      "{'bio': 90, 'che': 89, 'eng': 61, 'phy': 93}\n"
     ]
    }
   ],
   "source": [
    "# using sorted function approach\n",
    "sub={'phy':93,'che':89,'eng':61,'bio':90}\n",
    "print(dict(sorted(sub.items())))"
   ]
  },
  {
   "cell_type": "code",
   "execution_count": 18,
   "metadata": {},
   "outputs": [
    {
     "name": "stdout",
     "output_type": "stream",
     "text": [
      "[('bio', 90), ('che', 89), ('eng', 61), ('phy', 93)]\n"
     ]
    }
   ],
   "source": [
    "# using lambda function approach\n",
    "sub={'phy':93,'che':89,'eng':61,'bio':90}\n",
    "\n",
    "print(sorted(sub.items(),key=lambda x:x[0],reverse=False))"
   ]
  },
  {
   "cell_type": "markdown",
   "metadata": {},
   "source": [
    "# 2. Python program to sort Python Dictionaries by Values"
   ]
  },
  {
   "cell_type": "code",
   "execution_count": 6,
   "metadata": {},
   "outputs": [
    {
     "name": "stdout",
     "output_type": "stream",
     "text": [
      "[61, 89, 90, 93]\n"
     ]
    }
   ],
   "source": [
    "sub={'phy':93,'che':89,'eng':61,'bio':90}\n",
    "d2={}\n",
    "\n",
    "sorted_value=sorted(sub.values())\n",
    "print(sorted_value)"
   ]
  },
  {
   "cell_type": "code",
   "execution_count": 20,
   "metadata": {},
   "outputs": [
    {
     "name": "stdout",
     "output_type": "stream",
     "text": [
      "[('eng', 61), ('che', 89), ('bio', 90), ('phy', 93)]\n"
     ]
    }
   ],
   "source": [
    "# using lambda function approach\n",
    "sub={'phy':93,'che':89,'eng':61,'bio':90}\n",
    "\n",
    "print(sorted(sub.items(),key=lambda x:x[1],reverse=False))"
   ]
  },
  {
   "cell_type": "code",
   "execution_count": 29,
   "metadata": {},
   "outputs": [
    {
     "ename": "AttributeError",
     "evalue": "'dict' object has no attribute 'key'",
     "output_type": "error",
     "traceback": [
      "\u001b[1;31m---------------------------------------------------------------------------\u001b[0m",
      "\u001b[1;31mAttributeError\u001b[0m                            Traceback (most recent call last)",
      "\u001b[1;32m<ipython-input-29-943512f3dd02>\u001b[0m in \u001b[0;36m<module>\u001b[1;34m\u001b[0m\n\u001b[0;32m      2\u001b[0m \u001b[0md1\u001b[0m\u001b[1;33m=\u001b[0m\u001b[1;33m{\u001b[0m\u001b[1;33m}\u001b[0m\u001b[1;33m\u001b[0m\u001b[1;33m\u001b[0m\u001b[0m\n\u001b[0;32m      3\u001b[0m \u001b[1;32mfor\u001b[0m \u001b[0mvalue\u001b[0m \u001b[1;32min\u001b[0m \u001b[0msorted\u001b[0m\u001b[1;33m(\u001b[0m\u001b[0msub\u001b[0m\u001b[1;33m.\u001b[0m\u001b[0mvalues\u001b[0m\u001b[1;33m(\u001b[0m\u001b[1;33m)\u001b[0m\u001b[1;33m)\u001b[0m\u001b[1;33m:\u001b[0m\u001b[1;33m\u001b[0m\u001b[1;33m\u001b[0m\u001b[0m\n\u001b[1;32m----> 4\u001b[1;33m     \u001b[1;32mfor\u001b[0m \u001b[0mkey\u001b[0m \u001b[1;32min\u001b[0m \u001b[0msub\u001b[0m\u001b[1;33m.\u001b[0m\u001b[0mkey\u001b[0m\u001b[1;33m(\u001b[0m\u001b[1;33m)\u001b[0m\u001b[1;33m:\u001b[0m\u001b[1;33m\u001b[0m\u001b[1;33m\u001b[0m\u001b[0m\n\u001b[0m\u001b[0;32m      5\u001b[0m         \u001b[1;32mif\u001b[0m \u001b[0msub\u001b[0m\u001b[1;33m[\u001b[0m\u001b[0mkey\u001b[0m\u001b[1;33m]\u001b[0m\u001b[1;33m==\u001b[0m\u001b[0mvalue\u001b[0m\u001b[1;33m:\u001b[0m\u001b[1;33m\u001b[0m\u001b[1;33m\u001b[0m\u001b[0m\n\u001b[0;32m      6\u001b[0m             \u001b[0md1\u001b[0m\u001b[1;33m[\u001b[0m\u001b[0mkey\u001b[0m\u001b[1;33m]\u001b[0m\u001b[1;33m=\u001b[0m\u001b[0mvalue\u001b[0m\u001b[1;33m\u001b[0m\u001b[1;33m\u001b[0m\u001b[0m\n",
      "\u001b[1;31mAttributeError\u001b[0m: 'dict' object has no attribute 'key'"
     ]
    }
   ],
   "source": [
    "sub={'phy':93,'che':89,'eng':61,'bio':90}\n",
    "d1={}\n",
    "for value in sorted(sub.values()):\n",
    "    for key in sub.key():\n",
    "        if sub[key]==value:\n",
    "            d1[key]=value\n",
    "            break\n",
    "            \n",
    "print(d1)"
   ]
  },
  {
   "cell_type": "markdown",
   "metadata": {},
   "source": [
    "# 3. Python program to find the sum of all items in a dictionary"
   ]
  },
  {
   "cell_type": "code",
   "execution_count": 30,
   "metadata": {},
   "outputs": [
    {
     "name": "stdout",
     "output_type": "stream",
     "text": [
      "333\n"
     ]
    }
   ],
   "source": [
    "sub={'phy':93,'che':89,'eng':61,'bio':90}\n",
    "sum_values=0\n",
    "\n",
    "for i in sub.values():\n",
    "    sum_values +=i\n",
    "print(sum_values)"
   ]
  },
  {
   "cell_type": "code",
   "execution_count": 31,
   "metadata": {},
   "outputs": [
    {
     "name": "stdout",
     "output_type": "stream",
     "text": [
      "8\n"
     ]
    }
   ],
   "source": [
    "sub={'phy':93,'che':89,'eng':61,'bio':90}\n",
    "count_key=0\n",
    "count_value=0\n",
    "\n",
    "total=0\n",
    "\n",
    "for i in sub.items():\n",
    "    count_key +=1\n",
    "    count_value +=1\n",
    "total=count_key +count_value\n",
    "print(total)"
   ]
  },
  {
   "cell_type": "code",
   "execution_count": 33,
   "metadata": {},
   "outputs": [
    {
     "name": "stdout",
     "output_type": "stream",
     "text": [
      "333\n"
     ]
    }
   ],
   "source": [
    "sub={'phy':93,'che':89,'eng':61,'bio':90}\n",
    "\n",
    "summ=sum(sub[i] for i in sub)\n",
    "print(summ)"
   ]
  },
  {
   "cell_type": "markdown",
   "metadata": {},
   "source": [
    "# 4. Python program to remove a key from a dictionary"
   ]
  },
  {
   "cell_type": "code",
   "execution_count": 36,
   "metadata": {},
   "outputs": [
    {
     "name": "stdout",
     "output_type": "stream",
     "text": [
      "{'che': 89, 'eng': 61, 'bio': 90}\n"
     ]
    }
   ],
   "source": [
    "# using pop()\n",
    "sub={'phy':93,'che':89,'eng':61,'bio':90}\n",
    "\n",
    "sub.pop('phy')\n",
    "print(sub)"
   ]
  },
  {
   "cell_type": "code",
   "execution_count": 39,
   "metadata": {},
   "outputs": [
    {
     "name": "stdout",
     "output_type": "stream",
     "text": [
      "{'che': 89, 'eng': 61, 'bio': 90}\n"
     ]
    }
   ],
   "source": [
    "# using del()\n",
    "sub={'phy':93,'che':89,'eng':61,'bio':90}\n",
    "\n",
    "del sub['phy']\n",
    "print(sub)"
   ]
  },
  {
   "cell_type": "markdown",
   "metadata": {},
   "source": [
    "# 5. Python program to merge two Dictionaries"
   ]
  },
  {
   "cell_type": "code",
   "execution_count": 41,
   "metadata": {},
   "outputs": [
    {
     "name": "stdout",
     "output_type": "stream",
     "text": [
      "{'phy': 93, 'che': 89, 'eng': 61, 'bio': 90, 'AE': 50, 'DSA': 90, 'OS': 100}\n"
     ]
    }
   ],
   "source": [
    "sub={'phy':93,'che':89,'eng':61,'bio':90}\n",
    "expert={'AE':50,'DSA':90,'OS':100}\n",
    "\n",
    "sub.update(expert)\n",
    "print(sub)"
   ]
  },
  {
   "cell_type": "code",
   "execution_count": 45,
   "metadata": {},
   "outputs": [
    {
     "name": "stdout",
     "output_type": "stream",
     "text": [
      "{'phy': 93, 'che': 89, 'eng': 61, 'bio': 90, 'AE': 50, 'DSA': 90, 'OS': 100}\n"
     ]
    }
   ],
   "source": [
    "sub={'phy':93,'che':89,'eng':61,'bio':90}\n",
    "expert={'AE':50,'DSA':90,'OS':100}\n",
    "\n",
    "print({**sub,**expert})"
   ]
  },
  {
   "cell_type": "markdown",
   "metadata": {},
   "source": [
    "# 6. Program to create grade calculator in Python\n"
   ]
  },
  {
   "cell_type": "code",
   "execution_count": 19,
   "metadata": {},
   "outputs": [
    {
     "name": "stdout",
     "output_type": "stream",
     "text": [
      "fail\n",
      "pass with third class\n",
      "pass with second class\n",
      "passed with first class\n",
      "outstanding\n",
      "outstanding\n",
      "outstanding\n",
      "outstanding\n"
     ]
    }
   ],
   "source": [
    "list1=[23,45,56,67,78,89,90,94]\n",
    "\n",
    "for ele in list1:\n",
    "    if ele<35:\n",
    "        print(\"fail\")\n",
    "    elif ele>=35 and ele<=50:\n",
    "        print(\"pass with third class\")\n",
    "    elif ele>=51 and ele<=60:\n",
    "        print(\"pass with second class\")\n",
    "        \n",
    "    elif ele>60 and ele<76:\n",
    "        print(\"passed with first class\")\n",
    "        \n",
    "    else:\n",
    "        print(\"outstanding\")\n",
    "    "
   ]
  },
  {
   "cell_type": "markdown",
   "metadata": {},
   "source": [
    "# 7. Print anagrams together in Python using List and Dictionary"
   ]
  },
  {
   "cell_type": "code",
   "execution_count": 7,
   "metadata": {},
   "outputs": [
    {
     "data": {
      "text/plain": [
       "['cat', 'tac', 'act']"
      ]
     },
     "execution_count": 7,
     "metadata": {},
     "output_type": "execute_result"
    }
   ],
   "source": [
    "def check_anagram(value,word):\n",
    "    anagram=[]\n",
    "   \n",
    "    anagram.append(value)\n",
    "    for i in word:\n",
    "        if sorted(value)==sorted(i):\n",
    "            anagram.append(i)\n",
    "    return anagram\n",
    "check_anagram('cat',['tac','act','silent','god'])"
   ]
  },
  {
   "cell_type": "code",
   "execution_count": null,
   "metadata": {},
   "outputs": [],
   "source": []
  },
  {
   "cell_type": "markdown",
   "metadata": {},
   "source": [
    "# 8. Check if binary representations of two numbers are an anagram"
   ]
  },
  {
   "cell_type": "code",
   "execution_count": 24,
   "metadata": {},
   "outputs": [
    {
     "name": "stdout",
     "output_type": "stream",
     "text": [
      "0b1 0b100\n",
      "yes, two number are anagram\n"
     ]
    }
   ],
   "source": [
    "n1=1\n",
    "n2=4\n",
    "x=bin(n1)\n",
    "y=bin(n2)\n",
    "print(x,y)\n",
    "\n",
    "zeroes=abs(len(x)-len(y))\n",
    "\n",
    "if len(x)>len(y):\n",
    "    y=y+zeroes*'0'\n",
    "    \n",
    "elif len(y)>len(x):\n",
    "    x=x+zeroes*'0'\n",
    "\n",
    "if (x.count('0')==y.count('0') and x.count('1')==y.count('1')):\n",
    "    print(\"yes, two number are anagram\")\n",
    "    \n",
    "else:\n",
    "    print(\"two number are not anagram\")"
   ]
  },
  {
   "cell_type": "markdown",
   "metadata": {},
   "source": [
    "# 9. Python Counter to find the size of the largest subset of anagram words"
   ]
  },
  {
   "cell_type": "code",
   "execution_count": null,
   "metadata": {},
   "outputs": [],
   "source": []
  },
  {
   "cell_type": "markdown",
   "metadata": {},
   "source": [
    "# 10. Python Dictionary to find mirror characters in a string"
   ]
  },
  {
   "cell_type": "code",
   "execution_count": 7,
   "metadata": {},
   "outputs": [
    {
     "name": "stdout",
     "output_type": "stream",
     "text": [
      "3\n",
      "3\n",
      "3 2 1\n",
      "1 2 3 \n",
      "5\n",
      "5 4 3 2 1\n",
      "1 2 3 4 5 \n",
      "4\n",
      "1 2 3 4\n",
      "1 2 3 4 \n"
     ]
    }
   ],
   "source": [
    "def bubblesort(arr,n):\n",
    "        \n",
    "    for i in range(n):\n",
    "        swapped=0\n",
    "        for j in range(n-1-i):\n",
    "            if arr[j]>arr[j+1]:\n",
    "                arr[j],arr[j+1]=arr[j+1],arr[j]\n",
    "                swapped+=1\n",
    "            \n",
    "        if swapped==0:\n",
    "            break\n",
    "                \n",
    "\n",
    "def main():\n",
    "    t=int(input())    #for test cases\n",
    "    while t>0:\n",
    "        n=int(input())\n",
    "        arr=list(map(int,input().split()))\n",
    "        \n",
    "        bubblesort(arr,n)\n",
    "        \n",
    "        for i in range(n):\n",
    "            print(arr[i],end=' ')\n",
    "            \n",
    "        print()\n",
    "        t=t-1\n",
    "\n",
    "if __name__=='__main__':\n",
    "    main()"
   ]
  },
  {
   "cell_type": "markdown",
   "metadata": {},
   "source": [
    "# 16. Python Program for Insertion Sort"
   ]
  },
  {
   "cell_type": "code",
   "execution_count": null,
   "metadata": {},
   "outputs": [
    {
     "name": "stdout",
     "output_type": "stream",
     "text": [
      "3\n",
      "3\n",
      "1 2 3\n",
      "1 2 3 \n",
      "5\n",
      "4 3 2 1 5\n",
      "1 2 3 4 5 \n",
      "9\n"
     ]
    }
   ],
   "source": [
    "def insertionsort(arr,n):\n",
    "    for i in range(1,n):\n",
    "        j=i-1\n",
    "        temp=arr[i]\n",
    "        while(j>=0 and arr[j]>temp):\n",
    "            arr[j+1]=arr[j]\n",
    "            j=j-1\n",
    "        arr[j+1]=temp\n",
    "        \n",
    "def main():\n",
    "    t=int(input())\n",
    "    while t>0:\n",
    "        n=int(input())\n",
    "        arr=list(map(int,input().split()))\n",
    "        \n",
    "        insertionsort(arr,n)\n",
    "        for i in range(n):\n",
    "            print(arr[i],end=' ')\n",
    "        print()\n",
    "        \n",
    "        t=t-1\n",
    "\n",
    "if __name__=='__main__':\n",
    "    main()"
   ]
  },
  {
   "cell_type": "code",
   "execution_count": null,
   "metadata": {},
   "outputs": [],
   "source": []
  },
  {
   "cell_type": "markdown",
   "metadata": {},
   "source": [
    "# 17. Python Program for SelectionSort\n"
   ]
  },
  {
   "cell_type": "code",
   "execution_count": 11,
   "metadata": {},
   "outputs": [
    {
     "name": "stdout",
     "output_type": "stream",
     "text": [
      "1\n",
      "5\n",
      "3 2 5 4 12\n",
      "2 3 4 5 12 \n"
     ]
    }
   ],
   "source": [
    "def selectionsort(arr,n):\n",
    "    \n",
    "    for i in range(n):\n",
    "        min_index=i\n",
    "        for j in range(i+1,n):\n",
    "            if arr[j]<arr[min_index]:\n",
    "                min_index=j\n",
    "        arr[i],arr[min_index]=arr[min_index],arr[i]\n",
    "    \n",
    "\n",
    "def main():\n",
    "    t=int(input())  # taking no of test cases\n",
    "    while t>0:\n",
    "        n=int(input())    # taking length of array\n",
    "        \n",
    "        #storing array element in list\n",
    "        arr=list(map(int,input().split()))     \n",
    "        \n",
    "#       calling sorting algorithm\n",
    "        selectionsort(arr,n)\n",
    "        \n",
    "#       print the array\n",
    "        for i in range(n):\n",
    "            print(arr[i],end=' ')\n",
    "        print()\n",
    "        \n",
    "        t=t-1\n",
    "\n",
    "\n",
    "if __name__=='__main__':\n",
    "    main()\n"
   ]
  },
  {
   "cell_type": "markdown",
   "metadata": {},
   "source": [
    "# 19. Python Program for Merge Sort"
   ]
  },
  {
   "cell_type": "code",
   "execution_count": 14,
   "metadata": {},
   "outputs": [
    {
     "name": "stdout",
     "output_type": "stream",
     "text": [
      "5\n",
      "1 3 5 2 4\n",
      "1 3 5 2 4 \n"
     ]
    }
   ],
   "source": [
    "def merge(arr,l,mid,r):\n",
    "    n=mid-l+1\n",
    "    m=r-mid\n",
    "    \n",
    "    arr1=[0]*n\n",
    "    arr2=[0]*m\n",
    "    \n",
    "    arr3=[0]*(m+n)\n",
    "    \n",
    "    for i in range(n):\n",
    "        arr1[i]=arr[l+i]\n",
    "        \n",
    "    for i in range(m):\n",
    "        arr2[i]=arr[mid+1+i]\n",
    "    i=0\n",
    "    j=0\n",
    "    k=0\n",
    "    \n",
    "    while i<n and j<m:\n",
    "        if arr1[i]<arr2[j]:\n",
    "            arr3[k]=arr1[i]\n",
    "            i+=1\n",
    "            k+=1\n",
    "            \n",
    "        else:\n",
    "            arr3[k]=arr2[j]\n",
    "            k+=1\n",
    "            j+=1\n",
    "    while(i<n):\n",
    "        arr3[k]=arr1[i]\n",
    "        i+=1\n",
    "        k+=1\n",
    "    while j<m:\n",
    "        arr3[k]=arr2[j]\n",
    "        j+=1\n",
    "        k+=1\n",
    "    \n",
    "    return arr3\n",
    "\n",
    "def mergesort(arr,l,r):\n",
    "    if l<r:\n",
    "        mid=l + (r-l)//2\n",
    "        mergesort(arr,l,mid)\n",
    "        mergesort(arr,mid+1,r)\n",
    "        merge(arr,l,mid,r)\n",
    "\n",
    "\n",
    "from sys import setrecursionlimit\n",
    "setrecursionlimit(100000000)\n",
    "\n",
    "def main():\n",
    "#     t=int(input())\n",
    "    t=1\n",
    "    while t>0:\n",
    "        n=int(input())\n",
    "        arr=list(map(int,input().split()))\n",
    "        mergesort(arr,0,n-1)\n",
    "        for i in range(n):\n",
    "            print(arr[i],end=' ')\n",
    "        print()\n",
    "        \n",
    "        t=t-1\n",
    "        \n",
    "\n",
    "if __name__=='__main__':\n",
    "    main()"
   ]
  },
  {
   "cell_type": "markdown",
   "metadata": {},
   "source": [
    "# 20.merge two sorted array"
   ]
  },
  {
   "cell_type": "code",
   "execution_count": 1,
   "metadata": {},
   "outputs": [
    {
     "name": "stdout",
     "output_type": "stream",
     "text": [
      "1\n",
      "3\n",
      "1 3 5\n",
      "3\n",
      "2 4 6\n",
      "1 2 3 4 5 6 \n"
     ]
    }
   ],
   "source": [
    "def mergersort(arr1,n,arr2,m):\n",
    "    arr3=[None]*(n+m)\n",
    "    i=0\n",
    "    j=0\n",
    "    k=0\n",
    "    while i<n and j<m:\n",
    "        if (arr1[i]<arr2[j]):\n",
    "            arr3[k]=arr1[i]\n",
    "            k=k+1\n",
    "            i=i+1\n",
    "            \n",
    "        else:\n",
    "            arr3[k]=arr2[j]\n",
    "            k=k+1\n",
    "            j=j+1\n",
    "            \n",
    "    while (i<n):\n",
    "        arr3[k]=arr1[i]\n",
    "        k=k+1\n",
    "        i=i+1\n",
    "            \n",
    "    while (j<m):\n",
    "        arr3[k]=arr2[j]\n",
    "        k=k+1\n",
    "        j=j+1\n",
    "            \n",
    "    return arr3\n",
    "\n",
    "def main():\n",
    "    t=int(input())\n",
    "    \n",
    "    while t>0:\n",
    "        n=int(input())\n",
    "        arr1=list(map(int,input().split()))\n",
    "\n",
    "        \n",
    "        m=int(input())\n",
    "        arr2=list(map(int,input().split()))\n",
    "               \n",
    "        arr=mergersort(arr1,n,arr2,m)\n",
    "        for i in range(n+m):\n",
    "            print(arr[i],end=' ')\n",
    "#         i=0\n",
    "#         while(i<=n+m-1):\n",
    "#             print(arr[i],end=\" \")\n",
    "#             i+=1\n",
    "\n",
    "        print()\n",
    "        \n",
    "        t=t-1\n",
    "\n",
    "if __name__=='__main__':\n",
    "    main()"
   ]
  },
  {
   "cell_type": "markdown",
   "metadata": {},
   "source": [
    "# key point of merge sort:\n",
    "    1)time complexity:- nlog(n)\n",
    "        \n",
    "    2)outer space :require beacuse it take extra array\n",
    "    \n",
    "    3)space complexity :- O(n) bcz take exta space\n",
    "        \n",
    "    4)stable: its stable bcz it take element position\n",
    "        \n",
    "    5)it follow divide and conqure rule\n",
    "    \n",
    "    "
   ]
  },
  {
   "cell_type": "markdown",
   "metadata": {},
   "source": [
    "# step of merge sort\n",
    "\n",
    "1)find mid element mid=l +(r-l)/2   this formula is to avoid over flow\n",
    "\n",
    "2)divide array into two half\n",
    "\n",
    "3)first half take array from l to mid\n",
    "\n",
    "4)second half array will take from mid+1 to r\n",
    "\n",
    "5)merge the two sorted array"
   ]
  },
  {
   "cell_type": "markdown",
   "metadata": {},
   "source": [
    "# 21. Python Program for quick Sort"
   ]
  },
  {
   "cell_type": "code",
   "execution_count": 13,
   "metadata": {},
   "outputs": [
    {
     "name": "stdout",
     "output_type": "stream",
     "text": [
      "3 1 4 2 \n"
     ]
    }
   ],
   "source": [
    "\n",
    "\n",
    "def partition(arr,low,high):\n",
    "    i=low-1\n",
    "    pivot=arr[high-1]\n",
    "    for j in range(high-1):\n",
    "        if arr[j]<=pivot:\n",
    "            i=i+1\n",
    "            arr[i],arr[j]=arr[j],arr[i]\n",
    "    arr[i+1],pivot=pivot,arr[i+1]\n",
    "    return i+1\n",
    "\n",
    "def quicksort(arr,low,high):\n",
    "    if low<high:\n",
    "        pivot=partition(arr,low,high)\n",
    "        quicksort(arr,low,pivot-1)\n",
    "        quicksort(arr,pivot+1,high)\n",
    "        \n",
    "\n",
    "\n",
    "from sys import setrecursionlimit\n",
    "setrecursionlimit(100000000)\n",
    "\n",
    "\n",
    "    \n",
    "def main():\n",
    "\n",
    "    n=4\n",
    "    arr=[3,1,4,2]\n",
    "    quicksort(arr,0,n-1)\n",
    "    for i in range(n):\n",
    "        print(arr[i],end=' ')\n",
    "    print()\n",
    "    \n",
    "if __name__=='__main__':\n",
    "    main()\n",
    "    \n",
    "#     n=int(input())\n",
    "#     arr=list(map(int,input().split()))"
   ]
  },
  {
   "cell_type": "code",
   "execution_count": null,
   "metadata": {},
   "outputs": [],
   "source": []
  }
 ],
 "metadata": {
  "kernelspec": {
   "display_name": "Python 3",
   "language": "python",
   "name": "python3"
  },
  "language_info": {
   "codemirror_mode": {
    "name": "ipython",
    "version": 3
   },
   "file_extension": ".py",
   "mimetype": "text/x-python",
   "name": "python",
   "nbconvert_exporter": "python",
   "pygments_lexer": "ipython3",
   "version": "3.7.3"
  }
 },
 "nbformat": 4,
 "nbformat_minor": 2
}
