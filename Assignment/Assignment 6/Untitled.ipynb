{
 "cells": [
  {
   "cell_type": "markdown",
   "metadata": {},
   "source": [
    "# 1. Write a Python program to sort a list of tuples using Lambda.\n"
   ]
  },
  {
   "cell_type": "code",
   "execution_count": 4,
   "metadata": {},
   "outputs": [
    {
     "name": "stdout",
     "output_type": "stream",
     "text": [
      "[('che', 78), ('eng', 83), ('math', 89), ('bio', 90)]\n"
     ]
    }
   ],
   "source": [
    "# first appreoch using sorted() function\n",
    "sub=[(\"eng\",83),(\"math\",89),(\"che\",78),(\"bio\",90)]\n",
    "\n",
    "list1=sorted(sub,key=lambda x:x[1])\n",
    "print(list1)"
   ]
  },
  {
   "cell_type": "code",
   "execution_count": 5,
   "metadata": {},
   "outputs": [
    {
     "name": "stdout",
     "output_type": "stream",
     "text": [
      "[('bio', 90), ('che', 78), ('eng', 83), ('math', 89)]\n"
     ]
    }
   ],
   "source": [
    "sub=[(\"eng\",83),(\"math\",89),(\"che\",78),(\"bio\",90)]\n",
    "list1=sorted(sub,key=lambda x:x[0])\n",
    "print(list1)"
   ]
  },
  {
   "cell_type": "code",
   "execution_count": 8,
   "metadata": {},
   "outputs": [
    {
     "name": "stdout",
     "output_type": "stream",
     "text": [
      "[('eng', 78), ('phy', 56), ('bio', 34), ('che', 98)]\n",
      "[('bio', 34), ('che', 98), ('eng', 78), ('phy', 56)]\n"
     ]
    }
   ],
   "source": [
    "# 2nd approch\n",
    "sub=[\"eng\",\"phy\",\"bio\",\"che\"]\n",
    "mark=[78,56,34,98]\n",
    "join=list(zip(sub,mark))\n",
    "\n",
    "print(join)\n",
    "\n",
    "a=lambda x:sorted(join)\n",
    "print(a(join))\n"
   ]
  },
  {
   "cell_type": "markdown",
   "metadata": {},
   "source": [
    "# 2. Write a Python program to sort a list of dictionaries using Lambda\n"
   ]
  },
  {
   "cell_type": "code",
   "execution_count": 21,
   "metadata": {},
   "outputs": [
    {
     "name": "stdout",
     "output_type": "stream",
     "text": [
      "{'name': 'akash', 'salary': '50000', 'company': 'infosys', 'location': 'delhi'}\n"
     ]
    }
   ],
   "source": [
    "employee_detail={\n",
    "    \"name\":\"akash\",\n",
    "  \"salary\":\"50000\",\n",
    "\"company\":\"infosys\",\n",
    "\"location\":\"delhi\"}\n",
    "print(employee_detail)"
   ]
  },
  {
   "cell_type": "code",
   "execution_count": 22,
   "metadata": {},
   "outputs": [
    {
     "data": {
      "text/plain": [
       "{'company': 'infosys', 'location': 'delhi', 'name': 'akash', 'salary': '50000'}"
      ]
     },
     "execution_count": 22,
     "metadata": {},
     "output_type": "execute_result"
    }
   ],
   "source": [
    "dict(sorted(employee_detail.items(),key=lambda x:x[0]))\n"
   ]
  },
  {
   "cell_type": "code",
   "execution_count": 23,
   "metadata": {},
   "outputs": [
    {
     "data": {
      "text/plain": [
       "{'salary': '50000', 'name': 'akash', 'location': 'delhi', 'company': 'infosys'}"
      ]
     },
     "execution_count": 23,
     "metadata": {},
     "output_type": "execute_result"
    }
   ],
   "source": [
    "dict(sorted(employee_detail.items(),key=lambda x:x[1]))\n"
   ]
  },
  {
   "cell_type": "code",
   "execution_count": 26,
   "metadata": {
    "scrolled": true
   },
   "outputs": [
    {
     "name": "stdout",
     "output_type": "stream",
     "text": [
      "keys of dict is <function <lambda> at 0x0000028045EBFAE8>\n",
      "values of dict is <function <lambda> at 0x0000028045EBFD90>\n"
     ]
    }
   ],
   "source": [
    "# 2nd approach\n",
    "a=lambda x:sorted(x.keys())\n",
    "print(f\"keys of dict is {a}\")\n",
    "b=lambda x:sorted(x.values())\n",
    "print(f\"values of dict is {b}\")\n",
    "\n",
    "\n",
    "\n",
    "\n",
    "\n"
   ]
  },
  {
   "cell_type": "markdown",
   "metadata": {},
   "source": [
    "# 3. Write a Python program to find square and cube every number in a given list of integers using Lambda\n"
   ]
  },
  {
   "cell_type": "code",
   "execution_count": 28,
   "metadata": {},
   "outputs": [
    {
     "data": {
      "text/plain": [
       "[1, 4, 9, 16, 25, 36, 49]"
      ]
     },
     "execution_count": 28,
     "metadata": {},
     "output_type": "execute_result"
    }
   ],
   "source": [
    "l1=[1,2,3,4,5,6,7]\n",
    "sqr=lambda l1:[i**2  for i in l1]\n",
    "sqr(l1)\n"
   ]
  },
  {
   "cell_type": "code",
   "execution_count": 29,
   "metadata": {},
   "outputs": [
    {
     "data": {
      "text/plain": [
       "[1, 8, 27, 64, 125, 216, 343]"
      ]
     },
     "execution_count": 29,
     "metadata": {},
     "output_type": "execute_result"
    }
   ],
   "source": [
    "cube=lambda l1:[i**3 for i in l1]\n",
    "cube(l1)"
   ]
  },
  {
   "cell_type": "markdown",
   "metadata": {},
   "source": [
    "# 4. Write a Python program to find if a given string starts with a given character using Lambda\n"
   ]
  },
  {
   "cell_type": "code",
   "execution_count": 34,
   "metadata": {},
   "outputs": [
    {
     "name": "stdout",
     "output_type": "stream",
     "text": [
      "True\n"
     ]
    }
   ],
   "source": [
    "start_with=lambda x:True if x.startswith(\"p\") else False\n",
    "print(start_with(\"python\"))"
   ]
  },
  {
   "cell_type": "code",
   "execution_count": 35,
   "metadata": {},
   "outputs": [
    {
     "name": "stdout",
     "output_type": "stream",
     "text": [
      "False\n"
     ]
    }
   ],
   "source": [
    "start_with=lambda x:True if x.startswith(\"p\") else False\n",
    "print(start_with(\"data sceince\"))"
   ]
  },
  {
   "cell_type": "code",
   "execution_count": 37,
   "metadata": {},
   "outputs": [
    {
     "data": {
      "text/plain": [
       "['this']"
      ]
     },
     "execution_count": 37,
     "metadata": {},
     "output_type": "execute_result"
    }
   ],
   "source": [
    "str=\"this is call python\".split()\n",
    "list(filter(lambda x:x.startswith(\"t\"),str))"
   ]
  },
  {
   "cell_type": "code",
   "execution_count": 38,
   "metadata": {},
   "outputs": [
    {
     "data": {
      "text/plain": [
       "[True, False, False, False]"
      ]
     },
     "execution_count": 38,
     "metadata": {},
     "output_type": "execute_result"
    }
   ],
   "source": [
    "str=\"this is call python\".split()\n",
    "list(map(lambda x:x.startswith(\"t\"),str))"
   ]
  },
  {
   "cell_type": "markdown",
   "metadata": {},
   "source": [
    "# 5. Write a Python program to check whether a given string is number or not using Lambda\n"
   ]
  },
  {
   "cell_type": "code",
   "execution_count": 39,
   "metadata": {},
   "outputs": [
    {
     "data": {
      "text/plain": [
       "['1034']"
      ]
     },
     "execution_count": 39,
     "metadata": {},
     "output_type": "execute_result"
    }
   ],
   "source": [
    "string=\"my rank in gate exam is 1034 in EC\".split()\n",
    "list(filter(lambda x:x.isdecimal(),string))"
   ]
  },
  {
   "cell_type": "code",
   "execution_count": 40,
   "metadata": {},
   "outputs": [
    {
     "data": {
      "text/plain": [
       "[False, False, False, False, False, False, True, False, False]"
      ]
     },
     "execution_count": 40,
     "metadata": {},
     "output_type": "execute_result"
    }
   ],
   "source": [
    "string=\"my rank in gate exam is 1034 in EC\".split()\n",
    "list(map(lambda x:x.isdecimal(),string))"
   ]
  },
  {
   "cell_type": "code",
   "execution_count": 43,
   "metadata": {},
   "outputs": [
    {
     "data": {
      "text/plain": [
       "False"
      ]
     },
     "execution_count": 43,
     "metadata": {},
     "output_type": "execute_result"
    }
   ],
   "source": [
    "string=\"my rank in gate exam is 1034 in EC\"\n",
    "a=lambda x:x.isnumeric()\n",
    "a(string)"
   ]
  },
  {
   "cell_type": "markdown",
   "metadata": {},
   "source": [
    "# 6. Write a Python program to create Fibonacci series using Lambda\n"
   ]
  },
  {
   "cell_type": "code",
   "execution_count": 52,
   "metadata": {},
   "outputs": [
    {
     "name": "stdout",
     "output_type": "stream",
     "text": [
      "[1, 1, 2, 3, 5, 8, 13, 21, 34, 55]\n"
     ]
    }
   ],
   "source": [
    "li=[1,1]\n",
    "a=lambda x:[li.append(sum(li[-2:]))for i in range(x)]\n",
    "a(8)\n",
    "print(li)"
   ]
  },
  {
   "cell_type": "code",
   "execution_count": 53,
   "metadata": {},
   "outputs": [
    {
     "name": "stdout",
     "output_type": "stream",
     "text": [
      "0\n",
      "1\n",
      "1\n"
     ]
    },
    {
     "ename": "TypeError",
     "evalue": "unsupported operand type(s) for +: 'int' and 'builtin_function_or_method'",
     "output_type": "error",
     "traceback": [
      "\u001b[1;31m---------------------------------------------------------------------------\u001b[0m",
      "\u001b[1;31mTypeError\u001b[0m                                 Traceback (most recent call last)",
      "\u001b[1;32m<ipython-input-53-9f65923d8197>\u001b[0m in \u001b[0;36m<module>\u001b[1;34m\u001b[0m\n\u001b[0;32m     17\u001b[0m \u001b[0mn\u001b[0m\u001b[1;33m=\u001b[0m\u001b[1;36m8\u001b[0m\u001b[1;33m\u001b[0m\u001b[1;33m\u001b[0m\u001b[0m\n\u001b[0;32m     18\u001b[0m \u001b[0md\u001b[0m\u001b[1;33m=\u001b[0m\u001b[1;32mlambda\u001b[0m \u001b[0mx\u001b[0m\u001b[1;33m:\u001b[0m\u001b[0mfibo\u001b[0m\u001b[1;33m(\u001b[0m\u001b[0mn\u001b[0m\u001b[1;33m)\u001b[0m\u001b[1;33m\u001b[0m\u001b[1;33m\u001b[0m\u001b[0m\n\u001b[1;32m---> 19\u001b[1;33m \u001b[0md\u001b[0m\u001b[1;33m(\u001b[0m\u001b[0mn\u001b[0m\u001b[1;33m)\u001b[0m\u001b[1;33m\u001b[0m\u001b[1;33m\u001b[0m\u001b[0m\n\u001b[0m",
      "\u001b[1;32m<ipython-input-53-9f65923d8197>\u001b[0m in \u001b[0;36m<lambda>\u001b[1;34m(x)\u001b[0m\n\u001b[0;32m     16\u001b[0m \u001b[1;33m\u001b[0m\u001b[0m\n\u001b[0;32m     17\u001b[0m \u001b[0mn\u001b[0m\u001b[1;33m=\u001b[0m\u001b[1;36m8\u001b[0m\u001b[1;33m\u001b[0m\u001b[1;33m\u001b[0m\u001b[0m\n\u001b[1;32m---> 18\u001b[1;33m \u001b[0md\u001b[0m\u001b[1;33m=\u001b[0m\u001b[1;32mlambda\u001b[0m \u001b[0mx\u001b[0m\u001b[1;33m:\u001b[0m\u001b[0mfibo\u001b[0m\u001b[1;33m(\u001b[0m\u001b[0mn\u001b[0m\u001b[1;33m)\u001b[0m\u001b[1;33m\u001b[0m\u001b[1;33m\u001b[0m\u001b[0m\n\u001b[0m\u001b[0;32m     19\u001b[0m \u001b[0md\u001b[0m\u001b[1;33m(\u001b[0m\u001b[0mn\u001b[0m\u001b[1;33m)\u001b[0m\u001b[1;33m\u001b[0m\u001b[1;33m\u001b[0m\u001b[0m\n",
      "\u001b[1;32m<ipython-input-53-9f65923d8197>\u001b[0m in \u001b[0;36mfibo\u001b[1;34m(n)\u001b[0m\n\u001b[0;32m      6\u001b[0m \u001b[1;33m\u001b[0m\u001b[0m\n\u001b[0;32m      7\u001b[0m     \u001b[1;32mfor\u001b[0m \u001b[0mi\u001b[0m \u001b[1;32min\u001b[0m \u001b[0mrange\u001b[0m\u001b[1;33m(\u001b[0m\u001b[1;36m1\u001b[0m\u001b[1;33m,\u001b[0m\u001b[0mn\u001b[0m\u001b[1;33m-\u001b[0m\u001b[1;36m2\u001b[0m\u001b[1;33m)\u001b[0m\u001b[1;33m:\u001b[0m\u001b[1;33m\u001b[0m\u001b[1;33m\u001b[0m\u001b[0m\n\u001b[1;32m----> 8\u001b[1;33m         \u001b[0msumm\u001b[0m\u001b[1;33m=\u001b[0m\u001b[0mn1\u001b[0m\u001b[1;33m+\u001b[0m\u001b[0mn2\u001b[0m\u001b[1;33m\u001b[0m\u001b[1;33m\u001b[0m\u001b[0m\n\u001b[0m\u001b[0;32m      9\u001b[0m         \u001b[0mn1\u001b[0m\u001b[1;33m=\u001b[0m\u001b[0mn2\u001b[0m\u001b[1;33m\u001b[0m\u001b[1;33m\u001b[0m\u001b[0m\n\u001b[0;32m     10\u001b[0m         \u001b[0mn2\u001b[0m\u001b[1;33m=\u001b[0m\u001b[0msum\u001b[0m\u001b[1;33m\u001b[0m\u001b[1;33m\u001b[0m\u001b[0m\n",
      "\u001b[1;31mTypeError\u001b[0m: unsupported operand type(s) for +: 'int' and 'builtin_function_or_method'"
     ]
    }
   ],
   "source": [
    "def fibo(n):\n",
    "    n1=0\n",
    "    n2=1\n",
    "    print(n1)\n",
    "    print(n2)\n",
    "    \n",
    "    for i in range(1,n-2):\n",
    "        summ=n1+n2\n",
    "        n1=n2\n",
    "        n2=sum\n",
    "        print(summ)\n",
    "\n",
    "\n",
    "\n",
    "\n",
    "\n",
    "n=8\n",
    "d=lambda x:fibo(n)\n",
    "d(n)"
   ]
  },
  {
   "cell_type": "code",
   "execution_count": 54,
   "metadata": {},
   "outputs": [
    {
     "data": {
      "text/plain": [
       "[0, 1, 1, 2, 3, 5, 8, 13, 21, 34]"
      ]
     },
     "execution_count": 54,
     "metadata": {},
     "output_type": "execute_result"
    }
   ],
   "source": [
    "count=10\n",
    "l=[0,1]\n",
    "any(map(lambda _:l.append(sum(l[-2:])),range(2,count)))\n",
    "l\n"
   ]
  },
  {
   "cell_type": "markdown",
   "metadata": {},
   "source": [
    "# 7. Write a Python program to find the intersection of two given arrays using Lambda"
   ]
  },
  {
   "cell_type": "code",
   "execution_count": 5,
   "metadata": {},
   "outputs": [
    {
     "name": "stdout",
     "output_type": "stream",
     "text": [
      "[3, 4, 5, 7, 8]\n"
     ]
    }
   ],
   "source": [
    "l1=set([1,2,3,4,5,7,8,9])\n",
    "l2=set([3,4,5,6,7,8])\n",
    "\n",
    "a=lambda l1,l2:l1.intersection(l2)\n",
    "b=list(a(l1,l2))\n",
    "print(b)"
   ]
  },
  {
   "cell_type": "code",
   "execution_count": 7,
   "metadata": {},
   "outputs": [
    {
     "data": {
      "text/plain": [
       "[2, 3, 4, 6, 7]"
      ]
     },
     "execution_count": 7,
     "metadata": {},
     "output_type": "execute_result"
    }
   ],
   "source": [
    "# second approach\n",
    "li=[1,2,3,4,6,7]\n",
    "lo=[2,3,4,6,7,9]\n",
    "\n",
    "list(filter(lambda x:x in li,lo))"
   ]
  },
  {
   "cell_type": "markdown",
   "metadata": {},
   "source": [
    "# Write a Python program to rearrange positive and negative numbers in a given array using Lambda\n"
   ]
  },
  {
   "cell_type": "code",
   "execution_count": 6,
   "metadata": {},
   "outputs": [
    {
     "data": {
      "text/plain": [
       "[-7, -7, -5, -4, -2, 0, 2, 4, 4, 5, 6, 9]"
      ]
     },
     "execution_count": 6,
     "metadata": {},
     "output_type": "execute_result"
    }
   ],
   "source": [
    "# first approach\n",
    "li=[2,4,-5,-7,5,-7,-4,6,9,4,-2,0]\n",
    "\n",
    "a=lambda x:sorted(li)\n",
    "a(li)"
   ]
  },
  {
   "cell_type": "code",
   "execution_count": 7,
   "metadata": {},
   "outputs": [
    {
     "data": {
      "text/plain": [
       "[-7, -7, -5, -4, -2, 0, 2, 4, 4, 5, 6, 9]"
      ]
     },
     "execution_count": 7,
     "metadata": {},
     "output_type": "execute_result"
    }
   ],
   "source": [
    "a=lambda x:sorted(li)\n",
    "a(li)"
   ]
  },
  {
   "cell_type": "code",
   "execution_count": 16,
   "metadata": {},
   "outputs": [
    {
     "name": "stdout",
     "output_type": "stream",
     "text": [
      "[-5, -7, -7, -4, -2, 2, 4, 5, 6, 9, 4]\n"
     ]
    }
   ],
   "source": [
    "# second approach\n",
    "li=[2,4,-5,-7,5,-7,-4,6,9,4,-2,0]\n",
    "\n",
    "# extract only positive value\n",
    "p=list(filter(lambda x:x>0,li))\n",
    "p\n",
    "\n",
    "# extract only negative value\n",
    "n=list(filter(lambda x:x<0,li))\n",
    "n\n",
    "\n",
    "lo=[]\n",
    "\n",
    "lo.extend(n)\n",
    "# lo.extend(0)\n",
    "lo.extend(p)\n",
    "print(lo)"
   ]
  },
  {
   "cell_type": "code",
   "execution_count": 18,
   "metadata": {},
   "outputs": [
    {
     "data": {
      "text/plain": [
       "[-5, -7, -7, -4, -2, 0, 2, 4, 5, 6, 9, 4]"
      ]
     },
     "execution_count": 18,
     "metadata": {},
     "output_type": "execute_result"
    }
   ],
   "source": [
    "# third approach\n",
    "def arrange(li):\n",
    "    return [i for i in li if i<0 ]+[i for i in li if i==0]+[i for i in li if i>0]\n",
    "\n",
    "arrange(li)"
   ]
  },
  {
   "cell_type": "markdown",
   "metadata": {},
   "source": [
    "# 9. Write a Python program to count the even, odd numbers in a given array of integers using Lambda"
   ]
  },
  {
   "cell_type": "code",
   "execution_count": 21,
   "metadata": {},
   "outputs": [
    {
     "name": "stdout",
     "output_type": "stream",
     "text": [
      "5\n",
      "5\n"
     ]
    }
   ],
   "source": [
    "# first apporaoch\n",
    "li=[1,2,3,4,5,6,7,8,9,10]\n",
    "even=len(list(filter(lambda x:x%2==0,li)))\n",
    "print(even)\n",
    "\n",
    "odd=len(list(filter(lambda x:x%2!=0,li)))\n",
    "print(odd)"
   ]
  },
  {
   "cell_type": "code",
   "execution_count": 38,
   "metadata": {},
   "outputs": [
    {
     "name": "stdout",
     "output_type": "stream",
     "text": [
      "even element length in list is 5\n",
      "odd element length in list is 5\n"
     ]
    }
   ],
   "source": [
    "# second approach\n",
    "li=[1,2,3,4,5,6,7,8,9,10]\n",
    "even=lambda x:[x for x in li if x%2==0]\n",
    "print(f\"even element length in list is {len(even(li))}\")\n",
    "\n",
    "\n",
    "odd=lambda i:[i for i in li if i%2!=0]\n",
    "print(f\"odd element length in list is {len(odd(li))}\")"
   ]
  },
  {
   "cell_type": "markdown",
   "metadata": {},
   "source": [
    "# 10. Write a Python program to add two given lists using map and lambda\n"
   ]
  },
  {
   "cell_type": "code",
   "execution_count": 40,
   "metadata": {},
   "outputs": [
    {
     "name": "stdout",
     "output_type": "stream",
     "text": [
      "[1, 2, 3, 4, 5, 6, 7, 8, 9]\n"
     ]
    }
   ],
   "source": [
    "# first approach\n",
    "x=[1,2,3,4]\n",
    "y=[5,6,7,8,9]\n",
    "addition=lambda a,b:a.extend(b)\n",
    "addition(x,y)\n",
    "print(x)"
   ]
  },
  {
   "cell_type": "code",
   "execution_count": 41,
   "metadata": {},
   "outputs": [
    {
     "data": {
      "text/plain": [
       "[6, 8, 10, 12]"
      ]
     },
     "execution_count": 41,
     "metadata": {},
     "output_type": "execute_result"
    }
   ],
   "source": [
    "# second approach\n",
    "x=[1,2,3,4]\n",
    "y=[5,6,7,8,9]\n",
    "\n",
    "list(map(lambda a,b:a+b,x,y))"
   ]
  },
  {
   "cell_type": "code",
   "execution_count": 51,
   "metadata": {},
   "outputs": [
    {
     "data": {
      "text/plain": [
       "[29, 89, 60, 56, 77, 82, 23, 39, 82, 56, 44, 30]"
      ]
     },
     "execution_count": 51,
     "metadata": {},
     "output_type": "execute_result"
    }
   ],
   "source": [
    "l=[29, 89, 60, 56, 77, 82]\n",
    "l2=[23, 39, 82, 56, 44, 30]\n",
    "any(map(lambda x:l.append(x),l2))\n",
    "l"
   ]
  },
  {
   "cell_type": "markdown",
   "metadata": {},
   "source": [
    "# 11. Write a Python program to find numbers divisible by nineteen or thirteen from a list of numbers using Lambda\n"
   ]
  },
  {
   "cell_type": "code",
   "execution_count": 58,
   "metadata": {},
   "outputs": [
    {
     "data": {
      "text/plain": [
       "[13, 19, 26, 38, 39]"
      ]
     },
     "execution_count": 58,
     "metadata": {},
     "output_type": "execute_result"
    }
   ],
   "source": [
    "# first approach\n",
    "l1=[29, 13,19,26,38,89, 60, 56, 77, 82, 23, 39, 82, 56, 44, 30]\n",
    "list(filter(lambda x:x%19==0 or x%13==0,l1)) \n"
   ]
  },
  {
   "cell_type": "markdown",
   "metadata": {},
   "source": [
    "# 12. Write a Python program to find palindromes in a given list of strings using Lambda"
   ]
  },
  {
   "cell_type": "code",
   "execution_count": 60,
   "metadata": {},
   "outputs": [
    {
     "data": {
      "text/plain": [
       "['nitin', 'aba', '121']"
      ]
     },
     "execution_count": 60,
     "metadata": {},
     "output_type": "execute_result"
    }
   ],
   "source": [
    "l1=[\"nitin\",\"aba\",\"velocity\",\"data\",\"121\"]\n",
    "list(filter(lambda x:x==x[::-1],l1))"
   ]
  },
  {
   "cell_type": "markdown",
   "metadata": {},
   "source": [
    "# 13. Write a Python program to find all anagrams of a string in a given list of strings using lambda"
   ]
  },
  {
   "cell_type": "code",
   "execution_count": 65,
   "metadata": {},
   "outputs": [
    {
     "name": "stdout",
     "output_type": "stream",
     "text": [
      "['tac', 'act']\n"
     ]
    }
   ],
   "source": [
    "# first approach\n",
    "arr=[\"tac\",\"act\",\"dog\",\"silent\",\"listen\",\"god\"]\n",
    "string=\"cat\"\n",
    "\n",
    "li= list(filter(lambda x: sorted(string)==sorted(x),arr))\n",
    "print(li)"
   ]
  },
  {
   "cell_type": "code",
   "execution_count": 68,
   "metadata": {},
   "outputs": [
    {
     "name": "stdout",
     "output_type": "stream",
     "text": [
      "[None, 'tac', None, 'act', None, None]\n",
      "['tac', 'act']\n"
     ]
    }
   ],
   "source": [
    "# second approach\n",
    "arr = ['dog', 'tac', 'god', 'act','listen','silent']\n",
    "s='cat'\n",
    "ans=list(map(lambda i : i if (sorted(i)==sorted(s)) else None ,arr))\n",
    "print(ans)\n",
    "ans=[i for i in ans if i is not None]\n",
    "print(ans)"
   ]
  },
  {
   "cell_type": "code",
   "execution_count": 70,
   "metadata": {},
   "outputs": [
    {
     "name": "stdout",
     "output_type": "stream",
     "text": [
      "['tac', 'act']\n"
     ]
    }
   ],
   "source": [
    "# third approach\n",
    "arr = ['dog', 'tac', 'god', 'act','listen','silent']\n",
    "s='cat'\n",
    "res=list(filter(lambda i:i if sorted(i)==sorted(s) else None,arr))\n",
    "print(res)\n"
   ]
  },
  {
   "cell_type": "markdown",
   "metadata": {},
   "source": [
    "# 14. Write a Python program that multiplies each number of a given list with a given number using lambda function. Print the result"
   ]
  },
  {
   "cell_type": "code",
   "execution_count": 73,
   "metadata": {},
   "outputs": [
    {
     "data": {
      "text/plain": [
       "[3, 6, 9, 12, 15, 18, 21]"
      ]
     },
     "execution_count": 73,
     "metadata": {},
     "output_type": "execute_result"
    }
   ],
   "source": [
    "# first approach\n",
    "li=[1,2,3,4,5,6,7]\n",
    "num=3\n",
    "\n",
    "multi=lambda i:[i*num for i in li]\n",
    "multi(li)"
   ]
  },
  {
   "cell_type": "code",
   "execution_count": 74,
   "metadata": {},
   "outputs": [
    {
     "data": {
      "text/plain": [
       "[3, 6, 9, 12, 15, 18, 21]"
      ]
     },
     "execution_count": 74,
     "metadata": {},
     "output_type": "execute_result"
    }
   ],
   "source": [
    "# second approach\n",
    "li=[1,2,3,4,5,6,7]\n",
    "num=3\n",
    "\n",
    "list(map(lambda i:i*num,li))"
   ]
  },
  {
   "cell_type": "markdown",
   "metadata": {},
   "source": [
    "# 15. Write a Python program to calculate the sum of the positive and negative numbers of a given list of numbers using lambda function"
   ]
  },
  {
   "cell_type": "code",
   "execution_count": 1,
   "metadata": {},
   "outputs": [
    {
     "data": {
      "text/plain": [
       "5"
      ]
     },
     "execution_count": 1,
     "metadata": {},
     "output_type": "execute_result"
    }
   ],
   "source": [
    "li=[2,4,-5,-7,5,-7,-4,6,9,4,-2,0]\n",
    "sum(li)"
   ]
  },
  {
   "cell_type": "code",
   "execution_count": 2,
   "metadata": {},
   "outputs": [
    {
     "data": {
      "text/plain": [
       "5"
      ]
     },
     "execution_count": 2,
     "metadata": {},
     "output_type": "execute_result"
    }
   ],
   "source": [
    "# sum of positive and negative number\n",
    "li=[2,4,-5,-7,5,-7,-4,6,9,4,-2,0]\n",
    "\n",
    "addition=lambda x:sum(x)\n",
    "addition(li)"
   ]
  },
  {
   "cell_type": "code",
   "execution_count": 8,
   "metadata": {},
   "outputs": [
    {
     "name": "stdout",
     "output_type": "stream",
     "text": [
      "sum of positive no is 30\n",
      "sum of negative no is -25\n"
     ]
    }
   ],
   "source": [
    "li=[2,4,-5,-7,5,-7,-4,6,9,4,-2,0]\n",
    "positive=sum(filter(lambda x:x>0,li))\n",
    "negative=sum(filter(lambda x:x<0,li))\n",
    "print(f\"sum of positive no is {positive}\")\n",
    "print(f\"sum of negative no is {negative}\")\n"
   ]
  },
  {
   "cell_type": "markdown",
   "metadata": {},
   "source": [
    "# 16. Write a Python program to find the list with maximum and minimum length using lambda"
   ]
  },
  {
   "cell_type": "code",
   "execution_count": 20,
   "metadata": {},
   "outputs": [
    {
     "name": "stdout",
     "output_type": "stream",
     "text": [
      "maximum length of list is [9, 87, 7, 6, 5]\n",
      "minimum length of list is [0]\n"
     ]
    }
   ],
   "source": [
    "li=[[1,2],[0],[1,2,3],[3,4,6,1],[9,87,7,6,5]]\n",
    "\n",
    "maximum=max(list(filter(lambda x:len(x),li)))\n",
    "print(f\"maximum length of list is {maximum}\")\n",
    "\n",
    "minimum=min(list(filter(lambda x:len(x),li)))\n",
    "print(f\"minimum length of list is {minimum}\")\n",
    "\n"
   ]
  },
  {
   "cell_type": "markdown",
   "metadata": {},
   "source": [
    "# 17. Write a Python program to check whether a specified list is sorted or not using lambda\n"
   ]
  },
  {
   "cell_type": "code",
   "execution_count": 22,
   "metadata": {},
   "outputs": [
    {
     "name": "stdout",
     "output_type": "stream",
     "text": [
      "list is sorted \n"
     ]
    }
   ],
   "source": [
    "# li=[2,5,8,3,1,5,7]\n",
    "li=[1,2,3,4,5]\n",
    "a=lambda x:print(\"list is sorted \") if li==sorted(x) else print(\"list is not sorted\")\n",
    "a(li)"
   ]
  },
  {
   "cell_type": "code",
   "execution_count": 24,
   "metadata": {},
   "outputs": [
    {
     "name": "stdout",
     "output_type": "stream",
     "text": [
      "list is not sorted\n"
     ]
    }
   ],
   "source": [
    "li=[2,5,8,3,1,5,7]\n",
    "# li=[1,2,3,4,5]\n",
    "a=lambda x:print(\"list is sorted \") if li==sorted(li) else print(\"list is not sorted\")\n",
    "a(li)"
   ]
  },
  {
   "cell_type": "markdown",
   "metadata": {},
   "source": [
    "# 18. Write a Python program to remove all elements from a given list present in another list using lambda.\n"
   ]
  },
  {
   "cell_type": "code",
   "execution_count": null,
   "metadata": {},
   "outputs": [],
   "source": []
  },
  {
   "cell_type": "code",
   "execution_count": null,
   "metadata": {},
   "outputs": [],
   "source": []
  },
  {
   "cell_type": "code",
   "execution_count": null,
   "metadata": {},
   "outputs": [],
   "source": []
  },
  {
   "cell_type": "code",
   "execution_count": null,
   "metadata": {},
   "outputs": [],
   "source": []
  },
  {
   "cell_type": "code",
   "execution_count": null,
   "metadata": {},
   "outputs": [],
   "source": []
  },
  {
   "cell_type": "code",
   "execution_count": null,
   "metadata": {},
   "outputs": [],
   "source": []
  },
  {
   "cell_type": "code",
   "execution_count": null,
   "metadata": {},
   "outputs": [],
   "source": []
  },
  {
   "cell_type": "code",
   "execution_count": null,
   "metadata": {},
   "outputs": [],
   "source": []
  },
  {
   "cell_type": "code",
   "execution_count": null,
   "metadata": {},
   "outputs": [],
   "source": []
  },
  {
   "cell_type": "markdown",
   "metadata": {},
   "source": [
    "# 31. Python program to remove stop words from string using filter() function"
   ]
  },
  {
   "cell_type": "code",
   "execution_count": null,
   "metadata": {},
   "outputs": [],
   "source": [
    "string=\"please stop using cryptocurrency\""
   ]
  },
  {
   "cell_type": "markdown",
   "metadata": {},
   "source": [
    "# 32. Python program to find common items in two arrays using lambda and filter() function"
   ]
  },
  {
   "cell_type": "code",
   "execution_count": 87,
   "metadata": {},
   "outputs": [
    {
     "data": {
      "text/plain": [
       "{4, 9}"
      ]
     },
     "execution_count": 87,
     "metadata": {},
     "output_type": "execute_result"
    }
   ],
   "source": [
    "\n",
    "# first method \n",
    "arr1=set([1,2,3,4,7,9])\n",
    "arr2=set([4,6,8,9])\n",
    "\n",
    "inter=lambda ar1,ar2:ar1.intersection(ar2)\n",
    "inter(arr1,arr2)"
   ]
  },
  {
   "cell_type": "code",
   "execution_count": 88,
   "metadata": {},
   "outputs": [
    {
     "data": {
      "text/plain": [
       "[4, 9]"
      ]
     },
     "execution_count": 88,
     "metadata": {},
     "output_type": "execute_result"
    }
   ],
   "source": [
    "# second method\n",
    "arr1=[1,2,3,4,7,9]\n",
    "arr2=[4,6,8,9]\n",
    "\n",
    "list(filter(lambda x:x in arr1,arr2))"
   ]
  },
  {
   "cell_type": "markdown",
   "metadata": {},
   "source": [
    "# 33. Python program to filter odd numbers from the list using filter() function\n"
   ]
  },
  {
   "cell_type": "code",
   "execution_count": 76,
   "metadata": {},
   "outputs": [
    {
     "data": {
      "text/plain": [
       "[1, 3, 5, 7, 9]"
      ]
     },
     "execution_count": 76,
     "metadata": {},
     "output_type": "execute_result"
    }
   ],
   "source": [
    "li=[1,2,3,4,5,6,7,8,9]\n",
    "list(filter(lambda i:i%2!=0,li))"
   ]
  },
  {
   "cell_type": "markdown",
   "metadata": {},
   "source": [
    "# 34. Python program to filter even numbers from the list using filter() function"
   ]
  },
  {
   "cell_type": "code",
   "execution_count": 77,
   "metadata": {},
   "outputs": [
    {
     "data": {
      "text/plain": [
       "[2, 4, 6, 8]"
      ]
     },
     "execution_count": 77,
     "metadata": {},
     "output_type": "execute_result"
    }
   ],
   "source": [
    "li=[1,2,3,4,5,6,7,8,9]\n",
    "list(filter(lambda i:i%2==0,li))"
   ]
  },
  {
   "cell_type": "markdown",
   "metadata": {},
   "source": [
    "# 35. Python program that filters non-vowels from the list using filter() function"
   ]
  },
  {
   "cell_type": "code",
   "execution_count": 85,
   "metadata": {},
   "outputs": [
    {
     "name": "stdout",
     "output_type": "stream",
     "text": [
      "['t', 'h', 's', ' ', 's', ' ', 'v', 'l', 'c', 't', 'y', ' ', 'p', 'y', 't', 'h', 'n', ' ', 'd', 't', ' ', 's', 'c', 'n', 'c']\n"
     ]
    }
   ],
   "source": [
    "# first method\n",
    "vowel=\"aeiou\"\n",
    "li=\"this is velocity python data science\"\n",
    "\n",
    "l=list(filter(lambda i:i not in vowel,li))\n",
    "print(l)"
   ]
  },
  {
   "cell_type": "code",
   "execution_count": null,
   "metadata": {},
   "outputs": [],
   "source": []
  }
 ],
 "metadata": {
  "kernelspec": {
   "display_name": "Python 3",
   "language": "python",
   "name": "python3"
  },
  "language_info": {
   "codemirror_mode": {
    "name": "ipython",
    "version": 3
   },
   "file_extension": ".py",
   "mimetype": "text/x-python",
   "name": "python",
   "nbconvert_exporter": "python",
   "pygments_lexer": "ipython3",
   "version": "3.7.3"
  }
 },
 "nbformat": 4,
 "nbformat_minor": 2
}
