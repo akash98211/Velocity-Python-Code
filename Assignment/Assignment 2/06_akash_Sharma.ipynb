{
 "cells": [
  {
   "cell_type": "markdown",
   "metadata": {},
   "source": [
    "# 1. What is a List?"
   ]
  },
  {
   "cell_type": "markdown",
   "metadata": {},
   "source": [
    "1.list is a one data type in python\n",
    "\n",
    "2.list is a collection of item.like[int,float,complex,string,tuple,series,.... Dataframe]\n",
    "\n",
    "3.list is mutable datatype . i,e ehich change or update the value of item.\n",
    "\n",
    "4.list allowed duplicated item.\n",
    "\n",
    "5.list are enclosed by parenthesis called Square bracket >> []\n",
    "\n",
    "5.list is comma sepearted.\n",
    "\n",
    "6.list is define by square bracket[] list1=[1,2,3,4] also can define list  e.g list1=list()\n",
    "\n",
    "7.list is ordered in nature.\n",
    "\n",
    "8.list is used to store squence of various data type(refer point 2)\n",
    "\n"
   ]
  },
  {
   "cell_type": "markdown",
   "metadata": {},
   "source": [
    "# 2. What is a Tuple?\n"
   ]
  },
  {
   "cell_type": "markdown",
   "metadata": {},
   "source": [
    "1.tuple is immutable datatype.i.e the value are store in tuple are cannot be modified/change. \n",
    "\n",
    "2.tuple is ordered data type.\n",
    "\n",
    "3.tuple are used to store the sequence.\n",
    "\n",
    "4.tuple are enclosed by parenthesis called round bracket >> (())\n",
    "\n",
    "5.tuple are hetrogenous datatype(int,float,complex,string,list ....)\n",
    "\n",
    "6.comma seperated tuple are faster than list.\n",
    "\n",
    "7.we cannot dp operation like add ,update , delete \n",
    "\n",
    "8.if we are adding one item in tuple need to add comma\n",
    "\n"
   ]
  },
  {
   "cell_type": "markdown",
   "metadata": {},
   "source": [
    "# 3. What is the difference between List and Tuple?"
   ]
  },
  {
   "cell_type": "markdown",
   "metadata": {},
   "source": [
    "list \n",
    "\n",
    "1.list is a one data type in python\n",
    "\n",
    "2.list is mutable datatype . i,e ehich change or update the value of item.\n",
    "\n",
    "3.list are enclosed by parenthesis called Square bracket >> []\n",
    "\n",
    "4.list is define by square bracket[] list1=[1,2,3,4] also can define list  e.g list1=list()\n",
    "\n",
    "5.list is slower than tuple.\n",
    "\n",
    "6.list is less memory effiecient\n",
    "\n",
    "7.list has varible length.\n",
    "\n",
    "\n",
    "\n",
    "\n",
    "TUPLE\n",
    "\n",
    "1.tuple is a one data type in python\n",
    "\n",
    "2.tuple is immutable datatype . i,e which cannot change or update the value of item.\n",
    "\n",
    "3.tuple are enclosed by parenthesis called Square bracket >> []\n",
    "\n",
    "4.tuple is faster than list.\n",
    "\n",
    "5.list is define by square bracket(), list1=(1,2,3,4) also can define list  e.g list1=tuple()\n",
    "\n",
    "6.list is more memory effiecient\n",
    "\n",
    "7.list has fixed length.\n",
    "\n",
    "\n",
    "\n",
    "\n"
   ]
  },
  {
   "cell_type": "markdown",
   "metadata": {},
   "source": [
    "# 4. Python Program to find the largest element in the list\n"
   ]
  },
  {
   "cell_type": "code",
   "execution_count": 5,
   "metadata": {},
   "outputs": [
    {
     "name": "stdout",
     "output_type": "stream",
     "text": [
      "93\n"
     ]
    }
   ],
   "source": [
    "# method 1: \n",
    "    \n",
    "list1=[2,5,7,93,6,35,76,9]\n",
    "largest_num=max(list1)\n",
    "print(largest_num)"
   ]
  },
  {
   "cell_type": "code",
   "execution_count": 8,
   "metadata": {},
   "outputs": [
    {
     "name": "stdout",
     "output_type": "stream",
     "text": [
      "93\n"
     ]
    }
   ],
   "source": [
    "# method 2 :\n",
    "\n",
    "list1=[2,5,7,93,6,35,76,9]\n",
    "largest_num=-32567\n",
    "\n",
    "\n",
    "for item in list1:\n",
    "    if item>largest_num:\n",
    "        largest_num=item\n",
    "        \n",
    "    else:\n",
    "        pass\n",
    "print(largest_num)"
   ]
  },
  {
   "cell_type": "markdown",
   "metadata": {},
   "source": [
    "# 5. Python program to interchange first and last elements in a list"
   ]
  },
  {
   "cell_type": "code",
   "execution_count": 9,
   "metadata": {},
   "outputs": [
    {
     "name": "stdout",
     "output_type": "stream",
     "text": [
      "[9, 5, 7, 93, 6, 35, 76, 2]\n"
     ]
    }
   ],
   "source": [
    "list1=[2,5,7,93,6,35,76,9]\n",
    "\n",
    "first=list1[0]\n",
    "last=list1[-1]\n",
    "list1[0]=last\n",
    "list1[-1]=first\n",
    "\n",
    "print(list1)"
   ]
  },
  {
   "cell_type": "markdown",
   "metadata": {},
   "source": [
    "# 6. Python program to swap two elements in a list\n"
   ]
  },
  {
   "cell_type": "code",
   "execution_count": 10,
   "metadata": {},
   "outputs": [
    {
     "name": "stdout",
     "output_type": "stream",
     "text": [
      "[9, 5, 7, 93, 6, 35, 76, 2]\n"
     ]
    }
   ],
   "source": [
    "# first method\n",
    "list1=[2,5,7,93,6,35,76,9]\n",
    "\n",
    "first=list1[0]\n",
    "last=list1[-1]\n",
    "list1[0]=last\n",
    "list1[-1]=first\n",
    "\n",
    "print(list1)"
   ]
  },
  {
   "cell_type": "code",
   "execution_count": 13,
   "metadata": {},
   "outputs": [
    {
     "name": "stdout",
     "output_type": "stream",
     "text": [
      "After swaping to two element list is : [2, 5, 'string', 3, 58, 'python']\n"
     ]
    }
   ],
   "source": [
    "# second method\n",
    "l1 = [2,5,3,'string',58,'python']\n",
    "l1[2],l1[3] = l1[3],l1[2]\n",
    "print(\"After swaping to two element list is :\",l1)"
   ]
  },
  {
   "cell_type": "markdown",
   "metadata": {},
   "source": [
    "# 7. Python program to Reverse a List"
   ]
  },
  {
   "cell_type": "code",
   "execution_count": 19,
   "metadata": {},
   "outputs": [
    {
     "name": "stdout",
     "output_type": "stream",
     "text": [
      "[93, 76, 35, 9, 7, 6, 5, 2]\n"
     ]
    }
   ],
   "source": [
    "# first approach using sort()\n",
    "\n",
    "list1=[2,5,7,93,6,35,76,9]\n",
    "\n",
    "list1.sort(reverse=True)\n",
    "\n",
    "print(list1)"
   ]
  },
  {
   "cell_type": "code",
   "execution_count": 20,
   "metadata": {},
   "outputs": [
    {
     "name": "stdout",
     "output_type": "stream",
     "text": [
      "[9, 76, 35, 6, 93, 7, 5, 2]\n"
     ]
    }
   ],
   "source": [
    "# second approach using reverse()\n",
    "\n",
    "list1=[2,5,7,93,6,35,76,9]\n",
    "\n",
    "list1.reverse()\n",
    "\n",
    "print(list1)"
   ]
  },
  {
   "cell_type": "code",
   "execution_count": 14,
   "metadata": {},
   "outputs": [
    {
     "name": "stdout",
     "output_type": "stream",
     "text": [
      "<list_reverseiterator object at 0x00000268992DCB00>\n"
     ]
    }
   ],
   "source": [
    "# Third Approach is reversed()\n",
    "\n",
    "list1=[1,2,3,4,5,67,8]\n",
    "\n",
    "list2=reversed(list1)\n",
    "\n",
    "print(list2)\n"
   ]
  },
  {
   "cell_type": "code",
   "execution_count": 16,
   "metadata": {},
   "outputs": [
    {
     "name": "stdout",
     "output_type": "stream",
     "text": [
      "[9, 76, 35, 6, 93, 7, 5, 2]\n"
     ]
    }
   ],
   "source": [
    "# fourth method\n",
    "list1=[2,5,7,93,6,35,76,9]\n",
    "print(list1[::-1])"
   ]
  },
  {
   "cell_type": "markdown",
   "metadata": {},
   "source": [
    "# 8. Python program to count occurrences of an element in a list"
   ]
  },
  {
   "cell_type": "code",
   "execution_count": 31,
   "metadata": {},
   "outputs": [
    {
     "name": "stdout",
     "output_type": "stream",
     "text": [
      "9\n"
     ]
    }
   ],
   "source": [
    "# 8. Python program to count occurrences of an element in a list\n",
    "\n",
    "list1=[2,3,4,5,\"python\",12.3,43.2,\"data\",[2,3]]\n",
    "count=0\n",
    "for item in list1:\n",
    "    count +=1\n",
    "print(count)"
   ]
  },
  {
   "cell_type": "code",
   "execution_count": 20,
   "metadata": {},
   "outputs": [
    {
     "name": "stdout",
     "output_type": "stream",
     "text": [
      "count of 2 inlist 2\n",
      "count of 2 inlist 2\n",
      "count of 3 inlist 5\n",
      "count of 3 inlist 5\n",
      "count of 3 inlist 5\n",
      "count of 3 inlist 5\n",
      "count of 3 inlist 5\n",
      "count of 4 inlist 1\n",
      "count of 5 inlist 1\n",
      "count of python inlist 1\n",
      "count of 12.3 inlist 1\n",
      "count of 43.2 inlist 1\n",
      "count of data inlist 1\n",
      "count of [2, 3] inlist 1\n"
     ]
    }
   ],
   "source": [
    "list1=[2,2,3,3,3,3,3,4,5,\"python\",12.3,43.2,\"data\",[2,3]]\n",
    "for i in list1:\n",
    "    print(f\"count of {i} inlist {list1.count(i)}\")"
   ]
  },
  {
   "cell_type": "markdown",
   "metadata": {},
   "source": [
    "# 9. Python program to find the sum of elements in a list"
   ]
  },
  {
   "cell_type": "code",
   "execution_count": 32,
   "metadata": {},
   "outputs": [
    {
     "name": "stdout",
     "output_type": "stream",
     "text": [
      "69.5\n"
     ]
    }
   ],
   "source": [
    "# first approach using built in function sum()\n",
    "list1=[2,3,4,5,12.3,43.2]\n",
    "print(sum(list1))"
   ]
  },
  {
   "cell_type": "code",
   "execution_count": 33,
   "metadata": {},
   "outputs": [
    {
     "name": "stdout",
     "output_type": "stream",
     "text": [
      "69.5\n"
     ]
    }
   ],
   "source": [
    "# second approach using loop\n",
    "\n",
    "list1=[2,3,4,5,12.3,43.2]\n",
    "total=0\n",
    "for item in list1:\n",
    "    total +=item\n",
    "print(total)"
   ]
  },
  {
   "cell_type": "markdown",
   "metadata": {},
   "source": [
    "# 10. Python program to Multiply all numbers in the list\n"
   ]
  },
  {
   "cell_type": "code",
   "execution_count": 36,
   "metadata": {},
   "outputs": [
    {
     "name": "stdout",
     "output_type": "stream",
     "text": [
      "63763.200000000004\n"
     ]
    }
   ],
   "source": [
    "# second approach using loop\n",
    "\n",
    "list1=[2,3,4,5,12.3,43.2]\n",
    "total=1\n",
    "for item in list1:\n",
    "    total *=item\n",
    "print(total)"
   ]
  },
  {
   "cell_type": "markdown",
   "metadata": {},
   "source": [
    "# 11. What are the ways to find the length of a list"
   ]
  },
  {
   "cell_type": "code",
   "execution_count": 37,
   "metadata": {},
   "outputs": [
    {
     "name": "stdout",
     "output_type": "stream",
     "text": [
      "9\n"
     ]
    }
   ],
   "source": [
    "# first approach using built in function len()\n",
    "\n",
    "list1=[2,3,4,5,\"python\",12.3,43.2,\"data\",[2,3]]\n",
    "length=len(list1)\n",
    "print(length)"
   ]
  },
  {
   "cell_type": "code",
   "execution_count": 25,
   "metadata": {},
   "outputs": [
    {
     "name": "stdout",
     "output_type": "stream",
     "text": [
      "9\n"
     ]
    }
   ],
   "source": [
    "# second approach using loop\n",
    "\n",
    "list1=[2,3,4,5,\"python\",12.3,43.2,\"data\",[2,3]]\n",
    "total=0\n",
    "for item in list1:\n",
    "    total +=1\n",
    "print(total)"
   ]
  },
  {
   "cell_type": "markdown",
   "metadata": {},
   "source": [
    "# 12. Python program to find the smallest and largest number in a list (Without min-max function)\n"
   ]
  },
  {
   "cell_type": "code",
   "execution_count": 26,
   "metadata": {},
   "outputs": [
    {
     "name": "stdout",
     "output_type": "stream",
     "text": [
      "largest number is 43.2\n",
      "smallest number is 2\n"
     ]
    }
   ],
   "source": [
    "list1=[2,3,4,5,12.3,43.2]\n",
    "\n",
    "largest_num=-32567\n",
    "smallest_num=32567\n",
    "\n",
    "for num in list1:\n",
    "    if num>largest_num:\n",
    "        largest_num=num\n",
    "for num in list1:\n",
    "    if num < smallest_num:\n",
    "        smallest_num =num\n",
    "        \n",
    "print(f\"largest number is {largest_num}\")\n",
    "print(f\"smallest number is {smallest_num}\")"
   ]
  },
  {
   "cell_type": "code",
   "execution_count": 27,
   "metadata": {},
   "outputs": [
    {
     "name": "stdout",
     "output_type": "stream",
     "text": [
      "largest number is 43.2\n",
      "smallest number is 2\n"
     ]
    }
   ],
   "source": [
    "list1=[2,3,4,5,12.3,43.2]\n",
    "list1.sort()\n",
    "print(f\"largest number is {list1[-1]}\")\n",
    "print(f\"smallest number is {list1[0]}\")\n"
   ]
  },
  {
   "cell_type": "markdown",
   "metadata": {},
   "source": [
    "# 13. Python Program to find the area of a circle"
   ]
  },
  {
   "cell_type": "code",
   "execution_count": 8,
   "metadata": {},
   "outputs": [
    {
     "name": "stdout",
     "output_type": "stream",
     "text": [
      "3\n",
      "Area of circle is 28.26\n"
     ]
    }
   ],
   "source": [
    "radius=int(input())\n",
    "area=3.14*radius**2\n",
    "print(f\"Area of circle is {area}\")"
   ]
  },
  {
   "cell_type": "markdown",
   "metadata": {},
   "source": [
    "# 14. Take inputs from the user to make a list. Again take one input from the user and search it in the list and delete that element, if found. Iterate over a list using for loop.\n"
   ]
  },
  {
   "cell_type": "code",
   "execution_count": 16,
   "metadata": {},
   "outputs": [
    {
     "name": "stdout",
     "output_type": "stream",
     "text": [
      "1 2 3 4 5\n",
      "3\n",
      "[1, 2, 4, 5]\n"
     ]
    }
   ],
   "source": [
    "list1=list(map(int,input().split()))\n",
    "a=int(input())\n",
    "\n",
    "for num in list1:\n",
    "    if num==a:\n",
    "        list1.remove(a)\n",
    "print(list1)"
   ]
  },
  {
   "cell_type": "markdown",
   "metadata": {},
   "source": [
    "# 15. You are given a list of integer elements. Make a new list that will store a square of elements of the previous list. (With and without list comprehension) i. Input_list = [2,5,6,12] ii. Output_list = [4,25,36,144]\n"
   ]
  },
  {
   "cell_type": "code",
   "execution_count": 18,
   "metadata": {},
   "outputs": [
    {
     "name": "stdout",
     "output_type": "stream",
     "text": [
      "[4, 25, 36, 144]\n"
     ]
    }
   ],
   "source": [
    "# without list comphrehension\n",
    "list1=[2,5,6,12]\n",
    "new_list=[]\n",
    "\n",
    "for num in list1:\n",
    "    new_list.append(num**2)\n",
    "print(new_list)"
   ]
  },
  {
   "cell_type": "code",
   "execution_count": 19,
   "metadata": {},
   "outputs": [
    {
     "name": "stdout",
     "output_type": "stream",
     "text": [
      "[4, 25, 36, 144]\n"
     ]
    }
   ],
   "source": [
    "# with list comprehension\n",
    "list1=[2,5,6,12]\n",
    "new_list=[num**2 for num in list1]\n",
    "print(new_list)"
   ]
  },
  {
   "cell_type": "markdown",
   "metadata": {},
   "source": [
    "# 16. WAP to create two lists, one containing all even numbers and the other containing all odd numbers between 0 to 151\n"
   ]
  },
  {
   "cell_type": "code",
   "execution_count": 27,
   "metadata": {},
   "outputs": [
    {
     "name": "stdout",
     "output_type": "stream",
     "text": [
      "even list is [0, 2, 4, 6, 8, 10, 12, 14, 16, 18, 20, 22, 24, 26, 28, 30, 32, 34, 36, 38, 40, 42, 44, 46, 48, 50, 52, 54, 56, 58, 60, 62, 64, 66, 68, 70, 72, 74, 76, 78, 80, 82, 84, 86, 88, 90, 92, 94, 96, 98, 100, 102, 104, 106, 108, 110, 112, 114, 116, 118, 120, 122, 124, 126, 128, 130, 132, 134, 136, 138, 140, 142, 144, 146, 148, 150]\n",
      "odd list is [1, 3, 5, 7, 9, 11, 13, 15, 17, 19, 21, 23, 25, 27, 29, 31, 33, 35, 37, 39, 41, 43, 45, 47, 49, 51, 53, 55, 57, 59, 61, 63, 65, 67, 69, 71, 73, 75, 77, 79, 81, 83, 85, 87, 89, 91, 93, 95, 97, 99, 101, 103, 105, 107, 109, 111, 113, 115, 117, 119, 121, 123, 125, 127, 129, 131, 133, 135, 137, 139, 141, 143, 145, 147, 149, 151]\n"
     ]
    }
   ],
   "source": [
    "even_list=[]\n",
    "odd_list=[]\n",
    "\n",
    "for i in range(152):\n",
    "    if i%2==0:\n",
    "        even_list.append(i)\n",
    "    \n",
    "    else:\n",
    "        odd_list.append(i)\n",
    "        \n",
    "print(f\"even list is {even_list}\")\n",
    "print(f\"odd list is {odd_list}\")"
   ]
  },
  {
   "cell_type": "markdown",
   "metadata": {},
   "source": [
    "# 17. Python program to Count Even and Odd numbers in a List\n"
   ]
  },
  {
   "cell_type": "code",
   "execution_count": 29,
   "metadata": {},
   "outputs": [
    {
     "name": "stdout",
     "output_type": "stream",
     "text": [
      "even count is 76\n",
      "odd count is 76\n"
     ]
    }
   ],
   "source": [
    "even_count=0\n",
    "odd_count=0\n",
    "\n",
    "for i in range(152):\n",
    "    if i%2==0:\n",
    "        even_count +=1\n",
    "    \n",
    "    else:\n",
    "        odd_count+=1\n",
    "        \n",
    "print(f\"even count is {even_count}\")\n",
    "print(f\"odd count is {odd_count}\")"
   ]
  },
  {
   "cell_type": "markdown",
   "metadata": {},
   "source": [
    "# 18. WAP to make new lists, containing only numbers which are divisible by 4, 6,8, 10, 3, 5, 7, and 9 in separate lists for range(0,151)\n"
   ]
  },
  {
   "cell_type": "code",
   "execution_count": 33,
   "metadata": {},
   "outputs": [
    {
     "name": "stdout",
     "output_type": "stream",
     "text": [
      "[0, 2, 3, 4, 5, 6, 7, 8, 9, 10, 12, 14, 15, 16, 18, 20, 21, 22, 24, 25, 26, 27, 28, 30, 32, 33, 34, 35, 36, 38, 39, 40, 42, 44, 45, 46, 48, 49, 50, 51, 52, 54, 55, 56, 57, 58, 60, 62, 63, 64, 65, 66, 68, 69, 70, 72, 74, 75, 76, 77, 78, 80, 81, 82, 84, 85, 86, 87, 88, 90, 91, 92, 93, 94, 95, 96, 98, 99, 100, 102, 104, 105, 106, 108, 110, 111, 112, 114, 115, 116, 117, 118, 119, 120, 122, 123, 124, 125, 126, 128, 129, 130, 132, 133, 134, 135, 136, 138, 140, 141, 142, 144, 145, 146, 147, 148, 150]\n"
     ]
    }
   ],
   "source": [
    "new_list=[]\n",
    "for num in range(0,151):\n",
    "    if num%2==0 or num%3==0 or num%5==0 or num%7==0:\n",
    "        new_list.append(num)\n",
    "print(new_list)"
   ]
  },
  {
   "cell_type": "markdown",
   "metadata": {},
   "source": [
    "# 19. From a list containing ints, strings, and floats, make three lists to store them separately.\n"
   ]
  },
  {
   "cell_type": "code",
   "execution_count": 35,
   "metadata": {},
   "outputs": [
    {
     "name": "stdout",
     "output_type": "stream",
     "text": [
      "integer list is [2, 3, 4, 5]\n",
      "float list is [12.3, 54.2]\n",
      "string list is ['python', 'data']\n"
     ]
    }
   ],
   "source": [
    "list1=[2,3,4,5,\"python\",12.3,54.2,\"data\"]\n",
    "int_list=[]\n",
    "float_list=[]\n",
    "string_list=[]\n",
    "for item in list1:\n",
    "    if type(item)==int:\n",
    "        int_list.append(item)\n",
    "        \n",
    "    elif type(item)==str:\n",
    "        string_list.append(item)\n",
    "    else:\n",
    "        float_list.append(item)\n",
    "        \n",
    "print(f\"integer list is {int_list}\")\n",
    "print(f\"float list is {float_list}\")\n",
    "print(f\"string list is {string_list}\")\n",
    "      \n",
    "        "
   ]
  },
  {
   "cell_type": "markdown",
   "metadata": {},
   "source": [
    "# 20. What’s The Difference Between The Python append() and extend() Methods?\n"
   ]
  },
  {
   "cell_type": "code",
   "execution_count": null,
   "metadata": {},
   "outputs": [],
   "source": [
    "1) append() =>> This add the element to last of list one at a time\n",
    "2) extend() =>> This will add anther list to the list at the end\n",
    "\n"
   ]
  },
  {
   "cell_type": "markdown",
   "metadata": {},
   "source": [
    "# 21. Write a Python program to append a list to the second list"
   ]
  },
  {
   "cell_type": "code",
   "execution_count": 2,
   "metadata": {},
   "outputs": [
    {
     "name": "stdout",
     "output_type": "stream",
     "text": [
      "[1, 2, 3, 'python']\n",
      "[9, 7, 6, 'Data science']\n",
      "after append list1 become [1, 2, 3, 'python', [9, 7, 6, 'Data science']]\n"
     ]
    }
   ],
   "source": [
    "list1=[1,2,3,\"python\"]\n",
    "list2=[9,7,6,\"Data science\"]\n",
    "\n",
    "print(list1)\n",
    "print(list2)\n",
    "list1.append(list2)\n",
    "\n",
    "print(f\"after append list1 become {list1}\")"
   ]
  },
  {
   "cell_type": "markdown",
   "metadata": {},
   "source": [
    "# 22. Write a Python program to find the third-largest number in a list"
   ]
  },
  {
   "cell_type": "code",
   "execution_count": 6,
   "metadata": {},
   "outputs": [
    {
     "name": "stdout",
     "output_type": "stream",
     "text": [
      "largest number is 69\n",
      "second largest number is 67\n",
      "third largest number is 45\n"
     ]
    }
   ],
   "source": [
    "list1=[1,2,3,4,5,67,45,69]\n",
    "\n",
    "# third largest number is 45\n",
    "first=0\n",
    "second=0\n",
    "third=0\n",
    "\n",
    "for num in list1:\n",
    "    if num>first:\n",
    "        third=second\n",
    "        second=first\n",
    "        first=num\n",
    "            \n",
    "    elif num>second:\n",
    "        third=second\n",
    "        second=num\n",
    "        \n",
    "    elif num>third:\n",
    "        third=num\n",
    "        \n",
    "print(f\"largest number is {first}\")\n",
    "print(f\"second largest number is {second}\")\n",
    "print(f\"third largest number is {third}\")"
   ]
  },
  {
   "cell_type": "code",
   "execution_count": 37,
   "metadata": {},
   "outputs": [
    {
     "name": "stdout",
     "output_type": "stream",
     "text": [
      "[1, 2, 3, 4, 5, 45, 67, 69]\n",
      "third largest element is 45\n"
     ]
    }
   ],
   "source": [
    "list1=[1,2,3,4,5,67,45,69]\n",
    "set1=set(list1)\n",
    "\n",
    "list2=list(set1)\n",
    "list2.sort()\n",
    "print(list2)\n",
    "print(f\"third largest element is {list2[-3]}\")"
   ]
  },
  {
   "cell_type": "markdown",
   "metadata": {},
   "source": [
    "# 23. Write a Python program to get the frequency of the elements in a list.\n"
   ]
  },
  {
   "cell_type": "code",
   "execution_count": 12,
   "metadata": {},
   "outputs": [
    {
     "name": "stdout",
     "output_type": "stream",
     "text": [
      "13 is 13 times\n",
      "13 is 13 times\n",
      "13 is 13 times\n",
      "13 is 13 times\n",
      "13 is 13 times\n",
      "13 is 13 times\n",
      "13 is 13 times\n",
      "13 is 13 times\n",
      "13 is 13 times\n",
      "13 is 13 times\n",
      "13 is 13 times\n",
      "13 is 13 times\n",
      "13 is 13 times\n",
      "13 is 13 times\n"
     ]
    }
   ],
   "source": [
    "list1=[1,1,2,2,2,3,3,3,4,4,4,5,5,5]\n",
    "for i in range(0,len(list1)):\n",
    "    count=0\n",
    "    for j in range(1,len(list1)):\n",
    "        if list1[i]==list1[j]:\n",
    "            count +=1\n",
    "    else:\n",
    "        print(f\"{outer} is {inner} times\")"
   ]
  },
  {
   "cell_type": "markdown",
   "metadata": {},
   "source": [
    "# 24. Write a Python program to check whether a list contains a sublist"
   ]
  },
  {
   "cell_type": "code",
   "execution_count": 39,
   "metadata": {},
   "outputs": [
    {
     "name": "stdout",
     "output_type": "stream",
     "text": [
      "a list contain a sublist\n"
     ]
    }
   ],
   "source": [
    "list1=[2,3,4,5,\"python\",12.3,54.2,\"data\",[2,3]]\n",
    "\n",
    "for item in list1:\n",
    "    if type(item)==list:\n",
    "        print(\"a list contain a sublist\")\n",
    "        break\n",
    "else:\n",
    "        print(\"sublist is not present\")    "
   ]
  },
  {
   "cell_type": "markdown",
   "metadata": {},
   "source": [
    "# 25. Write a Python program to generate all sublists of a list\n"
   ]
  },
  {
   "cell_type": "code",
   "execution_count": 40,
   "metadata": {},
   "outputs": [
    {
     "name": "stdout",
     "output_type": "stream",
     "text": [
      "[[1, 2], [3, 4], [9, 8]]\n"
     ]
    }
   ],
   "source": [
    "list1=[[1,2],3,4,5,6,[3,4],\"python\",[9,8]]\n",
    "list2=[]\n",
    "\n",
    "for item in list1:\n",
    "    if type(item)==list:\n",
    "        list2.append(item)\n",
    "else:\n",
    "    print(list2)"
   ]
  },
  {
   "cell_type": "markdown",
   "metadata": {},
   "source": [
    "# 26. Write a Python program to find common items from two lists"
   ]
  },
  {
   "cell_type": "code",
   "execution_count": 45,
   "metadata": {},
   "outputs": [
    {
     "name": "stdout",
     "output_type": "stream",
     "text": [
      "[3, 4, 5, 'python']\n"
     ]
    }
   ],
   "source": [
    "list1=[[1,2],3,4,5,6,[3,4],\"python\",[9,8]]\n",
    "list2=[2,3,4,5,\"python\",12.3,54.2,\"data\",[2,3]]\n",
    "list3=[]\n",
    "\n",
    "for item1 in list1:\n",
    "    for item2 in list2:\n",
    "        if item1==item2:\n",
    "            list3.append(item1)\n",
    "else:\n",
    "    print(list3)"
   ]
  },
  {
   "cell_type": "code",
   "execution_count": 49,
   "metadata": {},
   "outputs": [
    {
     "name": "stdout",
     "output_type": "stream",
     "text": [
      "common item present in list is 2\n",
      "common item present in list is 9\n"
     ]
    }
   ],
   "source": [
    "l1 = [2,5,8,9,4,6]\n",
    "l2 = [1,3,7,9,3,2]\n",
    "for i in l1:\n",
    "    for j in l2:\n",
    "        if i == j:\n",
    "            print(\"common item present in list is\",i)"
   ]
  },
  {
   "cell_type": "markdown",
   "metadata": {},
   "source": [
    "# 27. How to flatten a list in python?\n"
   ]
  },
  {
   "cell_type": "code",
   "execution_count": 51,
   "metadata": {},
   "outputs": [
    {
     "name": "stdout",
     "output_type": "stream",
     "text": [
      "[1, 2, 3, 4, 5, 6, 7, 8, 9, 10]\n"
     ]
    }
   ],
   "source": [
    "list1=[1,2,3,4,[5,6],7,8,[9,10]]\n",
    "list2=[]\n",
    "\n",
    "for item in list1:\n",
    "    if type(item)==list:\n",
    "        list2.extend(item)\n",
    "    else:\n",
    "        list2.append(item)\n",
    "else:\n",
    "    print(list2)"
   ]
  },
  {
   "cell_type": "markdown",
   "metadata": {},
   "source": [
    "# 28. How to sort a list in ascending and descending order without using the sort function?"
   ]
  },
  {
   "cell_type": "code",
   "execution_count": 55,
   "metadata": {},
   "outputs": [
    {
     "name": "stdout",
     "output_type": "stream",
     "text": [
      "[2, 3, 4, 5, 5, 7, 8]\n"
     ]
    }
   ],
   "source": [
    "list1=[2,5,3,7,4,8,5]\n",
    "temp=0\n",
    "for i in range(0,len(list1)-1):\n",
    "    for j in range(i+1,len(list1)):\n",
    "        if list1[i]>list1[j]:\n",
    "            temp=list1[j]\n",
    "            list1[j]=list1[i]\n",
    "            list1[i]=temp\n",
    "else:\n",
    "    print(list1)\n",
    "            "
   ]
  },
  {
   "cell_type": "markdown",
   "metadata": {},
   "source": [
    "# 29. How to sort a tuple?"
   ]
  },
  {
   "cell_type": "code",
   "execution_count": 57,
   "metadata": {},
   "outputs": [
    {
     "name": "stdout",
     "output_type": "stream",
     "text": [
      "(2, 3, 4, 5, 5, 7, 8)\n"
     ]
    }
   ],
   "source": [
    "tup1=(2,5,3,7,4,8,5)\n",
    "list1=list(tup1)\n",
    "list1.sort()\n",
    "tup2=tuple(list1)\n",
    "print(tup2)"
   ]
  },
  {
   "cell_type": "code",
   "execution_count": 60,
   "metadata": {},
   "outputs": [
    {
     "name": "stdout",
     "output_type": "stream",
     "text": [
      "(2, 3, 4, 5, 5, 7, 8)\n"
     ]
    }
   ],
   "source": [
    "tup1=(2,5,3,7,4,8,5)\n",
    "tup2=tuple(sorted(tup1))\n",
    "print(tup2)"
   ]
  },
  {
   "cell_type": "markdown",
   "metadata": {},
   "source": [
    "# 30. Write a Python program to convert a list of multiple integers into a single integer a. [11, 33, 50] >>> 113350\n"
   ]
  },
  {
   "cell_type": "code",
   "execution_count": 61,
   "metadata": {},
   "outputs": [
    {
     "name": "stdout",
     "output_type": "stream",
     "text": [
      "113350"
     ]
    }
   ],
   "source": [
    "list1=[11,33,50]\n",
    "for i in list1:\n",
    "    print(i,end=\"\")"
   ]
  },
  {
   "cell_type": "markdown",
   "metadata": {},
   "source": [
    "# 31. Difference between del and clear"
   ]
  },
  {
   "cell_type": "markdown",
   "metadata": {},
   "source": [
    "del is the keyword which is used to delete the particular element from the list\n",
    "\n",
    "clear function used to clear the all element from the list"
   ]
  },
  {
   "cell_type": "markdown",
   "metadata": {},
   "source": [
    "# 32. Difference between remove and pop?"
   ]
  },
  {
   "cell_type": "code",
   "execution_count": null,
   "metadata": {},
   "outputs": [],
   "source": [
    "remove(): it is used to remove the specific element from the list\n",
    "    \n",
    "pop(): it also used to delete element from the list.\n",
    "       by default it will remove the last element from the list"
   ]
  },
  {
   "cell_type": "markdown",
   "metadata": {},
   "source": [
    "# 33. Difference between indexing and Slicing?"
   ]
  },
  {
   "cell_type": "code",
   "execution_count": null,
   "metadata": {},
   "outputs": [],
   "source": [
    "1) index() is used to find the index of the chartacter or element in the list\n",
    "\n",
    "2)slicing is used to get the charater or word from the list\n"
   ]
  },
  {
   "cell_type": "markdown",
   "metadata": {},
   "source": [
    "# 34. Difference between sort and sorted?\n"
   ]
  },
  {
   "cell_type": "code",
   "execution_count": null,
   "metadata": {},
   "outputs": [],
   "source": [
    "1)sort(): this is used to sort the list by ascending or descending order\n",
    "\n",
    "2)sorted is the inbuild function which will sort the list but not update it.\n"
   ]
  },
  {
   "cell_type": "markdown",
   "metadata": {},
   "source": [
    "# 35. Difference between reverse and reversed?\n"
   ]
  },
  {
   "cell_type": "code",
   "execution_count": null,
   "metadata": {},
   "outputs": [],
   "source": [
    "1)reverse(): this is used to reverse the list\n",
    "\n",
    "2)reversed is the in build function which will reverse the list but not update it.\n"
   ]
  },
  {
   "cell_type": "markdown",
   "metadata": {},
   "source": [
    "# 36. Difference between copy and deep copy?\n"
   ]
  },
  {
   "cell_type": "markdown",
   "metadata": {},
   "source": [
    "# 1)copy is also know as shallow copy which is used to copy the list into another list\n",
    "\n",
    "2)deep copy is used whwn we have to copy the list which contain nested list in it.\n"
   ]
  },
  {
   "cell_type": "markdown",
   "metadata": {},
   "source": [
    "# 37. How to check whether the list is empty or not?\n"
   ]
  },
  {
   "cell_type": "code",
   "execution_count": null,
   "metadata": {},
   "outputs": [],
   "source": [
    "l1 = []\n",
    "if len(l1) == 0 :\n",
    " print(\"list is empty\")\n",
    "else:\n",
    " print(\"list is not empty\")\n"
   ]
  },
  {
   "cell_type": "markdown",
   "metadata": {},
   "source": [
    "# 38. How to concatenate two lists?\n"
   ]
  },
  {
   "cell_type": "code",
   "execution_count": null,
   "metadata": {},
   "outputs": [],
   "source": [
    "1) by using extend function we can concatenate the two list.\n",
    "\n",
    "2) by using '+' operator also we can concatenate the two list but can update \n",
    "the list for updating need to assign new variable to it.\n"
   ]
  },
  {
   "cell_type": "markdown",
   "metadata": {},
   "source": [
    "# 39. How to find the occurrences of an element in the python list?\n"
   ]
  },
  {
   "cell_type": "code",
   "execution_count": 1,
   "metadata": {},
   "outputs": [
    {
     "name": "stdout",
     "output_type": "stream",
     "text": [
      "the occurance of 1 is 2\n",
      "the occurance of 1 is 2\n",
      "the occurance of 2 is 2\n",
      "the occurance of 3 is 2\n",
      "the occurance of 4 is 1\n",
      "the occurance of 3 is 2\n",
      "the occurance of 2 is 2\n",
      "the occurance of 5 is 1\n",
      "the occurance of 6 is 1\n"
     ]
    }
   ],
   "source": [
    "# by using the for loop\n",
    "l1 = [1,1,2,3,4,3,2,5,6]\n",
    "for i in l1:\n",
    " print(f\"the occurance of {i} is {l1.count(i)}\")\n"
   ]
  },
  {
   "cell_type": "markdown",
   "metadata": {},
   "source": [
    "# 40. How to flatten a list in python?"
   ]
  },
  {
   "cell_type": "code",
   "execution_count": 4,
   "metadata": {},
   "outputs": [
    {
     "name": "stdout",
     "output_type": "stream",
     "text": [
      "[1, 2, 3, 4, 5, 6, 7, 8, 9]\n"
     ]
    }
   ],
   "source": [
    "# the list can be flatten by converting the sub-list into single element of the list\n",
    "l1 = [1,2,3,4,[5,6,7],8,9]\n",
    "l2 = []\n",
    "for i in l1:\n",
    "    if type(i) == list:\n",
    "        l2.extend(i)\n",
    "    else:\n",
    "        l2.append(i)\n",
    "print(l2)"
   ]
  },
  {
   "cell_type": "code",
   "execution_count": null,
   "metadata": {},
   "outputs": [],
   "source": []
  }
 ],
 "metadata": {
  "kernelspec": {
   "display_name": "Python 3",
   "language": "python",
   "name": "python3"
  },
  "language_info": {
   "codemirror_mode": {
    "name": "ipython",
    "version": 3
   },
   "file_extension": ".py",
   "mimetype": "text/x-python",
   "name": "python",
   "nbconvert_exporter": "python",
   "pygments_lexer": "ipython3",
   "version": "3.7.3"
  }
 },
 "nbformat": 4,
 "nbformat_minor": 2
}
