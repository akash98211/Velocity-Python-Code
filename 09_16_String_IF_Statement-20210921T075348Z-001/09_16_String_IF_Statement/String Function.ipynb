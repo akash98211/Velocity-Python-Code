{
 "cells": [
  {
   "cell_type": "markdown",
   "id": "elder-balance",
   "metadata": {},
   "source": [
    "# String Functions"
   ]
  },
  {
   "cell_type": "markdown",
   "id": "coordinate-disclosure",
   "metadata": {},
   "source": [
    "# 20. isdecimal()"
   ]
  },
  {
   "cell_type": "code",
   "execution_count": 1,
   "id": "isolated-freedom",
   "metadata": {},
   "outputs": [
    {
     "data": {
      "text/plain": [
       "True"
      ]
     },
     "execution_count": 1,
     "metadata": {},
     "output_type": "execute_result"
    }
   ],
   "source": [
    "string = '23456'\n",
    "string.isdecimal()"
   ]
  },
  {
   "cell_type": "code",
   "execution_count": 3,
   "id": "ranking-inside",
   "metadata": {},
   "outputs": [
    {
     "data": {
      "text/plain": [
       "False"
      ]
     },
     "execution_count": 3,
     "metadata": {},
     "output_type": "execute_result"
    }
   ],
   "source": [
    "string = '23456 '\n",
    "string.isdecimal()"
   ]
  },
  {
   "cell_type": "code",
   "execution_count": 4,
   "id": "comparable-texture",
   "metadata": {},
   "outputs": [
    {
     "data": {
      "text/plain": [
       "False"
      ]
     },
     "execution_count": 4,
     "metadata": {},
     "output_type": "execute_result"
    }
   ],
   "source": [
    "string = '987 986 1234'\n",
    "string.isdecimal()"
   ]
  },
  {
   "cell_type": "code",
   "execution_count": 6,
   "id": "unsigned-atmosphere",
   "metadata": {},
   "outputs": [
    {
     "data": {
      "text/plain": [
       "True"
      ]
     },
     "execution_count": 6,
     "metadata": {},
     "output_type": "execute_result"
    }
   ],
   "source": [
    "string = '987 986 1234'\n",
    "string.replace(\" \",'').isdecimal()"
   ]
  },
  {
   "cell_type": "code",
   "execution_count": 8,
   "id": "threaded-affiliation",
   "metadata": {},
   "outputs": [
    {
     "data": {
      "text/plain": [
       "True"
      ]
     },
     "execution_count": 8,
     "metadata": {},
     "output_type": "execute_result"
    }
   ],
   "source": [
    "string = \"\\u0030\"\n",
    "string.isdecimal()"
   ]
  },
  {
   "cell_type": "code",
   "execution_count": 10,
   "id": "hidden-frank",
   "metadata": {},
   "outputs": [
    {
     "data": {
      "text/plain": [
       "True"
      ]
     },
     "execution_count": 10,
     "metadata": {},
     "output_type": "execute_result"
    }
   ],
   "source": [
    "string = \"\\u0039\"\n",
    "string.isdecimal()"
   ]
  },
  {
   "cell_type": "markdown",
   "id": "collaborative-benjamin",
   "metadata": {},
   "source": [
    "# 21. isdigit()"
   ]
  },
  {
   "cell_type": "code",
   "execution_count": null,
   "id": "fatty-comparative",
   "metadata": {},
   "outputs": [],
   "source": [
    "True >> If all char are digits, subscripts and superscrits"
   ]
  },
  {
   "cell_type": "code",
   "execution_count": 12,
   "id": "other-delhi",
   "metadata": {},
   "outputs": [
    {
     "data": {
      "text/plain": [
       "True"
      ]
     },
     "execution_count": 12,
     "metadata": {},
     "output_type": "execute_result"
    }
   ],
   "source": [
    "string = '23456'\n",
    "string.isdigit()"
   ]
  },
  {
   "cell_type": "code",
   "execution_count": 14,
   "id": "small-reproduction",
   "metadata": {},
   "outputs": [
    {
     "data": {
      "text/plain": [
       "False"
      ]
     },
     "execution_count": 14,
     "metadata": {},
     "output_type": "execute_result"
    }
   ],
   "source": [
    "string = '23456 '\n",
    "string.isdecimal()"
   ]
  },
  {
   "cell_type": "code",
   "execution_count": 16,
   "id": "beginning-review",
   "metadata": {},
   "outputs": [
    {
     "data": {
      "text/plain": [
       "False"
      ]
     },
     "execution_count": 16,
     "metadata": {},
     "output_type": "execute_result"
    }
   ],
   "source": [
    "string = '987 986 1234'\n",
    "string.isdecimal()"
   ]
  },
  {
   "cell_type": "code",
   "execution_count": 18,
   "id": "scientific-silver",
   "metadata": {},
   "outputs": [
    {
     "data": {
      "text/plain": [
       "True"
      ]
     },
     "execution_count": 18,
     "metadata": {},
     "output_type": "execute_result"
    }
   ],
   "source": [
    "string = \"\\u0039\"\n",
    "string.isdecimal()"
   ]
  },
  {
   "cell_type": "code",
   "execution_count": 23,
   "id": "worth-taiwan",
   "metadata": {},
   "outputs": [
    {
     "data": {
      "text/plain": [
       "True"
      ]
     },
     "execution_count": 23,
     "metadata": {},
     "output_type": "execute_result"
    }
   ],
   "source": [
    "string = \"\\u00B2\" # Superscript\n",
    "string.isdigit()"
   ]
  },
  {
   "cell_type": "code",
   "execution_count": 24,
   "id": "perfect-tunnel",
   "metadata": {},
   "outputs": [
    {
     "data": {
      "text/plain": [
       "False"
      ]
     },
     "execution_count": 24,
     "metadata": {},
     "output_type": "execute_result"
    }
   ],
   "source": [
    "string = \"\\u00B5\" # Superscript\n",
    "string.isdigit()"
   ]
  },
  {
   "cell_type": "code",
   "execution_count": 25,
   "id": "ranking-index",
   "metadata": {},
   "outputs": [
    {
     "data": {
      "text/plain": [
       "False"
      ]
     },
     "execution_count": 25,
     "metadata": {},
     "output_type": "execute_result"
    }
   ],
   "source": [
    "string = \"\\u00B5\" # Superscript 2\n",
    "string.isdigit()"
   ]
  },
  {
   "cell_type": "code",
   "execution_count": 27,
   "id": "ideal-green",
   "metadata": {},
   "outputs": [
    {
     "data": {
      "text/plain": [
       "True"
      ]
     },
     "execution_count": 27,
     "metadata": {},
     "output_type": "execute_result"
    }
   ],
   "source": [
    "string = \"42\" \n",
    "string.isdigit()"
   ]
  },
  {
   "cell_type": "code",
   "execution_count": 28,
   "id": "fabulous-scale",
   "metadata": {},
   "outputs": [
    {
     "name": "stdout",
     "output_type": "stream",
     "text": [
      "False\n",
      "False\n"
     ]
    }
   ],
   "source": [
    "string = \"python12345\" \n",
    "print(string.isdigit()) # False\n",
    "print(string.isdecimal()) # False"
   ]
  },
  {
   "cell_type": "code",
   "execution_count": null,
   "id": "assigned-fusion",
   "metadata": {},
   "outputs": [],
   "source": [
    "string = \"12345\" \n",
    "print(string.isdigit()) # True\n",
    "print(string.isdecimal()) # True"
   ]
  },
  {
   "cell_type": "code",
   "execution_count": 32,
   "id": "anonymous-rugby",
   "metadata": {},
   "outputs": [
    {
     "name": "stdout",
     "output_type": "stream",
     "text": [
      "True\n",
      "True\n"
     ]
    }
   ],
   "source": [
    "string = \"\\u0035\"  # 5 \n",
    "print(string.isdigit()) # True\n",
    "print(string.isdecimal()) # True"
   ]
  },
  {
   "cell_type": "code",
   "execution_count": 35,
   "id": "eastern-timothy",
   "metadata": {},
   "outputs": [
    {
     "name": "stdout",
     "output_type": "stream",
     "text": [
      "True\n",
      "False\n"
     ]
    }
   ],
   "source": [
    "string = \"\\u00B2\"  # \n",
    "print(string.isdigit()) # True\n",
    "print(string.isdecimal()) # False"
   ]
  },
  {
   "cell_type": "code",
   "execution_count": 37,
   "id": "involved-knife",
   "metadata": {},
   "outputs": [
    {
     "name": "stdout",
     "output_type": "stream",
     "text": [
      "True\n",
      "False\n"
     ]
    }
   ],
   "source": [
    "string = \"\\u00B3\"  # \n",
    "print(string.isdigit()) # True\n",
    "print(string.isdecimal()) # False"
   ]
  },
  {
   "cell_type": "code",
   "execution_count": 38,
   "id": "related-chemical",
   "metadata": {},
   "outputs": [
    {
     "name": "stdout",
     "output_type": "stream",
     "text": [
      "True\n",
      "False\n"
     ]
    }
   ],
   "source": [
    "string = \"\\u2082\"  # \n",
    "print(string.isdigit()) # True\n",
    "print(string.isdecimal()) # False"
   ]
  },
  {
   "cell_type": "markdown",
   "id": "confirmed-conservation",
   "metadata": {},
   "source": [
    "# 22. isnumeric"
   ]
  },
  {
   "cell_type": "code",
   "execution_count": null,
   "id": "worthy-works",
   "metadata": {},
   "outputs": [],
   "source": [
    "True >> If all char are digits, subscripts, superscrits, vulgar fraction(1/2, 3/4)"
   ]
  },
  {
   "cell_type": "code",
   "execution_count": 40,
   "id": "uniform-compact",
   "metadata": {},
   "outputs": [
    {
     "name": "stdout",
     "output_type": "stream",
     "text": [
      "False\n",
      "False\n",
      "True\n"
     ]
    }
   ],
   "source": [
    "string = '\\u00BD'\n",
    "print(string.isdigit()) # True\n",
    "print(string.isdecimal()) # False\n",
    "print(string.isnumeric()) "
   ]
  },
  {
   "cell_type": "code",
   "execution_count": 42,
   "id": "first-approval",
   "metadata": {},
   "outputs": [
    {
     "name": "stdout",
     "output_type": "stream",
     "text": [
      "False\n",
      "False\n",
      "False\n"
     ]
    }
   ],
   "source": [
    "string = '1/2'\n",
    "print(string.isdigit()) # True\n",
    "print(string.isdecimal()) # False\n",
    "print(string.isnumeric()) "
   ]
  },
  {
   "cell_type": "code",
   "execution_count": 44,
   "id": "alien-development",
   "metadata": {},
   "outputs": [
    {
     "name": "stdout",
     "output_type": "stream",
     "text": [
      "False\n",
      "False\n",
      "False\n"
     ]
    }
   ],
   "source": [
    "string = '12'\n",
    "print(string.isdecimal()) # False\n",
    "print(string.isdigit()) # True\n",
    "print(string.isnumeric()) "
   ]
  },
  {
   "cell_type": "code",
   "execution_count": 45,
   "id": "hairy-announcement",
   "metadata": {},
   "outputs": [
    {
     "name": "stdout",
     "output_type": "stream",
     "text": [
      "False\n",
      "False\n",
      "False\n"
     ]
    }
   ],
   "source": [
    "string = '1.2'\n",
    "print(string.isdecimal()) # False\n",
    "print(string.isdigit()) # True\n",
    "print(string.isnumeric()) "
   ]
  },
  {
   "cell_type": "code",
   "execution_count": 46,
   "id": "advisory-tuner",
   "metadata": {},
   "outputs": [
    {
     "name": "stdout",
     "output_type": "stream",
     "text": [
      "False\n",
      "False\n",
      "False\n"
     ]
    }
   ],
   "source": [
    "string = 'python'\n",
    "print(string.isdecimal()) # F\n",
    "print(string.isdigit()) #  F\n",
    "print(string.isnumeric()) # F"
   ]
  },
  {
   "cell_type": "code",
   "execution_count": 47,
   "id": "designed-reducing",
   "metadata": {},
   "outputs": [
    {
     "name": "stdout",
     "output_type": "stream",
     "text": [
      "False\n",
      "False\n",
      "False\n"
     ]
    }
   ],
   "source": [
    "string = 'python123'\n",
    "print(string.isdecimal()) # F\n",
    "print(string.isdigit()) #  F\n",
    "print(string.isnumeric()) # F"
   ]
  },
  {
   "cell_type": "code",
   "execution_count": 48,
   "id": "mighty-necessity",
   "metadata": {},
   "outputs": [
    {
     "name": "stdout",
     "output_type": "stream",
     "text": [
      "True\n",
      "True\n",
      "True\n"
     ]
    }
   ],
   "source": [
    "string = '123567'\n",
    "print(string.isdecimal()) # T\n",
    "print(string.isdigit()) #  T\n",
    "print(string.isnumeric()) # T"
   ]
  },
  {
   "cell_type": "code",
   "execution_count": 62,
   "id": "labeled-envelope",
   "metadata": {},
   "outputs": [
    {
     "name": "stdout",
     "output_type": "stream",
     "text": [
      "False\n",
      "False\n",
      "False\n"
     ]
    }
   ],
   "source": [
    "string = '123 567'\n",
    "print(string.isdecimal()) # F\n",
    "print(string.isdigit()) #  F\n",
    "print(string.isnumeric()) # F"
   ]
  },
  {
   "cell_type": "code",
   "execution_count": 65,
   "id": "loose-burden",
   "metadata": {},
   "outputs": [
    {
     "name": "stdout",
     "output_type": "stream",
     "text": [
      "False\n",
      "False\n",
      "False\n"
     ]
    }
   ],
   "source": [
    "string = '1235.67'\n",
    "print(string.isdecimal()) # F\n",
    "print(string.isdigit()) #  F\n",
    "print(string.isnumeric()) # F"
   ]
  },
  {
   "cell_type": "code",
   "execution_count": 52,
   "id": "active-means",
   "metadata": {},
   "outputs": [
    {
     "name": "stdout",
     "output_type": "stream",
     "text": [
      "True\n",
      "True\n",
      "True\n"
     ]
    }
   ],
   "source": [
    "string = '\\u0030'\n",
    "print(string.isdecimal()) # T\n",
    "print(string.isdigit()) #  T\n",
    "print(string.isnumeric()) # T"
   ]
  },
  {
   "cell_type": "code",
   "execution_count": 53,
   "id": "anticipated-stanford",
   "metadata": {},
   "outputs": [
    {
     "name": "stdout",
     "output_type": "stream",
     "text": [
      "True\n",
      "True\n",
      "True\n"
     ]
    }
   ],
   "source": [
    "string = '\\u0037'\n",
    "print(string.isdecimal()) # T\n",
    "print(string.isdigit()) #  T\n",
    "print(string.isnumeric()) # T"
   ]
  },
  {
   "cell_type": "code",
   "execution_count": 55,
   "id": "natural-prison",
   "metadata": {},
   "outputs": [
    {
     "name": "stdout",
     "output_type": "stream",
     "text": [
      "False\n",
      "False\n",
      "False\n"
     ]
    }
   ],
   "source": [
    "string = '\\u0040'\n",
    "print(string.isdecimal()) # F\n",
    "print(string.isdigit()) #  F\n",
    "print(string.isnumeric()) # F"
   ]
  },
  {
   "cell_type": "code",
   "execution_count": 57,
   "id": "fleet-agency",
   "metadata": {},
   "outputs": [
    {
     "name": "stdout",
     "output_type": "stream",
     "text": [
      "False\n",
      "True\n",
      "True\n"
     ]
    }
   ],
   "source": [
    "string = '\\u00B3'  # superscript 3\n",
    "print(string.isdecimal()) # F\n",
    "print(string.isdigit()) #  T\n",
    "print(string.isnumeric()) # T"
   ]
  },
  {
   "cell_type": "code",
   "execution_count": 59,
   "id": "republican-timer",
   "metadata": {},
   "outputs": [
    {
     "name": "stdout",
     "output_type": "stream",
     "text": [
      "False\n",
      "True\n",
      "True\n"
     ]
    }
   ],
   "source": [
    "string = '\\u00B2'  # superscript 2\n",
    "print(string.isdecimal()) # F\n",
    "print(string.isdigit()) #  T\n",
    "print(string.isnumeric()) # T"
   ]
  },
  {
   "cell_type": "code",
   "execution_count": 61,
   "id": "raising-western",
   "metadata": {},
   "outputs": [
    {
     "name": "stdout",
     "output_type": "stream",
     "text": [
      "False\n",
      "False\n",
      "True\n"
     ]
    }
   ],
   "source": [
    "string = '\\u00BD'  # 1/2 fraction\n",
    "print(string.isdecimal()) # F\n",
    "print(string.isdigit()) #  F\n",
    "print(string.isnumeric()) # T"
   ]
  },
  {
   "cell_type": "raw",
   "id": "legal-attempt",
   "metadata": {},
   "source": [
    "isdecimal >> digits\n",
    "isdigit   >> digits , subscripts, superscripts\n",
    "isnumeric >> digits , subscripts, superscripts, vulgar fraction"
   ]
  },
  {
   "cell_type": "markdown",
   "id": "suspected-edgar",
   "metadata": {},
   "source": [
    "# 23. islower()"
   ]
  },
  {
   "cell_type": "raw",
   "id": "connected-louisville",
   "metadata": {},
   "source": [
    "True >> If all chars of string are in lower case\n",
    "Space is allowed"
   ]
  },
  {
   "cell_type": "code",
   "execution_count": 67,
   "id": "proprietary-thinking",
   "metadata": {},
   "outputs": [
    {
     "data": {
      "text/plain": [
       "False"
      ]
     },
     "execution_count": 67,
     "metadata": {},
     "output_type": "execute_result"
    }
   ],
   "source": [
    "s = \"Data Science\"\n",
    "s.islower()"
   ]
  },
  {
   "cell_type": "code",
   "execution_count": 69,
   "id": "talented-diving",
   "metadata": {},
   "outputs": [
    {
     "data": {
      "text/plain": [
       "True"
      ]
     },
     "execution_count": 69,
     "metadata": {},
     "output_type": "execute_result"
    }
   ],
   "source": [
    "s = \"data science\"\n",
    "s.islower()"
   ]
  },
  {
   "cell_type": "code",
   "execution_count": 71,
   "id": "whole-extra",
   "metadata": {},
   "outputs": [
    {
     "data": {
      "text/plain": [
       "True"
      ]
     },
     "execution_count": 71,
     "metadata": {},
     "output_type": "execute_result"
    }
   ],
   "source": [
    "s = \"data science 123\"\n",
    "s.islower()"
   ]
  },
  {
   "cell_type": "code",
   "execution_count": 79,
   "id": "global-bloom",
   "metadata": {},
   "outputs": [
    {
     "data": {
      "text/plain": [
       "True"
      ]
     },
     "execution_count": 79,
     "metadata": {},
     "output_type": "execute_result"
    }
   ],
   "source": [
    "s = \"data science 123  $\"\n",
    "s.islower()"
   ]
  },
  {
   "cell_type": "code",
   "execution_count": 80,
   "id": "handy-hydrogen",
   "metadata": {},
   "outputs": [
    {
     "data": {
      "text/plain": [
       "False"
      ]
     },
     "execution_count": 80,
     "metadata": {},
     "output_type": "execute_result"
    }
   ],
   "source": [
    "s = \"data Science 123  $\"\n",
    "s.islower()"
   ]
  },
  {
   "cell_type": "code",
   "execution_count": 77,
   "id": "third-invention",
   "metadata": {},
   "outputs": [
    {
     "data": {
      "text/plain": [
       "'python 1234'"
      ]
     },
     "execution_count": 77,
     "metadata": {},
     "output_type": "execute_result"
    }
   ],
   "source": [
    "s1 = 'Python 1234'\n",
    "s1.lower()"
   ]
  },
  {
   "cell_type": "code",
   "execution_count": 81,
   "id": "through-builder",
   "metadata": {},
   "outputs": [
    {
     "data": {
      "text/plain": [
       "'python 1234 #$'"
      ]
     },
     "execution_count": 81,
     "metadata": {},
     "output_type": "execute_result"
    }
   ],
   "source": [
    "s1 = 'Python 1234 #$'\n",
    "s1.lower()"
   ]
  },
  {
   "cell_type": "markdown",
   "id": "interstate-healthcare",
   "metadata": {},
   "source": [
    "# 24. isupper()"
   ]
  },
  {
   "cell_type": "code",
   "execution_count": 83,
   "id": "speaking-henry",
   "metadata": {},
   "outputs": [
    {
     "data": {
      "text/plain": [
       "False"
      ]
     },
     "execution_count": 83,
     "metadata": {},
     "output_type": "execute_result"
    }
   ],
   "source": [
    "string = \"Machine Learning\"\n",
    "string.isupper()"
   ]
  },
  {
   "cell_type": "code",
   "execution_count": 84,
   "id": "frozen-danger",
   "metadata": {},
   "outputs": [
    {
     "data": {
      "text/plain": [
       "True"
      ]
     },
     "execution_count": 84,
     "metadata": {},
     "output_type": "execute_result"
    }
   ],
   "source": [
    "string = \"DATA\"\n",
    "string.isupper()"
   ]
  },
  {
   "cell_type": "code",
   "execution_count": 85,
   "id": "prospective-listing",
   "metadata": {},
   "outputs": [
    {
     "data": {
      "text/plain": [
       "True"
      ]
     },
     "execution_count": 85,
     "metadata": {},
     "output_type": "execute_result"
    }
   ],
   "source": [
    "string = \"DATA 1234\"\n",
    "string.isupper()"
   ]
  },
  {
   "cell_type": "code",
   "execution_count": 87,
   "id": "intimate-transportation",
   "metadata": {},
   "outputs": [
    {
     "data": {
      "text/plain": [
       "False"
      ]
     },
     "execution_count": 87,
     "metadata": {},
     "output_type": "execute_result"
    }
   ],
   "source": [
    "string = \"DATa #$\"\n",
    "string.isupper()"
   ]
  },
  {
   "cell_type": "markdown",
   "id": "external-prophet",
   "metadata": {},
   "source": [
    "# 25. istitle()"
   ]
  },
  {
   "cell_type": "code",
   "execution_count": 89,
   "id": "boolean-installation",
   "metadata": {},
   "outputs": [
    {
     "data": {
      "text/plain": [
       "True"
      ]
     },
     "execution_count": 89,
     "metadata": {},
     "output_type": "execute_result"
    }
   ],
   "source": [
    "string = \"Akshay Kumar\"\n",
    "string.istitle()"
   ]
  },
  {
   "cell_type": "code",
   "execution_count": 90,
   "id": "coated-equity",
   "metadata": {},
   "outputs": [
    {
     "data": {
      "text/plain": [
       "False"
      ]
     },
     "execution_count": 90,
     "metadata": {},
     "output_type": "execute_result"
    }
   ],
   "source": [
    "string = \"United State of America\"\n",
    "string.istitle()"
   ]
  },
  {
   "cell_type": "code",
   "execution_count": 92,
   "id": "rolled-algorithm",
   "metadata": {},
   "outputs": [
    {
     "data": {
      "text/plain": [
       "True"
      ]
     },
     "execution_count": 92,
     "metadata": {},
     "output_type": "execute_result"
    }
   ],
   "source": [
    "string = \"United State Of America\"\n",
    "string.istitle()"
   ]
  },
  {
   "cell_type": "code",
   "execution_count": 98,
   "id": "jewish-compromise",
   "metadata": {},
   "outputs": [
    {
     "data": {
      "text/plain": [
       "False"
      ]
     },
     "execution_count": 98,
     "metadata": {},
     "output_type": "execute_result"
    }
   ],
   "source": [
    "string = \"AKSHAY Kumar\"\n",
    "string.istitle()"
   ]
  },
  {
   "cell_type": "code",
   "execution_count": 99,
   "id": "muslim-honey",
   "metadata": {},
   "outputs": [
    {
     "data": {
      "text/plain": [
       "'Rohit Sharma 100'"
      ]
     },
     "execution_count": 99,
     "metadata": {},
     "output_type": "execute_result"
    }
   ],
   "source": [
    "s = \"ROHIT SHARMA 100\"\n",
    "s.title()"
   ]
  },
  {
   "cell_type": "code",
   "execution_count": 97,
   "id": "desperate-screw",
   "metadata": {},
   "outputs": [
    {
     "data": {
      "text/plain": [
       "True"
      ]
     },
     "execution_count": 97,
     "metadata": {},
     "output_type": "execute_result"
    }
   ],
   "source": [
    "string = \"Akshay Kumar 123\"\n",
    "string.istitle()"
   ]
  },
  {
   "cell_type": "markdown",
   "id": "grave-adelaide",
   "metadata": {},
   "source": [
    "# 26. isspace()"
   ]
  },
  {
   "cell_type": "raw",
   "id": "naughty-novelty",
   "metadata": {},
   "source": [
    "True  >> If all char in string are space\n"
   ]
  },
  {
   "cell_type": "code",
   "execution_count": 100,
   "id": "complimentary-cedar",
   "metadata": {},
   "outputs": [
    {
     "data": {
      "text/plain": [
       "True"
      ]
     },
     "execution_count": 100,
     "metadata": {},
     "output_type": "execute_result"
    }
   ],
   "source": [
    "string = \"    \"\n",
    "string.isspace()"
   ]
  },
  {
   "cell_type": "code",
   "execution_count": 101,
   "id": "exceptional-breast",
   "metadata": {},
   "outputs": [
    {
     "data": {
      "text/plain": [
       "False"
      ]
     },
     "execution_count": 101,
     "metadata": {},
     "output_type": "execute_result"
    }
   ],
   "source": [
    "string = \"    2\"\n",
    "string.isspace()"
   ]
  },
  {
   "cell_type": "code",
   "execution_count": 103,
   "id": "central-louis",
   "metadata": {},
   "outputs": [
    {
     "data": {
      "text/plain": [
       "False"
      ]
     },
     "execution_count": 103,
     "metadata": {},
     "output_type": "execute_result"
    }
   ],
   "source": [
    "string = \"    2              \"\n",
    "string.isspace()"
   ]
  },
  {
   "cell_type": "code",
   "execution_count": 105,
   "id": "white-proportion",
   "metadata": {},
   "outputs": [
    {
     "data": {
      "text/plain": [
       "True"
      ]
     },
     "execution_count": 105,
     "metadata": {},
     "output_type": "execute_result"
    }
   ],
   "source": [
    "string = \"                  \"\n",
    "string.isspace()"
   ]
  },
  {
   "cell_type": "code",
   "execution_count": 107,
   "id": "loaded-wagner",
   "metadata": {},
   "outputs": [
    {
     "data": {
      "text/plain": [
       "False"
      ]
     },
     "execution_count": 107,
     "metadata": {},
     "output_type": "execute_result"
    }
   ],
   "source": [
    "string = \"       $           \"\n",
    "string.isspace()"
   ]
  },
  {
   "cell_type": "code",
   "execution_count": 109,
   "id": "clinical-niger",
   "metadata": {},
   "outputs": [
    {
     "data": {
      "text/plain": [
       "False"
      ]
     },
     "execution_count": 109,
     "metadata": {},
     "output_type": "execute_result"
    }
   ],
   "source": [
    "string = \"       @           \"\n",
    "string.isspace()"
   ]
  },
  {
   "cell_type": "code",
   "execution_count": 111,
   "id": "proof-rotation",
   "metadata": {},
   "outputs": [
    {
     "data": {
      "text/plain": [
       "False"
      ]
     },
     "execution_count": 111,
     "metadata": {},
     "output_type": "execute_result"
    }
   ],
   "source": [
    "string = \"\"\n",
    "string.isspace()"
   ]
  },
  {
   "cell_type": "code",
   "execution_count": 113,
   "id": "divided-facial",
   "metadata": {},
   "outputs": [
    {
     "data": {
      "text/plain": [
       "True"
      ]
     },
     "execution_count": 113,
     "metadata": {},
     "output_type": "execute_result"
    }
   ],
   "source": [
    "string = \" \"\n",
    "string.isspace()"
   ]
  },
  {
   "cell_type": "code",
   "execution_count": 118,
   "id": "stylish-seeker",
   "metadata": {},
   "outputs": [],
   "source": [
    "deep_learning = \"\"\"Deep learning is a subset of machine learning, \n",
    "                           \n",
    "which is essentially a neural network \n",
    "with three or more layers\"\"\""
   ]
  },
  {
   "cell_type": "code",
   "execution_count": 119,
   "id": "elementary-equipment",
   "metadata": {},
   "outputs": [
    {
     "name": "stdout",
     "output_type": "stream",
     "text": [
      "Deep learning is a subset of machine learning, \n",
      "                           \n",
      "which is essentially a neural network \n",
      "with three or more layers\n"
     ]
    }
   ],
   "source": [
    "print(deep_learning)"
   ]
  },
  {
   "cell_type": "code",
   "execution_count": 130,
   "id": "nominated-newark",
   "metadata": {},
   "outputs": [
    {
     "name": "stdout",
     "output_type": "stream",
     "text": [
      "Deep learning is a subset of machine learning, \n",
      "which is essentially a neural network \n",
      "with three or more layers\n"
     ]
    }
   ],
   "source": [
    "list1 = deep_learning.split('\\n')\n",
    "list2 = []\n",
    "for line in list1:\n",
    "#     print(\"Line Text >> \",line)\n",
    "    if line.isspace(): #  True\n",
    "#         print(\"Blank Line found\")\n",
    "        continue  # It will stop current iteration\n",
    "        \n",
    "    list2.append(line)\n",
    "    \n",
    "deep_learning = '\\n'.join(list2) \n",
    "print(deep_learning)"
   ]
  },
  {
   "cell_type": "markdown",
   "id": "chronic-groove",
   "metadata": {},
   "source": [
    "# 27. zfill()"
   ]
  },
  {
   "cell_type": "raw",
   "id": "viral-disability",
   "metadata": {},
   "source": [
    "It adds zeros at the beginning of string"
   ]
  },
  {
   "cell_type": "code",
   "execution_count": 132,
   "id": "double-forwarding",
   "metadata": {},
   "outputs": [
    {
     "data": {
      "text/plain": [
       "'0000001234'"
      ]
     },
     "execution_count": 132,
     "metadata": {},
     "output_type": "execute_result"
    }
   ],
   "source": [
    "str1 = \"1234\"  # 4\n",
    "str1.zfill(10)  # 6 zeros"
   ]
  },
  {
   "cell_type": "code",
   "execution_count": 134,
   "id": "historical-building",
   "metadata": {},
   "outputs": [
    {
     "data": {
      "text/plain": [
       "'0000python'"
      ]
     },
     "execution_count": 134,
     "metadata": {},
     "output_type": "execute_result"
    }
   ],
   "source": [
    "str1 = \"python\"  # 6\n",
    "str1.zfill(10)  # 6 zeros"
   ]
  },
  {
   "cell_type": "code",
   "execution_count": 136,
   "id": "senior-victoria",
   "metadata": {},
   "outputs": [
    {
     "data": {
      "text/plain": [
       "'000 python'"
      ]
     },
     "execution_count": 136,
     "metadata": {},
     "output_type": "execute_result"
    }
   ],
   "source": [
    "str1 = \" python\"  # 7\n",
    "str1.zfill(10)  # 3 zeros"
   ]
  },
  {
   "cell_type": "code",
   "execution_count": 137,
   "id": "every-manner",
   "metadata": {},
   "outputs": [],
   "source": [
    "bureau_string = \"XXX000015\""
   ]
  },
  {
   "cell_type": "code",
   "execution_count": 139,
   "id": "automated-unknown",
   "metadata": {},
   "outputs": [
    {
     "data": {
      "text/plain": [
       "'000000015'"
      ]
     },
     "execution_count": 139,
     "metadata": {},
     "output_type": "execute_result"
    }
   ],
   "source": [
    "bureau_string = \"000015\"\n",
    "bureau_string.zfill(9)"
   ]
  },
  {
   "cell_type": "code",
   "execution_count": 141,
   "id": "special-mistress",
   "metadata": {},
   "outputs": [
    {
     "data": {
      "text/plain": [
       "'000120015'"
      ]
     },
     "execution_count": 141,
     "metadata": {},
     "output_type": "execute_result"
    }
   ],
   "source": [
    "bureau_string = \"120015\"\n",
    "bureau_string.zfill(9)"
   ]
  },
  {
   "cell_type": "code",
   "execution_count": 142,
   "id": "experienced-monte",
   "metadata": {},
   "outputs": [
    {
     "data": {
      "text/plain": [
       "'SUB120015'"
      ]
     },
     "execution_count": 142,
     "metadata": {},
     "output_type": "execute_result"
    }
   ],
   "source": [
    "bureau_string = \"SUB120015\"\n",
    "bureau_string.zfill(9)"
   ]
  },
  {
   "cell_type": "code",
   "execution_count": 144,
   "id": "seasonal-tomato",
   "metadata": {},
   "outputs": [
    {
     "data": {
      "text/plain": [
       "'000SUB120015'"
      ]
     },
     "execution_count": 144,
     "metadata": {},
     "output_type": "execute_result"
    }
   ],
   "source": [
    "bureau_string = \"SUB120015\"\n",
    "bureau_string.zfill(12)"
   ]
  },
  {
   "cell_type": "markdown",
   "id": "cross-anxiety",
   "metadata": {},
   "source": [
    "# 28. center()"
   ]
  },
  {
   "cell_type": "code",
   "execution_count": 146,
   "id": "indonesian-creek",
   "metadata": {},
   "outputs": [
    {
     "data": {
      "text/plain": [
       "'  Python  '"
      ]
     },
     "execution_count": 146,
     "metadata": {},
     "output_type": "execute_result"
    }
   ],
   "source": [
    "string = \"Python\" # 6\n",
    "string.center(10)"
   ]
  },
  {
   "cell_type": "code",
   "execution_count": 148,
   "id": "forty-mobility",
   "metadata": {},
   "outputs": [
    {
     "data": {
      "text/plain": [
       "'   Python  '"
      ]
     },
     "execution_count": 148,
     "metadata": {},
     "output_type": "execute_result"
    }
   ],
   "source": [
    "string = \"Python\" # 6\n",
    "string.center(11)"
   ]
  },
  {
   "cell_type": "code",
   "execution_count": 150,
   "id": "valuable-deployment",
   "metadata": {},
   "outputs": [
    {
     "data": {
      "text/plain": [
       "'       Python       '"
      ]
     },
     "execution_count": 150,
     "metadata": {},
     "output_type": "execute_result"
    }
   ],
   "source": [
    "string = \"Python\" # 6\n",
    "string.center(20)"
   ]
  },
  {
   "cell_type": "code",
   "execution_count": 152,
   "id": "documentary-scope",
   "metadata": {},
   "outputs": [
    {
     "data": {
      "text/plain": [
       "'       12345        '"
      ]
     },
     "execution_count": 152,
     "metadata": {},
     "output_type": "execute_result"
    }
   ],
   "source": [
    "string = \"12345\" # 6\n",
    "string.center(20)"
   ]
  },
  {
   "cell_type": "code",
   "execution_count": 155,
   "id": "olympic-estate",
   "metadata": {},
   "outputs": [
    {
     "data": {
      "text/plain": [
       "'       12345        '"
      ]
     },
     "execution_count": 155,
     "metadata": {},
     "output_type": "execute_result"
    }
   ],
   "source": [
    "string = \"12345\" # 6\n",
    "string.center(20,\" \")"
   ]
  },
  {
   "cell_type": "code",
   "execution_count": 157,
   "id": "corrected-spokesman",
   "metadata": {},
   "outputs": [
    {
     "data": {
      "text/plain": [
       "'+++++++12345++++++++'"
      ]
     },
     "execution_count": 157,
     "metadata": {},
     "output_type": "execute_result"
    }
   ],
   "source": [
    "string = \"12345\" # 6\n",
    "string.center(20,\"+\")"
   ]
  },
  {
   "cell_type": "code",
   "execution_count": 159,
   "id": "serial-specification",
   "metadata": {},
   "outputs": [
    {
     "data": {
      "text/plain": [
       "'++12345+++'"
      ]
     },
     "execution_count": 159,
     "metadata": {},
     "output_type": "execute_result"
    }
   ],
   "source": [
    "string = \"12345\" # 6\n",
    "string.center(10,\"+\")"
   ]
  },
  {
   "cell_type": "code",
   "execution_count": 161,
   "id": "sonic-orbit",
   "metadata": {},
   "outputs": [
    {
     "data": {
      "text/plain": [
       "'+++12345+++'"
      ]
     },
     "execution_count": 161,
     "metadata": {},
     "output_type": "execute_result"
    }
   ],
   "source": [
    "string = \"12345\" # 6\n",
    "string.center(11,\"+\")"
   ]
  },
  {
   "cell_type": "code",
   "execution_count": 162,
   "id": "wired-basket",
   "metadata": {},
   "outputs": [
    {
     "data": {
      "text/plain": [
       "'***12345***'"
      ]
     },
     "execution_count": 162,
     "metadata": {},
     "output_type": "execute_result"
    }
   ],
   "source": [
    "string = \"12345\" # 6\n",
    "string.center(11,\"*\")"
   ]
  },
  {
   "cell_type": "code",
   "execution_count": null,
   "id": "external-weekly",
   "metadata": {},
   "outputs": [],
   "source": []
  }
 ],
 "metadata": {
  "kernelspec": {
   "display_name": "Python 3",
   "language": "python",
   "name": "python3"
  },
  "language_info": {
   "codemirror_mode": {
    "name": "ipython",
    "version": 3
   },
   "file_extension": ".py",
   "mimetype": "text/x-python",
   "name": "python",
   "nbconvert_exporter": "python",
   "pygments_lexer": "ipython3",
   "version": "3.8.7"
  }
 },
 "nbformat": 4,
 "nbformat_minor": 5
}
