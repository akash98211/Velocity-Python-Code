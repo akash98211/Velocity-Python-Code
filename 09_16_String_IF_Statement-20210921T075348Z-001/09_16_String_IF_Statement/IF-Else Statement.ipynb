{
 "cells": [
  {
   "cell_type": "code",
   "execution_count": null,
   "id": "tight-vienna",
   "metadata": {},
   "outputs": [],
   "source": [
    "Decision Making Statement\n",
    "If statement can not be empty\n",
    "else statement will be empty"
   ]
  },
  {
   "cell_type": "raw",
   "id": "impossible-mustang",
   "metadata": {},
   "source": [
    "if condition: # True or False\n",
    "    code \n",
    "    statement1\n",
    "    statement2\n",
    "    \n",
    "elif condition: # string\n",
    "    code \n",
    "    statement1\n",
    "    statement2\n",
    "    \n",
    "else:\n",
    "    statement1\n",
    "    statement2\n",
    "    code "
   ]
  },
  {
   "cell_type": "code",
   "execution_count": 6,
   "id": "careful-interpretation",
   "metadata": {},
   "outputs": [
    {
     "name": "stdout",
     "output_type": "stream",
     "text": [
      "Title Case\n"
     ]
    }
   ],
   "source": [
    "string = 'Python'\n",
    "\n",
    "if string.istitle():  # True\n",
    "    print(\"Title Case\")"
   ]
  },
  {
   "cell_type": "code",
   "execution_count": 8,
   "id": "contemporary-bicycle",
   "metadata": {},
   "outputs": [
    {
     "name": "stdout",
     "output_type": "stream",
     "text": [
      "Title Case\n"
     ]
    }
   ],
   "source": [
    "string = 'Python'\n",
    "\n",
    "if string.title(): # \n",
    "    print(\"Title Case\")"
   ]
  },
  {
   "cell_type": "code",
   "execution_count": 10,
   "id": "naughty-acrylic",
   "metadata": {},
   "outputs": [
    {
     "name": "stdout",
     "output_type": "stream",
     "text": [
      "String Present\n"
     ]
    }
   ],
   "source": [
    "string = \"PYTHON\"\n",
    "if string:\n",
    "    print('String Present')"
   ]
  },
  {
   "cell_type": "code",
   "execution_count": 12,
   "id": "hollow-canyon",
   "metadata": {},
   "outputs": [],
   "source": [
    "string = \"\"\n",
    "if string:\n",
    "    print('String Present')"
   ]
  },
  {
   "cell_type": "code",
   "execution_count": 15,
   "id": "referenced-modem",
   "metadata": {},
   "outputs": [
    {
     "name": "stdout",
     "output_type": "stream",
     "text": [
      "Yes\n"
     ]
    }
   ],
   "source": [
    "list1 = [3,4,5]\n",
    "if list1: # True\n",
    "    print(\"Yes\")"
   ]
  },
  {
   "cell_type": "code",
   "execution_count": 17,
   "id": "independent-clock",
   "metadata": {},
   "outputs": [],
   "source": [
    "list1 = []\n",
    "if list1: # True\n",
    "    print(\"Yes\")"
   ]
  },
  {
   "cell_type": "markdown",
   "id": "proud-trinidad",
   "metadata": {},
   "source": [
    "# Operators"
   ]
  },
  {
   "cell_type": "markdown",
   "id": "forbidden-judges",
   "metadata": {},
   "source": [
    "# 1.Comparison Operators"
   ]
  },
  {
   "cell_type": "raw",
   "id": "afraid-murray",
   "metadata": {},
   "source": [
    "a == b # Equal operator\n",
    "a != b # Not Equal \n",
    "a < b # Less than\n",
    "a > b # Greater than\n",
    "a <= b # less than or equal\n",
    "a >= b # Greater than or equal"
   ]
  },
  {
   "cell_type": "code",
   "execution_count": 29,
   "id": "vanilla-hollow",
   "metadata": {},
   "outputs": [
    {
     "data": {
      "text/plain": [
       "True"
      ]
     },
     "execution_count": 29,
     "metadata": {},
     "output_type": "execute_result"
    }
   ],
   "source": [
    "a = 100\n",
    "b = 100\n",
    "a != b\n",
    "a < b\n",
    "a <= b\n",
    "a >= b"
   ]
  },
  {
   "cell_type": "markdown",
   "id": "focal-tension",
   "metadata": {},
   "source": [
    "# 2. Logical Operators"
   ]
  },
  {
   "cell_type": "raw",
   "id": "possible-membrane",
   "metadata": {},
   "source": [
    "1. and \n",
    "True and True       >> True\n",
    "True and False      >> False\n",
    "False and True      >> False\n",
    "False and False     >> False\n",
    "True and True and True  >> True\n",
    "True and True and True and True and False and True >> False\n",
    "\n",
    "2. or \n",
    "True or True       >> True\n",
    "True or False      >> True\n",
    "False or True      >> True\n",
    "False or False     >> False\n",
    "True or True or True  >> True\n",
    "True or True or True or True or False or True >> True"
   ]
  },
  {
   "cell_type": "markdown",
   "id": "fourth-knowing",
   "metadata": {},
   "source": [
    "# If statements"
   ]
  },
  {
   "cell_type": "code",
   "execution_count": 31,
   "id": "objective-dynamics",
   "metadata": {},
   "outputs": [
    {
     "name": "stdout",
     "output_type": "stream",
     "text": [
      "a is less than b\n"
     ]
    }
   ],
   "source": [
    "a = 200\n",
    "b = 300\n",
    "if a < b:\n",
    "    print(\"a is less than b\")\n",
    "    \n",
    "else:\n",
    "    print('a is greater than b')"
   ]
  },
  {
   "cell_type": "code",
   "execution_count": 33,
   "id": "static-matrix",
   "metadata": {},
   "outputs": [
    {
     "name": "stdout",
     "output_type": "stream",
     "text": [
      "a is less than b\n",
      "we are in if statement\n"
     ]
    }
   ],
   "source": [
    "a = 200\n",
    "b = 300\n",
    "if a < b:\n",
    "    print(\"a is less than b\")\n",
    "    print(\"we are in if statement\")\n",
    "    \n",
    "else:\n",
    "    print('a is greater than b')\n",
    "    print(\"We are in else statement\")"
   ]
  },
  {
   "cell_type": "code",
   "execution_count": 35,
   "id": "planned-shield",
   "metadata": {},
   "outputs": [
    {
     "name": "stdout",
     "output_type": "stream",
     "text": [
      "a is greater than b\n",
      "We are in else statement\n"
     ]
    }
   ],
   "source": [
    "a = 200\n",
    "b = 30\n",
    "if a < b:  # False\n",
    "    print(\"a is less than b\")\n",
    "    print(\"we are in if statement\")\n",
    "    \n",
    "else:\n",
    "    print('a is greater than b')\n",
    "    print(\"We are in else statement\")"
   ]
  },
  {
   "cell_type": "code",
   "execution_count": 38,
   "id": "solar-career",
   "metadata": {},
   "outputs": [
    {
     "name": "stdout",
     "output_type": "stream",
     "text": [
      "a is equal to b\n",
      "We are in elif statement\n"
     ]
    }
   ],
   "source": [
    "a = 200\n",
    "b = 200\n",
    "if a < b:  # False\n",
    "    print(\"a is less than b\")\n",
    "    print(\"we are in if statement\")\n",
    "    \n",
    "elif a == b: # True\n",
    "    print(\"a is equal to b\")\n",
    "    print(\"We are in elif statement\")\n",
    "    \n",
    "else:\n",
    "    print('a is greater than b')\n",
    "    print(\"We are in else statement\")"
   ]
  },
  {
   "cell_type": "code",
   "execution_count": 41,
   "id": "governmental-scene",
   "metadata": {},
   "outputs": [
    {
     "name": "stdout",
     "output_type": "stream",
     "text": [
      "a is greater than b\n",
      "We are in else statement\n"
     ]
    }
   ],
   "source": [
    "a = 200\n",
    "b = 20\n",
    "if a < b:  # False\n",
    "    print(\"a is less than b\")\n",
    "    print(\"we are in if statement\")\n",
    "    \n",
    "elif a == b: # False\n",
    "    print(\"a is equal to b\")\n",
    "    print(\"We are in elif statement\")\n",
    "    \n",
    "else:\n",
    "    print('a is greater than b')\n",
    "    print(\"We are in else statement\")"
   ]
  },
  {
   "cell_type": "code",
   "execution_count": 45,
   "id": "tired-tourism",
   "metadata": {},
   "outputs": [
    {
     "name": "stdout",
     "output_type": "stream",
     "text": [
      "c is largest number\n"
     ]
    }
   ],
   "source": [
    "a = 5\n",
    "b = 10\n",
    "c = 20\n",
    "\n",
    "if  c > a and c > b : # True and True >> True\n",
    "    print(\"c is largest number\")"
   ]
  },
  {
   "cell_type": "markdown",
   "id": "bridal-import",
   "metadata": {},
   "source": [
    "### To find largest number "
   ]
  },
  {
   "cell_type": "code",
   "execution_count": 47,
   "id": "frank-uncle",
   "metadata": {},
   "outputs": [
    {
     "name": "stdout",
     "output_type": "stream",
     "text": [
      "b is largest number\n"
     ]
    }
   ],
   "source": [
    "a = 50\n",
    "b = 100\n",
    "c = 20\n",
    "\n",
    "if a > b and a > c: # False and True >> False\n",
    "    print(\" a is largest Number\")\n",
    "    \n",
    "elif b > a and b > c: # True and True >> True\n",
    "    print(\"b is largest number\")\n",
    "    \n",
    "elif c > a and c > b: \n",
    "    print(' c is largest number')\n",
    "    "
   ]
  },
  {
   "cell_type": "code",
   "execution_count": 49,
   "id": "pediatric-notebook",
   "metadata": {},
   "outputs": [
    {
     "name": "stdout",
     "output_type": "stream",
     "text": [
      " c is largest number\n"
     ]
    }
   ],
   "source": [
    "a = 10\n",
    "b = 20\n",
    "c = 30\n",
    "\n",
    "if a > b and a > c: # False\n",
    "    print(\" a is largest Number\")\n",
    "    \n",
    "elif b > a and b > c: # True and False >> False\n",
    "    print(\"b is largest number\")\n",
    "    \n",
    "elif c > a and c > b:  # True and True >> True\n",
    "    print(' c is largest number')\n",
    "    "
   ]
  },
  {
   "cell_type": "code",
   "execution_count": 51,
   "id": "bronze-township",
   "metadata": {},
   "outputs": [
    {
     "name": "stdout",
     "output_type": "stream",
     "text": [
      " c is largest number\n"
     ]
    }
   ],
   "source": [
    "a = 10\n",
    "b = 20\n",
    "c = 30\n",
    "\n",
    "if a > b and a > c: # False\n",
    "    print(\" a is largest Number\")\n",
    "    \n",
    "elif b > a and b > c: # True and False >> False\n",
    "    print(\"b is largest number\")\n",
    "    \n",
    "else:\n",
    "    print(' c is largest number')"
   ]
  },
  {
   "cell_type": "code",
   "execution_count": 58,
   "id": "practical-location",
   "metadata": {},
   "outputs": [
    {
     "name": "stdout",
     "output_type": "stream",
     "text": [
      "Two numbers are having same value\n"
     ]
    }
   ],
   "source": [
    "a = 10\n",
    "b = 20\n",
    "c = 20\n",
    "\n",
    "if a > b and a > c: # False\n",
    "    print(\" a is largest Number\")\n",
    "    \n",
    "elif b > a and b > c: # True and False >> False\n",
    "    print(\"b is largest number\")\n",
    "    \n",
    "elif c > a and c > b:  # True and False >> False\n",
    "    print(' c is largest number')\n",
    "    \n",
    "else:\n",
    "    print(\"Two numbers are having same value\")"
   ]
  },
  {
   "cell_type": "code",
   "execution_count": 63,
   "id": "banned-education",
   "metadata": {},
   "outputs": [
    {
     "name": "stdout",
     "output_type": "stream",
     "text": [
      "Enter value of a: 20\n",
      "Enter value of b: 23\n",
      "Enter value of c: 24\n",
      "c is largest number\n"
     ]
    }
   ],
   "source": [
    "a = int(input(\"Enter value of a: \"))\n",
    "b = int(input(\"Enter value of b: \"))\n",
    "c = int(input(\"Enter value of c: \"))\n",
    "\n",
    "if a > b and a > c: # False\n",
    "    print(\" a is largest Number\")\n",
    "    \n",
    "elif b > a and b > c: # True and False >> False\n",
    "    print(\"b is largest number\")\n",
    "    \n",
    "elif c > a and c > b:  # True and False >> False\n",
    "    print('c is largest number')\n",
    "    \n",
    "else:\n",
    "    print(\"Two numbers are having same value\")\n"
   ]
  },
  {
   "cell_type": "code",
   "execution_count": 67,
   "id": "thick-reach",
   "metadata": {},
   "outputs": [
    {
     "name": "stdout",
     "output_type": "stream",
     "text": [
      "Enter value of a: 10\n",
      "Enter value of b: 20\n",
      "Enter value of c: 30\n",
      "c is largest number\n"
     ]
    }
   ],
   "source": [
    "a = int(input(\"Enter value of a: \"))\n",
    "b = int(input(\"Enter value of b: \"))\n",
    "c = int(input(\"Enter value of c: \"))\n",
    "\n",
    "if a > b and a > c: # False\n",
    "    print(\" a is largest Number\")\n",
    "    \n",
    "elif b > a and b > c: # True and False >> False\n",
    "    print(\"b is largest number\")\n",
    "    \n",
    "elif c > a and c > b:  # True and False >> False\n",
    "    print('c is largest number')\n",
    "    \n",
    "else:\n",
    "    print(\"Two numbers are having same value\")\n"
   ]
  },
  {
   "cell_type": "code",
   "execution_count": 68,
   "id": "numeric-making",
   "metadata": {},
   "outputs": [
    {
     "name": "stdout",
     "output_type": "stream",
     "text": [
      "Both strings are equal\n"
     ]
    }
   ],
   "source": [
    "string1 = \"Python\"\n",
    "string2 = \"Python\"\n",
    "\n",
    "if string1 == string2:\n",
    "    print(\"Both strings are equal\")\n",
    "    \n",
    "else:\n",
    "    print('strings are not equal')"
   ]
  },
  {
   "cell_type": "code",
   "execution_count": 70,
   "id": "plain-culture",
   "metadata": {},
   "outputs": [
    {
     "name": "stdout",
     "output_type": "stream",
     "text": [
      "strings are not equal\n"
     ]
    }
   ],
   "source": [
    "string1 = \"Python\"\n",
    "string2 = \"Data Science\"\n",
    "\n",
    "if string1 == string2:\n",
    "    print(\"Both strings are equal\")\n",
    "    \n",
    "else:\n",
    "    print('strings are not equal')"
   ]
  },
  {
   "cell_type": "code",
   "execution_count": 72,
   "id": "martial-barrier",
   "metadata": {},
   "outputs": [
    {
     "name": "stdout",
     "output_type": "stream",
     "text": [
      "strings are not equal\n"
     ]
    }
   ],
   "source": [
    "string1 = \"DATA SCIENCE\"\n",
    "string2 = \"Data Science\"\n",
    "\n",
    "if string1 == string2:\n",
    "    print(\"Both strings are equal\")\n",
    "    \n",
    "else:\n",
    "    print('strings are not equal')"
   ]
  },
  {
   "cell_type": "code",
   "execution_count": 74,
   "id": "subject-guatemala",
   "metadata": {},
   "outputs": [
    {
     "name": "stdout",
     "output_type": "stream",
     "text": [
      "Both strings are equal\n"
     ]
    }
   ],
   "source": [
    "string1 = \"DATA SCIENCE\"\n",
    "string2 = \"Data Science\"\n",
    "\n",
    "if string1.lower() == string2.lower(): # \n",
    "    print(\"Both strings are equal\")\n",
    "    \n",
    "else:\n",
    "    print('strings are not equal')"
   ]
  },
  {
   "cell_type": "code",
   "execution_count": 78,
   "id": "equivalent-shape",
   "metadata": {},
   "outputs": [
    {
     "name": "stdout",
     "output_type": "stream",
     "text": [
      "Science word found\n"
     ]
    }
   ],
   "source": [
    "string2 = \"Data Science and Machine Learning\"\n",
    "substring = \"Science\"\n",
    "if substring in string2:\n",
    "    print(f\"{substring} word found\")\n",
    "    \n",
    "else:\n",
    "    print(f\"{substring} word not found\")"
   ]
  },
  {
   "cell_type": "code",
   "execution_count": 80,
   "id": "consolidated-aggregate",
   "metadata": {},
   "outputs": [
    {
     "name": "stdout",
     "output_type": "stream",
     "text": [
      "science word not found\n"
     ]
    }
   ],
   "source": [
    "string2 = \"Data Science and Machine Learning\"\n",
    "substring = \"science\"\n",
    "if substring in string2:\n",
    "    print(f\"{substring} word found\")\n",
    "    \n",
    "else:\n",
    "    print(f\"{substring} word not found\")"
   ]
  },
  {
   "cell_type": "code",
   "execution_count": 85,
   "id": "wound-tattoo",
   "metadata": {},
   "outputs": [
    {
     "name": "stdout",
     "output_type": "stream",
     "text": [
      "Science or Machine word found in string\n"
     ]
    }
   ],
   "source": [
    "string = \"Data Science and Machine Learning\"\n",
    "substring1 = \"Science\"\n",
    "substring2 = \"Machine\"\n",
    "\n",
    "if substring1 in string or substring2 in string: # True and True >> True\n",
    "    print(f\"{substring1} or {substring2} word found in string\")\n",
    "    \n",
    "else:\n",
    "    print(f\"{substring1} or {substring2}  word not found\")"
   ]
  },
  {
   "cell_type": "code",
   "execution_count": 87,
   "id": "supreme-parts",
   "metadata": {},
   "outputs": [
    {
     "name": "stdout",
     "output_type": "stream",
     "text": [
      "Science or MACHINE word found in string\n"
     ]
    }
   ],
   "source": [
    "string = \"Data Science and Machine Learning\"\n",
    "substring1 = \"Science\"\n",
    "substring2 = \"MACHINE\"\n",
    "\n",
    "if substring1 in string or substring2 in string: # True or False >> True\n",
    "    print(f\"{substring1} or {substring2} word found in string\")\n",
    "    \n",
    "else:\n",
    "    print(f\"{substring1} or {substring2}  word not found\")"
   ]
  },
  {
   "cell_type": "code",
   "execution_count": 89,
   "id": "professional-bosnia",
   "metadata": {},
   "outputs": [
    {
     "name": "stdout",
     "output_type": "stream",
     "text": [
      "science or MACHINE  word not found\n"
     ]
    }
   ],
   "source": [
    "string = \"Data Science and Machine Learning\"\n",
    "substring1 = \"science\"\n",
    "substring2 = \"MACHINE\"\n",
    "\n",
    "if substring1 in string or substring2 in string: # False or False >> False\n",
    "    print(f\"{substring1} or {substring2} word found in string\")\n",
    "    \n",
    "else:\n",
    "    print(f\"{substring1} or {substring2}  word not found\")"
   ]
  },
  {
   "cell_type": "code",
   "execution_count": 91,
   "id": "appreciated-platform",
   "metadata": {},
   "outputs": [
    {
     "name": "stdout",
     "output_type": "stream",
     "text": [
      "Science and Machine word found in string\n"
     ]
    }
   ],
   "source": [
    "string = \"Data Science and Machine Learning\"\n",
    "substring1 = \"Science\"\n",
    "substring2 = \"Machine\"\n",
    "\n",
    "if substring1 in string and substring2 in string: # True and True >> True\n",
    "    print(f\"{substring1} and {substring2} word found in string\")\n",
    "    \n",
    "else:\n",
    "    print(f\"{substring1} and {substring2}  word not found\")"
   ]
  },
  {
   "cell_type": "code",
   "execution_count": 92,
   "id": "continued-institution",
   "metadata": {},
   "outputs": [
    {
     "name": "stdout",
     "output_type": "stream",
     "text": [
      "Science and machine  word not found\n"
     ]
    }
   ],
   "source": [
    "string = \"Data Science and Machine Learning\"\n",
    "substring1 = \"Science\"\n",
    "substring2 = \"machine\"\n",
    "\n",
    "if substring1 in string and substring2 in string: # True and False >> False\n",
    "    print(f\"{substring1} and {substring2} word found in string\")\n",
    "    \n",
    "else:\n",
    "    print(f\"{substring1} and {substring2}  word not found\")"
   ]
  }
 ],
 "metadata": {
  "kernelspec": {
   "display_name": "Python 3",
   "language": "python",
   "name": "python3"
  },
  "language_info": {
   "codemirror_mode": {
    "name": "ipython",
    "version": 3
   },
   "file_extension": ".py",
   "mimetype": "text/x-python",
   "name": "python",
   "nbconvert_exporter": "python",
   "pygments_lexer": "ipython3",
   "version": "3.8.7"
  }
 },
 "nbformat": 4,
 "nbformat_minor": 5
}
