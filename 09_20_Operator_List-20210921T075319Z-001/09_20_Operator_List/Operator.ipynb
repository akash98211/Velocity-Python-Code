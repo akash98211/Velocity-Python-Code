{
 "cells": [
  {
   "cell_type": "markdown",
   "id": "instant-indicator",
   "metadata": {},
   "source": [
    "# Operator"
   ]
  },
  {
   "cell_type": "markdown",
   "id": "improved-alignment",
   "metadata": {},
   "source": [
    "# 1. Arithmetic Operators"
   ]
  },
  {
   "cell_type": "raw",
   "id": "through-collectible",
   "metadata": {},
   "source": [
    "+\n",
    "-\n",
    "*\n",
    "/\n",
    "//\n",
    "%\n",
    "**"
   ]
  },
  {
   "cell_type": "markdown",
   "id": "french-cream",
   "metadata": {},
   "source": [
    "# 2. Assignment Operators"
   ]
  },
  {
   "cell_type": "raw",
   "id": "threaded-america",
   "metadata": {},
   "source": [
    "= \n",
    "+=  >> a = a + 5\n",
    "-=\n",
    "*=\n",
    "/=\n",
    "//=\n",
    "**=\n",
    "%=\n",
    "&=\n",
    "|=\n",
    "^=  >> a = a ^ 5"
   ]
  },
  {
   "cell_type": "markdown",
   "id": "premier-independence",
   "metadata": {},
   "source": [
    "# 3. Comparison operator"
   ]
  },
  {
   "cell_type": "raw",
   "id": "owned-soundtrack",
   "metadata": {},
   "source": [
    "==\n",
    "!=\n",
    ">\n",
    "<\n",
    ">=\n",
    "<="
   ]
  },
  {
   "cell_type": "markdown",
   "id": "technical-meditation",
   "metadata": {},
   "source": [
    "# 4. Membership Operator"
   ]
  },
  {
   "cell_type": "raw",
   "id": "complete-segment",
   "metadata": {},
   "source": [
    "in          >> True / False\n",
    "not in"
   ]
  },
  {
   "cell_type": "markdown",
   "id": "sporting-cotton",
   "metadata": {},
   "source": [
    "# 5. Logical Operator"
   ]
  },
  {
   "cell_type": "code",
   "execution_count": null,
   "id": "brief-reality",
   "metadata": {},
   "outputs": [],
   "source": [
    "and\n",
    "or \n",
    "not"
   ]
  },
  {
   "cell_type": "markdown",
   "id": "narrow-spending",
   "metadata": {},
   "source": [
    "# 6. Identity Operator"
   ]
  },
  {
   "cell_type": "code",
   "execution_count": null,
   "id": "optimum-factor",
   "metadata": {},
   "outputs": [],
   "source": [
    "is  # use id function\n",
    "is not"
   ]
  },
  {
   "cell_type": "markdown",
   "id": "brief-claim",
   "metadata": {},
   "source": [
    "# 7. Bitwise Operators"
   ]
  },
  {
   "cell_type": "code",
   "execution_count": null,
   "id": "union-stretch",
   "metadata": {},
   "outputs": [],
   "source": [
    "&  >> Bitwise AND\n",
    "|  >> Bitwise OR\n",
    "^ >> Bitwise XOR\n",
    ">>  # Right Shift\n",
    "<<  # Left Shift\n",
    "~ >> Bitwise NOT"
   ]
  },
  {
   "cell_type": "code",
   "execution_count": null,
   "id": "liked-roman",
   "metadata": {},
   "outputs": [],
   "source": []
  },
  {
   "cell_type": "code",
   "execution_count": 27,
   "id": "apparent-opening",
   "metadata": {},
   "outputs": [
    {
     "data": {
      "text/plain": [
       "False"
      ]
     },
     "execution_count": 27,
     "metadata": {},
     "output_type": "execute_result"
    }
   ],
   "source": [
    "string = \"DATA  Science\"\n",
    "'Data' in string"
   ]
  },
  {
   "cell_type": "code",
   "execution_count": null,
   "id": "taken-season",
   "metadata": {},
   "outputs": [],
   "source": []
  },
  {
   "cell_type": "code",
   "execution_count": 25,
   "id": "bridal-canon",
   "metadata": {},
   "outputs": [
    {
     "name": "stdout",
     "output_type": "stream",
     "text": [
      "not present\n"
     ]
    }
   ],
   "source": [
    "string = \"DATA  Science\"\n",
    "\n",
    "if 'Data' in string:# False\n",
    "    print(\"Word is present\")\n",
    "    \n",
    "else:\n",
    "    print(\"not present\")"
   ]
  },
  {
   "cell_type": "code",
   "execution_count": 26,
   "id": "statewide-jesus",
   "metadata": {},
   "outputs": [
    {
     "name": "stdout",
     "output_type": "stream",
     "text": [
      "Word is present\n"
     ]
    }
   ],
   "source": [
    "string = \"DATA  Science\"\n",
    "\n",
    "if 'Data' not in string:# True\n",
    "    print(\"Word is present\")\n",
    "    \n",
    "else:\n",
    "    print(\"not present\")"
   ]
  },
  {
   "cell_type": "code",
   "execution_count": 12,
   "id": "forbidden-delivery",
   "metadata": {},
   "outputs": [
    {
     "data": {
      "text/plain": [
       "True"
      ]
     },
     "execution_count": 12,
     "metadata": {},
     "output_type": "execute_result"
    }
   ],
   "source": [
    "5 == 5"
   ]
  },
  {
   "cell_type": "code",
   "execution_count": 13,
   "id": "protected-occasions",
   "metadata": {},
   "outputs": [
    {
     "data": {
      "text/plain": [
       "True"
      ]
     },
     "execution_count": 13,
     "metadata": {},
     "output_type": "execute_result"
    }
   ],
   "source": [
    "5 > 1"
   ]
  },
  {
   "cell_type": "code",
   "execution_count": 15,
   "id": "demographic-scheme",
   "metadata": {},
   "outputs": [
    {
     "data": {
      "text/plain": [
       "False"
      ]
     },
     "execution_count": 15,
     "metadata": {},
     "output_type": "execute_result"
    }
   ],
   "source": [
    "5 < 1"
   ]
  },
  {
   "cell_type": "code",
   "execution_count": 16,
   "id": "trying-somalia",
   "metadata": {},
   "outputs": [
    {
     "data": {
      "text/plain": [
       "True"
      ]
     },
     "execution_count": 16,
     "metadata": {},
     "output_type": "execute_result"
    }
   ],
   "source": [
    "5 >= 5"
   ]
  },
  {
   "cell_type": "code",
   "execution_count": 18,
   "id": "sealed-joshua",
   "metadata": {},
   "outputs": [
    {
     "data": {
      "text/plain": [
       "True"
      ]
     },
     "execution_count": 18,
     "metadata": {},
     "output_type": "execute_result"
    }
   ],
   "source": [
    "5 <= 7"
   ]
  },
  {
   "cell_type": "code",
   "execution_count": 20,
   "id": "military-loading",
   "metadata": {},
   "outputs": [
    {
     "data": {
      "text/plain": [
       "False"
      ]
     },
     "execution_count": 20,
     "metadata": {},
     "output_type": "execute_result"
    }
   ],
   "source": [
    "5 != 5"
   ]
  },
  {
   "cell_type": "code",
   "execution_count": 2,
   "id": "timely-midnight",
   "metadata": {},
   "outputs": [
    {
     "data": {
      "text/plain": [
       "'0b1010'"
      ]
     },
     "execution_count": 2,
     "metadata": {},
     "output_type": "execute_result"
    }
   ],
   "source": [
    "bin(10)"
   ]
  },
  {
   "cell_type": "code",
   "execution_count": 5,
   "id": "african-samuel",
   "metadata": {},
   "outputs": [
    {
     "data": {
      "text/plain": [
       "'0b1100'"
      ]
     },
     "execution_count": 5,
     "metadata": {},
     "output_type": "execute_result"
    }
   ],
   "source": [
    "bin(12)"
   ]
  },
  {
   "cell_type": "code",
   "execution_count": 7,
   "id": "public-switzerland",
   "metadata": {},
   "outputs": [
    {
     "data": {
      "text/plain": [
       "6"
      ]
     },
     "execution_count": 7,
     "metadata": {},
     "output_type": "execute_result"
    }
   ],
   "source": [
    "10 ^ 12"
   ]
  },
  {
   "cell_type": "code",
   "execution_count": 9,
   "id": "increased-munich",
   "metadata": {},
   "outputs": [
    {
     "data": {
      "text/plain": [
       "8"
      ]
     },
     "execution_count": 9,
     "metadata": {},
     "output_type": "execute_result"
    }
   ],
   "source": [
    "10 & 12"
   ]
  },
  {
   "cell_type": "code",
   "execution_count": 10,
   "id": "cardiac-imaging",
   "metadata": {},
   "outputs": [
    {
     "data": {
      "text/plain": [
       "14"
      ]
     },
     "execution_count": 10,
     "metadata": {},
     "output_type": "execute_result"
    }
   ],
   "source": [
    "10 | 12"
   ]
  },
  {
   "cell_type": "code",
   "execution_count": null,
   "id": "devoted-namibia",
   "metadata": {},
   "outputs": [],
   "source": [
    "1010\n",
    "1100\n",
    "\n",
    "1110  OR\n",
    "1000  AND\n",
    "0110  XOR\n"
   ]
  },
  {
   "cell_type": "code",
   "execution_count": 39,
   "id": "interracial-adrian",
   "metadata": {},
   "outputs": [
    {
     "data": {
      "text/plain": [
       "True"
      ]
     },
     "execution_count": 39,
     "metadata": {},
     "output_type": "execute_result"
    }
   ],
   "source": [
    "a = 5\n",
    "b = 5\n",
    "a is b"
   ]
  },
  {
   "cell_type": "code",
   "execution_count": 41,
   "id": "quantitative-brunei",
   "metadata": {},
   "outputs": [
    {
     "data": {
      "text/plain": [
       "140735182669616"
      ]
     },
     "execution_count": 41,
     "metadata": {},
     "output_type": "execute_result"
    }
   ],
   "source": [
    "id(a)"
   ]
  },
  {
   "cell_type": "code",
   "execution_count": 42,
   "id": "sonic-implementation",
   "metadata": {},
   "outputs": [
    {
     "data": {
      "text/plain": [
       "140735182669616"
      ]
     },
     "execution_count": 42,
     "metadata": {},
     "output_type": "execute_result"
    }
   ],
   "source": [
    "id(b)"
   ]
  },
  {
   "cell_type": "code",
   "execution_count": 62,
   "id": "thermal-while",
   "metadata": {},
   "outputs": [
    {
     "data": {
      "text/plain": [
       "False"
      ]
     },
     "execution_count": 62,
     "metadata": {},
     "output_type": "execute_result"
    }
   ],
   "source": [
    "a = 'Python and Data'\n",
    "b = 'Python and Data'\n",
    "a is b"
   ]
  },
  {
   "cell_type": "code",
   "execution_count": 64,
   "id": "yellow-counter",
   "metadata": {},
   "outputs": [
    {
     "data": {
      "text/plain": [
       "True"
      ]
     },
     "execution_count": 64,
     "metadata": {},
     "output_type": "execute_result"
    }
   ],
   "source": [
    "a = 'Python'\n",
    "b = 'Python'\n",
    "a is b"
   ]
  },
  {
   "cell_type": "code",
   "execution_count": 67,
   "id": "retired-witness",
   "metadata": {},
   "outputs": [
    {
     "data": {
      "text/plain": [
       "True"
      ]
     },
     "execution_count": 67,
     "metadata": {},
     "output_type": "execute_result"
    }
   ],
   "source": [
    "a = 'Data'\n",
    "b = 'Data'\n",
    "a is b"
   ]
  },
  {
   "cell_type": "code",
   "execution_count": 72,
   "id": "radical-legend",
   "metadata": {},
   "outputs": [
    {
     "data": {
      "text/plain": [
       "False"
      ]
     },
     "execution_count": 72,
     "metadata": {},
     "output_type": "execute_result"
    }
   ],
   "source": [
    "a = 'Data Science'\n",
    "b = 'Data Science'\n",
    "a is b"
   ]
  },
  {
   "cell_type": "code",
   "execution_count": 73,
   "id": "premium-respondent",
   "metadata": {},
   "outputs": [
    {
     "name": "stdout",
     "output_type": "stream",
     "text": [
      "1687660228976\n",
      "1687660232304\n"
     ]
    }
   ],
   "source": [
    "a = 'Data Science'\n",
    "b = 'Data Science'\n",
    "print(id(a))\n",
    "print(id(b))"
   ]
  },
  {
   "cell_type": "code",
   "execution_count": 78,
   "id": "conscious-fiction",
   "metadata": {},
   "outputs": [
    {
     "name": "stdout",
     "output_type": "stream",
     "text": [
      "1687660303744\n",
      "1687660303744\n"
     ]
    }
   ],
   "source": [
    "a = 'DataScienceScienceScience'\n",
    "b = 'DataScienceScienceScience'\n",
    "print(id(a))\n",
    "print(id(b))"
   ]
  },
  {
   "cell_type": "code",
   "execution_count": 33,
   "id": "collect-retention",
   "metadata": {},
   "outputs": [
    {
     "data": {
      "text/plain": [
       "False"
      ]
     },
     "execution_count": 33,
     "metadata": {},
     "output_type": "execute_result"
    }
   ],
   "source": [
    "a = 'Python and Machine Learning'\n",
    "b = 'Python and Machine Learning'\n",
    "a is b"
   ]
  },
  {
   "cell_type": "code",
   "execution_count": 35,
   "id": "combined-daughter",
   "metadata": {},
   "outputs": [
    {
     "data": {
      "text/plain": [
       "1687660164400"
      ]
     },
     "execution_count": 35,
     "metadata": {},
     "output_type": "execute_result"
    }
   ],
   "source": [
    "id(a)"
   ]
  },
  {
   "cell_type": "code",
   "execution_count": 37,
   "id": "voluntary-harrison",
   "metadata": {},
   "outputs": [
    {
     "data": {
      "text/plain": [
       "1687660166480"
      ]
     },
     "execution_count": 37,
     "metadata": {},
     "output_type": "execute_result"
    }
   ],
   "source": [
    "id(b)"
   ]
  },
  {
   "cell_type": "code",
   "execution_count": 43,
   "id": "charged-hammer",
   "metadata": {},
   "outputs": [
    {
     "data": {
      "text/plain": [
       "False"
      ]
     },
     "execution_count": 43,
     "metadata": {},
     "output_type": "execute_result"
    }
   ],
   "source": [
    "x = 10\n",
    "y = 11\n",
    "x is y"
   ]
  },
  {
   "cell_type": "code",
   "execution_count": 45,
   "id": "iraqi-darkness",
   "metadata": {},
   "outputs": [
    {
     "name": "stdout",
     "output_type": "stream",
     "text": [
      "Same Location\n"
     ]
    }
   ],
   "source": [
    "a = 10\n",
    "b = 10\n",
    "if id(a) == id(b):\n",
    "    print(\"Same Location\")\n",
    "    \n",
    "else:\n",
    "    print(\"Different Location\")"
   ]
  },
  {
   "cell_type": "code",
   "execution_count": 57,
   "id": "ambient-investigator",
   "metadata": {},
   "outputs": [
    {
     "name": "stdout",
     "output_type": "stream",
     "text": [
      "Same Location\n"
     ]
    }
   ],
   "source": [
    "a = 200\n",
    "b = 200\n",
    "if id(a) == id(b):\n",
    "    print(\"Same Location\")\n",
    "    \n",
    "else:\n",
    "    print(\"Different Location\")"
   ]
  },
  {
   "cell_type": "code",
   "execution_count": 59,
   "id": "cross-exclusive",
   "metadata": {},
   "outputs": [
    {
     "name": "stdout",
     "output_type": "stream",
     "text": [
      "Same Location\n"
     ]
    }
   ],
   "source": [
    "a = 200\n",
    "b = 200\n",
    "if a is b:\n",
    "    print(\"Same Location\")\n",
    "    \n",
    "else:\n",
    "    print(\"Different Location\")"
   ]
  },
  {
   "cell_type": "code",
   "execution_count": 60,
   "id": "compact-collective",
   "metadata": {},
   "outputs": [
    {
     "name": "stdout",
     "output_type": "stream",
     "text": [
      "Different Location\n"
     ]
    }
   ],
   "source": [
    "a = 200\n",
    "b = 200\n",
    "if a is not b:\n",
    "    print(\"Same Location\")\n",
    "    \n",
    "else:\n",
    "    print(\"Different Location\")"
   ]
  },
  {
   "cell_type": "code",
   "execution_count": 50,
   "id": "junior-gambling",
   "metadata": {},
   "outputs": [
    {
     "name": "stdout",
     "output_type": "stream",
     "text": [
      "Different Location\n"
     ]
    }
   ],
   "source": [
    "a = 200.123\n",
    "b = 200.123\n",
    "if id(a) == id(b):\n",
    "    print(\"Same Location\")\n",
    "    \n",
    "else:\n",
    "    print(\"Different Location\")"
   ]
  },
  {
   "cell_type": "code",
   "execution_count": 55,
   "id": "auburn-going",
   "metadata": {},
   "outputs": [
    {
     "name": "stdout",
     "output_type": "stream",
     "text": [
      "Different Location\n"
     ]
    }
   ],
   "source": [
    "a = 257\n",
    "b = 257\n",
    "if id(a) == id(b):\n",
    "    print(\"Same Location\")\n",
    "    \n",
    "else:\n",
    "    print(\"Different Location\")"
   ]
  },
  {
   "cell_type": "code",
   "execution_count": 71,
   "id": "finite-auditor",
   "metadata": {},
   "outputs": [
    {
     "name": "stdout",
     "output_type": "stream",
     "text": [
      "Different Location\n"
     ]
    }
   ],
   "source": [
    "a = 257\n",
    "b = 257\n",
    "if a is b:\n",
    "    print(\"Same Location\")\n",
    "    \n",
    "else:\n",
    "    print(\"Different Location\")"
   ]
  },
  {
   "cell_type": "code",
   "execution_count": null,
   "id": "instrumental-groove",
   "metadata": {},
   "outputs": [],
   "source": []
  },
  {
   "cell_type": "code",
   "execution_count": 69,
   "id": "suburban-beast",
   "metadata": {},
   "outputs": [
    {
     "name": "stdout",
     "output_type": "stream",
     "text": [
      "140735182669488\n",
      "140735182669520\n"
     ]
    }
   ],
   "source": [
    "a = 1\n",
    "b = 2\n",
    "print(id(a))\n",
    "print(id(b))"
   ]
  },
  {
   "cell_type": "code",
   "execution_count": 80,
   "id": "functional-script",
   "metadata": {},
   "outputs": [
    {
     "data": {
      "text/plain": [
       "'0b1010'"
      ]
     },
     "execution_count": 80,
     "metadata": {},
     "output_type": "execute_result"
    }
   ],
   "source": [
    "a = 10\n",
    "bin(a)"
   ]
  },
  {
   "cell_type": "code",
   "execution_count": 83,
   "id": "official-blank",
   "metadata": {},
   "outputs": [
    {
     "data": {
      "text/plain": [
       "2"
      ]
     },
     "execution_count": 83,
     "metadata": {},
     "output_type": "execute_result"
    }
   ],
   "source": [
    "10 >> 2"
   ]
  },
  {
   "cell_type": "code",
   "execution_count": 84,
   "id": "considered-consent",
   "metadata": {},
   "outputs": [
    {
     "data": {
      "text/plain": [
       "40"
      ]
     },
     "execution_count": 84,
     "metadata": {},
     "output_type": "execute_result"
    }
   ],
   "source": [
    "10 << 2"
   ]
  },
  {
   "cell_type": "code",
   "execution_count": null,
   "id": "toxic-christmas",
   "metadata": {},
   "outputs": [],
   "source": [
    "- (1010 + 1) >> 1011"
   ]
  },
  {
   "cell_type": "code",
   "execution_count": 85,
   "id": "electric-dairy",
   "metadata": {},
   "outputs": [
    {
     "data": {
      "text/plain": [
       "-11"
      ]
     },
     "execution_count": 85,
     "metadata": {},
     "output_type": "execute_result"
    }
   ],
   "source": [
    "~10"
   ]
  }
 ],
 "metadata": {
  "kernelspec": {
   "display_name": "Python 3 (ipykernel)",
   "language": "python",
   "name": "python3"
  },
  "language_info": {
   "codemirror_mode": {
    "name": "ipython",
    "version": 3
   },
   "file_extension": ".py",
   "mimetype": "text/x-python",
   "name": "python",
   "nbconvert_exporter": "python",
   "pygments_lexer": "ipython3",
   "version": "3.9.1"
  }
 },
 "nbformat": 4,
 "nbformat_minor": 5
}
