{
 "cells": [
  {
   "cell_type": "markdown",
   "id": "green-nature",
   "metadata": {},
   "source": [
    "# List"
   ]
  },
  {
   "cell_type": "raw",
   "id": "coral-fishing",
   "metadata": {},
   "source": [
    "It is collection of items\n",
    "Used to store sequence of various data Type(int,float,tuple,list,dict,set,...,Dataframe)\n",
    "\n",
    "Ordered Data Type\n",
    "Mutable (Changable)\n",
    "Enclosed by square bracket >>[]\n",
    "\n",
    "Lists are comma seperated\n",
    "Duplicates are allowed\n",
    "\n",
    "Ordered\n",
    "Mutable\n",
    "Duplicates are allowed"
   ]
  },
  {
   "cell_type": "code",
   "execution_count": 7,
   "id": "aerial-correspondence",
   "metadata": {},
   "outputs": [
    {
     "data": {
      "text/plain": [
       "3"
      ]
     },
     "execution_count": 7,
     "metadata": {},
     "output_type": "execute_result"
    }
   ],
   "source": [
    "list1 = [2,3,5,10.5,'a']\n",
    "list1[1]  # index"
   ]
  },
  {
   "cell_type": "code",
   "execution_count": 14,
   "id": "grand-forest",
   "metadata": {},
   "outputs": [
    {
     "name": "stdout",
     "output_type": "stream",
     "text": [
      "[2, 3, 5, 10.5, 'a']\n",
      "[2, 10000, 5, 10.5, 'a']\n"
     ]
    }
   ],
   "source": [
    "list1= [2,3,5,10.5,'a']\n",
    "print(list1)\n",
    "list1[1] = 10000\n",
    "print(list1)"
   ]
  },
  {
   "cell_type": "code",
   "execution_count": 12,
   "id": "manual-footage",
   "metadata": {},
   "outputs": [
    {
     "name": "stdout",
     "output_type": "stream",
     "text": [
      "[2, 10000, 5, 10.5, 'a', 2000]\n"
     ]
    }
   ],
   "source": [
    "list1.append(2000)\n",
    "print(list1)"
   ]
  },
  {
   "cell_type": "code",
   "execution_count": 15,
   "id": "awful-cannon",
   "metadata": {},
   "outputs": [
    {
     "name": "stdout",
     "output_type": "stream",
     "text": [
      "Data Science\n"
     ]
    }
   ],
   "source": [
    "string = 'Data Science'\n",
    "string.replace('Data',\"Python\")\n",
    "print(string)"
   ]
  },
  {
   "cell_type": "code",
   "execution_count": 17,
   "id": "fitting-intelligence",
   "metadata": {},
   "outputs": [
    {
     "name": "stdout",
     "output_type": "stream",
     "text": [
      "[3, 4, 5, 6, 2, 3, 4, 5] 8\n"
     ]
    }
   ],
   "source": [
    "l1 = [3,4,5,6,2,3,4,5]\n",
    "print(l1,len(l1))"
   ]
  },
  {
   "cell_type": "code",
   "execution_count": 18,
   "id": "rational-canal",
   "metadata": {},
   "outputs": [
    {
     "name": "stdout",
     "output_type": "stream",
     "text": [
      "{2, 3, 4, 5, 6} 5\n"
     ]
    }
   ],
   "source": [
    "set1 = {3,4,5,6,2,3,4,5}\n",
    "print(set1,len(set1))"
   ]
  },
  {
   "cell_type": "code",
   "execution_count": 26,
   "id": "continental-details",
   "metadata": {},
   "outputs": [
    {
     "data": {
      "text/plain": [
       "10"
      ]
     },
     "execution_count": 26,
     "metadata": {},
     "output_type": "execute_result"
    }
   ],
   "source": [
    "data = [2,3,45,56,[100,200,300],'Python',10.34,3+4j,{'a':100, 'b':200},(2,3,4,5)]\n",
    "len(data)"
   ]
  },
  {
   "cell_type": "code",
   "execution_count": 25,
   "id": "addressed-scanning",
   "metadata": {},
   "outputs": [
    {
     "name": "stdout",
     "output_type": "stream",
     "text": [
      "[2, 3, 45, 56, [100, 200, 500], 'Python', 10.34, (3+4j), {'a': 100, 'b': 200}]\n"
     ]
    }
   ],
   "source": [
    "data[4][2] = 500\n",
    "print(data)"
   ]
  },
  {
   "cell_type": "markdown",
   "id": "ongoing-booth",
   "metadata": {},
   "source": [
    "# indexing "
   ]
  },
  {
   "cell_type": "raw",
   "id": "royal-coordinate",
   "metadata": {},
   "source": [
    "index will starts from 0 to len-1"
   ]
  },
  {
   "cell_type": "code",
   "execution_count": 28,
   "id": "virgin-problem",
   "metadata": {},
   "outputs": [
    {
     "data": {
      "text/plain": [
       "[10, 20, 30, 25, 15, 'Python', 'Data Science']"
      ]
     },
     "execution_count": 28,
     "metadata": {},
     "output_type": "execute_result"
    }
   ],
   "source": [
    "list1 = [10,20,30,25,15,'Python','Data Science']\n",
    "list1"
   ]
  },
  {
   "cell_type": "code",
   "execution_count": 37,
   "id": "adaptive-oliver",
   "metadata": {},
   "outputs": [
    {
     "data": {
      "text/plain": [
       "20"
      ]
     },
     "execution_count": 37,
     "metadata": {},
     "output_type": "execute_result"
    }
   ],
   "source": [
    "list1[0]\n",
    "list1[3]\n",
    "list1[1]"
   ]
  },
  {
   "cell_type": "code",
   "execution_count": 38,
   "id": "behavioral-maximum",
   "metadata": {},
   "outputs": [
    {
     "data": {
      "text/plain": [
       "'Data Science'"
      ]
     },
     "execution_count": 38,
     "metadata": {},
     "output_type": "execute_result"
    }
   ],
   "source": [
    "list1[len(list1) - 1]"
   ]
  },
  {
   "cell_type": "code",
   "execution_count": 39,
   "id": "diagnostic-magazine",
   "metadata": {},
   "outputs": [
    {
     "data": {
      "text/plain": [
       "'Python'"
      ]
     },
     "execution_count": 39,
     "metadata": {},
     "output_type": "execute_result"
    }
   ],
   "source": [
    "list1[-1]\n",
    "list1[-2]"
   ]
  },
  {
   "cell_type": "markdown",
   "id": "enhanced-sheriff",
   "metadata": {},
   "source": [
    "# Slicing"
   ]
  },
  {
   "cell_type": "code",
   "execution_count": 41,
   "id": "sixth-immigration",
   "metadata": {},
   "outputs": [
    {
     "data": {
      "text/plain": [
       "[10, 20, 30, 25, 15]"
      ]
     },
     "execution_count": 41,
     "metadata": {},
     "output_type": "execute_result"
    }
   ],
   "source": [
    "list1 = [10,20,30,25,15,'Python','Data Science']\n",
    "list1[0:5]"
   ]
  },
  {
   "cell_type": "code",
   "execution_count": 43,
   "id": "liberal-reduction",
   "metadata": {},
   "outputs": [
    {
     "data": {
      "text/plain": [
       "[10, 20]"
      ]
     },
     "execution_count": 43,
     "metadata": {},
     "output_type": "execute_result"
    }
   ],
   "source": [
    "list1[0:2]  # 2"
   ]
  },
  {
   "cell_type": "code",
   "execution_count": 45,
   "id": "coated-baseline",
   "metadata": {},
   "outputs": [
    {
     "data": {
      "text/plain": [
       "[]"
      ]
     },
     "execution_count": 45,
     "metadata": {},
     "output_type": "execute_result"
    }
   ],
   "source": [
    "list1[4:2]  # 0"
   ]
  },
  {
   "cell_type": "code",
   "execution_count": 47,
   "id": "mental-effort",
   "metadata": {},
   "outputs": [
    {
     "data": {
      "text/plain": [
       "[15]"
      ]
     },
     "execution_count": 47,
     "metadata": {},
     "output_type": "execute_result"
    }
   ],
   "source": [
    "list1[4:5]  # 1"
   ]
  },
  {
   "cell_type": "code",
   "execution_count": 49,
   "id": "instructional-friendship",
   "metadata": {},
   "outputs": [
    {
     "data": {
      "text/plain": [
       "[30, 25, 15]"
      ]
     },
     "execution_count": 49,
     "metadata": {},
     "output_type": "execute_result"
    }
   ],
   "source": [
    "list1[-5:-2]  # 3"
   ]
  },
  {
   "cell_type": "code",
   "execution_count": 51,
   "id": "usual-contest",
   "metadata": {},
   "outputs": [
    {
     "data": {
      "text/plain": [
       "[10, 20, 30, 25, 15, 'Python', 'Data Science']"
      ]
     },
     "execution_count": 51,
     "metadata": {},
     "output_type": "execute_result"
    }
   ],
   "source": [
    "list1"
   ]
  },
  {
   "cell_type": "code",
   "execution_count": 53,
   "id": "marked-equation",
   "metadata": {},
   "outputs": [
    {
     "data": {
      "text/plain": [
       "[30, 25, 15, 'Python', 'Data Science']"
      ]
     },
     "execution_count": 53,
     "metadata": {},
     "output_type": "execute_result"
    }
   ],
   "source": [
    "list1[-5:]"
   ]
  },
  {
   "cell_type": "code",
   "execution_count": 56,
   "id": "dominant-partnership",
   "metadata": {},
   "outputs": [
    {
     "data": {
      "text/plain": [
       "[20, 30, 25, 15, 'Python']"
      ]
     },
     "execution_count": 56,
     "metadata": {},
     "output_type": "execute_result"
    }
   ],
   "source": [
    "list1[1:6:1]"
   ]
  },
  {
   "cell_type": "code",
   "execution_count": 58,
   "id": "resistant-variation",
   "metadata": {},
   "outputs": [
    {
     "data": {
      "text/plain": [
       "[20, 25, 'Python']"
      ]
     },
     "execution_count": 58,
     "metadata": {},
     "output_type": "execute_result"
    }
   ],
   "source": [
    "list1[1:6:2]"
   ]
  },
  {
   "cell_type": "code",
   "execution_count": 60,
   "id": "broken-scholar",
   "metadata": {},
   "outputs": [
    {
     "data": {
      "text/plain": [
       "[10, 20, 30, 25, 15, 'Python', 'Data Science']"
      ]
     },
     "execution_count": 60,
     "metadata": {},
     "output_type": "execute_result"
    }
   ],
   "source": [
    "list1"
   ]
  },
  {
   "cell_type": "code",
   "execution_count": 63,
   "id": "differential-chain",
   "metadata": {},
   "outputs": [
    {
     "data": {
      "text/plain": [
       "[10, 30, 15]"
      ]
     },
     "execution_count": 63,
     "metadata": {},
     "output_type": "execute_result"
    }
   ],
   "source": [
    "list1[0:6:2]  # 10,30,15,'Data Science' # Even index"
   ]
  },
  {
   "cell_type": "code",
   "execution_count": 65,
   "id": "established-standard",
   "metadata": {},
   "outputs": [
    {
     "data": {
      "text/plain": [
       "[]"
      ]
     },
     "execution_count": 65,
     "metadata": {},
     "output_type": "execute_result"
    }
   ],
   "source": [
    "list1[0:6:-1]  "
   ]
  },
  {
   "cell_type": "code",
   "execution_count": 67,
   "id": "isolated-kennedy",
   "metadata": {},
   "outputs": [
    {
     "data": {
      "text/plain": [
       "['Data Science', 'Python', 15, 25, 30, 20]"
      ]
     },
     "execution_count": 67,
     "metadata": {},
     "output_type": "execute_result"
    }
   ],
   "source": [
    "list1[6:0:-1]  "
   ]
  },
  {
   "cell_type": "code",
   "execution_count": 69,
   "id": "careful-belle",
   "metadata": {},
   "outputs": [
    {
     "data": {
      "text/plain": [
       "['Data Science', 'Python', 15, 25, 30, 20, 10]"
      ]
     },
     "execution_count": 69,
     "metadata": {},
     "output_type": "execute_result"
    }
   ],
   "source": [
    "list1[::-1]  "
   ]
  },
  {
   "cell_type": "code",
   "execution_count": 73,
   "id": "dirty-asset",
   "metadata": {},
   "outputs": [
    {
     "data": {
      "text/plain": [
       "['Data Science', 15, 30, 10]"
      ]
     },
     "execution_count": 73,
     "metadata": {},
     "output_type": "execute_result"
    }
   ],
   "source": [
    "list1[::-2]  "
   ]
  },
  {
   "cell_type": "code",
   "execution_count": 75,
   "id": "classified-cabin",
   "metadata": {},
   "outputs": [
    {
     "data": {
      "text/plain": [
       "'Mumbai'"
      ]
     },
     "execution_count": 75,
     "metadata": {},
     "output_type": "execute_result"
    }
   ],
   "source": [
    "city_names = ['Pune',\"Mumbai\",'Delhi','Chennai']\n",
    "city_names[1]"
   ]
  },
  {
   "cell_type": "markdown",
   "id": "known-secretary",
   "metadata": {},
   "source": [
    "# Check items in list"
   ]
  },
  {
   "cell_type": "code",
   "execution_count": 77,
   "id": "stuck-russell",
   "metadata": {},
   "outputs": [
    {
     "data": {
      "text/plain": [
       "True"
      ]
     },
     "execution_count": 77,
     "metadata": {},
     "output_type": "execute_result"
    }
   ],
   "source": [
    "city_names = ['Pune',\"Mumbai\",'Delhi','Chennai']\n",
    "'Mumbai' in city_names"
   ]
  },
  {
   "cell_type": "code",
   "execution_count": 79,
   "id": "collect-marketing",
   "metadata": {},
   "outputs": [
    {
     "name": "stdout",
     "output_type": "stream",
     "text": [
      "Mumbai is in city names list\n"
     ]
    }
   ],
   "source": [
    "city_names = ['Pune',\"Mumbai\",'Delhi','Chennai']\n",
    "if 'Mumbai' in city_names:\n",
    "    print(\"Mumbai is in city names list\")\n",
    "    \n",
    "else:\n",
    "    print(\"Mumbai is not in city List\")"
   ]
  },
  {
   "cell_type": "code",
   "execution_count": 81,
   "id": "executive-helicopter",
   "metadata": {},
   "outputs": [
    {
     "name": "stdout",
     "output_type": "stream",
     "text": [
      "Mumbai is not in city List\n"
     ]
    }
   ],
   "source": [
    "city_names = ['Pune',\"Mumbai\",'Delhi','Chennai']\n",
    "if 'mumbai' in city_names:\n",
    "    print(\"Mumbai is in city names list\")\n",
    "    \n",
    "else:\n",
    "    print(\"Mumbai is not in city List\")"
   ]
  },
  {
   "cell_type": "code",
   "execution_count": 82,
   "id": "municipal-wallet",
   "metadata": {},
   "outputs": [
    {
     "name": "stdout",
     "output_type": "stream",
     "text": [
      "Mumbai is not in city List\n"
     ]
    }
   ],
   "source": [
    "city_names = ['Pune',\"Mumbai\",'Delhi','Chennai']\n",
    "if 'mumbai' in city_names:\n",
    "    print(\"Mumbai is in city names list\")\n",
    "    \n",
    "else:\n",
    "    print(\"Mumbai is not in city List\")"
   ]
  },
  {
   "cell_type": "markdown",
   "id": "statewide-europe",
   "metadata": {},
   "source": [
    "# Access items of list using for loop"
   ]
  },
  {
   "cell_type": "code",
   "execution_count": 84,
   "id": "prerequisite-international",
   "metadata": {},
   "outputs": [
    {
     "name": "stdout",
     "output_type": "stream",
     "text": [
      "Pune\n",
      "Mumbai\n",
      "Delhi\n",
      "Chennai\n"
     ]
    }
   ],
   "source": [
    "city_list = ['Pune',\"Mumbai\",'Delhi','Chennai']\n",
    "\n",
    "for city in city_list:\n",
    "    print(city)"
   ]
  },
  {
   "cell_type": "code",
   "execution_count": 90,
   "id": "contained-roommate",
   "metadata": {},
   "outputs": [
    {
     "name": "stdout",
     "output_type": "stream",
     "text": [
      "Item at index 0 is Pune\n",
      "Item at index 0 is Mumbai\n",
      "Item at index 0 is Delhi\n",
      "Item at index 0 is Chennai\n"
     ]
    }
   ],
   "source": [
    "city_list = ['Pune',\"Mumbai\",'Delhi','Chennai']\n",
    "\n",
    "count = 0\n",
    "for city in city_list: # city = 'Chennai'\n",
    "    print(f\"Item at index {count} is {city}\")"
   ]
  },
  {
   "cell_type": "code",
   "execution_count": 114,
   "id": "african-algorithm",
   "metadata": {},
   "outputs": [
    {
     "name": "stdout",
     "output_type": "stream",
     "text": [
      "Item at index 0 is Pune\n",
      "Item at index 1 is Mumbai\n",
      "Item at index 2 is Delhi\n",
      "Item at index 3 is Chennai\n"
     ]
    }
   ],
   "source": [
    "city_list = ['Pune',\"Mumbai\",'Delhi','Chennai']\n",
    "\n",
    "count = 0\n",
    "for city in city_list: # city = 'Pune'\n",
    "    print(f\"Item at index {count} is {city}\")\n",
    "    count = count + 1\n"
   ]
  },
  {
   "cell_type": "code",
   "execution_count": 115,
   "id": "rubber-syntax",
   "metadata": {},
   "outputs": [
    {
     "name": "stdout",
     "output_type": "stream",
     "text": [
      "Item at index 0 is Pune\n",
      "Item at index 1 is Mumbai\n",
      "Item at index 2 is Delhi\n",
      "Item at index 3 is Chennai\n"
     ]
    }
   ],
   "source": [
    "city_list = ['Pune',\"Mumbai\",'Delhi','Chennai']\n",
    "\n",
    "i = 0\n",
    "for city in city_list: # city = 'Pune'\n",
    "    print(f\"Item at index {i} is {city}\")\n",
    "    i = i + 1"
   ]
  },
  {
   "cell_type": "code",
   "execution_count": 116,
   "id": "supported-legislature",
   "metadata": {},
   "outputs": [
    {
     "name": "stdout",
     "output_type": "stream",
     "text": [
      "Item at index 0 is Pune\n",
      "Item at index 1 is Mumbai\n",
      "Item at index 2 is Delhi\n",
      "Item at index 3 is Chennai\n"
     ]
    }
   ],
   "source": [
    "city_list = ['Pune',\"Mumbai\",'Delhi','Chennai']\n",
    "\n",
    "for index,city in enumerate(city_list): # city = 'Pune' , index = 0\n",
    "    print(f\"Item at index {index} is {city}\")"
   ]
  },
  {
   "cell_type": "code",
   "execution_count": 98,
   "id": "automatic-parallel",
   "metadata": {},
   "outputs": [
    {
     "data": {
      "text/plain": [
       "range(0, 5)"
      ]
     },
     "execution_count": 98,
     "metadata": {},
     "output_type": "execute_result"
    }
   ],
   "source": [
    "range(0,5) # 0,1,2,3,4"
   ]
  },
  {
   "cell_type": "code",
   "execution_count": 105,
   "id": "listed-horror",
   "metadata": {},
   "outputs": [
    {
     "data": {
      "text/plain": [
       "[0, 1, 2, 3, 4]"
      ]
     },
     "execution_count": 105,
     "metadata": {},
     "output_type": "execute_result"
    }
   ],
   "source": [
    "list(range(0,5))"
   ]
  },
  {
   "cell_type": "code",
   "execution_count": 106,
   "id": "sustainable-principal",
   "metadata": {},
   "outputs": [
    {
     "data": {
      "text/plain": [
       "[0, 1, 2, 3, 4]"
      ]
     },
     "execution_count": 106,
     "metadata": {},
     "output_type": "execute_result"
    }
   ],
   "source": [
    "list(range(5))"
   ]
  },
  {
   "cell_type": "code",
   "execution_count": 104,
   "id": "sacred-bonus",
   "metadata": {},
   "outputs": [
    {
     "data": {
      "text/plain": [
       "[5, 7, 9]"
      ]
     },
     "execution_count": 104,
     "metadata": {},
     "output_type": "execute_result"
    }
   ],
   "source": [
    "list(range(5,10,2))"
   ]
  },
  {
   "cell_type": "code",
   "execution_count": 110,
   "id": "hollywood-parade",
   "metadata": {},
   "outputs": [
    {
     "name": "stdout",
     "output_type": "stream",
     "text": [
      "Item at index 0 is Pune\n",
      "Item at index 1 is Mumbai\n",
      "Item at index 2 is Delhi\n",
      "Item at index 3 is Chennai\n"
     ]
    }
   ],
   "source": [
    "city_list = ['Pune',\"Mumbai\",'Delhi','Chennai']\n",
    "\n",
    "for i in range(len(city_list)):  # for i in range(4) # 0,1,2,3\n",
    "    print(f\"Item at index {i} is {city_list[i]}\")"
   ]
  },
  {
   "cell_type": "code",
   "execution_count": 107,
   "id": "ignored-phrase",
   "metadata": {},
   "outputs": [
    {
     "name": "stdout",
     "output_type": "stream",
     "text": [
      "0\n",
      "1\n",
      "2\n",
      "3\n"
     ]
    }
   ],
   "source": [
    "for i in range(4):\n",
    "    print(i)"
   ]
  },
  {
   "cell_type": "markdown",
   "id": "living-polyester",
   "metadata": {},
   "source": [
    "# Create Lists"
   ]
  },
  {
   "cell_type": "markdown",
   "id": "seven-flour",
   "metadata": {},
   "source": [
    "## Add items in list"
   ]
  },
  {
   "cell_type": "markdown",
   "id": "mineral-proposition",
   "metadata": {},
   "source": [
    "### 1. append"
   ]
  },
  {
   "cell_type": "code",
   "execution_count": 119,
   "id": "public-demonstration",
   "metadata": {},
   "outputs": [
    {
     "name": "stdout",
     "output_type": "stream",
     "text": [
      "['Pune', 'Mumbai', 'Delhi', 'Chennai']\n",
      "['Pune', 'Mumbai', 'Delhi', 'Chennai', 1000]\n"
     ]
    }
   ],
   "source": [
    "city_list = ['Pune',\"Mumbai\",'Delhi','Chennai']\n",
    "print(city_list)\n",
    "city_list.append(1000)\n",
    "print(city_list)"
   ]
  },
  {
   "cell_type": "code",
   "execution_count": 121,
   "id": "democratic-license",
   "metadata": {},
   "outputs": [
    {
     "name": "stdout",
     "output_type": "stream",
     "text": [
      "['Pune', 'Mumbai', 'Delhi', 'Chennai'] 4\n",
      "['Pune', 'Mumbai', 'Delhi', 'Chennai', 'Hyderabad'] 5\n"
     ]
    }
   ],
   "source": [
    "city_list = ['Pune',\"Mumbai\",'Delhi','Chennai']\n",
    "print(city_list,len(city_list))  #4 \n",
    "city_list.append('Hyderabad')\n",
    "print(city_list,len(city_list))  # 5"
   ]
  },
  {
   "cell_type": "code",
   "execution_count": 122,
   "id": "undefined-retro",
   "metadata": {},
   "outputs": [
    {
     "name": "stdout",
     "output_type": "stream",
     "text": [
      "['Pune', 'Mumbai', 'Delhi', 'Chennai'] 4\n",
      "['Pune', 'Mumbai', 'Delhi', 'Chennai', 'Hyderabad'] 5\n",
      "['Pune', 'Mumbai', 'Delhi', 'Chennai', 'Hyderabad', 'Kolkata'] 6\n"
     ]
    }
   ],
   "source": [
    "city_list = ['Pune',\"Mumbai\",'Delhi','Chennai']\n",
    "print(city_list,len(city_list))  #4 \n",
    "\n",
    "city_list.append('Hyderabad')\n",
    "print(city_list,len(city_list))  # 5\n",
    "\n",
    "city_list.append('Kolkata')\n",
    "print(city_list,len(city_list))  # 6\n"
   ]
  },
  {
   "cell_type": "markdown",
   "id": "visible-double",
   "metadata": {},
   "source": [
    "### 2. extend"
   ]
  },
  {
   "cell_type": "code",
   "execution_count": 123,
   "id": "accessible-basin",
   "metadata": {},
   "outputs": [],
   "source": [
    "# To join two lists"
   ]
  },
  {
   "cell_type": "code",
   "execution_count": 130,
   "id": "likely-river",
   "metadata": {},
   "outputs": [
    {
     "name": "stdout",
     "output_type": "stream",
     "text": [
      "['Pune', 'Mumbai', 'Delhi', 'Chennai', ['Kolkata', 'Bangalore']] 5\n"
     ]
    }
   ],
   "source": [
    "city_list = ['Pune',\"Mumbai\",'Delhi','Chennai']\n",
    "new_city_list = ['Kolkata', 'Bangalore']\n",
    "city_list.append(new_city_list)\n",
    "print(city_list,len(city_list))"
   ]
  },
  {
   "cell_type": "code",
   "execution_count": 132,
   "id": "random-identity",
   "metadata": {},
   "outputs": [
    {
     "name": "stdout",
     "output_type": "stream",
     "text": [
      "['Pune', 'Mumbai', 'Delhi', 'Chennai', 'Kolkata', 'Bangalore']\n"
     ]
    }
   ],
   "source": [
    "city_list = ['Pune',\"Mumbai\",'Delhi','Chennai']\n",
    "new_city_list = ['Kolkata', 'Bangalore']\n",
    "city_list.extend(new_city_list)\n",
    "print(city_list)"
   ]
  },
  {
   "cell_type": "code",
   "execution_count": 134,
   "id": "appointed-simpson",
   "metadata": {},
   "outputs": [
    {
     "name": "stdout",
     "output_type": "stream",
     "text": [
      "0\n",
      "1\n",
      "2\n",
      "3\n",
      "4\n",
      "5\n",
      "6\n"
     ]
    }
   ],
   "source": [
    "string = \"Machine\"\n",
    "for i in range(len(string)):\n",
    "    print(i)"
   ]
  },
  {
   "cell_type": "code",
   "execution_count": 136,
   "id": "naughty-blade",
   "metadata": {},
   "outputs": [
    {
     "name": "stdout",
     "output_type": "stream",
     "text": [
      "2\n",
      "3\n",
      "4\n",
      "5\n",
      "6\n"
     ]
    }
   ],
   "source": [
    "string = \"Machine\"\n",
    "for i in range(2, len(string)):\n",
    "    print(i)"
   ]
  },
  {
   "cell_type": "code",
   "execution_count": 145,
   "id": "intelligent-tonight",
   "metadata": {},
   "outputs": [
    {
     "name": "stdout",
     "output_type": "stream",
     "text": [
      "4\n"
     ]
    }
   ],
   "source": [
    "string = \"1234556789\"\n",
    "even_count = 0\n",
    "for i in string:\n",
    "    if int(i) % 2 == 0:\n",
    "        even_count += 1\n",
    "        \n",
    "print(even_count)"
   ]
  },
  {
   "cell_type": "code",
   "execution_count": 151,
   "id": "knowing-tobago",
   "metadata": {},
   "outputs": [
    {
     "name": "stdout",
     "output_type": "stream",
     "text": [
      "a\n",
      "d\n",
      "g\n",
      "j\n",
      "0\n"
     ]
    }
   ],
   "source": [
    "string = \"asdfghj\"\n",
    "even_count = 0\n",
    "for i in range(len(string)):\n",
    "    if i % 2 == 0:\n",
    "        print(string[i])\n",
    "\n",
    "print(even_count)"
   ]
  },
  {
   "cell_type": "code",
   "execution_count": 144,
   "id": "according-investigation",
   "metadata": {},
   "outputs": [
    {
     "name": "stdout",
     "output_type": "stream",
     "text": [
      "4\n"
     ]
    }
   ],
   "source": [
    "string = \"1234556789\"\n",
    "even_count = 0\n",
    "\n",
    "for i in range(len(string)):\n",
    "    if int(string[i]) % 2 == 0:\n",
    "        even_count += 1\n",
    "        \n",
    "print(even_count)"
   ]
  },
  {
   "cell_type": "code",
   "execution_count": null,
   "id": "seasonal-marks",
   "metadata": {},
   "outputs": [],
   "source": []
  },
  {
   "cell_type": "code",
   "execution_count": null,
   "id": "confident-algorithm",
   "metadata": {},
   "outputs": [],
   "source": [
    "string = \"1234asdfgh556789\"\n",
    "even_count = 0\n",
    "\n",
    "for i in range(len(string)):\n",
    "    if int(string[i]) % 2 == 0:\n",
    "        even_count += 1\n",
    "        \n",
    "print(even_count)"
   ]
  },
  {
   "cell_type": "code",
   "execution_count": 143,
   "id": "average-webcam",
   "metadata": {},
   "outputs": [
    {
     "ename": "TypeError",
     "evalue": "not all arguments converted during string formatting",
     "output_type": "error",
     "traceback": [
      "\u001b[1;31m---------------------------------------------------------------------------\u001b[0m",
      "\u001b[1;31mTypeError\u001b[0m                                 Traceback (most recent call last)",
      "\u001b[1;32m<ipython-input-143-b415643682d5>\u001b[0m in \u001b[0;36m<module>\u001b[1;34m\u001b[0m\n\u001b[1;32m----> 1\u001b[1;33m \u001b[1;34m'a'\u001b[0m \u001b[1;33m%\u001b[0m \u001b[1;36m2\u001b[0m\u001b[1;33m\u001b[0m\u001b[1;33m\u001b[0m\u001b[0m\n\u001b[0m",
      "\u001b[1;31mTypeError\u001b[0m: not all arguments converted during string formatting"
     ]
    }
   ],
   "source": []
  }
 ],
 "metadata": {
  "kernelspec": {
   "display_name": "Python 3 (ipykernel)",
   "language": "python",
   "name": "python3"
  },
  "language_info": {
   "codemirror_mode": {
    "name": "ipython",
    "version": 3
   },
   "file_extension": ".py",
   "mimetype": "text/x-python",
   "name": "python",
   "nbconvert_exporter": "python",
   "pygments_lexer": "ipython3",
   "version": "3.9.1"
  }
 },
 "nbformat": 4,
 "nbformat_minor": 5
}
