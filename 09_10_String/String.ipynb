{
 "cells": [
  {
   "cell_type": "markdown",
   "id": "religious-tamil",
   "metadata": {},
   "source": [
    "# String"
   ]
  },
  {
   "cell_type": "code",
   "execution_count": 207,
   "id": "rental-remark",
   "metadata": {},
   "outputs": [
    {
     "ename": "SyntaxError",
     "evalue": "invalid syntax (<ipython-input-207-072e0f7b4b90>, line 1)",
     "output_type": "error",
     "traceback": [
      "\u001b[1;36m  File \u001b[1;32m\"<ipython-input-207-072e0f7b4b90>\"\u001b[1;36m, line \u001b[1;32m1\u001b[0m\n\u001b[1;33m    String are immutable data type\u001b[0m\n\u001b[1;37m           ^\u001b[0m\n\u001b[1;31mSyntaxError\u001b[0m\u001b[1;31m:\u001b[0m invalid syntax\n"
     ]
    }
   ],
   "source": [
    "String are immutable data type\n",
    "Once string is created we can not change it"
   ]
  },
  {
   "cell_type": "markdown",
   "id": "turned-bundle",
   "metadata": {},
   "source": [
    "# String Indexing"
   ]
  },
  {
   "cell_type": "markdown",
   "id": "contained-newfoundland",
   "metadata": {},
   "source": [
    "## 1. Positive indexing"
   ]
  },
  {
   "cell_type": "raw",
   "id": "electronic-mapping",
   "metadata": {},
   "source": [
    "Indexing will start from 0 index\n",
    "Use square backet to print string items"
   ]
  },
  {
   "cell_type": "code",
   "execution_count": 208,
   "id": "behavioral-hacker",
   "metadata": {},
   "outputs": [
    {
     "name": "stdout",
     "output_type": "stream",
     "text": [
      "Length of string is : 6\n"
     ]
    }
   ],
   "source": [
    "str1 = \"Python\"\n",
    "length = len(str1)\n",
    "print(\"Length of string is :\",length)"
   ]
  },
  {
   "cell_type": "code",
   "execution_count": 209,
   "id": "arabic-listing",
   "metadata": {},
   "outputs": [
    {
     "ename": "SyntaxError",
     "evalue": "invalid syntax (<ipython-input-209-125c421f9bb5>, line 2)",
     "output_type": "error",
     "traceback": [
      "\u001b[1;36m  File \u001b[1;32m\"<ipython-input-209-125c421f9bb5>\"\u001b[1;36m, line \u001b[1;32m2\u001b[0m\n\u001b[1;33m    p y t h o n\u001b[0m\n\u001b[1;37m      ^\u001b[0m\n\u001b[1;31mSyntaxError\u001b[0m\u001b[1;31m:\u001b[0m invalid syntax\n"
     ]
    }
   ],
   "source": [
    "str1 = \"Python\"\n",
    "p y t h o n\n",
    "0 1 2 3 4 5"
   ]
  },
  {
   "cell_type": "code",
   "execution_count": null,
   "id": "crude-sacramento",
   "metadata": {},
   "outputs": [],
   "source": [
    "str1 = \"Python\"\n",
    "str1[0]  # p\n",
    "str1[1]\n",
    "str1[2]\n",
    "str1[3]\n",
    "str1[4]\n",
    "str1[5]"
   ]
  },
  {
   "cell_type": "code",
   "execution_count": null,
   "id": "japanese-combination",
   "metadata": {},
   "outputs": [],
   "source": [
    "str1[6-1]"
   ]
  },
  {
   "cell_type": "code",
   "execution_count": null,
   "id": "advance-lambda",
   "metadata": {},
   "outputs": [],
   "source": [
    "string = 'Machine Learning'\n",
    "string[5]"
   ]
  },
  {
   "cell_type": "code",
   "execution_count": null,
   "id": "civil-party",
   "metadata": {},
   "outputs": [],
   "source": [
    "string[2]"
   ]
  },
  {
   "cell_type": "code",
   "execution_count": null,
   "id": "breathing-dealing",
   "metadata": {},
   "outputs": [],
   "source": [
    "string = 'Machine Learning'\n",
    "string[7]"
   ]
  },
  {
   "cell_type": "markdown",
   "id": "found-agent",
   "metadata": {},
   "source": [
    "## Negative indexing"
   ]
  },
  {
   "cell_type": "code",
   "execution_count": null,
   "id": "capable-charlotte",
   "metadata": {},
   "outputs": [],
   "source": [
    "str2 = 'Data Science'\n",
    "\n",
    "str2[len(str2) - 1]"
   ]
  },
  {
   "cell_type": "code",
   "execution_count": null,
   "id": "capital-shoulder",
   "metadata": {},
   "outputs": [],
   "source": [
    "str2[len(str2) - 2]"
   ]
  },
  {
   "cell_type": "code",
   "execution_count": null,
   "id": "swedish-slovak",
   "metadata": {},
   "outputs": [],
   "source": [
    "str1 = 'Python'\n",
    "p  y  t  h  o  n \n",
    "-6 -5 -4 -3 -2 -1"
   ]
  },
  {
   "cell_type": "code",
   "execution_count": null,
   "id": "entire-seating",
   "metadata": {},
   "outputs": [],
   "source": [
    "str1 = 'Python'\n",
    "str1[-1] # n\n",
    "str1[-2] # o\n",
    "str1[-6] # o"
   ]
  },
  {
   "cell_type": "markdown",
   "id": "coral-implement",
   "metadata": {},
   "source": [
    "# String Slicing"
   ]
  },
  {
   "cell_type": "raw",
   "id": "occupational-compiler",
   "metadata": {},
   "source": [
    "string[start_index(Included) : end_index(excluded) : step_size ] # step size is optional\n",
    "Default start_index >> 0\n",
    "Default end_index >> Length of string\n",
    "default step size >> 1\n",
    "\n",
    "Step Size is Positive >> Left to Right\n",
    "Step Size is Negative >> Right to Left"
   ]
  },
  {
   "cell_type": "code",
   "execution_count": null,
   "id": "convertible-affect",
   "metadata": {},
   "outputs": [],
   "source": [
    "str1 = 'Machine Learning'\n",
    "str1[0 : 5] # 0 1 2 3 4  # 5 - 2 = 3"
   ]
  },
  {
   "cell_type": "code",
   "execution_count": null,
   "id": "chronic-asset",
   "metadata": {},
   "outputs": [],
   "source": [
    "str1[0:7]"
   ]
  },
  {
   "cell_type": "code",
   "execution_count": null,
   "id": "oriented-florence",
   "metadata": {},
   "outputs": [],
   "source": [
    "str1[0:8]"
   ]
  },
  {
   "cell_type": "code",
   "execution_count": null,
   "id": "little-mixture",
   "metadata": {},
   "outputs": [],
   "source": [
    "str1[8:16]  # "
   ]
  },
  {
   "cell_type": "code",
   "execution_count": null,
   "id": "downtown-scenario",
   "metadata": {},
   "outputs": [],
   "source": [
    "str1[8:10]  # 2 items"
   ]
  },
  {
   "cell_type": "code",
   "execution_count": null,
   "id": "deadly-jackson",
   "metadata": {},
   "outputs": [],
   "source": [
    "str1[10 : 8]  # 2 items"
   ]
  },
  {
   "cell_type": "code",
   "execution_count": null,
   "id": "olive-owner",
   "metadata": {},
   "outputs": [],
   "source": [
    "str1[0:5]  # 2 items"
   ]
  },
  {
   "cell_type": "code",
   "execution_count": null,
   "id": "dramatic-lobby",
   "metadata": {},
   "outputs": [],
   "source": [
    "str1[:5]  # "
   ]
  },
  {
   "cell_type": "code",
   "execution_count": null,
   "id": "terminal-retreat",
   "metadata": {},
   "outputs": [],
   "source": [
    "str1[0:len(str1)]  # Default Value"
   ]
  },
  {
   "cell_type": "code",
   "execution_count": null,
   "id": "cathedral-catholic",
   "metadata": {},
   "outputs": [],
   "source": [
    "str1[:]"
   ]
  },
  {
   "cell_type": "code",
   "execution_count": null,
   "id": "exclusive-insider",
   "metadata": {},
   "outputs": [],
   "source": [
    "list1[-1]"
   ]
  },
  {
   "cell_type": "code",
   "execution_count": null,
   "id": "computational-emperor",
   "metadata": {},
   "outputs": [],
   "source": [
    "string = 'Data Science'\n",
    "str1 = string[0:10]\n",
    "print(len(str1))"
   ]
  },
  {
   "cell_type": "code",
   "execution_count": null,
   "id": "charitable-providence",
   "metadata": {},
   "outputs": [],
   "source": [
    "string = 'Data Science'\n",
    "str1 = string[0:10:1]  # step size == 1\n",
    "str1"
   ]
  },
  {
   "cell_type": "code",
   "execution_count": null,
   "id": "frank-candle",
   "metadata": {},
   "outputs": [],
   "source": [
    "string = 'Data Science'\n",
    "str1 = string[0:10]  # step size == 1\n",
    "str1"
   ]
  },
  {
   "cell_type": "code",
   "execution_count": null,
   "id": "cubic-tours",
   "metadata": {},
   "outputs": [],
   "source": [
    "string = 'Data Science'\n",
    "str1 = string[0:10:2]  # step size == 2\n",
    "# str1 # Dt ce\n",
    "str1"
   ]
  },
  {
   "cell_type": "code",
   "execution_count": null,
   "id": "broke-artist",
   "metadata": {},
   "outputs": [],
   "source": [
    "string[0:10]"
   ]
  },
  {
   "cell_type": "code",
   "execution_count": null,
   "id": "clinical-logging",
   "metadata": {},
   "outputs": [],
   "source": [
    "string = 'Data Science'\n",
    "string[::2]   # Even indexed char\n",
    "# 0 2 4 6 8 10 ..."
   ]
  },
  {
   "cell_type": "code",
   "execution_count": null,
   "id": "floral-possible",
   "metadata": {},
   "outputs": [],
   "source": [
    "string = 'Data Science'\n",
    "string[1::2]   # Even indexed char\n",
    "# 1 3 5 7 ...."
   ]
  },
  {
   "cell_type": "code",
   "execution_count": null,
   "id": "adjusted-relay",
   "metadata": {},
   "outputs": [],
   "source": [
    "string = 'Data Science'\n",
    "string[1:5:2]   # Even indexed char\n",
    "# 1 3"
   ]
  },
  {
   "cell_type": "code",
   "execution_count": null,
   "id": "lined-agency",
   "metadata": {},
   "outputs": [],
   "source": [
    "string = 'Data Science'\n",
    "string[1:5:1]   # Even indexed char\n",
    "# 1 2 3 4"
   ]
  },
  {
   "cell_type": "code",
   "execution_count": null,
   "id": "opposed-invention",
   "metadata": {},
   "outputs": [],
   "source": [
    "string = 'Data Science'\n",
    "string[0:5:1]   # Even indexed char\n",
    "# 1 2 3 4"
   ]
  },
  {
   "cell_type": "code",
   "execution_count": null,
   "id": "legendary-artwork",
   "metadata": {},
   "outputs": [],
   "source": [
    "string = 'Data Science'\n",
    "string[0:5]\n",
    "# 0 1 2 3 4"
   ]
  },
  {
   "cell_type": "code",
   "execution_count": null,
   "id": "concerned-reach",
   "metadata": {},
   "outputs": [],
   "source": [
    "string = 'Data Science'\n",
    "string[0:5]\n",
    "# 0 1 2 3 4"
   ]
  },
  {
   "cell_type": "code",
   "execution_count": null,
   "id": "statutory-nursery",
   "metadata": {},
   "outputs": [],
   "source": [
    "string = 'Data Science'\n",
    "string[1::2]   # aaSine"
   ]
  },
  {
   "cell_type": "code",
   "execution_count": null,
   "id": "duplicate-times",
   "metadata": {},
   "outputs": [],
   "source": [
    "string = 'Data Science'\n",
    "string[5::2]   # aaSine"
   ]
  },
  {
   "cell_type": "markdown",
   "id": "knowing-trading",
   "metadata": {},
   "source": [
    "## String slicing with negative index"
   ]
  },
  {
   "cell_type": "code",
   "execution_count": null,
   "id": "floppy-dating",
   "metadata": {},
   "outputs": [],
   "source": [
    "string = \"Data science is an interdisciplinary field\"\n",
    "len(string)"
   ]
  },
  {
   "cell_type": "code",
   "execution_count": null,
   "id": "terminal-blanket",
   "metadata": {},
   "outputs": [],
   "source": [
    "string[1:5]"
   ]
  },
  {
   "cell_type": "code",
   "execution_count": null,
   "id": "rapid-people",
   "metadata": {},
   "outputs": [],
   "source": [
    "string = 'Pyhton'\n",
    "string[-5]"
   ]
  },
  {
   "cell_type": "code",
   "execution_count": null,
   "id": "canadian-boards",
   "metadata": {},
   "outputs": [],
   "source": [
    "string = 'Pyhton'\n",
    "string[-5 : -1]  # -5 -4 -3 -2"
   ]
  },
  {
   "cell_type": "code",
   "execution_count": null,
   "id": "varying-holly",
   "metadata": {},
   "outputs": [],
   "source": [
    "string = 'Pyhton'\n",
    "string[-5 : ]  "
   ]
  },
  {
   "cell_type": "code",
   "execution_count": null,
   "id": "extreme-headset",
   "metadata": {},
   "outputs": [],
   "source": []
  },
  {
   "cell_type": "code",
   "execution_count": null,
   "id": "another-sandwich",
   "metadata": {},
   "outputs": [],
   "source": [
    "# Last 10 char\n",
    "string = \"Data science is an interdisciplinary field\"\n",
    "length = len(string)\n",
    "string[length - 10 :]"
   ]
  },
  {
   "cell_type": "code",
   "execution_count": null,
   "id": "sticky-trial",
   "metadata": {},
   "outputs": [],
   "source": [
    "# Last 10 char\n",
    "string = \"Data science is an interdisciplinary field\"\n",
    "length = len(string)\n",
    "string[length - 10 :length]"
   ]
  },
  {
   "cell_type": "code",
   "execution_count": null,
   "id": "national-utilization",
   "metadata": {},
   "outputs": [],
   "source": [
    "string = \"Data science is an interdisciplinary field\"\n",
    "string[-10:]"
   ]
  },
  {
   "cell_type": "code",
   "execution_count": null,
   "id": "spanish-gothic",
   "metadata": {},
   "outputs": [],
   "source": [
    "string = \"Data science is an interdisciplinary field\"\n",
    "string[-10:-20]"
   ]
  },
  {
   "cell_type": "code",
   "execution_count": null,
   "id": "golden-hollywood",
   "metadata": {},
   "outputs": [],
   "source": [
    "string = \"Data science is an interdisciplinary field\"\n",
    "string[-20:-10]"
   ]
  },
  {
   "cell_type": "code",
   "execution_count": null,
   "id": "worst-noise",
   "metadata": {},
   "outputs": [],
   "source": [
    "string = \"Data science is an interdisciplinary field\"\n",
    "string[-20:-10]"
   ]
  },
  {
   "cell_type": "code",
   "execution_count": null,
   "id": "tested-mixture",
   "metadata": {},
   "outputs": [],
   "source": [
    "string = \"Data science is an interdisciplinary field\"\n",
    "string[1 : -1] # -1 >> excluded"
   ]
  },
  {
   "cell_type": "code",
   "execution_count": null,
   "id": "psychological-advancement",
   "metadata": {},
   "outputs": [],
   "source": [
    "string = \"Data science is an interdisciplinary field\"\n",
    "string[1 : -1] # -1 >> excluded"
   ]
  },
  {
   "cell_type": "markdown",
   "id": "peripheral-variable",
   "metadata": {},
   "source": [
    "### Reverse String"
   ]
  },
  {
   "cell_type": "code",
   "execution_count": null,
   "id": "latest-expression",
   "metadata": {},
   "outputs": [],
   "source": [
    "string = \"Python\"\n",
    "string[::]"
   ]
  },
  {
   "cell_type": "code",
   "execution_count": null,
   "id": "quality-covering",
   "metadata": {},
   "outputs": [],
   "source": [
    "string = \"Python\"\n",
    "string[::1]"
   ]
  },
  {
   "cell_type": "code",
   "execution_count": null,
   "id": "legal-moment",
   "metadata": {},
   "outputs": [],
   "source": [
    "string = \"Python\"\n",
    "string[::-1]"
   ]
  },
  {
   "cell_type": "code",
   "execution_count": null,
   "id": "spanish-harvard",
   "metadata": {},
   "outputs": [],
   "source": [
    "string = \"Python\"\n",
    "string[::-2]"
   ]
  },
  {
   "cell_type": "code",
   "execution_count": null,
   "id": "split-figure",
   "metadata": {},
   "outputs": [],
   "source": [
    "string = \"Python\"\n",
    "string[1:5:1]"
   ]
  },
  {
   "cell_type": "code",
   "execution_count": 210,
   "id": "driving-panama",
   "metadata": {},
   "outputs": [
    {
     "data": {
      "text/plain": [
       "'noht'"
      ]
     },
     "execution_count": 210,
     "metadata": {},
     "output_type": "execute_result"
    }
   ],
   "source": [
    "string = \"Python\"\n",
    "string[5:1:-1]  # right to left\n"
   ]
  },
  {
   "cell_type": "code",
   "execution_count": 211,
   "id": "voluntary-elements",
   "metadata": {},
   "outputs": [
    {
     "data": {
      "text/plain": [
       "'oh'"
      ]
     },
     "execution_count": 211,
     "metadata": {},
     "output_type": "execute_result"
    }
   ],
   "source": [
    "string = \"Python\"\n",
    "string[4:2:-1]  # 2 char >> oh"
   ]
  },
  {
   "cell_type": "code",
   "execution_count": 212,
   "id": "communist-bennett",
   "metadata": {},
   "outputs": [
    {
     "data": {
      "text/plain": [
       "'ni na si ecneic'"
      ]
     },
     "execution_count": 212,
     "metadata": {},
     "output_type": "execute_result"
    }
   ],
   "source": [
    "string = \"Data science is an interdisciplinary field\"\n",
    "string[20:5:-1]"
   ]
  },
  {
   "cell_type": "code",
   "execution_count": 213,
   "id": "announced-communications",
   "metadata": {},
   "outputs": [
    {
     "data": {
      "text/plain": [
       "'noht'"
      ]
     },
     "execution_count": 213,
     "metadata": {},
     "output_type": "execute_result"
    }
   ],
   "source": [
    "string = \"Python\"\n",
    "string[5:1:-1]"
   ]
  },
  {
   "cell_type": "code",
   "execution_count": 214,
   "id": "bulgarian-execution",
   "metadata": {},
   "outputs": [
    {
     "data": {
      "text/plain": [
       "'n'"
      ]
     },
     "execution_count": 214,
     "metadata": {},
     "output_type": "execute_result"
    }
   ],
   "source": [
    "string = \"Python\"\n",
    "string[5]"
   ]
  },
  {
   "cell_type": "code",
   "execution_count": 215,
   "id": "interim-petroleum",
   "metadata": {},
   "outputs": [],
   "source": [
    "string = \"Python\""
   ]
  },
  {
   "cell_type": "markdown",
   "id": "instructional-gospel",
   "metadata": {},
   "source": [
    "# Adding of Strings"
   ]
  },
  {
   "cell_type": "code",
   "execution_count": 216,
   "id": "soviet-ticket",
   "metadata": {},
   "outputs": [
    {
     "data": {
      "text/plain": [
       "str"
      ]
     },
     "execution_count": 216,
     "metadata": {},
     "output_type": "execute_result"
    }
   ],
   "source": [
    "s1 = 'P'\n",
    "type(s1)"
   ]
  },
  {
   "cell_type": "code",
   "execution_count": 217,
   "id": "intimate-assets",
   "metadata": {},
   "outputs": [
    {
     "data": {
      "text/plain": [
       "str"
      ]
     },
     "execution_count": 217,
     "metadata": {},
     "output_type": "execute_result"
    }
   ],
   "source": [
    "s1 = ''\n",
    "type(s1)"
   ]
  },
  {
   "cell_type": "code",
   "execution_count": 218,
   "id": "twelve-comment",
   "metadata": {},
   "outputs": [
    {
     "data": {
      "text/plain": [
       "str"
      ]
     },
     "execution_count": 218,
     "metadata": {},
     "output_type": "execute_result"
    }
   ],
   "source": [
    "s1 = '1234'\n",
    "type(s1)"
   ]
  },
  {
   "cell_type": "code",
   "execution_count": 219,
   "id": "descending-essay",
   "metadata": {},
   "outputs": [
    {
     "data": {
      "text/plain": [
       "str"
      ]
     },
     "execution_count": 219,
     "metadata": {},
     "output_type": "execute_result"
    }
   ],
   "source": [
    "s1 = \"1234\"\n",
    "type(s1)"
   ]
  },
  {
   "cell_type": "code",
   "execution_count": 220,
   "id": "interim-regulation",
   "metadata": {},
   "outputs": [
    {
     "name": "stdout",
     "output_type": "stream",
     "text": [
      "S1 string is : python\n",
      "S2 string is : Data Science\n"
     ]
    },
    {
     "data": {
      "text/plain": [
       "'python '"
      ]
     },
     "execution_count": 220,
     "metadata": {},
     "output_type": "execute_result"
    }
   ],
   "source": [
    "s1 = \"python\"\n",
    "s2 = \"Data Science\"\n",
    "print(\"S1 string is :\",s1)\n",
    "print(\"S2 string is :\",s2)\n",
    "s1 = s1 + \" \"\n",
    "s1"
   ]
  },
  {
   "cell_type": "code",
   "execution_count": 221,
   "id": "material-heater",
   "metadata": {},
   "outputs": [
    {
     "name": "stdout",
     "output_type": "stream",
     "text": [
      "100\n",
      "110\n"
     ]
    }
   ],
   "source": [
    "a = 100\n",
    "print(a)   # 100\n",
    "a = a + 10\n",
    "print(a)  # 110"
   ]
  },
  {
   "cell_type": "code",
   "execution_count": 222,
   "id": "burning-berry",
   "metadata": {},
   "outputs": [
    {
     "name": "stdout",
     "output_type": "stream",
     "text": [
      "python\n",
      "pythonABC\n"
     ]
    }
   ],
   "source": [
    "s1 = \"python\"\n",
    "print(s1)    # python\n",
    "s1 = s1 + \"ABC\"\n",
    "print(s1)   # pythonABC"
   ]
  },
  {
   "cell_type": "code",
   "execution_count": 223,
   "id": "consistent-mixture",
   "metadata": {},
   "outputs": [
    {
     "name": "stdout",
     "output_type": "stream",
     "text": [
      "python\n",
      "pythonData Science\n"
     ]
    }
   ],
   "source": [
    "s1 = \"python\"\n",
    "print(s1)    # python\n",
    "s1 = s1 + \"Data Science\"\n",
    "print(s1)   # pythonABC"
   ]
  },
  {
   "cell_type": "code",
   "execution_count": 224,
   "id": "caroline-montreal",
   "metadata": {},
   "outputs": [
    {
     "name": "stdout",
     "output_type": "stream",
     "text": [
      "python\n",
      "python Data Science\n"
     ]
    }
   ],
   "source": [
    "s1 = \"python\"\n",
    "print(s1)    # python\n",
    "s1 = s1 + \" Data Science\"\n",
    "print(s1)   # python"
   ]
  },
  {
   "cell_type": "code",
   "execution_count": 225,
   "id": "inner-endorsement",
   "metadata": {},
   "outputs": [
    {
     "name": "stdout",
     "output_type": "stream",
     "text": [
      "python\n",
      "python Data Science\n"
     ]
    }
   ],
   "source": [
    "s1 = \"python\"\n",
    "s2 = \" Data Science\"\n",
    "print(s1)    # python\n",
    "s1 = s1 + s2\n",
    "print(s1)   # python"
   ]
  },
  {
   "cell_type": "code",
   "execution_count": 226,
   "id": "pressing-librarian",
   "metadata": {},
   "outputs": [
    {
     "name": "stdout",
     "output_type": "stream",
     "text": [
      "python\n",
      "python Data Science\n"
     ]
    }
   ],
   "source": [
    "s1 = \"python\"\n",
    "s2 = \"Data Science\"\n",
    "print(s1)    # python\n",
    "s1 = s1 + ' ' +s2  # python Data Science\n",
    "print(s1)   # python"
   ]
  },
  {
   "cell_type": "code",
   "execution_count": 227,
   "id": "scenic-cross",
   "metadata": {},
   "outputs": [
    {
     "name": "stdout",
     "output_type": "stream",
     "text": [
      "python\n",
      "python\n",
      "python Data Science\n"
     ]
    }
   ],
   "source": [
    "s1 = \"python\"\n",
    "s2 = \"Data Science\"\n",
    "print(s1)    # python\n",
    "s2 = s1 + ' ' +s2\n",
    "print(s1)   # python\n",
    "print(s2)"
   ]
  },
  {
   "cell_type": "code",
   "execution_count": 228,
   "id": "straight-indonesian",
   "metadata": {},
   "outputs": [
    {
     "name": "stdout",
     "output_type": "stream",
     "text": [
      "python\n",
      "python\n",
      "Data Science\n"
     ]
    }
   ],
   "source": [
    "s1 = \"python\"\n",
    "s2 = \"Data Science\"\n",
    "print(s1)    # python\n",
    "s3 = s1 + ' ' +s2\n",
    "print(s1)   # python\n",
    "print(s2)   # \"Data Science\""
   ]
  },
  {
   "cell_type": "code",
   "execution_count": 229,
   "id": "outdoor-mistress",
   "metadata": {},
   "outputs": [
    {
     "name": "stdout",
     "output_type": "stream",
     "text": [
      "python\n",
      "python\n",
      "Data Science\n",
      "python Data Science\n"
     ]
    }
   ],
   "source": [
    "s1 = \"python\"\n",
    "s2 = \"Data Science\"\n",
    "print(s1)    # python\n",
    "s3 = s1 + ' ' +s2\n",
    "print(s1)   # python\n",
    "print(s2)   # \"Data Science\"\n",
    "print(s3)"
   ]
  },
  {
   "cell_type": "code",
   "execution_count": 230,
   "id": "sacred-flight",
   "metadata": {},
   "outputs": [
    {
     "name": "stdout",
     "output_type": "stream",
     "text": [
      "python\n",
      "python\n",
      "Data Science\n",
      "python++Data Science\n"
     ]
    }
   ],
   "source": [
    "s1 = \"python\"\n",
    "s2 = \"Data Science\"\n",
    "print(s1)    # python\n",
    "s3 = s1 + '++' + s2\n",
    "print(s1)   # python\n",
    "print(s2)   # \"Data Science\"\n",
    "print(s3)"
   ]
  },
  {
   "cell_type": "code",
   "execution_count": 233,
   "id": "exempt-sugar",
   "metadata": {},
   "outputs": [
    {
     "name": "stdout",
     "output_type": "stream",
     "text": [
      "Python\n",
      "PythonPython\n"
     ]
    }
   ],
   "source": [
    "string = 'Python'\n",
    "s4 = string * 2\n",
    "print(string)\n",
    "print(s4)"
   ]
  },
  {
   "cell_type": "code",
   "execution_count": 236,
   "id": "intellectual-printing",
   "metadata": {},
   "outputs": [
    {
     "name": "stdout",
     "output_type": "stream",
     "text": [
      "Python \n",
      "Python Python \n"
     ]
    }
   ],
   "source": [
    "string = 'Python '\n",
    "s4 = string * 2\n",
    "print(string)\n",
    "print(s4)"
   ]
  },
  {
   "cell_type": "code",
   "execution_count": null,
   "id": "uniform-scratch",
   "metadata": {},
   "outputs": [],
   "source": [
    "string = \"python\"\n",
    "outstr = \"nythop\""
   ]
  },
  {
   "cell_type": "code",
   "execution_count": 238,
   "id": "japanese-possession",
   "metadata": {},
   "outputs": [
    {
     "name": "stdout",
     "output_type": "stream",
     "text": [
      "nythop\n"
     ]
    }
   ],
   "source": [
    "s='python'\n",
    "s = s[-1] + s[1:len(s)-1] + s[0]\n",
    "print(s)"
   ]
  },
  {
   "cell_type": "code",
   "execution_count": 246,
   "id": "approximate-anime",
   "metadata": {},
   "outputs": [
    {
     "name": "stdout",
     "output_type": "stream",
     "text": [
      "nythoP\n"
     ]
    }
   ],
   "source": [
    "str = 'Python'\n",
    "print(str[-1]+str[1:-1]+str[0])"
   ]
  },
  {
   "cell_type": "code",
   "execution_count": 254,
   "id": "collected-annual",
   "metadata": {},
   "outputs": [
    {
     "data": {
      "text/plain": [
       "'nythop'"
      ]
     },
     "execution_count": 254,
     "metadata": {},
     "output_type": "execute_result"
    }
   ],
   "source": [
    "string = \"python\"\n",
    "string[0]  # p\n",
    "string[-1] # n\n",
    "string[1:-1] # ytho\n",
    "out_str = string[-1] +  string[1:-1]  + string[0]\n",
    "out_str"
   ]
  },
  {
   "cell_type": "code",
   "execution_count": 255,
   "id": "wooden-interstate",
   "metadata": {},
   "outputs": [
    {
     "data": {
      "text/plain": [
       "'nythop'"
      ]
     },
     "execution_count": 255,
     "metadata": {},
     "output_type": "execute_result"
    }
   ],
   "source": [
    "string = \"python\"\n",
    "string[0]  # p\n",
    "string[-1] # n\n",
    "string[1:5] # ytho\n",
    "out_str = string[-1] +  string[1:-1]  + string[0]\n",
    "out_str"
   ]
  },
  {
   "cell_type": "code",
   "execution_count": 253,
   "id": "accepted-torture",
   "metadata": {},
   "outputs": [
    {
     "data": {
      "text/plain": [
       "'eata SciencD'"
      ]
     },
     "execution_count": 253,
     "metadata": {},
     "output_type": "execute_result"
    }
   ],
   "source": [
    "string = \"Data Science\"\n",
    "string[0]  # p\n",
    "string[-1] # n\n",
    "string[1:-1] # ytho\n",
    "out_str = string[-1] +  string[1:-1]  + string[0]\n",
    "out_str"
   ]
  },
  {
   "cell_type": "code",
   "execution_count": 259,
   "id": "upset-scene",
   "metadata": {},
   "outputs": [
    {
     "data": {
      "text/plain": [
       "'LAS'"
      ]
     },
     "execution_count": 259,
     "metadata": {},
     "output_type": "execute_result"
    }
   ],
   "source": [
    "s = \"CLASS\"\n",
    "s[1:-1]"
   ]
  },
  {
   "cell_type": "markdown",
   "id": "statewide-accordance",
   "metadata": {},
   "source": [
    "# String Casting"
   ]
  },
  {
   "cell_type": "code",
   "execution_count": null,
   "id": "animal-mapping",
   "metadata": {},
   "outputs": [],
   "source": [
    "string = 'Python'"
   ]
  },
  {
   "cell_type": "code",
   "execution_count": 261,
   "id": "canadian-knock",
   "metadata": {},
   "outputs": [
    {
     "name": "stdout",
     "output_type": "stream",
     "text": [
      "Data\n"
     ]
    }
   ],
   "source": [
    "string = input()"
   ]
  },
  {
   "cell_type": "code",
   "execution_count": 263,
   "id": "latin-green",
   "metadata": {},
   "outputs": [
    {
     "name": "stdout",
     "output_type": "stream",
     "text": [
      "Enter value of str1:Machine Learning\n",
      "Machine Learning\n"
     ]
    }
   ],
   "source": [
    "str1 = input(\"Enter value of str1:\")\n",
    "print(str1)  # Data type of str1 variable will always be STRING"
   ]
  },
  {
   "cell_type": "code",
   "execution_count": 265,
   "id": "intended-chosen",
   "metadata": {},
   "outputs": [
    {
     "name": "stdout",
     "output_type": "stream",
     "text": [
      "Enter the value of a:10\n"
     ]
    }
   ],
   "source": [
    "a = input(\"Enter the value of a:\")"
   ]
  },
  {
   "cell_type": "code",
   "execution_count": 268,
   "id": "abroad-freight",
   "metadata": {},
   "outputs": [
    {
     "data": {
      "text/plain": [
       "str"
      ]
     },
     "execution_count": 268,
     "metadata": {},
     "output_type": "execute_result"
    }
   ],
   "source": [
    "type(a)"
   ]
  },
  {
   "cell_type": "code",
   "execution_count": 270,
   "id": "double-offering",
   "metadata": {},
   "outputs": [
    {
     "name": "stdout",
     "output_type": "stream",
     "text": [
      "Value of a is 1234 and its dataType is <class 'int'>\n"
     ]
    }
   ],
   "source": [
    "string = \"1234\"\n",
    "a = int(string)\n",
    "print(f\"Value of a is {a} and its dataType is {type(a)}\")"
   ]
  },
  {
   "cell_type": "code",
   "execution_count": 274,
   "id": "republican-france",
   "metadata": {},
   "outputs": [
    {
     "name": "stdout",
     "output_type": "stream",
     "text": [
      "Value of a is 1000 and its dataType is <class 'int'>\n"
     ]
    }
   ],
   "source": [
    "string = \"1000\"\n",
    "a = int(string)\n",
    "print(f\"Value of a is {a} and its dataType is {type(a)}\")"
   ]
  },
  {
   "cell_type": "code",
   "execution_count": 276,
   "id": "finished-franchise",
   "metadata": {},
   "outputs": [
    {
     "name": "stdout",
     "output_type": "stream",
     "text": [
      "Value of a is 1000 and its dataType is <class 'int'>\n"
     ]
    }
   ],
   "source": [
    "string = \"1000 \"\n",
    "a = int(string)\n",
    "print(f\"Value of a is {a} and its dataType is {type(a)}\")"
   ]
  },
  {
   "cell_type": "code",
   "execution_count": 278,
   "id": "figured-charlotte",
   "metadata": {},
   "outputs": [
    {
     "name": "stdout",
     "output_type": "stream",
     "text": [
      "Value of a is 12.45 and its dataType is <class 'float'>\n"
     ]
    }
   ],
   "source": [
    "string = \"12.45\"\n",
    "a = float(string)\n",
    "print(f\"Value of a is {a} and its dataType is {type(a)}\")"
   ]
  },
  {
   "cell_type": "markdown",
   "id": "tired-premises",
   "metadata": {},
   "source": [
    "## 1. string to int"
   ]
  },
  {
   "cell_type": "code",
   "execution_count": 280,
   "id": "smaller-triangle",
   "metadata": {},
   "outputs": [
    {
     "name": "stdout",
     "output_type": "stream",
     "text": [
      "Value of a is 1000 and its dataType is <class 'int'>\n"
     ]
    }
   ],
   "source": [
    "string = \"1000 \"\n",
    "a = int(string)\n",
    "print(f\"Value of a is {a} and its dataType is {type(a)}\")"
   ]
  },
  {
   "cell_type": "code",
   "execution_count": 281,
   "id": "micro-compensation",
   "metadata": {},
   "outputs": [
    {
     "name": "stdout",
     "output_type": "stream",
     "text": [
      "Value of a is 1345 and its dataType is <class 'int'>\n"
     ]
    }
   ],
   "source": [
    "string = \"1345\"\n",
    "a = int(string)\n",
    "print(f\"Value of a is {a} and its dataType is {type(a)}\")"
   ]
  },
  {
   "cell_type": "markdown",
   "id": "numerical-entertainment",
   "metadata": {},
   "source": [
    "## 2. string to float"
   ]
  },
  {
   "cell_type": "code",
   "execution_count": 284,
   "id": "collectible-hamilton",
   "metadata": {},
   "outputs": [
    {
     "name": "stdout",
     "output_type": "stream",
     "text": [
      "Value of a is 23.56 and its dataType is <class 'float'>\n"
     ]
    }
   ],
   "source": [
    "string = \"23.56\"\n",
    "a = float(string)\n",
    "print(f\"Value of a is {a} and its dataType is {type(a)}\")"
   ]
  },
  {
   "cell_type": "markdown",
   "id": "random-circus",
   "metadata": {},
   "source": [
    "## 3. int to string"
   ]
  },
  {
   "cell_type": "code",
   "execution_count": 288,
   "id": "annual-gardening",
   "metadata": {},
   "outputs": [
    {
     "name": "stdout",
     "output_type": "stream",
     "text": [
      "Value of a is 100 and its dataType is <class 'str'>\n"
     ]
    }
   ],
   "source": [
    "a = 100\n",
    "a = str(a)\n",
    "print(f\"Value of a is {a} and its dataType is {type(a)}\")"
   ]
  },
  {
   "cell_type": "markdown",
   "id": "lonely-wrestling",
   "metadata": {},
   "source": [
    "## 4. float to string"
   ]
  },
  {
   "cell_type": "code",
   "execution_count": 290,
   "id": "dramatic-trunk",
   "metadata": {},
   "outputs": [
    {
     "name": "stdout",
     "output_type": "stream",
     "text": [
      "Value of a is 100.56 and its dataType is <class 'str'>\n"
     ]
    }
   ],
   "source": [
    "a = 100.56\n",
    "a = str(a)\n",
    "print(f\"Value of a is {a} and its dataType is {type(a)}\")"
   ]
  },
  {
   "cell_type": "code",
   "execution_count": 292,
   "id": "laden-extreme",
   "metadata": {},
   "outputs": [
    {
     "name": "stdout",
     "output_type": "stream",
     "text": [
      "Enter Value of x10\n",
      "Enter value of y20\n",
      "10 20\n",
      "Addition of 10 and 20  is 1020\n"
     ]
    }
   ],
   "source": [
    "x = input(\"Enter Value of x\")  # 10\n",
    "y = input(\"Enter value of y\")  # 20\n",
    "print(x, y)  # \"10\" , \"20\"\n",
    "\n",
    "add = x + y  # \"1020\"\n",
    "print(f\"Addition of {x} and {y}  is {add}\")"
   ]
  },
  {
   "cell_type": "code",
   "execution_count": 294,
   "id": "raised-ecology",
   "metadata": {},
   "outputs": [
    {
     "name": "stdout",
     "output_type": "stream",
     "text": [
      "Enter Value of x10\n",
      "Enter value of y20\n",
      "10 20\n",
      "Addition of 10 and 20  is 30\n"
     ]
    }
   ],
   "source": [
    "x = int(input(\"Enter Value of x\"))  # 10\n",
    "y = int(input(\"Enter value of y\"))  # 20\n",
    "print(x, y)  # 10 , 20\n",
    "\n",
    "add = x + y\n",
    "print(f\"Addition of {x} and {y}  is {add}\")"
   ]
  },
  {
   "cell_type": "code",
   "execution_count": 295,
   "id": "material-extraction",
   "metadata": {},
   "outputs": [
    {
     "name": "stdout",
     "output_type": "stream",
     "text": [
      "Enter Value of x10\n",
      "Enter value of y20\n",
      "10.0 20\n",
      "Addition of 10.0 and 20  is 30.0\n"
     ]
    }
   ],
   "source": [
    "x = float(input(\"Enter Value of x\"))  # 10\n",
    "y = int(input(\"Enter value of y\"))  # 20\n",
    "print(x, y)  # 10 , 20\n",
    "\n",
    "add = x + y\n",
    "print(f\"Addition of {x} and {y}  is {add}\")"
   ]
  },
  {
   "cell_type": "code",
   "execution_count": 297,
   "id": "basic-chocolate",
   "metadata": {},
   "outputs": [
    {
     "name": "stdout",
     "output_type": "stream",
     "text": [
      "Enter Value of x : 10\n",
      "Enter value of y20\n",
      "10.0 20\n",
      "Addition of 10.0 and 20  is 30.0\n"
     ]
    }
   ],
   "source": [
    "x = float(input(\"Enter Value of x : \"))  # 10\n",
    "y = int(input(\"Enter value of y\"))  # 20\n",
    "print(x, y)  # 10 , 20\n",
    "\n",
    "add = x + y\n",
    "print(f\"Addition of {x} and {y}  is {add}\")"
   ]
  }
 ],
 "metadata": {
  "kernelspec": {
   "display_name": "Python 3",
   "language": "python",
   "name": "python3"
  },
  "language_info": {
   "codemirror_mode": {
    "name": "ipython",
    "version": 3
   },
   "file_extension": ".py",
   "mimetype": "text/x-python",
   "name": "python",
   "nbconvert_exporter": "python",
   "pygments_lexer": "ipython3",
   "version": "3.8.7"
  }
 },
 "nbformat": 4,
 "nbformat_minor": 5
}
