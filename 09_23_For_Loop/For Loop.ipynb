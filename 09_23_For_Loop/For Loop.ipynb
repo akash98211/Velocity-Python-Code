{
 "cells": [
  {
   "cell_type": "markdown",
   "id": "varied-surprise",
   "metadata": {},
   "source": [
    "# For Loop"
   ]
  },
  {
   "cell_type": "raw",
   "id": "environmental-sequence",
   "metadata": {},
   "source": [
    "for var_name in sequences: # list,str,set,tuple,dcit,range\n",
    "    print(var_name)"
   ]
  },
  {
   "cell_type": "raw",
   "id": "included-mexican",
   "metadata": {},
   "source": [
    "for index,value in enumerate(sequences): # list,str,set,tuple,dcit,range\n",
    "    print(index,value)"
   ]
  },
  {
   "cell_type": "markdown",
   "id": "beginning-upper",
   "metadata": {},
   "source": [
    "# Break Statement"
   ]
  },
  {
   "cell_type": "code",
   "execution_count": null,
   "id": "pointed-series",
   "metadata": {},
   "outputs": [],
   "source": [
    "To exit the for loop\n",
    "It will stop further line of code and iterations"
   ]
  },
  {
   "cell_type": "code",
   "execution_count": 9,
   "id": "muslim-correlation",
   "metadata": {},
   "outputs": [
    {
     "name": "stdout",
     "output_type": "stream",
     "text": [
      "1\n",
      "2\n",
      "3\n",
      "4\n",
      "5\n",
      "Value found\n",
      "Hello\n"
     ]
    }
   ],
   "source": [
    "for i in range(1,11): # i = 5\n",
    "    print(i)\n",
    "    if i == 5: # True\n",
    "        print(\"Value found\")\n",
    "        print(\"Hello\")\n",
    "        break"
   ]
  },
  {
   "cell_type": "code",
   "execution_count": 13,
   "id": "legal-wagon",
   "metadata": {},
   "outputs": [
    {
     "name": "stdout",
     "output_type": "stream",
     "text": [
      "2\n",
      "4\n",
      "5\n",
      "6\n",
      "python\n",
      "String found in list\n",
      "7\n",
      "8\n",
      "10\n",
      "class\n",
      "String found in list\n"
     ]
    }
   ],
   "source": [
    "list1 = [2,4,5,6,'python',7,8,10,'class']\n",
    "for item in list1:\n",
    "    print(item)\n",
    "    if type(item) == str:\n",
    "        print(\"String found in list\")"
   ]
  },
  {
   "cell_type": "code",
   "execution_count": 15,
   "id": "unique-limitation",
   "metadata": {},
   "outputs": [
    {
     "name": "stdout",
     "output_type": "stream",
     "text": [
      "2\n",
      "4\n",
      "5\n",
      "6\n",
      "python\n",
      "String found in list\n"
     ]
    }
   ],
   "source": [
    "list1 = [2,4,5,6,'python',7,8,10,'class']\n",
    "for item in list1:\n",
    "    print(item)\n",
    "    if type(item) == str:\n",
    "        print(\"String found in list\")\n",
    "        break"
   ]
  },
  {
   "cell_type": "code",
   "execution_count": 25,
   "id": "sustained-latest",
   "metadata": {},
   "outputs": [
    {
     "name": "stdout",
     "output_type": "stream",
     "text": [
      "Hello\n",
      "Hello\n",
      "Hello\n",
      "Hello\n",
      "item >>  python\n",
      "String found in list\n"
     ]
    }
   ],
   "source": [
    "list1 = [2,4,5,6,'python',7,8,10,'class']\n",
    "\n",
    "\n",
    "for item in list1:\n",
    "    \n",
    "    if type(item) == str: # False\n",
    "        print('item >> ',item)\n",
    "        print(\"String found in list\")\n",
    "        break\n",
    "        \n",
    "    print(\"Hello\")"
   ]
  },
  {
   "cell_type": "code",
   "execution_count": 29,
   "id": "brief-excellence",
   "metadata": {},
   "outputs": [
    {
     "name": "stdout",
     "output_type": "stream",
     "text": [
      "item >>  2\n",
      "Hello\n",
      "We are testing break statement\n"
     ]
    }
   ],
   "source": [
    "list1 = [2,4,5,6,'python',7,8,10,'class']\n",
    "\n",
    "\n",
    "for item in list1:\n",
    "    print('item >> ',item)\n",
    "    if type(item) == str: # False\n",
    "        print(\"String found in list\")\n",
    "        \n",
    "    print(\"Hello\")\n",
    "    break\n",
    "    \n",
    "print(\"We are testing break statement\")"
   ]
  },
  {
   "cell_type": "code",
   "execution_count": 35,
   "id": "portuguese-presentation",
   "metadata": {},
   "outputs": [
    {
     "name": "stdout",
     "output_type": "stream",
     "text": [
      "0\n",
      "1\n",
      "2\n",
      "3\n"
     ]
    }
   ],
   "source": [
    "for i in range(4):\n",
    "    print(i)\n",
    "    pass"
   ]
  },
  {
   "cell_type": "markdown",
   "id": "special-planning",
   "metadata": {},
   "source": [
    "# 2. continue Statement"
   ]
  },
  {
   "cell_type": "raw",
   "id": "varied-thing",
   "metadata": {},
   "source": [
    "To stop current iteration, and continue with next iteration"
   ]
  },
  {
   "cell_type": "code",
   "execution_count": 40,
   "id": "possible-dialogue",
   "metadata": {},
   "outputs": [
    {
     "name": "stdout",
     "output_type": "stream",
     "text": [
      "Number is :  10\n",
      "We are testing Break statement\n",
      "Number is :  11\n",
      "We are testing Break statement\n",
      "Number is :  12\n",
      "Required number found\n"
     ]
    }
   ],
   "source": [
    "for num in range(10,15):\n",
    "    print(\"Number is : \",num)\n",
    "    if num == 12: # True\n",
    "        print(\"Required number found\")\n",
    "        break\n",
    "        \n",
    "    print(\"We are testing Break statement\")"
   ]
  },
  {
   "cell_type": "code",
   "execution_count": 44,
   "id": "extended-bradley",
   "metadata": {},
   "outputs": [
    {
     "name": "stdout",
     "output_type": "stream",
     "text": [
      "Number is :  10\n",
      "We are testing continue statement\n",
      "Number is :  11\n",
      "We are testing continue statement\n",
      "Number is :  12\n",
      "Required number found\n",
      "*************\n",
      "Number is :  13\n",
      "We are testing continue statement\n",
      "Number is :  14\n",
      "We are testing continue statement\n"
     ]
    }
   ],
   "source": [
    "for num in range(10,15): # num = 13\n",
    "    print(\"Number is : \",num)\n",
    "    if num == 12: # True\n",
    "        print(\"Required number found\")\n",
    "        print(\"*************\")\n",
    "        continue  # It will stop current iteration\n",
    "        \n",
    "    print(\"We are testing continue statement\")"
   ]
  },
  {
   "cell_type": "code",
   "execution_count": 50,
   "id": "dying-transmission",
   "metadata": {},
   "outputs": [
    {
     "name": "stdout",
     "output_type": "stream",
     "text": [
      "Integer list is : [3, 4, 5, 6, 7, 10, 20] 7\n",
      "Float List is : [10.23, 34.56] 2\n",
      "String List is : ['python', 'pune', 'Mumbai'] 3\n"
     ]
    }
   ],
   "source": [
    "list1 = [3,4,5,6,7,'python','pune',10.23,34.56,'Mumbai',10,20]\n",
    "\n",
    "int_list = []\n",
    "float_list = []\n",
    "str_list = []\n",
    "\n",
    "for val in list1:\n",
    "#     print(val)\n",
    "    if type(val) == int:\n",
    "        int_list.append(val)\n",
    "        pass\n",
    "        \n",
    "    elif type(val) ==float:\n",
    "        float_list.append(val)\n",
    "        pass\n",
    "        \n",
    "    else:\n",
    "        str_list.append(val)\n",
    "        pass\n",
    "    \n",
    "print(\"Integer list is :\",int_list,len(int_list))\n",
    "print(\"Float List is :\",float_list,len(float_list))\n",
    "print(\"String List is :\",str_list,len(str_list))"
   ]
  },
  {
   "cell_type": "code",
   "execution_count": 52,
   "id": "lesser-gothic",
   "metadata": {},
   "outputs": [
    {
     "name": "stdout",
     "output_type": "stream",
     "text": [
      "3\n",
      "Integer list is : [3] 1\n",
      "Float List is : [] 0\n",
      "String List is : [] 0\n"
     ]
    }
   ],
   "source": [
    "list1 = [3,4,5,6,7,'python','pune',10.23,34.56,'Mumbai',10,20]\n",
    "\n",
    "int_list = []\n",
    "float_list = []\n",
    "str_list = []\n",
    "\n",
    "for val in list1:\n",
    "    print(val) # 3\n",
    "    if type(val) == int: # True\n",
    "        int_list.append(val)\n",
    "        break\n",
    "        \n",
    "    elif type(val) ==float:\n",
    "        float_list.append(val)\n",
    "        break\n",
    "        \n",
    "    else:\n",
    "        str_list.append(val)\n",
    "        break\n",
    "    \n",
    "print(\"Integer list is :\",int_list,len(int_list))\n",
    "print(\"Float List is :\",float_list,len(float_list))\n",
    "print(\"String List is :\",str_list,len(str_list))"
   ]
  },
  {
   "cell_type": "code",
   "execution_count": 55,
   "id": "guided-grocery",
   "metadata": {},
   "outputs": [
    {
     "name": "stdout",
     "output_type": "stream",
     "text": [
      "Integer list is : [3, 4, 5, 6, 7] 5\n",
      "Float List is : [] 0\n",
      "String List is : ['python'] 1\n"
     ]
    }
   ],
   "source": [
    "list1 = [3,4,5,6,7,'python','pune',10.23,34.56,'Mumbai',10,20]\n",
    "\n",
    "int_list = []\n",
    "float_list = []\n",
    "str_list = []\n",
    "\n",
    "for val in list1:\n",
    "#     print(val) # 'python'\n",
    "    if type(val) == int: # False\n",
    "        int_list.append(val) # intList = [3,4,5,6,7]\n",
    "        continue\n",
    "        \n",
    "    elif type(val) == float: # False\n",
    "        float_list.append(val)\n",
    "        break\n",
    "        \n",
    "    else:\n",
    "        str_list.append(val) # str_list = ['python']\n",
    "        break\n",
    "    \n",
    "print(\"Integer list is :\",int_list,len(int_list))  # 5\n",
    "print(\"Float List is :\",float_list,len(float_list)) # 0\n",
    "print(\"String List is :\",str_list,len(str_list)) # 1"
   ]
  },
  {
   "cell_type": "code",
   "execution_count": 57,
   "id": "magnetic-satisfaction",
   "metadata": {},
   "outputs": [
    {
     "name": "stdout",
     "output_type": "stream",
     "text": [
      "Integer list is : [3, 4, 5, 6, 7] 5\n",
      "Float List is : [10.23] 1\n",
      "String List is : ['python', 'pune'] 2\n"
     ]
    }
   ],
   "source": [
    "list1 = [3,4,5,6,7,'python','pune',10.23,34.56,'Mumbai',10,20]\n",
    "\n",
    "int_list = []\n",
    "float_list = []\n",
    "str_list = []\n",
    "\n",
    "for val in list1:\n",
    "#     print(val) # 10.23\n",
    "\n",
    "    if type(val) == int: # False\n",
    "        int_list.append(val) # intList = [3,4,5,6,7]\n",
    "        continue\n",
    "        \n",
    "    elif type(val) == float: # True\n",
    "        float_list.append(val)  # float_list = [10.23]\n",
    "        break\n",
    "        \n",
    "    else:\n",
    "        str_list.append(val) # str_list = ['python','pune']\n",
    "        continue\n",
    "    \n",
    "print(\"Integer list is :\",int_list,len(int_list))  # 5\n",
    "print(\"Float List is :\",float_list,len(float_list)) # 1\n",
    "print(\"String List is :\",str_list,len(str_list)) # 2"
   ]
  },
  {
   "cell_type": "markdown",
   "id": "technical-swiss",
   "metadata": {},
   "source": [
    "# For-Else"
   ]
  },
  {
   "cell_type": "raw",
   "id": "polished-tradition",
   "metadata": {},
   "source": [
    "It will execute only when the loop completes its all iterations\n"
   ]
  },
  {
   "cell_type": "code",
   "execution_count": 60,
   "id": "understood-traveler",
   "metadata": {},
   "outputs": [
    {
     "name": "stdout",
     "output_type": "stream",
     "text": [
      "Value of i == 0\n",
      "Value of i == 1\n",
      "Value of i == 2\n",
      "Value of i == 3\n",
      "Value of i == 4\n",
      "For loop completed\n"
     ]
    }
   ],
   "source": [
    "for i in range(5): # 5 iteration\n",
    "    print(f'Value of i == {i}')\n",
    "\n",
    "else:\n",
    "    print(\"For loop completed\")"
   ]
  },
  {
   "cell_type": "code",
   "execution_count": 62,
   "id": "still-hampton",
   "metadata": {},
   "outputs": [
    {
     "name": "stdout",
     "output_type": "stream",
     "text": [
      "Value of i == 0\n",
      "Value of i == 1\n",
      "Value of i == 2\n",
      "Value of i == 3\n",
      "Value found\n",
      "Value of i == 4\n",
      "For loop completed\n"
     ]
    }
   ],
   "source": [
    "for i in range(5): # 5 iteration\n",
    "    print(f'Value of i == {i}')\n",
    "    if i == 3:\n",
    "        print(\"Value found\")\n",
    "\n",
    "else:\n",
    "    print(\"For loop completed\")"
   ]
  },
  {
   "cell_type": "code",
   "execution_count": 64,
   "id": "cordless-disabled",
   "metadata": {},
   "outputs": [
    {
     "name": "stdout",
     "output_type": "stream",
     "text": [
      "Value of i == 0\n",
      "Value of i == 1\n",
      "Value of i == 2\n",
      "Value of i == 3\n",
      "Value found\n"
     ]
    }
   ],
   "source": [
    "for i in range(5): # 5 iteration\n",
    "    print(f'Value of i == {i}')\n",
    "    if i == 3:\n",
    "        print(\"Value found\")\n",
    "        break\n",
    "\n",
    "else:\n",
    "    print(\"For loop completed\")"
   ]
  },
  {
   "cell_type": "code",
   "execution_count": 66,
   "id": "municipal-textbook",
   "metadata": {},
   "outputs": [
    {
     "name": "stdout",
     "output_type": "stream",
     "text": [
      "Value of i == 0\n",
      "Value of i == 1\n",
      "Value of i == 2\n",
      "Value of i == 3\n",
      "Value of i == 4\n",
      "Value found\n"
     ]
    }
   ],
   "source": [
    "for i in range(5): # 5 iteration\n",
    "    print(f'Value of i == {i}')\n",
    "    if i == 4:\n",
    "        print(\"Value found\")\n",
    "        break\n",
    "\n",
    "else:\n",
    "    print(\"For loop completed\")"
   ]
  },
  {
   "cell_type": "code",
   "execution_count": 68,
   "id": "independent-hardware",
   "metadata": {},
   "outputs": [
    {
     "name": "stdout",
     "output_type": "stream",
     "text": [
      "Value of i == 0\n",
      "Value of i == 1\n",
      "Value of i == 2\n",
      "Value of i == 3\n",
      "Value found\n",
      "Value of i == 4\n",
      "For loop completed\n"
     ]
    }
   ],
   "source": [
    "for i in range(5): # 5 iteration\n",
    "    print(f'Value of i == {i}')\n",
    "    if i == 3:\n",
    "        print(\"Value found\")\n",
    "        continue\n",
    "\n",
    "else:\n",
    "    print(\"For loop completed\")"
   ]
  },
  {
   "cell_type": "code",
   "execution_count": 72,
   "id": "stretch-maryland",
   "metadata": {},
   "outputs": [
    {
     "name": "stdout",
     "output_type": "stream",
     "text": [
      "P\n",
      "y\n",
      "t\n",
      "h\n",
      "o\n",
      "n\n",
      "For Loop Completed\n"
     ]
    }
   ],
   "source": [
    "string = 'Python'\n",
    "for char in string:\n",
    "    print(char)\n",
    "    \n",
    "else:\n",
    "    print(\"For Loop Completed\")\n",
    "    "
   ]
  },
  {
   "cell_type": "code",
   "execution_count": 74,
   "id": "natural-coupon",
   "metadata": {},
   "outputs": [
    {
     "name": "stdout",
     "output_type": "stream",
     "text": [
      "P\n",
      "y\n",
      "t\n",
      "h\n"
     ]
    }
   ],
   "source": [
    "string = 'Python'\n",
    "for char in string:\n",
    "    print(char)\n",
    "    if char == 'h':\n",
    "        break\n",
    "    \n",
    "else:\n",
    "    print(\"For Loop Completed\")\n",
    "    "
   ]
  },
  {
   "cell_type": "code",
   "execution_count": 75,
   "id": "impressed-shooting",
   "metadata": {},
   "outputs": [
    {
     "name": "stdout",
     "output_type": "stream",
     "text": [
      "P\n",
      "y\n",
      "t\n",
      "h\n",
      "o\n",
      "n\n",
      "For Loop Completed\n"
     ]
    }
   ],
   "source": [
    "string = 'Python'\n",
    "for char in string:\n",
    "    print(char)\n",
    "    if char == 'h':\n",
    "        continue\n",
    "    \n",
    "else:\n",
    "    print(\"For Loop Completed\")\n",
    "    "
   ]
  },
  {
   "cell_type": "markdown",
   "id": "mediterranean-frame",
   "metadata": {},
   "source": [
    "# Factorial of Number"
   ]
  },
  {
   "cell_type": "raw",
   "id": "alike-bunny",
   "metadata": {},
   "source": [
    "5! >> 5 * 4 * 3 * 2 * 1\n",
    "4! >> 4 * 3 * 2 * 1\n",
    "3! >> 3 * 2 * 1\n",
    "1! >> 1\n",
    "0! >> 1"
   ]
  },
  {
   "cell_type": "code",
   "execution_count": 81,
   "id": "earned-manitoba",
   "metadata": {},
   "outputs": [
    {
     "name": "stdout",
     "output_type": "stream",
     "text": [
      "Factorial of 5 is 120\n"
     ]
    }
   ],
   "source": [
    "n = 5\n",
    "fact = 1\n",
    "for i in range(1,n+1): # i = 5\n",
    "    fact = fact * i    # fact = 24 * 5 = 120\n",
    "    \n",
    "else:\n",
    "    print(f\"Factorial of {n} is {fact}\")"
   ]
  },
  {
   "cell_type": "code",
   "execution_count": 83,
   "id": "excited-xerox",
   "metadata": {},
   "outputs": [
    {
     "name": "stdout",
     "output_type": "stream",
     "text": [
      "Factorial of 4 is 24\n"
     ]
    }
   ],
   "source": [
    "n = 4\n",
    "fact = 1\n",
    "for i in range(1,n+1):\n",
    "    fact = fact * i\n",
    "    \n",
    "print(f\"Factorial of {n} is {fact}\")"
   ]
  },
  {
   "cell_type": "code",
   "execution_count": 84,
   "id": "latter-cassette",
   "metadata": {},
   "outputs": [
    {
     "name": "stdout",
     "output_type": "stream",
     "text": [
      "Enter Value of n : 6\n",
      "Factorial of 6 is 720\n"
     ]
    }
   ],
   "source": [
    "n = int(input('Enter Value of n : '))\n",
    "fact = 1\n",
    "for i in range(1,n+1):\n",
    "    fact = fact * i\n",
    "    \n",
    "print(f\"Factorial of {n} is {fact}\")"
   ]
  },
  {
   "cell_type": "code",
   "execution_count": 85,
   "id": "mechanical-indie",
   "metadata": {},
   "outputs": [
    {
     "name": "stdout",
     "output_type": "stream",
     "text": [
      "Enter Value of n : 5\n",
      "Factorial of 5 is 120\n"
     ]
    }
   ],
   "source": [
    "n = int(input('Enter Value of n : '))\n",
    "fact = 1\n",
    "for i in range(1,n+1):\n",
    "    fact = fact * i\n",
    "    \n",
    "print(f\"Factorial of {n} is {fact}\")"
   ]
  },
  {
   "cell_type": "code",
   "execution_count": 86,
   "id": "utility-privacy",
   "metadata": {},
   "outputs": [
    {
     "name": "stdout",
     "output_type": "stream",
     "text": [
      "Enter Value of n : 10\n",
      "Factorial of 10 is 3628800\n"
     ]
    }
   ],
   "source": [
    "n = int(input('Enter Value of n : '))\n",
    "fact = 1\n",
    "for i in range(1,n+1):\n",
    "    fact = fact * i\n",
    "    \n",
    "print(f\"Factorial of {n} is {fact}\")"
   ]
  },
  {
   "cell_type": "code",
   "execution_count": 87,
   "id": "imported-lighting",
   "metadata": {},
   "outputs": [
    {
     "name": "stdout",
     "output_type": "stream",
     "text": [
      "Enter Value of n : 0\n",
      "Factorial of 0 is 1\n"
     ]
    }
   ],
   "source": [
    "n = int(input('Enter Value of n : '))\n",
    "fact = 1\n",
    "for i in range(1,n+1): # range(1,1)\n",
    "    fact = fact * i\n",
    "    \n",
    "print(f\"Factorial of {n} is {fact}\")"
   ]
  },
  {
   "cell_type": "code",
   "execution_count": 88,
   "id": "intense-explorer",
   "metadata": {},
   "outputs": [
    {
     "name": "stdout",
     "output_type": "stream",
     "text": [
      "Enter Value of n : -4\n",
      "Factorial does not exist\n"
     ]
    }
   ],
   "source": [
    "n = int(input('Enter Value of n : '))\n",
    "fact = 1\n",
    "if n < 0:\n",
    "    print(\"Factorial does not exist\")\n",
    "else:\n",
    "    for i in range(1,n+1):\n",
    "        fact = fact * i\n",
    "    \n",
    "    print(f\"Factorial of {n} is {fact}\")"
   ]
  },
  {
   "cell_type": "code",
   "execution_count": 92,
   "id": "innocent-bunch",
   "metadata": {},
   "outputs": [
    {
     "name": "stdout",
     "output_type": "stream",
     "text": [
      "Enter Value of n : 5\n",
      "Factorial of 5 is 120\n"
     ]
    }
   ],
   "source": [
    "n = int(input('Enter Value of n : '))\n",
    "fact = 1\n",
    "if n < 0:\n",
    "    print(\"Factorial does not exist\")\n",
    "else:\n",
    "    for i in range(1,n+1):\n",
    "        fact = fact * i\n",
    "    print(f\"Factorial of {n} is {fact}\")"
   ]
  },
  {
   "cell_type": "markdown",
   "id": "adverse-statement",
   "metadata": {},
   "source": [
    "# WAP to check prime of not"
   ]
  },
  {
   "cell_type": "code",
   "execution_count": null,
   "id": "statutory-workplace",
   "metadata": {},
   "outputs": [],
   "source": [
    "Prime Number >> If number is divisible by 1 and itself"
   ]
  },
  {
   "cell_type": "code",
   "execution_count": 94,
   "id": "trying-terrorism",
   "metadata": {},
   "outputs": [
    {
     "name": "stdout",
     "output_type": "stream",
     "text": [
      "11 is prime Number\n",
      "11 is prime Number\n",
      "11 is prime Number\n",
      "11 is prime Number\n",
      "11 is prime Number\n",
      "11 is prime Number\n",
      "11 is prime Number\n",
      "11 is prime Number\n",
      "11 is prime Number\n"
     ]
    }
   ],
   "source": [
    "n = 11\n",
    "\n",
    "for i in range(2,n):\n",
    "    if n % i == 0:\n",
    "        print(f\"{n} is not prime Number\")\n",
    "  \n",
    "    else:\n",
    "        print(f\"{n} is prime Number\")\n",
    "        "
   ]
  },
  {
   "cell_type": "code",
   "execution_count": 100,
   "id": "renewable-ballot",
   "metadata": {},
   "outputs": [
    {
     "name": "stdout",
     "output_type": "stream",
     "text": [
      "13 is prime Number\n"
     ]
    }
   ],
   "source": [
    "n = 13\n",
    "for i in range(2,n):\n",
    "    if n % i == 0:\n",
    "        print(f\"{n} is not prime Number\")\n",
    "  \n",
    "    else:\n",
    "        print(f\"{n} is prime Number\")\n",
    "        break\n",
    "        "
   ]
  },
  {
   "cell_type": "code",
   "execution_count": 107,
   "id": "north-sleeve",
   "metadata": {},
   "outputs": [
    {
     "name": "stdout",
     "output_type": "stream",
     "text": [
      "115 is prime Number\n"
     ]
    }
   ],
   "source": [
    "n = 115\n",
    "for i in range(2,n):\n",
    "    if n % i == 0: # True\n",
    "        print(f\"{n} is not prime Number\")\n",
    "        break\n",
    "  \n",
    "    else:\n",
    "        print(f\"{n} is prime Number\")\n",
    "        break\n",
    "        "
   ]
  },
  {
   "cell_type": "code",
   "execution_count": 119,
   "id": "incoming-settlement",
   "metadata": {},
   "outputs": [
    {
     "name": "stdout",
     "output_type": "stream",
     "text": [
      "2 is prime Number\n"
     ]
    }
   ],
   "source": [
    "n = 2\n",
    "\n",
    "for i in range(2,n): \n",
    "    if n % i == 0: #17% 16 = 1\n",
    "        print(f\"{n} is not prime Number\")\n",
    "        break\n",
    "  \n",
    "else:\n",
    "    print(f\"{n} is prime Number\")\n",
    "\n",
    "        "
   ]
  },
  {
   "cell_type": "code",
   "execution_count": 125,
   "id": "bright-treasury",
   "metadata": {},
   "outputs": [
    {
     "name": "stdout",
     "output_type": "stream",
     "text": [
      "123 is not prime Number\n"
     ]
    }
   ],
   "source": [
    "n = 123\n",
    "\n",
    "if n < 2:\n",
    "    pass\n",
    "else:\n",
    "    for i in range(2,n): \n",
    "        if n % i == 0: #123 % 3 = 0\n",
    "            print(f\"{n} is not prime Number\")\n",
    "            break\n",
    "\n",
    "    else:\n",
    "        print(f\"{n} is prime Number\")"
   ]
  },
  {
   "cell_type": "code",
   "execution_count": null,
   "id": "persistent-crystal",
   "metadata": {},
   "outputs": [],
   "source": []
  }
 ],
 "metadata": {
  "kernelspec": {
   "display_name": "Python 3 (ipykernel)",
   "language": "python",
   "name": "python3"
  },
  "language_info": {
   "codemirror_mode": {
    "name": "ipython",
    "version": 3
   },
   "file_extension": ".py",
   "mimetype": "text/x-python",
   "name": "python",
   "nbconvert_exporter": "python",
   "pygments_lexer": "ipython3",
   "version": "3.9.1"
  }
 },
 "nbformat": 4,
 "nbformat_minor": 5
}
