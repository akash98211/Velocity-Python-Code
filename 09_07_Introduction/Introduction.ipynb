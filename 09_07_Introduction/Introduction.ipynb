{
 "cells": [
  {
   "cell_type": "code",
   "execution_count": 49,
   "id": "challenging-saver",
   "metadata": {},
   "outputs": [
    {
     "name": "stdout",
     "output_type": "stream",
     "text": [
      "Welcome to Velocity Class\n",
      "Hello World\n",
      "Testing Cell exucution\n"
     ]
    }
   ],
   "source": [
    "print(\"Welcome to Velocity Class\")\n",
    "print(\"Hello World\")\n"
   ]
  },
  {
   "cell_type": "code",
   "execution_count": 50,
   "id": "physical-dialogue",
   "metadata": {},
   "outputs": [
    {
     "name": "stdout",
     "output_type": "stream",
     "text": [
      "Testing Cell exucution\n"
     ]
    }
   ],
   "source": [
    "print('Testing Cell exucution')\n",
    "x = 100"
   ]
  },
  {
   "cell_type": "raw",
   "id": "olympic-paraguay",
   "metadata": {},
   "source": [
    "control + Enter >> To Run Current Cell\n",
    "shift   + Enter >> Executes Current cell and Go to next cell\n",
    "Alt     + Enter >> Exucutes Current cell and create blank cell"
   ]
  },
  {
   "cell_type": "markdown",
   "id": "forbidden-phenomenon",
   "metadata": {},
   "source": [
    "# Python Introduction"
   ]
  },
  {
   "cell_type": "markdown",
   "id": "other-appendix",
   "metadata": {},
   "source": [
    "### 1. Variables"
   ]
  },
  {
   "cell_type": "code",
   "execution_count": 53,
   "id": "corporate-anniversary",
   "metadata": {},
   "outputs": [
    {
     "name": "stdout",
     "output_type": "stream",
     "text": [
      "Variables\n"
     ]
    }
   ],
   "source": [
    "print('Variables')"
   ]
  },
  {
   "cell_type": "markdown",
   "id": "coordinated-revolution",
   "metadata": {},
   "source": [
    "### 2. string"
   ]
  },
  {
   "cell_type": "code",
   "execution_count": 54,
   "id": "julian-turner",
   "metadata": {},
   "outputs": [
    {
     "name": "stdout",
     "output_type": "stream",
     "text": [
      "string\n"
     ]
    }
   ],
   "source": [
    "print('string')"
   ]
  },
  {
   "cell_type": "markdown",
   "id": "sound-declaration",
   "metadata": {},
   "source": [
    "# comments in Python"
   ]
  },
  {
   "cell_type": "raw",
   "id": "victorian-touch",
   "metadata": {},
   "source": [
    "1. #  >> To comment the code\n",
    "2. control + /  >> single line or multiple line comments\n",
    "3. Triple quotes"
   ]
  },
  {
   "cell_type": "code",
   "execution_count": 57,
   "id": "inappropriate-superintendent",
   "metadata": {},
   "outputs": [
    {
     "name": "stdout",
     "output_type": "stream",
     "text": [
      "Testing comments in python\n",
      "I want to comment this line\n"
     ]
    }
   ],
   "source": [
    "print('Testing comments in python')\n",
    "print(\"I want to comment this line\")"
   ]
  },
  {
   "cell_type": "code",
   "execution_count": 58,
   "id": "international-alcohol",
   "metadata": {},
   "outputs": [
    {
     "name": "stdout",
     "output_type": "stream",
     "text": [
      "Testing comments in python\n"
     ]
    }
   ],
   "source": [
    "print('Testing comments in python')\n",
    "#print(\"I want to comment this line\")"
   ]
  },
  {
   "cell_type": "code",
   "execution_count": 66,
   "id": "attended-wednesday",
   "metadata": {},
   "outputs": [
    {
     "name": "stdout",
     "output_type": "stream",
     "text": [
      "Testing comments in python\n",
      "I want to comment this line\n",
      "Hello\n",
      "Python\n"
     ]
    }
   ],
   "source": [
    "print('Testing comments in python')\n",
    "print(\"I want to comment this line\")\n",
    "print(\"Hello\")\n",
    "print(\"Python\")"
   ]
  },
  {
   "cell_type": "code",
   "execution_count": 70,
   "id": "bibliographic-intake",
   "metadata": {},
   "outputs": [
    {
     "name": "stdout",
     "output_type": "stream",
     "text": [
      "Hello\n",
      "Python\n"
     ]
    }
   ],
   "source": [
    "# print('Testing comments in python')\n",
    "# print(\"I want to comment this line\")\n",
    "print(\"Hello\")\n",
    "print(\"Python\")"
   ]
  },
  {
   "cell_type": "code",
   "execution_count": 74,
   "id": "popular-marriage",
   "metadata": {},
   "outputs": [],
   "source": [
    "a = 100  # value of a is 100\n",
    "b = 200 "
   ]
  },
  {
   "cell_type": "code",
   "execution_count": 73,
   "id": "invisible-withdrawal",
   "metadata": {},
   "outputs": [
    {
     "name": "stdout",
     "output_type": "stream",
     "text": [
      "Addition of a and b is  30\n"
     ]
    }
   ],
   "source": [
    "############## Addition Program ######################\n",
    "def addition():  \n",
    "    a = 10\n",
    "    b = 20\n",
    "    print('Addition of a and b is ',a+b)\n",
    "addition()"
   ]
  },
  {
   "cell_type": "code",
   "execution_count": 76,
   "id": "direct-pocket",
   "metadata": {},
   "outputs": [
    {
     "name": "stdout",
     "output_type": "stream",
     "text": [
      "100\n",
      "200\n"
     ]
    }
   ],
   "source": [
    "print(a)\n",
    "print(b)\n",
    "string = 'Python'"
   ]
  },
  {
   "cell_type": "code",
   "execution_count": 93,
   "id": "indirect-jenny",
   "metadata": {},
   "outputs": [
    {
     "name": "stdout",
     "output_type": "stream",
     "text": [
      "400\n"
     ]
    }
   ],
   "source": [
    "x = 400\n",
    "\n",
    "print(x)"
   ]
  },
  {
   "cell_type": "code",
   "execution_count": 90,
   "id": "adverse-organ",
   "metadata": {},
   "outputs": [
    {
     "name": "stdout",
     "output_type": "stream",
     "text": [
      "300\n"
     ]
    }
   ],
   "source": [
    "x = 300\n",
    "print(x)"
   ]
  },
  {
   "cell_type": "code",
   "execution_count": 92,
   "id": "angry-ireland",
   "metadata": {},
   "outputs": [
    {
     "name": "stdout",
     "output_type": "stream",
     "text": [
      "400\n"
     ]
    }
   ],
   "source": [
    "print(x)"
   ]
  },
  {
   "cell_type": "code",
   "execution_count": 98,
   "id": "flexible-guess",
   "metadata": {},
   "outputs": [
    {
     "name": "stdout",
     "output_type": "stream",
     "text": [
      "100\n",
      "200\n"
     ]
    },
    {
     "data": {
      "text/plain": [
       "200"
      ]
     },
     "execution_count": 98,
     "metadata": {},
     "output_type": "execute_result"
    }
   ],
   "source": [
    "print(a)\n",
    "print(b)\n",
    "b"
   ]
  },
  {
   "cell_type": "code",
   "execution_count": 128,
   "id": "worth-atlanta",
   "metadata": {},
   "outputs": [
    {
     "name": "stdout",
     "output_type": "stream",
     "text": [
      "20\n",
      "30\n"
     ]
    },
    {
     "data": {
      "text/plain": [
       "'Python'"
      ]
     },
     "execution_count": 128,
     "metadata": {},
     "output_type": "execute_result"
    }
   ],
   "source": [
    "a =  20\n",
    "b = 30 \n",
    "print(a)\n",
    "print(b)\n",
    "\n",
    "\"\"\"Machine learning is the study of computer algorithms that can improve\n",
    "automatically through experience and by the use of data. \n",
    "It is seen as a part of artificial intelligence\"\"\"\n",
    "\n",
    "string = \"Python\"\n",
    "string"
   ]
  },
  {
   "cell_type": "code",
   "execution_count": 130,
   "id": "lesbian-kingston",
   "metadata": {},
   "outputs": [
    {
     "name": "stdout",
     "output_type": "stream",
     "text": [
      "20\n",
      "30\n"
     ]
    },
    {
     "data": {
      "text/plain": [
       "'Python'"
      ]
     },
     "execution_count": 130,
     "metadata": {},
     "output_type": "execute_result"
    }
   ],
   "source": [
    "a =  20\n",
    "b = 30 \n",
    "print(a)\n",
    "print(b)\n",
    "\n",
    "\"\"\"Machine learning is the study of computer algorithms that can improve\n",
    "automatically through experience and by the use of data. \n",
    "It is seen as a part of artificial intelligence\"\"\"\n",
    "\n",
    "string = \"Python\"\n",
    "string"
   ]
  },
  {
   "cell_type": "code",
   "execution_count": 133,
   "id": "arbitrary-spell",
   "metadata": {},
   "outputs": [
    {
     "ename": "IndentationError",
     "evalue": "unexpected indent (<ipython-input-133-175dd5326dee>, line 2)",
     "output_type": "error",
     "traceback": [
      "\u001b[1;36m  File \u001b[1;32m\"<ipython-input-133-175dd5326dee>\"\u001b[1;36m, line \u001b[1;32m2\u001b[0m\n\u001b[1;33m    b     =30\u001b[0m\n\u001b[1;37m    ^\u001b[0m\n\u001b[1;31mIndentationError\u001b[0m\u001b[1;31m:\u001b[0m unexpected indent\n"
     ]
    }
   ],
   "source": [
    "a=20\n",
    "b     =30 \n",
    "print(a)\n",
    "print(b)\n",
    "\n",
    "# Machine learning is the study of computer algorithms that can improve\n",
    "# automatically through experience and by the use of data. \n",
    "# It is seen as a part of artificial intelligence\n",
    "\n",
    "string = \"Python\"\n",
    "string"
   ]
  },
  {
   "cell_type": "markdown",
   "id": "convertible-affect",
   "metadata": {},
   "source": [
    "# indentation"
   ]
  },
  {
   "cell_type": "raw",
   "id": "modified-semester",
   "metadata": {},
   "source": [
    "Space at the begining of a code line"
   ]
  },
  {
   "cell_type": "code",
   "execution_count": 103,
   "id": "tough-stream",
   "metadata": {},
   "outputs": [
    {
     "ename": "IndentationError",
     "evalue": "unexpected indent (<ipython-input-103-d9fc8b0bf2ce>, line 2)",
     "output_type": "error",
     "traceback": [
      "\u001b[1;36m  File \u001b[1;32m\"<ipython-input-103-d9fc8b0bf2ce>\"\u001b[1;36m, line \u001b[1;32m2\u001b[0m\n\u001b[1;33m    b = 'Class'\u001b[0m\n\u001b[1;37m    ^\u001b[0m\n\u001b[1;31mIndentationError\u001b[0m\u001b[1;31m:\u001b[0m unexpected indent\n"
     ]
    }
   ],
   "source": [
    "a = 'Python'\n",
    " b = 'Class'"
   ]
  },
  {
   "cell_type": "raw",
   "id": "secure-cowboy",
   "metadata": {},
   "source": [
    "if, elif, else,statement \n",
    "for and while loop\n",
    "try, except"
   ]
  },
  {
   "cell_type": "code",
   "execution_count": 146,
   "id": "interpreted-doubt",
   "metadata": {},
   "outputs": [
    {
     "name": "stdout",
     "output_type": "stream",
     "text": [
      "a is less than b\n",
      "We are in if statement\n",
      "Completed\n"
     ]
    }
   ],
   "source": [
    "a = 100\n",
    "b = 200\n",
    "if a < b :\n",
    "    print(\"a is less than b\")\n",
    "    print(\"We are in if statement\")\n",
    "    \n",
    "else:\n",
    "    print(\"b is less than a\")\n",
    "    \n",
    "print(\"Completed\")"
   ]
  },
  {
   "cell_type": "code",
   "execution_count": 116,
   "id": "ideal-conditioning",
   "metadata": {},
   "outputs": [
    {
     "name": "stdout",
     "output_type": "stream",
     "text": [
      "10\n",
      "Testing for loop\n",
      "11\n",
      "Testing for loop\n",
      "12\n",
      "Testing for loop\n",
      "13\n",
      "Testing for loop\n",
      "14\n",
      "Testing for loop\n"
     ]
    }
   ],
   "source": [
    "for i in range(10,15):\n",
    "    print(i)\n",
    "    print(\"Testing for loop\")"
   ]
  },
  {
   "cell_type": "markdown",
   "id": "least-nation",
   "metadata": {},
   "source": [
    "# Features of Python"
   ]
  },
  {
   "cell_type": "code",
   "execution_count": 136,
   "id": "split-northwest",
   "metadata": {},
   "outputs": [],
   "source": [
    "1. Python is interpreted language(does not require prior compilation)\n",
    "\n",
    "2. Object oriented Language, High level programming\n",
    "\n",
    "3. Simple to debug\n",
    "\n",
    "4. Free and open source\n",
    "\n",
    "5. Vast library support ()\n",
    "\n",
    "6. Dynamically typed language\n",
    "\n",
    "7. Programmer friendly Language (Easy to write, learn and read)"
   ]
  },
  {
   "cell_type": "code",
   "execution_count": null,
   "id": "sporting-brisbane",
   "metadata": {},
   "outputs": [],
   "source": [
    "import os\n",
    "import re\n",
    "import pandas\n",
    "import numpy "
   ]
  },
  {
   "cell_type": "code",
   "execution_count": 150,
   "id": "coated-charm",
   "metadata": {},
   "outputs": [
    {
     "data": {
      "text/plain": [
       "list"
      ]
     },
     "execution_count": 150,
     "metadata": {},
     "output_type": "execute_result"
    }
   ],
   "source": [
    "a = 100\n",
    "b = 10.34\n",
    "type(a) \n",
    "type(b)\n",
    "a = [3,4,5,6]\n",
    "type(a)"
   ]
  }
 ],
 "metadata": {
  "kernelspec": {
   "display_name": "Python 3",
   "language": "python",
   "name": "python3"
  },
  "language_info": {
   "codemirror_mode": {
    "name": "ipython",
    "version": 3
   },
   "file_extension": ".py",
   "mimetype": "text/x-python",
   "name": "python",
   "nbconvert_exporter": "python",
   "pygments_lexer": "ipython3",
   "version": "3.8.7"
  }
 },
 "nbformat": 4,
 "nbformat_minor": 5
}
