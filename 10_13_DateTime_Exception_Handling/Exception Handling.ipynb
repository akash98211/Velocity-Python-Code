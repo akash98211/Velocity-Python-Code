{
 "cells": [
  {
   "cell_type": "code",
   "execution_count": null,
   "id": "facial-silver",
   "metadata": {},
   "outputs": [],
   "source": [
    "Python Stos execution if any errors occured"
   ]
  },
  {
   "cell_type": "code",
   "execution_count": null,
   "id": "stopped-armstrong",
   "metadata": {},
   "outputs": [],
   "source": [
    "1000\n",
    "\n",
    "50 th line "
   ]
  },
  {
   "cell_type": "code",
   "execution_count": 1,
   "id": "piano-destination",
   "metadata": {},
   "outputs": [
    {
     "ename": "AttributeError",
     "evalue": "'tuple' object has no attribute 'append'",
     "output_type": "error",
     "traceback": [
      "\u001b[1;31m---------------------------------------------------------------------------\u001b[0m",
      "\u001b[1;31mAttributeError\u001b[0m                            Traceback (most recent call last)",
      "\u001b[1;32m<ipython-input-1-bf1f5653c4dc>\u001b[0m in \u001b[0;36m<module>\u001b[1;34m\u001b[0m\n\u001b[0;32m      1\u001b[0m \u001b[0ma\u001b[0m \u001b[1;33m=\u001b[0m \u001b[1;33m(\u001b[0m\u001b[1;36m3\u001b[0m\u001b[1;33m,\u001b[0m\u001b[1;36m4\u001b[0m\u001b[1;33m,\u001b[0m\u001b[1;36m5\u001b[0m\u001b[1;33m)\u001b[0m\u001b[1;33m\u001b[0m\u001b[1;33m\u001b[0m\u001b[0m\n\u001b[1;32m----> 2\u001b[1;33m \u001b[0ma\u001b[0m\u001b[1;33m.\u001b[0m\u001b[0mappend\u001b[0m\u001b[1;33m(\u001b[0m\u001b[1;36m10\u001b[0m\u001b[1;33m)\u001b[0m\u001b[1;33m\u001b[0m\u001b[1;33m\u001b[0m\u001b[0m\n\u001b[0m",
      "\u001b[1;31mAttributeError\u001b[0m: 'tuple' object has no attribute 'append'"
     ]
    }
   ],
   "source": [
    "a = (3,4,5)\n",
    "a.append(10)"
   ]
  },
  {
   "cell_type": "code",
   "execution_count": 4,
   "id": "vital-stomach",
   "metadata": {},
   "outputs": [
    {
     "name": "stdout",
     "output_type": "stream",
     "text": [
      "Hello\n"
     ]
    }
   ],
   "source": [
    "print('Hello')"
   ]
  },
  {
   "cell_type": "code",
   "execution_count": 5,
   "id": "excellent-clothing",
   "metadata": {},
   "outputs": [
    {
     "ename": "IndexError",
     "evalue": "list index out of range",
     "output_type": "error",
     "traceback": [
      "\u001b[1;31m---------------------------------------------------------------------------\u001b[0m",
      "\u001b[1;31mIndexError\u001b[0m                                Traceback (most recent call last)",
      "\u001b[1;32m<ipython-input-5-81eff6105b12>\u001b[0m in \u001b[0;36m<module>\u001b[1;34m\u001b[0m\n\u001b[0;32m      1\u001b[0m \u001b[0ml1\u001b[0m \u001b[1;33m=\u001b[0m \u001b[1;33m[\u001b[0m\u001b[1;36m3\u001b[0m\u001b[1;33m,\u001b[0m\u001b[1;36m4\u001b[0m\u001b[1;33m,\u001b[0m\u001b[1;36m5\u001b[0m\u001b[1;33m,\u001b[0m\u001b[1;36m6\u001b[0m\u001b[1;33m]\u001b[0m\u001b[1;33m\u001b[0m\u001b[1;33m\u001b[0m\u001b[0m\n\u001b[1;32m----> 2\u001b[1;33m \u001b[0ml1\u001b[0m\u001b[1;33m[\u001b[0m\u001b[1;36m5\u001b[0m\u001b[1;33m]\u001b[0m\u001b[1;33m\u001b[0m\u001b[1;33m\u001b[0m\u001b[0m\n\u001b[0m",
      "\u001b[1;31mIndexError\u001b[0m: list index out of range"
     ]
    }
   ],
   "source": [
    "l1 = [3,4,5,6]\n",
    "l1[5]"
   ]
  },
  {
   "cell_type": "code",
   "execution_count": 7,
   "id": "enabling-watts",
   "metadata": {},
   "outputs": [
    {
     "ename": "NameError",
     "evalue": "name 'x' is not defined",
     "output_type": "error",
     "traceback": [
      "\u001b[1;31m---------------------------------------------------------------------------\u001b[0m",
      "\u001b[1;31mNameError\u001b[0m                                 Traceback (most recent call last)",
      "\u001b[1;32m<ipython-input-7-fc17d851ef81>\u001b[0m in \u001b[0;36m<module>\u001b[1;34m\u001b[0m\n\u001b[1;32m----> 1\u001b[1;33m \u001b[0mprint\u001b[0m\u001b[1;33m(\u001b[0m\u001b[0mx\u001b[0m\u001b[1;33m)\u001b[0m\u001b[1;33m\u001b[0m\u001b[1;33m\u001b[0m\u001b[0m\n\u001b[0m",
      "\u001b[1;31mNameError\u001b[0m: name 'x' is not defined"
     ]
    }
   ],
   "source": [
    "print(x)"
   ]
  },
  {
   "cell_type": "code",
   "execution_count": 9,
   "id": "ranging-traffic",
   "metadata": {},
   "outputs": [
    {
     "ename": "ZeroDivisionError",
     "evalue": "division by zero",
     "output_type": "error",
     "traceback": [
      "\u001b[1;31m---------------------------------------------------------------------------\u001b[0m",
      "\u001b[1;31mZeroDivisionError\u001b[0m                         Traceback (most recent call last)",
      "\u001b[1;32m<ipython-input-9-f83a26030bd4>\u001b[0m in \u001b[0;36m<module>\u001b[1;34m\u001b[0m\n\u001b[1;32m----> 1\u001b[1;33m \u001b[1;36m20\u001b[0m\u001b[1;33m/\u001b[0m\u001b[1;36m0\u001b[0m\u001b[1;33m\u001b[0m\u001b[1;33m\u001b[0m\u001b[0m\n\u001b[0m",
      "\u001b[1;31mZeroDivisionError\u001b[0m: division by zero"
     ]
    }
   ],
   "source": [
    "20/0"
   ]
  },
  {
   "cell_type": "markdown",
   "id": "linear-mediterranean",
   "metadata": {},
   "source": [
    "# Try-Except "
   ]
  },
  {
   "cell_type": "code",
   "execution_count": null,
   "id": "tender-adolescent",
   "metadata": {},
   "outputs": [],
   "source": [
    "try >> It lets you to test a block of code\n",
    "except >> It handles error\n"
   ]
  },
  {
   "cell_type": "code",
   "execution_count": null,
   "id": "referenced-portrait",
   "metadata": {},
   "outputs": [],
   "source": [
    "syntaxError\n",
    "NameError\n",
    "TypeError\n",
    "ZeroDivisionError\n",
    "AttributeError\n",
    "KeyError\n",
    "IndentationError\n",
    "IndexError\n",
    "FileNotFoundError"
   ]
  },
  {
   "cell_type": "code",
   "execution_count": 10,
   "id": "impressed-regulation",
   "metadata": {},
   "outputs": [
    {
     "name": "stdout",
     "output_type": "stream",
     "text": [
      "This is Try Block\n"
     ]
    }
   ],
   "source": [
    "try : \n",
    "    print('This is Try Block')\n",
    "    \n",
    "except:\n",
    "    print('This is Except block')"
   ]
  },
  {
   "cell_type": "code",
   "execution_count": 15,
   "id": "innocent-aging",
   "metadata": {},
   "outputs": [
    {
     "name": "stdout",
     "output_type": "stream",
     "text": [
      "This is Except block\n"
     ]
    }
   ],
   "source": [
    "try : \n",
    "    l1 = (3,4,5,6)\n",
    "    l1.append(100)\n",
    "    print('This is Try Block')\n",
    "except:\n",
    "    print('This is Except block')"
   ]
  },
  {
   "cell_type": "code",
   "execution_count": 17,
   "id": "going-second",
   "metadata": {},
   "outputs": [
    {
     "name": "stdout",
     "output_type": "stream",
     "text": [
      "Execute when error occured in try block\n",
      "This is Except block\n"
     ]
    }
   ],
   "source": [
    "try : \n",
    "    l1 = (3,4,5,6)\n",
    "    l1.append(100)\n",
    "    print('This is Try Block')\n",
    "except:\n",
    "    print('Execute when error occured in try block')\n",
    "    print('This is Except block')"
   ]
  },
  {
   "cell_type": "code",
   "execution_count": 18,
   "id": "engaged-melissa",
   "metadata": {},
   "outputs": [
    {
     "name": "stdout",
     "output_type": "stream",
     "text": [
      "This is Try Block\n"
     ]
    }
   ],
   "source": [
    "try : \n",
    "    l1 = [3,4,5,6]\n",
    "    l1.append(100)\n",
    "    print('This is Try Block')\n",
    "    \n",
    "except:\n",
    "    print('Execute when error occured in try block')\n",
    "    print('This is Except block')"
   ]
  },
  {
   "cell_type": "code",
   "execution_count": 22,
   "id": "structured-incidence",
   "metadata": {},
   "outputs": [
    {
     "name": "stdout",
     "output_type": "stream",
     "text": [
      "None\n",
      "Execute when error occured in try block\n",
      "This is Except block\n",
      "**************************************************\n"
     ]
    },
    {
     "name": "stderr",
     "output_type": "stream",
     "text": [
      "Traceback (most recent call last):\n",
      "  File \"<ipython-input-22-51f264a44b94>\", line 4, in <module>\n",
      "    l1.append(100)\n",
      "AttributeError: 'tuple' object has no attribute 'append'\n"
     ]
    }
   ],
   "source": [
    "import traceback\n",
    "try : \n",
    "    l1 = (3,4,5,6)\n",
    "    l1.append(100)\n",
    "    print('This is Try Block')\n",
    "    \n",
    "except:\n",
    "    print(traceback.print_exc())\n",
    "    print('Execute when error occured in try block')\n",
    "    print('This is Except block')\n",
    "    \n",
    "print(\"**************************************************\")"
   ]
  },
  {
   "cell_type": "code",
   "execution_count": 25,
   "id": "foreign-participation",
   "metadata": {},
   "outputs": [
    {
     "name": "stdout",
     "output_type": "stream",
     "text": [
      "None\n",
      "Try Block\n"
     ]
    },
    {
     "name": "stderr",
     "output_type": "stream",
     "text": [
      "Traceback (most recent call last):\n",
      "  File \"<ipython-input-25-cb5d3a439a2b>\", line 2, in <module>\n",
      "    f = open('filename.txt','r')\n",
      "FileNotFoundError: [Errno 2] No such file or directory: 'filename.txt'\n"
     ]
    }
   ],
   "source": [
    "try:\n",
    "    f = open('filename.txt','r')\n",
    "    text = f.read()\n",
    "    print(text)\n",
    "    f.close()\n",
    "    \n",
    "except:\n",
    "    \n",
    "    print(traceback.print_exc())\n",
    "    print(\"Try Block\")"
   ]
  },
  {
   "cell_type": "code",
   "execution_count": 27,
   "id": "vocational-lightning",
   "metadata": {},
   "outputs": [
    {
     "name": "stdout",
     "output_type": "stream",
     "text": [
      "File Created\n"
     ]
    }
   ],
   "source": [
    "try:\n",
    "    f = open('filename.txt','w')\n",
    "    f.write('Hello')\n",
    "    f.close()\n",
    "    print('File Created')\n",
    "    \n",
    "except:\n",
    "    print(traceback.print_exc())\n",
    "    print(\"Try Block\")"
   ]
  },
  {
   "cell_type": "code",
   "execution_count": 30,
   "id": "little-judge",
   "metadata": {},
   "outputs": [
    {
     "name": "stdout",
     "output_type": "stream",
     "text": [
      "Except Block\n"
     ]
    }
   ],
   "source": [
    "try:\n",
    "    f = open('filename.txt','x')\n",
    "    f.write('Hello')\n",
    "    f.close()\n",
    "    print('File Created')\n",
    "    \n",
    "except:\n",
    "    f = open('filename.txt','w')\n",
    "    f.write('Python')\n",
    "    f.close()\n",
    "    print(\"Except Block\")"
   ]
  },
  {
   "cell_type": "code",
   "execution_count": 32,
   "id": "established-wilderness",
   "metadata": {},
   "outputs": [
    {
     "name": "stdout",
     "output_type": "stream",
     "text": [
      "File not Found\n",
      "Except Block\n"
     ]
    }
   ],
   "source": [
    "try:\n",
    "    f = open('filename1.txt','r')\n",
    "    text = f.read()\n",
    "    print(text)\n",
    "    f.close()\n",
    "    \n",
    "except:\n",
    "    print('File not Found')\n",
    "    print(\"Except Block\")"
   ]
  },
  {
   "cell_type": "code",
   "execution_count": 34,
   "id": "sharp-bulgaria",
   "metadata": {},
   "outputs": [
    {
     "name": "stdout",
     "output_type": "stream",
     "text": [
      "[Errno 2] No such file or directory: 'filename1.txt'\n",
      "File not Found\n",
      "Except Block\n"
     ]
    }
   ],
   "source": [
    "try:\n",
    "    f = open('filename1.txt','r')\n",
    "    text = f.read()\n",
    "    print(text)\n",
    "    f.close()\n",
    "    \n",
    "except FileNotFoundError as e:\n",
    "    print(e)\n",
    "    print('File not Found')\n",
    "    print(\"Except Block\")"
   ]
  },
  {
   "cell_type": "code",
   "execution_count": 36,
   "id": "advanced-ambassador",
   "metadata": {},
   "outputs": [
    {
     "name": "stdout",
     "output_type": "stream",
     "text": [
      "Python\n"
     ]
    }
   ],
   "source": [
    "try:\n",
    "    f = open('filename.txt','r')\n",
    "    text = f.read()\n",
    "    print(text)\n",
    "    f.close()\n",
    "    \n",
    "except FileNotFoundError as e:\n",
    "    print(e)\n",
    "    print('File not Found')\n",
    "    print(\"Except Block\")"
   ]
  },
  {
   "cell_type": "code",
   "execution_count": 42,
   "id": "atmospheric-adelaide",
   "metadata": {},
   "outputs": [
    {
     "name": "stdout",
     "output_type": "stream",
     "text": [
      "Python\n",
      "None\n",
      "We are in exception\n"
     ]
    },
    {
     "name": "stderr",
     "output_type": "stream",
     "text": [
      "Traceback (most recent call last):\n",
      "  File \"<ipython-input-42-485c84752388>\", line 6, in <module>\n",
      "    print(abc)\n",
      "NameError: name 'abc' is not defined\n"
     ]
    }
   ],
   "source": [
    "try:\n",
    "    f = open('filename.txt','r')\n",
    "    text = f.read()\n",
    "    print(text)\n",
    "    f.close()\n",
    "    print(abc)\n",
    "    \n",
    "except FileNotFoundError as e:\n",
    "    print(e)\n",
    "    print('File not Found')\n",
    "    print(\"Except Block\")\n",
    "    \n",
    "except FileExistsError as e:\n",
    "    print(e)\n",
    "    \n",
    "except:\n",
    "    print(traceback.print_exc())\n",
    "    print('We are in exception')"
   ]
  },
  {
   "cell_type": "markdown",
   "id": "statistical-impossible",
   "metadata": {},
   "source": [
    "# try except else"
   ]
  },
  {
   "cell_type": "code",
   "execution_count": 44,
   "id": "outside-acquisition",
   "metadata": {},
   "outputs": [
    {
     "name": "stdout",
     "output_type": "stream",
     "text": [
      "Try Block\n",
      "Else block\n"
     ]
    }
   ],
   "source": [
    "try:\n",
    "    print(\"Try Block\")\n",
    "    \n",
    "except:\n",
    "    print(\"Except Block\")\n",
    "    \n",
    "else:\n",
    "    print(\"Else block\")"
   ]
  },
  {
   "cell_type": "code",
   "execution_count": 45,
   "id": "intended-surface",
   "metadata": {},
   "outputs": [
    {
     "name": "stdout",
     "output_type": "stream",
     "text": [
      "Try Block\n",
      "Except Block\n"
     ]
    }
   ],
   "source": [
    "try:\n",
    "    print(\"Try Block\")\n",
    "    print(python)\n",
    "    \n",
    "except:\n",
    "    print(\"Except Block\")\n",
    "    \n",
    "else:\n",
    "    print(\"Else block\")"
   ]
  },
  {
   "cell_type": "markdown",
   "id": "hollywood-spencer",
   "metadata": {},
   "source": [
    "# try except finally"
   ]
  },
  {
   "cell_type": "code",
   "execution_count": 47,
   "id": "short-yahoo",
   "metadata": {},
   "outputs": [
    {
     "name": "stdout",
     "output_type": "stream",
     "text": [
      "Try Block\n",
      "Finally block\n"
     ]
    }
   ],
   "source": [
    "try:\n",
    "    print(\"Try Block\")\n",
    "      \n",
    "except:\n",
    "    print(\"Except Block\")\n",
    "\n",
    "f.close()\n",
    "print(\"Finally block\")"
   ]
  },
  {
   "cell_type": "code",
   "execution_count": 49,
   "id": "compact-seventh",
   "metadata": {},
   "outputs": [
    {
     "name": "stdout",
     "output_type": "stream",
     "text": [
      "Try Block\n",
      "Except Block\n",
      "Finally block\n"
     ]
    }
   ],
   "source": [
    "try:\n",
    "    print(\"Try Block\")\n",
    "    print(python)\n",
    "except:\n",
    "    print(\"Except Block\")\n",
    "    \n",
    "finally:\n",
    "    print(\"Finally block\")"
   ]
  },
  {
   "cell_type": "markdown",
   "id": "chief-status",
   "metadata": {},
   "source": [
    "# raise "
   ]
  },
  {
   "cell_type": "raw",
   "id": "convinced-scientist",
   "metadata": {},
   "source": [
    "To raise an exception"
   ]
  },
  {
   "cell_type": "code",
   "execution_count": 51,
   "id": "lesser-candidate",
   "metadata": {},
   "outputs": [
    {
     "name": "stdout",
     "output_type": "stream",
     "text": [
      "Addition of 10 and 20 is 30\n"
     ]
    }
   ],
   "source": [
    "x = 10\n",
    "y = 20\n",
    "\n",
    "if type(x) == int and type(y) == int:\n",
    "    add = x + y\n",
    "    print(f'Addition of {x} and {y} is {add}')\n",
    "    \n"
   ]
  },
  {
   "cell_type": "code",
   "execution_count": 53,
   "id": "arranged-mechanism",
   "metadata": {},
   "outputs": [
    {
     "ename": "TypeError",
     "evalue": "Error Raised",
     "output_type": "error",
     "traceback": [
      "\u001b[1;31m---------------------------------------------------------------------------\u001b[0m",
      "\u001b[1;31mTypeError\u001b[0m                                 Traceback (most recent call last)",
      "\u001b[1;32m<ipython-input-53-a8caecd0fe7d>\u001b[0m in \u001b[0;36m<module>\u001b[1;34m\u001b[0m\n\u001b[0;32m      7\u001b[0m \u001b[1;33m\u001b[0m\u001b[0m\n\u001b[0;32m      8\u001b[0m \u001b[1;32melse\u001b[0m\u001b[1;33m:\u001b[0m\u001b[1;33m\u001b[0m\u001b[1;33m\u001b[0m\u001b[0m\n\u001b[1;32m----> 9\u001b[1;33m     \u001b[1;32mraise\u001b[0m \u001b[0mTypeError\u001b[0m \u001b[1;33m(\u001b[0m\u001b[1;34m'Error Raised'\u001b[0m\u001b[1;33m)\u001b[0m\u001b[1;33m\u001b[0m\u001b[1;33m\u001b[0m\u001b[0m\n\u001b[0m",
      "\u001b[1;31mTypeError\u001b[0m: Error Raised"
     ]
    }
   ],
   "source": [
    "x = 10\n",
    "y = '100'\n",
    "\n",
    "if type(x) == int and type(y) == int: # False\n",
    "    add = x + y\n",
    "    print(f'Addition of {x} and {y} is {add}')\n",
    "    \n",
    "else:\n",
    "    raise TypeError ('Error Raised')"
   ]
  },
  {
   "cell_type": "code",
   "execution_count": 55,
   "id": "outstanding-trash",
   "metadata": {},
   "outputs": [
    {
     "ename": "TypeError",
     "evalue": "10 or python is not an integer",
     "output_type": "error",
     "traceback": [
      "\u001b[1;31m---------------------------------------------------------------------------\u001b[0m",
      "\u001b[1;31mTypeError\u001b[0m                                 Traceback (most recent call last)",
      "\u001b[1;32m<ipython-input-55-b67ea9d36afe>\u001b[0m in \u001b[0;36m<module>\u001b[1;34m\u001b[0m\n\u001b[0;32m      7\u001b[0m \u001b[1;33m\u001b[0m\u001b[0m\n\u001b[0;32m      8\u001b[0m \u001b[1;32melse\u001b[0m\u001b[1;33m:\u001b[0m\u001b[1;33m\u001b[0m\u001b[1;33m\u001b[0m\u001b[0m\n\u001b[1;32m----> 9\u001b[1;33m     \u001b[1;32mraise\u001b[0m \u001b[0mTypeError\u001b[0m \u001b[1;33m(\u001b[0m\u001b[1;34mf'{x} or {y} is not an integer'\u001b[0m\u001b[1;33m)\u001b[0m\u001b[1;33m\u001b[0m\u001b[1;33m\u001b[0m\u001b[0m\n\u001b[0m",
      "\u001b[1;31mTypeError\u001b[0m: 10 or python is not an integer"
     ]
    }
   ],
   "source": [
    "x = 10\n",
    "y = 'python'\n",
    "\n",
    "if type(x) == int and type(y) == int: # False\n",
    "    add = x + y\n",
    "    print(f'Addition of {x} and {y} is {add}')\n",
    "    \n",
    "else:\n",
    "    raise TypeError (f'{x} or {y} is not an integer')"
   ]
  },
  {
   "cell_type": "code",
   "execution_count": 57,
   "id": "mental-superior",
   "metadata": {},
   "outputs": [
    {
     "ename": "FileNotFoundError",
     "evalue": "KNN model not Found",
     "output_type": "error",
     "traceback": [
      "\u001b[1;31m---------------------------------------------------------------------------\u001b[0m",
      "\u001b[1;31mFileNotFoundError\u001b[0m                         Traceback (most recent call last)",
      "\u001b[1;32m<ipython-input-57-e09faab98bdf>\u001b[0m in \u001b[0;36m<module>\u001b[1;34m\u001b[0m\n\u001b[0;32m      2\u001b[0m \u001b[1;33m\u001b[0m\u001b[0m\n\u001b[0;32m      3\u001b[0m \u001b[1;32mif\u001b[0m \u001b[1;32mnot\u001b[0m \u001b[0mmodel\u001b[0m\u001b[1;33m:\u001b[0m\u001b[1;33m\u001b[0m\u001b[1;33m\u001b[0m\u001b[0m\n\u001b[1;32m----> 4\u001b[1;33m     \u001b[1;32mraise\u001b[0m \u001b[0mFileNotFoundError\u001b[0m\u001b[1;33m(\u001b[0m\u001b[1;34m'KNN model not Found'\u001b[0m\u001b[1;33m)\u001b[0m\u001b[1;33m\u001b[0m\u001b[1;33m\u001b[0m\u001b[0m\n\u001b[0m",
      "\u001b[1;31mFileNotFoundError\u001b[0m: KNN model not Found"
     ]
    }
   ],
   "source": [
    "model = []\n",
    "\n",
    "if not model:\n",
    "    raise FileNotFoundError('KNN model not Found')"
   ]
  }
 ],
 "metadata": {
  "kernelspec": {
   "display_name": "Python 3 (ipykernel)",
   "language": "python",
   "name": "python3"
  },
  "language_info": {
   "codemirror_mode": {
    "name": "ipython",
    "version": 3
   },
   "file_extension": ".py",
   "mimetype": "text/x-python",
   "name": "python",
   "nbconvert_exporter": "python",
   "pygments_lexer": "ipython3",
   "version": "3.9.1"
  }
 },
 "nbformat": 4,
 "nbformat_minor": 5
}
